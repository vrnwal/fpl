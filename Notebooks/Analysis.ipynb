{
 "cells": [
  {
   "cell_type": "markdown",
   "metadata": {},
   "source": [
    "# Fantasy Premier League\n",
    "## Analysis and Modelling\n",
    "\n",
    "In this notebook I attempt to analyze FPL data from the 2019-20 season, looking at team performances and player performances. \n",
    "\n",
    "The data has been sourced from the following Github Repo:\n",
    "\n",
    "https://github.com/vaastav/Fantasy-Premier-League\n",
    "\n",
    "The data is largely from the official FPL website, while our other available data is from the football statistics website, understat.\n",
    "\n",
    "I use this data with the objective of identifying what players might be a good pick for the upcoming 2020-21 season."
   ]
  },
  {
   "cell_type": "code",
   "execution_count": 4,
   "metadata": {},
   "outputs": [],
   "source": [
    "import pandas as pd\n",
    "import numpy as np\n",
    "import matplotlib as plt\n",
    "import plotly.express as px\n",
    "import seaborn as sns\n",
    "\n",
    "import warnings\n",
    "warnings.filterwarnings(\"ignore\")\n",
    "\n",
    "import glob"
   ]
  },
  {
   "cell_type": "code",
   "execution_count": 29,
   "metadata": {
    "scrolled": true
   },
   "outputs": [
    {
     "data": {
      "text/html": [
       "<div>\n",
       "<style scoped>\n",
       "    .dataframe tbody tr th:only-of-type {\n",
       "        vertical-align: middle;\n",
       "    }\n",
       "\n",
       "    .dataframe tbody tr th {\n",
       "        vertical-align: top;\n",
       "    }\n",
       "\n",
       "    .dataframe thead th {\n",
       "        text-align: right;\n",
       "    }\n",
       "</style>\n",
       "<table border=\"1\" class=\"dataframe\">\n",
       "  <thead>\n",
       "    <tr style=\"text-align: right;\">\n",
       "      <th></th>\n",
       "      <th>assists</th>\n",
       "      <th>bonus</th>\n",
       "      <th>bps</th>\n",
       "      <th>chance_of_playing_next_round</th>\n",
       "      <th>chance_of_playing_this_round</th>\n",
       "      <th>clean_sheets</th>\n",
       "      <th>code</th>\n",
       "      <th>cost_change_event</th>\n",
       "      <th>cost_change_event_fall</th>\n",
       "      <th>cost_change_start</th>\n",
       "      <th>...</th>\n",
       "      <th>threat_rank_type</th>\n",
       "      <th>total_points</th>\n",
       "      <th>transfers_in</th>\n",
       "      <th>transfers_in_event</th>\n",
       "      <th>transfers_out</th>\n",
       "      <th>transfers_out_event</th>\n",
       "      <th>value_form</th>\n",
       "      <th>value_season</th>\n",
       "      <th>web_name</th>\n",
       "      <th>yellow_cards</th>\n",
       "    </tr>\n",
       "  </thead>\n",
       "  <tbody>\n",
       "    <tr>\n",
       "      <th>0</th>\n",
       "      <td>2</td>\n",
       "      <td>2</td>\n",
       "      <td>242</td>\n",
       "      <td>0</td>\n",
       "      <td>0</td>\n",
       "      <td>4</td>\n",
       "      <td>69140</td>\n",
       "      <td>0</td>\n",
       "      <td>0</td>\n",
       "      <td>-4</td>\n",
       "      <td>...</td>\n",
       "      <td>58</td>\n",
       "      <td>43</td>\n",
       "      <td>25007</td>\n",
       "      <td>0</td>\n",
       "      <td>47630</td>\n",
       "      <td>0</td>\n",
       "      <td>0.3</td>\n",
       "      <td>8.4</td>\n",
       "      <td>Mustafi</td>\n",
       "      <td>2</td>\n",
       "    </tr>\n",
       "    <tr>\n",
       "      <th>1</th>\n",
       "      <td>0</td>\n",
       "      <td>4</td>\n",
       "      <td>204</td>\n",
       "      <td>100</td>\n",
       "      <td>100</td>\n",
       "      <td>4</td>\n",
       "      <td>98745</td>\n",
       "      <td>0</td>\n",
       "      <td>0</td>\n",
       "      <td>-3</td>\n",
       "      <td>...</td>\n",
       "      <td>81</td>\n",
       "      <td>44</td>\n",
       "      <td>206616</td>\n",
       "      <td>0</td>\n",
       "      <td>159819</td>\n",
       "      <td>0</td>\n",
       "      <td>0.3</td>\n",
       "      <td>8.5</td>\n",
       "      <td>Bellerín</td>\n",
       "      <td>2</td>\n",
       "    </tr>\n",
       "    <tr>\n",
       "      <th>2</th>\n",
       "      <td>2</td>\n",
       "      <td>1</td>\n",
       "      <td>331</td>\n",
       "      <td>100</td>\n",
       "      <td>100</td>\n",
       "      <td>4</td>\n",
       "      <td>111457</td>\n",
       "      <td>0</td>\n",
       "      <td>0</td>\n",
       "      <td>-3</td>\n",
       "      <td>...</td>\n",
       "      <td>98</td>\n",
       "      <td>55</td>\n",
       "      <td>65194</td>\n",
       "      <td>0</td>\n",
       "      <td>134275</td>\n",
       "      <td>0</td>\n",
       "      <td>0.5</td>\n",
       "      <td>10.6</td>\n",
       "      <td>Kolasinac</td>\n",
       "      <td>4</td>\n",
       "    </tr>\n",
       "    <tr>\n",
       "      <th>3</th>\n",
       "      <td>2</td>\n",
       "      <td>3</td>\n",
       "      <td>244</td>\n",
       "      <td>100</td>\n",
       "      <td>100</td>\n",
       "      <td>3</td>\n",
       "      <td>154043</td>\n",
       "      <td>0</td>\n",
       "      <td>0</td>\n",
       "      <td>-5</td>\n",
       "      <td>...</td>\n",
       "      <td>119</td>\n",
       "      <td>41</td>\n",
       "      <td>610816</td>\n",
       "      <td>0</td>\n",
       "      <td>653555</td>\n",
       "      <td>0</td>\n",
       "      <td>0.1</td>\n",
       "      <td>9.1</td>\n",
       "      <td>Maitland-Niles</td>\n",
       "      <td>4</td>\n",
       "    </tr>\n",
       "    <tr>\n",
       "      <th>4</th>\n",
       "      <td>0</td>\n",
       "      <td>5</td>\n",
       "      <td>305</td>\n",
       "      <td>100</td>\n",
       "      <td>100</td>\n",
       "      <td>4</td>\n",
       "      <td>39476</td>\n",
       "      <td>0</td>\n",
       "      <td>0</td>\n",
       "      <td>-2</td>\n",
       "      <td>...</td>\n",
       "      <td>76</td>\n",
       "      <td>57</td>\n",
       "      <td>182201</td>\n",
       "      <td>0</td>\n",
       "      <td>231413</td>\n",
       "      <td>0</td>\n",
       "      <td>0.0</td>\n",
       "      <td>11.9</td>\n",
       "      <td>Sokratis</td>\n",
       "      <td>6</td>\n",
       "    </tr>\n",
       "    <tr>\n",
       "      <th>5</th>\n",
       "      <td>0</td>\n",
       "      <td>1</td>\n",
       "      <td>54</td>\n",
       "      <td>0</td>\n",
       "      <td>0</td>\n",
       "      <td>1</td>\n",
       "      <td>38411</td>\n",
       "      <td>0</td>\n",
       "      <td>0</td>\n",
       "      <td>0</td>\n",
       "      <td>...</td>\n",
       "      <td>152</td>\n",
       "      <td>10</td>\n",
       "      <td>28283</td>\n",
       "      <td>0</td>\n",
       "      <td>89310</td>\n",
       "      <td>0</td>\n",
       "      <td>0.0</td>\n",
       "      <td>2.0</td>\n",
       "      <td>Monreal</td>\n",
       "      <td>0</td>\n",
       "    </tr>\n",
       "    <tr>\n",
       "      <th>6</th>\n",
       "      <td>0</td>\n",
       "      <td>0</td>\n",
       "      <td>0</td>\n",
       "      <td>0</td>\n",
       "      <td>0</td>\n",
       "      <td>0</td>\n",
       "      <td>51507</td>\n",
       "      <td>0</td>\n",
       "      <td>0</td>\n",
       "      <td>0</td>\n",
       "      <td>...</td>\n",
       "      <td>220</td>\n",
       "      <td>0</td>\n",
       "      <td>782</td>\n",
       "      <td>0</td>\n",
       "      <td>12898</td>\n",
       "      <td>0</td>\n",
       "      <td>0.0</td>\n",
       "      <td>0.0</td>\n",
       "      <td>Koscielny</td>\n",
       "      <td>0</td>\n",
       "    </tr>\n",
       "    <tr>\n",
       "      <th>7</th>\n",
       "      <td>0</td>\n",
       "      <td>0</td>\n",
       "      <td>0</td>\n",
       "      <td>0</td>\n",
       "      <td>0</td>\n",
       "      <td>0</td>\n",
       "      <td>233963</td>\n",
       "      <td>0</td>\n",
       "      <td>0</td>\n",
       "      <td>-2</td>\n",
       "      <td>...</td>\n",
       "      <td>211</td>\n",
       "      <td>0</td>\n",
       "      <td>1185</td>\n",
       "      <td>0</td>\n",
       "      <td>5056</td>\n",
       "      <td>0</td>\n",
       "      <td>0.0</td>\n",
       "      <td>0.0</td>\n",
       "      <td>Mavropanos</td>\n",
       "      <td>0</td>\n",
       "    </tr>\n",
       "    <tr>\n",
       "      <th>8</th>\n",
       "      <td>0</td>\n",
       "      <td>0</td>\n",
       "      <td>0</td>\n",
       "      <td>0</td>\n",
       "      <td>0</td>\n",
       "      <td>0</td>\n",
       "      <td>80254</td>\n",
       "      <td>0</td>\n",
       "      <td>0</td>\n",
       "      <td>0</td>\n",
       "      <td>...</td>\n",
       "      <td>214</td>\n",
       "      <td>0</td>\n",
       "      <td>534</td>\n",
       "      <td>0</td>\n",
       "      <td>2720</td>\n",
       "      <td>0</td>\n",
       "      <td>0.0</td>\n",
       "      <td>0.0</td>\n",
       "      <td>Jenkinson</td>\n",
       "      <td>0</td>\n",
       "    </tr>\n",
       "    <tr>\n",
       "      <th>9</th>\n",
       "      <td>0</td>\n",
       "      <td>2</td>\n",
       "      <td>96</td>\n",
       "      <td>100</td>\n",
       "      <td>100</td>\n",
       "      <td>1</td>\n",
       "      <td>156074</td>\n",
       "      <td>0</td>\n",
       "      <td>0</td>\n",
       "      <td>-1</td>\n",
       "      <td>...</td>\n",
       "      <td>145</td>\n",
       "      <td>16</td>\n",
       "      <td>28501</td>\n",
       "      <td>0</td>\n",
       "      <td>22667</td>\n",
       "      <td>0</td>\n",
       "      <td>0.2</td>\n",
       "      <td>3.6</td>\n",
       "      <td>Holding</td>\n",
       "      <td>1</td>\n",
       "    </tr>\n",
       "    <tr>\n",
       "      <th>10</th>\n",
       "      <td>5</td>\n",
       "      <td>37</td>\n",
       "      <td>807</td>\n",
       "      <td>100</td>\n",
       "      <td>100</td>\n",
       "      <td>10</td>\n",
       "      <td>54694</td>\n",
       "      <td>0</td>\n",
       "      <td>0</td>\n",
       "      <td>-1</td>\n",
       "      <td>...</td>\n",
       "      <td>7</td>\n",
       "      <td>205</td>\n",
       "      <td>3870546</td>\n",
       "      <td>0</td>\n",
       "      <td>4120318</td>\n",
       "      <td>0</td>\n",
       "      <td>0.6</td>\n",
       "      <td>18.8</td>\n",
       "      <td>Aubameyang</td>\n",
       "      <td>3</td>\n",
       "    </tr>\n",
       "    <tr>\n",
       "      <th>11</th>\n",
       "      <td>7</td>\n",
       "      <td>16</td>\n",
       "      <td>387</td>\n",
       "      <td>100</td>\n",
       "      <td>100</td>\n",
       "      <td>5</td>\n",
       "      <td>59966</td>\n",
       "      <td>0</td>\n",
       "      <td>0</td>\n",
       "      <td>-3</td>\n",
       "      <td>...</td>\n",
       "      <td>19</td>\n",
       "      <td>118</td>\n",
       "      <td>458912</td>\n",
       "      <td>0</td>\n",
       "      <td>551879</td>\n",
       "      <td>0</td>\n",
       "      <td>0.5</td>\n",
       "      <td>12.8</td>\n",
       "      <td>Lacazette</td>\n",
       "      <td>8</td>\n",
       "    </tr>\n",
       "    <tr>\n",
       "      <th>12</th>\n",
       "      <td>0</td>\n",
       "      <td>1</td>\n",
       "      <td>66</td>\n",
       "      <td>100</td>\n",
       "      <td>100</td>\n",
       "      <td>3</td>\n",
       "      <td>205533</td>\n",
       "      <td>0</td>\n",
       "      <td>0</td>\n",
       "      <td>-2</td>\n",
       "      <td>...</td>\n",
       "      <td>52</td>\n",
       "      <td>25</td>\n",
       "      <td>338091</td>\n",
       "      <td>0</td>\n",
       "      <td>333897</td>\n",
       "      <td>0</td>\n",
       "      <td>0.1</td>\n",
       "      <td>5.8</td>\n",
       "      <td>Nketiah</td>\n",
       "      <td>0</td>\n",
       "    </tr>\n",
       "    <tr>\n",
       "      <th>13</th>\n",
       "      <td>0</td>\n",
       "      <td>10</td>\n",
       "      <td>591</td>\n",
       "      <td>0</td>\n",
       "      <td>0</td>\n",
       "      <td>7</td>\n",
       "      <td>80201</td>\n",
       "      <td>0</td>\n",
       "      <td>0</td>\n",
       "      <td>-2</td>\n",
       "      <td>...</td>\n",
       "      <td>63</td>\n",
       "      <td>114</td>\n",
       "      <td>737120</td>\n",
       "      <td>0</td>\n",
       "      <td>865543</td>\n",
       "      <td>0</td>\n",
       "      <td>0.0</td>\n",
       "      <td>23.8</td>\n",
       "      <td>Leno</td>\n",
       "      <td>2</td>\n",
       "    </tr>\n",
       "    <tr>\n",
       "      <th>14</th>\n",
       "      <td>3</td>\n",
       "      <td>1</td>\n",
       "      <td>256</td>\n",
       "      <td>100</td>\n",
       "      <td>100</td>\n",
       "      <td>5</td>\n",
       "      <td>37605</td>\n",
       "      <td>0</td>\n",
       "      <td>0</td>\n",
       "      <td>-6</td>\n",
       "      <td>...</td>\n",
       "      <td>110</td>\n",
       "      <td>53</td>\n",
       "      <td>246324</td>\n",
       "      <td>0</td>\n",
       "      <td>307866</td>\n",
       "      <td>0</td>\n",
       "      <td>0.0</td>\n",
       "      <td>7.7</td>\n",
       "      <td>Özil</td>\n",
       "      <td>1</td>\n",
       "    </tr>\n",
       "    <tr>\n",
       "      <th>15</th>\n",
       "      <td>0</td>\n",
       "      <td>0</td>\n",
       "      <td>3</td>\n",
       "      <td>0</td>\n",
       "      <td>0</td>\n",
       "      <td>1</td>\n",
       "      <td>57249</td>\n",
       "      <td>0</td>\n",
       "      <td>0</td>\n",
       "      <td>-3</td>\n",
       "      <td>...</td>\n",
       "      <td>170</td>\n",
       "      <td>4</td>\n",
       "      <td>23270</td>\n",
       "      <td>0</td>\n",
       "      <td>117383</td>\n",
       "      <td>0</td>\n",
       "      <td>0.0</td>\n",
       "      <td>0.6</td>\n",
       "      <td>Mkhitaryan</td>\n",
       "      <td>1</td>\n",
       "    </tr>\n",
       "    <tr>\n",
       "      <th>16</th>\n",
       "      <td>2</td>\n",
       "      <td>2</td>\n",
       "      <td>408</td>\n",
       "      <td>100</td>\n",
       "      <td>100</td>\n",
       "      <td>10</td>\n",
       "      <td>84450</td>\n",
       "      <td>0</td>\n",
       "      <td>0</td>\n",
       "      <td>-4</td>\n",
       "      <td>...</td>\n",
       "      <td>136</td>\n",
       "      <td>73</td>\n",
       "      <td>82616</td>\n",
       "      <td>0</td>\n",
       "      <td>138134</td>\n",
       "      <td>0</td>\n",
       "      <td>0.6</td>\n",
       "      <td>14.3</td>\n",
       "      <td>Xhaka</td>\n",
       "      <td>10</td>\n",
       "    </tr>\n",
       "    <tr>\n",
       "      <th>17</th>\n",
       "      <td>1</td>\n",
       "      <td>0</td>\n",
       "      <td>247</td>\n",
       "      <td>100</td>\n",
       "      <td>100</td>\n",
       "      <td>3</td>\n",
       "      <td>198849</td>\n",
       "      <td>0</td>\n",
       "      <td>0</td>\n",
       "      <td>-3</td>\n",
       "      <td>...</td>\n",
       "      <td>104</td>\n",
       "      <td>46</td>\n",
       "      <td>100266</td>\n",
       "      <td>0</td>\n",
       "      <td>181492</td>\n",
       "      <td>0</td>\n",
       "      <td>0.1</td>\n",
       "      <td>9.8</td>\n",
       "      <td>Torreira</td>\n",
       "      <td>7</td>\n",
       "    </tr>\n",
       "    <tr>\n",
       "      <th>18</th>\n",
       "      <td>0</td>\n",
       "      <td>0</td>\n",
       "      <td>0</td>\n",
       "      <td>0</td>\n",
       "      <td>0</td>\n",
       "      <td>0</td>\n",
       "      <td>153256</td>\n",
       "      <td>0</td>\n",
       "      <td>0</td>\n",
       "      <td>-3</td>\n",
       "      <td>...</td>\n",
       "      <td>209</td>\n",
       "      <td>0</td>\n",
       "      <td>131138</td>\n",
       "      <td>0</td>\n",
       "      <td>132596</td>\n",
       "      <td>0</td>\n",
       "      <td>0.0</td>\n",
       "      <td>0.0</td>\n",
       "      <td>Elneny</td>\n",
       "      <td>0</td>\n",
       "    </tr>\n",
       "    <tr>\n",
       "      <th>19</th>\n",
       "      <td>2</td>\n",
       "      <td>2</td>\n",
       "      <td>272</td>\n",
       "      <td>None</td>\n",
       "      <td>None</td>\n",
       "      <td>3</td>\n",
       "      <td>242166</td>\n",
       "      <td>0</td>\n",
       "      <td>0</td>\n",
       "      <td>-4</td>\n",
       "      <td>...</td>\n",
       "      <td>126</td>\n",
       "      <td>48</td>\n",
       "      <td>1307827</td>\n",
       "      <td>0</td>\n",
       "      <td>1222099</td>\n",
       "      <td>0</td>\n",
       "      <td>0.0</td>\n",
       "      <td>11.7</td>\n",
       "      <td>Guendouzi</td>\n",
       "      <td>6</td>\n",
       "    </tr>\n",
       "    <tr>\n",
       "      <th>20</th>\n",
       "      <td>1</td>\n",
       "      <td>10</td>\n",
       "      <td>494</td>\n",
       "      <td>100</td>\n",
       "      <td>100</td>\n",
       "      <td>8</td>\n",
       "      <td>41270</td>\n",
       "      <td>0</td>\n",
       "      <td>0</td>\n",
       "      <td>-3</td>\n",
       "      <td>...</td>\n",
       "      <td>37</td>\n",
       "      <td>94</td>\n",
       "      <td>352377</td>\n",
       "      <td>0</td>\n",
       "      <td>653363</td>\n",
       "      <td>0</td>\n",
       "      <td>0.5</td>\n",
       "      <td>16.5</td>\n",
       "      <td>David Luiz</td>\n",
       "      <td>5</td>\n",
       "    </tr>\n",
       "    <tr>\n",
       "      <th>21</th>\n",
       "      <td>0</td>\n",
       "      <td>1</td>\n",
       "      <td>169</td>\n",
       "      <td>None</td>\n",
       "      <td>None</td>\n",
       "      <td>3</td>\n",
       "      <td>98980</td>\n",
       "      <td>0</td>\n",
       "      <td>0</td>\n",
       "      <td>-1</td>\n",
       "      <td>...</td>\n",
       "      <td>51</td>\n",
       "      <td>33</td>\n",
       "      <td>313870</td>\n",
       "      <td>0</td>\n",
       "      <td>59208</td>\n",
       "      <td>0</td>\n",
       "      <td>0.8</td>\n",
       "      <td>7.5</td>\n",
       "      <td>Martínez</td>\n",
       "      <td>2</td>\n",
       "    </tr>\n",
       "    <tr>\n",
       "      <th>22</th>\n",
       "      <td>1</td>\n",
       "      <td>5</td>\n",
       "      <td>197</td>\n",
       "      <td>0</td>\n",
       "      <td>0</td>\n",
       "      <td>3</td>\n",
       "      <td>101184</td>\n",
       "      <td>0</td>\n",
       "      <td>0</td>\n",
       "      <td>-2</td>\n",
       "      <td>...</td>\n",
       "      <td>41</td>\n",
       "      <td>42</td>\n",
       "      <td>140667</td>\n",
       "      <td>0</td>\n",
       "      <td>173873</td>\n",
       "      <td>0</td>\n",
       "      <td>0.0</td>\n",
       "      <td>9.8</td>\n",
       "      <td>Chambers</td>\n",
       "      <td>5</td>\n",
       "    </tr>\n",
       "    <tr>\n",
       "      <th>23</th>\n",
       "      <td>2</td>\n",
       "      <td>3</td>\n",
       "      <td>310</td>\n",
       "      <td>100</td>\n",
       "      <td>100</td>\n",
       "      <td>7</td>\n",
       "      <td>182539</td>\n",
       "      <td>0</td>\n",
       "      <td>0</td>\n",
       "      <td>-3</td>\n",
       "      <td>...</td>\n",
       "      <td>129</td>\n",
       "      <td>57</td>\n",
       "      <td>1033759</td>\n",
       "      <td>0</td>\n",
       "      <td>1167278</td>\n",
       "      <td>0</td>\n",
       "      <td>0.4</td>\n",
       "      <td>11.0</td>\n",
       "      <td>Ceballos</td>\n",
       "      <td>1</td>\n",
       "    </tr>\n",
       "    <tr>\n",
       "      <th>24</th>\n",
       "      <td>1</td>\n",
       "      <td>3</td>\n",
       "      <td>286</td>\n",
       "      <td>100</td>\n",
       "      <td>100</td>\n",
       "      <td>4</td>\n",
       "      <td>58822</td>\n",
       "      <td>0</td>\n",
       "      <td>0</td>\n",
       "      <td>-2</td>\n",
       "      <td>...</td>\n",
       "      <td>75</td>\n",
       "      <td>61</td>\n",
       "      <td>41000</td>\n",
       "      <td>0</td>\n",
       "      <td>41620</td>\n",
       "      <td>0</td>\n",
       "      <td>0.5</td>\n",
       "      <td>12.7</td>\n",
       "      <td>Cédric</td>\n",
       "      <td>1</td>\n",
       "    </tr>\n",
       "    <tr>\n",
       "      <th>25</th>\n",
       "      <td>6</td>\n",
       "      <td>9</td>\n",
       "      <td>353</td>\n",
       "      <td>100</td>\n",
       "      <td>100</td>\n",
       "      <td>5</td>\n",
       "      <td>195735</td>\n",
       "      <td>0</td>\n",
       "      <td>0</td>\n",
       "      <td>-6</td>\n",
       "      <td>...</td>\n",
       "      <td>30</td>\n",
       "      <td>106</td>\n",
       "      <td>689014</td>\n",
       "      <td>0</td>\n",
       "      <td>853519</td>\n",
       "      <td>0</td>\n",
       "      <td>0.1</td>\n",
       "      <td>11.9</td>\n",
       "      <td>Pépé</td>\n",
       "      <td>4</td>\n",
       "    </tr>\n",
       "    <tr>\n",
       "      <th>26</th>\n",
       "      <td>1</td>\n",
       "      <td>0</td>\n",
       "      <td>105</td>\n",
       "      <td>100</td>\n",
       "      <td>100</td>\n",
       "      <td>2</td>\n",
       "      <td>200641</td>\n",
       "      <td>0</td>\n",
       "      <td>0</td>\n",
       "      <td>-2</td>\n",
       "      <td>...</td>\n",
       "      <td>114</td>\n",
       "      <td>30</td>\n",
       "      <td>15306</td>\n",
       "      <td>0</td>\n",
       "      <td>20711</td>\n",
       "      <td>0</td>\n",
       "      <td>0.2</td>\n",
       "      <td>5.7</td>\n",
       "      <td>Nelson</td>\n",
       "      <td>1</td>\n",
       "    </tr>\n",
       "    <tr>\n",
       "      <th>27</th>\n",
       "      <td>1</td>\n",
       "      <td>0</td>\n",
       "      <td>150</td>\n",
       "      <td>100</td>\n",
       "      <td>100</td>\n",
       "      <td>1</td>\n",
       "      <td>200089</td>\n",
       "      <td>0</td>\n",
       "      <td>0</td>\n",
       "      <td>-3</td>\n",
       "      <td>...</td>\n",
       "      <td>102</td>\n",
       "      <td>41</td>\n",
       "      <td>31416</td>\n",
       "      <td>0</td>\n",
       "      <td>36008</td>\n",
       "      <td>0</td>\n",
       "      <td>0.3</td>\n",
       "      <td>8.7</td>\n",
       "      <td>Willock</td>\n",
       "      <td>2</td>\n",
       "    </tr>\n",
       "    <tr>\n",
       "      <th>28</th>\n",
       "      <td>1</td>\n",
       "      <td>5</td>\n",
       "      <td>129</td>\n",
       "      <td>0</td>\n",
       "      <td>0</td>\n",
       "      <td>2</td>\n",
       "      <td>444145</td>\n",
       "      <td>0</td>\n",
       "      <td>0</td>\n",
       "      <td>-3</td>\n",
       "      <td>...</td>\n",
       "      <td>49</td>\n",
       "      <td>39</td>\n",
       "      <td>580876</td>\n",
       "      <td>0</td>\n",
       "      <td>557782</td>\n",
       "      <td>0</td>\n",
       "      <td>0.0</td>\n",
       "      <td>9.3</td>\n",
       "      <td>Martinelli</td>\n",
       "      <td>1</td>\n",
       "    </tr>\n",
       "    <tr>\n",
       "      <th>29</th>\n",
       "      <td>2</td>\n",
       "      <td>4</td>\n",
       "      <td>213</td>\n",
       "      <td>100</td>\n",
       "      <td>100</td>\n",
       "      <td>2</td>\n",
       "      <td>192895</td>\n",
       "      <td>0</td>\n",
       "      <td>0</td>\n",
       "      <td>-2</td>\n",
       "      <td>...</td>\n",
       "      <td>107</td>\n",
       "      <td>42</td>\n",
       "      <td>152178</td>\n",
       "      <td>0</td>\n",
       "      <td>129342</td>\n",
       "      <td>0</td>\n",
       "      <td>0.7</td>\n",
       "      <td>7.9</td>\n",
       "      <td>Tierney</td>\n",
       "      <td>2</td>\n",
       "    </tr>\n",
       "    <tr>\n",
       "      <th>...</th>\n",
       "      <td>...</td>\n",
       "      <td>...</td>\n",
       "      <td>...</td>\n",
       "      <td>...</td>\n",
       "      <td>...</td>\n",
       "      <td>...</td>\n",
       "      <td>...</td>\n",
       "      <td>...</td>\n",
       "      <td>...</td>\n",
       "      <td>...</td>\n",
       "      <td>...</td>\n",
       "      <td>...</td>\n",
       "      <td>...</td>\n",
       "      <td>...</td>\n",
       "      <td>...</td>\n",
       "      <td>...</td>\n",
       "      <td>...</td>\n",
       "      <td>...</td>\n",
       "      <td>...</td>\n",
       "      <td>...</td>\n",
       "      <td>...</td>\n",
       "    </tr>\n",
       "    <tr>\n",
       "      <th>636</th>\n",
       "      <td>3</td>\n",
       "      <td>6</td>\n",
       "      <td>537</td>\n",
       "      <td>100</td>\n",
       "      <td>100</td>\n",
       "      <td>11</td>\n",
       "      <td>114128</td>\n",
       "      <td>0</td>\n",
       "      <td>0</td>\n",
       "      <td>0</td>\n",
       "      <td>...</td>\n",
       "      <td>20</td>\n",
       "      <td>123</td>\n",
       "      <td>260112</td>\n",
       "      <td>0</td>\n",
       "      <td>169698</td>\n",
       "      <td>0</td>\n",
       "      <td>0.9</td>\n",
       "      <td>22.4</td>\n",
       "      <td>Jonny</td>\n",
       "      <td>4</td>\n",
       "    </tr>\n",
       "    <tr>\n",
       "      <th>637</th>\n",
       "      <td>0</td>\n",
       "      <td>7</td>\n",
       "      <td>648</td>\n",
       "      <td>None</td>\n",
       "      <td>None</td>\n",
       "      <td>13</td>\n",
       "      <td>94147</td>\n",
       "      <td>0</td>\n",
       "      <td>0</td>\n",
       "      <td>1</td>\n",
       "      <td>...</td>\n",
       "      <td>222</td>\n",
       "      <td>118</td>\n",
       "      <td>262147</td>\n",
       "      <td>0</td>\n",
       "      <td>198272</td>\n",
       "      <td>0</td>\n",
       "      <td>0.6</td>\n",
       "      <td>23.1</td>\n",
       "      <td>Coady</td>\n",
       "      <td>5</td>\n",
       "    </tr>\n",
       "    <tr>\n",
       "      <th>638</th>\n",
       "      <td>1</td>\n",
       "      <td>10</td>\n",
       "      <td>470</td>\n",
       "      <td>100</td>\n",
       "      <td>100</td>\n",
       "      <td>12</td>\n",
       "      <td>90585</td>\n",
       "      <td>0</td>\n",
       "      <td>0</td>\n",
       "      <td>-1</td>\n",
       "      <td>...</td>\n",
       "      <td>74</td>\n",
       "      <td>97</td>\n",
       "      <td>648412</td>\n",
       "      <td>0</td>\n",
       "      <td>800667</td>\n",
       "      <td>0</td>\n",
       "      <td>0.7</td>\n",
       "      <td>19.8</td>\n",
       "      <td>Boly</td>\n",
       "      <td>1</td>\n",
       "    </tr>\n",
       "    <tr>\n",
       "      <th>639</th>\n",
       "      <td>0</td>\n",
       "      <td>1</td>\n",
       "      <td>134</td>\n",
       "      <td>100</td>\n",
       "      <td>100</td>\n",
       "      <td>3</td>\n",
       "      <td>216054</td>\n",
       "      <td>0</td>\n",
       "      <td>0</td>\n",
       "      <td>-4</td>\n",
       "      <td>...</td>\n",
       "      <td>122</td>\n",
       "      <td>32</td>\n",
       "      <td>28734</td>\n",
       "      <td>0</td>\n",
       "      <td>34342</td>\n",
       "      <td>0</td>\n",
       "      <td>0.3</td>\n",
       "      <td>7.8</td>\n",
       "      <td>Vinagre</td>\n",
       "      <td>1</td>\n",
       "    </tr>\n",
       "    <tr>\n",
       "      <th>640</th>\n",
       "      <td>2</td>\n",
       "      <td>8</td>\n",
       "      <td>525</td>\n",
       "      <td>100</td>\n",
       "      <td>100</td>\n",
       "      <td>10</td>\n",
       "      <td>107613</td>\n",
       "      <td>0</td>\n",
       "      <td>0</td>\n",
       "      <td>2</td>\n",
       "      <td>...</td>\n",
       "      <td>21</td>\n",
       "      <td>103</td>\n",
       "      <td>734081</td>\n",
       "      <td>0</td>\n",
       "      <td>352101</td>\n",
       "      <td>0</td>\n",
       "      <td>0.5</td>\n",
       "      <td>21.9</td>\n",
       "      <td>Saïss</td>\n",
       "      <td>10</td>\n",
       "    </tr>\n",
       "    <tr>\n",
       "      <th>641</th>\n",
       "      <td>0</td>\n",
       "      <td>0</td>\n",
       "      <td>24</td>\n",
       "      <td>None</td>\n",
       "      <td>None</td>\n",
       "      <td>0</td>\n",
       "      <td>214048</td>\n",
       "      <td>0</td>\n",
       "      <td>0</td>\n",
       "      <td>-1</td>\n",
       "      <td>...</td>\n",
       "      <td>178</td>\n",
       "      <td>5</td>\n",
       "      <td>323739</td>\n",
       "      <td>0</td>\n",
       "      <td>241558</td>\n",
       "      <td>0</td>\n",
       "      <td>0.0</td>\n",
       "      <td>1.3</td>\n",
       "      <td>Kilman</td>\n",
       "      <td>0</td>\n",
       "    </tr>\n",
       "    <tr>\n",
       "      <th>642</th>\n",
       "      <td>7</td>\n",
       "      <td>33</td>\n",
       "      <td>685</td>\n",
       "      <td>100</td>\n",
       "      <td>100</td>\n",
       "      <td>15</td>\n",
       "      <td>102057</td>\n",
       "      <td>0</td>\n",
       "      <td>0</td>\n",
       "      <td>5</td>\n",
       "      <td>...</td>\n",
       "      <td>1</td>\n",
       "      <td>194</td>\n",
       "      <td>4677222</td>\n",
       "      <td>0</td>\n",
       "      <td>3995389</td>\n",
       "      <td>0</td>\n",
       "      <td>0.5</td>\n",
       "      <td>24.2</td>\n",
       "      <td>Jiménez</td>\n",
       "      <td>3</td>\n",
       "    </tr>\n",
       "    <tr>\n",
       "      <th>643</th>\n",
       "      <td>3</td>\n",
       "      <td>12</td>\n",
       "      <td>348</td>\n",
       "      <td>100</td>\n",
       "      <td>100</td>\n",
       "      <td>10</td>\n",
       "      <td>194634</td>\n",
       "      <td>0</td>\n",
       "      <td>0</td>\n",
       "      <td>-5</td>\n",
       "      <td>...</td>\n",
       "      <td>13</td>\n",
       "      <td>105</td>\n",
       "      <td>989479</td>\n",
       "      <td>0</td>\n",
       "      <td>1478730</td>\n",
       "      <td>0</td>\n",
       "      <td>0.3</td>\n",
       "      <td>17.5</td>\n",
       "      <td>Jota</td>\n",
       "      <td>4</td>\n",
       "    </tr>\n",
       "    <tr>\n",
       "      <th>644</th>\n",
       "      <td>0</td>\n",
       "      <td>8</td>\n",
       "      <td>680</td>\n",
       "      <td>None</td>\n",
       "      <td>None</td>\n",
       "      <td>13</td>\n",
       "      <td>38533</td>\n",
       "      <td>0</td>\n",
       "      <td>0</td>\n",
       "      <td>3</td>\n",
       "      <td>...</td>\n",
       "      <td>69</td>\n",
       "      <td>153</td>\n",
       "      <td>1224396</td>\n",
       "      <td>0</td>\n",
       "      <td>957926</td>\n",
       "      <td>0</td>\n",
       "      <td>0.7</td>\n",
       "      <td>28.9</td>\n",
       "      <td>Patrício</td>\n",
       "      <td>0</td>\n",
       "    </tr>\n",
       "    <tr>\n",
       "      <th>645</th>\n",
       "      <td>0</td>\n",
       "      <td>0</td>\n",
       "      <td>0</td>\n",
       "      <td>None</td>\n",
       "      <td>None</td>\n",
       "      <td>0</td>\n",
       "      <td>19236</td>\n",
       "      <td>0</td>\n",
       "      <td>0</td>\n",
       "      <td>-3</td>\n",
       "      <td>...</td>\n",
       "      <td>30</td>\n",
       "      <td>0</td>\n",
       "      <td>8234</td>\n",
       "      <td>0</td>\n",
       "      <td>23258</td>\n",
       "      <td>0</td>\n",
       "      <td>0.0</td>\n",
       "      <td>0.0</td>\n",
       "      <td>Ruddy</td>\n",
       "      <td>0</td>\n",
       "    </tr>\n",
       "    <tr>\n",
       "      <th>646</th>\n",
       "      <td>0</td>\n",
       "      <td>0</td>\n",
       "      <td>0</td>\n",
       "      <td>0</td>\n",
       "      <td>0</td>\n",
       "      <td>0</td>\n",
       "      <td>168399</td>\n",
       "      <td>0</td>\n",
       "      <td>0</td>\n",
       "      <td>-1</td>\n",
       "      <td>...</td>\n",
       "      <td>10</td>\n",
       "      <td>0</td>\n",
       "      <td>49551</td>\n",
       "      <td>0</td>\n",
       "      <td>58275</td>\n",
       "      <td>0</td>\n",
       "      <td>0.0</td>\n",
       "      <td>0.0</td>\n",
       "      <td>Norris</td>\n",
       "      <td>0</td>\n",
       "    </tr>\n",
       "    <tr>\n",
       "      <th>647</th>\n",
       "      <td>2</td>\n",
       "      <td>7</td>\n",
       "      <td>498</td>\n",
       "      <td>100</td>\n",
       "      <td>100</td>\n",
       "      <td>13</td>\n",
       "      <td>171317</td>\n",
       "      <td>0</td>\n",
       "      <td>0</td>\n",
       "      <td>-3</td>\n",
       "      <td>...</td>\n",
       "      <td>72</td>\n",
       "      <td>97</td>\n",
       "      <td>410866</td>\n",
       "      <td>0</td>\n",
       "      <td>676439</td>\n",
       "      <td>0</td>\n",
       "      <td>0.6</td>\n",
       "      <td>18.7</td>\n",
       "      <td>Neves</td>\n",
       "      <td>9</td>\n",
       "    </tr>\n",
       "    <tr>\n",
       "      <th>648</th>\n",
       "      <td>7</td>\n",
       "      <td>12</td>\n",
       "      <td>617</td>\n",
       "      <td>None</td>\n",
       "      <td>None</td>\n",
       "      <td>11</td>\n",
       "      <td>19624</td>\n",
       "      <td>0</td>\n",
       "      <td>0</td>\n",
       "      <td>-2</td>\n",
       "      <td>...</td>\n",
       "      <td>133</td>\n",
       "      <td>113</td>\n",
       "      <td>684882</td>\n",
       "      <td>0</td>\n",
       "      <td>836481</td>\n",
       "      <td>0</td>\n",
       "      <td>0.4</td>\n",
       "      <td>21.3</td>\n",
       "      <td>Moutinho</td>\n",
       "      <td>7</td>\n",
       "    </tr>\n",
       "    <tr>\n",
       "      <th>649</th>\n",
       "      <td>1</td>\n",
       "      <td>0</td>\n",
       "      <td>39</td>\n",
       "      <td>100</td>\n",
       "      <td>100</td>\n",
       "      <td>0</td>\n",
       "      <td>222531</td>\n",
       "      <td>0</td>\n",
       "      <td>0</td>\n",
       "      <td>-3</td>\n",
       "      <td>...</td>\n",
       "      <td>190</td>\n",
       "      <td>11</td>\n",
       "      <td>3516</td>\n",
       "      <td>0</td>\n",
       "      <td>8006</td>\n",
       "      <td>0</td>\n",
       "      <td>0.0</td>\n",
       "      <td>2.3</td>\n",
       "      <td>Gibbs-White</td>\n",
       "      <td>0</td>\n",
       "    </tr>\n",
       "    <tr>\n",
       "      <th>650</th>\n",
       "      <td>9</td>\n",
       "      <td>14</td>\n",
       "      <td>522</td>\n",
       "      <td>100</td>\n",
       "      <td>100</td>\n",
       "      <td>7</td>\n",
       "      <td>159533</td>\n",
       "      <td>0</td>\n",
       "      <td>0</td>\n",
       "      <td>6</td>\n",
       "      <td>...</td>\n",
       "      <td>32</td>\n",
       "      <td>130</td>\n",
       "      <td>3191443</td>\n",
       "      <td>0</td>\n",
       "      <td>2346310</td>\n",
       "      <td>0</td>\n",
       "      <td>0.3</td>\n",
       "      <td>23.2</td>\n",
       "      <td>Traoré</td>\n",
       "      <td>1</td>\n",
       "    </tr>\n",
       "    <tr>\n",
       "      <th>651</th>\n",
       "      <td>0</td>\n",
       "      <td>0</td>\n",
       "      <td>0</td>\n",
       "      <td>0</td>\n",
       "      <td>0</td>\n",
       "      <td>0</td>\n",
       "      <td>165808</td>\n",
       "      <td>0</td>\n",
       "      <td>0</td>\n",
       "      <td>-2</td>\n",
       "      <td>...</td>\n",
       "      <td>264</td>\n",
       "      <td>0</td>\n",
       "      <td>1085</td>\n",
       "      <td>0</td>\n",
       "      <td>2072</td>\n",
       "      <td>0</td>\n",
       "      <td>0.0</td>\n",
       "      <td>0.0</td>\n",
       "      <td>Costa</td>\n",
       "      <td>0</td>\n",
       "    </tr>\n",
       "    <tr>\n",
       "      <th>652</th>\n",
       "      <td>0</td>\n",
       "      <td>0</td>\n",
       "      <td>0</td>\n",
       "      <td>0</td>\n",
       "      <td>0</td>\n",
       "      <td>0</td>\n",
       "      <td>166324</td>\n",
       "      <td>0</td>\n",
       "      <td>0</td>\n",
       "      <td>-1</td>\n",
       "      <td>...</td>\n",
       "      <td>266</td>\n",
       "      <td>0</td>\n",
       "      <td>802</td>\n",
       "      <td>0</td>\n",
       "      <td>1193</td>\n",
       "      <td>0</td>\n",
       "      <td>0.0</td>\n",
       "      <td>0.0</td>\n",
       "      <td>Cavaleiro</td>\n",
       "      <td>0</td>\n",
       "    </tr>\n",
       "    <tr>\n",
       "      <th>653</th>\n",
       "      <td>0</td>\n",
       "      <td>9</td>\n",
       "      <td>426</td>\n",
       "      <td>100</td>\n",
       "      <td>100</td>\n",
       "      <td>11</td>\n",
       "      <td>151589</td>\n",
       "      <td>0</td>\n",
       "      <td>0</td>\n",
       "      <td>-1</td>\n",
       "      <td>...</td>\n",
       "      <td>76</td>\n",
       "      <td>100</td>\n",
       "      <td>1222056</td>\n",
       "      <td>0</td>\n",
       "      <td>1550368</td>\n",
       "      <td>0</td>\n",
       "      <td>0.8</td>\n",
       "      <td>22.7</td>\n",
       "      <td>Dendoncker</td>\n",
       "      <td>5</td>\n",
       "    </tr>\n",
       "    <tr>\n",
       "      <th>654</th>\n",
       "      <td>0</td>\n",
       "      <td>0</td>\n",
       "      <td>22</td>\n",
       "      <td>0</td>\n",
       "      <td>0</td>\n",
       "      <td>0</td>\n",
       "      <td>178876</td>\n",
       "      <td>0</td>\n",
       "      <td>0</td>\n",
       "      <td>-4</td>\n",
       "      <td>...</td>\n",
       "      <td>216</td>\n",
       "      <td>1</td>\n",
       "      <td>5505</td>\n",
       "      <td>0</td>\n",
       "      <td>24750</td>\n",
       "      <td>0</td>\n",
       "      <td>0.0</td>\n",
       "      <td>0.2</td>\n",
       "      <td>Vallejo</td>\n",
       "      <td>1</td>\n",
       "    </tr>\n",
       "    <tr>\n",
       "      <th>655</th>\n",
       "      <td>0</td>\n",
       "      <td>0</td>\n",
       "      <td>69</td>\n",
       "      <td>0</td>\n",
       "      <td>0</td>\n",
       "      <td>1</td>\n",
       "      <td>209353</td>\n",
       "      <td>0</td>\n",
       "      <td>0</td>\n",
       "      <td>-6</td>\n",
       "      <td>...</td>\n",
       "      <td>54</td>\n",
       "      <td>23</td>\n",
       "      <td>26463</td>\n",
       "      <td>0</td>\n",
       "      <td>95214</td>\n",
       "      <td>0</td>\n",
       "      <td>0.0</td>\n",
       "      <td>4.3</td>\n",
       "      <td>Cutrone</td>\n",
       "      <td>0</td>\n",
       "    </tr>\n",
       "    <tr>\n",
       "      <th>656</th>\n",
       "      <td>3</td>\n",
       "      <td>0</td>\n",
       "      <td>194</td>\n",
       "      <td>100</td>\n",
       "      <td>100</td>\n",
       "      <td>1</td>\n",
       "      <td>247632</td>\n",
       "      <td>0</td>\n",
       "      <td>0</td>\n",
       "      <td>-1</td>\n",
       "      <td>...</td>\n",
       "      <td>90</td>\n",
       "      <td>57</td>\n",
       "      <td>40430</td>\n",
       "      <td>0</td>\n",
       "      <td>33972</td>\n",
       "      <td>0</td>\n",
       "      <td>0.2</td>\n",
       "      <td>11.6</td>\n",
       "      <td>Neto</td>\n",
       "      <td>3</td>\n",
       "    </tr>\n",
       "    <tr>\n",
       "      <th>657</th>\n",
       "      <td>0</td>\n",
       "      <td>0</td>\n",
       "      <td>0</td>\n",
       "      <td>0</td>\n",
       "      <td>0</td>\n",
       "      <td>0</td>\n",
       "      <td>194798</td>\n",
       "      <td>0</td>\n",
       "      <td>0</td>\n",
       "      <td>0</td>\n",
       "      <td>...</td>\n",
       "      <td>82</td>\n",
       "      <td>0</td>\n",
       "      <td>7889</td>\n",
       "      <td>0</td>\n",
       "      <td>6770</td>\n",
       "      <td>0</td>\n",
       "      <td>0.0</td>\n",
       "      <td>0.0</td>\n",
       "      <td>Ashley-Seal</td>\n",
       "      <td>0</td>\n",
       "    </tr>\n",
       "    <tr>\n",
       "      <th>658</th>\n",
       "      <td>0</td>\n",
       "      <td>0</td>\n",
       "      <td>0</td>\n",
       "      <td>None</td>\n",
       "      <td>None</td>\n",
       "      <td>0</td>\n",
       "      <td>232361</td>\n",
       "      <td>0</td>\n",
       "      <td>0</td>\n",
       "      <td>0</td>\n",
       "      <td>...</td>\n",
       "      <td>237</td>\n",
       "      <td>0</td>\n",
       "      <td>2875</td>\n",
       "      <td>0</td>\n",
       "      <td>2393</td>\n",
       "      <td>0</td>\n",
       "      <td>0.0</td>\n",
       "      <td>0.0</td>\n",
       "      <td>Perry</td>\n",
       "      <td>0</td>\n",
       "    </tr>\n",
       "    <tr>\n",
       "      <th>659</th>\n",
       "      <td>0</td>\n",
       "      <td>0</td>\n",
       "      <td>0</td>\n",
       "      <td>None</td>\n",
       "      <td>None</td>\n",
       "      <td>0</td>\n",
       "      <td>250604</td>\n",
       "      <td>0</td>\n",
       "      <td>0</td>\n",
       "      <td>0</td>\n",
       "      <td>...</td>\n",
       "      <td>244</td>\n",
       "      <td>0</td>\n",
       "      <td>669</td>\n",
       "      <td>0</td>\n",
       "      <td>620</td>\n",
       "      <td>0</td>\n",
       "      <td>0.0</td>\n",
       "      <td>0.0</td>\n",
       "      <td>Otasowie</td>\n",
       "      <td>0</td>\n",
       "    </tr>\n",
       "    <tr>\n",
       "      <th>660</th>\n",
       "      <td>0</td>\n",
       "      <td>0</td>\n",
       "      <td>0</td>\n",
       "      <td>None</td>\n",
       "      <td>None</td>\n",
       "      <td>0</td>\n",
       "      <td>245923</td>\n",
       "      <td>0</td>\n",
       "      <td>0</td>\n",
       "      <td>0</td>\n",
       "      <td>...</td>\n",
       "      <td>243</td>\n",
       "      <td>0</td>\n",
       "      <td>2055</td>\n",
       "      <td>0</td>\n",
       "      <td>1640</td>\n",
       "      <td>0</td>\n",
       "      <td>0.0</td>\n",
       "      <td>0.0</td>\n",
       "      <td>Cundle</td>\n",
       "      <td>0</td>\n",
       "    </tr>\n",
       "    <tr>\n",
       "      <th>661</th>\n",
       "      <td>0</td>\n",
       "      <td>0</td>\n",
       "      <td>0</td>\n",
       "      <td>None</td>\n",
       "      <td>None</td>\n",
       "      <td>0</td>\n",
       "      <td>179456</td>\n",
       "      <td>0</td>\n",
       "      <td>0</td>\n",
       "      <td>0</td>\n",
       "      <td>...</td>\n",
       "      <td>189</td>\n",
       "      <td>0</td>\n",
       "      <td>12504</td>\n",
       "      <td>0</td>\n",
       "      <td>7078</td>\n",
       "      <td>0</td>\n",
       "      <td>0.0</td>\n",
       "      <td>0.0</td>\n",
       "      <td>Buur</td>\n",
       "      <td>0</td>\n",
       "    </tr>\n",
       "    <tr>\n",
       "      <th>662</th>\n",
       "      <td>0</td>\n",
       "      <td>0</td>\n",
       "      <td>0</td>\n",
       "      <td>0</td>\n",
       "      <td>0</td>\n",
       "      <td>0</td>\n",
       "      <td>232351</td>\n",
       "      <td>0</td>\n",
       "      <td>0</td>\n",
       "      <td>-1</td>\n",
       "      <td>...</td>\n",
       "      <td>181</td>\n",
       "      <td>0</td>\n",
       "      <td>21912</td>\n",
       "      <td>0</td>\n",
       "      <td>11421</td>\n",
       "      <td>0</td>\n",
       "      <td>0.0</td>\n",
       "      <td>0.0</td>\n",
       "      <td>Giles</td>\n",
       "      <td>0</td>\n",
       "    </tr>\n",
       "    <tr>\n",
       "      <th>663</th>\n",
       "      <td>0</td>\n",
       "      <td>0</td>\n",
       "      <td>4</td>\n",
       "      <td>None</td>\n",
       "      <td>None</td>\n",
       "      <td>0</td>\n",
       "      <td>428610</td>\n",
       "      <td>0</td>\n",
       "      <td>0</td>\n",
       "      <td>0</td>\n",
       "      <td>...</td>\n",
       "      <td>246</td>\n",
       "      <td>1</td>\n",
       "      <td>1913</td>\n",
       "      <td>0</td>\n",
       "      <td>1146</td>\n",
       "      <td>0</td>\n",
       "      <td>0.0</td>\n",
       "      <td>0.2</td>\n",
       "      <td>Jordao</td>\n",
       "      <td>0</td>\n",
       "    </tr>\n",
       "    <tr>\n",
       "      <th>664</th>\n",
       "      <td>1</td>\n",
       "      <td>2</td>\n",
       "      <td>74</td>\n",
       "      <td>None</td>\n",
       "      <td>None</td>\n",
       "      <td>3</td>\n",
       "      <td>200600</td>\n",
       "      <td>0</td>\n",
       "      <td>0</td>\n",
       "      <td>-6</td>\n",
       "      <td>...</td>\n",
       "      <td>124</td>\n",
       "      <td>25</td>\n",
       "      <td>8281</td>\n",
       "      <td>0</td>\n",
       "      <td>3461</td>\n",
       "      <td>0</td>\n",
       "      <td>0.6</td>\n",
       "      <td>5.1</td>\n",
       "      <td>Podence</td>\n",
       "      <td>0</td>\n",
       "    </tr>\n",
       "    <tr>\n",
       "      <th>665</th>\n",
       "      <td>0</td>\n",
       "      <td>0</td>\n",
       "      <td>0</td>\n",
       "      <td>None</td>\n",
       "      <td>None</td>\n",
       "      <td>0</td>\n",
       "      <td>474003</td>\n",
       "      <td>0</td>\n",
       "      <td>0</td>\n",
       "      <td>0</td>\n",
       "      <td>...</td>\n",
       "      <td>88</td>\n",
       "      <td>0</td>\n",
       "      <td>878</td>\n",
       "      <td>0</td>\n",
       "      <td>365</td>\n",
       "      <td>0</td>\n",
       "      <td>0.0</td>\n",
       "      <td>0.0</td>\n",
       "      <td>Campana</td>\n",
       "      <td>0</td>\n",
       "    </tr>\n",
       "  </tbody>\n",
       "</table>\n",
       "<p>666 rows × 61 columns</p>\n",
       "</div>"
      ],
      "text/plain": [
       "     assists  bonus  bps chance_of_playing_next_round  \\\n",
       "0          2      2  242                            0   \n",
       "1          0      4  204                          100   \n",
       "2          2      1  331                          100   \n",
       "3          2      3  244                          100   \n",
       "4          0      5  305                          100   \n",
       "5          0      1   54                            0   \n",
       "6          0      0    0                            0   \n",
       "7          0      0    0                            0   \n",
       "8          0      0    0                            0   \n",
       "9          0      2   96                          100   \n",
       "10         5     37  807                          100   \n",
       "11         7     16  387                          100   \n",
       "12         0      1   66                          100   \n",
       "13         0     10  591                            0   \n",
       "14         3      1  256                          100   \n",
       "15         0      0    3                            0   \n",
       "16         2      2  408                          100   \n",
       "17         1      0  247                          100   \n",
       "18         0      0    0                            0   \n",
       "19         2      2  272                         None   \n",
       "20         1     10  494                          100   \n",
       "21         0      1  169                         None   \n",
       "22         1      5  197                            0   \n",
       "23         2      3  310                          100   \n",
       "24         1      3  286                          100   \n",
       "25         6      9  353                          100   \n",
       "26         1      0  105                          100   \n",
       "27         1      0  150                          100   \n",
       "28         1      5  129                            0   \n",
       "29         2      4  213                          100   \n",
       "..       ...    ...  ...                          ...   \n",
       "636        3      6  537                          100   \n",
       "637        0      7  648                         None   \n",
       "638        1     10  470                          100   \n",
       "639        0      1  134                          100   \n",
       "640        2      8  525                          100   \n",
       "641        0      0   24                         None   \n",
       "642        7     33  685                          100   \n",
       "643        3     12  348                          100   \n",
       "644        0      8  680                         None   \n",
       "645        0      0    0                         None   \n",
       "646        0      0    0                            0   \n",
       "647        2      7  498                          100   \n",
       "648        7     12  617                         None   \n",
       "649        1      0   39                          100   \n",
       "650        9     14  522                          100   \n",
       "651        0      0    0                            0   \n",
       "652        0      0    0                            0   \n",
       "653        0      9  426                          100   \n",
       "654        0      0   22                            0   \n",
       "655        0      0   69                            0   \n",
       "656        3      0  194                          100   \n",
       "657        0      0    0                            0   \n",
       "658        0      0    0                         None   \n",
       "659        0      0    0                         None   \n",
       "660        0      0    0                         None   \n",
       "661        0      0    0                         None   \n",
       "662        0      0    0                            0   \n",
       "663        0      0    4                         None   \n",
       "664        1      2   74                         None   \n",
       "665        0      0    0                         None   \n",
       "\n",
       "    chance_of_playing_this_round  clean_sheets    code  cost_change_event  \\\n",
       "0                              0             4   69140                  0   \n",
       "1                            100             4   98745                  0   \n",
       "2                            100             4  111457                  0   \n",
       "3                            100             3  154043                  0   \n",
       "4                            100             4   39476                  0   \n",
       "5                              0             1   38411                  0   \n",
       "6                              0             0   51507                  0   \n",
       "7                              0             0  233963                  0   \n",
       "8                              0             0   80254                  0   \n",
       "9                            100             1  156074                  0   \n",
       "10                           100            10   54694                  0   \n",
       "11                           100             5   59966                  0   \n",
       "12                           100             3  205533                  0   \n",
       "13                             0             7   80201                  0   \n",
       "14                           100             5   37605                  0   \n",
       "15                             0             1   57249                  0   \n",
       "16                           100            10   84450                  0   \n",
       "17                           100             3  198849                  0   \n",
       "18                             0             0  153256                  0   \n",
       "19                          None             3  242166                  0   \n",
       "20                           100             8   41270                  0   \n",
       "21                          None             3   98980                  0   \n",
       "22                             0             3  101184                  0   \n",
       "23                           100             7  182539                  0   \n",
       "24                           100             4   58822                  0   \n",
       "25                           100             5  195735                  0   \n",
       "26                           100             2  200641                  0   \n",
       "27                           100             1  200089                  0   \n",
       "28                             0             2  444145                  0   \n",
       "29                           100             2  192895                  0   \n",
       "..                           ...           ...     ...                ...   \n",
       "636                          100            11  114128                  0   \n",
       "637                         None            13   94147                  0   \n",
       "638                          100            12   90585                  0   \n",
       "639                          100             3  216054                  0   \n",
       "640                          100            10  107613                  0   \n",
       "641                         None             0  214048                  0   \n",
       "642                          100            15  102057                  0   \n",
       "643                          100            10  194634                  0   \n",
       "644                         None            13   38533                  0   \n",
       "645                         None             0   19236                  0   \n",
       "646                            0             0  168399                  0   \n",
       "647                          100            13  171317                  0   \n",
       "648                         None            11   19624                  0   \n",
       "649                          100             0  222531                  0   \n",
       "650                          100             7  159533                  0   \n",
       "651                            0             0  165808                  0   \n",
       "652                            0             0  166324                  0   \n",
       "653                          100            11  151589                  0   \n",
       "654                            0             0  178876                  0   \n",
       "655                            0             1  209353                  0   \n",
       "656                          100             1  247632                  0   \n",
       "657                            0             0  194798                  0   \n",
       "658                         None             0  232361                  0   \n",
       "659                         None             0  250604                  0   \n",
       "660                         None             0  245923                  0   \n",
       "661                         None             0  179456                  0   \n",
       "662                            0             0  232351                  0   \n",
       "663                         None             0  428610                  0   \n",
       "664                         None             3  200600                  0   \n",
       "665                         None             0  474003                  0   \n",
       "\n",
       "     cost_change_event_fall  cost_change_start  ...  threat_rank_type  \\\n",
       "0                         0                 -4  ...                58   \n",
       "1                         0                 -3  ...                81   \n",
       "2                         0                 -3  ...                98   \n",
       "3                         0                 -5  ...               119   \n",
       "4                         0                 -2  ...                76   \n",
       "5                         0                  0  ...               152   \n",
       "6                         0                  0  ...               220   \n",
       "7                         0                 -2  ...               211   \n",
       "8                         0                  0  ...               214   \n",
       "9                         0                 -1  ...               145   \n",
       "10                        0                 -1  ...                 7   \n",
       "11                        0                 -3  ...                19   \n",
       "12                        0                 -2  ...                52   \n",
       "13                        0                 -2  ...                63   \n",
       "14                        0                 -6  ...               110   \n",
       "15                        0                 -3  ...               170   \n",
       "16                        0                 -4  ...               136   \n",
       "17                        0                 -3  ...               104   \n",
       "18                        0                 -3  ...               209   \n",
       "19                        0                 -4  ...               126   \n",
       "20                        0                 -3  ...                37   \n",
       "21                        0                 -1  ...                51   \n",
       "22                        0                 -2  ...                41   \n",
       "23                        0                 -3  ...               129   \n",
       "24                        0                 -2  ...                75   \n",
       "25                        0                 -6  ...                30   \n",
       "26                        0                 -2  ...               114   \n",
       "27                        0                 -3  ...               102   \n",
       "28                        0                 -3  ...                49   \n",
       "29                        0                 -2  ...               107   \n",
       "..                      ...                ...  ...               ...   \n",
       "636                       0                  0  ...                20   \n",
       "637                       0                  1  ...               222   \n",
       "638                       0                 -1  ...                74   \n",
       "639                       0                 -4  ...               122   \n",
       "640                       0                  2  ...                21   \n",
       "641                       0                 -1  ...               178   \n",
       "642                       0                  5  ...                 1   \n",
       "643                       0                 -5  ...                13   \n",
       "644                       0                  3  ...                69   \n",
       "645                       0                 -3  ...                30   \n",
       "646                       0                 -1  ...                10   \n",
       "647                       0                 -3  ...                72   \n",
       "648                       0                 -2  ...               133   \n",
       "649                       0                 -3  ...               190   \n",
       "650                       0                  6  ...                32   \n",
       "651                       0                 -2  ...               264   \n",
       "652                       0                 -1  ...               266   \n",
       "653                       0                 -1  ...                76   \n",
       "654                       0                 -4  ...               216   \n",
       "655                       0                 -6  ...                54   \n",
       "656                       0                 -1  ...                90   \n",
       "657                       0                  0  ...                82   \n",
       "658                       0                  0  ...               237   \n",
       "659                       0                  0  ...               244   \n",
       "660                       0                  0  ...               243   \n",
       "661                       0                  0  ...               189   \n",
       "662                       0                 -1  ...               181   \n",
       "663                       0                  0  ...               246   \n",
       "664                       0                 -6  ...               124   \n",
       "665                       0                  0  ...                88   \n",
       "\n",
       "     total_points  transfers_in  transfers_in_event  transfers_out  \\\n",
       "0              43         25007                   0          47630   \n",
       "1              44        206616                   0         159819   \n",
       "2              55         65194                   0         134275   \n",
       "3              41        610816                   0         653555   \n",
       "4              57        182201                   0         231413   \n",
       "5              10         28283                   0          89310   \n",
       "6               0           782                   0          12898   \n",
       "7               0          1185                   0           5056   \n",
       "8               0           534                   0           2720   \n",
       "9              16         28501                   0          22667   \n",
       "10            205       3870546                   0        4120318   \n",
       "11            118        458912                   0         551879   \n",
       "12             25        338091                   0         333897   \n",
       "13            114        737120                   0         865543   \n",
       "14             53        246324                   0         307866   \n",
       "15              4         23270                   0         117383   \n",
       "16             73         82616                   0         138134   \n",
       "17             46        100266                   0         181492   \n",
       "18              0        131138                   0         132596   \n",
       "19             48       1307827                   0        1222099   \n",
       "20             94        352377                   0         653363   \n",
       "21             33        313870                   0          59208   \n",
       "22             42        140667                   0         173873   \n",
       "23             57       1033759                   0        1167278   \n",
       "24             61         41000                   0          41620   \n",
       "25            106        689014                   0         853519   \n",
       "26             30         15306                   0          20711   \n",
       "27             41         31416                   0          36008   \n",
       "28             39        580876                   0         557782   \n",
       "29             42        152178                   0         129342   \n",
       "..            ...           ...                 ...            ...   \n",
       "636           123        260112                   0         169698   \n",
       "637           118        262147                   0         198272   \n",
       "638            97        648412                   0         800667   \n",
       "639            32         28734                   0          34342   \n",
       "640           103        734081                   0         352101   \n",
       "641             5        323739                   0         241558   \n",
       "642           194       4677222                   0        3995389   \n",
       "643           105        989479                   0        1478730   \n",
       "644           153       1224396                   0         957926   \n",
       "645             0          8234                   0          23258   \n",
       "646             0         49551                   0          58275   \n",
       "647            97        410866                   0         676439   \n",
       "648           113        684882                   0         836481   \n",
       "649            11          3516                   0           8006   \n",
       "650           130       3191443                   0        2346310   \n",
       "651             0          1085                   0           2072   \n",
       "652             0           802                   0           1193   \n",
       "653           100       1222056                   0        1550368   \n",
       "654             1          5505                   0          24750   \n",
       "655            23         26463                   0          95214   \n",
       "656            57         40430                   0          33972   \n",
       "657             0          7889                   0           6770   \n",
       "658             0          2875                   0           2393   \n",
       "659             0           669                   0            620   \n",
       "660             0          2055                   0           1640   \n",
       "661             0         12504                   0           7078   \n",
       "662             0         21912                   0          11421   \n",
       "663             1          1913                   0           1146   \n",
       "664            25          8281                   0           3461   \n",
       "665             0           878                   0            365   \n",
       "\n",
       "     transfers_out_event value_form  value_season        web_name yellow_cards  \n",
       "0                      0        0.3           8.4         Mustafi            2  \n",
       "1                      0        0.3           8.5        Bellerín            2  \n",
       "2                      0        0.5          10.6       Kolasinac            4  \n",
       "3                      0        0.1           9.1  Maitland-Niles            4  \n",
       "4                      0        0.0          11.9        Sokratis            6  \n",
       "5                      0        0.0           2.0         Monreal            0  \n",
       "6                      0        0.0           0.0       Koscielny            0  \n",
       "7                      0        0.0           0.0      Mavropanos            0  \n",
       "8                      0        0.0           0.0       Jenkinson            0  \n",
       "9                      0        0.2           3.6         Holding            1  \n",
       "10                     0        0.6          18.8      Aubameyang            3  \n",
       "11                     0        0.5          12.8       Lacazette            8  \n",
       "12                     0        0.1           5.8         Nketiah            0  \n",
       "13                     0        0.0          23.8            Leno            2  \n",
       "14                     0        0.0           7.7            Özil            1  \n",
       "15                     0        0.0           0.6      Mkhitaryan            1  \n",
       "16                     0        0.6          14.3           Xhaka           10  \n",
       "17                     0        0.1           9.8        Torreira            7  \n",
       "18                     0        0.0           0.0          Elneny            0  \n",
       "19                     0        0.0          11.7       Guendouzi            6  \n",
       "20                     0        0.5          16.5      David Luiz            5  \n",
       "21                     0        0.8           7.5        Martínez            2  \n",
       "22                     0        0.0           9.8        Chambers            5  \n",
       "23                     0        0.4          11.0        Ceballos            1  \n",
       "24                     0        0.5          12.7          Cédric            1  \n",
       "25                     0        0.1          11.9            Pépé            4  \n",
       "26                     0        0.2           5.7          Nelson            1  \n",
       "27                     0        0.3           8.7         Willock            2  \n",
       "28                     0        0.0           9.3      Martinelli            1  \n",
       "29                     0        0.7           7.9         Tierney            2  \n",
       "..                   ...        ...           ...             ...          ...  \n",
       "636                    0        0.9          22.4           Jonny            4  \n",
       "637                    0        0.6          23.1           Coady            5  \n",
       "638                    0        0.7          19.8            Boly            1  \n",
       "639                    0        0.3           7.8         Vinagre            1  \n",
       "640                    0        0.5          21.9           Saïss           10  \n",
       "641                    0        0.0           1.3          Kilman            0  \n",
       "642                    0        0.5          24.2         Jiménez            3  \n",
       "643                    0        0.3          17.5            Jota            4  \n",
       "644                    0        0.7          28.9        Patrício            0  \n",
       "645                    0        0.0           0.0           Ruddy            0  \n",
       "646                    0        0.0           0.0          Norris            0  \n",
       "647                    0        0.6          18.7           Neves            9  \n",
       "648                    0        0.4          21.3        Moutinho            7  \n",
       "649                    0        0.0           2.3     Gibbs-White            0  \n",
       "650                    0        0.3          23.2          Traoré            1  \n",
       "651                    0        0.0           0.0           Costa            0  \n",
       "652                    0        0.0           0.0       Cavaleiro            0  \n",
       "653                    0        0.8          22.7      Dendoncker            5  \n",
       "654                    0        0.0           0.2         Vallejo            1  \n",
       "655                    0        0.0           4.3         Cutrone            0  \n",
       "656                    0        0.2          11.6            Neto            3  \n",
       "657                    0        0.0           0.0     Ashley-Seal            0  \n",
       "658                    0        0.0           0.0           Perry            0  \n",
       "659                    0        0.0           0.0        Otasowie            0  \n",
       "660                    0        0.0           0.0          Cundle            0  \n",
       "661                    0        0.0           0.0            Buur            0  \n",
       "662                    0        0.0           0.0           Giles            0  \n",
       "663                    0        0.0           0.2          Jordao            0  \n",
       "664                    0        0.6           5.1         Podence            0  \n",
       "665                    0        0.0           0.0         Campana            0  \n",
       "\n",
       "[666 rows x 61 columns]"
      ]
     },
     "execution_count": 29,
     "metadata": {},
     "output_type": "execute_result"
    }
   ],
   "source": [
    "path = '../Fantasy-Premier-League-master/data/2019-20'\n",
    "playerInfo = pd.read_csv(path + '/players_raw.csv')\n",
    "playerInfo"
   ]
  },
  {
   "cell_type": "code",
   "execution_count": 23,
   "metadata": {
    "scrolled": true
   },
   "outputs": [
    {
     "data": {
      "text/html": [
       "<div>\n",
       "<style scoped>\n",
       "    .dataframe tbody tr th:only-of-type {\n",
       "        vertical-align: middle;\n",
       "    }\n",
       "\n",
       "    .dataframe tbody tr th {\n",
       "        vertical-align: top;\n",
       "    }\n",
       "\n",
       "    .dataframe thead th {\n",
       "        text-align: right;\n",
       "    }\n",
       "</style>\n",
       "<table border=\"1\" class=\"dataframe\">\n",
       "  <thead>\n",
       "    <tr style=\"text-align: right;\">\n",
       "      <th></th>\n",
       "      <th>assists</th>\n",
       "      <th>games</th>\n",
       "      <th>goals</th>\n",
       "      <th>id</th>\n",
       "      <th>key_passes</th>\n",
       "      <th>npg</th>\n",
       "      <th>npxG</th>\n",
       "      <th>player_name</th>\n",
       "      <th>position</th>\n",
       "      <th>red_cards</th>\n",
       "      <th>shots</th>\n",
       "      <th>team_title</th>\n",
       "      <th>time</th>\n",
       "      <th>xA</th>\n",
       "      <th>xG</th>\n",
       "      <th>xGBuildup</th>\n",
       "      <th>xGChain</th>\n",
       "      <th>yellow_cards</th>\n",
       "    </tr>\n",
       "  </thead>\n",
       "  <tbody>\n",
       "    <tr>\n",
       "      <th>0</th>\n",
       "      <td>5</td>\n",
       "      <td>35</td>\n",
       "      <td>23</td>\n",
       "      <td>755</td>\n",
       "      <td>32</td>\n",
       "      <td>19</td>\n",
       "      <td>15.097693</td>\n",
       "      <td>Jamie Vardy</td>\n",
       "      <td>F S</td>\n",
       "      <td>0</td>\n",
       "      <td>89</td>\n",
       "      <td>Leicester</td>\n",
       "      <td>3034</td>\n",
       "      <td>6.368298</td>\n",
       "      <td>18.903537</td>\n",
       "      <td>1.724341</td>\n",
       "      <td>21.026607</td>\n",
       "      <td>3</td>\n",
       "    </tr>\n",
       "    <tr>\n",
       "      <th>1</th>\n",
       "      <td>3</td>\n",
       "      <td>36</td>\n",
       "      <td>22</td>\n",
       "      <td>318</td>\n",
       "      <td>26</td>\n",
       "      <td>20</td>\n",
       "      <td>14.830359</td>\n",
       "      <td>Pierre-Emerick Aubameyang</td>\n",
       "      <td>F M S</td>\n",
       "      <td>1</td>\n",
       "      <td>93</td>\n",
       "      <td>Arsenal</td>\n",
       "      <td>3143</td>\n",
       "      <td>4.492487</td>\n",
       "      <td>16.352623</td>\n",
       "      <td>5.339657</td>\n",
       "      <td>19.964282</td>\n",
       "      <td>3</td>\n",
       "    </tr>\n",
       "    <tr>\n",
       "      <th>2</th>\n",
       "      <td>2</td>\n",
       "      <td>38</td>\n",
       "      <td>22</td>\n",
       "      <td>986</td>\n",
       "      <td>35</td>\n",
       "      <td>21</td>\n",
       "      <td>14.137379</td>\n",
       "      <td>Danny Ings</td>\n",
       "      <td>F M S</td>\n",
       "      <td>0</td>\n",
       "      <td>93</td>\n",
       "      <td>Southampton</td>\n",
       "      <td>2836</td>\n",
       "      <td>2.849085</td>\n",
       "      <td>15.659717</td>\n",
       "      <td>5.015938</td>\n",
       "      <td>18.488031</td>\n",
       "      <td>3</td>\n",
       "    </tr>\n",
       "    <tr>\n",
       "      <th>3</th>\n",
       "      <td>1</td>\n",
       "      <td>33</td>\n",
       "      <td>20</td>\n",
       "      <td>618</td>\n",
       "      <td>48</td>\n",
       "      <td>20</td>\n",
       "      <td>18.277569</td>\n",
       "      <td>Raheem Sterling</td>\n",
       "      <td>F M S</td>\n",
       "      <td>0</td>\n",
       "      <td>100</td>\n",
       "      <td>Manchester City</td>\n",
       "      <td>2678</td>\n",
       "      <td>7.208586</td>\n",
       "      <td>19.799906</td>\n",
       "      <td>10.185997</td>\n",
       "      <td>31.442010</td>\n",
       "      <td>5</td>\n",
       "    </tr>\n",
       "    <tr>\n",
       "      <th>4</th>\n",
       "      <td>10</td>\n",
       "      <td>34</td>\n",
       "      <td>19</td>\n",
       "      <td>1250</td>\n",
       "      <td>60</td>\n",
       "      <td>16</td>\n",
       "      <td>18.379812</td>\n",
       "      <td>Mohamed Salah</td>\n",
       "      <td>F S</td>\n",
       "      <td>0</td>\n",
       "      <td>132</td>\n",
       "      <td>Liverpool</td>\n",
       "      <td>2904</td>\n",
       "      <td>8.726043</td>\n",
       "      <td>20.663319</td>\n",
       "      <td>8.425027</td>\n",
       "      <td>31.374198</td>\n",
       "      <td>1</td>\n",
       "    </tr>\n",
       "    <tr>\n",
       "      <th>5</th>\n",
       "      <td>2</td>\n",
       "      <td>29</td>\n",
       "      <td>18</td>\n",
       "      <td>647</td>\n",
       "      <td>27</td>\n",
       "      <td>16</td>\n",
       "      <td>11.774765</td>\n",
       "      <td>Harry Kane</td>\n",
       "      <td>F</td>\n",
       "      <td>0</td>\n",
       "      <td>82</td>\n",
       "      <td>Tottenham</td>\n",
       "      <td>2595</td>\n",
       "      <td>3.117006</td>\n",
       "      <td>13.297066</td>\n",
       "      <td>3.051301</td>\n",
       "      <td>16.854616</td>\n",
       "      <td>4</td>\n",
       "    </tr>\n",
       "    <tr>\n",
       "      <th>6</th>\n",
       "      <td>7</td>\n",
       "      <td>35</td>\n",
       "      <td>18</td>\n",
       "      <td>838</td>\n",
       "      <td>59</td>\n",
       "      <td>18</td>\n",
       "      <td>14.577483</td>\n",
       "      <td>Sadio Mané</td>\n",
       "      <td>F M S</td>\n",
       "      <td>0</td>\n",
       "      <td>77</td>\n",
       "      <td>Liverpool</td>\n",
       "      <td>2761</td>\n",
       "      <td>7.235693</td>\n",
       "      <td>14.577483</td>\n",
       "      <td>6.767014</td>\n",
       "      <td>25.073205</td>\n",
       "      <td>3</td>\n",
       "    </tr>\n",
       "    <tr>\n",
       "      <th>7</th>\n",
       "      <td>6</td>\n",
       "      <td>32</td>\n",
       "      <td>17</td>\n",
       "      <td>553</td>\n",
       "      <td>30</td>\n",
       "      <td>17</td>\n",
       "      <td>12.479326</td>\n",
       "      <td>Anthony Martial</td>\n",
       "      <td>F S</td>\n",
       "      <td>0</td>\n",
       "      <td>80</td>\n",
       "      <td>Manchester United</td>\n",
       "      <td>2672</td>\n",
       "      <td>4.618777</td>\n",
       "      <td>13.240495</td>\n",
       "      <td>6.357817</td>\n",
       "      <td>20.409563</td>\n",
       "      <td>1</td>\n",
       "    </tr>\n",
       "    <tr>\n",
       "      <th>8</th>\n",
       "      <td>7</td>\n",
       "      <td>31</td>\n",
       "      <td>17</td>\n",
       "      <td>556</td>\n",
       "      <td>33</td>\n",
       "      <td>11</td>\n",
       "      <td>13.414414</td>\n",
       "      <td>Marcus Rashford</td>\n",
       "      <td>F M</td>\n",
       "      <td>0</td>\n",
       "      <td>95</td>\n",
       "      <td>Manchester United</td>\n",
       "      <td>2673</td>\n",
       "      <td>5.457173</td>\n",
       "      <td>19.503728</td>\n",
       "      <td>5.906573</td>\n",
       "      <td>20.244798</td>\n",
       "      <td>3</td>\n",
       "    </tr>\n",
       "    <tr>\n",
       "      <th>9</th>\n",
       "      <td>6</td>\n",
       "      <td>38</td>\n",
       "      <td>17</td>\n",
       "      <td>4105</td>\n",
       "      <td>48</td>\n",
       "      <td>13</td>\n",
       "      <td>13.466123</td>\n",
       "      <td>Raúl Jiménez</td>\n",
       "      <td>F S</td>\n",
       "      <td>0</td>\n",
       "      <td>117</td>\n",
       "      <td>Wolverhampton Wanderers</td>\n",
       "      <td>3269</td>\n",
       "      <td>7.226941</td>\n",
       "      <td>16.510798</td>\n",
       "      <td>5.709533</td>\n",
       "      <td>22.560240</td>\n",
       "      <td>3</td>\n",
       "    </tr>\n",
       "    <tr>\n",
       "      <th>10</th>\n",
       "      <td>3</td>\n",
       "      <td>24</td>\n",
       "      <td>16</td>\n",
       "      <td>619</td>\n",
       "      <td>19</td>\n",
       "      <td>14</td>\n",
       "      <td>13.274031</td>\n",
       "      <td>Sergio Agüero</td>\n",
       "      <td>F S</td>\n",
       "      <td>0</td>\n",
       "      <td>76</td>\n",
       "      <td>Manchester City</td>\n",
       "      <td>1462</td>\n",
       "      <td>2.920209</td>\n",
       "      <td>15.557500</td>\n",
       "      <td>2.644766</td>\n",
       "      <td>16.878254</td>\n",
       "      <td>1</td>\n",
       "    </tr>\n",
       "    <tr>\n",
       "      <th>11</th>\n",
       "      <td>3</td>\n",
       "      <td>34</td>\n",
       "      <td>15</td>\n",
       "      <td>702</td>\n",
       "      <td>21</td>\n",
       "      <td>15</td>\n",
       "      <td>18.082802</td>\n",
       "      <td>Tammy Abraham</td>\n",
       "      <td>F S</td>\n",
       "      <td>0</td>\n",
       "      <td>88</td>\n",
       "      <td>Chelsea</td>\n",
       "      <td>2233</td>\n",
       "      <td>2.913048</td>\n",
       "      <td>18.082802</td>\n",
       "      <td>1.546151</td>\n",
       "      <td>19.841920</td>\n",
       "      <td>2</td>\n",
       "    </tr>\n",
       "    <tr>\n",
       "      <th>12</th>\n",
       "      <td>20</td>\n",
       "      <td>35</td>\n",
       "      <td>14</td>\n",
       "      <td>447</td>\n",
       "      <td>133</td>\n",
       "      <td>12</td>\n",
       "      <td>6.584090</td>\n",
       "      <td>Kevin De Bruyne</td>\n",
       "      <td>M S</td>\n",
       "      <td>0</td>\n",
       "      <td>100</td>\n",
       "      <td>Manchester City</td>\n",
       "      <td>2818</td>\n",
       "      <td>20.620707</td>\n",
       "      <td>8.106428</td>\n",
       "      <td>19.244824</td>\n",
       "      <td>37.798311</td>\n",
       "      <td>3</td>\n",
       "    </tr>\n",
       "    <tr>\n",
       "      <th>13</th>\n",
       "      <td>1</td>\n",
       "      <td>32</td>\n",
       "      <td>14</td>\n",
       "      <td>4456</td>\n",
       "      <td>22</td>\n",
       "      <td>13</td>\n",
       "      <td>16.465033</td>\n",
       "      <td>Chris Wood</td>\n",
       "      <td>F S</td>\n",
       "      <td>0</td>\n",
       "      <td>65</td>\n",
       "      <td>Burnley</td>\n",
       "      <td>2462</td>\n",
       "      <td>1.470996</td>\n",
       "      <td>17.226202</td>\n",
       "      <td>2.455411</td>\n",
       "      <td>12.642651</td>\n",
       "      <td>1</td>\n",
       "    </tr>\n",
       "    <tr>\n",
       "      <th>14</th>\n",
       "      <td>7</td>\n",
       "      <td>34</td>\n",
       "      <td>14</td>\n",
       "      <td>5543</td>\n",
       "      <td>32</td>\n",
       "      <td>14</td>\n",
       "      <td>20.254032</td>\n",
       "      <td>Gabriel Jesus</td>\n",
       "      <td>F S</td>\n",
       "      <td>0</td>\n",
       "      <td>101</td>\n",
       "      <td>Manchester City</td>\n",
       "      <td>2022</td>\n",
       "      <td>3.598858</td>\n",
       "      <td>21.015201</td>\n",
       "      <td>7.181310</td>\n",
       "      <td>27.652234</td>\n",
       "      <td>3</td>\n",
       "    </tr>\n",
       "    <tr>\n",
       "      <th>15</th>\n",
       "      <td>1</td>\n",
       "      <td>36</td>\n",
       "      <td>13</td>\n",
       "      <td>5555</td>\n",
       "      <td>15</td>\n",
       "      <td>13</td>\n",
       "      <td>16.109843</td>\n",
       "      <td>Dominic Calvert-Lewin</td>\n",
       "      <td>F S</td>\n",
       "      <td>0</td>\n",
       "      <td>85</td>\n",
       "      <td>Everton</td>\n",
       "      <td>2639</td>\n",
       "      <td>1.336225</td>\n",
       "      <td>16.109843</td>\n",
       "      <td>3.896764</td>\n",
       "      <td>17.212500</td>\n",
       "      <td>9</td>\n",
       "    </tr>\n",
       "    <tr>\n",
       "      <th>16</th>\n",
       "      <td>3</td>\n",
       "      <td>36</td>\n",
       "      <td>13</td>\n",
       "      <td>6026</td>\n",
       "      <td>34</td>\n",
       "      <td>13</td>\n",
       "      <td>9.842966</td>\n",
       "      <td>Richarlison</td>\n",
       "      <td>F M</td>\n",
       "      <td>0</td>\n",
       "      <td>89</td>\n",
       "      <td>Everton</td>\n",
       "      <td>3100</td>\n",
       "      <td>6.668134</td>\n",
       "      <td>9.842966</td>\n",
       "      <td>5.198306</td>\n",
       "      <td>16.459750</td>\n",
       "      <td>8</td>\n",
       "    </tr>\n",
       "    <tr>\n",
       "      <th>17</th>\n",
       "      <td>10</td>\n",
       "      <td>30</td>\n",
       "      <td>11</td>\n",
       "      <td>453</td>\n",
       "      <td>41</td>\n",
       "      <td>11</td>\n",
       "      <td>8.940536</td>\n",
       "      <td>Son Heung-Min</td>\n",
       "      <td>F M S</td>\n",
       "      <td>2</td>\n",
       "      <td>81</td>\n",
       "      <td>Tottenham</td>\n",
       "      <td>2511</td>\n",
       "      <td>6.721727</td>\n",
       "      <td>9.701705</td>\n",
       "      <td>6.514013</td>\n",
       "      <td>18.800012</td>\n",
       "      <td>0</td>\n",
       "    </tr>\n",
       "    <tr>\n",
       "      <th>18</th>\n",
       "      <td>9</td>\n",
       "      <td>33</td>\n",
       "      <td>11</td>\n",
       "      <td>750</td>\n",
       "      <td>60</td>\n",
       "      <td>10</td>\n",
       "      <td>7.888487</td>\n",
       "      <td>Riyad Mahrez</td>\n",
       "      <td>F M S</td>\n",
       "      <td>0</td>\n",
       "      <td>74</td>\n",
       "      <td>Manchester City</td>\n",
       "      <td>1938</td>\n",
       "      <td>11.059849</td>\n",
       "      <td>8.649656</td>\n",
       "      <td>13.285881</td>\n",
       "      <td>27.765530</td>\n",
       "      <td>0</td>\n",
       "    </tr>\n",
       "    <tr>\n",
       "      <th>19</th>\n",
       "      <td>3</td>\n",
       "      <td>36</td>\n",
       "      <td>11</td>\n",
       "      <td>7696</td>\n",
       "      <td>30</td>\n",
       "      <td>9</td>\n",
       "      <td>10.002007</td>\n",
       "      <td>Teemu Pukki</td>\n",
       "      <td>F S</td>\n",
       "      <td>0</td>\n",
       "      <td>80</td>\n",
       "      <td>Norwich</td>\n",
       "      <td>2908</td>\n",
       "      <td>3.619015</td>\n",
       "      <td>11.524345</td>\n",
       "      <td>2.368442</td>\n",
       "      <td>14.751466</td>\n",
       "      <td>3</td>\n",
       "    </tr>\n",
       "    <tr>\n",
       "      <th>20</th>\n",
       "      <td>3</td>\n",
       "      <td>24</td>\n",
       "      <td>10</td>\n",
       "      <td>531</td>\n",
       "      <td>26</td>\n",
       "      <td>9</td>\n",
       "      <td>12.488380</td>\n",
       "      <td>Michail Antonio</td>\n",
       "      <td>F M S</td>\n",
       "      <td>0</td>\n",
       "      <td>68</td>\n",
       "      <td>West Ham</td>\n",
       "      <td>1767</td>\n",
       "      <td>3.921495</td>\n",
       "      <td>13.249549</td>\n",
       "      <td>2.270156</td>\n",
       "      <td>13.959707</td>\n",
       "      <td>3</td>\n",
       "    </tr>\n",
       "    <tr>\n",
       "      <th>21</th>\n",
       "      <td>2</td>\n",
       "      <td>27</td>\n",
       "      <td>10</td>\n",
       "      <td>574</td>\n",
       "      <td>29</td>\n",
       "      <td>5</td>\n",
       "      <td>7.022181</td>\n",
       "      <td>Troy Deeney</td>\n",
       "      <td>F S</td>\n",
       "      <td>0</td>\n",
       "      <td>45</td>\n",
       "      <td>Watford</td>\n",
       "      <td>2253</td>\n",
       "      <td>3.735703</td>\n",
       "      <td>11.589194</td>\n",
       "      <td>3.334598</td>\n",
       "      <td>11.632464</td>\n",
       "      <td>3</td>\n",
       "    </tr>\n",
       "    <tr>\n",
       "      <th>22</th>\n",
       "      <td>4</td>\n",
       "      <td>30</td>\n",
       "      <td>10</td>\n",
       "      <td>3277</td>\n",
       "      <td>24</td>\n",
       "      <td>10</td>\n",
       "      <td>8.664648</td>\n",
       "      <td>Alexandre Lacazette</td>\n",
       "      <td>F S</td>\n",
       "      <td>0</td>\n",
       "      <td>52</td>\n",
       "      <td>Arsenal</td>\n",
       "      <td>1890</td>\n",
       "      <td>3.342291</td>\n",
       "      <td>8.664648</td>\n",
       "      <td>2.505635</td>\n",
       "      <td>12.061302</td>\n",
       "      <td>8</td>\n",
       "    </tr>\n",
       "    <tr>\n",
       "      <th>23</th>\n",
       "      <td>3</td>\n",
       "      <td>37</td>\n",
       "      <td>10</td>\n",
       "      <td>3621</td>\n",
       "      <td>25</td>\n",
       "      <td>9</td>\n",
       "      <td>12.036206</td>\n",
       "      <td>Neal Maupay</td>\n",
       "      <td>F S</td>\n",
       "      <td>0</td>\n",
       "      <td>96</td>\n",
       "      <td>Brighton</td>\n",
       "      <td>2782</td>\n",
       "      <td>2.506131</td>\n",
       "      <td>13.558543</td>\n",
       "      <td>3.483617</td>\n",
       "      <td>13.855043</td>\n",
       "      <td>3</td>\n",
       "    </tr>\n",
       "    <tr>\n",
       "      <th>24</th>\n",
       "      <td>1</td>\n",
       "      <td>31</td>\n",
       "      <td>10</td>\n",
       "      <td>7490</td>\n",
       "      <td>14</td>\n",
       "      <td>10</td>\n",
       "      <td>3.387857</td>\n",
       "      <td>Mason Greenwood</td>\n",
       "      <td>F M S</td>\n",
       "      <td>0</td>\n",
       "      <td>39</td>\n",
       "      <td>Manchester United</td>\n",
       "      <td>1304</td>\n",
       "      <td>1.411508</td>\n",
       "      <td>3.387857</td>\n",
       "      <td>4.284458</td>\n",
       "      <td>8.516980</td>\n",
       "      <td>0</td>\n",
       "    </tr>\n",
       "    <tr>\n",
       "      <th>25</th>\n",
       "      <td>8</td>\n",
       "      <td>38</td>\n",
       "      <td>9</td>\n",
       "      <td>482</td>\n",
       "      <td>52</td>\n",
       "      <td>9</td>\n",
       "      <td>16.686229</td>\n",
       "      <td>Roberto Firmino</td>\n",
       "      <td>F M S</td>\n",
       "      <td>0</td>\n",
       "      <td>98</td>\n",
       "      <td>Liverpool</td>\n",
       "      <td>3035</td>\n",
       "      <td>7.346656</td>\n",
       "      <td>16.686229</td>\n",
       "      <td>9.463312</td>\n",
       "      <td>28.271101</td>\n",
       "      <td>0</td>\n",
       "    </tr>\n",
       "    <tr>\n",
       "      <th>26</th>\n",
       "      <td>2</td>\n",
       "      <td>37</td>\n",
       "      <td>9</td>\n",
       "      <td>672</td>\n",
       "      <td>30</td>\n",
       "      <td>9</td>\n",
       "      <td>7.676179</td>\n",
       "      <td>Jordan Ayew</td>\n",
       "      <td>F M</td>\n",
       "      <td>0</td>\n",
       "      <td>58</td>\n",
       "      <td>Crystal Palace</td>\n",
       "      <td>3196</td>\n",
       "      <td>2.864642</td>\n",
       "      <td>7.676179</td>\n",
       "      <td>3.877392</td>\n",
       "      <td>11.721330</td>\n",
       "      <td>6</td>\n",
       "    </tr>\n",
       "    <tr>\n",
       "      <th>27</th>\n",
       "      <td>7</td>\n",
       "      <td>36</td>\n",
       "      <td>9</td>\n",
       "      <td>700</td>\n",
       "      <td>76</td>\n",
       "      <td>5</td>\n",
       "      <td>5.090662</td>\n",
       "      <td>Willian</td>\n",
       "      <td>F M S</td>\n",
       "      <td>0</td>\n",
       "      <td>71</td>\n",
       "      <td>Chelsea</td>\n",
       "      <td>2609</td>\n",
       "      <td>8.679427</td>\n",
       "      <td>8.135337</td>\n",
       "      <td>10.227612</td>\n",
       "      <td>18.409354</td>\n",
       "      <td>4</td>\n",
       "    </tr>\n",
       "    <tr>\n",
       "      <th>28</th>\n",
       "      <td>4</td>\n",
       "      <td>25</td>\n",
       "      <td>9</td>\n",
       "      <td>2662</td>\n",
       "      <td>30</td>\n",
       "      <td>9</td>\n",
       "      <td>8.925186</td>\n",
       "      <td>Christian Pulisic</td>\n",
       "      <td>F M S</td>\n",
       "      <td>0</td>\n",
       "      <td>63</td>\n",
       "      <td>Chelsea</td>\n",
       "      <td>1738</td>\n",
       "      <td>4.296080</td>\n",
       "      <td>8.925186</td>\n",
       "      <td>7.069777</td>\n",
       "      <td>16.746663</td>\n",
       "      <td>0</td>\n",
       "    </tr>\n",
       "    <tr>\n",
       "      <th>29</th>\n",
       "      <td>1</td>\n",
       "      <td>35</td>\n",
       "      <td>8</td>\n",
       "      <td>468</td>\n",
       "      <td>30</td>\n",
       "      <td>8</td>\n",
       "      <td>9.842874</td>\n",
       "      <td>Callum Wilson</td>\n",
       "      <td>F S</td>\n",
       "      <td>0</td>\n",
       "      <td>53</td>\n",
       "      <td>Bournemouth</td>\n",
       "      <td>2916</td>\n",
       "      <td>3.349536</td>\n",
       "      <td>9.842874</td>\n",
       "      <td>2.707836</td>\n",
       "      <td>12.562949</td>\n",
       "      <td>10</td>\n",
       "    </tr>\n",
       "    <tr>\n",
       "      <th>...</th>\n",
       "      <td>...</td>\n",
       "      <td>...</td>\n",
       "      <td>...</td>\n",
       "      <td>...</td>\n",
       "      <td>...</td>\n",
       "      <td>...</td>\n",
       "      <td>...</td>\n",
       "      <td>...</td>\n",
       "      <td>...</td>\n",
       "      <td>...</td>\n",
       "      <td>...</td>\n",
       "      <td>...</td>\n",
       "      <td>...</td>\n",
       "      <td>...</td>\n",
       "      <td>...</td>\n",
       "      <td>...</td>\n",
       "      <td>...</td>\n",
       "      <td>...</td>\n",
       "    </tr>\n",
       "    <tr>\n",
       "      <th>485</th>\n",
       "      <td>0</td>\n",
       "      <td>8</td>\n",
       "      <td>0</td>\n",
       "      <td>8090</td>\n",
       "      <td>1</td>\n",
       "      <td>0</td>\n",
       "      <td>0.035675</td>\n",
       "      <td>Lloyd Kelly</td>\n",
       "      <td>D S</td>\n",
       "      <td>0</td>\n",
       "      <td>1</td>\n",
       "      <td>Bournemouth</td>\n",
       "      <td>634</td>\n",
       "      <td>0.138222</td>\n",
       "      <td>0.035675</td>\n",
       "      <td>0.515837</td>\n",
       "      <td>0.654060</td>\n",
       "      <td>2</td>\n",
       "    </tr>\n",
       "    <tr>\n",
       "      <th>486</th>\n",
       "      <td>0</td>\n",
       "      <td>2</td>\n",
       "      <td>0</td>\n",
       "      <td>8145</td>\n",
       "      <td>0</td>\n",
       "      <td>0</td>\n",
       "      <td>0.000000</td>\n",
       "      <td>Troy Parrott</td>\n",
       "      <td>S</td>\n",
       "      <td>0</td>\n",
       "      <td>0</td>\n",
       "      <td>Tottenham</td>\n",
       "      <td>3</td>\n",
       "      <td>0.000000</td>\n",
       "      <td>0.000000</td>\n",
       "      <td>0.000000</td>\n",
       "      <td>0.000000</td>\n",
       "      <td>0</td>\n",
       "    </tr>\n",
       "    <tr>\n",
       "      <th>487</th>\n",
       "      <td>1</td>\n",
       "      <td>11</td>\n",
       "      <td>0</td>\n",
       "      <td>8150</td>\n",
       "      <td>6</td>\n",
       "      <td>0</td>\n",
       "      <td>0.327071</td>\n",
       "      <td>Anthony Gordon</td>\n",
       "      <td>M S</td>\n",
       "      <td>0</td>\n",
       "      <td>6</td>\n",
       "      <td>Everton</td>\n",
       "      <td>438</td>\n",
       "      <td>0.339950</td>\n",
       "      <td>0.327071</td>\n",
       "      <td>0.328935</td>\n",
       "      <td>0.895637</td>\n",
       "      <td>0</td>\n",
       "    </tr>\n",
       "    <tr>\n",
       "      <th>488</th>\n",
       "      <td>0</td>\n",
       "      <td>6</td>\n",
       "      <td>0</td>\n",
       "      <td>8204</td>\n",
       "      <td>2</td>\n",
       "      <td>0</td>\n",
       "      <td>0.233528</td>\n",
       "      <td>Neco Williams</td>\n",
       "      <td>D S</td>\n",
       "      <td>0</td>\n",
       "      <td>7</td>\n",
       "      <td>Liverpool</td>\n",
       "      <td>235</td>\n",
       "      <td>0.046672</td>\n",
       "      <td>0.233528</td>\n",
       "      <td>0.727928</td>\n",
       "      <td>0.930302</td>\n",
       "      <td>1</td>\n",
       "    </tr>\n",
       "    <tr>\n",
       "      <th>489</th>\n",
       "      <td>0</td>\n",
       "      <td>4</td>\n",
       "      <td>0</td>\n",
       "      <td>8214</td>\n",
       "      <td>4</td>\n",
       "      <td>0</td>\n",
       "      <td>0.000000</td>\n",
       "      <td>Tyrick Mitchell</td>\n",
       "      <td>D S</td>\n",
       "      <td>0</td>\n",
       "      <td>0</td>\n",
       "      <td>Crystal Palace</td>\n",
       "      <td>186</td>\n",
       "      <td>0.189811</td>\n",
       "      <td>0.000000</td>\n",
       "      <td>0.454187</td>\n",
       "      <td>0.505854</td>\n",
       "      <td>1</td>\n",
       "    </tr>\n",
       "    <tr>\n",
       "      <th>490</th>\n",
       "      <td>0</td>\n",
       "      <td>2</td>\n",
       "      <td>0</td>\n",
       "      <td>8216</td>\n",
       "      <td>2</td>\n",
       "      <td>0</td>\n",
       "      <td>0.000000</td>\n",
       "      <td>Brandon Pierrick</td>\n",
       "      <td>S</td>\n",
       "      <td>0</td>\n",
       "      <td>0</td>\n",
       "      <td>Crystal Palace</td>\n",
       "      <td>10</td>\n",
       "      <td>0.095519</td>\n",
       "      <td>0.000000</td>\n",
       "      <td>0.000000</td>\n",
       "      <td>0.095519</td>\n",
       "      <td>0</td>\n",
       "    </tr>\n",
       "    <tr>\n",
       "      <th>491</th>\n",
       "      <td>0</td>\n",
       "      <td>6</td>\n",
       "      <td>0</td>\n",
       "      <td>8222</td>\n",
       "      <td>1</td>\n",
       "      <td>0</td>\n",
       "      <td>0.053468</td>\n",
       "      <td>Japhet Tanganga</td>\n",
       "      <td>D M</td>\n",
       "      <td>0</td>\n",
       "      <td>3</td>\n",
       "      <td>Tottenham</td>\n",
       "      <td>528</td>\n",
       "      <td>0.029118</td>\n",
       "      <td>0.053468</td>\n",
       "      <td>0.708457</td>\n",
       "      <td>0.748960</td>\n",
       "      <td>1</td>\n",
       "    </tr>\n",
       "    <tr>\n",
       "      <th>492</th>\n",
       "      <td>2</td>\n",
       "      <td>9</td>\n",
       "      <td>0</td>\n",
       "      <td>8224</td>\n",
       "      <td>3</td>\n",
       "      <td>0</td>\n",
       "      <td>0.295871</td>\n",
       "      <td>William Smallbone</td>\n",
       "      <td>M S</td>\n",
       "      <td>0</td>\n",
       "      <td>6</td>\n",
       "      <td>Southampton</td>\n",
       "      <td>401</td>\n",
       "      <td>0.172171</td>\n",
       "      <td>0.295871</td>\n",
       "      <td>0.633247</td>\n",
       "      <td>1.059664</td>\n",
       "      <td>0</td>\n",
       "    </tr>\n",
       "    <tr>\n",
       "      <th>493</th>\n",
       "      <td>1</td>\n",
       "      <td>9</td>\n",
       "      <td>0</td>\n",
       "      <td>8226</td>\n",
       "      <td>7</td>\n",
       "      <td>0</td>\n",
       "      <td>0.071201</td>\n",
       "      <td>Tariq Lamptey</td>\n",
       "      <td>D M S</td>\n",
       "      <td>0</td>\n",
       "      <td>2</td>\n",
       "      <td>Brighton,Chelsea</td>\n",
       "      <td>624</td>\n",
       "      <td>1.149047</td>\n",
       "      <td>0.071201</td>\n",
       "      <td>0.595981</td>\n",
       "      <td>1.177602</td>\n",
       "      <td>2</td>\n",
       "    </tr>\n",
       "    <tr>\n",
       "      <th>494</th>\n",
       "      <td>0</td>\n",
       "      <td>5</td>\n",
       "      <td>0</td>\n",
       "      <td>8235</td>\n",
       "      <td>0</td>\n",
       "      <td>0</td>\n",
       "      <td>0.014037</td>\n",
       "      <td>Jeremy Ngakia</td>\n",
       "      <td>D</td>\n",
       "      <td>0</td>\n",
       "      <td>1</td>\n",
       "      <td>West Ham</td>\n",
       "      <td>442</td>\n",
       "      <td>0.000000</td>\n",
       "      <td>0.014037</td>\n",
       "      <td>0.877928</td>\n",
       "      <td>0.891965</td>\n",
       "      <td>0</td>\n",
       "    </tr>\n",
       "    <tr>\n",
       "      <th>495</th>\n",
       "      <td>0</td>\n",
       "      <td>10</td>\n",
       "      <td>0</td>\n",
       "      <td>8239</td>\n",
       "      <td>1</td>\n",
       "      <td>0</td>\n",
       "      <td>0.838237</td>\n",
       "      <td>Takumi Minamino</td>\n",
       "      <td>F S</td>\n",
       "      <td>0</td>\n",
       "      <td>8</td>\n",
       "      <td>Liverpool</td>\n",
       "      <td>233</td>\n",
       "      <td>0.016143</td>\n",
       "      <td>0.838237</td>\n",
       "      <td>0.431189</td>\n",
       "      <td>1.212132</td>\n",
       "      <td>0</td>\n",
       "    </tr>\n",
       "    <tr>\n",
       "      <th>496</th>\n",
       "      <td>0</td>\n",
       "      <td>4</td>\n",
       "      <td>0</td>\n",
       "      <td>8254</td>\n",
       "      <td>0</td>\n",
       "      <td>0</td>\n",
       "      <td>0.032814</td>\n",
       "      <td>Indiana Vassilev</td>\n",
       "      <td>S</td>\n",
       "      <td>0</td>\n",
       "      <td>1</td>\n",
       "      <td>Aston Villa</td>\n",
       "      <td>35</td>\n",
       "      <td>0.000000</td>\n",
       "      <td>0.032814</td>\n",
       "      <td>0.000000</td>\n",
       "      <td>0.032814</td>\n",
       "      <td>0</td>\n",
       "    </tr>\n",
       "    <tr>\n",
       "      <th>497</th>\n",
       "      <td>0</td>\n",
       "      <td>7</td>\n",
       "      <td>0</td>\n",
       "      <td>8257</td>\n",
       "      <td>2</td>\n",
       "      <td>0</td>\n",
       "      <td>0.019951</td>\n",
       "      <td>Gedson Fernandes</td>\n",
       "      <td>S</td>\n",
       "      <td>0</td>\n",
       "      <td>1</td>\n",
       "      <td>Tottenham</td>\n",
       "      <td>51</td>\n",
       "      <td>0.091910</td>\n",
       "      <td>0.019951</td>\n",
       "      <td>0.156099</td>\n",
       "      <td>0.267960</td>\n",
       "      <td>0</td>\n",
       "    </tr>\n",
       "    <tr>\n",
       "      <th>498</th>\n",
       "      <td>0</td>\n",
       "      <td>3</td>\n",
       "      <td>0</td>\n",
       "      <td>8272</td>\n",
       "      <td>0</td>\n",
       "      <td>0</td>\n",
       "      <td>0.042924</td>\n",
       "      <td>João Pedro</td>\n",
       "      <td>S</td>\n",
       "      <td>0</td>\n",
       "      <td>1</td>\n",
       "      <td>Watford</td>\n",
       "      <td>14</td>\n",
       "      <td>0.000000</td>\n",
       "      <td>0.042924</td>\n",
       "      <td>0.000000</td>\n",
       "      <td>0.042924</td>\n",
       "      <td>0</td>\n",
       "    </tr>\n",
       "    <tr>\n",
       "      <th>499</th>\n",
       "      <td>0</td>\n",
       "      <td>6</td>\n",
       "      <td>0</td>\n",
       "      <td>8286</td>\n",
       "      <td>2</td>\n",
       "      <td>0</td>\n",
       "      <td>0.000000</td>\n",
       "      <td>Jack Robinson</td>\n",
       "      <td>D</td>\n",
       "      <td>0</td>\n",
       "      <td>0</td>\n",
       "      <td>Sheffield United</td>\n",
       "      <td>507</td>\n",
       "      <td>0.148166</td>\n",
       "      <td>0.000000</td>\n",
       "      <td>0.944510</td>\n",
       "      <td>1.092676</td>\n",
       "      <td>0</td>\n",
       "    </tr>\n",
       "    <tr>\n",
       "      <th>500</th>\n",
       "      <td>0</td>\n",
       "      <td>10</td>\n",
       "      <td>0</td>\n",
       "      <td>8323</td>\n",
       "      <td>3</td>\n",
       "      <td>0</td>\n",
       "      <td>0.318044</td>\n",
       "      <td>Josh Brownhill</td>\n",
       "      <td>M S</td>\n",
       "      <td>0</td>\n",
       "      <td>6</td>\n",
       "      <td>Burnley</td>\n",
       "      <td>808</td>\n",
       "      <td>0.122257</td>\n",
       "      <td>0.318044</td>\n",
       "      <td>1.890851</td>\n",
       "      <td>2.098624</td>\n",
       "      <td>2</td>\n",
       "    </tr>\n",
       "    <tr>\n",
       "      <th>501</th>\n",
       "      <td>0</td>\n",
       "      <td>9</td>\n",
       "      <td>0</td>\n",
       "      <td>8379</td>\n",
       "      <td>5</td>\n",
       "      <td>0</td>\n",
       "      <td>0.587468</td>\n",
       "      <td>Alexis Mac Allister</td>\n",
       "      <td>F M S</td>\n",
       "      <td>0</td>\n",
       "      <td>7</td>\n",
       "      <td>Brighton</td>\n",
       "      <td>357</td>\n",
       "      <td>0.203351</td>\n",
       "      <td>0.587468</td>\n",
       "      <td>0.500704</td>\n",
       "      <td>1.172588</td>\n",
       "      <td>0</td>\n",
       "    </tr>\n",
       "    <tr>\n",
       "      <th>502</th>\n",
       "      <td>0</td>\n",
       "      <td>2</td>\n",
       "      <td>0</td>\n",
       "      <td>8380</td>\n",
       "      <td>0</td>\n",
       "      <td>0</td>\n",
       "      <td>0.000000</td>\n",
       "      <td>Pablo Marí</td>\n",
       "      <td>D</td>\n",
       "      <td>0</td>\n",
       "      <td>0</td>\n",
       "      <td>Arsenal</td>\n",
       "      <td>113</td>\n",
       "      <td>0.000000</td>\n",
       "      <td>0.000000</td>\n",
       "      <td>0.513599</td>\n",
       "      <td>0.513599</td>\n",
       "      <td>0</td>\n",
       "    </tr>\n",
       "    <tr>\n",
       "      <th>503</th>\n",
       "      <td>0</td>\n",
       "      <td>1</td>\n",
       "      <td>0</td>\n",
       "      <td>8383</td>\n",
       "      <td>0</td>\n",
       "      <td>0</td>\n",
       "      <td>0.016683</td>\n",
       "      <td>Faustino Anjorin</td>\n",
       "      <td>S</td>\n",
       "      <td>0</td>\n",
       "      <td>1</td>\n",
       "      <td>Chelsea</td>\n",
       "      <td>19</td>\n",
       "      <td>0.000000</td>\n",
       "      <td>0.016683</td>\n",
       "      <td>0.000000</td>\n",
       "      <td>0.016683</td>\n",
       "      <td>0</td>\n",
       "    </tr>\n",
       "    <tr>\n",
       "      <th>504</th>\n",
       "      <td>0</td>\n",
       "      <td>1</td>\n",
       "      <td>0</td>\n",
       "      <td>8384</td>\n",
       "      <td>0</td>\n",
       "      <td>0</td>\n",
       "      <td>0.000000</td>\n",
       "      <td>Armando Broja</td>\n",
       "      <td>S</td>\n",
       "      <td>0</td>\n",
       "      <td>0</td>\n",
       "      <td>Chelsea</td>\n",
       "      <td>4</td>\n",
       "      <td>0.000000</td>\n",
       "      <td>0.000000</td>\n",
       "      <td>0.020873</td>\n",
       "      <td>0.020873</td>\n",
       "      <td>0</td>\n",
       "    </tr>\n",
       "    <tr>\n",
       "      <th>505</th>\n",
       "      <td>0</td>\n",
       "      <td>5</td>\n",
       "      <td>0</td>\n",
       "      <td>8455</td>\n",
       "      <td>0</td>\n",
       "      <td>0</td>\n",
       "      <td>0.106460</td>\n",
       "      <td>Josh Martin</td>\n",
       "      <td>S</td>\n",
       "      <td>0</td>\n",
       "      <td>1</td>\n",
       "      <td>Norwich</td>\n",
       "      <td>25</td>\n",
       "      <td>0.000000</td>\n",
       "      <td>0.106460</td>\n",
       "      <td>0.000000</td>\n",
       "      <td>0.106460</td>\n",
       "      <td>0</td>\n",
       "    </tr>\n",
       "    <tr>\n",
       "      <th>506</th>\n",
       "      <td>0</td>\n",
       "      <td>1</td>\n",
       "      <td>0</td>\n",
       "      <td>8456</td>\n",
       "      <td>0</td>\n",
       "      <td>0</td>\n",
       "      <td>0.075786</td>\n",
       "      <td>Nathan Tella</td>\n",
       "      <td>S</td>\n",
       "      <td>0</td>\n",
       "      <td>1</td>\n",
       "      <td>Southampton</td>\n",
       "      <td>1</td>\n",
       "      <td>0.000000</td>\n",
       "      <td>0.075786</td>\n",
       "      <td>0.000000</td>\n",
       "      <td>0.075786</td>\n",
       "      <td>0</td>\n",
       "    </tr>\n",
       "    <tr>\n",
       "      <th>507</th>\n",
       "      <td>0</td>\n",
       "      <td>5</td>\n",
       "      <td>0</td>\n",
       "      <td>8472</td>\n",
       "      <td>2</td>\n",
       "      <td>0</td>\n",
       "      <td>0.064039</td>\n",
       "      <td>Richairo Zivkovic</td>\n",
       "      <td>S</td>\n",
       "      <td>0</td>\n",
       "      <td>1</td>\n",
       "      <td>Sheffield United</td>\n",
       "      <td>95</td>\n",
       "      <td>0.138025</td>\n",
       "      <td>0.064039</td>\n",
       "      <td>0.205647</td>\n",
       "      <td>0.205647</td>\n",
       "      <td>0</td>\n",
       "    </tr>\n",
       "    <tr>\n",
       "      <th>508</th>\n",
       "      <td>0</td>\n",
       "      <td>4</td>\n",
       "      <td>0</td>\n",
       "      <td>8476</td>\n",
       "      <td>0</td>\n",
       "      <td>0</td>\n",
       "      <td>0.000000</td>\n",
       "      <td>Jarrad Branthwaite</td>\n",
       "      <td>D S</td>\n",
       "      <td>0</td>\n",
       "      <td>0</td>\n",
       "      <td>Everton</td>\n",
       "      <td>296</td>\n",
       "      <td>0.000000</td>\n",
       "      <td>0.000000</td>\n",
       "      <td>1.471693</td>\n",
       "      <td>1.471693</td>\n",
       "      <td>0</td>\n",
       "    </tr>\n",
       "    <tr>\n",
       "      <th>509</th>\n",
       "      <td>0</td>\n",
       "      <td>1</td>\n",
       "      <td>0</td>\n",
       "      <td>8480</td>\n",
       "      <td>0</td>\n",
       "      <td>0</td>\n",
       "      <td>0.000000</td>\n",
       "      <td>Max Thompson</td>\n",
       "      <td>S</td>\n",
       "      <td>0</td>\n",
       "      <td>0</td>\n",
       "      <td>Burnley</td>\n",
       "      <td>1</td>\n",
       "      <td>0.000000</td>\n",
       "      <td>0.000000</td>\n",
       "      <td>0.000000</td>\n",
       "      <td>0.000000</td>\n",
       "      <td>0</td>\n",
       "    </tr>\n",
       "    <tr>\n",
       "      <th>510</th>\n",
       "      <td>0</td>\n",
       "      <td>1</td>\n",
       "      <td>0</td>\n",
       "      <td>8493</td>\n",
       "      <td>1</td>\n",
       "      <td>0</td>\n",
       "      <td>0.013284</td>\n",
       "      <td>Jake Vokins</td>\n",
       "      <td>D</td>\n",
       "      <td>0</td>\n",
       "      <td>1</td>\n",
       "      <td>Southampton</td>\n",
       "      <td>90</td>\n",
       "      <td>0.096596</td>\n",
       "      <td>0.013284</td>\n",
       "      <td>0.488577</td>\n",
       "      <td>0.501861</td>\n",
       "      <td>0</td>\n",
       "    </tr>\n",
       "    <tr>\n",
       "      <th>511</th>\n",
       "      <td>0</td>\n",
       "      <td>1</td>\n",
       "      <td>0</td>\n",
       "      <td>8496</td>\n",
       "      <td>0</td>\n",
       "      <td>0</td>\n",
       "      <td>0.077601</td>\n",
       "      <td>Tommy Doyle</td>\n",
       "      <td>S</td>\n",
       "      <td>0</td>\n",
       "      <td>1</td>\n",
       "      <td>Manchester City</td>\n",
       "      <td>13</td>\n",
       "      <td>0.000000</td>\n",
       "      <td>0.077601</td>\n",
       "      <td>0.000000</td>\n",
       "      <td>0.077601</td>\n",
       "      <td>0</td>\n",
       "    </tr>\n",
       "    <tr>\n",
       "      <th>512</th>\n",
       "      <td>0</td>\n",
       "      <td>1</td>\n",
       "      <td>0</td>\n",
       "      <td>8518</td>\n",
       "      <td>0</td>\n",
       "      <td>0</td>\n",
       "      <td>0.000000</td>\n",
       "      <td>Jordan Thomas</td>\n",
       "      <td>S</td>\n",
       "      <td>0</td>\n",
       "      <td>0</td>\n",
       "      <td>Norwich</td>\n",
       "      <td>1</td>\n",
       "      <td>0.000000</td>\n",
       "      <td>0.000000</td>\n",
       "      <td>0.000000</td>\n",
       "      <td>0.000000</td>\n",
       "      <td>0</td>\n",
       "    </tr>\n",
       "    <tr>\n",
       "      <th>513</th>\n",
       "      <td>1</td>\n",
       "      <td>3</td>\n",
       "      <td>0</td>\n",
       "      <td>8562</td>\n",
       "      <td>9</td>\n",
       "      <td>0</td>\n",
       "      <td>0.000000</td>\n",
       "      <td>Luke Thomas</td>\n",
       "      <td>M</td>\n",
       "      <td>0</td>\n",
       "      <td>0</td>\n",
       "      <td>Leicester</td>\n",
       "      <td>270</td>\n",
       "      <td>0.629982</td>\n",
       "      <td>0.000000</td>\n",
       "      <td>1.267736</td>\n",
       "      <td>1.378853</td>\n",
       "      <td>0</td>\n",
       "    </tr>\n",
       "    <tr>\n",
       "      <th>514</th>\n",
       "      <td>0</td>\n",
       "      <td>2</td>\n",
       "      <td>0</td>\n",
       "      <td>8563</td>\n",
       "      <td>0</td>\n",
       "      <td>0</td>\n",
       "      <td>0.100603</td>\n",
       "      <td>George Hirst</td>\n",
       "      <td>S</td>\n",
       "      <td>0</td>\n",
       "      <td>3</td>\n",
       "      <td>Leicester</td>\n",
       "      <td>5</td>\n",
       "      <td>0.000000</td>\n",
       "      <td>0.100603</td>\n",
       "      <td>0.000000</td>\n",
       "      <td>0.021223</td>\n",
       "      <td>0</td>\n",
       "    </tr>\n",
       "  </tbody>\n",
       "</table>\n",
       "<p>515 rows × 18 columns</p>\n",
       "</div>"
      ],
      "text/plain": [
       "     assists  games  goals    id  key_passes  npg       npxG  \\\n",
       "0          5     35     23   755          32   19  15.097693   \n",
       "1          3     36     22   318          26   20  14.830359   \n",
       "2          2     38     22   986          35   21  14.137379   \n",
       "3          1     33     20   618          48   20  18.277569   \n",
       "4         10     34     19  1250          60   16  18.379812   \n",
       "5          2     29     18   647          27   16  11.774765   \n",
       "6          7     35     18   838          59   18  14.577483   \n",
       "7          6     32     17   553          30   17  12.479326   \n",
       "8          7     31     17   556          33   11  13.414414   \n",
       "9          6     38     17  4105          48   13  13.466123   \n",
       "10         3     24     16   619          19   14  13.274031   \n",
       "11         3     34     15   702          21   15  18.082802   \n",
       "12        20     35     14   447         133   12   6.584090   \n",
       "13         1     32     14  4456          22   13  16.465033   \n",
       "14         7     34     14  5543          32   14  20.254032   \n",
       "15         1     36     13  5555          15   13  16.109843   \n",
       "16         3     36     13  6026          34   13   9.842966   \n",
       "17        10     30     11   453          41   11   8.940536   \n",
       "18         9     33     11   750          60   10   7.888487   \n",
       "19         3     36     11  7696          30    9  10.002007   \n",
       "20         3     24     10   531          26    9  12.488380   \n",
       "21         2     27     10   574          29    5   7.022181   \n",
       "22         4     30     10  3277          24   10   8.664648   \n",
       "23         3     37     10  3621          25    9  12.036206   \n",
       "24         1     31     10  7490          14   10   3.387857   \n",
       "25         8     38      9   482          52    9  16.686229   \n",
       "26         2     37      9   672          30    9   7.676179   \n",
       "27         7     36      9   700          76    5   5.090662   \n",
       "28         4     25      9  2662          30    9   8.925186   \n",
       "29         1     35      8   468          30    8   9.842874   \n",
       "..       ...    ...    ...   ...         ...  ...        ...   \n",
       "485        0      8      0  8090           1    0   0.035675   \n",
       "486        0      2      0  8145           0    0   0.000000   \n",
       "487        1     11      0  8150           6    0   0.327071   \n",
       "488        0      6      0  8204           2    0   0.233528   \n",
       "489        0      4      0  8214           4    0   0.000000   \n",
       "490        0      2      0  8216           2    0   0.000000   \n",
       "491        0      6      0  8222           1    0   0.053468   \n",
       "492        2      9      0  8224           3    0   0.295871   \n",
       "493        1      9      0  8226           7    0   0.071201   \n",
       "494        0      5      0  8235           0    0   0.014037   \n",
       "495        0     10      0  8239           1    0   0.838237   \n",
       "496        0      4      0  8254           0    0   0.032814   \n",
       "497        0      7      0  8257           2    0   0.019951   \n",
       "498        0      3      0  8272           0    0   0.042924   \n",
       "499        0      6      0  8286           2    0   0.000000   \n",
       "500        0     10      0  8323           3    0   0.318044   \n",
       "501        0      9      0  8379           5    0   0.587468   \n",
       "502        0      2      0  8380           0    0   0.000000   \n",
       "503        0      1      0  8383           0    0   0.016683   \n",
       "504        0      1      0  8384           0    0   0.000000   \n",
       "505        0      5      0  8455           0    0   0.106460   \n",
       "506        0      1      0  8456           0    0   0.075786   \n",
       "507        0      5      0  8472           2    0   0.064039   \n",
       "508        0      4      0  8476           0    0   0.000000   \n",
       "509        0      1      0  8480           0    0   0.000000   \n",
       "510        0      1      0  8493           1    0   0.013284   \n",
       "511        0      1      0  8496           0    0   0.077601   \n",
       "512        0      1      0  8518           0    0   0.000000   \n",
       "513        1      3      0  8562           9    0   0.000000   \n",
       "514        0      2      0  8563           0    0   0.100603   \n",
       "\n",
       "                   player_name position  red_cards  shots  \\\n",
       "0                  Jamie Vardy      F S          0     89   \n",
       "1    Pierre-Emerick Aubameyang    F M S          1     93   \n",
       "2                   Danny Ings    F M S          0     93   \n",
       "3              Raheem Sterling    F M S          0    100   \n",
       "4                Mohamed Salah      F S          0    132   \n",
       "5                   Harry Kane        F          0     82   \n",
       "6                   Sadio Mané    F M S          0     77   \n",
       "7              Anthony Martial      F S          0     80   \n",
       "8              Marcus Rashford      F M          0     95   \n",
       "9                 Raúl Jiménez      F S          0    117   \n",
       "10               Sergio Agüero      F S          0     76   \n",
       "11               Tammy Abraham      F S          0     88   \n",
       "12             Kevin De Bruyne      M S          0    100   \n",
       "13                  Chris Wood      F S          0     65   \n",
       "14               Gabriel Jesus      F S          0    101   \n",
       "15       Dominic Calvert-Lewin      F S          0     85   \n",
       "16                 Richarlison      F M          0     89   \n",
       "17               Son Heung-Min    F M S          2     81   \n",
       "18                Riyad Mahrez    F M S          0     74   \n",
       "19                 Teemu Pukki      F S          0     80   \n",
       "20             Michail Antonio    F M S          0     68   \n",
       "21                 Troy Deeney      F S          0     45   \n",
       "22         Alexandre Lacazette      F S          0     52   \n",
       "23                 Neal Maupay      F S          0     96   \n",
       "24             Mason Greenwood    F M S          0     39   \n",
       "25             Roberto Firmino    F M S          0     98   \n",
       "26                 Jordan Ayew      F M          0     58   \n",
       "27                     Willian    F M S          0     71   \n",
       "28           Christian Pulisic    F M S          0     63   \n",
       "29               Callum Wilson      F S          0     53   \n",
       "..                         ...      ...        ...    ...   \n",
       "485                Lloyd Kelly      D S          0      1   \n",
       "486               Troy Parrott        S          0      0   \n",
       "487             Anthony Gordon      M S          0      6   \n",
       "488              Neco Williams      D S          0      7   \n",
       "489            Tyrick Mitchell      D S          0      0   \n",
       "490           Brandon Pierrick        S          0      0   \n",
       "491            Japhet Tanganga      D M          0      3   \n",
       "492          William Smallbone      M S          0      6   \n",
       "493              Tariq Lamptey    D M S          0      2   \n",
       "494              Jeremy Ngakia        D          0      1   \n",
       "495            Takumi Minamino      F S          0      8   \n",
       "496           Indiana Vassilev        S          0      1   \n",
       "497           Gedson Fernandes        S          0      1   \n",
       "498                 João Pedro        S          0      1   \n",
       "499              Jack Robinson        D          0      0   \n",
       "500             Josh Brownhill      M S          0      6   \n",
       "501        Alexis Mac Allister    F M S          0      7   \n",
       "502                 Pablo Marí        D          0      0   \n",
       "503           Faustino Anjorin        S          0      1   \n",
       "504              Armando Broja        S          0      0   \n",
       "505                Josh Martin        S          0      1   \n",
       "506               Nathan Tella        S          0      1   \n",
       "507          Richairo Zivkovic        S          0      1   \n",
       "508         Jarrad Branthwaite      D S          0      0   \n",
       "509               Max Thompson        S          0      0   \n",
       "510                Jake Vokins        D          0      1   \n",
       "511                Tommy Doyle        S          0      1   \n",
       "512              Jordan Thomas        S          0      0   \n",
       "513                Luke Thomas        M          0      0   \n",
       "514               George Hirst        S          0      3   \n",
       "\n",
       "                  team_title  time         xA         xG  xGBuildup  \\\n",
       "0                  Leicester  3034   6.368298  18.903537   1.724341   \n",
       "1                    Arsenal  3143   4.492487  16.352623   5.339657   \n",
       "2                Southampton  2836   2.849085  15.659717   5.015938   \n",
       "3            Manchester City  2678   7.208586  19.799906  10.185997   \n",
       "4                  Liverpool  2904   8.726043  20.663319   8.425027   \n",
       "5                  Tottenham  2595   3.117006  13.297066   3.051301   \n",
       "6                  Liverpool  2761   7.235693  14.577483   6.767014   \n",
       "7          Manchester United  2672   4.618777  13.240495   6.357817   \n",
       "8          Manchester United  2673   5.457173  19.503728   5.906573   \n",
       "9    Wolverhampton Wanderers  3269   7.226941  16.510798   5.709533   \n",
       "10           Manchester City  1462   2.920209  15.557500   2.644766   \n",
       "11                   Chelsea  2233   2.913048  18.082802   1.546151   \n",
       "12           Manchester City  2818  20.620707   8.106428  19.244824   \n",
       "13                   Burnley  2462   1.470996  17.226202   2.455411   \n",
       "14           Manchester City  2022   3.598858  21.015201   7.181310   \n",
       "15                   Everton  2639   1.336225  16.109843   3.896764   \n",
       "16                   Everton  3100   6.668134   9.842966   5.198306   \n",
       "17                 Tottenham  2511   6.721727   9.701705   6.514013   \n",
       "18           Manchester City  1938  11.059849   8.649656  13.285881   \n",
       "19                   Norwich  2908   3.619015  11.524345   2.368442   \n",
       "20                  West Ham  1767   3.921495  13.249549   2.270156   \n",
       "21                   Watford  2253   3.735703  11.589194   3.334598   \n",
       "22                   Arsenal  1890   3.342291   8.664648   2.505635   \n",
       "23                  Brighton  2782   2.506131  13.558543   3.483617   \n",
       "24         Manchester United  1304   1.411508   3.387857   4.284458   \n",
       "25                 Liverpool  3035   7.346656  16.686229   9.463312   \n",
       "26            Crystal Palace  3196   2.864642   7.676179   3.877392   \n",
       "27                   Chelsea  2609   8.679427   8.135337  10.227612   \n",
       "28                   Chelsea  1738   4.296080   8.925186   7.069777   \n",
       "29               Bournemouth  2916   3.349536   9.842874   2.707836   \n",
       "..                       ...   ...        ...        ...        ...   \n",
       "485              Bournemouth   634   0.138222   0.035675   0.515837   \n",
       "486                Tottenham     3   0.000000   0.000000   0.000000   \n",
       "487                  Everton   438   0.339950   0.327071   0.328935   \n",
       "488                Liverpool   235   0.046672   0.233528   0.727928   \n",
       "489           Crystal Palace   186   0.189811   0.000000   0.454187   \n",
       "490           Crystal Palace    10   0.095519   0.000000   0.000000   \n",
       "491                Tottenham   528   0.029118   0.053468   0.708457   \n",
       "492              Southampton   401   0.172171   0.295871   0.633247   \n",
       "493         Brighton,Chelsea   624   1.149047   0.071201   0.595981   \n",
       "494                 West Ham   442   0.000000   0.014037   0.877928   \n",
       "495                Liverpool   233   0.016143   0.838237   0.431189   \n",
       "496              Aston Villa    35   0.000000   0.032814   0.000000   \n",
       "497                Tottenham    51   0.091910   0.019951   0.156099   \n",
       "498                  Watford    14   0.000000   0.042924   0.000000   \n",
       "499         Sheffield United   507   0.148166   0.000000   0.944510   \n",
       "500                  Burnley   808   0.122257   0.318044   1.890851   \n",
       "501                 Brighton   357   0.203351   0.587468   0.500704   \n",
       "502                  Arsenal   113   0.000000   0.000000   0.513599   \n",
       "503                  Chelsea    19   0.000000   0.016683   0.000000   \n",
       "504                  Chelsea     4   0.000000   0.000000   0.020873   \n",
       "505                  Norwich    25   0.000000   0.106460   0.000000   \n",
       "506              Southampton     1   0.000000   0.075786   0.000000   \n",
       "507         Sheffield United    95   0.138025   0.064039   0.205647   \n",
       "508                  Everton   296   0.000000   0.000000   1.471693   \n",
       "509                  Burnley     1   0.000000   0.000000   0.000000   \n",
       "510              Southampton    90   0.096596   0.013284   0.488577   \n",
       "511          Manchester City    13   0.000000   0.077601   0.000000   \n",
       "512                  Norwich     1   0.000000   0.000000   0.000000   \n",
       "513                Leicester   270   0.629982   0.000000   1.267736   \n",
       "514                Leicester     5   0.000000   0.100603   0.000000   \n",
       "\n",
       "       xGChain  yellow_cards  \n",
       "0    21.026607             3  \n",
       "1    19.964282             3  \n",
       "2    18.488031             3  \n",
       "3    31.442010             5  \n",
       "4    31.374198             1  \n",
       "5    16.854616             4  \n",
       "6    25.073205             3  \n",
       "7    20.409563             1  \n",
       "8    20.244798             3  \n",
       "9    22.560240             3  \n",
       "10   16.878254             1  \n",
       "11   19.841920             2  \n",
       "12   37.798311             3  \n",
       "13   12.642651             1  \n",
       "14   27.652234             3  \n",
       "15   17.212500             9  \n",
       "16   16.459750             8  \n",
       "17   18.800012             0  \n",
       "18   27.765530             0  \n",
       "19   14.751466             3  \n",
       "20   13.959707             3  \n",
       "21   11.632464             3  \n",
       "22   12.061302             8  \n",
       "23   13.855043             3  \n",
       "24    8.516980             0  \n",
       "25   28.271101             0  \n",
       "26   11.721330             6  \n",
       "27   18.409354             4  \n",
       "28   16.746663             0  \n",
       "29   12.562949            10  \n",
       "..         ...           ...  \n",
       "485   0.654060             2  \n",
       "486   0.000000             0  \n",
       "487   0.895637             0  \n",
       "488   0.930302             1  \n",
       "489   0.505854             1  \n",
       "490   0.095519             0  \n",
       "491   0.748960             1  \n",
       "492   1.059664             0  \n",
       "493   1.177602             2  \n",
       "494   0.891965             0  \n",
       "495   1.212132             0  \n",
       "496   0.032814             0  \n",
       "497   0.267960             0  \n",
       "498   0.042924             0  \n",
       "499   1.092676             0  \n",
       "500   2.098624             2  \n",
       "501   1.172588             0  \n",
       "502   0.513599             0  \n",
       "503   0.016683             0  \n",
       "504   0.020873             0  \n",
       "505   0.106460             0  \n",
       "506   0.075786             0  \n",
       "507   0.205647             0  \n",
       "508   1.471693             0  \n",
       "509   0.000000             0  \n",
       "510   0.501861             0  \n",
       "511   0.077601             0  \n",
       "512   0.000000             0  \n",
       "513   1.378853             0  \n",
       "514   0.021223             0  \n",
       "\n",
       "[515 rows x 18 columns]"
      ]
     },
     "execution_count": 23,
     "metadata": {},
     "output_type": "execute_result"
    }
   ],
   "source": [
    "playerStats = pd.read_csv(path + '/understat/understat_player.csv', encoding = \"ISO-8859-1\")\n",
    "playerStats"
   ]
  },
  {
   "cell_type": "code",
   "execution_count": 47,
   "metadata": {},
   "outputs": [],
   "source": [
    "# We need to split the dataset up by position, essentially, Forward, Mid, Defence, GK.\n",
    "# Since the understat data does not use the players listed position, instead noting down all positions played\n",
    "# in the season, we need to set up our filter\n",
    "\n",
    "playerStats['Main Position'] = playerStats['position'].str[0]\n",
    "positions = list(playerStats['Main Position'].value_counts().index)\n",
    "\n",
    "fwdStats = playerStats[playerStats['Main Position'].isin(['F','S'])] \n",
    "midStats = playerStats[playerStats['Main Position'].isin(['M'])] \n",
    "defStats = playerStats[playerStats['Main Position'].isin(['D'])] \n",
    "gkStats = playerStats[playerStats['Main Position'].isin(['G'])] \n",
    "\n"
   ]
  },
  {
   "cell_type": "markdown",
   "metadata": {},
   "source": [
    "Look at xG vs Goals for strikers.\n",
    "\n",
    "This let's us see which players have overperformed their stats, versus player's who have underperformed.\n"
   ]
  },
  {
   "cell_type": "code",
   "execution_count": 71,
   "metadata": {
    "scrolled": false
   },
   "outputs": [
    {
     "data": {
      "application/vnd.plotly.v1+json": {
       "config": {
        "plotlyServerURL": "https://plot.ly"
       },
       "data": [
        {
         "hovertemplate": "<b>%{hovertext}</b><br><br>player_name=Jamie Vardy<br>Goal and XG Difference=%{x}<br>xG=%{y}<br>goals=%{marker.size}<extra></extra>",
         "hovertext": [
          "Jamie Vardy"
         ],
         "legendgroup": "Jamie Vardy",
         "marker": {
          "color": "#636efa",
          "size": [
           23
          ],
          "sizemode": "area",
          "sizeref": 0.0575,
          "symbol": "circle"
         },
         "mode": "markers",
         "name": "Jamie Vardy",
         "showlegend": true,
         "type": "scatter",
         "x": [
          4.096462681889534
         ],
         "xaxis": "x",
         "y": [
          18.903537318110466
         ],
         "yaxis": "y"
        },
        {
         "hovertemplate": "<b>%{hovertext}</b><br><br>player_name=Pierre-Emerick Aubameyang<br>Goal and XG Difference=%{x}<br>xG=%{y}<br>goals=%{marker.size}<extra></extra>",
         "hovertext": [
          "Pierre-Emerick Aubameyang"
         ],
         "legendgroup": "Pierre-Emerick Aubameyang",
         "marker": {
          "color": "#EF553B",
          "size": [
           22
          ],
          "sizemode": "area",
          "sizeref": 0.0575,
          "symbol": "circle"
         },
         "mode": "markers",
         "name": "Pierre-Emerick Aubameyang",
         "showlegend": true,
         "type": "scatter",
         "x": [
          5.647376919165257
         ],
         "xaxis": "x",
         "y": [
          16.352623080834743
         ],
         "yaxis": "y"
        },
        {
         "hovertemplate": "<b>%{hovertext}</b><br><br>player_name=Danny Ings<br>Goal and XG Difference=%{x}<br>xG=%{y}<br>goals=%{marker.size}<extra></extra>",
         "hovertext": [
          "Danny Ings"
         ],
         "legendgroup": "Danny Ings",
         "marker": {
          "color": "#00cc96",
          "size": [
           22
          ],
          "sizemode": "area",
          "sizeref": 0.0575,
          "symbol": "circle"
         },
         "mode": "markers",
         "name": "Danny Ings",
         "showlegend": true,
         "type": "scatter",
         "x": [
          6.340282829478385
         ],
         "xaxis": "x",
         "y": [
          15.659717170521615
         ],
         "yaxis": "y"
        },
        {
         "hovertemplate": "<b>%{hovertext}</b><br><br>player_name=Raheem Sterling<br>Goal and XG Difference=%{x}<br>xG=%{y}<br>goals=%{marker.size}<extra></extra>",
         "hovertext": [
          "Raheem Sterling"
         ],
         "legendgroup": "Raheem Sterling",
         "marker": {
          "color": "#ab63fa",
          "size": [
           20
          ],
          "sizemode": "area",
          "sizeref": 0.0575,
          "symbol": "circle"
         },
         "mode": "markers",
         "name": "Raheem Sterling",
         "showlegend": true,
         "type": "scatter",
         "x": [
          0.20009351894259453
         ],
         "xaxis": "x",
         "y": [
          19.799906481057405
         ],
         "yaxis": "y"
        },
        {
         "hovertemplate": "<b>%{hovertext}</b><br><br>player_name=Mohamed Salah<br>Goal and XG Difference=%{x}<br>xG=%{y}<br>goals=%{marker.size}<extra></extra>",
         "hovertext": [
          "Mohamed Salah"
         ],
         "legendgroup": "Mohamed Salah",
         "marker": {
          "color": "#FFA15A",
          "size": [
           19
          ],
          "sizemode": "area",
          "sizeref": 0.0575,
          "symbol": "circle"
         },
         "mode": "markers",
         "name": "Mohamed Salah",
         "showlegend": true,
         "type": "scatter",
         "x": [
          -1.6633187010884285
         ],
         "xaxis": "x",
         "y": [
          20.66331870108843
         ],
         "yaxis": "y"
        },
        {
         "hovertemplate": "<b>%{hovertext}</b><br><br>player_name=Harry Kane<br>Goal and XG Difference=%{x}<br>xG=%{y}<br>goals=%{marker.size}<extra></extra>",
         "hovertext": [
          "Harry Kane"
         ],
         "legendgroup": "Harry Kane",
         "marker": {
          "color": "#19d3f3",
          "size": [
           18
          ],
          "sizemode": "area",
          "sizeref": 0.0575,
          "symbol": "circle"
         },
         "mode": "markers",
         "name": "Harry Kane",
         "showlegend": true,
         "type": "scatter",
         "x": [
          4.702934049069881
         ],
         "xaxis": "x",
         "y": [
          13.297065950930119
         ],
         "yaxis": "y"
        },
        {
         "hovertemplate": "<b>%{hovertext}</b><br><br>player_name=Sadio Mané<br>Goal and XG Difference=%{x}<br>xG=%{y}<br>goals=%{marker.size}<extra></extra>",
         "hovertext": [
          "Sadio Mané"
         ],
         "legendgroup": "Sadio Mané",
         "marker": {
          "color": "#FF6692",
          "size": [
           18
          ],
          "sizemode": "area",
          "sizeref": 0.0575,
          "symbol": "circle"
         },
         "mode": "markers",
         "name": "Sadio Mané",
         "showlegend": true,
         "type": "scatter",
         "x": [
          3.4225170984864253
         ],
         "xaxis": "x",
         "y": [
          14.577482901513575
         ],
         "yaxis": "y"
        },
        {
         "hovertemplate": "<b>%{hovertext}</b><br><br>player_name=Anthony Martial<br>Goal and XG Difference=%{x}<br>xG=%{y}<br>goals=%{marker.size}<extra></extra>",
         "hovertext": [
          "Anthony Martial"
         ],
         "legendgroup": "Anthony Martial",
         "marker": {
          "color": "#B6E880",
          "size": [
           17
          ],
          "sizemode": "area",
          "sizeref": 0.0575,
          "symbol": "circle"
         },
         "mode": "markers",
         "name": "Anthony Martial",
         "showlegend": true,
         "type": "scatter",
         "x": [
          3.759505219757555
         ],
         "xaxis": "x",
         "y": [
          13.240494780242445
         ],
         "yaxis": "y"
        },
        {
         "hovertemplate": "<b>%{hovertext}</b><br><br>player_name=Marcus Rashford<br>Goal and XG Difference=%{x}<br>xG=%{y}<br>goals=%{marker.size}<extra></extra>",
         "hovertext": [
          "Marcus Rashford"
         ],
         "legendgroup": "Marcus Rashford",
         "marker": {
          "color": "#FF97FF",
          "size": [
           17
          ],
          "sizemode": "area",
          "sizeref": 0.0575,
          "symbol": "circle"
         },
         "mode": "markers",
         "name": "Marcus Rashford",
         "showlegend": true,
         "type": "scatter",
         "x": [
          -2.503727605566386
         ],
         "xaxis": "x",
         "y": [
          19.503727605566386
         ],
         "yaxis": "y"
        },
        {
         "hovertemplate": "<b>%{hovertext}</b><br><br>player_name=Raúl Jiménez<br>Goal and XG Difference=%{x}<br>xG=%{y}<br>goals=%{marker.size}<extra></extra>",
         "hovertext": [
          "Raúl Jiménez"
         ],
         "legendgroup": "Raúl Jiménez",
         "marker": {
          "color": "#FECB52",
          "size": [
           17
          ],
          "sizemode": "area",
          "sizeref": 0.0575,
          "symbol": "circle"
         },
         "mode": "markers",
         "name": "Raúl Jiménez",
         "showlegend": true,
         "type": "scatter",
         "x": [
          0.48920197598635795
         ],
         "xaxis": "x",
         "y": [
          16.510798024013642
         ],
         "yaxis": "y"
        },
        {
         "hovertemplate": "<b>%{hovertext}</b><br><br>player_name=Sergio Agüero<br>Goal and XG Difference=%{x}<br>xG=%{y}<br>goals=%{marker.size}<extra></extra>",
         "hovertext": [
          "Sergio Agüero"
         ],
         "legendgroup": "Sergio Agüero",
         "marker": {
          "color": "#636efa",
          "size": [
           16
          ],
          "sizemode": "area",
          "sizeref": 0.0575,
          "symbol": "circle"
         },
         "mode": "markers",
         "name": "Sergio Agüero",
         "showlegend": true,
         "type": "scatter",
         "x": [
          0.4424996748566645
         ],
         "xaxis": "x",
         "y": [
          15.557500325143335
         ],
         "yaxis": "y"
        },
        {
         "hovertemplate": "<b>%{hovertext}</b><br><br>player_name=Tammy Abraham<br>Goal and XG Difference=%{x}<br>xG=%{y}<br>goals=%{marker.size}<extra></extra>",
         "hovertext": [
          "Tammy Abraham"
         ],
         "legendgroup": "Tammy Abraham",
         "marker": {
          "color": "#EF553B",
          "size": [
           15
          ],
          "sizemode": "area",
          "sizeref": 0.0575,
          "symbol": "circle"
         },
         "mode": "markers",
         "name": "Tammy Abraham",
         "showlegend": true,
         "type": "scatter",
         "x": [
          -3.0828015506267548
         ],
         "xaxis": "x",
         "y": [
          18.082801550626755
         ],
         "yaxis": "y"
        },
        {
         "hovertemplate": "<b>%{hovertext}</b><br><br>player_name=Chris Wood<br>Goal and XG Difference=%{x}<br>xG=%{y}<br>goals=%{marker.size}<extra></extra>",
         "hovertext": [
          "Chris Wood"
         ],
         "legendgroup": "Chris Wood",
         "marker": {
          "color": "#00cc96",
          "size": [
           14
          ],
          "sizemode": "area",
          "sizeref": 0.0575,
          "symbol": "circle"
         },
         "mode": "markers",
         "name": "Chris Wood",
         "showlegend": true,
         "type": "scatter",
         "x": [
          -3.226201519370079
         ],
         "xaxis": "x",
         "y": [
          17.22620151937008
         ],
         "yaxis": "y"
        },
        {
         "hovertemplate": "<b>%{hovertext}</b><br><br>player_name=Gabriel Jesus<br>Goal and XG Difference=%{x}<br>xG=%{y}<br>goals=%{marker.size}<extra></extra>",
         "hovertext": [
          "Gabriel Jesus"
         ],
         "legendgroup": "Gabriel Jesus",
         "marker": {
          "color": "#ab63fa",
          "size": [
           14
          ],
          "sizemode": "area",
          "sizeref": 0.0575,
          "symbol": "circle"
         },
         "mode": "markers",
         "name": "Gabriel Jesus",
         "showlegend": true,
         "type": "scatter",
         "x": [
          -7.015201296657324
         ],
         "xaxis": "x",
         "y": [
          21.015201296657324
         ],
         "yaxis": "y"
        },
        {
         "hovertemplate": "<b>%{hovertext}</b><br><br>player_name=Dominic Calvert-Lewin<br>Goal and XG Difference=%{x}<br>xG=%{y}<br>goals=%{marker.size}<extra></extra>",
         "hovertext": [
          "Dominic Calvert-Lewin"
         ],
         "legendgroup": "Dominic Calvert-Lewin",
         "marker": {
          "color": "#FFA15A",
          "size": [
           13
          ],
          "sizemode": "area",
          "sizeref": 0.0575,
          "symbol": "circle"
         },
         "mode": "markers",
         "name": "Dominic Calvert-Lewin",
         "showlegend": true,
         "type": "scatter",
         "x": [
          -3.109842916950587
         ],
         "xaxis": "x",
         "y": [
          16.109842916950587
         ],
         "yaxis": "y"
        },
        {
         "hovertemplate": "<b>%{hovertext}</b><br><br>player_name=Richarlison<br>Goal and XG Difference=%{x}<br>xG=%{y}<br>goals=%{marker.size}<extra></extra>",
         "hovertext": [
          "Richarlison"
         ],
         "legendgroup": "Richarlison",
         "marker": {
          "color": "#19d3f3",
          "size": [
           13
          ],
          "sizemode": "area",
          "sizeref": 0.0575,
          "symbol": "circle"
         },
         "mode": "markers",
         "name": "Richarlison",
         "showlegend": true,
         "type": "scatter",
         "x": [
          3.157033711671831
         ],
         "xaxis": "x",
         "y": [
          9.842966288328169
         ],
         "yaxis": "y"
        },
        {
         "hovertemplate": "<b>%{hovertext}</b><br><br>player_name=Son Heung-Min<br>Goal and XG Difference=%{x}<br>xG=%{y}<br>goals=%{marker.size}<extra></extra>",
         "hovertext": [
          "Son Heung-Min"
         ],
         "legendgroup": "Son Heung-Min",
         "marker": {
          "color": "#FF6692",
          "size": [
           11
          ],
          "sizemode": "area",
          "sizeref": 0.0575,
          "symbol": "circle"
         },
         "mode": "markers",
         "name": "Son Heung-Min",
         "showlegend": true,
         "type": "scatter",
         "x": [
          1.2982951337471604
         ],
         "xaxis": "x",
         "y": [
          9.70170486625284
         ],
         "yaxis": "y"
        },
        {
         "hovertemplate": "<b>%{hovertext}</b><br><br>player_name=Riyad Mahrez<br>Goal and XG Difference=%{x}<br>xG=%{y}<br>goals=%{marker.size}<extra></extra>",
         "hovertext": [
          "Riyad Mahrez"
         ],
         "legendgroup": "Riyad Mahrez",
         "marker": {
          "color": "#B6E880",
          "size": [
           11
          ],
          "sizemode": "area",
          "sizeref": 0.0575,
          "symbol": "circle"
         },
         "mode": "markers",
         "name": "Riyad Mahrez",
         "showlegend": true,
         "type": "scatter",
         "x": [
          2.350344320759177
         ],
         "xaxis": "x",
         "y": [
          8.649655679240823
         ],
         "yaxis": "y"
        },
        {
         "hovertemplate": "<b>%{hovertext}</b><br><br>player_name=Teemu Pukki<br>Goal and XG Difference=%{x}<br>xG=%{y}<br>goals=%{marker.size}<extra></extra>",
         "hovertext": [
          "Teemu Pukki"
         ],
         "legendgroup": "Teemu Pukki",
         "marker": {
          "color": "#FF97FF",
          "size": [
           11
          ],
          "sizemode": "area",
          "sizeref": 0.0575,
          "symbol": "circle"
         },
         "mode": "markers",
         "name": "Teemu Pukki",
         "showlegend": true,
         "type": "scatter",
         "x": [
          -0.5243451297283155
         ],
         "xaxis": "x",
         "y": [
          11.524345129728315
         ],
         "yaxis": "y"
        },
        {
         "hovertemplate": "<b>%{hovertext}</b><br><br>player_name=Michail Antonio<br>Goal and XG Difference=%{x}<br>xG=%{y}<br>goals=%{marker.size}<extra></extra>",
         "hovertext": [
          "Michail Antonio"
         ],
         "legendgroup": "Michail Antonio",
         "marker": {
          "color": "#FECB52",
          "size": [
           10
          ],
          "sizemode": "area",
          "sizeref": 0.0575,
          "symbol": "circle"
         },
         "mode": "markers",
         "name": "Michail Antonio",
         "showlegend": true,
         "type": "scatter",
         "x": [
          -3.2495491709560156
         ],
         "xaxis": "x",
         "y": [
          13.249549170956016
         ],
         "yaxis": "y"
        },
        {
         "hovertemplate": "<b>%{hovertext}</b><br><br>player_name=Troy Deeney<br>Goal and XG Difference=%{x}<br>xG=%{y}<br>goals=%{marker.size}<extra></extra>",
         "hovertext": [
          "Troy Deeney"
         ],
         "legendgroup": "Troy Deeney",
         "marker": {
          "color": "#636efa",
          "size": [
           10
          ],
          "sizemode": "area",
          "sizeref": 0.0575,
          "symbol": "circle"
         },
         "mode": "markers",
         "name": "Troy Deeney",
         "showlegend": true,
         "type": "scatter",
         "x": [
          -1.5891937986016273
         ],
         "xaxis": "x",
         "y": [
          11.589193798601627
         ],
         "yaxis": "y"
        },
        {
         "hovertemplate": "<b>%{hovertext}</b><br><br>player_name=Alexandre Lacazette<br>Goal and XG Difference=%{x}<br>xG=%{y}<br>goals=%{marker.size}<extra></extra>",
         "hovertext": [
          "Alexandre Lacazette"
         ],
         "legendgroup": "Alexandre Lacazette",
         "marker": {
          "color": "#EF553B",
          "size": [
           10
          ],
          "sizemode": "area",
          "sizeref": 0.0575,
          "symbol": "circle"
         },
         "mode": "markers",
         "name": "Alexandre Lacazette",
         "showlegend": true,
         "type": "scatter",
         "x": [
          1.3353517968207598
         ],
         "xaxis": "x",
         "y": [
          8.66464820317924
         ],
         "yaxis": "y"
        },
        {
         "hovertemplate": "<b>%{hovertext}</b><br><br>player_name=Neal Maupay<br>Goal and XG Difference=%{x}<br>xG=%{y}<br>goals=%{marker.size}<extra></extra>",
         "hovertext": [
          "Neal Maupay"
         ],
         "legendgroup": "Neal Maupay",
         "marker": {
          "color": "#00cc96",
          "size": [
           10
          ],
          "sizemode": "area",
          "sizeref": 0.0575,
          "symbol": "circle"
         },
         "mode": "markers",
         "name": "Neal Maupay",
         "showlegend": true,
         "type": "scatter",
         "x": [
          -3.558543261140585
         ],
         "xaxis": "x",
         "y": [
          13.558543261140585
         ],
         "yaxis": "y"
        },
        {
         "hovertemplate": "<b>%{hovertext}</b><br><br>player_name=Mason Greenwood<br>Goal and XG Difference=%{x}<br>xG=%{y}<br>goals=%{marker.size}<extra></extra>",
         "hovertext": [
          "Mason Greenwood"
         ],
         "legendgroup": "Mason Greenwood",
         "marker": {
          "color": "#ab63fa",
          "size": [
           10
          ],
          "sizemode": "area",
          "sizeref": 0.0575,
          "symbol": "circle"
         },
         "mode": "markers",
         "name": "Mason Greenwood",
         "showlegend": true,
         "type": "scatter",
         "x": [
          6.612142637372017
         ],
         "xaxis": "x",
         "y": [
          3.387857362627983
         ],
         "yaxis": "y"
        },
        {
         "hovertemplate": "<b>%{hovertext}</b><br><br>player_name=Roberto Firmino<br>Goal and XG Difference=%{x}<br>xG=%{y}<br>goals=%{marker.size}<extra></extra>",
         "hovertext": [
          "Roberto Firmino"
         ],
         "legendgroup": "Roberto Firmino",
         "marker": {
          "color": "#FFA15A",
          "size": [
           9
          ],
          "sizemode": "area",
          "sizeref": 0.0575,
          "symbol": "circle"
         },
         "mode": "markers",
         "name": "Roberto Firmino",
         "showlegend": true,
         "type": "scatter",
         "x": [
          -7.686229031533006
         ],
         "xaxis": "x",
         "y": [
          16.686229031533006
         ],
         "yaxis": "y"
        },
        {
         "hovertemplate": "<b>%{hovertext}</b><br><br>player_name=Jordan Ayew<br>Goal and XG Difference=%{x}<br>xG=%{y}<br>goals=%{marker.size}<extra></extra>",
         "hovertext": [
          "Jordan Ayew"
         ],
         "legendgroup": "Jordan Ayew",
         "marker": {
          "color": "#19d3f3",
          "size": [
           9
          ],
          "sizemode": "area",
          "sizeref": 0.0575,
          "symbol": "circle"
         },
         "mode": "markers",
         "name": "Jordan Ayew",
         "showlegend": true,
         "type": "scatter",
         "x": [
          1.3238209579139948
         ],
         "xaxis": "x",
         "y": [
          7.676179042086005
         ],
         "yaxis": "y"
        },
        {
         "hovertemplate": "<b>%{hovertext}</b><br><br>player_name=Willian<br>Goal and XG Difference=%{x}<br>xG=%{y}<br>goals=%{marker.size}<extra></extra>",
         "hovertext": [
          "Willian"
         ],
         "legendgroup": "Willian",
         "marker": {
          "color": "#FF6692",
          "size": [
           9
          ],
          "sizemode": "area",
          "sizeref": 0.0575,
          "symbol": "circle"
         },
         "mode": "markers",
         "name": "Willian",
         "showlegend": true,
         "type": "scatter",
         "x": [
          0.8646625392138976
         ],
         "xaxis": "x",
         "y": [
          8.135337460786102
         ],
         "yaxis": "y"
        },
        {
         "hovertemplate": "<b>%{hovertext}</b><br><br>player_name=Christian Pulisic<br>Goal and XG Difference=%{x}<br>xG=%{y}<br>goals=%{marker.size}<extra></extra>",
         "hovertext": [
          "Christian Pulisic"
         ],
         "legendgroup": "Christian Pulisic",
         "marker": {
          "color": "#B6E880",
          "size": [
           9
          ],
          "sizemode": "area",
          "sizeref": 0.0575,
          "symbol": "circle"
         },
         "mode": "markers",
         "name": "Christian Pulisic",
         "showlegend": true,
         "type": "scatter",
         "x": [
          0.0748135894536972
         ],
         "xaxis": "x",
         "y": [
          8.925186410546303
         ],
         "yaxis": "y"
        },
        {
         "hovertemplate": "<b>%{hovertext}</b><br><br>player_name=Callum Wilson<br>Goal and XG Difference=%{x}<br>xG=%{y}<br>goals=%{marker.size}<extra></extra>",
         "hovertext": [
          "Callum Wilson"
         ],
         "legendgroup": "Callum Wilson",
         "marker": {
          "color": "#FF97FF",
          "size": [
           8
          ],
          "sizemode": "area",
          "sizeref": 0.0575,
          "symbol": "circle"
         },
         "mode": "markers",
         "name": "Callum Wilson",
         "showlegend": true,
         "type": "scatter",
         "x": [
          -1.8428739756345767
         ],
         "xaxis": "x",
         "y": [
          9.842873975634577
         ],
         "yaxis": "y"
        },
        {
         "hovertemplate": "<b>%{hovertext}</b><br><br>player_name=Olivier Giroud<br>Goal and XG Difference=%{x}<br>xG=%{y}<br>goals=%{marker.size}<extra></extra>",
         "hovertext": [
          "Olivier Giroud"
         ],
         "legendgroup": "Olivier Giroud",
         "marker": {
          "color": "#FECB52",
          "size": [
           8
          ],
          "sizemode": "area",
          "sizeref": 0.0575,
          "symbol": "circle"
         },
         "mode": "markers",
         "name": "Olivier Giroud",
         "showlegend": true,
         "type": "scatter",
         "x": [
          0.5991024188697338
         ],
         "xaxis": "x",
         "y": [
          7.400897581130266
         ],
         "yaxis": "y"
        },
        {
         "hovertemplate": "<b>%{hovertext}</b><br><br>player_name=Dele Alli<br>Goal and XG Difference=%{x}<br>xG=%{y}<br>goals=%{marker.size}<extra></extra>",
         "hovertext": [
          "Dele Alli"
         ],
         "legendgroup": "Dele Alli",
         "marker": {
          "color": "#636efa",
          "size": [
           8
          ],
          "sizemode": "area",
          "sizeref": 0.0575,
          "symbol": "circle"
         },
         "mode": "markers",
         "name": "Dele Alli",
         "showlegend": true,
         "type": "scatter",
         "x": [
          0.08450535871088505
         ],
         "xaxis": "x",
         "y": [
          7.915494641289115
         ],
         "yaxis": "y"
        },
        {
         "hovertemplate": "<b>%{hovertext}</b><br><br>player_name=Jack Grealish<br>Goal and XG Difference=%{x}<br>xG=%{y}<br>goals=%{marker.size}<extra></extra>",
         "hovertext": [
          "Jack Grealish"
         ],
         "legendgroup": "Jack Grealish",
         "marker": {
          "color": "#EF553B",
          "size": [
           8
          ],
          "sizemode": "area",
          "sizeref": 0.0575,
          "symbol": "circle"
         },
         "mode": "markers",
         "name": "Jack Grealish",
         "showlegend": true,
         "type": "scatter",
         "x": [
          1.1552963014692068
         ],
         "xaxis": "x",
         "y": [
          6.844703698530793
         ],
         "yaxis": "y"
        },
        {
         "hovertemplate": "<b>%{hovertext}</b><br><br>player_name=Ayoze Pérez<br>Goal and XG Difference=%{x}<br>xG=%{y}<br>goals=%{marker.size}<extra></extra>",
         "hovertext": [
          "Ayoze Pérez"
         ],
         "legendgroup": "Ayoze Pérez",
         "marker": {
          "color": "#00cc96",
          "size": [
           8
          ],
          "sizemode": "area",
          "sizeref": 0.0575,
          "symbol": "circle"
         },
         "mode": "markers",
         "name": "Ayoze Pérez",
         "showlegend": true,
         "type": "scatter",
         "x": [
          1.4422031678259373
         ],
         "xaxis": "x",
         "y": [
          6.557796832174063
         ],
         "yaxis": "y"
        },
        {
         "hovertemplate": "<b>%{hovertext}</b><br><br>player_name=Jay Rodriguez<br>Goal and XG Difference=%{x}<br>xG=%{y}<br>goals=%{marker.size}<extra></extra>",
         "hovertext": [
          "Jay Rodriguez"
         ],
         "legendgroup": "Jay Rodriguez",
         "marker": {
          "color": "#ab63fa",
          "size": [
           8
          ],
          "sizemode": "area",
          "sizeref": 0.0575,
          "symbol": "circle"
         },
         "mode": "markers",
         "name": "Jay Rodriguez",
         "showlegend": true,
         "type": "scatter",
         "x": [
          -0.9568827738985437
         ],
         "xaxis": "x",
         "y": [
          8.956882773898544
         ],
         "yaxis": "y"
        },
        {
         "hovertemplate": "<b>%{hovertext}</b><br><br>player_name=Harry Wilson<br>Goal and XG Difference=%{x}<br>xG=%{y}<br>goals=%{marker.size}<extra></extra>",
         "hovertext": [
          "Harry Wilson"
         ],
         "legendgroup": "Harry Wilson",
         "marker": {
          "color": "#FFA15A",
          "size": [
           7
          ],
          "sizemode": "area",
          "sizeref": 0.0575,
          "symbol": "circle"
         },
         "mode": "markers",
         "name": "Harry Wilson",
         "showlegend": true,
         "type": "scatter",
         "x": [
          2.834999189712107
         ],
         "xaxis": "x",
         "y": [
          4.165000810287893
         ],
         "yaxis": "y"
        },
        {
         "hovertemplate": "<b>%{hovertext}</b><br><br>player_name=Sébastien Haller<br>Goal and XG Difference=%{x}<br>xG=%{y}<br>goals=%{marker.size}<extra></extra>",
         "hovertext": [
          "Sébastien Haller"
         ],
         "legendgroup": "Sébastien Haller",
         "marker": {
          "color": "#19d3f3",
          "size": [
           7
          ],
          "sizemode": "area",
          "sizeref": 0.0575,
          "symbol": "circle"
         },
         "mode": "markers",
         "name": "Sébastien Haller",
         "showlegend": true,
         "type": "scatter",
         "x": [
          -1.4849007818847895
         ],
         "xaxis": "x",
         "y": [
          8.48490078188479
         ],
         "yaxis": "y"
        },
        {
         "hovertemplate": "<b>%{hovertext}</b><br><br>player_name=Diogo Jota<br>Goal and XG Difference=%{x}<br>xG=%{y}<br>goals=%{marker.size}<extra></extra>",
         "hovertext": [
          "Diogo Jota"
         ],
         "legendgroup": "Diogo Jota",
         "marker": {
          "color": "#FF6692",
          "size": [
           7
          ],
          "sizemode": "area",
          "sizeref": 0.0575,
          "symbol": "circle"
         },
         "mode": "markers",
         "name": "Diogo Jota",
         "showlegend": true,
         "type": "scatter",
         "x": [
          -5.017675075680016
         ],
         "xaxis": "x",
         "y": [
          12.017675075680016
         ],
         "yaxis": "y"
        },
        {
         "hovertemplate": "<b>%{hovertext}</b><br><br>player_name=Mason Mount<br>Goal and XG Difference=%{x}<br>xG=%{y}<br>goals=%{marker.size}<extra></extra>",
         "hovertext": [
          "Mason Mount"
         ],
         "legendgroup": "Mason Mount",
         "marker": {
          "color": "#B6E880",
          "size": [
           7
          ],
          "sizemode": "area",
          "sizeref": 0.0575,
          "symbol": "circle"
         },
         "mode": "markers",
         "name": "Mason Mount",
         "showlegend": true,
         "type": "scatter",
         "x": [
          -0.49783040955662816
         ],
         "xaxis": "x",
         "y": [
          7.497830409556628
         ],
         "yaxis": "y"
        },
        {
         "hovertemplate": "<b>%{hovertext}</b><br><br>player_name=Joshua King<br>Goal and XG Difference=%{x}<br>xG=%{y}<br>goals=%{marker.size}<extra></extra>",
         "hovertext": [
          "Joshua King"
         ],
         "legendgroup": "Joshua King",
         "marker": {
          "color": "#FF97FF",
          "size": [
           6
          ],
          "sizemode": "area",
          "sizeref": 0.0575,
          "symbol": "circle"
         },
         "mode": "markers",
         "name": "Joshua King",
         "showlegend": true,
         "type": "scatter",
         "x": [
          -0.5340897291898719
         ],
         "xaxis": "x",
         "y": [
          6.534089729189872
         ],
         "yaxis": "y"
        },
        {
         "hovertemplate": "<b>%{hovertext}</b><br><br>player_name=Oliver McBurnie<br>Goal and XG Difference=%{x}<br>xG=%{y}<br>goals=%{marker.size}<extra></extra>",
         "hovertext": [
          "Oliver McBurnie"
         ],
         "legendgroup": "Oliver McBurnie",
         "marker": {
          "color": "#FECB52",
          "size": [
           6
          ],
          "sizemode": "area",
          "sizeref": 0.0575,
          "symbol": "circle"
         },
         "mode": "markers",
         "name": "Oliver McBurnie",
         "showlegend": true,
         "type": "scatter",
         "x": [
          -2.0683191819116473
         ],
         "xaxis": "x",
         "y": [
          8.068319181911647
         ],
         "yaxis": "y"
        },
        {
         "hovertemplate": "<b>%{hovertext}</b><br><br>player_name=Lys Mousset<br>Goal and XG Difference=%{x}<br>xG=%{y}<br>goals=%{marker.size}<extra></extra>",
         "hovertext": [
          "Lys Mousset"
         ],
         "legendgroup": "Lys Mousset",
         "marker": {
          "color": "#636efa",
          "size": [
           6
          ],
          "sizemode": "area",
          "sizeref": 0.0575,
          "symbol": "circle"
         },
         "mode": "markers",
         "name": "Lys Mousset",
         "showlegend": true,
         "type": "scatter",
         "x": [
          -0.0729835405945769
         ],
         "xaxis": "x",
         "y": [
          6.072983540594577
         ],
         "yaxis": "y"
        },
        {
         "hovertemplate": "<b>%{hovertext}</b><br><br>player_name=Bernardo Silva<br>Goal and XG Difference=%{x}<br>xG=%{y}<br>goals=%{marker.size}<extra></extra>",
         "hovertext": [
          "Bernardo Silva"
         ],
         "legendgroup": "Bernardo Silva",
         "marker": {
          "color": "#EF553B",
          "size": [
           6
          ],
          "sizemode": "area",
          "sizeref": 0.0575,
          "symbol": "circle"
         },
         "mode": "markers",
         "name": "Bernardo Silva",
         "showlegend": true,
         "type": "scatter",
         "x": [
          -1.4203405529260626
         ],
         "xaxis": "x",
         "y": [
          7.420340552926063
         ],
         "yaxis": "y"
        },
        {
         "hovertemplate": "<b>%{hovertext}</b><br><br>player_name=Ashley Barnes<br>Goal and XG Difference=%{x}<br>xG=%{y}<br>goals=%{marker.size}<extra></extra>",
         "hovertext": [
          "Ashley Barnes"
         ],
         "legendgroup": "Ashley Barnes",
         "marker": {
          "color": "#00cc96",
          "size": [
           6
          ],
          "sizemode": "area",
          "sizeref": 0.0575,
          "symbol": "circle"
         },
         "mode": "markers",
         "name": "Ashley Barnes",
         "showlegend": true,
         "type": "scatter",
         "x": [
          -0.5169273540377626
         ],
         "xaxis": "x",
         "y": [
          6.516927354037763
         ],
         "yaxis": "y"
        },
        {
         "hovertemplate": "<b>%{hovertext}</b><br><br>player_name=Harvey Barnes<br>Goal and XG Difference=%{x}<br>xG=%{y}<br>goals=%{marker.size}<extra></extra>",
         "hovertext": [
          "Harvey Barnes"
         ],
         "legendgroup": "Harvey Barnes",
         "marker": {
          "color": "#ab63fa",
          "size": [
           6
          ],
          "sizemode": "area",
          "sizeref": 0.0575,
          "symbol": "circle"
         },
         "mode": "markers",
         "name": "Harvey Barnes",
         "showlegend": true,
         "type": "scatter",
         "x": [
          -2.4806198347359913
         ],
         "xaxis": "x",
         "y": [
          8.480619834735991
         ],
         "yaxis": "y"
        },
        {
         "hovertemplate": "<b>%{hovertext}</b><br><br>player_name=Trézéguet<br>Goal and XG Difference=%{x}<br>xG=%{y}<br>goals=%{marker.size}<extra></extra>",
         "hovertext": [
          "Trézéguet"
         ],
         "legendgroup": "Trézéguet",
         "marker": {
          "color": "#FFA15A",
          "size": [
           6
          ],
          "sizemode": "area",
          "sizeref": 0.0575,
          "symbol": "circle"
         },
         "mode": "markers",
         "name": "Trézéguet",
         "showlegend": true,
         "type": "scatter",
         "x": [
          0.6549508422613135
         ],
         "xaxis": "x",
         "y": [
          5.3450491577386865
         ],
         "yaxis": "y"
        },
        {
         "hovertemplate": "<b>%{hovertext}</b><br><br>player_name=Kelechi Iheanacho<br>Goal and XG Difference=%{x}<br>xG=%{y}<br>goals=%{marker.size}<extra></extra>",
         "hovertext": [
          "Kelechi Iheanacho"
         ],
         "legendgroup": "Kelechi Iheanacho",
         "marker": {
          "color": "#19d3f3",
          "size": [
           5
          ],
          "sizemode": "area",
          "sizeref": 0.0575,
          "symbol": "circle"
         },
         "mode": "markers",
         "name": "Kelechi Iheanacho",
         "showlegend": true,
         "type": "scatter",
         "x": [
          -0.9012715704739094
         ],
         "xaxis": "x",
         "y": [
          5.901271570473909
         ],
         "yaxis": "y"
        },
        {
         "hovertemplate": "<b>%{hovertext}</b><br><br>player_name=Robert Snodgrass<br>Goal and XG Difference=%{x}<br>xG=%{y}<br>goals=%{marker.size}<extra></extra>",
         "hovertext": [
          "Robert Snodgrass"
         ],
         "legendgroup": "Robert Snodgrass",
         "marker": {
          "color": "#FF6692",
          "size": [
           5
          ],
          "sizemode": "area",
          "sizeref": 0.0575,
          "symbol": "circle"
         },
         "mode": "markers",
         "name": "Robert Snodgrass",
         "showlegend": true,
         "type": "scatter",
         "x": [
          2.6134924488142133
         ],
         "xaxis": "x",
         "y": [
          2.3865075511857867
         ],
         "yaxis": "y"
        },
        {
         "hovertemplate": "<b>%{hovertext}</b><br><br>player_name=Nicolas Pepe<br>Goal and XG Difference=%{x}<br>xG=%{y}<br>goals=%{marker.size}<extra></extra>",
         "hovertext": [
          "Nicolas Pepe"
         ],
         "legendgroup": "Nicolas Pepe",
         "marker": {
          "color": "#B6E880",
          "size": [
           5
          ],
          "sizemode": "area",
          "sizeref": 0.0575,
          "symbol": "circle"
         },
         "mode": "markers",
         "name": "Nicolas Pepe",
         "showlegend": true,
         "type": "scatter",
         "x": [
          -0.06930527091026217
         ],
         "xaxis": "x",
         "y": [
          5.069305270910262
         ],
         "yaxis": "y"
        },
        {
         "hovertemplate": "<b>%{hovertext}</b><br><br>player_name=Ismaila Sarr<br>Goal and XG Difference=%{x}<br>xG=%{y}<br>goals=%{marker.size}<extra></extra>",
         "hovertext": [
          "Ismaila Sarr"
         ],
         "legendgroup": "Ismaila Sarr",
         "marker": {
          "color": "#FF97FF",
          "size": [
           5
          ],
          "sizemode": "area",
          "sizeref": 0.0575,
          "symbol": "circle"
         },
         "mode": "markers",
         "name": "Ismaila Sarr",
         "showlegend": true,
         "type": "scatter",
         "x": [
          -0.9681985024362803
         ],
         "xaxis": "x",
         "y": [
          5.96819850243628
         ],
         "yaxis": "y"
        },
        {
         "hovertemplate": "<b>%{hovertext}</b><br><br>player_name=Phil Foden<br>Goal and XG Difference=%{x}<br>xG=%{y}<br>goals=%{marker.size}<extra></extra>",
         "hovertext": [
          "Phil Foden"
         ],
         "legendgroup": "Phil Foden",
         "marker": {
          "color": "#FECB52",
          "size": [
           5
          ],
          "sizemode": "area",
          "sizeref": 0.0575,
          "symbol": "circle"
         },
         "mode": "markers",
         "name": "Phil Foden",
         "showlegend": true,
         "type": "scatter",
         "x": [
          1.4431703221052885
         ],
         "xaxis": "x",
         "y": [
          3.5568296778947115
         ],
         "yaxis": "y"
        },
        {
         "hovertemplate": "<b>%{hovertext}</b><br><br>player_name=Leandro Trossard<br>Goal and XG Difference=%{x}<br>xG=%{y}<br>goals=%{marker.size}<extra></extra>",
         "hovertext": [
          "Leandro Trossard"
         ],
         "legendgroup": "Leandro Trossard",
         "marker": {
          "color": "#636efa",
          "size": [
           5
          ],
          "sizemode": "area",
          "sizeref": 0.0575,
          "symbol": "circle"
         },
         "mode": "markers",
         "name": "Leandro Trossard",
         "showlegend": true,
         "type": "scatter",
         "x": [
          -0.35430202446878045
         ],
         "xaxis": "x",
         "y": [
          5.3543020244687805
         ],
         "yaxis": "y"
        },
        {
         "hovertemplate": "<b>%{hovertext}</b><br><br>player_name=Wesley<br>Goal and XG Difference=%{x}<br>xG=%{y}<br>goals=%{marker.size}<extra></extra>",
         "hovertext": [
          "Wesley"
         ],
         "legendgroup": "Wesley",
         "marker": {
          "color": "#EF553B",
          "size": [
           5
          ],
          "sizemode": "area",
          "sizeref": 0.0575,
          "symbol": "circle"
         },
         "mode": "markers",
         "name": "Wesley",
         "showlegend": true,
         "type": "scatter",
         "x": [
          -2.270558223128319
         ],
         "xaxis": "x",
         "y": [
          7.270558223128319
         ],
         "yaxis": "y"
        },
        {
         "hovertemplate": "<b>%{hovertext}</b><br><br>player_name=Divock Origi<br>Goal and XG Difference=%{x}<br>xG=%{y}<br>goals=%{marker.size}<extra></extra>",
         "hovertext": [
          "Divock Origi"
         ],
         "legendgroup": "Divock Origi",
         "marker": {
          "color": "#00cc96",
          "size": [
           4
          ],
          "sizemode": "area",
          "sizeref": 0.0575,
          "symbol": "circle"
         },
         "mode": "markers",
         "name": "Divock Origi",
         "showlegend": true,
         "type": "scatter",
         "x": [
          1.9034396912902594
         ],
         "xaxis": "x",
         "y": [
          2.0965603087097406
         ],
         "yaxis": "y"
        },
        {
         "hovertemplate": "<b>%{hovertext}</b><br><br>player_name=Wilfried Zaha<br>Goal and XG Difference=%{x}<br>xG=%{y}<br>goals=%{marker.size}<extra></extra>",
         "hovertext": [
          "Wilfried Zaha"
         ],
         "legendgroup": "Wilfried Zaha",
         "marker": {
          "color": "#ab63fa",
          "size": [
           4
          ],
          "sizemode": "area",
          "sizeref": 0.0575,
          "symbol": "circle"
         },
         "mode": "markers",
         "name": "Wilfried Zaha",
         "showlegend": true,
         "type": "scatter",
         "x": [
          -0.9326609149575233
         ],
         "xaxis": "x",
         "y": [
          4.932660914957523
         ],
         "yaxis": "y"
        },
        {
         "hovertemplate": "<b>%{hovertext}</b><br><br>player_name=Gerard Deulofeu<br>Goal and XG Difference=%{x}<br>xG=%{y}<br>goals=%{marker.size}<extra></extra>",
         "hovertext": [
          "Gerard Deulofeu"
         ],
         "legendgroup": "Gerard Deulofeu",
         "marker": {
          "color": "#FFA15A",
          "size": [
           4
          ],
          "sizemode": "area",
          "sizeref": 0.0575,
          "symbol": "circle"
         },
         "mode": "markers",
         "name": "Gerard Deulofeu",
         "showlegend": true,
         "type": "scatter",
         "x": [
          -2.213232520967723
         ],
         "xaxis": "x",
         "y": [
          6.213232520967723
         ],
         "yaxis": "y"
        },
        {
         "hovertemplate": "<b>%{hovertext}</b><br><br>player_name=Dwight Gayle<br>Goal and XG Difference=%{x}<br>xG=%{y}<br>goals=%{marker.size}<extra></extra>",
         "hovertext": [
          "Dwight Gayle"
         ],
         "legendgroup": "Dwight Gayle",
         "marker": {
          "color": "#19d3f3",
          "size": [
           4
          ],
          "sizemode": "area",
          "sizeref": 0.0575,
          "symbol": "circle"
         },
         "mode": "markers",
         "name": "Dwight Gayle",
         "showlegend": true,
         "type": "scatter",
         "x": [
          -0.6395000368356714
         ],
         "xaxis": "x",
         "y": [
          4.639500036835671
         ],
         "yaxis": "y"
        },
        {
         "hovertemplate": "<b>%{hovertext}</b><br><br>player_name=Nathan Redmond<br>Goal and XG Difference=%{x}<br>xG=%{y}<br>goals=%{marker.size}<extra></extra>",
         "hovertext": [
          "Nathan Redmond"
         ],
         "legendgroup": "Nathan Redmond",
         "marker": {
          "color": "#FF6692",
          "size": [
           4
          ],
          "sizemode": "area",
          "sizeref": 0.0575,
          "symbol": "circle"
         },
         "mode": "markers",
         "name": "Nathan Redmond",
         "showlegend": true,
         "type": "scatter",
         "x": [
          -1.2873223889619112
         ],
         "xaxis": "x",
         "y": [
          5.287322388961911
         ],
         "yaxis": "y"
        },
        {
         "hovertemplate": "<b>%{hovertext}</b><br><br>player_name=Adama Traoré<br>Goal and XG Difference=%{x}<br>xG=%{y}<br>goals=%{marker.size}<extra></extra>",
         "hovertext": [
          "Adama Traoré"
         ],
         "legendgroup": "Adama Traoré",
         "marker": {
          "color": "#B6E880",
          "size": [
           4
          ],
          "sizemode": "area",
          "sizeref": 0.0575,
          "symbol": "circle"
         },
         "mode": "markers",
         "name": "Adama Traoré",
         "showlegend": true,
         "type": "scatter",
         "x": [
          0.29266260378062725
         ],
         "xaxis": "x",
         "y": [
          3.7073373962193727
         ],
         "yaxis": "y"
        },
        {
         "hovertemplate": "<b>%{hovertext}</b><br><br>player_name=Alex Oxlade-Chamberlain<br>Goal and XG Difference=%{x}<br>xG=%{y}<br>goals=%{marker.size}<extra></extra>",
         "hovertext": [
          "Alex Oxlade-Chamberlain"
         ],
         "legendgroup": "Alex Oxlade-Chamberlain",
         "marker": {
          "color": "#FF97FF",
          "size": [
           4
          ],
          "sizemode": "area",
          "sizeref": 0.0575,
          "symbol": "circle"
         },
         "mode": "markers",
         "name": "Alex Oxlade-Chamberlain",
         "showlegend": true,
         "type": "scatter",
         "x": [
          1.495532494038343
         ],
         "xaxis": "x",
         "y": [
          2.504467505961657
         ],
         "yaxis": "y"
        },
        {
         "hovertemplate": "<b>%{hovertext}</b><br><br>player_name=Lucas Moura<br>Goal and XG Difference=%{x}<br>xG=%{y}<br>goals=%{marker.size}<extra></extra>",
         "hovertext": [
          "Lucas Moura"
         ],
         "legendgroup": "Lucas Moura",
         "marker": {
          "color": "#FECB52",
          "size": [
           4
          ],
          "sizemode": "area",
          "sizeref": 0.0575,
          "symbol": "circle"
         },
         "mode": "markers",
         "name": "Lucas Moura",
         "showlegend": true,
         "type": "scatter",
         "x": [
          -1.5820646416395903
         ],
         "xaxis": "x",
         "y": [
          5.58206464163959
         ],
         "yaxis": "y"
        },
        {
         "hovertemplate": "<b>%{hovertext}</b><br><br>player_name=Anwar El Ghazi<br>Goal and XG Difference=%{x}<br>xG=%{y}<br>goals=%{marker.size}<extra></extra>",
         "hovertext": [
          "Anwar El Ghazi"
         ],
         "legendgroup": "Anwar El Ghazi",
         "marker": {
          "color": "#636efa",
          "size": [
           4
          ],
          "sizemode": "area",
          "sizeref": 0.0575,
          "symbol": "circle"
         },
         "mode": "markers",
         "name": "Anwar El Ghazi",
         "showlegend": true,
         "type": "scatter",
         "x": [
          -2.3813601741567245
         ],
         "xaxis": "x",
         "y": [
          6.3813601741567245
         ],
         "yaxis": "y"
        },
        {
         "hovertemplate": "<b>%{hovertext}</b><br><br>player_name=Miguel Almirón<br>Goal and XG Difference=%{x}<br>xG=%{y}<br>goals=%{marker.size}<extra></extra>",
         "hovertext": [
          "Miguel Almirón"
         ],
         "legendgroup": "Miguel Almirón",
         "marker": {
          "color": "#EF553B",
          "size": [
           4
          ],
          "sizemode": "area",
          "sizeref": 0.0575,
          "symbol": "circle"
         },
         "mode": "markers",
         "name": "Miguel Almirón",
         "showlegend": true,
         "type": "scatter",
         "x": [
          -3.7551376651972532
         ],
         "xaxis": "x",
         "y": [
          7.755137665197253
         ],
         "yaxis": "y"
        },
        {
         "hovertemplate": "<b>%{hovertext}</b><br><br>player_name=Che Adams<br>Goal and XG Difference=%{x}<br>xG=%{y}<br>goals=%{marker.size}<extra></extra>",
         "hovertext": [
          "Che Adams"
         ],
         "legendgroup": "Che Adams",
         "marker": {
          "color": "#00cc96",
          "size": [
           4
          ],
          "sizemode": "area",
          "sizeref": 0.0575,
          "symbol": "circle"
         },
         "mode": "markers",
         "name": "Che Adams",
         "showlegend": true,
         "type": "scatter",
         "x": [
          -1.8656815625727177
         ],
         "xaxis": "x",
         "y": [
          5.865681562572718
         ],
         "yaxis": "y"
        },
        {
         "hovertemplate": "<b>%{hovertext}</b><br><br>player_name=Allan Saint-Maximin<br>Goal and XG Difference=%{x}<br>xG=%{y}<br>goals=%{marker.size}<extra></extra>",
         "hovertext": [
          "Allan Saint-Maximin"
         ],
         "legendgroup": "Allan Saint-Maximin",
         "marker": {
          "color": "#ab63fa",
          "size": [
           3
          ],
          "sizemode": "area",
          "sizeref": 0.0575,
          "symbol": "circle"
         },
         "mode": "markers",
         "name": "Allan Saint-Maximin",
         "showlegend": true,
         "type": "scatter",
         "x": [
          0.05748305283486799
         ],
         "xaxis": "x",
         "y": [
          2.942516947165132
         ],
         "yaxis": "y"
        },
        {
         "hovertemplate": "<b>%{hovertext}</b><br><br>player_name=Dominic Solanke<br>Goal and XG Difference=%{x}<br>xG=%{y}<br>goals=%{marker.size}<extra></extra>",
         "hovertext": [
          "Dominic Solanke"
         ],
         "legendgroup": "Dominic Solanke",
         "marker": {
          "color": "#FFA15A",
          "size": [
           3
          ],
          "sizemode": "area",
          "sizeref": 0.0575,
          "symbol": "circle"
         },
         "mode": "markers",
         "name": "Dominic Solanke",
         "showlegend": true,
         "type": "scatter",
         "x": [
          -1.4393345210701236
         ],
         "xaxis": "x",
         "y": [
          4.439334521070124
         ],
         "yaxis": "y"
        },
        {
         "hovertemplate": "<b>%{hovertext}</b><br><br>player_name=Roberto Pereyra<br>Goal and XG Difference=%{x}<br>xG=%{y}<br>goals=%{marker.size}<extra></extra>",
         "hovertext": [
          "Roberto Pereyra"
         ],
         "legendgroup": "Roberto Pereyra",
         "marker": {
          "color": "#19d3f3",
          "size": [
           3
          ],
          "sizemode": "area",
          "sizeref": 0.0575,
          "symbol": "circle"
         },
         "mode": "markers",
         "name": "Roberto Pereyra",
         "showlegend": true,
         "type": "scatter",
         "x": [
          -0.14688592590391636
         ],
         "xaxis": "x",
         "y": [
          3.1468859259039164
         ],
         "yaxis": "y"
        },
        {
         "hovertemplate": "<b>%{hovertext}</b><br><br>player_name=Daniel James<br>Goal and XG Difference=%{x}<br>xG=%{y}<br>goals=%{marker.size}<extra></extra>",
         "hovertext": [
          "Daniel James"
         ],
         "legendgroup": "Daniel James",
         "marker": {
          "color": "#FF6692",
          "size": [
           3
          ],
          "sizemode": "area",
          "sizeref": 0.0575,
          "symbol": "circle"
         },
         "mode": "markers",
         "name": "Daniel James",
         "showlegend": true,
         "type": "scatter",
         "x": [
          -0.6031310930848122
         ],
         "xaxis": "x",
         "y": [
          3.603131093084812
         ],
         "yaxis": "y"
        },
        {
         "hovertemplate": "<b>%{hovertext}</b><br><br>player_name=Pedro Neto<br>Goal and XG Difference=%{x}<br>xG=%{y}<br>goals=%{marker.size}<extra></extra>",
         "hovertext": [
          "Pedro Neto"
         ],
         "legendgroup": "Pedro Neto",
         "marker": {
          "color": "#B6E880",
          "size": [
           3
          ],
          "sizemode": "area",
          "sizeref": 0.0575,
          "symbol": "circle"
         },
         "mode": "markers",
         "name": "Pedro Neto",
         "showlegend": true,
         "type": "scatter",
         "x": [
          1.1065522395074368
         ],
         "xaxis": "x",
         "y": [
          1.8934477604925632
         ],
         "yaxis": "y"
        },
        {
         "hovertemplate": "<b>%{hovertext}</b><br><br>player_name=Michael Obafemi<br>Goal and XG Difference=%{x}<br>xG=%{y}<br>goals=%{marker.size}<extra></extra>",
         "hovertext": [
          "Michael Obafemi"
         ],
         "legendgroup": "Michael Obafemi",
         "marker": {
          "color": "#FF97FF",
          "size": [
           3
          ],
          "sizemode": "area",
          "sizeref": 0.0575,
          "symbol": "circle"
         },
         "mode": "markers",
         "name": "Michael Obafemi",
         "showlegend": true,
         "type": "scatter",
         "x": [
          0.845387551933527
         ],
         "xaxis": "x",
         "y": [
          2.154612448066473
         ],
         "yaxis": "y"
        },
        {
         "hovertemplate": "<b>%{hovertext}</b><br><br>player_name=Billy Sharp<br>Goal and XG Difference=%{x}<br>xG=%{y}<br>goals=%{marker.size}<extra></extra>",
         "hovertext": [
          "Billy Sharp"
         ],
         "legendgroup": "Billy Sharp",
         "marker": {
          "color": "#FECB52",
          "size": [
           3
          ],
          "sizemode": "area",
          "sizeref": 0.0575,
          "symbol": "circle"
         },
         "mode": "markers",
         "name": "Billy Sharp",
         "showlegend": true,
         "type": "scatter",
         "x": [
          -1.138954329304397
         ],
         "xaxis": "x",
         "y": [
          4.138954329304397
         ],
         "yaxis": "y"
        },
        {
         "hovertemplate": "<b>%{hovertext}</b><br><br>player_name=Aaron Connolly<br>Goal and XG Difference=%{x}<br>xG=%{y}<br>goals=%{marker.size}<extra></extra>",
         "hovertext": [
          "Aaron Connolly"
         ],
         "legendgroup": "Aaron Connolly",
         "marker": {
          "color": "#636efa",
          "size": [
           3
          ],
          "sizemode": "area",
          "sizeref": 0.0575,
          "symbol": "circle"
         },
         "mode": "markers",
         "name": "Aaron Connolly",
         "showlegend": true,
         "type": "scatter",
         "x": [
          -1.5535256061702967
         ],
         "xaxis": "x",
         "y": [
          4.553525606170297
         ],
         "yaxis": "y"
        },
        {
         "hovertemplate": "<b>%{hovertext}</b><br><br>player_name=Steven Bergwijn<br>Goal and XG Difference=%{x}<br>xG=%{y}<br>goals=%{marker.size}<extra></extra>",
         "hovertext": [
          "Steven Bergwijn"
         ],
         "legendgroup": "Steven Bergwijn",
         "marker": {
          "color": "#EF553B",
          "size": [
           3
          ],
          "sizemode": "area",
          "sizeref": 0.0575,
          "symbol": "circle"
         },
         "mode": "markers",
         "name": "Steven Bergwijn",
         "showlegend": true,
         "type": "scatter",
         "x": [
          1.8216841891407969
         ],
         "xaxis": "x",
         "y": [
          1.1783158108592031
         ],
         "yaxis": "y"
        },
        {
         "hovertemplate": "<b>%{hovertext}</b><br><br>player_name=Joelinton<br>Goal and XG Difference=%{x}<br>xG=%{y}<br>goals=%{marker.size}<extra></extra>",
         "hovertext": [
          "Joelinton"
         ],
         "legendgroup": "Joelinton",
         "marker": {
          "color": "#00cc96",
          "size": [
           2
          ],
          "sizemode": "area",
          "sizeref": 0.0575,
          "symbol": "circle"
         },
         "mode": "markers",
         "name": "Joelinton",
         "showlegend": true,
         "type": "scatter",
         "x": [
          -4.031041044741869
         ],
         "xaxis": "x",
         "y": [
          6.031041044741869
         ],
         "yaxis": "y"
        },
        {
         "hovertemplate": "<b>%{hovertext}</b><br><br>player_name=Pascal Groß<br>Goal and XG Difference=%{x}<br>xG=%{y}<br>goals=%{marker.size}<extra></extra>",
         "hovertext": [
          "Pascal Groß"
         ],
         "legendgroup": "Pascal Groß",
         "marker": {
          "color": "#ab63fa",
          "size": [
           2
          ],
          "sizemode": "area",
          "sizeref": 0.0575,
          "symbol": "circle"
         },
         "mode": "markers",
         "name": "Pascal Groß",
         "showlegend": true,
         "type": "scatter",
         "x": [
          0.5439030071720481
         ],
         "xaxis": "x",
         "y": [
          1.456096992827952
         ],
         "yaxis": "y"
        },
        {
         "hovertemplate": "<b>%{hovertext}</b><br><br>player_name=Danny Welbeck<br>Goal and XG Difference=%{x}<br>xG=%{y}<br>goals=%{marker.size}<extra></extra>",
         "hovertext": [
          "Danny Welbeck"
         ],
         "legendgroup": "Danny Welbeck",
         "marker": {
          "color": "#FFA15A",
          "size": [
           2
          ],
          "sizemode": "area",
          "sizeref": 0.0575,
          "symbol": "circle"
         },
         "mode": "markers",
         "name": "Danny Welbeck",
         "showlegend": true,
         "type": "scatter",
         "x": [
          -1.3855950385332108
         ],
         "xaxis": "x",
         "y": [
          3.3855950385332108
         ],
         "yaxis": "y"
        },
        {
         "hovertemplate": "<b>%{hovertext}</b><br><br>player_name=Christian Benteke<br>Goal and XG Difference=%{x}<br>xG=%{y}<br>goals=%{marker.size}<extra></extra>",
         "hovertext": [
          "Christian Benteke"
         ],
         "legendgroup": "Christian Benteke",
         "marker": {
          "color": "#19d3f3",
          "size": [
           2
          ],
          "sizemode": "area",
          "sizeref": 0.0575,
          "symbol": "circle"
         },
         "mode": "markers",
         "name": "Christian Benteke",
         "showlegend": true,
         "type": "scatter",
         "x": [
          -2.627831593155862
         ],
         "xaxis": "x",
         "y": [
          4.627831593155862
         ],
         "yaxis": "y"
        },
        {
         "hovertemplate": "<b>%{hovertext}</b><br><br>player_name=Erik Lamela<br>Goal and XG Difference=%{x}<br>xG=%{y}<br>goals=%{marker.size}<extra></extra>",
         "hovertext": [
          "Erik Lamela"
         ],
         "legendgroup": "Erik Lamela",
         "marker": {
          "color": "#FF6692",
          "size": [
           2
          ],
          "sizemode": "area",
          "sizeref": 0.0575,
          "symbol": "circle"
         },
         "mode": "markers",
         "name": "Erik Lamela",
         "showlegend": true,
         "type": "scatter",
         "x": [
          -0.309972669929266
         ],
         "xaxis": "x",
         "y": [
          2.309972669929266
         ],
         "yaxis": "y"
        },
        {
         "hovertemplate": "<b>%{hovertext}</b><br><br>player_name=Christian Eriksen<br>Goal and XG Difference=%{x}<br>xG=%{y}<br>goals=%{marker.size}<extra></extra>",
         "hovertext": [
          "Christian Eriksen"
         ],
         "legendgroup": "Christian Eriksen",
         "marker": {
          "color": "#B6E880",
          "size": [
           2
          ],
          "sizemode": "area",
          "sizeref": 0.0575,
          "symbol": "circle"
         },
         "mode": "markers",
         "name": "Christian Eriksen",
         "showlegend": true,
         "type": "scatter",
         "x": [
          0.2355692945420742
         ],
         "xaxis": "x",
         "y": [
          1.7644307054579258
         ],
         "yaxis": "y"
        },
        {
         "hovertemplate": "<b>%{hovertext}</b><br><br>player_name=Shane Long<br>Goal and XG Difference=%{x}<br>xG=%{y}<br>goals=%{marker.size}<extra></extra>",
         "hovertext": [
          "Shane Long"
         ],
         "legendgroup": "Shane Long",
         "marker": {
          "color": "#FF97FF",
          "size": [
           2
          ],
          "sizemode": "area",
          "sizeref": 0.0575,
          "symbol": "circle"
         },
         "mode": "markers",
         "name": "Shane Long",
         "showlegend": true,
         "type": "scatter",
         "x": [
          -2.5295923594385386
         ],
         "xaxis": "x",
         "y": [
          4.5295923594385386
         ],
         "yaxis": "y"
        },
        {
         "hovertemplate": "<b>%{hovertext}</b><br><br>player_name=Matej Vydra<br>Goal and XG Difference=%{x}<br>xG=%{y}<br>goals=%{marker.size}<extra></extra>",
         "hovertext": [
          "Matej Vydra"
         ],
         "legendgroup": "Matej Vydra",
         "marker": {
          "color": "#FECB52",
          "size": [
           2
          ],
          "sizemode": "area",
          "sizeref": 0.0575,
          "symbol": "circle"
         },
         "mode": "markers",
         "name": "Matej Vydra",
         "showlegend": true,
         "type": "scatter",
         "x": [
          -2.003597117960453
         ],
         "xaxis": "x",
         "y": [
          4.003597117960453
         ],
         "yaxis": "y"
        },
        {
         "hovertemplate": "<b>%{hovertext}</b><br><br>player_name=Moise Kean<br>Goal and XG Difference=%{x}<br>xG=%{y}<br>goals=%{marker.size}<extra></extra>",
         "hovertext": [
          "Moise Kean"
         ],
         "legendgroup": "Moise Kean",
         "marker": {
          "color": "#636efa",
          "size": [
           2
          ],
          "sizemode": "area",
          "sizeref": 0.0575,
          "symbol": "circle"
         },
         "mode": "markers",
         "name": "Moise Kean",
         "showlegend": true,
         "type": "scatter",
         "x": [
          -2.1403123447671533
         ],
         "xaxis": "x",
         "y": [
          4.140312344767153
         ],
         "yaxis": "y"
        },
        {
         "hovertemplate": "<b>%{hovertext}</b><br><br>player_name=Andre Gray<br>Goal and XG Difference=%{x}<br>xG=%{y}<br>goals=%{marker.size}<extra></extra>",
         "hovertext": [
          "Andre Gray"
         ],
         "legendgroup": "Andre Gray",
         "marker": {
          "color": "#EF553B",
          "size": [
           2
          ],
          "sizemode": "area",
          "sizeref": 0.0575,
          "symbol": "circle"
         },
         "mode": "markers",
         "name": "Andre Gray",
         "showlegend": true,
         "type": "scatter",
         "x": [
          -0.5895376875996594
         ],
         "xaxis": "x",
         "y": [
          2.5895376875996594
         ],
         "yaxis": "y"
        },
        {
         "hovertemplate": "<b>%{hovertext}</b><br><br>player_name=Patrick Cutrone<br>Goal and XG Difference=%{x}<br>xG=%{y}<br>goals=%{marker.size}<extra></extra>",
         "hovertext": [
          "Patrick Cutrone"
         ],
         "legendgroup": "Patrick Cutrone",
         "marker": {
          "color": "#00cc96",
          "size": [
           2
          ],
          "sizemode": "area",
          "sizeref": 0.0575,
          "symbol": "circle"
         },
         "mode": "markers",
         "name": "Patrick Cutrone",
         "showlegend": true,
         "type": "scatter",
         "x": [
          -0.2888070419430733
         ],
         "xaxis": "x",
         "y": [
          2.2888070419430733
         ],
         "yaxis": "y"
        },
        {
         "hovertemplate": "<b>%{hovertext}</b><br><br>player_name=Aaron Mooy<br>Goal and XG Difference=%{x}<br>xG=%{y}<br>goals=%{marker.size}<extra></extra>",
         "hovertext": [
          "Aaron Mooy"
         ],
         "legendgroup": "Aaron Mooy",
         "marker": {
          "color": "#ab63fa",
          "size": [
           2
          ],
          "sizemode": "area",
          "sizeref": 0.0575,
          "symbol": "circle"
         },
         "mode": "markers",
         "name": "Aaron Mooy",
         "showlegend": true,
         "type": "scatter",
         "x": [
          -0.5181916113942862
         ],
         "xaxis": "x",
         "y": [
          2.518191611394286
         ],
         "yaxis": "y"
        },
        {
         "hovertemplate": "<b>%{hovertext}</b><br><br>player_name=Cenk Tosun<br>Goal and XG Difference=%{x}<br>xG=%{y}<br>goals=%{marker.size}<extra></extra>",
         "hovertext": [
          "Cenk Tosun"
         ],
         "legendgroup": "Cenk Tosun",
         "marker": {
          "color": "#FFA15A",
          "size": [
           2
          ],
          "sizemode": "area",
          "sizeref": 0.0575,
          "symbol": "circle"
         },
         "mode": "markers",
         "name": "Cenk Tosun",
         "showlegend": true,
         "type": "scatter",
         "x": [
          0.08711424469947837
         ],
         "xaxis": "x",
         "y": [
          1.9128857553005216
         ],
         "yaxis": "y"
        },
        {
         "hovertemplate": "<b>%{hovertext}</b><br><br>player_name=Eddie Nketiah<br>Goal and XG Difference=%{x}<br>xG=%{y}<br>goals=%{marker.size}<extra></extra>",
         "hovertext": [
          "Eddie Nketiah"
         ],
         "legendgroup": "Eddie Nketiah",
         "marker": {
          "color": "#19d3f3",
          "size": [
           2
          ],
          "sizemode": "area",
          "sizeref": 0.0575,
          "symbol": "circle"
         },
         "mode": "markers",
         "name": "Eddie Nketiah",
         "showlegend": true,
         "type": "scatter",
         "x": [
          -1.4787293002009392
         ],
         "xaxis": "x",
         "y": [
          3.478729300200939
         ],
         "yaxis": "y"
        },
        {
         "hovertemplate": "<b>%{hovertext}</b><br><br>player_name=Alireza Jahanbakhsh<br>Goal and XG Difference=%{x}<br>xG=%{y}<br>goals=%{marker.size}<extra></extra>",
         "hovertext": [
          "Alireza Jahanbakhsh"
         ],
         "legendgroup": "Alireza Jahanbakhsh",
         "marker": {
          "color": "#FF6692",
          "size": [
           2
          ],
          "sizemode": "area",
          "sizeref": 0.0575,
          "symbol": "circle"
         },
         "mode": "markers",
         "name": "Alireza Jahanbakhsh",
         "showlegend": true,
         "type": "scatter",
         "x": [
          1.4137558192014694
         ],
         "xaxis": "x",
         "y": [
          0.5862441807985306
         ],
         "yaxis": "y"
        },
        {
         "hovertemplate": "<b>%{hovertext}</b><br><br>player_name=Moussa Djenepo<br>Goal and XG Difference=%{x}<br>xG=%{y}<br>goals=%{marker.size}<extra></extra>",
         "hovertext": [
          "Moussa Djenepo"
         ],
         "legendgroup": "Moussa Djenepo",
         "marker": {
          "color": "#B6E880",
          "size": [
           2
          ],
          "sizemode": "area",
          "sizeref": 0.0575,
          "symbol": "circle"
         },
         "mode": "markers",
         "name": "Moussa Djenepo",
         "showlegend": true,
         "type": "scatter",
         "x": [
          -0.2402867088094358
         ],
         "xaxis": "x",
         "y": [
          2.240286708809436
         ],
         "yaxis": "y"
        },
        {
         "hovertemplate": "<b>%{hovertext}</b><br><br>player_name=David McGoldrick<br>Goal and XG Difference=%{x}<br>xG=%{y}<br>goals=%{marker.size}<extra></extra>",
         "hovertext": [
          "David McGoldrick"
         ],
         "legendgroup": "David McGoldrick",
         "marker": {
          "color": "#FF97FF",
          "size": [
           2
          ],
          "sizemode": "area",
          "sizeref": 0.0575,
          "symbol": "circle"
         },
         "mode": "markers",
         "name": "David McGoldrick",
         "showlegend": true,
         "type": "scatter",
         "x": [
          -6.71595642156899
         ],
         "xaxis": "x",
         "y": [
          8.71595642156899
         ],
         "yaxis": "y"
        },
        {
         "hovertemplate": "<b>%{hovertext}</b><br><br>player_name=Chicharito<br>Goal and XG Difference=%{x}<br>xG=%{y}<br>goals=%{marker.size}<extra></extra>",
         "hovertext": [
          "Chicharito"
         ],
         "legendgroup": "Chicharito",
         "marker": {
          "color": "#FECB52",
          "size": [
           1
          ],
          "sizemode": "area",
          "sizeref": 0.0575,
          "symbol": "circle"
         },
         "mode": "markers",
         "name": "Chicharito",
         "showlegend": true,
         "type": "scatter",
         "x": [
          0.11701512336730957
         ],
         "xaxis": "x",
         "y": [
          0.8829848766326904
         ],
         "yaxis": "y"
        },
        {
         "hovertemplate": "<b>%{hovertext}</b><br><br>player_name=Josip Drmic<br>Goal and XG Difference=%{x}<br>xG=%{y}<br>goals=%{marker.size}<extra></extra>",
         "hovertext": [
          "Josip Drmic"
         ],
         "legendgroup": "Josip Drmic",
         "marker": {
          "color": "#636efa",
          "size": [
           1
          ],
          "sizemode": "area",
          "sizeref": 0.0575,
          "symbol": "circle"
         },
         "mode": "markers",
         "name": "Josip Drmic",
         "showlegend": true,
         "type": "scatter",
         "x": [
          -1.9341559950262313
         ],
         "xaxis": "x",
         "y": [
          2.9341559950262313
         ],
         "yaxis": "y"
        },
        {
         "hovertemplate": "<b>%{hovertext}</b><br><br>player_name=Alex Iwobi<br>Goal and XG Difference=%{x}<br>xG=%{y}<br>goals=%{marker.size}<extra></extra>",
         "hovertext": [
          "Alex Iwobi"
         ],
         "legendgroup": "Alex Iwobi",
         "marker": {
          "color": "#EF553B",
          "size": [
           1
          ],
          "sizemode": "area",
          "sizeref": 0.0575,
          "symbol": "circle"
         },
         "mode": "markers",
         "name": "Alex Iwobi",
         "showlegend": true,
         "type": "scatter",
         "x": [
          -1.4786294400691986
         ],
         "xaxis": "x",
         "y": [
          2.4786294400691986
         ],
         "yaxis": "y"
        },
        {
         "hovertemplate": "<b>%{hovertext}</b><br><br>player_name=Connor Wickham<br>Goal and XG Difference=%{x}<br>xG=%{y}<br>goals=%{marker.size}<extra></extra>",
         "hovertext": [
          "Connor Wickham"
         ],
         "legendgroup": "Connor Wickham",
         "marker": {
          "color": "#00cc96",
          "size": [
           1
          ],
          "sizemode": "area",
          "sizeref": 0.0575,
          "symbol": "circle"
         },
         "mode": "markers",
         "name": "Connor Wickham",
         "showlegend": true,
         "type": "scatter",
         "x": [
          -0.11555422842502594
         ],
         "xaxis": "x",
         "y": [
          1.115554228425026
         ],
         "yaxis": "y"
        },
        {
         "hovertemplate": "<b>%{hovertext}</b><br><br>player_name=Pedro<br>Goal and XG Difference=%{x}<br>xG=%{y}<br>goals=%{marker.size}<extra></extra>",
         "hovertext": [
          "Pedro"
         ],
         "legendgroup": "Pedro",
         "marker": {
          "color": "#ab63fa",
          "size": [
           1
          ],
          "sizemode": "area",
          "sizeref": 0.0575,
          "symbol": "circle"
         },
         "mode": "markers",
         "name": "Pedro",
         "showlegend": true,
         "type": "scatter",
         "x": [
          -1.4724749960005283
         ],
         "xaxis": "x",
         "y": [
          2.4724749960005283
         ],
         "yaxis": "y"
        },
        {
         "hovertemplate": "<b>%{hovertext}</b><br><br>player_name=Glenn Murray<br>Goal and XG Difference=%{x}<br>xG=%{y}<br>goals=%{marker.size}<extra></extra>",
         "hovertext": [
          "Glenn Murray"
         ],
         "legendgroup": "Glenn Murray",
         "marker": {
          "color": "#FFA15A",
          "size": [
           1
          ],
          "sizemode": "area",
          "sizeref": 0.0575,
          "symbol": "circle"
         },
         "mode": "markers",
         "name": "Glenn Murray",
         "showlegend": true,
         "type": "scatter",
         "x": [
          -1.6061205370351668
         ],
         "xaxis": "x",
         "y": [
          2.6061205370351668
         ],
         "yaxis": "y"
        },
        {
         "hovertemplate": "<b>%{hovertext}</b><br><br>player_name=Michy Batshuayi<br>Goal and XG Difference=%{x}<br>xG=%{y}<br>goals=%{marker.size}<extra></extra>",
         "hovertext": [
          "Michy Batshuayi"
         ],
         "legendgroup": "Michy Batshuayi",
         "marker": {
          "color": "#19d3f3",
          "size": [
           1
          ],
          "sizemode": "area",
          "sizeref": 0.0575,
          "symbol": "circle"
         },
         "mode": "markers",
         "name": "Michy Batshuayi",
         "showlegend": true,
         "type": "scatter",
         "x": [
          -2.038818970322609
         ],
         "xaxis": "x",
         "y": [
          3.038818970322609
         ],
         "yaxis": "y"
        },
        {
         "hovertemplate": "<b>%{hovertext}</b><br><br>player_name=Ryan Fraser<br>Goal and XG Difference=%{x}<br>xG=%{y}<br>goals=%{marker.size}<extra></extra>",
         "hovertext": [
          "Ryan Fraser"
         ],
         "legendgroup": "Ryan Fraser",
         "marker": {
          "color": "#FF6692",
          "size": [
           1
          ],
          "sizemode": "area",
          "sizeref": 0.0575,
          "symbol": "circle"
         },
         "mode": "markers",
         "name": "Ryan Fraser",
         "showlegend": true,
         "type": "scatter",
         "x": [
          -2.4642705637961626
         ],
         "xaxis": "x",
         "y": [
          3.4642705637961626
         ],
         "yaxis": "y"
        },
        {
         "hovertemplate": "<b>%{hovertext}</b><br><br>player_name=Florin Andone<br>Goal and XG Difference=%{x}<br>xG=%{y}<br>goals=%{marker.size}<extra></extra>",
         "hovertext": [
          "Florin Andone"
         ],
         "legendgroup": "Florin Andone",
         "marker": {
          "color": "#B6E880",
          "size": [
           1
          ],
          "sizemode": "area",
          "sizeref": 0.0575,
          "symbol": "circle"
         },
         "mode": "markers",
         "name": "Florin Andone",
         "showlegend": true,
         "type": "scatter",
         "x": [
          0.6354037523269653
         ],
         "xaxis": "x",
         "y": [
          0.36459624767303467
         ],
         "yaxis": "y"
        },
        {
         "hovertemplate": "<b>%{hovertext}</b><br><br>player_name=Callum Robinson<br>Goal and XG Difference=%{x}<br>xG=%{y}<br>goals=%{marker.size}<extra></extra>",
         "hovertext": [
          "Callum Robinson"
         ],
         "legendgroup": "Callum Robinson",
         "marker": {
          "color": "#FF97FF",
          "size": [
           1
          ],
          "sizemode": "area",
          "sizeref": 0.0575,
          "symbol": "circle"
         },
         "mode": "markers",
         "name": "Callum Robinson",
         "showlegend": true,
         "type": "scatter",
         "x": [
          -0.5612500011920929
         ],
         "xaxis": "x",
         "y": [
          1.561250001192093
         ],
         "yaxis": "y"
        },
        {
         "hovertemplate": "<b>%{hovertext}</b><br><br>player_name=Callum Hudson-Odoi<br>Goal and XG Difference=%{x}<br>xG=%{y}<br>goals=%{marker.size}<extra></extra>",
         "hovertext": [
          "Callum Hudson-Odoi"
         ],
         "legendgroup": "Callum Hudson-Odoi",
         "marker": {
          "color": "#FECB52",
          "size": [
           1
          ],
          "sizemode": "area",
          "sizeref": 0.0575,
          "symbol": "circle"
         },
         "mode": "markers",
         "name": "Callum Hudson-Odoi",
         "showlegend": true,
         "type": "scatter",
         "x": [
          -1.0151429465040565
         ],
         "xaxis": "x",
         "y": [
          2.0151429465040565
         ],
         "yaxis": "y"
        },
        {
         "hovertemplate": "<b>%{hovertext}</b><br><br>player_name=Reiss Nelson<br>Goal and XG Difference=%{x}<br>xG=%{y}<br>goals=%{marker.size}<extra></extra>",
         "hovertext": [
          "Reiss Nelson"
         ],
         "legendgroup": "Reiss Nelson",
         "marker": {
          "color": "#636efa",
          "size": [
           1
          ],
          "sizemode": "area",
          "sizeref": 0.0575,
          "symbol": "circle"
         },
         "mode": "markers",
         "name": "Reiss Nelson",
         "showlegend": true,
         "type": "scatter",
         "x": [
          -0.2735869288444521
         ],
         "xaxis": "x",
         "y": [
          1.2735869288444521
         ],
         "yaxis": "y"
        },
        {
         "hovertemplate": "<b>%{hovertext}</b><br><br>player_name=Dennis Srbeny<br>Goal and XG Difference=%{x}<br>xG=%{y}<br>goals=%{marker.size}<extra></extra>",
         "hovertext": [
          "Dennis Srbeny"
         ],
         "legendgroup": "Dennis Srbeny",
         "marker": {
          "color": "#EF553B",
          "size": [
           1
          ],
          "sizemode": "area",
          "sizeref": 0.0575,
          "symbol": "circle"
         },
         "mode": "markers",
         "name": "Dennis Srbeny",
         "showlegend": true,
         "type": "scatter",
         "x": [
          0.5178532376885414
         ],
         "xaxis": "x",
         "y": [
          0.4821467623114586
         ],
         "yaxis": "y"
        },
        {
         "hovertemplate": "<b>%{hovertext}</b><br><br>player_name=Mbwana Samatta<br>Goal and XG Difference=%{x}<br>xG=%{y}<br>goals=%{marker.size}<extra></extra>",
         "hovertext": [
          "Mbwana Samatta"
         ],
         "legendgroup": "Mbwana Samatta",
         "marker": {
          "color": "#00cc96",
          "size": [
           1
          ],
          "sizemode": "area",
          "sizeref": 0.0575,
          "symbol": "circle"
         },
         "mode": "markers",
         "name": "Mbwana Samatta",
         "showlegend": true,
         "type": "scatter",
         "x": [
          -1.5278815105557442
         ],
         "xaxis": "x",
         "y": [
          2.527881510555744
         ],
         "yaxis": "y"
        },
        {
         "hovertemplate": "<b>%{hovertext}</b><br><br>player_name=Daniel Podence<br>Goal and XG Difference=%{x}<br>xG=%{y}<br>goals=%{marker.size}<extra></extra>",
         "hovertext": [
          "Daniel Podence"
         ],
         "legendgroup": "Daniel Podence",
         "marker": {
          "color": "#ab63fa",
          "size": [
           1
          ],
          "sizemode": "area",
          "sizeref": 0.0575,
          "symbol": "circle"
         },
         "mode": "markers",
         "name": "Daniel Podence",
         "showlegend": true,
         "type": "scatter",
         "x": [
          -0.35931432992219925
         ],
         "xaxis": "x",
         "y": [
          1.3593143299221992
         ],
         "yaxis": "y"
        }
       ],
       "layout": {
        "legend": {
         "itemsizing": "constant",
         "title": {
          "text": "player_name"
         },
         "tracegroupgap": 0
        },
        "template": {
         "data": {
          "bar": [
           {
            "error_x": {
             "color": "#2a3f5f"
            },
            "error_y": {
             "color": "#2a3f5f"
            },
            "marker": {
             "line": {
              "color": "#E5ECF6",
              "width": 0.5
             }
            },
            "type": "bar"
           }
          ],
          "barpolar": [
           {
            "marker": {
             "line": {
              "color": "#E5ECF6",
              "width": 0.5
             }
            },
            "type": "barpolar"
           }
          ],
          "carpet": [
           {
            "aaxis": {
             "endlinecolor": "#2a3f5f",
             "gridcolor": "white",
             "linecolor": "white",
             "minorgridcolor": "white",
             "startlinecolor": "#2a3f5f"
            },
            "baxis": {
             "endlinecolor": "#2a3f5f",
             "gridcolor": "white",
             "linecolor": "white",
             "minorgridcolor": "white",
             "startlinecolor": "#2a3f5f"
            },
            "type": "carpet"
           }
          ],
          "choropleth": [
           {
            "colorbar": {
             "outlinewidth": 0,
             "ticks": ""
            },
            "type": "choropleth"
           }
          ],
          "contour": [
           {
            "colorbar": {
             "outlinewidth": 0,
             "ticks": ""
            },
            "colorscale": [
             [
              0,
              "#0d0887"
             ],
             [
              0.1111111111111111,
              "#46039f"
             ],
             [
              0.2222222222222222,
              "#7201a8"
             ],
             [
              0.3333333333333333,
              "#9c179e"
             ],
             [
              0.4444444444444444,
              "#bd3786"
             ],
             [
              0.5555555555555556,
              "#d8576b"
             ],
             [
              0.6666666666666666,
              "#ed7953"
             ],
             [
              0.7777777777777778,
              "#fb9f3a"
             ],
             [
              0.8888888888888888,
              "#fdca26"
             ],
             [
              1,
              "#f0f921"
             ]
            ],
            "type": "contour"
           }
          ],
          "contourcarpet": [
           {
            "colorbar": {
             "outlinewidth": 0,
             "ticks": ""
            },
            "type": "contourcarpet"
           }
          ],
          "heatmap": [
           {
            "colorbar": {
             "outlinewidth": 0,
             "ticks": ""
            },
            "colorscale": [
             [
              0,
              "#0d0887"
             ],
             [
              0.1111111111111111,
              "#46039f"
             ],
             [
              0.2222222222222222,
              "#7201a8"
             ],
             [
              0.3333333333333333,
              "#9c179e"
             ],
             [
              0.4444444444444444,
              "#bd3786"
             ],
             [
              0.5555555555555556,
              "#d8576b"
             ],
             [
              0.6666666666666666,
              "#ed7953"
             ],
             [
              0.7777777777777778,
              "#fb9f3a"
             ],
             [
              0.8888888888888888,
              "#fdca26"
             ],
             [
              1,
              "#f0f921"
             ]
            ],
            "type": "heatmap"
           }
          ],
          "heatmapgl": [
           {
            "colorbar": {
             "outlinewidth": 0,
             "ticks": ""
            },
            "colorscale": [
             [
              0,
              "#0d0887"
             ],
             [
              0.1111111111111111,
              "#46039f"
             ],
             [
              0.2222222222222222,
              "#7201a8"
             ],
             [
              0.3333333333333333,
              "#9c179e"
             ],
             [
              0.4444444444444444,
              "#bd3786"
             ],
             [
              0.5555555555555556,
              "#d8576b"
             ],
             [
              0.6666666666666666,
              "#ed7953"
             ],
             [
              0.7777777777777778,
              "#fb9f3a"
             ],
             [
              0.8888888888888888,
              "#fdca26"
             ],
             [
              1,
              "#f0f921"
             ]
            ],
            "type": "heatmapgl"
           }
          ],
          "histogram": [
           {
            "marker": {
             "colorbar": {
              "outlinewidth": 0,
              "ticks": ""
             }
            },
            "type": "histogram"
           }
          ],
          "histogram2d": [
           {
            "colorbar": {
             "outlinewidth": 0,
             "ticks": ""
            },
            "colorscale": [
             [
              0,
              "#0d0887"
             ],
             [
              0.1111111111111111,
              "#46039f"
             ],
             [
              0.2222222222222222,
              "#7201a8"
             ],
             [
              0.3333333333333333,
              "#9c179e"
             ],
             [
              0.4444444444444444,
              "#bd3786"
             ],
             [
              0.5555555555555556,
              "#d8576b"
             ],
             [
              0.6666666666666666,
              "#ed7953"
             ],
             [
              0.7777777777777778,
              "#fb9f3a"
             ],
             [
              0.8888888888888888,
              "#fdca26"
             ],
             [
              1,
              "#f0f921"
             ]
            ],
            "type": "histogram2d"
           }
          ],
          "histogram2dcontour": [
           {
            "colorbar": {
             "outlinewidth": 0,
             "ticks": ""
            },
            "colorscale": [
             [
              0,
              "#0d0887"
             ],
             [
              0.1111111111111111,
              "#46039f"
             ],
             [
              0.2222222222222222,
              "#7201a8"
             ],
             [
              0.3333333333333333,
              "#9c179e"
             ],
             [
              0.4444444444444444,
              "#bd3786"
             ],
             [
              0.5555555555555556,
              "#d8576b"
             ],
             [
              0.6666666666666666,
              "#ed7953"
             ],
             [
              0.7777777777777778,
              "#fb9f3a"
             ],
             [
              0.8888888888888888,
              "#fdca26"
             ],
             [
              1,
              "#f0f921"
             ]
            ],
            "type": "histogram2dcontour"
           }
          ],
          "mesh3d": [
           {
            "colorbar": {
             "outlinewidth": 0,
             "ticks": ""
            },
            "type": "mesh3d"
           }
          ],
          "parcoords": [
           {
            "line": {
             "colorbar": {
              "outlinewidth": 0,
              "ticks": ""
             }
            },
            "type": "parcoords"
           }
          ],
          "pie": [
           {
            "automargin": true,
            "type": "pie"
           }
          ],
          "scatter": [
           {
            "marker": {
             "colorbar": {
              "outlinewidth": 0,
              "ticks": ""
             }
            },
            "type": "scatter"
           }
          ],
          "scatter3d": [
           {
            "line": {
             "colorbar": {
              "outlinewidth": 0,
              "ticks": ""
             }
            },
            "marker": {
             "colorbar": {
              "outlinewidth": 0,
              "ticks": ""
             }
            },
            "type": "scatter3d"
           }
          ],
          "scattercarpet": [
           {
            "marker": {
             "colorbar": {
              "outlinewidth": 0,
              "ticks": ""
             }
            },
            "type": "scattercarpet"
           }
          ],
          "scattergeo": [
           {
            "marker": {
             "colorbar": {
              "outlinewidth": 0,
              "ticks": ""
             }
            },
            "type": "scattergeo"
           }
          ],
          "scattergl": [
           {
            "marker": {
             "colorbar": {
              "outlinewidth": 0,
              "ticks": ""
             }
            },
            "type": "scattergl"
           }
          ],
          "scattermapbox": [
           {
            "marker": {
             "colorbar": {
              "outlinewidth": 0,
              "ticks": ""
             }
            },
            "type": "scattermapbox"
           }
          ],
          "scatterpolar": [
           {
            "marker": {
             "colorbar": {
              "outlinewidth": 0,
              "ticks": ""
             }
            },
            "type": "scatterpolar"
           }
          ],
          "scatterpolargl": [
           {
            "marker": {
             "colorbar": {
              "outlinewidth": 0,
              "ticks": ""
             }
            },
            "type": "scatterpolargl"
           }
          ],
          "scatterternary": [
           {
            "marker": {
             "colorbar": {
              "outlinewidth": 0,
              "ticks": ""
             }
            },
            "type": "scatterternary"
           }
          ],
          "surface": [
           {
            "colorbar": {
             "outlinewidth": 0,
             "ticks": ""
            },
            "colorscale": [
             [
              0,
              "#0d0887"
             ],
             [
              0.1111111111111111,
              "#46039f"
             ],
             [
              0.2222222222222222,
              "#7201a8"
             ],
             [
              0.3333333333333333,
              "#9c179e"
             ],
             [
              0.4444444444444444,
              "#bd3786"
             ],
             [
              0.5555555555555556,
              "#d8576b"
             ],
             [
              0.6666666666666666,
              "#ed7953"
             ],
             [
              0.7777777777777778,
              "#fb9f3a"
             ],
             [
              0.8888888888888888,
              "#fdca26"
             ],
             [
              1,
              "#f0f921"
             ]
            ],
            "type": "surface"
           }
          ],
          "table": [
           {
            "cells": {
             "fill": {
              "color": "#EBF0F8"
             },
             "line": {
              "color": "white"
             }
            },
            "header": {
             "fill": {
              "color": "#C8D4E3"
             },
             "line": {
              "color": "white"
             }
            },
            "type": "table"
           }
          ]
         },
         "layout": {
          "annotationdefaults": {
           "arrowcolor": "#2a3f5f",
           "arrowhead": 0,
           "arrowwidth": 1
          },
          "coloraxis": {
           "colorbar": {
            "outlinewidth": 0,
            "ticks": ""
           }
          },
          "colorscale": {
           "diverging": [
            [
             0,
             "#8e0152"
            ],
            [
             0.1,
             "#c51b7d"
            ],
            [
             0.2,
             "#de77ae"
            ],
            [
             0.3,
             "#f1b6da"
            ],
            [
             0.4,
             "#fde0ef"
            ],
            [
             0.5,
             "#f7f7f7"
            ],
            [
             0.6,
             "#e6f5d0"
            ],
            [
             0.7,
             "#b8e186"
            ],
            [
             0.8,
             "#7fbc41"
            ],
            [
             0.9,
             "#4d9221"
            ],
            [
             1,
             "#276419"
            ]
           ],
           "sequential": [
            [
             0,
             "#0d0887"
            ],
            [
             0.1111111111111111,
             "#46039f"
            ],
            [
             0.2222222222222222,
             "#7201a8"
            ],
            [
             0.3333333333333333,
             "#9c179e"
            ],
            [
             0.4444444444444444,
             "#bd3786"
            ],
            [
             0.5555555555555556,
             "#d8576b"
            ],
            [
             0.6666666666666666,
             "#ed7953"
            ],
            [
             0.7777777777777778,
             "#fb9f3a"
            ],
            [
             0.8888888888888888,
             "#fdca26"
            ],
            [
             1,
             "#f0f921"
            ]
           ],
           "sequentialminus": [
            [
             0,
             "#0d0887"
            ],
            [
             0.1111111111111111,
             "#46039f"
            ],
            [
             0.2222222222222222,
             "#7201a8"
            ],
            [
             0.3333333333333333,
             "#9c179e"
            ],
            [
             0.4444444444444444,
             "#bd3786"
            ],
            [
             0.5555555555555556,
             "#d8576b"
            ],
            [
             0.6666666666666666,
             "#ed7953"
            ],
            [
             0.7777777777777778,
             "#fb9f3a"
            ],
            [
             0.8888888888888888,
             "#fdca26"
            ],
            [
             1,
             "#f0f921"
            ]
           ]
          },
          "colorway": [
           "#636efa",
           "#EF553B",
           "#00cc96",
           "#ab63fa",
           "#FFA15A",
           "#19d3f3",
           "#FF6692",
           "#B6E880",
           "#FF97FF",
           "#FECB52"
          ],
          "font": {
           "color": "#2a3f5f"
          },
          "geo": {
           "bgcolor": "white",
           "lakecolor": "white",
           "landcolor": "#E5ECF6",
           "showlakes": true,
           "showland": true,
           "subunitcolor": "white"
          },
          "hoverlabel": {
           "align": "left"
          },
          "hovermode": "closest",
          "mapbox": {
           "style": "light"
          },
          "paper_bgcolor": "white",
          "plot_bgcolor": "#E5ECF6",
          "polar": {
           "angularaxis": {
            "gridcolor": "white",
            "linecolor": "white",
            "ticks": ""
           },
           "bgcolor": "#E5ECF6",
           "radialaxis": {
            "gridcolor": "white",
            "linecolor": "white",
            "ticks": ""
           }
          },
          "scene": {
           "xaxis": {
            "backgroundcolor": "#E5ECF6",
            "gridcolor": "white",
            "gridwidth": 2,
            "linecolor": "white",
            "showbackground": true,
            "ticks": "",
            "zerolinecolor": "white"
           },
           "yaxis": {
            "backgroundcolor": "#E5ECF6",
            "gridcolor": "white",
            "gridwidth": 2,
            "linecolor": "white",
            "showbackground": true,
            "ticks": "",
            "zerolinecolor": "white"
           },
           "zaxis": {
            "backgroundcolor": "#E5ECF6",
            "gridcolor": "white",
            "gridwidth": 2,
            "linecolor": "white",
            "showbackground": true,
            "ticks": "",
            "zerolinecolor": "white"
           }
          },
          "shapedefaults": {
           "line": {
            "color": "#2a3f5f"
           }
          },
          "ternary": {
           "aaxis": {
            "gridcolor": "white",
            "linecolor": "white",
            "ticks": ""
           },
           "baxis": {
            "gridcolor": "white",
            "linecolor": "white",
            "ticks": ""
           },
           "bgcolor": "#E5ECF6",
           "caxis": {
            "gridcolor": "white",
            "linecolor": "white",
            "ticks": ""
           }
          },
          "title": {
           "x": 0.05
          },
          "xaxis": {
           "automargin": true,
           "gridcolor": "white",
           "linecolor": "white",
           "ticks": "",
           "title": {
            "standoff": 15
           },
           "zerolinecolor": "white",
           "zerolinewidth": 2
          },
          "yaxis": {
           "automargin": true,
           "gridcolor": "white",
           "linecolor": "white",
           "ticks": "",
           "title": {
            "standoff": 15
           },
           "zerolinecolor": "white",
           "zerolinewidth": 2
          }
         }
        },
        "title": {
         "text": "xG vs Goals PL FWDs"
        },
        "xaxis": {
         "anchor": "y",
         "domain": [
          0,
          1
         ],
         "title": {
          "text": "Goal and XG Difference"
         }
        },
        "yaxis": {
         "anchor": "x",
         "domain": [
          0,
          1
         ],
         "title": {
          "text": "xG"
         }
        }
       }
      },
      "text/html": [
       "<div>\n",
       "        \n",
       "        \n",
       "            <div id=\"819d484c-e723-43d5-b1d1-446e17629469\" class=\"plotly-graph-div\" style=\"height:525px; width:100%;\"></div>\n",
       "            <script type=\"text/javascript\">\n",
       "                require([\"plotly\"], function(Plotly) {\n",
       "                    window.PLOTLYENV=window.PLOTLYENV || {};\n",
       "                    \n",
       "                if (document.getElementById(\"819d484c-e723-43d5-b1d1-446e17629469\")) {\n",
       "                    Plotly.newPlot(\n",
       "                        '819d484c-e723-43d5-b1d1-446e17629469',\n",
       "                        [{\"hovertemplate\": \"<b>%{hovertext}</b><br><br>player_name=Jamie Vardy<br>Goal and XG Difference=%{x}<br>xG=%{y}<br>goals=%{marker.size}<extra></extra>\", \"hovertext\": [\"Jamie Vardy\"], \"legendgroup\": \"Jamie Vardy\", \"marker\": {\"color\": \"#636efa\", \"size\": [23], \"sizemode\": \"area\", \"sizeref\": 0.0575, \"symbol\": \"circle\"}, \"mode\": \"markers\", \"name\": \"Jamie Vardy\", \"showlegend\": true, \"type\": \"scatter\", \"x\": [4.096462681889534], \"xaxis\": \"x\", \"y\": [18.903537318110466], \"yaxis\": \"y\"}, {\"hovertemplate\": \"<b>%{hovertext}</b><br><br>player_name=Pierre-Emerick Aubameyang<br>Goal and XG Difference=%{x}<br>xG=%{y}<br>goals=%{marker.size}<extra></extra>\", \"hovertext\": [\"Pierre-Emerick Aubameyang\"], \"legendgroup\": \"Pierre-Emerick Aubameyang\", \"marker\": {\"color\": \"#EF553B\", \"size\": [22], \"sizemode\": \"area\", \"sizeref\": 0.0575, \"symbol\": \"circle\"}, \"mode\": \"markers\", \"name\": \"Pierre-Emerick Aubameyang\", \"showlegend\": true, \"type\": \"scatter\", \"x\": [5.647376919165257], \"xaxis\": \"x\", \"y\": [16.352623080834743], \"yaxis\": \"y\"}, {\"hovertemplate\": \"<b>%{hovertext}</b><br><br>player_name=Danny Ings<br>Goal and XG Difference=%{x}<br>xG=%{y}<br>goals=%{marker.size}<extra></extra>\", \"hovertext\": [\"Danny Ings\"], \"legendgroup\": \"Danny Ings\", \"marker\": {\"color\": \"#00cc96\", \"size\": [22], \"sizemode\": \"area\", \"sizeref\": 0.0575, \"symbol\": \"circle\"}, \"mode\": \"markers\", \"name\": \"Danny Ings\", \"showlegend\": true, \"type\": \"scatter\", \"x\": [6.340282829478385], \"xaxis\": \"x\", \"y\": [15.659717170521615], \"yaxis\": \"y\"}, {\"hovertemplate\": \"<b>%{hovertext}</b><br><br>player_name=Raheem Sterling<br>Goal and XG Difference=%{x}<br>xG=%{y}<br>goals=%{marker.size}<extra></extra>\", \"hovertext\": [\"Raheem Sterling\"], \"legendgroup\": \"Raheem Sterling\", \"marker\": {\"color\": \"#ab63fa\", \"size\": [20], \"sizemode\": \"area\", \"sizeref\": 0.0575, \"symbol\": \"circle\"}, \"mode\": \"markers\", \"name\": \"Raheem Sterling\", \"showlegend\": true, \"type\": \"scatter\", \"x\": [0.20009351894259453], \"xaxis\": \"x\", \"y\": [19.799906481057405], \"yaxis\": \"y\"}, {\"hovertemplate\": \"<b>%{hovertext}</b><br><br>player_name=Mohamed Salah<br>Goal and XG Difference=%{x}<br>xG=%{y}<br>goals=%{marker.size}<extra></extra>\", \"hovertext\": [\"Mohamed Salah\"], \"legendgroup\": \"Mohamed Salah\", \"marker\": {\"color\": \"#FFA15A\", \"size\": [19], \"sizemode\": \"area\", \"sizeref\": 0.0575, \"symbol\": \"circle\"}, \"mode\": \"markers\", \"name\": \"Mohamed Salah\", \"showlegend\": true, \"type\": \"scatter\", \"x\": [-1.6633187010884285], \"xaxis\": \"x\", \"y\": [20.66331870108843], \"yaxis\": \"y\"}, {\"hovertemplate\": \"<b>%{hovertext}</b><br><br>player_name=Harry Kane<br>Goal and XG Difference=%{x}<br>xG=%{y}<br>goals=%{marker.size}<extra></extra>\", \"hovertext\": [\"Harry Kane\"], \"legendgroup\": \"Harry Kane\", \"marker\": {\"color\": \"#19d3f3\", \"size\": [18], \"sizemode\": \"area\", \"sizeref\": 0.0575, \"symbol\": \"circle\"}, \"mode\": \"markers\", \"name\": \"Harry Kane\", \"showlegend\": true, \"type\": \"scatter\", \"x\": [4.702934049069881], \"xaxis\": \"x\", \"y\": [13.297065950930119], \"yaxis\": \"y\"}, {\"hovertemplate\": \"<b>%{hovertext}</b><br><br>player_name=Sadio Man\\u00e9<br>Goal and XG Difference=%{x}<br>xG=%{y}<br>goals=%{marker.size}<extra></extra>\", \"hovertext\": [\"Sadio Man\\u00e9\"], \"legendgroup\": \"Sadio Man\\u00e9\", \"marker\": {\"color\": \"#FF6692\", \"size\": [18], \"sizemode\": \"area\", \"sizeref\": 0.0575, \"symbol\": \"circle\"}, \"mode\": \"markers\", \"name\": \"Sadio Man\\u00e9\", \"showlegend\": true, \"type\": \"scatter\", \"x\": [3.4225170984864253], \"xaxis\": \"x\", \"y\": [14.577482901513575], \"yaxis\": \"y\"}, {\"hovertemplate\": \"<b>%{hovertext}</b><br><br>player_name=Anthony Martial<br>Goal and XG Difference=%{x}<br>xG=%{y}<br>goals=%{marker.size}<extra></extra>\", \"hovertext\": [\"Anthony Martial\"], \"legendgroup\": \"Anthony Martial\", \"marker\": {\"color\": \"#B6E880\", \"size\": [17], \"sizemode\": \"area\", \"sizeref\": 0.0575, \"symbol\": \"circle\"}, \"mode\": \"markers\", \"name\": \"Anthony Martial\", \"showlegend\": true, \"type\": \"scatter\", \"x\": [3.759505219757555], \"xaxis\": \"x\", \"y\": [13.240494780242445], \"yaxis\": \"y\"}, {\"hovertemplate\": \"<b>%{hovertext}</b><br><br>player_name=Marcus Rashford<br>Goal and XG Difference=%{x}<br>xG=%{y}<br>goals=%{marker.size}<extra></extra>\", \"hovertext\": [\"Marcus Rashford\"], \"legendgroup\": \"Marcus Rashford\", \"marker\": {\"color\": \"#FF97FF\", \"size\": [17], \"sizemode\": \"area\", \"sizeref\": 0.0575, \"symbol\": \"circle\"}, \"mode\": \"markers\", \"name\": \"Marcus Rashford\", \"showlegend\": true, \"type\": \"scatter\", \"x\": [-2.503727605566386], \"xaxis\": \"x\", \"y\": [19.503727605566386], \"yaxis\": \"y\"}, {\"hovertemplate\": \"<b>%{hovertext}</b><br><br>player_name=Ra\\u00fal Jim\\u00e9nez<br>Goal and XG Difference=%{x}<br>xG=%{y}<br>goals=%{marker.size}<extra></extra>\", \"hovertext\": [\"Ra\\u00fal Jim\\u00e9nez\"], \"legendgroup\": \"Ra\\u00fal Jim\\u00e9nez\", \"marker\": {\"color\": \"#FECB52\", \"size\": [17], \"sizemode\": \"area\", \"sizeref\": 0.0575, \"symbol\": \"circle\"}, \"mode\": \"markers\", \"name\": \"Ra\\u00fal Jim\\u00e9nez\", \"showlegend\": true, \"type\": \"scatter\", \"x\": [0.48920197598635795], \"xaxis\": \"x\", \"y\": [16.510798024013642], \"yaxis\": \"y\"}, {\"hovertemplate\": \"<b>%{hovertext}</b><br><br>player_name=Sergio Ag\\u00fcero<br>Goal and XG Difference=%{x}<br>xG=%{y}<br>goals=%{marker.size}<extra></extra>\", \"hovertext\": [\"Sergio Ag\\u00fcero\"], \"legendgroup\": \"Sergio Ag\\u00fcero\", \"marker\": {\"color\": \"#636efa\", \"size\": [16], \"sizemode\": \"area\", \"sizeref\": 0.0575, \"symbol\": \"circle\"}, \"mode\": \"markers\", \"name\": \"Sergio Ag\\u00fcero\", \"showlegend\": true, \"type\": \"scatter\", \"x\": [0.4424996748566645], \"xaxis\": \"x\", \"y\": [15.557500325143335], \"yaxis\": \"y\"}, {\"hovertemplate\": \"<b>%{hovertext}</b><br><br>player_name=Tammy Abraham<br>Goal and XG Difference=%{x}<br>xG=%{y}<br>goals=%{marker.size}<extra></extra>\", \"hovertext\": [\"Tammy Abraham\"], \"legendgroup\": \"Tammy Abraham\", \"marker\": {\"color\": \"#EF553B\", \"size\": [15], \"sizemode\": \"area\", \"sizeref\": 0.0575, \"symbol\": \"circle\"}, \"mode\": \"markers\", \"name\": \"Tammy Abraham\", \"showlegend\": true, \"type\": \"scatter\", \"x\": [-3.0828015506267548], \"xaxis\": \"x\", \"y\": [18.082801550626755], \"yaxis\": \"y\"}, {\"hovertemplate\": \"<b>%{hovertext}</b><br><br>player_name=Chris Wood<br>Goal and XG Difference=%{x}<br>xG=%{y}<br>goals=%{marker.size}<extra></extra>\", \"hovertext\": [\"Chris Wood\"], \"legendgroup\": \"Chris Wood\", \"marker\": {\"color\": \"#00cc96\", \"size\": [14], \"sizemode\": \"area\", \"sizeref\": 0.0575, \"symbol\": \"circle\"}, \"mode\": \"markers\", \"name\": \"Chris Wood\", \"showlegend\": true, \"type\": \"scatter\", \"x\": [-3.226201519370079], \"xaxis\": \"x\", \"y\": [17.22620151937008], \"yaxis\": \"y\"}, {\"hovertemplate\": \"<b>%{hovertext}</b><br><br>player_name=Gabriel Jesus<br>Goal and XG Difference=%{x}<br>xG=%{y}<br>goals=%{marker.size}<extra></extra>\", \"hovertext\": [\"Gabriel Jesus\"], \"legendgroup\": \"Gabriel Jesus\", \"marker\": {\"color\": \"#ab63fa\", \"size\": [14], \"sizemode\": \"area\", \"sizeref\": 0.0575, \"symbol\": \"circle\"}, \"mode\": \"markers\", \"name\": \"Gabriel Jesus\", \"showlegend\": true, \"type\": \"scatter\", \"x\": [-7.015201296657324], \"xaxis\": \"x\", \"y\": [21.015201296657324], \"yaxis\": \"y\"}, {\"hovertemplate\": \"<b>%{hovertext}</b><br><br>player_name=Dominic Calvert-Lewin<br>Goal and XG Difference=%{x}<br>xG=%{y}<br>goals=%{marker.size}<extra></extra>\", \"hovertext\": [\"Dominic Calvert-Lewin\"], \"legendgroup\": \"Dominic Calvert-Lewin\", \"marker\": {\"color\": \"#FFA15A\", \"size\": [13], \"sizemode\": \"area\", \"sizeref\": 0.0575, \"symbol\": \"circle\"}, \"mode\": \"markers\", \"name\": \"Dominic Calvert-Lewin\", \"showlegend\": true, \"type\": \"scatter\", \"x\": [-3.109842916950587], \"xaxis\": \"x\", \"y\": [16.109842916950587], \"yaxis\": \"y\"}, {\"hovertemplate\": \"<b>%{hovertext}</b><br><br>player_name=Richarlison<br>Goal and XG Difference=%{x}<br>xG=%{y}<br>goals=%{marker.size}<extra></extra>\", \"hovertext\": [\"Richarlison\"], \"legendgroup\": \"Richarlison\", \"marker\": {\"color\": \"#19d3f3\", \"size\": [13], \"sizemode\": \"area\", \"sizeref\": 0.0575, \"symbol\": \"circle\"}, \"mode\": \"markers\", \"name\": \"Richarlison\", \"showlegend\": true, \"type\": \"scatter\", \"x\": [3.157033711671831], \"xaxis\": \"x\", \"y\": [9.842966288328169], \"yaxis\": \"y\"}, {\"hovertemplate\": \"<b>%{hovertext}</b><br><br>player_name=Son Heung-Min<br>Goal and XG Difference=%{x}<br>xG=%{y}<br>goals=%{marker.size}<extra></extra>\", \"hovertext\": [\"Son Heung-Min\"], \"legendgroup\": \"Son Heung-Min\", \"marker\": {\"color\": \"#FF6692\", \"size\": [11], \"sizemode\": \"area\", \"sizeref\": 0.0575, \"symbol\": \"circle\"}, \"mode\": \"markers\", \"name\": \"Son Heung-Min\", \"showlegend\": true, \"type\": \"scatter\", \"x\": [1.2982951337471604], \"xaxis\": \"x\", \"y\": [9.70170486625284], \"yaxis\": \"y\"}, {\"hovertemplate\": \"<b>%{hovertext}</b><br><br>player_name=Riyad Mahrez<br>Goal and XG Difference=%{x}<br>xG=%{y}<br>goals=%{marker.size}<extra></extra>\", \"hovertext\": [\"Riyad Mahrez\"], \"legendgroup\": \"Riyad Mahrez\", \"marker\": {\"color\": \"#B6E880\", \"size\": [11], \"sizemode\": \"area\", \"sizeref\": 0.0575, \"symbol\": \"circle\"}, \"mode\": \"markers\", \"name\": \"Riyad Mahrez\", \"showlegend\": true, \"type\": \"scatter\", \"x\": [2.350344320759177], \"xaxis\": \"x\", \"y\": [8.649655679240823], \"yaxis\": \"y\"}, {\"hovertemplate\": \"<b>%{hovertext}</b><br><br>player_name=Teemu Pukki<br>Goal and XG Difference=%{x}<br>xG=%{y}<br>goals=%{marker.size}<extra></extra>\", \"hovertext\": [\"Teemu Pukki\"], \"legendgroup\": \"Teemu Pukki\", \"marker\": {\"color\": \"#FF97FF\", \"size\": [11], \"sizemode\": \"area\", \"sizeref\": 0.0575, \"symbol\": \"circle\"}, \"mode\": \"markers\", \"name\": \"Teemu Pukki\", \"showlegend\": true, \"type\": \"scatter\", \"x\": [-0.5243451297283155], \"xaxis\": \"x\", \"y\": [11.524345129728315], \"yaxis\": \"y\"}, {\"hovertemplate\": \"<b>%{hovertext}</b><br><br>player_name=Michail Antonio<br>Goal and XG Difference=%{x}<br>xG=%{y}<br>goals=%{marker.size}<extra></extra>\", \"hovertext\": [\"Michail Antonio\"], \"legendgroup\": \"Michail Antonio\", \"marker\": {\"color\": \"#FECB52\", \"size\": [10], \"sizemode\": \"area\", \"sizeref\": 0.0575, \"symbol\": \"circle\"}, \"mode\": \"markers\", \"name\": \"Michail Antonio\", \"showlegend\": true, \"type\": \"scatter\", \"x\": [-3.2495491709560156], \"xaxis\": \"x\", \"y\": [13.249549170956016], \"yaxis\": \"y\"}, {\"hovertemplate\": \"<b>%{hovertext}</b><br><br>player_name=Troy Deeney<br>Goal and XG Difference=%{x}<br>xG=%{y}<br>goals=%{marker.size}<extra></extra>\", \"hovertext\": [\"Troy Deeney\"], \"legendgroup\": \"Troy Deeney\", \"marker\": {\"color\": \"#636efa\", \"size\": [10], \"sizemode\": \"area\", \"sizeref\": 0.0575, \"symbol\": \"circle\"}, \"mode\": \"markers\", \"name\": \"Troy Deeney\", \"showlegend\": true, \"type\": \"scatter\", \"x\": [-1.5891937986016273], \"xaxis\": \"x\", \"y\": [11.589193798601627], \"yaxis\": \"y\"}, {\"hovertemplate\": \"<b>%{hovertext}</b><br><br>player_name=Alexandre Lacazette<br>Goal and XG Difference=%{x}<br>xG=%{y}<br>goals=%{marker.size}<extra></extra>\", \"hovertext\": [\"Alexandre Lacazette\"], \"legendgroup\": \"Alexandre Lacazette\", \"marker\": {\"color\": \"#EF553B\", \"size\": [10], \"sizemode\": \"area\", \"sizeref\": 0.0575, \"symbol\": \"circle\"}, \"mode\": \"markers\", \"name\": \"Alexandre Lacazette\", \"showlegend\": true, \"type\": \"scatter\", \"x\": [1.3353517968207598], \"xaxis\": \"x\", \"y\": [8.66464820317924], \"yaxis\": \"y\"}, {\"hovertemplate\": \"<b>%{hovertext}</b><br><br>player_name=Neal Maupay<br>Goal and XG Difference=%{x}<br>xG=%{y}<br>goals=%{marker.size}<extra></extra>\", \"hovertext\": [\"Neal Maupay\"], \"legendgroup\": \"Neal Maupay\", \"marker\": {\"color\": \"#00cc96\", \"size\": [10], \"sizemode\": \"area\", \"sizeref\": 0.0575, \"symbol\": \"circle\"}, \"mode\": \"markers\", \"name\": \"Neal Maupay\", \"showlegend\": true, \"type\": \"scatter\", \"x\": [-3.558543261140585], \"xaxis\": \"x\", \"y\": [13.558543261140585], \"yaxis\": \"y\"}, {\"hovertemplate\": \"<b>%{hovertext}</b><br><br>player_name=Mason Greenwood<br>Goal and XG Difference=%{x}<br>xG=%{y}<br>goals=%{marker.size}<extra></extra>\", \"hovertext\": [\"Mason Greenwood\"], \"legendgroup\": \"Mason Greenwood\", \"marker\": {\"color\": \"#ab63fa\", \"size\": [10], \"sizemode\": \"area\", \"sizeref\": 0.0575, \"symbol\": \"circle\"}, \"mode\": \"markers\", \"name\": \"Mason Greenwood\", \"showlegend\": true, \"type\": \"scatter\", \"x\": [6.612142637372017], \"xaxis\": \"x\", \"y\": [3.387857362627983], \"yaxis\": \"y\"}, {\"hovertemplate\": \"<b>%{hovertext}</b><br><br>player_name=Roberto Firmino<br>Goal and XG Difference=%{x}<br>xG=%{y}<br>goals=%{marker.size}<extra></extra>\", \"hovertext\": [\"Roberto Firmino\"], \"legendgroup\": \"Roberto Firmino\", \"marker\": {\"color\": \"#FFA15A\", \"size\": [9], \"sizemode\": \"area\", \"sizeref\": 0.0575, \"symbol\": \"circle\"}, \"mode\": \"markers\", \"name\": \"Roberto Firmino\", \"showlegend\": true, \"type\": \"scatter\", \"x\": [-7.686229031533006], \"xaxis\": \"x\", \"y\": [16.686229031533006], \"yaxis\": \"y\"}, {\"hovertemplate\": \"<b>%{hovertext}</b><br><br>player_name=Jordan Ayew<br>Goal and XG Difference=%{x}<br>xG=%{y}<br>goals=%{marker.size}<extra></extra>\", \"hovertext\": [\"Jordan Ayew\"], \"legendgroup\": \"Jordan Ayew\", \"marker\": {\"color\": \"#19d3f3\", \"size\": [9], \"sizemode\": \"area\", \"sizeref\": 0.0575, \"symbol\": \"circle\"}, \"mode\": \"markers\", \"name\": \"Jordan Ayew\", \"showlegend\": true, \"type\": \"scatter\", \"x\": [1.3238209579139948], \"xaxis\": \"x\", \"y\": [7.676179042086005], \"yaxis\": \"y\"}, {\"hovertemplate\": \"<b>%{hovertext}</b><br><br>player_name=Willian<br>Goal and XG Difference=%{x}<br>xG=%{y}<br>goals=%{marker.size}<extra></extra>\", \"hovertext\": [\"Willian\"], \"legendgroup\": \"Willian\", \"marker\": {\"color\": \"#FF6692\", \"size\": [9], \"sizemode\": \"area\", \"sizeref\": 0.0575, \"symbol\": \"circle\"}, \"mode\": \"markers\", \"name\": \"Willian\", \"showlegend\": true, \"type\": \"scatter\", \"x\": [0.8646625392138976], \"xaxis\": \"x\", \"y\": [8.135337460786102], \"yaxis\": \"y\"}, {\"hovertemplate\": \"<b>%{hovertext}</b><br><br>player_name=Christian Pulisic<br>Goal and XG Difference=%{x}<br>xG=%{y}<br>goals=%{marker.size}<extra></extra>\", \"hovertext\": [\"Christian Pulisic\"], \"legendgroup\": \"Christian Pulisic\", \"marker\": {\"color\": \"#B6E880\", \"size\": [9], \"sizemode\": \"area\", \"sizeref\": 0.0575, \"symbol\": \"circle\"}, \"mode\": \"markers\", \"name\": \"Christian Pulisic\", \"showlegend\": true, \"type\": \"scatter\", \"x\": [0.0748135894536972], \"xaxis\": \"x\", \"y\": [8.925186410546303], \"yaxis\": \"y\"}, {\"hovertemplate\": \"<b>%{hovertext}</b><br><br>player_name=Callum Wilson<br>Goal and XG Difference=%{x}<br>xG=%{y}<br>goals=%{marker.size}<extra></extra>\", \"hovertext\": [\"Callum Wilson\"], \"legendgroup\": \"Callum Wilson\", \"marker\": {\"color\": \"#FF97FF\", \"size\": [8], \"sizemode\": \"area\", \"sizeref\": 0.0575, \"symbol\": \"circle\"}, \"mode\": \"markers\", \"name\": \"Callum Wilson\", \"showlegend\": true, \"type\": \"scatter\", \"x\": [-1.8428739756345767], \"xaxis\": \"x\", \"y\": [9.842873975634577], \"yaxis\": \"y\"}, {\"hovertemplate\": \"<b>%{hovertext}</b><br><br>player_name=Olivier Giroud<br>Goal and XG Difference=%{x}<br>xG=%{y}<br>goals=%{marker.size}<extra></extra>\", \"hovertext\": [\"Olivier Giroud\"], \"legendgroup\": \"Olivier Giroud\", \"marker\": {\"color\": \"#FECB52\", \"size\": [8], \"sizemode\": \"area\", \"sizeref\": 0.0575, \"symbol\": \"circle\"}, \"mode\": \"markers\", \"name\": \"Olivier Giroud\", \"showlegend\": true, \"type\": \"scatter\", \"x\": [0.5991024188697338], \"xaxis\": \"x\", \"y\": [7.400897581130266], \"yaxis\": \"y\"}, {\"hovertemplate\": \"<b>%{hovertext}</b><br><br>player_name=Dele Alli<br>Goal and XG Difference=%{x}<br>xG=%{y}<br>goals=%{marker.size}<extra></extra>\", \"hovertext\": [\"Dele Alli\"], \"legendgroup\": \"Dele Alli\", \"marker\": {\"color\": \"#636efa\", \"size\": [8], \"sizemode\": \"area\", \"sizeref\": 0.0575, \"symbol\": \"circle\"}, \"mode\": \"markers\", \"name\": \"Dele Alli\", \"showlegend\": true, \"type\": \"scatter\", \"x\": [0.08450535871088505], \"xaxis\": \"x\", \"y\": [7.915494641289115], \"yaxis\": \"y\"}, {\"hovertemplate\": \"<b>%{hovertext}</b><br><br>player_name=Jack Grealish<br>Goal and XG Difference=%{x}<br>xG=%{y}<br>goals=%{marker.size}<extra></extra>\", \"hovertext\": [\"Jack Grealish\"], \"legendgroup\": \"Jack Grealish\", \"marker\": {\"color\": \"#EF553B\", \"size\": [8], \"sizemode\": \"area\", \"sizeref\": 0.0575, \"symbol\": \"circle\"}, \"mode\": \"markers\", \"name\": \"Jack Grealish\", \"showlegend\": true, \"type\": \"scatter\", \"x\": [1.1552963014692068], \"xaxis\": \"x\", \"y\": [6.844703698530793], \"yaxis\": \"y\"}, {\"hovertemplate\": \"<b>%{hovertext}</b><br><br>player_name=Ayoze P\\u00e9rez<br>Goal and XG Difference=%{x}<br>xG=%{y}<br>goals=%{marker.size}<extra></extra>\", \"hovertext\": [\"Ayoze P\\u00e9rez\"], \"legendgroup\": \"Ayoze P\\u00e9rez\", \"marker\": {\"color\": \"#00cc96\", \"size\": [8], \"sizemode\": \"area\", \"sizeref\": 0.0575, \"symbol\": \"circle\"}, \"mode\": \"markers\", \"name\": \"Ayoze P\\u00e9rez\", \"showlegend\": true, \"type\": \"scatter\", \"x\": [1.4422031678259373], \"xaxis\": \"x\", \"y\": [6.557796832174063], \"yaxis\": \"y\"}, {\"hovertemplate\": \"<b>%{hovertext}</b><br><br>player_name=Jay Rodriguez<br>Goal and XG Difference=%{x}<br>xG=%{y}<br>goals=%{marker.size}<extra></extra>\", \"hovertext\": [\"Jay Rodriguez\"], \"legendgroup\": \"Jay Rodriguez\", \"marker\": {\"color\": \"#ab63fa\", \"size\": [8], \"sizemode\": \"area\", \"sizeref\": 0.0575, \"symbol\": \"circle\"}, \"mode\": \"markers\", \"name\": \"Jay Rodriguez\", \"showlegend\": true, \"type\": \"scatter\", \"x\": [-0.9568827738985437], \"xaxis\": \"x\", \"y\": [8.956882773898544], \"yaxis\": \"y\"}, {\"hovertemplate\": \"<b>%{hovertext}</b><br><br>player_name=Harry Wilson<br>Goal and XG Difference=%{x}<br>xG=%{y}<br>goals=%{marker.size}<extra></extra>\", \"hovertext\": [\"Harry Wilson\"], \"legendgroup\": \"Harry Wilson\", \"marker\": {\"color\": \"#FFA15A\", \"size\": [7], \"sizemode\": \"area\", \"sizeref\": 0.0575, \"symbol\": \"circle\"}, \"mode\": \"markers\", \"name\": \"Harry Wilson\", \"showlegend\": true, \"type\": \"scatter\", \"x\": [2.834999189712107], \"xaxis\": \"x\", \"y\": [4.165000810287893], \"yaxis\": \"y\"}, {\"hovertemplate\": \"<b>%{hovertext}</b><br><br>player_name=S\\u00e9bastien Haller<br>Goal and XG Difference=%{x}<br>xG=%{y}<br>goals=%{marker.size}<extra></extra>\", \"hovertext\": [\"S\\u00e9bastien Haller\"], \"legendgroup\": \"S\\u00e9bastien Haller\", \"marker\": {\"color\": \"#19d3f3\", \"size\": [7], \"sizemode\": \"area\", \"sizeref\": 0.0575, \"symbol\": \"circle\"}, \"mode\": \"markers\", \"name\": \"S\\u00e9bastien Haller\", \"showlegend\": true, \"type\": \"scatter\", \"x\": [-1.4849007818847895], \"xaxis\": \"x\", \"y\": [8.48490078188479], \"yaxis\": \"y\"}, {\"hovertemplate\": \"<b>%{hovertext}</b><br><br>player_name=Diogo Jota<br>Goal and XG Difference=%{x}<br>xG=%{y}<br>goals=%{marker.size}<extra></extra>\", \"hovertext\": [\"Diogo Jota\"], \"legendgroup\": \"Diogo Jota\", \"marker\": {\"color\": \"#FF6692\", \"size\": [7], \"sizemode\": \"area\", \"sizeref\": 0.0575, \"symbol\": \"circle\"}, \"mode\": \"markers\", \"name\": \"Diogo Jota\", \"showlegend\": true, \"type\": \"scatter\", \"x\": [-5.017675075680016], \"xaxis\": \"x\", \"y\": [12.017675075680016], \"yaxis\": \"y\"}, {\"hovertemplate\": \"<b>%{hovertext}</b><br><br>player_name=Mason Mount<br>Goal and XG Difference=%{x}<br>xG=%{y}<br>goals=%{marker.size}<extra></extra>\", \"hovertext\": [\"Mason Mount\"], \"legendgroup\": \"Mason Mount\", \"marker\": {\"color\": \"#B6E880\", \"size\": [7], \"sizemode\": \"area\", \"sizeref\": 0.0575, \"symbol\": \"circle\"}, \"mode\": \"markers\", \"name\": \"Mason Mount\", \"showlegend\": true, \"type\": \"scatter\", \"x\": [-0.49783040955662816], \"xaxis\": \"x\", \"y\": [7.497830409556628], \"yaxis\": \"y\"}, {\"hovertemplate\": \"<b>%{hovertext}</b><br><br>player_name=Joshua King<br>Goal and XG Difference=%{x}<br>xG=%{y}<br>goals=%{marker.size}<extra></extra>\", \"hovertext\": [\"Joshua King\"], \"legendgroup\": \"Joshua King\", \"marker\": {\"color\": \"#FF97FF\", \"size\": [6], \"sizemode\": \"area\", \"sizeref\": 0.0575, \"symbol\": \"circle\"}, \"mode\": \"markers\", \"name\": \"Joshua King\", \"showlegend\": true, \"type\": \"scatter\", \"x\": [-0.5340897291898719], \"xaxis\": \"x\", \"y\": [6.534089729189872], \"yaxis\": \"y\"}, {\"hovertemplate\": \"<b>%{hovertext}</b><br><br>player_name=Oliver McBurnie<br>Goal and XG Difference=%{x}<br>xG=%{y}<br>goals=%{marker.size}<extra></extra>\", \"hovertext\": [\"Oliver McBurnie\"], \"legendgroup\": \"Oliver McBurnie\", \"marker\": {\"color\": \"#FECB52\", \"size\": [6], \"sizemode\": \"area\", \"sizeref\": 0.0575, \"symbol\": \"circle\"}, \"mode\": \"markers\", \"name\": \"Oliver McBurnie\", \"showlegend\": true, \"type\": \"scatter\", \"x\": [-2.0683191819116473], \"xaxis\": \"x\", \"y\": [8.068319181911647], \"yaxis\": \"y\"}, {\"hovertemplate\": \"<b>%{hovertext}</b><br><br>player_name=Lys Mousset<br>Goal and XG Difference=%{x}<br>xG=%{y}<br>goals=%{marker.size}<extra></extra>\", \"hovertext\": [\"Lys Mousset\"], \"legendgroup\": \"Lys Mousset\", \"marker\": {\"color\": \"#636efa\", \"size\": [6], \"sizemode\": \"area\", \"sizeref\": 0.0575, \"symbol\": \"circle\"}, \"mode\": \"markers\", \"name\": \"Lys Mousset\", \"showlegend\": true, \"type\": \"scatter\", \"x\": [-0.0729835405945769], \"xaxis\": \"x\", \"y\": [6.072983540594577], \"yaxis\": \"y\"}, {\"hovertemplate\": \"<b>%{hovertext}</b><br><br>player_name=Bernardo Silva<br>Goal and XG Difference=%{x}<br>xG=%{y}<br>goals=%{marker.size}<extra></extra>\", \"hovertext\": [\"Bernardo Silva\"], \"legendgroup\": \"Bernardo Silva\", \"marker\": {\"color\": \"#EF553B\", \"size\": [6], \"sizemode\": \"area\", \"sizeref\": 0.0575, \"symbol\": \"circle\"}, \"mode\": \"markers\", \"name\": \"Bernardo Silva\", \"showlegend\": true, \"type\": \"scatter\", \"x\": [-1.4203405529260626], \"xaxis\": \"x\", \"y\": [7.420340552926063], \"yaxis\": \"y\"}, {\"hovertemplate\": \"<b>%{hovertext}</b><br><br>player_name=Ashley Barnes<br>Goal and XG Difference=%{x}<br>xG=%{y}<br>goals=%{marker.size}<extra></extra>\", \"hovertext\": [\"Ashley Barnes\"], \"legendgroup\": \"Ashley Barnes\", \"marker\": {\"color\": \"#00cc96\", \"size\": [6], \"sizemode\": \"area\", \"sizeref\": 0.0575, \"symbol\": \"circle\"}, \"mode\": \"markers\", \"name\": \"Ashley Barnes\", \"showlegend\": true, \"type\": \"scatter\", \"x\": [-0.5169273540377626], \"xaxis\": \"x\", \"y\": [6.516927354037763], \"yaxis\": \"y\"}, {\"hovertemplate\": \"<b>%{hovertext}</b><br><br>player_name=Harvey Barnes<br>Goal and XG Difference=%{x}<br>xG=%{y}<br>goals=%{marker.size}<extra></extra>\", \"hovertext\": [\"Harvey Barnes\"], \"legendgroup\": \"Harvey Barnes\", \"marker\": {\"color\": \"#ab63fa\", \"size\": [6], \"sizemode\": \"area\", \"sizeref\": 0.0575, \"symbol\": \"circle\"}, \"mode\": \"markers\", \"name\": \"Harvey Barnes\", \"showlegend\": true, \"type\": \"scatter\", \"x\": [-2.4806198347359913], \"xaxis\": \"x\", \"y\": [8.480619834735991], \"yaxis\": \"y\"}, {\"hovertemplate\": \"<b>%{hovertext}</b><br><br>player_name=Tr\\u00e9z\\u00e9guet<br>Goal and XG Difference=%{x}<br>xG=%{y}<br>goals=%{marker.size}<extra></extra>\", \"hovertext\": [\"Tr\\u00e9z\\u00e9guet\"], \"legendgroup\": \"Tr\\u00e9z\\u00e9guet\", \"marker\": {\"color\": \"#FFA15A\", \"size\": [6], \"sizemode\": \"area\", \"sizeref\": 0.0575, \"symbol\": \"circle\"}, \"mode\": \"markers\", \"name\": \"Tr\\u00e9z\\u00e9guet\", \"showlegend\": true, \"type\": \"scatter\", \"x\": [0.6549508422613135], \"xaxis\": \"x\", \"y\": [5.3450491577386865], \"yaxis\": \"y\"}, {\"hovertemplate\": \"<b>%{hovertext}</b><br><br>player_name=Kelechi Iheanacho<br>Goal and XG Difference=%{x}<br>xG=%{y}<br>goals=%{marker.size}<extra></extra>\", \"hovertext\": [\"Kelechi Iheanacho\"], \"legendgroup\": \"Kelechi Iheanacho\", \"marker\": {\"color\": \"#19d3f3\", \"size\": [5], \"sizemode\": \"area\", \"sizeref\": 0.0575, \"symbol\": \"circle\"}, \"mode\": \"markers\", \"name\": \"Kelechi Iheanacho\", \"showlegend\": true, \"type\": \"scatter\", \"x\": [-0.9012715704739094], \"xaxis\": \"x\", \"y\": [5.901271570473909], \"yaxis\": \"y\"}, {\"hovertemplate\": \"<b>%{hovertext}</b><br><br>player_name=Robert Snodgrass<br>Goal and XG Difference=%{x}<br>xG=%{y}<br>goals=%{marker.size}<extra></extra>\", \"hovertext\": [\"Robert Snodgrass\"], \"legendgroup\": \"Robert Snodgrass\", \"marker\": {\"color\": \"#FF6692\", \"size\": [5], \"sizemode\": \"area\", \"sizeref\": 0.0575, \"symbol\": \"circle\"}, \"mode\": \"markers\", \"name\": \"Robert Snodgrass\", \"showlegend\": true, \"type\": \"scatter\", \"x\": [2.6134924488142133], \"xaxis\": \"x\", \"y\": [2.3865075511857867], \"yaxis\": \"y\"}, {\"hovertemplate\": \"<b>%{hovertext}</b><br><br>player_name=Nicolas Pepe<br>Goal and XG Difference=%{x}<br>xG=%{y}<br>goals=%{marker.size}<extra></extra>\", \"hovertext\": [\"Nicolas Pepe\"], \"legendgroup\": \"Nicolas Pepe\", \"marker\": {\"color\": \"#B6E880\", \"size\": [5], \"sizemode\": \"area\", \"sizeref\": 0.0575, \"symbol\": \"circle\"}, \"mode\": \"markers\", \"name\": \"Nicolas Pepe\", \"showlegend\": true, \"type\": \"scatter\", \"x\": [-0.06930527091026217], \"xaxis\": \"x\", \"y\": [5.069305270910262], \"yaxis\": \"y\"}, {\"hovertemplate\": \"<b>%{hovertext}</b><br><br>player_name=Ismaila Sarr<br>Goal and XG Difference=%{x}<br>xG=%{y}<br>goals=%{marker.size}<extra></extra>\", \"hovertext\": [\"Ismaila Sarr\"], \"legendgroup\": \"Ismaila Sarr\", \"marker\": {\"color\": \"#FF97FF\", \"size\": [5], \"sizemode\": \"area\", \"sizeref\": 0.0575, \"symbol\": \"circle\"}, \"mode\": \"markers\", \"name\": \"Ismaila Sarr\", \"showlegend\": true, \"type\": \"scatter\", \"x\": [-0.9681985024362803], \"xaxis\": \"x\", \"y\": [5.96819850243628], \"yaxis\": \"y\"}, {\"hovertemplate\": \"<b>%{hovertext}</b><br><br>player_name=Phil Foden<br>Goal and XG Difference=%{x}<br>xG=%{y}<br>goals=%{marker.size}<extra></extra>\", \"hovertext\": [\"Phil Foden\"], \"legendgroup\": \"Phil Foden\", \"marker\": {\"color\": \"#FECB52\", \"size\": [5], \"sizemode\": \"area\", \"sizeref\": 0.0575, \"symbol\": \"circle\"}, \"mode\": \"markers\", \"name\": \"Phil Foden\", \"showlegend\": true, \"type\": \"scatter\", \"x\": [1.4431703221052885], \"xaxis\": \"x\", \"y\": [3.5568296778947115], \"yaxis\": \"y\"}, {\"hovertemplate\": \"<b>%{hovertext}</b><br><br>player_name=Leandro Trossard<br>Goal and XG Difference=%{x}<br>xG=%{y}<br>goals=%{marker.size}<extra></extra>\", \"hovertext\": [\"Leandro Trossard\"], \"legendgroup\": \"Leandro Trossard\", \"marker\": {\"color\": \"#636efa\", \"size\": [5], \"sizemode\": \"area\", \"sizeref\": 0.0575, \"symbol\": \"circle\"}, \"mode\": \"markers\", \"name\": \"Leandro Trossard\", \"showlegend\": true, \"type\": \"scatter\", \"x\": [-0.35430202446878045], \"xaxis\": \"x\", \"y\": [5.3543020244687805], \"yaxis\": \"y\"}, {\"hovertemplate\": \"<b>%{hovertext}</b><br><br>player_name=Wesley<br>Goal and XG Difference=%{x}<br>xG=%{y}<br>goals=%{marker.size}<extra></extra>\", \"hovertext\": [\"Wesley\"], \"legendgroup\": \"Wesley\", \"marker\": {\"color\": \"#EF553B\", \"size\": [5], \"sizemode\": \"area\", \"sizeref\": 0.0575, \"symbol\": \"circle\"}, \"mode\": \"markers\", \"name\": \"Wesley\", \"showlegend\": true, \"type\": \"scatter\", \"x\": [-2.270558223128319], \"xaxis\": \"x\", \"y\": [7.270558223128319], \"yaxis\": \"y\"}, {\"hovertemplate\": \"<b>%{hovertext}</b><br><br>player_name=Divock Origi<br>Goal and XG Difference=%{x}<br>xG=%{y}<br>goals=%{marker.size}<extra></extra>\", \"hovertext\": [\"Divock Origi\"], \"legendgroup\": \"Divock Origi\", \"marker\": {\"color\": \"#00cc96\", \"size\": [4], \"sizemode\": \"area\", \"sizeref\": 0.0575, \"symbol\": \"circle\"}, \"mode\": \"markers\", \"name\": \"Divock Origi\", \"showlegend\": true, \"type\": \"scatter\", \"x\": [1.9034396912902594], \"xaxis\": \"x\", \"y\": [2.0965603087097406], \"yaxis\": \"y\"}, {\"hovertemplate\": \"<b>%{hovertext}</b><br><br>player_name=Wilfried Zaha<br>Goal and XG Difference=%{x}<br>xG=%{y}<br>goals=%{marker.size}<extra></extra>\", \"hovertext\": [\"Wilfried Zaha\"], \"legendgroup\": \"Wilfried Zaha\", \"marker\": {\"color\": \"#ab63fa\", \"size\": [4], \"sizemode\": \"area\", \"sizeref\": 0.0575, \"symbol\": \"circle\"}, \"mode\": \"markers\", \"name\": \"Wilfried Zaha\", \"showlegend\": true, \"type\": \"scatter\", \"x\": [-0.9326609149575233], \"xaxis\": \"x\", \"y\": [4.932660914957523], \"yaxis\": \"y\"}, {\"hovertemplate\": \"<b>%{hovertext}</b><br><br>player_name=Gerard Deulofeu<br>Goal and XG Difference=%{x}<br>xG=%{y}<br>goals=%{marker.size}<extra></extra>\", \"hovertext\": [\"Gerard Deulofeu\"], \"legendgroup\": \"Gerard Deulofeu\", \"marker\": {\"color\": \"#FFA15A\", \"size\": [4], \"sizemode\": \"area\", \"sizeref\": 0.0575, \"symbol\": \"circle\"}, \"mode\": \"markers\", \"name\": \"Gerard Deulofeu\", \"showlegend\": true, \"type\": \"scatter\", \"x\": [-2.213232520967723], \"xaxis\": \"x\", \"y\": [6.213232520967723], \"yaxis\": \"y\"}, {\"hovertemplate\": \"<b>%{hovertext}</b><br><br>player_name=Dwight Gayle<br>Goal and XG Difference=%{x}<br>xG=%{y}<br>goals=%{marker.size}<extra></extra>\", \"hovertext\": [\"Dwight Gayle\"], \"legendgroup\": \"Dwight Gayle\", \"marker\": {\"color\": \"#19d3f3\", \"size\": [4], \"sizemode\": \"area\", \"sizeref\": 0.0575, \"symbol\": \"circle\"}, \"mode\": \"markers\", \"name\": \"Dwight Gayle\", \"showlegend\": true, \"type\": \"scatter\", \"x\": [-0.6395000368356714], \"xaxis\": \"x\", \"y\": [4.639500036835671], \"yaxis\": \"y\"}, {\"hovertemplate\": \"<b>%{hovertext}</b><br><br>player_name=Nathan Redmond<br>Goal and XG Difference=%{x}<br>xG=%{y}<br>goals=%{marker.size}<extra></extra>\", \"hovertext\": [\"Nathan Redmond\"], \"legendgroup\": \"Nathan Redmond\", \"marker\": {\"color\": \"#FF6692\", \"size\": [4], \"sizemode\": \"area\", \"sizeref\": 0.0575, \"symbol\": \"circle\"}, \"mode\": \"markers\", \"name\": \"Nathan Redmond\", \"showlegend\": true, \"type\": \"scatter\", \"x\": [-1.2873223889619112], \"xaxis\": \"x\", \"y\": [5.287322388961911], \"yaxis\": \"y\"}, {\"hovertemplate\": \"<b>%{hovertext}</b><br><br>player_name=Adama Traor\\u00e9<br>Goal and XG Difference=%{x}<br>xG=%{y}<br>goals=%{marker.size}<extra></extra>\", \"hovertext\": [\"Adama Traor\\u00e9\"], \"legendgroup\": \"Adama Traor\\u00e9\", \"marker\": {\"color\": \"#B6E880\", \"size\": [4], \"sizemode\": \"area\", \"sizeref\": 0.0575, \"symbol\": \"circle\"}, \"mode\": \"markers\", \"name\": \"Adama Traor\\u00e9\", \"showlegend\": true, \"type\": \"scatter\", \"x\": [0.29266260378062725], \"xaxis\": \"x\", \"y\": [3.7073373962193727], \"yaxis\": \"y\"}, {\"hovertemplate\": \"<b>%{hovertext}</b><br><br>player_name=Alex Oxlade-Chamberlain<br>Goal and XG Difference=%{x}<br>xG=%{y}<br>goals=%{marker.size}<extra></extra>\", \"hovertext\": [\"Alex Oxlade-Chamberlain\"], \"legendgroup\": \"Alex Oxlade-Chamberlain\", \"marker\": {\"color\": \"#FF97FF\", \"size\": [4], \"sizemode\": \"area\", \"sizeref\": 0.0575, \"symbol\": \"circle\"}, \"mode\": \"markers\", \"name\": \"Alex Oxlade-Chamberlain\", \"showlegend\": true, \"type\": \"scatter\", \"x\": [1.495532494038343], \"xaxis\": \"x\", \"y\": [2.504467505961657], \"yaxis\": \"y\"}, {\"hovertemplate\": \"<b>%{hovertext}</b><br><br>player_name=Lucas Moura<br>Goal and XG Difference=%{x}<br>xG=%{y}<br>goals=%{marker.size}<extra></extra>\", \"hovertext\": [\"Lucas Moura\"], \"legendgroup\": \"Lucas Moura\", \"marker\": {\"color\": \"#FECB52\", \"size\": [4], \"sizemode\": \"area\", \"sizeref\": 0.0575, \"symbol\": \"circle\"}, \"mode\": \"markers\", \"name\": \"Lucas Moura\", \"showlegend\": true, \"type\": \"scatter\", \"x\": [-1.5820646416395903], \"xaxis\": \"x\", \"y\": [5.58206464163959], \"yaxis\": \"y\"}, {\"hovertemplate\": \"<b>%{hovertext}</b><br><br>player_name=Anwar El Ghazi<br>Goal and XG Difference=%{x}<br>xG=%{y}<br>goals=%{marker.size}<extra></extra>\", \"hovertext\": [\"Anwar El Ghazi\"], \"legendgroup\": \"Anwar El Ghazi\", \"marker\": {\"color\": \"#636efa\", \"size\": [4], \"sizemode\": \"area\", \"sizeref\": 0.0575, \"symbol\": \"circle\"}, \"mode\": \"markers\", \"name\": \"Anwar El Ghazi\", \"showlegend\": true, \"type\": \"scatter\", \"x\": [-2.3813601741567245], \"xaxis\": \"x\", \"y\": [6.3813601741567245], \"yaxis\": \"y\"}, {\"hovertemplate\": \"<b>%{hovertext}</b><br><br>player_name=Miguel Almir\\u00f3n<br>Goal and XG Difference=%{x}<br>xG=%{y}<br>goals=%{marker.size}<extra></extra>\", \"hovertext\": [\"Miguel Almir\\u00f3n\"], \"legendgroup\": \"Miguel Almir\\u00f3n\", \"marker\": {\"color\": \"#EF553B\", \"size\": [4], \"sizemode\": \"area\", \"sizeref\": 0.0575, \"symbol\": \"circle\"}, \"mode\": \"markers\", \"name\": \"Miguel Almir\\u00f3n\", \"showlegend\": true, \"type\": \"scatter\", \"x\": [-3.7551376651972532], \"xaxis\": \"x\", \"y\": [7.755137665197253], \"yaxis\": \"y\"}, {\"hovertemplate\": \"<b>%{hovertext}</b><br><br>player_name=Che Adams<br>Goal and XG Difference=%{x}<br>xG=%{y}<br>goals=%{marker.size}<extra></extra>\", \"hovertext\": [\"Che Adams\"], \"legendgroup\": \"Che Adams\", \"marker\": {\"color\": \"#00cc96\", \"size\": [4], \"sizemode\": \"area\", \"sizeref\": 0.0575, \"symbol\": \"circle\"}, \"mode\": \"markers\", \"name\": \"Che Adams\", \"showlegend\": true, \"type\": \"scatter\", \"x\": [-1.8656815625727177], \"xaxis\": \"x\", \"y\": [5.865681562572718], \"yaxis\": \"y\"}, {\"hovertemplate\": \"<b>%{hovertext}</b><br><br>player_name=Allan Saint-Maximin<br>Goal and XG Difference=%{x}<br>xG=%{y}<br>goals=%{marker.size}<extra></extra>\", \"hovertext\": [\"Allan Saint-Maximin\"], \"legendgroup\": \"Allan Saint-Maximin\", \"marker\": {\"color\": \"#ab63fa\", \"size\": [3], \"sizemode\": \"area\", \"sizeref\": 0.0575, \"symbol\": \"circle\"}, \"mode\": \"markers\", \"name\": \"Allan Saint-Maximin\", \"showlegend\": true, \"type\": \"scatter\", \"x\": [0.05748305283486799], \"xaxis\": \"x\", \"y\": [2.942516947165132], \"yaxis\": \"y\"}, {\"hovertemplate\": \"<b>%{hovertext}</b><br><br>player_name=Dominic Solanke<br>Goal and XG Difference=%{x}<br>xG=%{y}<br>goals=%{marker.size}<extra></extra>\", \"hovertext\": [\"Dominic Solanke\"], \"legendgroup\": \"Dominic Solanke\", \"marker\": {\"color\": \"#FFA15A\", \"size\": [3], \"sizemode\": \"area\", \"sizeref\": 0.0575, \"symbol\": \"circle\"}, \"mode\": \"markers\", \"name\": \"Dominic Solanke\", \"showlegend\": true, \"type\": \"scatter\", \"x\": [-1.4393345210701236], \"xaxis\": \"x\", \"y\": [4.439334521070124], \"yaxis\": \"y\"}, {\"hovertemplate\": \"<b>%{hovertext}</b><br><br>player_name=Roberto Pereyra<br>Goal and XG Difference=%{x}<br>xG=%{y}<br>goals=%{marker.size}<extra></extra>\", \"hovertext\": [\"Roberto Pereyra\"], \"legendgroup\": \"Roberto Pereyra\", \"marker\": {\"color\": \"#19d3f3\", \"size\": [3], \"sizemode\": \"area\", \"sizeref\": 0.0575, \"symbol\": \"circle\"}, \"mode\": \"markers\", \"name\": \"Roberto Pereyra\", \"showlegend\": true, \"type\": \"scatter\", \"x\": [-0.14688592590391636], \"xaxis\": \"x\", \"y\": [3.1468859259039164], \"yaxis\": \"y\"}, {\"hovertemplate\": \"<b>%{hovertext}</b><br><br>player_name=Daniel James<br>Goal and XG Difference=%{x}<br>xG=%{y}<br>goals=%{marker.size}<extra></extra>\", \"hovertext\": [\"Daniel James\"], \"legendgroup\": \"Daniel James\", \"marker\": {\"color\": \"#FF6692\", \"size\": [3], \"sizemode\": \"area\", \"sizeref\": 0.0575, \"symbol\": \"circle\"}, \"mode\": \"markers\", \"name\": \"Daniel James\", \"showlegend\": true, \"type\": \"scatter\", \"x\": [-0.6031310930848122], \"xaxis\": \"x\", \"y\": [3.603131093084812], \"yaxis\": \"y\"}, {\"hovertemplate\": \"<b>%{hovertext}</b><br><br>player_name=Pedro Neto<br>Goal and XG Difference=%{x}<br>xG=%{y}<br>goals=%{marker.size}<extra></extra>\", \"hovertext\": [\"Pedro Neto\"], \"legendgroup\": \"Pedro Neto\", \"marker\": {\"color\": \"#B6E880\", \"size\": [3], \"sizemode\": \"area\", \"sizeref\": 0.0575, \"symbol\": \"circle\"}, \"mode\": \"markers\", \"name\": \"Pedro Neto\", \"showlegend\": true, \"type\": \"scatter\", \"x\": [1.1065522395074368], \"xaxis\": \"x\", \"y\": [1.8934477604925632], \"yaxis\": \"y\"}, {\"hovertemplate\": \"<b>%{hovertext}</b><br><br>player_name=Michael Obafemi<br>Goal and XG Difference=%{x}<br>xG=%{y}<br>goals=%{marker.size}<extra></extra>\", \"hovertext\": [\"Michael Obafemi\"], \"legendgroup\": \"Michael Obafemi\", \"marker\": {\"color\": \"#FF97FF\", \"size\": [3], \"sizemode\": \"area\", \"sizeref\": 0.0575, \"symbol\": \"circle\"}, \"mode\": \"markers\", \"name\": \"Michael Obafemi\", \"showlegend\": true, \"type\": \"scatter\", \"x\": [0.845387551933527], \"xaxis\": \"x\", \"y\": [2.154612448066473], \"yaxis\": \"y\"}, {\"hovertemplate\": \"<b>%{hovertext}</b><br><br>player_name=Billy Sharp<br>Goal and XG Difference=%{x}<br>xG=%{y}<br>goals=%{marker.size}<extra></extra>\", \"hovertext\": [\"Billy Sharp\"], \"legendgroup\": \"Billy Sharp\", \"marker\": {\"color\": \"#FECB52\", \"size\": [3], \"sizemode\": \"area\", \"sizeref\": 0.0575, \"symbol\": \"circle\"}, \"mode\": \"markers\", \"name\": \"Billy Sharp\", \"showlegend\": true, \"type\": \"scatter\", \"x\": [-1.138954329304397], \"xaxis\": \"x\", \"y\": [4.138954329304397], \"yaxis\": \"y\"}, {\"hovertemplate\": \"<b>%{hovertext}</b><br><br>player_name=Aaron Connolly<br>Goal and XG Difference=%{x}<br>xG=%{y}<br>goals=%{marker.size}<extra></extra>\", \"hovertext\": [\"Aaron Connolly\"], \"legendgroup\": \"Aaron Connolly\", \"marker\": {\"color\": \"#636efa\", \"size\": [3], \"sizemode\": \"area\", \"sizeref\": 0.0575, \"symbol\": \"circle\"}, \"mode\": \"markers\", \"name\": \"Aaron Connolly\", \"showlegend\": true, \"type\": \"scatter\", \"x\": [-1.5535256061702967], \"xaxis\": \"x\", \"y\": [4.553525606170297], \"yaxis\": \"y\"}, {\"hovertemplate\": \"<b>%{hovertext}</b><br><br>player_name=Steven Bergwijn<br>Goal and XG Difference=%{x}<br>xG=%{y}<br>goals=%{marker.size}<extra></extra>\", \"hovertext\": [\"Steven Bergwijn\"], \"legendgroup\": \"Steven Bergwijn\", \"marker\": {\"color\": \"#EF553B\", \"size\": [3], \"sizemode\": \"area\", \"sizeref\": 0.0575, \"symbol\": \"circle\"}, \"mode\": \"markers\", \"name\": \"Steven Bergwijn\", \"showlegend\": true, \"type\": \"scatter\", \"x\": [1.8216841891407969], \"xaxis\": \"x\", \"y\": [1.1783158108592031], \"yaxis\": \"y\"}, {\"hovertemplate\": \"<b>%{hovertext}</b><br><br>player_name=Joelinton<br>Goal and XG Difference=%{x}<br>xG=%{y}<br>goals=%{marker.size}<extra></extra>\", \"hovertext\": [\"Joelinton\"], \"legendgroup\": \"Joelinton\", \"marker\": {\"color\": \"#00cc96\", \"size\": [2], \"sizemode\": \"area\", \"sizeref\": 0.0575, \"symbol\": \"circle\"}, \"mode\": \"markers\", \"name\": \"Joelinton\", \"showlegend\": true, \"type\": \"scatter\", \"x\": [-4.031041044741869], \"xaxis\": \"x\", \"y\": [6.031041044741869], \"yaxis\": \"y\"}, {\"hovertemplate\": \"<b>%{hovertext}</b><br><br>player_name=Pascal Gro\\u00df<br>Goal and XG Difference=%{x}<br>xG=%{y}<br>goals=%{marker.size}<extra></extra>\", \"hovertext\": [\"Pascal Gro\\u00df\"], \"legendgroup\": \"Pascal Gro\\u00df\", \"marker\": {\"color\": \"#ab63fa\", \"size\": [2], \"sizemode\": \"area\", \"sizeref\": 0.0575, \"symbol\": \"circle\"}, \"mode\": \"markers\", \"name\": \"Pascal Gro\\u00df\", \"showlegend\": true, \"type\": \"scatter\", \"x\": [0.5439030071720481], \"xaxis\": \"x\", \"y\": [1.456096992827952], \"yaxis\": \"y\"}, {\"hovertemplate\": \"<b>%{hovertext}</b><br><br>player_name=Danny Welbeck<br>Goal and XG Difference=%{x}<br>xG=%{y}<br>goals=%{marker.size}<extra></extra>\", \"hovertext\": [\"Danny Welbeck\"], \"legendgroup\": \"Danny Welbeck\", \"marker\": {\"color\": \"#FFA15A\", \"size\": [2], \"sizemode\": \"area\", \"sizeref\": 0.0575, \"symbol\": \"circle\"}, \"mode\": \"markers\", \"name\": \"Danny Welbeck\", \"showlegend\": true, \"type\": \"scatter\", \"x\": [-1.3855950385332108], \"xaxis\": \"x\", \"y\": [3.3855950385332108], \"yaxis\": \"y\"}, {\"hovertemplate\": \"<b>%{hovertext}</b><br><br>player_name=Christian Benteke<br>Goal and XG Difference=%{x}<br>xG=%{y}<br>goals=%{marker.size}<extra></extra>\", \"hovertext\": [\"Christian Benteke\"], \"legendgroup\": \"Christian Benteke\", \"marker\": {\"color\": \"#19d3f3\", \"size\": [2], \"sizemode\": \"area\", \"sizeref\": 0.0575, \"symbol\": \"circle\"}, \"mode\": \"markers\", \"name\": \"Christian Benteke\", \"showlegend\": true, \"type\": \"scatter\", \"x\": [-2.627831593155862], \"xaxis\": \"x\", \"y\": [4.627831593155862], \"yaxis\": \"y\"}, {\"hovertemplate\": \"<b>%{hovertext}</b><br><br>player_name=Erik Lamela<br>Goal and XG Difference=%{x}<br>xG=%{y}<br>goals=%{marker.size}<extra></extra>\", \"hovertext\": [\"Erik Lamela\"], \"legendgroup\": \"Erik Lamela\", \"marker\": {\"color\": \"#FF6692\", \"size\": [2], \"sizemode\": \"area\", \"sizeref\": 0.0575, \"symbol\": \"circle\"}, \"mode\": \"markers\", \"name\": \"Erik Lamela\", \"showlegend\": true, \"type\": \"scatter\", \"x\": [-0.309972669929266], \"xaxis\": \"x\", \"y\": [2.309972669929266], \"yaxis\": \"y\"}, {\"hovertemplate\": \"<b>%{hovertext}</b><br><br>player_name=Christian Eriksen<br>Goal and XG Difference=%{x}<br>xG=%{y}<br>goals=%{marker.size}<extra></extra>\", \"hovertext\": [\"Christian Eriksen\"], \"legendgroup\": \"Christian Eriksen\", \"marker\": {\"color\": \"#B6E880\", \"size\": [2], \"sizemode\": \"area\", \"sizeref\": 0.0575, \"symbol\": \"circle\"}, \"mode\": \"markers\", \"name\": \"Christian Eriksen\", \"showlegend\": true, \"type\": \"scatter\", \"x\": [0.2355692945420742], \"xaxis\": \"x\", \"y\": [1.7644307054579258], \"yaxis\": \"y\"}, {\"hovertemplate\": \"<b>%{hovertext}</b><br><br>player_name=Shane Long<br>Goal and XG Difference=%{x}<br>xG=%{y}<br>goals=%{marker.size}<extra></extra>\", \"hovertext\": [\"Shane Long\"], \"legendgroup\": \"Shane Long\", \"marker\": {\"color\": \"#FF97FF\", \"size\": [2], \"sizemode\": \"area\", \"sizeref\": 0.0575, \"symbol\": \"circle\"}, \"mode\": \"markers\", \"name\": \"Shane Long\", \"showlegend\": true, \"type\": \"scatter\", \"x\": [-2.5295923594385386], \"xaxis\": \"x\", \"y\": [4.5295923594385386], \"yaxis\": \"y\"}, {\"hovertemplate\": \"<b>%{hovertext}</b><br><br>player_name=Matej Vydra<br>Goal and XG Difference=%{x}<br>xG=%{y}<br>goals=%{marker.size}<extra></extra>\", \"hovertext\": [\"Matej Vydra\"], \"legendgroup\": \"Matej Vydra\", \"marker\": {\"color\": \"#FECB52\", \"size\": [2], \"sizemode\": \"area\", \"sizeref\": 0.0575, \"symbol\": \"circle\"}, \"mode\": \"markers\", \"name\": \"Matej Vydra\", \"showlegend\": true, \"type\": \"scatter\", \"x\": [-2.003597117960453], \"xaxis\": \"x\", \"y\": [4.003597117960453], \"yaxis\": \"y\"}, {\"hovertemplate\": \"<b>%{hovertext}</b><br><br>player_name=Moise Kean<br>Goal and XG Difference=%{x}<br>xG=%{y}<br>goals=%{marker.size}<extra></extra>\", \"hovertext\": [\"Moise Kean\"], \"legendgroup\": \"Moise Kean\", \"marker\": {\"color\": \"#636efa\", \"size\": [2], \"sizemode\": \"area\", \"sizeref\": 0.0575, \"symbol\": \"circle\"}, \"mode\": \"markers\", \"name\": \"Moise Kean\", \"showlegend\": true, \"type\": \"scatter\", \"x\": [-2.1403123447671533], \"xaxis\": \"x\", \"y\": [4.140312344767153], \"yaxis\": \"y\"}, {\"hovertemplate\": \"<b>%{hovertext}</b><br><br>player_name=Andre Gray<br>Goal and XG Difference=%{x}<br>xG=%{y}<br>goals=%{marker.size}<extra></extra>\", \"hovertext\": [\"Andre Gray\"], \"legendgroup\": \"Andre Gray\", \"marker\": {\"color\": \"#EF553B\", \"size\": [2], \"sizemode\": \"area\", \"sizeref\": 0.0575, \"symbol\": \"circle\"}, \"mode\": \"markers\", \"name\": \"Andre Gray\", \"showlegend\": true, \"type\": \"scatter\", \"x\": [-0.5895376875996594], \"xaxis\": \"x\", \"y\": [2.5895376875996594], \"yaxis\": \"y\"}, {\"hovertemplate\": \"<b>%{hovertext}</b><br><br>player_name=Patrick Cutrone<br>Goal and XG Difference=%{x}<br>xG=%{y}<br>goals=%{marker.size}<extra></extra>\", \"hovertext\": [\"Patrick Cutrone\"], \"legendgroup\": \"Patrick Cutrone\", \"marker\": {\"color\": \"#00cc96\", \"size\": [2], \"sizemode\": \"area\", \"sizeref\": 0.0575, \"symbol\": \"circle\"}, \"mode\": \"markers\", \"name\": \"Patrick Cutrone\", \"showlegend\": true, \"type\": \"scatter\", \"x\": [-0.2888070419430733], \"xaxis\": \"x\", \"y\": [2.2888070419430733], \"yaxis\": \"y\"}, {\"hovertemplate\": \"<b>%{hovertext}</b><br><br>player_name=Aaron Mooy<br>Goal and XG Difference=%{x}<br>xG=%{y}<br>goals=%{marker.size}<extra></extra>\", \"hovertext\": [\"Aaron Mooy\"], \"legendgroup\": \"Aaron Mooy\", \"marker\": {\"color\": \"#ab63fa\", \"size\": [2], \"sizemode\": \"area\", \"sizeref\": 0.0575, \"symbol\": \"circle\"}, \"mode\": \"markers\", \"name\": \"Aaron Mooy\", \"showlegend\": true, \"type\": \"scatter\", \"x\": [-0.5181916113942862], \"xaxis\": \"x\", \"y\": [2.518191611394286], \"yaxis\": \"y\"}, {\"hovertemplate\": \"<b>%{hovertext}</b><br><br>player_name=Cenk Tosun<br>Goal and XG Difference=%{x}<br>xG=%{y}<br>goals=%{marker.size}<extra></extra>\", \"hovertext\": [\"Cenk Tosun\"], \"legendgroup\": \"Cenk Tosun\", \"marker\": {\"color\": \"#FFA15A\", \"size\": [2], \"sizemode\": \"area\", \"sizeref\": 0.0575, \"symbol\": \"circle\"}, \"mode\": \"markers\", \"name\": \"Cenk Tosun\", \"showlegend\": true, \"type\": \"scatter\", \"x\": [0.08711424469947837], \"xaxis\": \"x\", \"y\": [1.9128857553005216], \"yaxis\": \"y\"}, {\"hovertemplate\": \"<b>%{hovertext}</b><br><br>player_name=Eddie Nketiah<br>Goal and XG Difference=%{x}<br>xG=%{y}<br>goals=%{marker.size}<extra></extra>\", \"hovertext\": [\"Eddie Nketiah\"], \"legendgroup\": \"Eddie Nketiah\", \"marker\": {\"color\": \"#19d3f3\", \"size\": [2], \"sizemode\": \"area\", \"sizeref\": 0.0575, \"symbol\": \"circle\"}, \"mode\": \"markers\", \"name\": \"Eddie Nketiah\", \"showlegend\": true, \"type\": \"scatter\", \"x\": [-1.4787293002009392], \"xaxis\": \"x\", \"y\": [3.478729300200939], \"yaxis\": \"y\"}, {\"hovertemplate\": \"<b>%{hovertext}</b><br><br>player_name=Alireza Jahanbakhsh<br>Goal and XG Difference=%{x}<br>xG=%{y}<br>goals=%{marker.size}<extra></extra>\", \"hovertext\": [\"Alireza Jahanbakhsh\"], \"legendgroup\": \"Alireza Jahanbakhsh\", \"marker\": {\"color\": \"#FF6692\", \"size\": [2], \"sizemode\": \"area\", \"sizeref\": 0.0575, \"symbol\": \"circle\"}, \"mode\": \"markers\", \"name\": \"Alireza Jahanbakhsh\", \"showlegend\": true, \"type\": \"scatter\", \"x\": [1.4137558192014694], \"xaxis\": \"x\", \"y\": [0.5862441807985306], \"yaxis\": \"y\"}, {\"hovertemplate\": \"<b>%{hovertext}</b><br><br>player_name=Moussa Djenepo<br>Goal and XG Difference=%{x}<br>xG=%{y}<br>goals=%{marker.size}<extra></extra>\", \"hovertext\": [\"Moussa Djenepo\"], \"legendgroup\": \"Moussa Djenepo\", \"marker\": {\"color\": \"#B6E880\", \"size\": [2], \"sizemode\": \"area\", \"sizeref\": 0.0575, \"symbol\": \"circle\"}, \"mode\": \"markers\", \"name\": \"Moussa Djenepo\", \"showlegend\": true, \"type\": \"scatter\", \"x\": [-0.2402867088094358], \"xaxis\": \"x\", \"y\": [2.240286708809436], \"yaxis\": \"y\"}, {\"hovertemplate\": \"<b>%{hovertext}</b><br><br>player_name=David McGoldrick<br>Goal and XG Difference=%{x}<br>xG=%{y}<br>goals=%{marker.size}<extra></extra>\", \"hovertext\": [\"David McGoldrick\"], \"legendgroup\": \"David McGoldrick\", \"marker\": {\"color\": \"#FF97FF\", \"size\": [2], \"sizemode\": \"area\", \"sizeref\": 0.0575, \"symbol\": \"circle\"}, \"mode\": \"markers\", \"name\": \"David McGoldrick\", \"showlegend\": true, \"type\": \"scatter\", \"x\": [-6.71595642156899], \"xaxis\": \"x\", \"y\": [8.71595642156899], \"yaxis\": \"y\"}, {\"hovertemplate\": \"<b>%{hovertext}</b><br><br>player_name=Chicharito<br>Goal and XG Difference=%{x}<br>xG=%{y}<br>goals=%{marker.size}<extra></extra>\", \"hovertext\": [\"Chicharito\"], \"legendgroup\": \"Chicharito\", \"marker\": {\"color\": \"#FECB52\", \"size\": [1], \"sizemode\": \"area\", \"sizeref\": 0.0575, \"symbol\": \"circle\"}, \"mode\": \"markers\", \"name\": \"Chicharito\", \"showlegend\": true, \"type\": \"scatter\", \"x\": [0.11701512336730957], \"xaxis\": \"x\", \"y\": [0.8829848766326904], \"yaxis\": \"y\"}, {\"hovertemplate\": \"<b>%{hovertext}</b><br><br>player_name=Josip Drmic<br>Goal and XG Difference=%{x}<br>xG=%{y}<br>goals=%{marker.size}<extra></extra>\", \"hovertext\": [\"Josip Drmic\"], \"legendgroup\": \"Josip Drmic\", \"marker\": {\"color\": \"#636efa\", \"size\": [1], \"sizemode\": \"area\", \"sizeref\": 0.0575, \"symbol\": \"circle\"}, \"mode\": \"markers\", \"name\": \"Josip Drmic\", \"showlegend\": true, \"type\": \"scatter\", \"x\": [-1.9341559950262313], \"xaxis\": \"x\", \"y\": [2.9341559950262313], \"yaxis\": \"y\"}, {\"hovertemplate\": \"<b>%{hovertext}</b><br><br>player_name=Alex Iwobi<br>Goal and XG Difference=%{x}<br>xG=%{y}<br>goals=%{marker.size}<extra></extra>\", \"hovertext\": [\"Alex Iwobi\"], \"legendgroup\": \"Alex Iwobi\", \"marker\": {\"color\": \"#EF553B\", \"size\": [1], \"sizemode\": \"area\", \"sizeref\": 0.0575, \"symbol\": \"circle\"}, \"mode\": \"markers\", \"name\": \"Alex Iwobi\", \"showlegend\": true, \"type\": \"scatter\", \"x\": [-1.4786294400691986], \"xaxis\": \"x\", \"y\": [2.4786294400691986], \"yaxis\": \"y\"}, {\"hovertemplate\": \"<b>%{hovertext}</b><br><br>player_name=Connor Wickham<br>Goal and XG Difference=%{x}<br>xG=%{y}<br>goals=%{marker.size}<extra></extra>\", \"hovertext\": [\"Connor Wickham\"], \"legendgroup\": \"Connor Wickham\", \"marker\": {\"color\": \"#00cc96\", \"size\": [1], \"sizemode\": \"area\", \"sizeref\": 0.0575, \"symbol\": \"circle\"}, \"mode\": \"markers\", \"name\": \"Connor Wickham\", \"showlegend\": true, \"type\": \"scatter\", \"x\": [-0.11555422842502594], \"xaxis\": \"x\", \"y\": [1.115554228425026], \"yaxis\": \"y\"}, {\"hovertemplate\": \"<b>%{hovertext}</b><br><br>player_name=Pedro<br>Goal and XG Difference=%{x}<br>xG=%{y}<br>goals=%{marker.size}<extra></extra>\", \"hovertext\": [\"Pedro\"], \"legendgroup\": \"Pedro\", \"marker\": {\"color\": \"#ab63fa\", \"size\": [1], \"sizemode\": \"area\", \"sizeref\": 0.0575, \"symbol\": \"circle\"}, \"mode\": \"markers\", \"name\": \"Pedro\", \"showlegend\": true, \"type\": \"scatter\", \"x\": [-1.4724749960005283], \"xaxis\": \"x\", \"y\": [2.4724749960005283], \"yaxis\": \"y\"}, {\"hovertemplate\": \"<b>%{hovertext}</b><br><br>player_name=Glenn Murray<br>Goal and XG Difference=%{x}<br>xG=%{y}<br>goals=%{marker.size}<extra></extra>\", \"hovertext\": [\"Glenn Murray\"], \"legendgroup\": \"Glenn Murray\", \"marker\": {\"color\": \"#FFA15A\", \"size\": [1], \"sizemode\": \"area\", \"sizeref\": 0.0575, \"symbol\": \"circle\"}, \"mode\": \"markers\", \"name\": \"Glenn Murray\", \"showlegend\": true, \"type\": \"scatter\", \"x\": [-1.6061205370351668], \"xaxis\": \"x\", \"y\": [2.6061205370351668], \"yaxis\": \"y\"}, {\"hovertemplate\": \"<b>%{hovertext}</b><br><br>player_name=Michy Batshuayi<br>Goal and XG Difference=%{x}<br>xG=%{y}<br>goals=%{marker.size}<extra></extra>\", \"hovertext\": [\"Michy Batshuayi\"], \"legendgroup\": \"Michy Batshuayi\", \"marker\": {\"color\": \"#19d3f3\", \"size\": [1], \"sizemode\": \"area\", \"sizeref\": 0.0575, \"symbol\": \"circle\"}, \"mode\": \"markers\", \"name\": \"Michy Batshuayi\", \"showlegend\": true, \"type\": \"scatter\", \"x\": [-2.038818970322609], \"xaxis\": \"x\", \"y\": [3.038818970322609], \"yaxis\": \"y\"}, {\"hovertemplate\": \"<b>%{hovertext}</b><br><br>player_name=Ryan Fraser<br>Goal and XG Difference=%{x}<br>xG=%{y}<br>goals=%{marker.size}<extra></extra>\", \"hovertext\": [\"Ryan Fraser\"], \"legendgroup\": \"Ryan Fraser\", \"marker\": {\"color\": \"#FF6692\", \"size\": [1], \"sizemode\": \"area\", \"sizeref\": 0.0575, \"symbol\": \"circle\"}, \"mode\": \"markers\", \"name\": \"Ryan Fraser\", \"showlegend\": true, \"type\": \"scatter\", \"x\": [-2.4642705637961626], \"xaxis\": \"x\", \"y\": [3.4642705637961626], \"yaxis\": \"y\"}, {\"hovertemplate\": \"<b>%{hovertext}</b><br><br>player_name=Florin Andone<br>Goal and XG Difference=%{x}<br>xG=%{y}<br>goals=%{marker.size}<extra></extra>\", \"hovertext\": [\"Florin Andone\"], \"legendgroup\": \"Florin Andone\", \"marker\": {\"color\": \"#B6E880\", \"size\": [1], \"sizemode\": \"area\", \"sizeref\": 0.0575, \"symbol\": \"circle\"}, \"mode\": \"markers\", \"name\": \"Florin Andone\", \"showlegend\": true, \"type\": \"scatter\", \"x\": [0.6354037523269653], \"xaxis\": \"x\", \"y\": [0.36459624767303467], \"yaxis\": \"y\"}, {\"hovertemplate\": \"<b>%{hovertext}</b><br><br>player_name=Callum Robinson<br>Goal and XG Difference=%{x}<br>xG=%{y}<br>goals=%{marker.size}<extra></extra>\", \"hovertext\": [\"Callum Robinson\"], \"legendgroup\": \"Callum Robinson\", \"marker\": {\"color\": \"#FF97FF\", \"size\": [1], \"sizemode\": \"area\", \"sizeref\": 0.0575, \"symbol\": \"circle\"}, \"mode\": \"markers\", \"name\": \"Callum Robinson\", \"showlegend\": true, \"type\": \"scatter\", \"x\": [-0.5612500011920929], \"xaxis\": \"x\", \"y\": [1.561250001192093], \"yaxis\": \"y\"}, {\"hovertemplate\": \"<b>%{hovertext}</b><br><br>player_name=Callum Hudson-Odoi<br>Goal and XG Difference=%{x}<br>xG=%{y}<br>goals=%{marker.size}<extra></extra>\", \"hovertext\": [\"Callum Hudson-Odoi\"], \"legendgroup\": \"Callum Hudson-Odoi\", \"marker\": {\"color\": \"#FECB52\", \"size\": [1], \"sizemode\": \"area\", \"sizeref\": 0.0575, \"symbol\": \"circle\"}, \"mode\": \"markers\", \"name\": \"Callum Hudson-Odoi\", \"showlegend\": true, \"type\": \"scatter\", \"x\": [-1.0151429465040565], \"xaxis\": \"x\", \"y\": [2.0151429465040565], \"yaxis\": \"y\"}, {\"hovertemplate\": \"<b>%{hovertext}</b><br><br>player_name=Reiss Nelson<br>Goal and XG Difference=%{x}<br>xG=%{y}<br>goals=%{marker.size}<extra></extra>\", \"hovertext\": [\"Reiss Nelson\"], \"legendgroup\": \"Reiss Nelson\", \"marker\": {\"color\": \"#636efa\", \"size\": [1], \"sizemode\": \"area\", \"sizeref\": 0.0575, \"symbol\": \"circle\"}, \"mode\": \"markers\", \"name\": \"Reiss Nelson\", \"showlegend\": true, \"type\": \"scatter\", \"x\": [-0.2735869288444521], \"xaxis\": \"x\", \"y\": [1.2735869288444521], \"yaxis\": \"y\"}, {\"hovertemplate\": \"<b>%{hovertext}</b><br><br>player_name=Dennis Srbeny<br>Goal and XG Difference=%{x}<br>xG=%{y}<br>goals=%{marker.size}<extra></extra>\", \"hovertext\": [\"Dennis Srbeny\"], \"legendgroup\": \"Dennis Srbeny\", \"marker\": {\"color\": \"#EF553B\", \"size\": [1], \"sizemode\": \"area\", \"sizeref\": 0.0575, \"symbol\": \"circle\"}, \"mode\": \"markers\", \"name\": \"Dennis Srbeny\", \"showlegend\": true, \"type\": \"scatter\", \"x\": [0.5178532376885414], \"xaxis\": \"x\", \"y\": [0.4821467623114586], \"yaxis\": \"y\"}, {\"hovertemplate\": \"<b>%{hovertext}</b><br><br>player_name=Mbwana Samatta<br>Goal and XG Difference=%{x}<br>xG=%{y}<br>goals=%{marker.size}<extra></extra>\", \"hovertext\": [\"Mbwana Samatta\"], \"legendgroup\": \"Mbwana Samatta\", \"marker\": {\"color\": \"#00cc96\", \"size\": [1], \"sizemode\": \"area\", \"sizeref\": 0.0575, \"symbol\": \"circle\"}, \"mode\": \"markers\", \"name\": \"Mbwana Samatta\", \"showlegend\": true, \"type\": \"scatter\", \"x\": [-1.5278815105557442], \"xaxis\": \"x\", \"y\": [2.527881510555744], \"yaxis\": \"y\"}, {\"hovertemplate\": \"<b>%{hovertext}</b><br><br>player_name=Daniel Podence<br>Goal and XG Difference=%{x}<br>xG=%{y}<br>goals=%{marker.size}<extra></extra>\", \"hovertext\": [\"Daniel Podence\"], \"legendgroup\": \"Daniel Podence\", \"marker\": {\"color\": \"#ab63fa\", \"size\": [1], \"sizemode\": \"area\", \"sizeref\": 0.0575, \"symbol\": \"circle\"}, \"mode\": \"markers\", \"name\": \"Daniel Podence\", \"showlegend\": true, \"type\": \"scatter\", \"x\": [-0.35931432992219925], \"xaxis\": \"x\", \"y\": [1.3593143299221992], \"yaxis\": \"y\"}],\n",
       "                        {\"legend\": {\"itemsizing\": \"constant\", \"title\": {\"text\": \"player_name\"}, \"tracegroupgap\": 0}, \"template\": {\"data\": {\"bar\": [{\"error_x\": {\"color\": \"#2a3f5f\"}, \"error_y\": {\"color\": \"#2a3f5f\"}, \"marker\": {\"line\": {\"color\": \"#E5ECF6\", \"width\": 0.5}}, \"type\": \"bar\"}], \"barpolar\": [{\"marker\": {\"line\": {\"color\": \"#E5ECF6\", \"width\": 0.5}}, \"type\": \"barpolar\"}], \"carpet\": [{\"aaxis\": {\"endlinecolor\": \"#2a3f5f\", \"gridcolor\": \"white\", \"linecolor\": \"white\", \"minorgridcolor\": \"white\", \"startlinecolor\": \"#2a3f5f\"}, \"baxis\": {\"endlinecolor\": \"#2a3f5f\", \"gridcolor\": \"white\", \"linecolor\": \"white\", \"minorgridcolor\": \"white\", \"startlinecolor\": \"#2a3f5f\"}, \"type\": \"carpet\"}], \"choropleth\": [{\"colorbar\": {\"outlinewidth\": 0, \"ticks\": \"\"}, \"type\": \"choropleth\"}], \"contour\": [{\"colorbar\": {\"outlinewidth\": 0, \"ticks\": \"\"}, \"colorscale\": [[0.0, \"#0d0887\"], [0.1111111111111111, \"#46039f\"], [0.2222222222222222, \"#7201a8\"], [0.3333333333333333, \"#9c179e\"], [0.4444444444444444, \"#bd3786\"], [0.5555555555555556, \"#d8576b\"], [0.6666666666666666, \"#ed7953\"], [0.7777777777777778, \"#fb9f3a\"], [0.8888888888888888, \"#fdca26\"], [1.0, \"#f0f921\"]], \"type\": \"contour\"}], \"contourcarpet\": [{\"colorbar\": {\"outlinewidth\": 0, \"ticks\": \"\"}, \"type\": \"contourcarpet\"}], \"heatmap\": [{\"colorbar\": {\"outlinewidth\": 0, \"ticks\": \"\"}, \"colorscale\": [[0.0, \"#0d0887\"], [0.1111111111111111, \"#46039f\"], [0.2222222222222222, \"#7201a8\"], [0.3333333333333333, \"#9c179e\"], [0.4444444444444444, \"#bd3786\"], [0.5555555555555556, \"#d8576b\"], [0.6666666666666666, \"#ed7953\"], [0.7777777777777778, \"#fb9f3a\"], [0.8888888888888888, \"#fdca26\"], [1.0, \"#f0f921\"]], \"type\": \"heatmap\"}], \"heatmapgl\": [{\"colorbar\": {\"outlinewidth\": 0, \"ticks\": \"\"}, \"colorscale\": [[0.0, \"#0d0887\"], [0.1111111111111111, \"#46039f\"], [0.2222222222222222, \"#7201a8\"], [0.3333333333333333, \"#9c179e\"], [0.4444444444444444, \"#bd3786\"], [0.5555555555555556, \"#d8576b\"], [0.6666666666666666, \"#ed7953\"], [0.7777777777777778, \"#fb9f3a\"], [0.8888888888888888, \"#fdca26\"], [1.0, \"#f0f921\"]], \"type\": \"heatmapgl\"}], \"histogram\": [{\"marker\": {\"colorbar\": {\"outlinewidth\": 0, \"ticks\": \"\"}}, \"type\": \"histogram\"}], \"histogram2d\": [{\"colorbar\": {\"outlinewidth\": 0, \"ticks\": \"\"}, \"colorscale\": [[0.0, \"#0d0887\"], [0.1111111111111111, \"#46039f\"], [0.2222222222222222, \"#7201a8\"], [0.3333333333333333, \"#9c179e\"], [0.4444444444444444, \"#bd3786\"], [0.5555555555555556, \"#d8576b\"], [0.6666666666666666, \"#ed7953\"], [0.7777777777777778, \"#fb9f3a\"], [0.8888888888888888, \"#fdca26\"], [1.0, \"#f0f921\"]], \"type\": \"histogram2d\"}], \"histogram2dcontour\": [{\"colorbar\": {\"outlinewidth\": 0, \"ticks\": \"\"}, \"colorscale\": [[0.0, \"#0d0887\"], [0.1111111111111111, \"#46039f\"], [0.2222222222222222, \"#7201a8\"], [0.3333333333333333, \"#9c179e\"], [0.4444444444444444, \"#bd3786\"], [0.5555555555555556, \"#d8576b\"], [0.6666666666666666, \"#ed7953\"], [0.7777777777777778, \"#fb9f3a\"], [0.8888888888888888, \"#fdca26\"], [1.0, \"#f0f921\"]], \"type\": \"histogram2dcontour\"}], \"mesh3d\": [{\"colorbar\": {\"outlinewidth\": 0, \"ticks\": \"\"}, \"type\": \"mesh3d\"}], \"parcoords\": [{\"line\": {\"colorbar\": {\"outlinewidth\": 0, \"ticks\": \"\"}}, \"type\": \"parcoords\"}], \"pie\": [{\"automargin\": true, \"type\": \"pie\"}], \"scatter\": [{\"marker\": {\"colorbar\": {\"outlinewidth\": 0, \"ticks\": \"\"}}, \"type\": \"scatter\"}], \"scatter3d\": [{\"line\": {\"colorbar\": {\"outlinewidth\": 0, \"ticks\": \"\"}}, \"marker\": {\"colorbar\": {\"outlinewidth\": 0, \"ticks\": \"\"}}, \"type\": \"scatter3d\"}], \"scattercarpet\": [{\"marker\": {\"colorbar\": {\"outlinewidth\": 0, \"ticks\": \"\"}}, \"type\": \"scattercarpet\"}], \"scattergeo\": [{\"marker\": {\"colorbar\": {\"outlinewidth\": 0, \"ticks\": \"\"}}, \"type\": \"scattergeo\"}], \"scattergl\": [{\"marker\": {\"colorbar\": {\"outlinewidth\": 0, \"ticks\": \"\"}}, \"type\": \"scattergl\"}], \"scattermapbox\": [{\"marker\": {\"colorbar\": {\"outlinewidth\": 0, \"ticks\": \"\"}}, \"type\": \"scattermapbox\"}], \"scatterpolar\": [{\"marker\": {\"colorbar\": {\"outlinewidth\": 0, \"ticks\": \"\"}}, \"type\": \"scatterpolar\"}], \"scatterpolargl\": [{\"marker\": {\"colorbar\": {\"outlinewidth\": 0, \"ticks\": \"\"}}, \"type\": \"scatterpolargl\"}], \"scatterternary\": [{\"marker\": {\"colorbar\": {\"outlinewidth\": 0, \"ticks\": \"\"}}, \"type\": \"scatterternary\"}], \"surface\": [{\"colorbar\": {\"outlinewidth\": 0, \"ticks\": \"\"}, \"colorscale\": [[0.0, \"#0d0887\"], [0.1111111111111111, \"#46039f\"], [0.2222222222222222, \"#7201a8\"], [0.3333333333333333, \"#9c179e\"], [0.4444444444444444, \"#bd3786\"], [0.5555555555555556, \"#d8576b\"], [0.6666666666666666, \"#ed7953\"], [0.7777777777777778, \"#fb9f3a\"], [0.8888888888888888, \"#fdca26\"], [1.0, \"#f0f921\"]], \"type\": \"surface\"}], \"table\": [{\"cells\": {\"fill\": {\"color\": \"#EBF0F8\"}, \"line\": {\"color\": \"white\"}}, \"header\": {\"fill\": {\"color\": \"#C8D4E3\"}, \"line\": {\"color\": \"white\"}}, \"type\": \"table\"}]}, \"layout\": {\"annotationdefaults\": {\"arrowcolor\": \"#2a3f5f\", \"arrowhead\": 0, \"arrowwidth\": 1}, \"coloraxis\": {\"colorbar\": {\"outlinewidth\": 0, \"ticks\": \"\"}}, \"colorscale\": {\"diverging\": [[0, \"#8e0152\"], [0.1, \"#c51b7d\"], [0.2, \"#de77ae\"], [0.3, \"#f1b6da\"], [0.4, \"#fde0ef\"], [0.5, \"#f7f7f7\"], [0.6, \"#e6f5d0\"], [0.7, \"#b8e186\"], [0.8, \"#7fbc41\"], [0.9, \"#4d9221\"], [1, \"#276419\"]], \"sequential\": [[0.0, \"#0d0887\"], [0.1111111111111111, \"#46039f\"], [0.2222222222222222, \"#7201a8\"], [0.3333333333333333, \"#9c179e\"], [0.4444444444444444, \"#bd3786\"], [0.5555555555555556, \"#d8576b\"], [0.6666666666666666, \"#ed7953\"], [0.7777777777777778, \"#fb9f3a\"], [0.8888888888888888, \"#fdca26\"], [1.0, \"#f0f921\"]], \"sequentialminus\": [[0.0, \"#0d0887\"], [0.1111111111111111, \"#46039f\"], [0.2222222222222222, \"#7201a8\"], [0.3333333333333333, \"#9c179e\"], [0.4444444444444444, \"#bd3786\"], [0.5555555555555556, \"#d8576b\"], [0.6666666666666666, \"#ed7953\"], [0.7777777777777778, \"#fb9f3a\"], [0.8888888888888888, \"#fdca26\"], [1.0, \"#f0f921\"]]}, \"colorway\": [\"#636efa\", \"#EF553B\", \"#00cc96\", \"#ab63fa\", \"#FFA15A\", \"#19d3f3\", \"#FF6692\", \"#B6E880\", \"#FF97FF\", \"#FECB52\"], \"font\": {\"color\": \"#2a3f5f\"}, \"geo\": {\"bgcolor\": \"white\", \"lakecolor\": \"white\", \"landcolor\": \"#E5ECF6\", \"showlakes\": true, \"showland\": true, \"subunitcolor\": \"white\"}, \"hoverlabel\": {\"align\": \"left\"}, \"hovermode\": \"closest\", \"mapbox\": {\"style\": \"light\"}, \"paper_bgcolor\": \"white\", \"plot_bgcolor\": \"#E5ECF6\", \"polar\": {\"angularaxis\": {\"gridcolor\": \"white\", \"linecolor\": \"white\", \"ticks\": \"\"}, \"bgcolor\": \"#E5ECF6\", \"radialaxis\": {\"gridcolor\": \"white\", \"linecolor\": \"white\", \"ticks\": \"\"}}, \"scene\": {\"xaxis\": {\"backgroundcolor\": \"#E5ECF6\", \"gridcolor\": \"white\", \"gridwidth\": 2, \"linecolor\": \"white\", \"showbackground\": true, \"ticks\": \"\", \"zerolinecolor\": \"white\"}, \"yaxis\": {\"backgroundcolor\": \"#E5ECF6\", \"gridcolor\": \"white\", \"gridwidth\": 2, \"linecolor\": \"white\", \"showbackground\": true, \"ticks\": \"\", \"zerolinecolor\": \"white\"}, \"zaxis\": {\"backgroundcolor\": \"#E5ECF6\", \"gridcolor\": \"white\", \"gridwidth\": 2, \"linecolor\": \"white\", \"showbackground\": true, \"ticks\": \"\", \"zerolinecolor\": \"white\"}}, \"shapedefaults\": {\"line\": {\"color\": \"#2a3f5f\"}}, \"ternary\": {\"aaxis\": {\"gridcolor\": \"white\", \"linecolor\": \"white\", \"ticks\": \"\"}, \"baxis\": {\"gridcolor\": \"white\", \"linecolor\": \"white\", \"ticks\": \"\"}, \"bgcolor\": \"#E5ECF6\", \"caxis\": {\"gridcolor\": \"white\", \"linecolor\": \"white\", \"ticks\": \"\"}}, \"title\": {\"x\": 0.05}, \"xaxis\": {\"automargin\": true, \"gridcolor\": \"white\", \"linecolor\": \"white\", \"ticks\": \"\", \"title\": {\"standoff\": 15}, \"zerolinecolor\": \"white\", \"zerolinewidth\": 2}, \"yaxis\": {\"automargin\": true, \"gridcolor\": \"white\", \"linecolor\": \"white\", \"ticks\": \"\", \"title\": {\"standoff\": 15}, \"zerolinecolor\": \"white\", \"zerolinewidth\": 2}}}, \"title\": {\"text\": \"xG vs Goals PL FWDs\"}, \"xaxis\": {\"anchor\": \"y\", \"domain\": [0.0, 1.0], \"title\": {\"text\": \"Goal and XG Difference\"}}, \"yaxis\": {\"anchor\": \"x\", \"domain\": [0.0, 1.0], \"title\": {\"text\": \"xG\"}}},\n",
       "                        {\"responsive\": true}\n",
       "                    ).then(function(){\n",
       "                            \n",
       "var gd = document.getElementById('819d484c-e723-43d5-b1d1-446e17629469');\n",
       "var x = new MutationObserver(function (mutations, observer) {{\n",
       "        var display = window.getComputedStyle(gd).display;\n",
       "        if (!display || display === 'none') {{\n",
       "            console.log([gd, 'removed!']);\n",
       "            Plotly.purge(gd);\n",
       "            observer.disconnect();\n",
       "        }}\n",
       "}});\n",
       "\n",
       "// Listen for the removal of the full notebook cells\n",
       "var notebookContainer = gd.closest('#notebook-container');\n",
       "if (notebookContainer) {{\n",
       "    x.observe(notebookContainer, {childList: true});\n",
       "}}\n",
       "\n",
       "// Listen for the clearing of the current output cell\n",
       "var outputEl = gd.closest('.output');\n",
       "if (outputEl) {{\n",
       "    x.observe(outputEl, {childList: true});\n",
       "}}\n",
       "\n",
       "                        })\n",
       "                };\n",
       "                });\n",
       "            </script>\n",
       "        </div>"
      ]
     },
     "metadata": {},
     "output_type": "display_data"
    }
   ],
   "source": [
    "fwdStats['Goal and XG Difference'] = fwdStats['goals'] - fwdStats['xG']\n",
    "fig = px.scatter(fwdStats[fwdStats['goals']>=1], x=\"Goal and XG Difference\", y=\"xG\", color=\"player_name\", size = 'goals', hover_name=\"player_name\",\n",
    "                title = 'xG vs Goals PL FWDs')\n",
    "fig.show()"
   ]
  },
  {
   "cell_type": "markdown",
   "metadata": {},
   "source": [
    "The plot below shows us a range of forwards, and how they performed in comparison to their expected goals.\n",
    "\n",
    "From this we can see, players like Gabriel Jesus and Roberto Firmino severely underperformed their xG, while Danny Ings and PEA overperformed their stats, showing their prolificness in front of goal.\n",
    "\n",
    "This is helpful because it shows us that Jesus comes across a lot of chances, which is a good sign for prospective owners, and could potentially regress to the mean."
   ]
  },
  {
   "cell_type": "code",
   "execution_count": 75,
   "metadata": {},
   "outputs": [
    {
     "data": {
      "application/vnd.plotly.v1+json": {
       "config": {
        "plotlyServerURL": "https://plot.ly"
       },
       "data": [
        {
         "hovertemplate": "<b>%{hovertext}</b><br><br>player_name=Kevin De Bruyne<br>Assist and XA Difference=%{x}<br>xA=%{y}<br>assists=%{marker.size}<extra></extra>",
         "hovertext": [
          "Kevin De Bruyne"
         ],
         "legendgroup": "Kevin De Bruyne",
         "marker": {
          "color": "#636efa",
          "size": [
           20
          ],
          "sizemode": "area",
          "sizeref": 0.05,
          "symbol": "circle"
         },
         "mode": "markers",
         "name": "Kevin De Bruyne",
         "showlegend": true,
         "type": "scatter",
         "x": [
          -0.6207069344818592
         ],
         "xaxis": "x",
         "y": [
          20.62070693448186
         ],
         "yaxis": "y"
        },
        {
         "hovertemplate": "<b>%{hovertext}</b><br><br>player_name=Bruno Fernandes<br>Assist and XA Difference=%{x}<br>xA=%{y}<br>assists=%{marker.size}<extra></extra>",
         "hovertext": [
          "Bruno Fernandes"
         ],
         "legendgroup": "Bruno Fernandes",
         "marker": {
          "color": "#EF553B",
          "size": [
           7
          ],
          "sizemode": "area",
          "sizeref": 0.05,
          "symbol": "circle"
         },
         "mode": "markers",
         "name": "Bruno Fernandes",
         "showlegend": true,
         "type": "scatter",
         "x": [
          4.244999725371599
         ],
         "xaxis": "x",
         "y": [
          2.755000274628401
         ],
         "yaxis": "y"
        },
        {
         "hovertemplate": "<b>%{hovertext}</b><br><br>player_name=Jonjo Shelvey<br>Assist and XA Difference=%{x}<br>xA=%{y}<br>assists=%{marker.size}<extra></extra>",
         "hovertext": [
          "Jonjo Shelvey"
         ],
         "legendgroup": "Jonjo Shelvey",
         "marker": {
          "color": "#00cc96",
          "size": [
           2
          ],
          "sizemode": "area",
          "sizeref": 0.05,
          "symbol": "circle"
         },
         "mode": "markers",
         "name": "Jonjo Shelvey",
         "showlegend": true,
         "type": "scatter",
         "x": [
          -2.1416122782975444
         ],
         "xaxis": "x",
         "y": [
          4.141612278297544
         ],
         "yaxis": "y"
        },
        {
         "hovertemplate": "<b>%{hovertext}</b><br><br>player_name=James Maddison<br>Assist and XA Difference=%{x}<br>xA=%{y}<br>assists=%{marker.size}<extra></extra>",
         "hovertext": [
          "James Maddison"
         ],
         "legendgroup": "James Maddison",
         "marker": {
          "color": "#ab63fa",
          "size": [
           3
          ],
          "sizemode": "area",
          "sizeref": 0.05,
          "symbol": "circle"
         },
         "mode": "markers",
         "name": "James Maddison",
         "showlegend": true,
         "type": "scatter",
         "x": [
          -2.7685162406414747
         ],
         "xaxis": "x",
         "y": [
          5.768516240641475
         ],
         "yaxis": "y"
        },
        {
         "hovertemplate": "<b>%{hovertext}</b><br><br>player_name=Todd Cantwell<br>Assist and XA Difference=%{x}<br>xA=%{y}<br>assists=%{marker.size}<extra></extra>",
         "hovertext": [
          "Todd Cantwell"
         ],
         "legendgroup": "Todd Cantwell",
         "marker": {
          "color": "#FFA15A",
          "size": [
           2
          ],
          "sizemode": "area",
          "sizeref": 0.05,
          "symbol": "circle"
         },
         "mode": "markers",
         "name": "Todd Cantwell",
         "showlegend": true,
         "type": "scatter",
         "x": [
          -0.3185307234525685
         ],
         "xaxis": "x",
         "y": [
          2.3185307234525685
         ],
         "yaxis": "y"
        },
        {
         "hovertemplate": "<b>%{hovertext}</b><br><br>player_name=David Silva<br>Assist and XA Difference=%{x}<br>xA=%{y}<br>assists=%{marker.size}<extra></extra>",
         "hovertext": [
          "David Silva"
         ],
         "legendgroup": "David Silva",
         "marker": {
          "color": "#19d3f3",
          "size": [
           10
          ],
          "sizemode": "area",
          "sizeref": 0.05,
          "symbol": "circle"
         },
         "mode": "markers",
         "name": "David Silva",
         "showlegend": true,
         "type": "scatter",
         "x": [
          2.3490124605596066
         ],
         "xaxis": "x",
         "y": [
          7.6509875394403934
         ],
         "yaxis": "y"
        },
        {
         "hovertemplate": "<b>%{hovertext}</b><br><br>player_name=Andriy Yarmolenko<br>Assist and XA Difference=%{x}<br>xA=%{y}<br>assists=%{marker.size}<extra></extra>",
         "hovertext": [
          "Andriy Yarmolenko"
         ],
         "legendgroup": "Andriy Yarmolenko",
         "marker": {
          "color": "#FF6692",
          "size": [
           1
          ],
          "sizemode": "area",
          "sizeref": 0.05,
          "symbol": "circle"
         },
         "mode": "markers",
         "name": "Andriy Yarmolenko",
         "showlegend": true,
         "type": "scatter",
         "x": [
          -2.426018500700593
         ],
         "xaxis": "x",
         "y": [
          3.426018500700593
         ],
         "yaxis": "y"
        },
        {
         "hovertemplate": "<b>%{hovertext}</b><br><br>player_name=Stuart Armstrong<br>Assist and XA Difference=%{x}<br>xA=%{y}<br>assists=%{marker.size}<extra></extra>",
         "hovertext": [
          "Stuart Armstrong"
         ],
         "legendgroup": "Stuart Armstrong",
         "marker": {
          "color": "#B6E880",
          "size": [
           3
          ],
          "sizemode": "area",
          "sizeref": 0.05,
          "symbol": "circle"
         },
         "mode": "markers",
         "name": "Stuart Armstrong",
         "showlegend": true,
         "type": "scatter",
         "x": [
          0.9903473956510429
         ],
         "xaxis": "x",
         "y": [
          2.009652604348957
         ],
         "yaxis": "y"
        },
        {
         "hovertemplate": "<b>%{hovertext}</b><br><br>player_name=John Lundstram<br>Assist and XA Difference=%{x}<br>xA=%{y}<br>assists=%{marker.size}<extra></extra>",
         "hovertext": [
          "John Lundstram"
         ],
         "legendgroup": "John Lundstram",
         "marker": {
          "color": "#FF97FF",
          "size": [
           3
          ],
          "sizemode": "area",
          "sizeref": 0.05,
          "symbol": "circle"
         },
         "mode": "markers",
         "name": "John Lundstram",
         "showlegend": true,
         "type": "scatter",
         "x": [
          -0.8296403661370282
         ],
         "xaxis": "x",
         "y": [
          3.829640366137028
         ],
         "yaxis": "y"
        },
        {
         "hovertemplate": "<b>%{hovertext}</b><br><br>player_name=John Fleck<br>Assist and XA Difference=%{x}<br>xA=%{y}<br>assists=%{marker.size}<extra></extra>",
         "hovertext": [
          "John Fleck"
         ],
         "legendgroup": "John Fleck",
         "marker": {
          "color": "#FECB52",
          "size": [
           2
          ],
          "sizemode": "area",
          "sizeref": 0.05,
          "symbol": "circle"
         },
         "mode": "markers",
         "name": "John Fleck",
         "showlegend": true,
         "type": "scatter",
         "x": [
          -1.4293289501219988
         ],
         "xaxis": "x",
         "y": [
          3.429328950121999
         ],
         "yaxis": "y"
        },
        {
         "hovertemplate": "<b>%{hovertext}</b><br><br>player_name=Mark Noble<br>Assist and XA Difference=%{x}<br>xA=%{y}<br>assists=%{marker.size}<extra></extra>",
         "hovertext": [
          "Mark Noble"
         ],
         "legendgroup": "Mark Noble",
         "marker": {
          "color": "#636efa",
          "size": [
           3
          ],
          "sizemode": "area",
          "sizeref": 0.05,
          "symbol": "circle"
         },
         "mode": "markers",
         "name": "Mark Noble",
         "showlegend": true,
         "type": "scatter",
         "x": [
          -0.18147218879312277
         ],
         "xaxis": "x",
         "y": [
          3.1814721887931228
         ],
         "yaxis": "y"
        },
        {
         "hovertemplate": "<b>%{hovertext}</b><br><br>player_name=Jordan Henderson<br>Assist and XA Difference=%{x}<br>xA=%{y}<br>assists=%{marker.size}<extra></extra>",
         "hovertext": [
          "Jordan Henderson"
         ],
         "legendgroup": "Jordan Henderson",
         "marker": {
          "color": "#EF553B",
          "size": [
           5
          ],
          "sizemode": "area",
          "sizeref": 0.05,
          "symbol": "circle"
         },
         "mode": "markers",
         "name": "Jordan Henderson",
         "showlegend": true,
         "type": "scatter",
         "x": [
          0.8919379599392414
         ],
         "xaxis": "x",
         "y": [
          4.108062040060759
         ],
         "yaxis": "y"
        },
        {
         "hovertemplate": "<b>%{hovertext}</b><br><br>player_name=Georginio Wijnaldum<br>Assist and XA Difference=%{x}<br>xA=%{y}<br>assists=%{marker.size}<extra></extra>",
         "hovertext": [
          "Georginio Wijnaldum"
         ],
         "legendgroup": "Georginio Wijnaldum",
         "marker": {
          "color": "#00cc96",
          "size": [
           0
          ],
          "sizemode": "area",
          "sizeref": 0.05,
          "symbol": "circle"
         },
         "mode": "markers",
         "name": "Georginio Wijnaldum",
         "showlegend": true,
         "type": "scatter",
         "x": [
          -0.8085457179695368
         ],
         "xaxis": "x",
         "y": [
          0.8085457179695368
         ],
         "yaxis": "y"
        },
        {
         "hovertemplate": "<b>%{hovertext}</b><br><br>player_name=Jorginho<br>Assist and XA Difference=%{x}<br>xA=%{y}<br>assists=%{marker.size}<extra></extra>",
         "hovertext": [
          "Jorginho"
         ],
         "legendgroup": "Jorginho",
         "marker": {
          "color": "#ab63fa",
          "size": [
           2
          ],
          "sizemode": "area",
          "sizeref": 0.05,
          "symbol": "circle"
         },
         "mode": "markers",
         "name": "Jorginho",
         "showlegend": true,
         "type": "scatter",
         "x": [
          -0.9165160683915019
         ],
         "xaxis": "x",
         "y": [
          2.916516068391502
         ],
         "yaxis": "y"
        },
        {
         "hovertemplate": "<b>%{hovertext}</b><br><br>player_name=Abdoulaye Doucouré<br>Assist and XA Difference=%{x}<br>xA=%{y}<br>assists=%{marker.size}<extra></extra>",
         "hovertext": [
          "Abdoulaye Doucouré"
         ],
         "legendgroup": "Abdoulaye Doucouré",
         "marker": {
          "color": "#FFA15A",
          "size": [
           2
          ],
          "sizemode": "area",
          "sizeref": 0.05,
          "symbol": "circle"
         },
         "mode": "markers",
         "name": "Abdoulaye Doucouré",
         "showlegend": true,
         "type": "scatter",
         "x": [
          -2.084617623127997
         ],
         "xaxis": "x",
         "y": [
          4.084617623127997
         ],
         "yaxis": "y"
        },
        {
         "hovertemplate": "<b>%{hovertext}</b><br><br>player_name=Dan Gosling<br>Assist and XA Difference=%{x}<br>xA=%{y}<br>assists=%{marker.size}<extra></extra>",
         "hovertext": [
          "Dan Gosling"
         ],
         "legendgroup": "Dan Gosling",
         "marker": {
          "color": "#19d3f3",
          "size": [
           1
          ],
          "sizemode": "area",
          "sizeref": 0.05,
          "symbol": "circle"
         },
         "mode": "markers",
         "name": "Dan Gosling",
         "showlegend": true,
         "type": "scatter",
         "x": [
          -0.3691747784614563
         ],
         "xaxis": "x",
         "y": [
          1.3691747784614563
         ],
         "yaxis": "y"
        },
        {
         "hovertemplate": "<b>%{hovertext}</b><br><br>player_name=N&#039;Golo Kanté<br>Assist and XA Difference=%{x}<br>xA=%{y}<br>assists=%{marker.size}<extra></extra>",
         "hovertext": [
          "N&#039;Golo Kanté"
         ],
         "legendgroup": "N&#039;Golo Kanté",
         "marker": {
          "color": "#FF6692",
          "size": [
           0
          ],
          "sizemode": "area",
          "sizeref": 0.05,
          "symbol": "circle"
         },
         "mode": "markers",
         "name": "N&#039;Golo Kanté",
         "showlegend": true,
         "type": "scatter",
         "x": [
          -1.5202719774097204
         ],
         "xaxis": "x",
         "y": [
          1.5202719774097204
         ],
         "yaxis": "y"
        },
        {
         "hovertemplate": "<b>%{hovertext}</b><br><br>player_name=Luka Milivojevic<br>Assist and XA Difference=%{x}<br>xA=%{y}<br>assists=%{marker.size}<extra></extra>",
         "hovertext": [
          "Luka Milivojevic"
         ],
         "legendgroup": "Luka Milivojevic",
         "marker": {
          "color": "#B6E880",
          "size": [
           1
          ],
          "sizemode": "area",
          "sizeref": 0.05,
          "symbol": "circle"
         },
         "mode": "markers",
         "name": "Luka Milivojevic",
         "showlegend": true,
         "type": "scatter",
         "x": [
          -0.7364521408453584
         ],
         "xaxis": "x",
         "y": [
          1.7364521408453584
         ],
         "yaxis": "y"
        },
        {
         "hovertemplate": "<b>%{hovertext}</b><br><br>player_name=Scott McTominay<br>Assist and XA Difference=%{x}<br>xA=%{y}<br>assists=%{marker.size}<extra></extra>",
         "hovertext": [
          "Scott McTominay"
         ],
         "legendgroup": "Scott McTominay",
         "marker": {
          "color": "#FF97FF",
          "size": [
           1
          ],
          "sizemode": "area",
          "sizeref": 0.05,
          "symbol": "circle"
         },
         "mode": "markers",
         "name": "Scott McTominay",
         "showlegend": true,
         "type": "scatter",
         "x": [
          -0.43121399730443954
         ],
         "xaxis": "x",
         "y": [
          1.4312139973044395
         ],
         "yaxis": "y"
        },
        {
         "hovertemplate": "<b>%{hovertext}</b><br><br>player_name=Youri Tielemans<br>Assist and XA Difference=%{x}<br>xA=%{y}<br>assists=%{marker.size}<extra></extra>",
         "hovertext": [
          "Youri Tielemans"
         ],
         "legendgroup": "Youri Tielemans",
         "marker": {
          "color": "#FECB52",
          "size": [
           6
          ],
          "sizemode": "area",
          "sizeref": 0.05,
          "symbol": "circle"
         },
         "mode": "markers",
         "name": "Youri Tielemans",
         "showlegend": true,
         "type": "scatter",
         "x": [
          0.8139003217220315
         ],
         "xaxis": "x",
         "y": [
          5.1860996782779685
         ],
         "yaxis": "y"
        },
        {
         "hovertemplate": "<b>%{hovertext}</b><br><br>player_name=Douglas Luiz<br>Assist and XA Difference=%{x}<br>xA=%{y}<br>assists=%{marker.size}<extra></extra>",
         "hovertext": [
          "Douglas Luiz"
         ],
         "legendgroup": "Douglas Luiz",
         "marker": {
          "color": "#636efa",
          "size": [
           2
          ],
          "sizemode": "area",
          "sizeref": 0.05,
          "symbol": "circle"
         },
         "mode": "markers",
         "name": "Douglas Luiz",
         "showlegend": true,
         "type": "scatter",
         "x": [
          -0.0041146669536833436
         ],
         "xaxis": "x",
         "y": [
          2.0041146669536833
         ],
         "yaxis": "y"
        },
        {
         "hovertemplate": "<b>%{hovertext}</b><br><br>player_name=Bernard<br>Assist and XA Difference=%{x}<br>xA=%{y}<br>assists=%{marker.size}<extra></extra>",
         "hovertext": [
          "Bernard"
         ],
         "legendgroup": "Bernard",
         "marker": {
          "color": "#EF553B",
          "size": [
           2
          ],
          "sizemode": "area",
          "sizeref": 0.05,
          "symbol": "circle"
         },
         "mode": "markers",
         "name": "Bernard",
         "showlegend": true,
         "type": "scatter",
         "x": [
          -0.3037222437560563
         ],
         "xaxis": "x",
         "y": [
          2.3037222437560563
         ],
         "yaxis": "y"
        },
        {
         "hovertemplate": "<b>%{hovertext}</b><br><br>player_name=Conor Hourihane<br>Assist and XA Difference=%{x}<br>xA=%{y}<br>assists=%{marker.size}<extra></extra>",
         "hovertext": [
          "Conor Hourihane"
         ],
         "legendgroup": "Conor Hourihane",
         "marker": {
          "color": "#00cc96",
          "size": [
           5
          ],
          "sizemode": "area",
          "sizeref": 0.05,
          "symbol": "circle"
         },
         "mode": "markers",
         "name": "Conor Hourihane",
         "showlegend": true,
         "type": "scatter",
         "x": [
          -0.7314409166574478
         ],
         "xaxis": "x",
         "y": [
          5.731440916657448
         ],
         "yaxis": "y"
        },
        {
         "hovertemplate": "<b>%{hovertext}</b><br><br>player_name=John McGinn<br>Assist and XA Difference=%{x}<br>xA=%{y}<br>assists=%{marker.size}<extra></extra>",
         "hovertext": [
          "John McGinn"
         ],
         "legendgroup": "John McGinn",
         "marker": {
          "color": "#ab63fa",
          "size": [
           3
          ],
          "sizemode": "area",
          "sizeref": 0.05,
          "symbol": "circle"
         },
         "mode": "markers",
         "name": "John McGinn",
         "showlegend": true,
         "type": "scatter",
         "x": [
          0.3822408877313137
         ],
         "xaxis": "x",
         "y": [
          2.6177591122686863
         ],
         "yaxis": "y"
        },
        {
         "hovertemplate": "<b>%{hovertext}</b><br><br>player_name=Gabriel Martinelli<br>Assist and XA Difference=%{x}<br>xA=%{y}<br>assists=%{marker.size}<extra></extra>",
         "hovertext": [
          "Gabriel Martinelli"
         ],
         "legendgroup": "Gabriel Martinelli",
         "marker": {
          "color": "#FFA15A",
          "size": [
           0
          ],
          "sizemode": "area",
          "sizeref": 0.05,
          "symbol": "circle"
         },
         "mode": "markers",
         "name": "Gabriel Martinelli",
         "showlegend": true,
         "type": "scatter",
         "x": [
          -0.11354188434779645
         ],
         "xaxis": "x",
         "y": [
          0.11354188434779645
         ],
         "yaxis": "y"
        },
        {
         "hovertemplate": "<b>%{hovertext}</b><br><br>player_name=Tomas Soucek<br>Assist and XA Difference=%{x}<br>xA=%{y}<br>assists=%{marker.size}<extra></extra>",
         "hovertext": [
          "Tomas Soucek"
         ],
         "legendgroup": "Tomas Soucek",
         "marker": {
          "color": "#19d3f3",
          "size": [
           0
          ],
          "sizemode": "area",
          "sizeref": 0.05,
          "symbol": "circle"
         },
         "mode": "markers",
         "name": "Tomas Soucek",
         "showlegend": true,
         "type": "scatter",
         "x": [
          -0.3432552432641387
         ],
         "xaxis": "x",
         "y": [
          0.3432552432641387
         ],
         "yaxis": "y"
        },
        {
         "hovertemplate": "<b>%{hovertext}</b><br><br>player_name=Ilkay Gündogan<br>Assist and XA Difference=%{x}<br>xA=%{y}<br>assists=%{marker.size}<extra></extra>",
         "hovertext": [
          "Ilkay Gündogan"
         ],
         "legendgroup": "Ilkay Gündogan",
         "marker": {
          "color": "#FF6692",
          "size": [
           1
          ],
          "sizemode": "area",
          "sizeref": 0.05,
          "symbol": "circle"
         },
         "mode": "markers",
         "name": "Ilkay Gündogan",
         "showlegend": true,
         "type": "scatter",
         "x": [
          -1.9191963784396648
         ],
         "xaxis": "x",
         "y": [
          2.919196378439665
         ],
         "yaxis": "y"
        },
        {
         "hovertemplate": "<b>%{hovertext}</b><br><br>player_name=Theo Walcott<br>Assist and XA Difference=%{x}<br>xA=%{y}<br>assists=%{marker.size}<extra></extra>",
         "hovertext": [
          "Theo Walcott"
         ],
         "legendgroup": "Theo Walcott",
         "marker": {
          "color": "#B6E880",
          "size": [
           3
          ],
          "sizemode": "area",
          "sizeref": 0.05,
          "symbol": "circle"
         },
         "mode": "markers",
         "name": "Theo Walcott",
         "showlegend": true,
         "type": "scatter",
         "x": [
          -0.9733672887086868
         ],
         "xaxis": "x",
         "y": [
          3.973367288708687
         ],
         "yaxis": "y"
        },
        {
         "hovertemplate": "<b>%{hovertext}</b><br><br>player_name=Ashley Westwood<br>Assist and XA Difference=%{x}<br>xA=%{y}<br>assists=%{marker.size}<extra></extra>",
         "hovertext": [
          "Ashley Westwood"
         ],
         "legendgroup": "Ashley Westwood",
         "marker": {
          "color": "#FF97FF",
          "size": [
           6
          ],
          "sizemode": "area",
          "sizeref": 0.05,
          "symbol": "circle"
         },
         "mode": "markers",
         "name": "Ashley Westwood",
         "showlegend": true,
         "type": "scatter",
         "x": [
          -1.0769018754363069
         ],
         "xaxis": "x",
         "y": [
          7.076901875436307
         ],
         "yaxis": "y"
        },
        {
         "hovertemplate": "<b>%{hovertext}</b><br><br>player_name=Gylfi Sigurdsson<br>Assist and XA Difference=%{x}<br>xA=%{y}<br>assists=%{marker.size}<extra></extra>",
         "hovertext": [
          "Gylfi Sigurdsson"
         ],
         "legendgroup": "Gylfi Sigurdsson",
         "marker": {
          "color": "#FECB52",
          "size": [
           3
          ],
          "sizemode": "area",
          "sizeref": 0.05,
          "symbol": "circle"
         },
         "mode": "markers",
         "name": "Gylfi Sigurdsson",
         "showlegend": true,
         "type": "scatter",
         "x": [
          -1.0116059454157948
         ],
         "xaxis": "x",
         "y": [
          4.011605945415795
         ],
         "yaxis": "y"
        },
        {
         "hovertemplate": "<b>%{hovertext}</b><br><br>player_name=Demarai Gray<br>Assist and XA Difference=%{x}<br>xA=%{y}<br>assists=%{marker.size}<extra></extra>",
         "hovertext": [
          "Demarai Gray"
         ],
         "legendgroup": "Demarai Gray",
         "marker": {
          "color": "#636efa",
          "size": [
           3
          ],
          "sizemode": "area",
          "sizeref": 0.05,
          "symbol": "circle"
         },
         "mode": "markers",
         "name": "Demarai Gray",
         "showlegend": true,
         "type": "scatter",
         "x": [
          0.7660441175103192
         ],
         "xaxis": "x",
         "y": [
          2.233955882489681
         ],
         "yaxis": "y"
        },
        {
         "hovertemplate": "<b>%{hovertext}</b><br><br>player_name=Jeff Hendrick<br>Assist and XA Difference=%{x}<br>xA=%{y}<br>assists=%{marker.size}<extra></extra>",
         "hovertext": [
          "Jeff Hendrick"
         ],
         "legendgroup": "Jeff Hendrick",
         "marker": {
          "color": "#EF553B",
          "size": [
           2
          ],
          "sizemode": "area",
          "sizeref": 0.05,
          "symbol": "circle"
         },
         "mode": "markers",
         "name": "Jeff Hendrick",
         "showlegend": true,
         "type": "scatter",
         "x": [
          0.6212511463090775
         ],
         "xaxis": "x",
         "y": [
          1.3787488536909225
         ],
         "yaxis": "y"
        },
        {
         "hovertemplate": "<b>%{hovertext}</b><br><br>player_name=Jonny<br>Assist and XA Difference=%{x}<br>xA=%{y}<br>assists=%{marker.size}<extra></extra>",
         "hovertext": [
          "Jonny"
         ],
         "legendgroup": "Jonny",
         "marker": {
          "color": "#00cc96",
          "size": [
           2
          ],
          "sizemode": "area",
          "sizeref": 0.05,
          "symbol": "circle"
         },
         "mode": "markers",
         "name": "Jonny",
         "showlegend": true,
         "type": "scatter",
         "x": [
          0.43318797647953033
         ],
         "xaxis": "x",
         "y": [
          1.5668120235204697
         ],
         "yaxis": "y"
        },
        {
         "hovertemplate": "<b>%{hovertext}</b><br><br>player_name=Pablo Fornals<br>Assist and XA Difference=%{x}<br>xA=%{y}<br>assists=%{marker.size}<extra></extra>",
         "hovertext": [
          "Pablo Fornals"
         ],
         "legendgroup": "Pablo Fornals",
         "marker": {
          "color": "#ab63fa",
          "size": [
           5
          ],
          "sizemode": "area",
          "sizeref": 0.05,
          "symbol": "circle"
         },
         "mode": "markers",
         "name": "Pablo Fornals",
         "showlegend": true,
         "type": "scatter",
         "x": [
          2.700946873053908
         ],
         "xaxis": "x",
         "y": [
          2.299053126946092
         ],
         "yaxis": "y"
        },
        {
         "hovertemplate": "<b>%{hovertext}</b><br><br>player_name=Fabinho<br>Assist and XA Difference=%{x}<br>xA=%{y}<br>assists=%{marker.size}<extra></extra>",
         "hovertext": [
          "Fabinho"
         ],
         "legendgroup": "Fabinho",
         "marker": {
          "color": "#FFA15A",
          "size": [
           3
          ],
          "sizemode": "area",
          "sizeref": 0.05,
          "symbol": "circle"
         },
         "mode": "markers",
         "name": "Fabinho",
         "showlegend": true,
         "type": "scatter",
         "x": [
          1.3248598827049136
         ],
         "xaxis": "x",
         "y": [
          1.6751401172950864
         ],
         "yaxis": "y"
        },
        {
         "hovertemplate": "<b>%{hovertext}</b><br><br>player_name=Naby Keita<br>Assist and XA Difference=%{x}<br>xA=%{y}<br>assists=%{marker.size}<extra></extra>",
         "hovertext": [
          "Naby Keita"
         ],
         "legendgroup": "Naby Keita",
         "marker": {
          "color": "#19d3f3",
          "size": [
           3
          ],
          "sizemode": "area",
          "sizeref": 0.05,
          "symbol": "circle"
         },
         "mode": "markers",
         "name": "Naby Keita",
         "showlegend": true,
         "type": "scatter",
         "x": [
          -0.2155438680201769
         ],
         "xaxis": "x",
         "y": [
          3.215543868020177
         ],
         "yaxis": "y"
        },
        {
         "hovertemplate": "<b>%{hovertext}</b><br><br>player_name=Wilfred Ndidi<br>Assist and XA Difference=%{x}<br>xA=%{y}<br>assists=%{marker.size}<extra></extra>",
         "hovertext": [
          "Wilfred Ndidi"
         ],
         "legendgroup": "Wilfred Ndidi",
         "marker": {
          "color": "#FF6692",
          "size": [
           1
          ],
          "sizemode": "area",
          "sizeref": 0.05,
          "symbol": "circle"
         },
         "mode": "markers",
         "name": "Wilfred Ndidi",
         "showlegend": true,
         "type": "scatter",
         "x": [
          0.40833439212292433
         ],
         "xaxis": "x",
         "y": [
          0.5916656078770757
         ],
         "yaxis": "y"
        },
        {
         "hovertemplate": "<b>%{hovertext}</b><br><br>player_name=Tanguy NDombele Alvaro<br>Assist and XA Difference=%{x}<br>xA=%{y}<br>assists=%{marker.size}<extra></extra>",
         "hovertext": [
          "Tanguy NDombele Alvaro"
         ],
         "legendgroup": "Tanguy NDombele Alvaro",
         "marker": {
          "color": "#B6E880",
          "size": [
           2
          ],
          "sizemode": "area",
          "sizeref": 0.05,
          "symbol": "circle"
         },
         "mode": "markers",
         "name": "Tanguy NDombele Alvaro",
         "showlegend": true,
         "type": "scatter",
         "x": [
          1.2024954911321402
         ],
         "xaxis": "x",
         "y": [
          0.7975045088678598
         ],
         "yaxis": "y"
        },
        {
         "hovertemplate": "<b>%{hovertext}</b><br><br>player_name=Dwight McNeil<br>Assist and XA Difference=%{x}<br>xA=%{y}<br>assists=%{marker.size}<extra></extra>",
         "hovertext": [
          "Dwight McNeil"
         ],
         "legendgroup": "Dwight McNeil",
         "marker": {
          "color": "#FF97FF",
          "size": [
           6
          ],
          "sizemode": "area",
          "sizeref": 0.05,
          "symbol": "circle"
         },
         "mode": "markers",
         "name": "Dwight McNeil",
         "showlegend": true,
         "type": "scatter",
         "x": [
          -1.5624299999326476
         ],
         "xaxis": "x",
         "y": [
          7.562429999932648
         ],
         "yaxis": "y"
        },
        {
         "hovertemplate": "<b>%{hovertext}</b><br><br>player_name=Rúben Neves<br>Assist and XA Difference=%{x}<br>xA=%{y}<br>assists=%{marker.size}<extra></extra>",
         "hovertext": [
          "Rúben Neves"
         ],
         "legendgroup": "Rúben Neves",
         "marker": {
          "color": "#FECB52",
          "size": [
           2
          ],
          "sizemode": "area",
          "sizeref": 0.05,
          "symbol": "circle"
         },
         "mode": "markers",
         "name": "Rúben Neves",
         "showlegend": true,
         "type": "scatter",
         "x": [
          -0.6060938835144043
         ],
         "xaxis": "x",
         "y": [
          2.6060938835144043
         ],
         "yaxis": "y"
        },
        {
         "hovertemplate": "<b>%{hovertext}</b><br><br>player_name=George Baldock<br>Assist and XA Difference=%{x}<br>xA=%{y}<br>assists=%{marker.size}<extra></extra>",
         "hovertext": [
          "George Baldock"
         ],
         "legendgroup": "George Baldock",
         "marker": {
          "color": "#636efa",
          "size": [
           3
          ],
          "sizemode": "area",
          "sizeref": 0.05,
          "symbol": "circle"
         },
         "mode": "markers",
         "name": "George Baldock",
         "showlegend": true,
         "type": "scatter",
         "x": [
          1.3746910402551291
         ],
         "xaxis": "x",
         "y": [
          1.6253089597448709
         ],
         "yaxis": "y"
        },
        {
         "hovertemplate": "<b>%{hovertext}</b><br><br>player_name=Enda Stevens<br>Assist and XA Difference=%{x}<br>xA=%{y}<br>assists=%{marker.size}<extra></extra>",
         "hovertext": [
          "Enda Stevens"
         ],
         "legendgroup": "Enda Stevens",
         "marker": {
          "color": "#EF553B",
          "size": [
           4
          ],
          "sizemode": "area",
          "sizeref": 0.05,
          "symbol": "circle"
         },
         "mode": "markers",
         "name": "Enda Stevens",
         "showlegend": true,
         "type": "scatter",
         "x": [
          -1.4148625014349818
         ],
         "xaxis": "x",
         "y": [
          5.414862501434982
         ],
         "yaxis": "y"
        },
        {
         "hovertemplate": "<b>%{hovertext}</b><br><br>player_name=Matthew Longstaff<br>Assist and XA Difference=%{x}<br>xA=%{y}<br>assists=%{marker.size}<extra></extra>",
         "hovertext": [
          "Matthew Longstaff"
         ],
         "legendgroup": "Matthew Longstaff",
         "marker": {
          "color": "#00cc96",
          "size": [
           0
          ],
          "sizemode": "area",
          "sizeref": 0.05,
          "symbol": "circle"
         },
         "mode": "markers",
         "name": "Matthew Longstaff",
         "showlegend": true,
         "type": "scatter",
         "x": [
          -0.18956130929291248
         ],
         "xaxis": "x",
         "y": [
          0.18956130929291248
         ],
         "yaxis": "y"
        },
        {
         "hovertemplate": "<b>%{hovertext}</b><br><br>player_name=Mario Vrancic<br>Assist and XA Difference=%{x}<br>xA=%{y}<br>assists=%{marker.size}<extra></extra>",
         "hovertext": [
          "Mario Vrancic"
         ],
         "legendgroup": "Mario Vrancic",
         "marker": {
          "color": "#ab63fa",
          "size": [
           0
          ],
          "sizemode": "area",
          "sizeref": 0.05,
          "symbol": "circle"
         },
         "mode": "markers",
         "name": "Mario Vrancic",
         "showlegend": true,
         "type": "scatter",
         "x": [
          -1.0300541585311294
         ],
         "xaxis": "x",
         "y": [
          1.0300541585311294
         ],
         "yaxis": "y"
        },
        {
         "hovertemplate": "<b>%{hovertext}</b><br><br>player_name=Granit Xhaka<br>Assist and XA Difference=%{x}<br>xA=%{y}<br>assists=%{marker.size}<extra></extra>",
         "hovertext": [
          "Granit Xhaka"
         ],
         "legendgroup": "Granit Xhaka",
         "marker": {
          "color": "#FFA15A",
          "size": [
           2
          ],
          "sizemode": "area",
          "sizeref": 0.05,
          "symbol": "circle"
         },
         "mode": "markers",
         "name": "Granit Xhaka",
         "showlegend": true,
         "type": "scatter",
         "x": [
          1.0278033670037985
         ],
         "xaxis": "x",
         "y": [
          0.9721966329962016
         ],
         "yaxis": "y"
        },
        {
         "hovertemplate": "<b>%{hovertext}</b><br><br>player_name=Adam Lallana<br>Assist and XA Difference=%{x}<br>xA=%{y}<br>assists=%{marker.size}<extra></extra>",
         "hovertext": [
          "Adam Lallana"
         ],
         "legendgroup": "Adam Lallana",
         "marker": {
          "color": "#19d3f3",
          "size": [
           1
          ],
          "sizemode": "area",
          "sizeref": 0.05,
          "symbol": "circle"
         },
         "mode": "markers",
         "name": "Adam Lallana",
         "showlegend": true,
         "type": "scatter",
         "x": [
          0.3463284447789192
         ],
         "xaxis": "x",
         "y": [
          0.6536715552210808
         ],
         "yaxis": "y"
        },
        {
         "hovertemplate": "<b>%{hovertext}</b><br><br>player_name=Mesut Özil<br>Assist and XA Difference=%{x}<br>xA=%{y}<br>assists=%{marker.size}<extra></extra>",
         "hovertext": [
          "Mesut Özil"
         ],
         "legendgroup": "Mesut Özil",
         "marker": {
          "color": "#FF6692",
          "size": [
           2
          ],
          "sizemode": "area",
          "sizeref": 0.05,
          "symbol": "circle"
         },
         "mode": "markers",
         "name": "Mesut Özil",
         "showlegend": true,
         "type": "scatter",
         "x": [
          -0.28740838542580605
         ],
         "xaxis": "x",
         "y": [
          2.287408385425806
         ],
         "yaxis": "y"
        },
        {
         "hovertemplate": "<b>%{hovertext}</b><br><br>player_name=Jesse Lingard<br>Assist and XA Difference=%{x}<br>xA=%{y}<br>assists=%{marker.size}<extra></extra>",
         "hovertext": [
          "Jesse Lingard"
         ],
         "legendgroup": "Jesse Lingard",
         "marker": {
          "color": "#B6E880",
          "size": [
           0
          ],
          "sizemode": "area",
          "sizeref": 0.05,
          "symbol": "circle"
         },
         "mode": "markers",
         "name": "Jesse Lingard",
         "showlegend": true,
         "type": "scatter",
         "x": [
          -1.1104203211143613
         ],
         "xaxis": "x",
         "y": [
          1.1104203211143613
         ],
         "yaxis": "y"
        },
        {
         "hovertemplate": "<b>%{hovertext}</b><br><br>player_name=Ross Barkley<br>Assist and XA Difference=%{x}<br>xA=%{y}<br>assists=%{marker.size}<extra></extra>",
         "hovertext": [
          "Ross Barkley"
         ],
         "legendgroup": "Ross Barkley",
         "marker": {
          "color": "#FF97FF",
          "size": [
           4
          ],
          "sizemode": "area",
          "sizeref": 0.05,
          "symbol": "circle"
         },
         "mode": "markers",
         "name": "Ross Barkley",
         "showlegend": true,
         "type": "scatter",
         "x": [
          1.1397564429789782
         ],
         "xaxis": "x",
         "y": [
          2.860243557021022
         ],
         "yaxis": "y"
        },
        {
         "hovertemplate": "<b>%{hovertext}</b><br><br>player_name=Tom Cleverley<br>Assist and XA Difference=%{x}<br>xA=%{y}<br>assists=%{marker.size}<extra></extra>",
         "hovertext": [
          "Tom Cleverley"
         ],
         "legendgroup": "Tom Cleverley",
         "marker": {
          "color": "#FECB52",
          "size": [
           0
          ],
          "sizemode": "area",
          "sizeref": 0.05,
          "symbol": "circle"
         },
         "mode": "markers",
         "name": "Tom Cleverley",
         "showlegend": true,
         "type": "scatter",
         "x": [
          -0.7182993106544018
         ],
         "xaxis": "x",
         "y": [
          0.7182993106544018
         ],
         "yaxis": "y"
        },
        {
         "hovertemplate": "<b>%{hovertext}</b><br><br>player_name=Andros Townsend<br>Assist and XA Difference=%{x}<br>xA=%{y}<br>assists=%{marker.size}<extra></extra>",
         "hovertext": [
          "Andros Townsend"
         ],
         "legendgroup": "Andros Townsend",
         "marker": {
          "color": "#636efa",
          "size": [
           1
          ],
          "sizemode": "area",
          "sizeref": 0.05,
          "symbol": "circle"
         },
         "mode": "markers",
         "name": "Andros Townsend",
         "showlegend": true,
         "type": "scatter",
         "x": [
          -0.7137907668948174
         ],
         "xaxis": "x",
         "y": [
          1.7137907668948174
         ],
         "yaxis": "y"
        },
        {
         "hovertemplate": "<b>%{hovertext}</b><br><br>player_name=Robbie Brady<br>Assist and XA Difference=%{x}<br>xA=%{y}<br>assists=%{marker.size}<extra></extra>",
         "hovertext": [
          "Robbie Brady"
         ],
         "legendgroup": "Robbie Brady",
         "marker": {
          "color": "#EF553B",
          "size": [
           2
          ],
          "sizemode": "area",
          "sizeref": 0.05,
          "symbol": "circle"
         },
         "mode": "markers",
         "name": "Robbie Brady",
         "showlegend": true,
         "type": "scatter",
         "x": [
          1.6824502609670162
         ],
         "xaxis": "x",
         "y": [
          0.3175497390329838
         ],
         "yaxis": "y"
        },
        {
         "hovertemplate": "<b>%{hovertext}</b><br><br>player_name=Xherdan Shaqiri<br>Assist and XA Difference=%{x}<br>xA=%{y}<br>assists=%{marker.size}<extra></extra>",
         "hovertext": [
          "Xherdan Shaqiri"
         ],
         "legendgroup": "Xherdan Shaqiri",
         "marker": {
          "color": "#00cc96",
          "size": [
           0
          ],
          "sizemode": "area",
          "sizeref": 0.05,
          "symbol": "circle"
         },
         "mode": "markers",
         "name": "Xherdan Shaqiri",
         "showlegend": true,
         "type": "scatter",
         "x": [
          -0.1784982606768608
         ],
         "xaxis": "x",
         "y": [
          0.1784982606768608
         ],
         "yaxis": "y"
        },
        {
         "hovertemplate": "<b>%{hovertext}</b><br><br>player_name=Andreas Pereira<br>Assist and XA Difference=%{x}<br>xA=%{y}<br>assists=%{marker.size}<extra></extra>",
         "hovertext": [
          "Andreas Pereira"
         ],
         "legendgroup": "Andreas Pereira",
         "marker": {
          "color": "#ab63fa",
          "size": [
           3
          ],
          "sizemode": "area",
          "sizeref": 0.05,
          "symbol": "circle"
         },
         "mode": "markers",
         "name": "Andreas Pereira",
         "showlegend": true,
         "type": "scatter",
         "x": [
          -0.7079232446849351
         ],
         "xaxis": "x",
         "y": [
          3.707923244684935
         ],
         "yaxis": "y"
        },
        {
         "hovertemplate": "<b>%{hovertext}</b><br><br>player_name=Tom Davies<br>Assist and XA Difference=%{x}<br>xA=%{y}<br>assists=%{marker.size}<extra></extra>",
         "hovertext": [
          "Tom Davies"
         ],
         "legendgroup": "Tom Davies",
         "marker": {
          "color": "#FFA15A",
          "size": [
           0
          ],
          "sizemode": "area",
          "sizeref": 0.05,
          "symbol": "circle"
         },
         "mode": "markers",
         "name": "Tom Davies",
         "showlegend": true,
         "type": "scatter",
         "x": [
          -0.5344789810478687
         ],
         "xaxis": "x",
         "y": [
          0.5344789810478687
         ],
         "yaxis": "y"
        },
        {
         "hovertemplate": "<b>%{hovertext}</b><br><br>player_name=Felipe Anderson<br>Assist and XA Difference=%{x}<br>xA=%{y}<br>assists=%{marker.size}<extra></extra>",
         "hovertext": [
          "Felipe Anderson"
         ],
         "legendgroup": "Felipe Anderson",
         "marker": {
          "color": "#19d3f3",
          "size": [
           4
          ],
          "sizemode": "area",
          "sizeref": 0.05,
          "symbol": "circle"
         },
         "mode": "markers",
         "name": "Felipe Anderson",
         "showlegend": true,
         "type": "scatter",
         "x": [
          1.3525222204625602
         ],
         "xaxis": "x",
         "y": [
          2.64747777953744
         ],
         "yaxis": "y"
        },
        {
         "hovertemplate": "<b>%{hovertext}</b><br><br>player_name=Lucas Torreira<br>Assist and XA Difference=%{x}<br>xA=%{y}<br>assists=%{marker.size}<extra></extra>",
         "hovertext": [
          "Lucas Torreira"
         ],
         "legendgroup": "Lucas Torreira",
         "marker": {
          "color": "#FF6692",
          "size": [
           1
          ],
          "sizemode": "area",
          "sizeref": 0.05,
          "symbol": "circle"
         },
         "mode": "markers",
         "name": "Lucas Torreira",
         "showlegend": true,
         "type": "scatter",
         "x": [
          0.17419202718883753
         ],
         "xaxis": "x",
         "y": [
          0.8258079728111625
         ],
         "yaxis": "y"
        },
        {
         "hovertemplate": "<b>%{hovertext}</b><br><br>player_name=Dennis Praet<br>Assist and XA Difference=%{x}<br>xA=%{y}<br>assists=%{marker.size}<extra></extra>",
         "hovertext": [
          "Dennis Praet"
         ],
         "legendgroup": "Dennis Praet",
         "marker": {
          "color": "#B6E880",
          "size": [
           2
          ],
          "sizemode": "area",
          "sizeref": 0.05,
          "symbol": "circle"
         },
         "mode": "markers",
         "name": "Dennis Praet",
         "showlegend": true,
         "type": "scatter",
         "x": [
          0.5071192793548107
         ],
         "xaxis": "x",
         "y": [
          1.4928807206451893
         ],
         "yaxis": "y"
        },
        {
         "hovertemplate": "<b>%{hovertext}</b><br><br>player_name=Johann Berg Gudmundsson<br>Assist and XA Difference=%{x}<br>xA=%{y}<br>assists=%{marker.size}<extra></extra>",
         "hovertext": [
          "Johann Berg Gudmundsson"
         ],
         "legendgroup": "Johann Berg Gudmundsson",
         "marker": {
          "color": "#FF97FF",
          "size": [
           1
          ],
          "sizemode": "area",
          "sizeref": 0.05,
          "symbol": "circle"
         },
         "mode": "markers",
         "name": "Johann Berg Gudmundsson",
         "showlegend": true,
         "type": "scatter",
         "x": [
          0.08192575722932816
         ],
         "xaxis": "x",
         "y": [
          0.9180742427706718
         ],
         "yaxis": "y"
        },
        {
         "hovertemplate": "<b>%{hovertext}</b><br><br>player_name=Paul Pogba<br>Assist and XA Difference=%{x}<br>xA=%{y}<br>assists=%{marker.size}<extra></extra>",
         "hovertext": [
          "Paul Pogba"
         ],
         "legendgroup": "Paul Pogba",
         "marker": {
          "color": "#FECB52",
          "size": [
           3
          ],
          "sizemode": "area",
          "sizeref": 0.05,
          "symbol": "circle"
         },
         "mode": "markers",
         "name": "Paul Pogba",
         "showlegend": true,
         "type": "scatter",
         "x": [
          -0.0561917126178737
         ],
         "xaxis": "x",
         "y": [
          3.0561917126178737
         ],
         "yaxis": "y"
        },
        {
         "hovertemplate": "<b>%{hovertext}</b><br><br>player_name=Jarrod Bowen<br>Assist and XA Difference=%{x}<br>xA=%{y}<br>assists=%{marker.size}<extra></extra>",
         "hovertext": [
          "Jarrod Bowen"
         ],
         "legendgroup": "Jarrod Bowen",
         "marker": {
          "color": "#636efa",
          "size": [
           4
          ],
          "sizemode": "area",
          "sizeref": 0.05,
          "symbol": "circle"
         },
         "mode": "markers",
         "name": "Jarrod Bowen",
         "showlegend": true,
         "type": "scatter",
         "x": [
          1.3876019865274434
         ],
         "xaxis": "x",
         "y": [
          2.6123980134725566
         ],
         "yaxis": "y"
        },
        {
         "hovertemplate": "<b>%{hovertext}</b><br><br>player_name=Jefferson Lerma<br>Assist and XA Difference=%{x}<br>xA=%{y}<br>assists=%{marker.size}<extra></extra>",
         "hovertext": [
          "Jefferson Lerma"
         ],
         "legendgroup": "Jefferson Lerma",
         "marker": {
          "color": "#EF553B",
          "size": [
           2
          ],
          "sizemode": "area",
          "sizeref": 0.05,
          "symbol": "circle"
         },
         "mode": "markers",
         "name": "Jefferson Lerma",
         "showlegend": true,
         "type": "scatter",
         "x": [
          0.4686969192698598
         ],
         "xaxis": "x",
         "y": [
          1.5313030807301402
         ],
         "yaxis": "y"
        },
        {
         "hovertemplate": "<b>%{hovertext}</b><br><br>player_name=Emiliano Buendía<br>Assist and XA Difference=%{x}<br>xA=%{y}<br>assists=%{marker.size}<extra></extra>",
         "hovertext": [
          "Emiliano Buendía"
         ],
         "legendgroup": "Emiliano Buendía",
         "marker": {
          "color": "#00cc96",
          "size": [
           7
          ],
          "sizemode": "area",
          "sizeref": 0.05,
          "symbol": "circle"
         },
         "mode": "markers",
         "name": "Emiliano Buendía",
         "showlegend": true,
         "type": "scatter",
         "x": [
          -0.19096221216023057
         ],
         "xaxis": "x",
         "y": [
          7.190962212160231
         ],
         "yaxis": "y"
        },
        {
         "hovertemplate": "<b>%{hovertext}</b><br><br>player_name=Mateo Kovacic<br>Assist and XA Difference=%{x}<br>xA=%{y}<br>assists=%{marker.size}<extra></extra>",
         "hovertext": [
          "Mateo Kovacic"
         ],
         "legendgroup": "Mateo Kovacic",
         "marker": {
          "color": "#ab63fa",
          "size": [
           3
          ],
          "sizemode": "area",
          "sizeref": 0.05,
          "symbol": "circle"
         },
         "mode": "markers",
         "name": "Mateo Kovacic",
         "showlegend": true,
         "type": "scatter",
         "x": [
          1.1515468042343855
         ],
         "xaxis": "x",
         "y": [
          1.8484531957656145
         ],
         "yaxis": "y"
        },
        {
         "hovertemplate": "<b>%{hovertext}</b><br><br>player_name=João Moutinho<br>Assist and XA Difference=%{x}<br>xA=%{y}<br>assists=%{marker.size}<extra></extra>",
         "hovertext": [
          "João Moutinho"
         ],
         "legendgroup": "João Moutinho",
         "marker": {
          "color": "#FFA15A",
          "size": [
           6
          ],
          "sizemode": "area",
          "sizeref": 0.05,
          "symbol": "circle"
         },
         "mode": "markers",
         "name": "João Moutinho",
         "showlegend": true,
         "type": "scatter",
         "x": [
          -0.7750435490161172
         ],
         "xaxis": "x",
         "y": [
          6.775043549016117
         ],
         "yaxis": "y"
        },
        {
         "hovertemplate": "<b>%{hovertext}</b><br><br>player_name=Yves Bissouma<br>Assist and XA Difference=%{x}<br>xA=%{y}<br>assists=%{marker.size}<extra></extra>",
         "hovertext": [
          "Yves Bissouma"
         ],
         "legendgroup": "Yves Bissouma",
         "marker": {
          "color": "#19d3f3",
          "size": [
           0
          ],
          "sizemode": "area",
          "sizeref": 0.05,
          "symbol": "circle"
         },
         "mode": "markers",
         "name": "Yves Bissouma",
         "showlegend": true,
         "type": "scatter",
         "x": [
          -0.13574092276394367
         ],
         "xaxis": "x",
         "y": [
          0.13574092276394367
         ],
         "yaxis": "y"
        },
        {
         "hovertemplate": "<b>%{hovertext}</b><br><br>player_name=Philip Billing<br>Assist and XA Difference=%{x}<br>xA=%{y}<br>assists=%{marker.size}<extra></extra>",
         "hovertext": [
          "Philip Billing"
         ],
         "legendgroup": "Philip Billing",
         "marker": {
          "color": "#FF6692",
          "size": [
           1
          ],
          "sizemode": "area",
          "sizeref": 0.05,
          "symbol": "circle"
         },
         "mode": "markers",
         "name": "Philip Billing",
         "showlegend": true,
         "type": "scatter",
         "x": [
          -0.4344308190047741
         ],
         "xaxis": "x",
         "y": [
          1.434430819004774
         ],
         "yaxis": "y"
        },
        {
         "hovertemplate": "<b>%{hovertext}</b><br><br>player_name=Davy Pröpper<br>Assist and XA Difference=%{x}<br>xA=%{y}<br>assists=%{marker.size}<extra></extra>",
         "hovertext": [
          "Davy Pröpper"
         ],
         "legendgroup": "Davy Pröpper",
         "marker": {
          "color": "#B6E880",
          "size": [
           2
          ],
          "sizemode": "area",
          "sizeref": 0.05,
          "symbol": "circle"
         },
         "mode": "markers",
         "name": "Davy Pröpper",
         "showlegend": true,
         "type": "scatter",
         "x": [
          -0.9777765087783337
         ],
         "xaxis": "x",
         "y": [
          2.9777765087783337
         ],
         "yaxis": "y"
        },
        {
         "hovertemplate": "<b>%{hovertext}</b><br><br>player_name=Will Hughes<br>Assist and XA Difference=%{x}<br>xA=%{y}<br>assists=%{marker.size}<extra></extra>",
         "hovertext": [
          "Will Hughes"
         ],
         "legendgroup": "Will Hughes",
         "marker": {
          "color": "#FF97FF",
          "size": [
           1
          ],
          "sizemode": "area",
          "sizeref": 0.05,
          "symbol": "circle"
         },
         "mode": "markers",
         "name": "Will Hughes",
         "showlegend": true,
         "type": "scatter",
         "x": [
          -1.1773148719221358
         ],
         "xaxis": "x",
         "y": [
          2.177314871922136
         ],
         "yaxis": "y"
        },
        {
         "hovertemplate": "<b>%{hovertext}</b><br><br>player_name=Hamza Choudhury<br>Assist and XA Difference=%{x}<br>xA=%{y}<br>assists=%{marker.size}<extra></extra>",
         "hovertext": [
          "Hamza Choudhury"
         ],
         "legendgroup": "Hamza Choudhury",
         "marker": {
          "color": "#FECB52",
          "size": [
           1
          ],
          "sizemode": "area",
          "sizeref": 0.05,
          "symbol": "circle"
         },
         "mode": "markers",
         "name": "Hamza Choudhury",
         "showlegend": true,
         "type": "scatter",
         "x": [
          0.8871623575687408
         ],
         "xaxis": "x",
         "y": [
          0.11283764243125916
         ],
         "yaxis": "y"
        },
        {
         "hovertemplate": "<b>%{hovertext}</b><br><br>player_name=Joe Willock<br>Assist and XA Difference=%{x}<br>xA=%{y}<br>assists=%{marker.size}<extra></extra>",
         "hovertext": [
          "Joe Willock"
         ],
         "legendgroup": "Joe Willock",
         "marker": {
          "color": "#636efa",
          "size": [
           1
          ],
          "sizemode": "area",
          "sizeref": 0.05,
          "symbol": "circle"
         },
         "mode": "markers",
         "name": "Joe Willock",
         "showlegend": true,
         "type": "scatter",
         "x": [
          -0.046809496358036995
         ],
         "xaxis": "x",
         "y": [
          1.046809496358037
         ],
         "yaxis": "y"
        },
        {
         "hovertemplate": "<b>%{hovertext}</b><br><br>player_name=Curtis Jones<br>Assist and XA Difference=%{x}<br>xA=%{y}<br>assists=%{marker.size}<extra></extra>",
         "hovertext": [
          "Curtis Jones"
         ],
         "legendgroup": "Curtis Jones",
         "marker": {
          "color": "#EF553B",
          "size": [
           0
          ],
          "sizemode": "area",
          "sizeref": 0.05,
          "symbol": "circle"
         },
         "mode": "markers",
         "name": "Curtis Jones",
         "showlegend": true,
         "type": "scatter",
         "x": [
          0
         ],
         "xaxis": "x",
         "y": [
          0
         ],
         "yaxis": "y"
        },
        {
         "hovertemplate": "<b>%{hovertext}</b><br><br>player_name=David Brooks<br>Assist and XA Difference=%{x}<br>xA=%{y}<br>assists=%{marker.size}<extra></extra>",
         "hovertext": [
          "David Brooks"
         ],
         "legendgroup": "David Brooks",
         "marker": {
          "color": "#00cc96",
          "size": [
           0
          ],
          "sizemode": "area",
          "sizeref": 0.05,
          "symbol": "circle"
         },
         "mode": "markers",
         "name": "David Brooks",
         "showlegend": true,
         "type": "scatter",
         "x": [
          -0.5346464300528169
         ],
         "xaxis": "x",
         "y": [
          0.5346464300528169
         ],
         "yaxis": "y"
        },
        {
         "hovertemplate": "<b>%{hovertext}</b><br><br>player_name=Sean Longstaff<br>Assist and XA Difference=%{x}<br>xA=%{y}<br>assists=%{marker.size}<extra></extra>",
         "hovertext": [
          "Sean Longstaff"
         ],
         "legendgroup": "Sean Longstaff",
         "marker": {
          "color": "#ab63fa",
          "size": [
           1
          ],
          "sizemode": "area",
          "sizeref": 0.05,
          "symbol": "circle"
         },
         "mode": "markers",
         "name": "Sean Longstaff",
         "showlegend": true,
         "type": "scatter",
         "x": [
          0.06634076498448838
         ],
         "xaxis": "x",
         "y": [
          0.9336592350155116
         ],
         "yaxis": "y"
        },
        {
         "hovertemplate": "<b>%{hovertext}</b><br><br>player_name=Kenny McLean<br>Assist and XA Difference=%{x}<br>xA=%{y}<br>assists=%{marker.size}<extra></extra>",
         "hovertext": [
          "Kenny McLean"
         ],
         "legendgroup": "Kenny McLean",
         "marker": {
          "color": "#FFA15A",
          "size": [
           1
          ],
          "sizemode": "area",
          "sizeref": 0.05,
          "symbol": "circle"
         },
         "mode": "markers",
         "name": "Kenny McLean",
         "showlegend": true,
         "type": "scatter",
         "x": [
          -1.622597435489297
         ],
         "xaxis": "x",
         "y": [
          2.622597435489297
         ],
         "yaxis": "y"
        },
        {
         "hovertemplate": "<b>%{hovertext}</b><br><br>player_name=Onel Hernández<br>Assist and XA Difference=%{x}<br>xA=%{y}<br>assists=%{marker.size}<extra></extra>",
         "hovertext": [
          "Onel Hernández"
         ],
         "legendgroup": "Onel Hernández",
         "marker": {
          "color": "#19d3f3",
          "size": [
           2
          ],
          "sizemode": "area",
          "sizeref": 0.05,
          "symbol": "circle"
         },
         "mode": "markers",
         "name": "Onel Hernández",
         "showlegend": true,
         "type": "scatter",
         "x": [
          1.0837680827826262
         ],
         "xaxis": "x",
         "y": [
          0.9162319172173738
         ],
         "yaxis": "y"
        },
        {
         "hovertemplate": "<b>%{hovertext}</b><br><br>player_name=Oliver Norwood<br>Assist and XA Difference=%{x}<br>xA=%{y}<br>assists=%{marker.size}<extra></extra>",
         "hovertext": [
          "Oliver Norwood"
         ],
         "legendgroup": "Oliver Norwood",
         "marker": {
          "color": "#FF6692",
          "size": [
           1
          ],
          "sizemode": "area",
          "sizeref": 0.05,
          "symbol": "circle"
         },
         "mode": "markers",
         "name": "Oliver Norwood",
         "showlegend": true,
         "type": "scatter",
         "x": [
          -2.8799224253743887
         ],
         "xaxis": "x",
         "y": [
          3.8799224253743887
         ],
         "yaxis": "y"
        },
        {
         "hovertemplate": "<b>%{hovertext}</b><br><br>player_name=Sander Berge<br>Assist and XA Difference=%{x}<br>xA=%{y}<br>assists=%{marker.size}<extra></extra>",
         "hovertext": [
          "Sander Berge"
         ],
         "legendgroup": "Sander Berge",
         "marker": {
          "color": "#B6E880",
          "size": [
           1
          ],
          "sizemode": "area",
          "sizeref": 0.05,
          "symbol": "circle"
         },
         "mode": "markers",
         "name": "Sander Berge",
         "showlegend": true,
         "type": "scatter",
         "x": [
          0.2856125012040138
         ],
         "xaxis": "x",
         "y": [
          0.7143874987959862
         ],
         "yaxis": "y"
        },
        {
         "hovertemplate": "<b>%{hovertext}</b><br><br>player_name=Yoshinori Muto<br>Assist and XA Difference=%{x}<br>xA=%{y}<br>assists=%{marker.size}<extra></extra>",
         "hovertext": [
          "Yoshinori Muto"
         ],
         "legendgroup": "Yoshinori Muto",
         "marker": {
          "color": "#FF97FF",
          "size": [
           0
          ],
          "sizemode": "area",
          "sizeref": 0.05,
          "symbol": "circle"
         },
         "mode": "markers",
         "name": "Yoshinori Muto",
         "showlegend": true,
         "type": "scatter",
         "x": [
          -0.014181027188897131
         ],
         "xaxis": "x",
         "y": [
          0.014181027188897131
         ],
         "yaxis": "y"
        },
        {
         "hovertemplate": "<b>%{hovertext}</b><br><br>player_name=Lukas Rupp<br>Assist and XA Difference=%{x}<br>xA=%{y}<br>assists=%{marker.size}<extra></extra>",
         "hovertext": [
          "Lukas Rupp"
         ],
         "legendgroup": "Lukas Rupp",
         "marker": {
          "color": "#FECB52",
          "size": [
           0
          ],
          "sizemode": "area",
          "sizeref": 0.05,
          "symbol": "circle"
         },
         "mode": "markers",
         "name": "Lukas Rupp",
         "showlegend": true,
         "type": "scatter",
         "x": [
          -0.7755274809896946
         ],
         "xaxis": "x",
         "y": [
          0.7755274809896946
         ],
         "yaxis": "y"
        },
        {
         "hovertemplate": "<b>%{hovertext}</b><br><br>player_name=Henrikh Mkhitaryan<br>Assist and XA Difference=%{x}<br>xA=%{y}<br>assists=%{marker.size}<extra></extra>",
         "hovertext": [
          "Henrikh Mkhitaryan"
         ],
         "legendgroup": "Henrikh Mkhitaryan",
         "marker": {
          "color": "#636efa",
          "size": [
           0
          ],
          "sizemode": "area",
          "sizeref": 0.05,
          "symbol": "circle"
         },
         "mode": "markers",
         "name": "Henrikh Mkhitaryan",
         "showlegend": true,
         "type": "scatter",
         "x": [
          -0.2743019759654999
         ],
         "xaxis": "x",
         "y": [
          0.2743019759654999
         ],
         "yaxis": "y"
        },
        {
         "hovertemplate": "<b>%{hovertext}</b><br><br>player_name=Andrew Surman<br>Assist and XA Difference=%{x}<br>xA=%{y}<br>assists=%{marker.size}<extra></extra>",
         "hovertext": [
          "Andrew Surman"
         ],
         "legendgroup": "Andrew Surman",
         "marker": {
          "color": "#EF553B",
          "size": [
           0
          ],
          "sizemode": "area",
          "sizeref": 0.05,
          "symbol": "circle"
         },
         "mode": "markers",
         "name": "Andrew Surman",
         "showlegend": true,
         "type": "scatter",
         "x": [
          -0.04897062107920647
         ],
         "xaxis": "x",
         "y": [
          0.04897062107920647
         ],
         "yaxis": "y"
        },
        {
         "hovertemplate": "<b>%{hovertext}</b><br><br>player_name=Morgan Schneiderlin<br>Assist and XA Difference=%{x}<br>xA=%{y}<br>assists=%{marker.size}<extra></extra>",
         "hovertext": [
          "Morgan Schneiderlin"
         ],
         "legendgroup": "Morgan Schneiderlin",
         "marker": {
          "color": "#00cc96",
          "size": [
           0
          ],
          "sizemode": "area",
          "sizeref": 0.05,
          "symbol": "circle"
         },
         "mode": "markers",
         "name": "Morgan Schneiderlin",
         "showlegend": true,
         "type": "scatter",
         "x": [
          -0.1284838654100895
         ],
         "xaxis": "x",
         "y": [
          0.1284838654100895
         ],
         "yaxis": "y"
        },
        {
         "hovertemplate": "<b>%{hovertext}</b><br><br>player_name=Juan Mata<br>Assist and XA Difference=%{x}<br>xA=%{y}<br>assists=%{marker.size}<extra></extra>",
         "hovertext": [
          "Juan Mata"
         ],
         "legendgroup": "Juan Mata",
         "marker": {
          "color": "#ab63fa",
          "size": [
           2
          ],
          "sizemode": "area",
          "sizeref": 0.05,
          "symbol": "circle"
         },
         "mode": "markers",
         "name": "Juan Mata",
         "showlegend": true,
         "type": "scatter",
         "x": [
          -0.10493126511573792
         ],
         "xaxis": "x",
         "y": [
          2.104931265115738
         ],
         "yaxis": "y"
        },
        {
         "hovertemplate": "<b>%{hovertext}</b><br><br>player_name=Etienne Capoue<br>Assist and XA Difference=%{x}<br>xA=%{y}<br>assists=%{marker.size}<extra></extra>",
         "hovertext": [
          "Etienne Capoue"
         ],
         "legendgroup": "Etienne Capoue",
         "marker": {
          "color": "#FFA15A",
          "size": [
           3
          ],
          "sizemode": "area",
          "sizeref": 0.05,
          "symbol": "circle"
         },
         "mode": "markers",
         "name": "Etienne Capoue",
         "showlegend": true,
         "type": "scatter",
         "x": [
          0.45675294473767325
         ],
         "xaxis": "x",
         "y": [
          2.5432470552623268
         ],
         "yaxis": "y"
        },
        {
         "hovertemplate": "<b>%{hovertext}</b><br><br>player_name=James McCarthy<br>Assist and XA Difference=%{x}<br>xA=%{y}<br>assists=%{marker.size}<extra></extra>",
         "hovertext": [
          "James McCarthy"
         ],
         "legendgroup": "James McCarthy",
         "marker": {
          "color": "#19d3f3",
          "size": [
           0
          ],
          "sizemode": "area",
          "sizeref": 0.05,
          "symbol": "circle"
         },
         "mode": "markers",
         "name": "James McCarthy",
         "showlegend": true,
         "type": "scatter",
         "x": [
          -1.398389745503664
         ],
         "xaxis": "x",
         "y": [
          1.398389745503664
         ],
         "yaxis": "y"
        },
        {
         "hovertemplate": "<b>%{hovertext}</b><br><br>player_name=Aaron Lennon<br>Assist and XA Difference=%{x}<br>xA=%{y}<br>assists=%{marker.size}<extra></extra>",
         "hovertext": [
          "Aaron Lennon"
         ],
         "legendgroup": "Aaron Lennon",
         "marker": {
          "color": "#FF6692",
          "size": [
           0
          ],
          "sizemode": "area",
          "sizeref": 0.05,
          "symbol": "circle"
         },
         "mode": "markers",
         "name": "Aaron Lennon",
         "showlegend": true,
         "type": "scatter",
         "x": [
          -0.15801358222961426
         ],
         "xaxis": "x",
         "y": [
          0.15801358222961426
         ],
         "yaxis": "y"
        },
        {
         "hovertemplate": "<b>%{hovertext}</b><br><br>player_name=James McArthur<br>Assist and XA Difference=%{x}<br>xA=%{y}<br>assists=%{marker.size}<extra></extra>",
         "hovertext": [
          "James McArthur"
         ],
         "legendgroup": "James McArthur",
         "marker": {
          "color": "#B6E880",
          "size": [
           3
          ],
          "sizemode": "area",
          "sizeref": 0.05,
          "symbol": "circle"
         },
         "mode": "markers",
         "name": "James McArthur",
         "showlegend": true,
         "type": "scatter",
         "x": [
          0.003935344517231432
         ],
         "xaxis": "x",
         "y": [
          2.9960646554827686
         ],
         "yaxis": "y"
        },
        {
         "hovertemplate": "<b>%{hovertext}</b><br><br>player_name=Carlos Sánchez<br>Assist and XA Difference=%{x}<br>xA=%{y}<br>assists=%{marker.size}<extra></extra>",
         "hovertext": [
          "Carlos Sánchez"
         ],
         "legendgroup": "Carlos Sánchez",
         "marker": {
          "color": "#FF97FF",
          "size": [
           0
          ],
          "sizemode": "area",
          "sizeref": 0.05,
          "symbol": "circle"
         },
         "mode": "markers",
         "name": "Carlos Sánchez",
         "showlegend": true,
         "type": "scatter",
         "x": [
          0
         ],
         "xaxis": "x",
         "y": [
          0
         ],
         "yaxis": "y"
        },
        {
         "hovertemplate": "<b>%{hovertext}</b><br><br>player_name=Nemanja Matic<br>Assist and XA Difference=%{x}<br>xA=%{y}<br>assists=%{marker.size}<extra></extra>",
         "hovertext": [
          "Nemanja Matic"
         ],
         "legendgroup": "Nemanja Matic",
         "marker": {
          "color": "#FECB52",
          "size": [
           2
          ],
          "sizemode": "area",
          "sizeref": 0.05,
          "symbol": "circle"
         },
         "mode": "markers",
         "name": "Nemanja Matic",
         "showlegend": true,
         "type": "scatter",
         "x": [
          1.1053492464125156
         ],
         "xaxis": "x",
         "y": [
          0.8946507535874844
         ],
         "yaxis": "y"
        },
        {
         "hovertemplate": "<b>%{hovertext}</b><br><br>player_name=Jack Cork<br>Assist and XA Difference=%{x}<br>xA=%{y}<br>assists=%{marker.size}<extra></extra>",
         "hovertext": [
          "Jack Cork"
         ],
         "legendgroup": "Jack Cork",
         "marker": {
          "color": "#636efa",
          "size": [
           0
          ],
          "sizemode": "area",
          "sizeref": 0.05,
          "symbol": "circle"
         },
         "mode": "markers",
         "name": "Jack Cork",
         "showlegend": true,
         "type": "scatter",
         "x": [
          -1.1728481724858284
         ],
         "xaxis": "x",
         "y": [
          1.1728481724858284
         ],
         "yaxis": "y"
        },
        {
         "hovertemplate": "<b>%{hovertext}</b><br><br>player_name=Ki Sung-yueng<br>Assist and XA Difference=%{x}<br>xA=%{y}<br>assists=%{marker.size}<extra></extra>",
         "hovertext": [
          "Ki Sung-yueng"
         ],
         "legendgroup": "Ki Sung-yueng",
         "marker": {
          "color": "#EF553B",
          "size": [
           0
          ],
          "sizemode": "area",
          "sizeref": 0.05,
          "symbol": "circle"
         },
         "mode": "markers",
         "name": "Ki Sung-yueng",
         "showlegend": true,
         "type": "scatter",
         "x": [
          -0.055116582661867135
         ],
         "xaxis": "x",
         "y": [
          0.055116582661867135
         ],
         "yaxis": "y"
        },
        {
         "hovertemplate": "<b>%{hovertext}</b><br><br>player_name=Daniel Drinkwater<br>Assist and XA Difference=%{x}<br>xA=%{y}<br>assists=%{marker.size}<extra></extra>",
         "hovertext": [
          "Daniel Drinkwater"
         ],
         "legendgroup": "Daniel Drinkwater",
         "marker": {
          "color": "#00cc96",
          "size": [
           0
          ],
          "sizemode": "area",
          "sizeref": 0.05,
          "symbol": "circle"
         },
         "mode": "markers",
         "name": "Daniel Drinkwater",
         "showlegend": true,
         "type": "scatter",
         "x": [
          -0.040286142379045486
         ],
         "xaxis": "x",
         "y": [
          0.040286142379045486
         ],
         "yaxis": "y"
        },
        {
         "hovertemplate": "<b>%{hovertext}</b><br><br>player_name=Marc Albrighton<br>Assist and XA Difference=%{x}<br>xA=%{y}<br>assists=%{marker.size}<extra></extra>",
         "hovertext": [
          "Marc Albrighton"
         ],
         "legendgroup": "Marc Albrighton",
         "marker": {
          "color": "#ab63fa",
          "size": [
           3
          ],
          "sizemode": "area",
          "sizeref": 0.05,
          "symbol": "circle"
         },
         "mode": "markers",
         "name": "Marc Albrighton",
         "showlegend": true,
         "type": "scatter",
         "x": [
          0.7096625305712223
         ],
         "xaxis": "x",
         "y": [
          2.2903374694287777
         ],
         "yaxis": "y"
        },
        {
         "hovertemplate": "<b>%{hovertext}</b><br><br>player_name=Oriol Romeu<br>Assist and XA Difference=%{x}<br>xA=%{y}<br>assists=%{marker.size}<extra></extra>",
         "hovertext": [
          "Oriol Romeu"
         ],
         "legendgroup": "Oriol Romeu",
         "marker": {
          "color": "#FFA15A",
          "size": [
           0
          ],
          "sizemode": "area",
          "sizeref": 0.05,
          "symbol": "circle"
         },
         "mode": "markers",
         "name": "Oriol Romeu",
         "showlegend": true,
         "type": "scatter",
         "x": [
          -1.7172301672399044
         ],
         "xaxis": "x",
         "y": [
          1.7172301672399044
         ],
         "yaxis": "y"
        },
        {
         "hovertemplate": "<b>%{hovertext}</b><br><br>player_name=Fabian Delph<br>Assist and XA Difference=%{x}<br>xA=%{y}<br>assists=%{marker.size}<extra></extra>",
         "hovertext": [
          "Fabian Delph"
         ],
         "legendgroup": "Fabian Delph",
         "marker": {
          "color": "#19d3f3",
          "size": [
           0
          ],
          "sizemode": "area",
          "sizeref": 0.05,
          "symbol": "circle"
         },
         "mode": "markers",
         "name": "Fabian Delph",
         "showlegend": true,
         "type": "scatter",
         "x": [
          -0.4789176750928164
         ],
         "xaxis": "x",
         "y": [
          0.4789176750928164
         ],
         "yaxis": "y"
        },
        {
         "hovertemplate": "<b>%{hovertext}</b><br><br>player_name=Muhamed Besic<br>Assist and XA Difference=%{x}<br>xA=%{y}<br>assists=%{marker.size}<extra></extra>",
         "hovertext": [
          "Muhamed Besic"
         ],
         "legendgroup": "Muhamed Besic",
         "marker": {
          "color": "#FF6692",
          "size": [
           0
          ],
          "sizemode": "area",
          "sizeref": 0.05,
          "symbol": "circle"
         },
         "mode": "markers",
         "name": "Muhamed Besic",
         "showlegend": true,
         "type": "scatter",
         "x": [
          -0.0868392065167427
         ],
         "xaxis": "x",
         "y": [
          0.0868392065167427
         ],
         "yaxis": "y"
        },
        {
         "hovertemplate": "<b>%{hovertext}</b><br><br>player_name=Nabil Bentaleb<br>Assist and XA Difference=%{x}<br>xA=%{y}<br>assists=%{marker.size}<extra></extra>",
         "hovertext": [
          "Nabil Bentaleb"
         ],
         "legendgroup": "Nabil Bentaleb",
         "marker": {
          "color": "#B6E880",
          "size": [
           0
          ],
          "sizemode": "area",
          "sizeref": 0.05,
          "symbol": "circle"
         },
         "mode": "markers",
         "name": "Nabil Bentaleb",
         "showlegend": true,
         "type": "scatter",
         "x": [
          -0.19530144333839414
         ],
         "xaxis": "x",
         "y": [
          0.19530144333839414
         ],
         "yaxis": "y"
        },
        {
         "hovertemplate": "<b>%{hovertext}</b><br><br>player_name=Harry Winks<br>Assist and XA Difference=%{x}<br>xA=%{y}<br>assists=%{marker.size}<extra></extra>",
         "hovertext": [
          "Harry Winks"
         ],
         "legendgroup": "Harry Winks",
         "marker": {
          "color": "#FF97FF",
          "size": [
           0
          ],
          "sizemode": "area",
          "sizeref": 0.05,
          "symbol": "circle"
         },
         "mode": "markers",
         "name": "Harry Winks",
         "showlegend": true,
         "type": "scatter",
         "x": [
          -0.8992681000381708
         ],
         "xaxis": "x",
         "y": [
          0.8992681000381708
         ],
         "yaxis": "y"
        },
        {
         "hovertemplate": "<b>%{hovertext}</b><br><br>player_name=Jack Wilshere<br>Assist and XA Difference=%{x}<br>xA=%{y}<br>assists=%{marker.size}<extra></extra>",
         "hovertext": [
          "Jack Wilshere"
         ],
         "legendgroup": "Jack Wilshere",
         "marker": {
          "color": "#FECB52",
          "size": [
           0
          ],
          "sizemode": "area",
          "sizeref": 0.05,
          "symbol": "circle"
         },
         "mode": "markers",
         "name": "Jack Wilshere",
         "showlegend": true,
         "type": "scatter",
         "x": [
          0
         ],
         "xaxis": "x",
         "y": [
          0
         ],
         "yaxis": "y"
        },
        {
         "hovertemplate": "<b>%{hovertext}</b><br><br>player_name=Moritz Leitner<br>Assist and XA Difference=%{x}<br>xA=%{y}<br>assists=%{marker.size}<extra></extra>",
         "hovertext": [
          "Moritz Leitner"
         ],
         "legendgroup": "Moritz Leitner",
         "marker": {
          "color": "#636efa",
          "size": [
           0
          ],
          "sizemode": "area",
          "sizeref": 0.05,
          "symbol": "circle"
         },
         "mode": "markers",
         "name": "Moritz Leitner",
         "showlegend": true,
         "type": "scatter",
         "x": [
          -0.3639685455709696
         ],
         "xaxis": "x",
         "y": [
          0.3639685455709696
         ],
         "yaxis": "y"
        },
        {
         "hovertemplate": "<b>%{hovertext}</b><br><br>player_name=Nathaniel Chalobah<br>Assist and XA Difference=%{x}<br>xA=%{y}<br>assists=%{marker.size}<extra></extra>",
         "hovertext": [
          "Nathaniel Chalobah"
         ],
         "legendgroup": "Nathaniel Chalobah",
         "marker": {
          "color": "#EF553B",
          "size": [
           1
          ],
          "sizemode": "area",
          "sizeref": 0.05,
          "symbol": "circle"
         },
         "mode": "markers",
         "name": "Nathaniel Chalobah",
         "showlegend": true,
         "type": "scatter",
         "x": [
          -0.6161380037665367
         ],
         "xaxis": "x",
         "y": [
          1.6161380037665367
         ],
         "yaxis": "y"
        },
        {
         "hovertemplate": "<b>%{hovertext}</b><br><br>player_name=Sofiane Boufal<br>Assist and XA Difference=%{x}<br>xA=%{y}<br>assists=%{marker.size}<extra></extra>",
         "hovertext": [
          "Sofiane Boufal"
         ],
         "legendgroup": "Sofiane Boufal",
         "marker": {
          "color": "#00cc96",
          "size": [
           2
          ],
          "sizemode": "area",
          "sizeref": 0.05,
          "symbol": "circle"
         },
         "mode": "markers",
         "name": "Sofiane Boufal",
         "showlegend": true,
         "type": "scatter",
         "x": [
          -0.6982589848339562
         ],
         "xaxis": "x",
         "y": [
          2.698258984833956
         ],
         "yaxis": "y"
        },
        {
         "hovertemplate": "<b>%{hovertext}</b><br><br>player_name=Nampalys Mendy<br>Assist and XA Difference=%{x}<br>xA=%{y}<br>assists=%{marker.size}<extra></extra>",
         "hovertext": [
          "Nampalys Mendy"
         ],
         "legendgroup": "Nampalys Mendy",
         "marker": {
          "color": "#ab63fa",
          "size": [
           0
          ],
          "sizemode": "area",
          "sizeref": 0.05,
          "symbol": "circle"
         },
         "mode": "markers",
         "name": "Nampalys Mendy",
         "showlegend": true,
         "type": "scatter",
         "x": [
          -0.08900724817067385
         ],
         "xaxis": "x",
         "y": [
          0.08900724817067385
         ],
         "yaxis": "y"
        },
        {
         "hovertemplate": "<b>%{hovertext}</b><br><br>player_name=Lewis Cook<br>Assist and XA Difference=%{x}<br>xA=%{y}<br>assists=%{marker.size}<extra></extra>",
         "hovertext": [
          "Lewis Cook"
         ],
         "legendgroup": "Lewis Cook",
         "marker": {
          "color": "#FFA15A",
          "size": [
           0
          ],
          "sizemode": "area",
          "sizeref": 0.05,
          "symbol": "circle"
         },
         "mode": "markers",
         "name": "Lewis Cook",
         "showlegend": true,
         "type": "scatter",
         "x": [
          -0.5486514251679182
         ],
         "xaxis": "x",
         "y": [
          0.5486514251679182
         ],
         "yaxis": "y"
        },
        {
         "hovertemplate": "<b>%{hovertext}</b><br><br>player_name=Christian Atsu<br>Assist and XA Difference=%{x}<br>xA=%{y}<br>assists=%{marker.size}<extra></extra>",
         "hovertext": [
          "Christian Atsu"
         ],
         "legendgroup": "Christian Atsu",
         "marker": {
          "color": "#19d3f3",
          "size": [
           3
          ],
          "sizemode": "area",
          "sizeref": 0.05,
          "symbol": "circle"
         },
         "mode": "markers",
         "name": "Christian Atsu",
         "showlegend": true,
         "type": "scatter",
         "x": [
          2.287698006257415
         ],
         "xaxis": "x",
         "y": [
          0.7123019937425852
         ],
         "yaxis": "y"
        },
        {
         "hovertemplate": "<b>%{hovertext}</b><br><br>player_name=André Gomes<br>Assist and XA Difference=%{x}<br>xA=%{y}<br>assists=%{marker.size}<extra></extra>",
         "hovertext": [
          "André Gomes"
         ],
         "legendgroup": "André Gomes",
         "marker": {
          "color": "#FF6692",
          "size": [
           1
          ],
          "sizemode": "area",
          "sizeref": 0.05,
          "symbol": "circle"
         },
         "mode": "markers",
         "name": "André Gomes",
         "showlegend": true,
         "type": "scatter",
         "x": [
          -0.10450759343802929
         ],
         "xaxis": "x",
         "y": [
          1.1045075934380293
         ],
         "yaxis": "y"
        },
        {
         "hovertemplate": "<b>%{hovertext}</b><br><br>player_name=Dani Ceballos<br>Assist and XA Difference=%{x}<br>xA=%{y}<br>assists=%{marker.size}<extra></extra>",
         "hovertext": [
          "Dani Ceballos"
         ],
         "legendgroup": "Dani Ceballos",
         "marker": {
          "color": "#B6E880",
          "size": [
           2
          ],
          "sizemode": "area",
          "sizeref": 0.05,
          "symbol": "circle"
         },
         "mode": "markers",
         "name": "Dani Ceballos",
         "showlegend": true,
         "type": "scatter",
         "x": [
          0.4238563310354948
         ],
         "xaxis": "x",
         "y": [
          1.5761436689645052
         ],
         "yaxis": "y"
        },
        {
         "hovertemplate": "<b>%{hovertext}</b><br><br>player_name=Dimitri Foulquier<br>Assist and XA Difference=%{x}<br>xA=%{y}<br>assists=%{marker.size}<extra></extra>",
         "hovertext": [
          "Dimitri Foulquier"
         ],
         "legendgroup": "Dimitri Foulquier",
         "marker": {
          "color": "#FF97FF",
          "size": [
           0
          ],
          "sizemode": "area",
          "sizeref": 0.05,
          "symbol": "circle"
         },
         "mode": "markers",
         "name": "Dimitri Foulquier",
         "showlegend": true,
         "type": "scatter",
         "x": [
          0
         ],
         "xaxis": "x",
         "y": [
          0
         ],
         "yaxis": "y"
        },
        {
         "hovertemplate": "<b>%{hovertext}</b><br><br>player_name=Jean-Philippe Gbamin<br>Assist and XA Difference=%{x}<br>xA=%{y}<br>assists=%{marker.size}<extra></extra>",
         "hovertext": [
          "Jean-Philippe Gbamin"
         ],
         "legendgroup": "Jean-Philippe Gbamin",
         "marker": {
          "color": "#FECB52",
          "size": [
           0
          ],
          "sizemode": "area",
          "sizeref": 0.05,
          "symbol": "circle"
         },
         "mode": "markers",
         "name": "Jean-Philippe Gbamin",
         "showlegend": true,
         "type": "scatter",
         "x": [
          0
         ],
         "xaxis": "x",
         "y": [
          0
         ],
         "yaxis": "y"
        },
        {
         "hovertemplate": "<b>%{hovertext}</b><br><br>player_name=Ondrej Duda<br>Assist and XA Difference=%{x}<br>xA=%{y}<br>assists=%{marker.size}<extra></extra>",
         "hovertext": [
          "Ondrej Duda"
         ],
         "legendgroup": "Ondrej Duda",
         "marker": {
          "color": "#636efa",
          "size": [
           0
          ],
          "sizemode": "area",
          "sizeref": 0.05,
          "symbol": "circle"
         },
         "mode": "markers",
         "name": "Ondrej Duda",
         "showlegend": true,
         "type": "scatter",
         "x": [
          -1.5336673818528652
         ],
         "xaxis": "x",
         "y": [
          1.5336673818528652
         ],
         "yaxis": "y"
        },
        {
         "hovertemplate": "<b>%{hovertext}</b><br><br>player_name=Giovani Lo Celso<br>Assist and XA Difference=%{x}<br>xA=%{y}<br>assists=%{marker.size}<extra></extra>",
         "hovertext": [
          "Giovani Lo Celso"
         ],
         "legendgroup": "Giovani Lo Celso",
         "marker": {
          "color": "#EF553B",
          "size": [
           2
          ],
          "sizemode": "area",
          "sizeref": 0.05,
          "symbol": "circle"
         },
         "mode": "markers",
         "name": "Giovani Lo Celso",
         "showlegend": true,
         "type": "scatter",
         "x": [
          0.2927081659436226
         ],
         "xaxis": "x",
         "y": [
          1.7072918340563774
         ],
         "yaxis": "y"
        },
        {
         "hovertemplate": "<b>%{hovertext}</b><br><br>player_name=Matteo Guendouzi<br>Assist and XA Difference=%{x}<br>xA=%{y}<br>assists=%{marker.size}<extra></extra>",
         "hovertext": [
          "Matteo Guendouzi"
         ],
         "legendgroup": "Matteo Guendouzi",
         "marker": {
          "color": "#00cc96",
          "size": [
           1
          ],
          "sizemode": "area",
          "sizeref": 0.05,
          "symbol": "circle"
         },
         "mode": "markers",
         "name": "Matteo Guendouzi",
         "showlegend": true,
         "type": "scatter",
         "x": [
          -0.06330328434705712
         ],
         "xaxis": "x",
         "y": [
          1.0633032843470571
         ],
         "yaxis": "y"
        },
        {
         "hovertemplate": "<b>%{hovertext}</b><br><br>player_name=Dale Stephens<br>Assist and XA Difference=%{x}<br>xA=%{y}<br>assists=%{marker.size}<extra></extra>",
         "hovertext": [
          "Dale Stephens"
         ],
         "legendgroup": "Dale Stephens",
         "marker": {
          "color": "#ab63fa",
          "size": [
           1
          ],
          "sizemode": "area",
          "sizeref": 0.05,
          "symbol": "circle"
         },
         "mode": "markers",
         "name": "Dale Stephens",
         "showlegend": true,
         "type": "scatter",
         "x": [
          -0.24719187803566456
         ],
         "xaxis": "x",
         "y": [
          1.2471918780356646
         ],
         "yaxis": "y"
        },
        {
         "hovertemplate": "<b>%{hovertext}</b><br><br>player_name=Fred<br>Assist and XA Difference=%{x}<br>xA=%{y}<br>assists=%{marker.size}<extra></extra>",
         "hovertext": [
          "Fred"
         ],
         "legendgroup": "Fred",
         "marker": {
          "color": "#FFA15A",
          "size": [
           0
          ],
          "sizemode": "area",
          "sizeref": 0.05,
          "symbol": "circle"
         },
         "mode": "markers",
         "name": "Fred",
         "showlegend": true,
         "type": "scatter",
         "x": [
          -2.3141325432807207
         ],
         "xaxis": "x",
         "y": [
          2.3141325432807207
         ],
         "yaxis": "y"
        },
        {
         "hovertemplate": "<b>%{hovertext}</b><br><br>player_name=Rúben Vinagre<br>Assist and XA Difference=%{x}<br>xA=%{y}<br>assists=%{marker.size}<extra></extra>",
         "hovertext": [
          "Rúben Vinagre"
         ],
         "legendgroup": "Rúben Vinagre",
         "marker": {
          "color": "#19d3f3",
          "size": [
           0
          ],
          "sizemode": "area",
          "sizeref": 0.05,
          "symbol": "circle"
         },
         "mode": "markers",
         "name": "Rúben Vinagre",
         "showlegend": true,
         "type": "scatter",
         "x": [
          -0.6194777600467205
         ],
         "xaxis": "x",
         "y": [
          0.6194777600467205
         ],
         "yaxis": "y"
        },
        {
         "hovertemplate": "<b>%{hovertext}</b><br><br>player_name=Morgan Gibbs-White<br>Assist and XA Difference=%{x}<br>xA=%{y}<br>assists=%{marker.size}<extra></extra>",
         "hovertext": [
          "Morgan Gibbs-White"
         ],
         "legendgroup": "Morgan Gibbs-White",
         "marker": {
          "color": "#FF6692",
          "size": [
           0
          ],
          "sizemode": "area",
          "sizeref": 0.05,
          "symbol": "circle"
         },
         "mode": "markers",
         "name": "Morgan Gibbs-White",
         "showlegend": true,
         "type": "scatter",
         "x": [
          -0.0708760917186737
         ],
         "xaxis": "x",
         "y": [
          0.0708760917186737
         ],
         "yaxis": "y"
        },
        {
         "hovertemplate": "<b>%{hovertext}</b><br><br>player_name=Oliver Skipp<br>Assist and XA Difference=%{x}<br>xA=%{y}<br>assists=%{marker.size}<extra></extra>",
         "hovertext": [
          "Oliver Skipp"
         ],
         "legendgroup": "Oliver Skipp",
         "marker": {
          "color": "#B6E880",
          "size": [
           0
          ],
          "sizemode": "area",
          "sizeref": 0.05,
          "symbol": "circle"
         },
         "mode": "markers",
         "name": "Oliver Skipp",
         "showlegend": true,
         "type": "scatter",
         "x": [
          0
         ],
         "xaxis": "x",
         "y": [
          0
         ],
         "yaxis": "y"
        },
        {
         "hovertemplate": "<b>%{hovertext}</b><br><br>player_name=Emile Smith-Rowe<br>Assist and XA Difference=%{x}<br>xA=%{y}<br>assists=%{marker.size}<extra></extra>",
         "hovertext": [
          "Emile Smith-Rowe"
         ],
         "legendgroup": "Emile Smith-Rowe",
         "marker": {
          "color": "#FF97FF",
          "size": [
           0
          ],
          "sizemode": "area",
          "sizeref": 0.05,
          "symbol": "circle"
         },
         "mode": "markers",
         "name": "Emile Smith-Rowe",
         "showlegend": true,
         "type": "scatter",
         "x": [
          0
         ],
         "xaxis": "x",
         "y": [
          0
         ],
         "yaxis": "y"
        },
        {
         "hovertemplate": "<b>%{hovertext}</b><br><br>player_name=Tom Trybull<br>Assist and XA Difference=%{x}<br>xA=%{y}<br>assists=%{marker.size}<extra></extra>",
         "hovertext": [
          "Tom Trybull"
         ],
         "legendgroup": "Tom Trybull",
         "marker": {
          "color": "#FECB52",
          "size": [
           0
          ],
          "sizemode": "area",
          "sizeref": 0.05,
          "symbol": "circle"
         },
         "mode": "markers",
         "name": "Tom Trybull",
         "showlegend": true,
         "type": "scatter",
         "x": [
          -0.1500192228704691
         ],
         "xaxis": "x",
         "y": [
          0.1500192228704691
         ],
         "yaxis": "y"
        },
        {
         "hovertemplate": "<b>%{hovertext}</b><br><br>player_name=Marco Stiepermann<br>Assist and XA Difference=%{x}<br>xA=%{y}<br>assists=%{marker.size}<extra></extra>",
         "hovertext": [
          "Marco Stiepermann"
         ],
         "legendgroup": "Marco Stiepermann",
         "marker": {
          "color": "#636efa",
          "size": [
           0
          ],
          "sizemode": "area",
          "sizeref": 0.05,
          "symbol": "circle"
         },
         "mode": "markers",
         "name": "Marco Stiepermann",
         "showlegend": true,
         "type": "scatter",
         "x": [
          -0.9374048952013254
         ],
         "xaxis": "x",
         "y": [
          0.9374048952013254
         ],
         "yaxis": "y"
        },
        {
         "hovertemplate": "<b>%{hovertext}</b><br><br>player_name=Luke Freeman<br>Assist and XA Difference=%{x}<br>xA=%{y}<br>assists=%{marker.size}<extra></extra>",
         "hovertext": [
          "Luke Freeman"
         ],
         "legendgroup": "Luke Freeman",
         "marker": {
          "color": "#EF553B",
          "size": [
           0
          ],
          "sizemode": "area",
          "sizeref": 0.05,
          "symbol": "circle"
         },
         "mode": "markers",
         "name": "Luke Freeman",
         "showlegend": true,
         "type": "scatter",
         "x": [
          -0.18556103855371475
         ],
         "xaxis": "x",
         "y": [
          0.18556103855371475
         ],
         "yaxis": "y"
        },
        {
         "hovertemplate": "<b>%{hovertext}</b><br><br>player_name=Ben Osborn<br>Assist and XA Difference=%{x}<br>xA=%{y}<br>assists=%{marker.size}<extra></extra>",
         "hovertext": [
          "Ben Osborn"
         ],
         "legendgroup": "Ben Osborn",
         "marker": {
          "color": "#00cc96",
          "size": [
           0
          ],
          "sizemode": "area",
          "sizeref": 0.05,
          "symbol": "circle"
         },
         "mode": "markers",
         "name": "Ben Osborn",
         "showlegend": true,
         "type": "scatter",
         "x": [
          -0.8878793343901634
         ],
         "xaxis": "x",
         "y": [
          0.8878793343901634
         ],
         "yaxis": "y"
        },
        {
         "hovertemplate": "<b>%{hovertext}</b><br><br>player_name=Henri Lansbury<br>Assist and XA Difference=%{x}<br>xA=%{y}<br>assists=%{marker.size}<extra></extra>",
         "hovertext": [
          "Henri Lansbury"
         ],
         "legendgroup": "Henri Lansbury",
         "marker": {
          "color": "#ab63fa",
          "size": [
           0
          ],
          "sizemode": "area",
          "sizeref": 0.05,
          "symbol": "circle"
         },
         "mode": "markers",
         "name": "Henri Lansbury",
         "showlegend": true,
         "type": "scatter",
         "x": [
          -0.06579376012086867
         ],
         "xaxis": "x",
         "y": [
          0.06579376012086867
         ],
         "yaxis": "y"
        },
        {
         "hovertemplate": "<b>%{hovertext}</b><br><br>player_name=Billy Gilmour<br>Assist and XA Difference=%{x}<br>xA=%{y}<br>assists=%{marker.size}<extra></extra>",
         "hovertext": [
          "Billy Gilmour"
         ],
         "legendgroup": "Billy Gilmour",
         "marker": {
          "color": "#FFA15A",
          "size": [
           0
          ],
          "sizemode": "area",
          "sizeref": 0.05,
          "symbol": "circle"
         },
         "mode": "markers",
         "name": "Billy Gilmour",
         "showlegend": true,
         "type": "scatter",
         "x": [
          -0.18802570179104805
         ],
         "xaxis": "x",
         "y": [
          0.18802570179104805
         ],
         "yaxis": "y"
        },
        {
         "hovertemplate": "<b>%{hovertext}</b><br><br>player_name=Marvelous Nakamba<br>Assist and XA Difference=%{x}<br>xA=%{y}<br>assists=%{marker.size}<extra></extra>",
         "hovertext": [
          "Marvelous Nakamba"
         ],
         "legendgroup": "Marvelous Nakamba",
         "marker": {
          "color": "#19d3f3",
          "size": [
           0
          ],
          "sizemode": "area",
          "sizeref": 0.05,
          "symbol": "circle"
         },
         "mode": "markers",
         "name": "Marvelous Nakamba",
         "showlegend": true,
         "type": "scatter",
         "x": [
          -0.5477455304935575
         ],
         "xaxis": "x",
         "y": [
          0.5477455304935575
         ],
         "yaxis": "y"
        },
        {
         "hovertemplate": "<b>%{hovertext}</b><br><br>player_name=Arnaut Danjuma Groeneveld<br>Assist and XA Difference=%{x}<br>xA=%{y}<br>assists=%{marker.size}<extra></extra>",
         "hovertext": [
          "Arnaut Danjuma Groeneveld"
         ],
         "legendgroup": "Arnaut Danjuma Groeneveld",
         "marker": {
          "color": "#FF6692",
          "size": [
           0
          ],
          "sizemode": "area",
          "sizeref": 0.05,
          "symbol": "circle"
         },
         "mode": "markers",
         "name": "Arnaut Danjuma Groeneveld",
         "showlegend": true,
         "type": "scatter",
         "x": [
          -0.16391022875905034
         ],
         "xaxis": "x",
         "y": [
          0.16391022875905034
         ],
         "yaxis": "y"
        },
        {
         "hovertemplate": "<b>%{hovertext}</b><br><br>player_name=Anthony Gordon<br>Assist and XA Difference=%{x}<br>xA=%{y}<br>assists=%{marker.size}<extra></extra>",
         "hovertext": [
          "Anthony Gordon"
         ],
         "legendgroup": "Anthony Gordon",
         "marker": {
          "color": "#B6E880",
          "size": [
           1
          ],
          "sizemode": "area",
          "sizeref": 0.05,
          "symbol": "circle"
         },
         "mode": "markers",
         "name": "Anthony Gordon",
         "showlegend": true,
         "type": "scatter",
         "x": [
          0.6600502505898476
         ],
         "xaxis": "x",
         "y": [
          0.33994974941015244
         ],
         "yaxis": "y"
        },
        {
         "hovertemplate": "<b>%{hovertext}</b><br><br>player_name=William Smallbone<br>Assist and XA Difference=%{x}<br>xA=%{y}<br>assists=%{marker.size}<extra></extra>",
         "hovertext": [
          "William Smallbone"
         ],
         "legendgroup": "William Smallbone",
         "marker": {
          "color": "#FF97FF",
          "size": [
           2
          ],
          "sizemode": "area",
          "sizeref": 0.05,
          "symbol": "circle"
         },
         "mode": "markers",
         "name": "William Smallbone",
         "showlegend": true,
         "type": "scatter",
         "x": [
          1.8278290145099163
         ],
         "xaxis": "x",
         "y": [
          0.1721709854900837
         ],
         "yaxis": "y"
        },
        {
         "hovertemplate": "<b>%{hovertext}</b><br><br>player_name=Josh Brownhill<br>Assist and XA Difference=%{x}<br>xA=%{y}<br>assists=%{marker.size}<extra></extra>",
         "hovertext": [
          "Josh Brownhill"
         ],
         "legendgroup": "Josh Brownhill",
         "marker": {
          "color": "#FECB52",
          "size": [
           0
          ],
          "sizemode": "area",
          "sizeref": 0.05,
          "symbol": "circle"
         },
         "mode": "markers",
         "name": "Josh Brownhill",
         "showlegend": true,
         "type": "scatter",
         "x": [
          -0.12225658446550368
         ],
         "xaxis": "x",
         "y": [
          0.12225658446550368
         ],
         "yaxis": "y"
        },
        {
         "hovertemplate": "<b>%{hovertext}</b><br><br>player_name=Luke Thomas<br>Assist and XA Difference=%{x}<br>xA=%{y}<br>assists=%{marker.size}<extra></extra>",
         "hovertext": [
          "Luke Thomas"
         ],
         "legendgroup": "Luke Thomas",
         "marker": {
          "color": "#636efa",
          "size": [
           1
          ],
          "sizemode": "area",
          "sizeref": 0.05,
          "symbol": "circle"
         },
         "mode": "markers",
         "name": "Luke Thomas",
         "showlegend": true,
         "type": "scatter",
         "x": [
          0.37001819908618927
         ],
         "xaxis": "x",
         "y": [
          0.6299818009138107
         ],
         "yaxis": "y"
        }
       ],
       "layout": {
        "legend": {
         "itemsizing": "constant",
         "title": {
          "text": "player_name"
         },
         "tracegroupgap": 0
        },
        "template": {
         "data": {
          "bar": [
           {
            "error_x": {
             "color": "#2a3f5f"
            },
            "error_y": {
             "color": "#2a3f5f"
            },
            "marker": {
             "line": {
              "color": "#E5ECF6",
              "width": 0.5
             }
            },
            "type": "bar"
           }
          ],
          "barpolar": [
           {
            "marker": {
             "line": {
              "color": "#E5ECF6",
              "width": 0.5
             }
            },
            "type": "barpolar"
           }
          ],
          "carpet": [
           {
            "aaxis": {
             "endlinecolor": "#2a3f5f",
             "gridcolor": "white",
             "linecolor": "white",
             "minorgridcolor": "white",
             "startlinecolor": "#2a3f5f"
            },
            "baxis": {
             "endlinecolor": "#2a3f5f",
             "gridcolor": "white",
             "linecolor": "white",
             "minorgridcolor": "white",
             "startlinecolor": "#2a3f5f"
            },
            "type": "carpet"
           }
          ],
          "choropleth": [
           {
            "colorbar": {
             "outlinewidth": 0,
             "ticks": ""
            },
            "type": "choropleth"
           }
          ],
          "contour": [
           {
            "colorbar": {
             "outlinewidth": 0,
             "ticks": ""
            },
            "colorscale": [
             [
              0,
              "#0d0887"
             ],
             [
              0.1111111111111111,
              "#46039f"
             ],
             [
              0.2222222222222222,
              "#7201a8"
             ],
             [
              0.3333333333333333,
              "#9c179e"
             ],
             [
              0.4444444444444444,
              "#bd3786"
             ],
             [
              0.5555555555555556,
              "#d8576b"
             ],
             [
              0.6666666666666666,
              "#ed7953"
             ],
             [
              0.7777777777777778,
              "#fb9f3a"
             ],
             [
              0.8888888888888888,
              "#fdca26"
             ],
             [
              1,
              "#f0f921"
             ]
            ],
            "type": "contour"
           }
          ],
          "contourcarpet": [
           {
            "colorbar": {
             "outlinewidth": 0,
             "ticks": ""
            },
            "type": "contourcarpet"
           }
          ],
          "heatmap": [
           {
            "colorbar": {
             "outlinewidth": 0,
             "ticks": ""
            },
            "colorscale": [
             [
              0,
              "#0d0887"
             ],
             [
              0.1111111111111111,
              "#46039f"
             ],
             [
              0.2222222222222222,
              "#7201a8"
             ],
             [
              0.3333333333333333,
              "#9c179e"
             ],
             [
              0.4444444444444444,
              "#bd3786"
             ],
             [
              0.5555555555555556,
              "#d8576b"
             ],
             [
              0.6666666666666666,
              "#ed7953"
             ],
             [
              0.7777777777777778,
              "#fb9f3a"
             ],
             [
              0.8888888888888888,
              "#fdca26"
             ],
             [
              1,
              "#f0f921"
             ]
            ],
            "type": "heatmap"
           }
          ],
          "heatmapgl": [
           {
            "colorbar": {
             "outlinewidth": 0,
             "ticks": ""
            },
            "colorscale": [
             [
              0,
              "#0d0887"
             ],
             [
              0.1111111111111111,
              "#46039f"
             ],
             [
              0.2222222222222222,
              "#7201a8"
             ],
             [
              0.3333333333333333,
              "#9c179e"
             ],
             [
              0.4444444444444444,
              "#bd3786"
             ],
             [
              0.5555555555555556,
              "#d8576b"
             ],
             [
              0.6666666666666666,
              "#ed7953"
             ],
             [
              0.7777777777777778,
              "#fb9f3a"
             ],
             [
              0.8888888888888888,
              "#fdca26"
             ],
             [
              1,
              "#f0f921"
             ]
            ],
            "type": "heatmapgl"
           }
          ],
          "histogram": [
           {
            "marker": {
             "colorbar": {
              "outlinewidth": 0,
              "ticks": ""
             }
            },
            "type": "histogram"
           }
          ],
          "histogram2d": [
           {
            "colorbar": {
             "outlinewidth": 0,
             "ticks": ""
            },
            "colorscale": [
             [
              0,
              "#0d0887"
             ],
             [
              0.1111111111111111,
              "#46039f"
             ],
             [
              0.2222222222222222,
              "#7201a8"
             ],
             [
              0.3333333333333333,
              "#9c179e"
             ],
             [
              0.4444444444444444,
              "#bd3786"
             ],
             [
              0.5555555555555556,
              "#d8576b"
             ],
             [
              0.6666666666666666,
              "#ed7953"
             ],
             [
              0.7777777777777778,
              "#fb9f3a"
             ],
             [
              0.8888888888888888,
              "#fdca26"
             ],
             [
              1,
              "#f0f921"
             ]
            ],
            "type": "histogram2d"
           }
          ],
          "histogram2dcontour": [
           {
            "colorbar": {
             "outlinewidth": 0,
             "ticks": ""
            },
            "colorscale": [
             [
              0,
              "#0d0887"
             ],
             [
              0.1111111111111111,
              "#46039f"
             ],
             [
              0.2222222222222222,
              "#7201a8"
             ],
             [
              0.3333333333333333,
              "#9c179e"
             ],
             [
              0.4444444444444444,
              "#bd3786"
             ],
             [
              0.5555555555555556,
              "#d8576b"
             ],
             [
              0.6666666666666666,
              "#ed7953"
             ],
             [
              0.7777777777777778,
              "#fb9f3a"
             ],
             [
              0.8888888888888888,
              "#fdca26"
             ],
             [
              1,
              "#f0f921"
             ]
            ],
            "type": "histogram2dcontour"
           }
          ],
          "mesh3d": [
           {
            "colorbar": {
             "outlinewidth": 0,
             "ticks": ""
            },
            "type": "mesh3d"
           }
          ],
          "parcoords": [
           {
            "line": {
             "colorbar": {
              "outlinewidth": 0,
              "ticks": ""
             }
            },
            "type": "parcoords"
           }
          ],
          "pie": [
           {
            "automargin": true,
            "type": "pie"
           }
          ],
          "scatter": [
           {
            "marker": {
             "colorbar": {
              "outlinewidth": 0,
              "ticks": ""
             }
            },
            "type": "scatter"
           }
          ],
          "scatter3d": [
           {
            "line": {
             "colorbar": {
              "outlinewidth": 0,
              "ticks": ""
             }
            },
            "marker": {
             "colorbar": {
              "outlinewidth": 0,
              "ticks": ""
             }
            },
            "type": "scatter3d"
           }
          ],
          "scattercarpet": [
           {
            "marker": {
             "colorbar": {
              "outlinewidth": 0,
              "ticks": ""
             }
            },
            "type": "scattercarpet"
           }
          ],
          "scattergeo": [
           {
            "marker": {
             "colorbar": {
              "outlinewidth": 0,
              "ticks": ""
             }
            },
            "type": "scattergeo"
           }
          ],
          "scattergl": [
           {
            "marker": {
             "colorbar": {
              "outlinewidth": 0,
              "ticks": ""
             }
            },
            "type": "scattergl"
           }
          ],
          "scattermapbox": [
           {
            "marker": {
             "colorbar": {
              "outlinewidth": 0,
              "ticks": ""
             }
            },
            "type": "scattermapbox"
           }
          ],
          "scatterpolar": [
           {
            "marker": {
             "colorbar": {
              "outlinewidth": 0,
              "ticks": ""
             }
            },
            "type": "scatterpolar"
           }
          ],
          "scatterpolargl": [
           {
            "marker": {
             "colorbar": {
              "outlinewidth": 0,
              "ticks": ""
             }
            },
            "type": "scatterpolargl"
           }
          ],
          "scatterternary": [
           {
            "marker": {
             "colorbar": {
              "outlinewidth": 0,
              "ticks": ""
             }
            },
            "type": "scatterternary"
           }
          ],
          "surface": [
           {
            "colorbar": {
             "outlinewidth": 0,
             "ticks": ""
            },
            "colorscale": [
             [
              0,
              "#0d0887"
             ],
             [
              0.1111111111111111,
              "#46039f"
             ],
             [
              0.2222222222222222,
              "#7201a8"
             ],
             [
              0.3333333333333333,
              "#9c179e"
             ],
             [
              0.4444444444444444,
              "#bd3786"
             ],
             [
              0.5555555555555556,
              "#d8576b"
             ],
             [
              0.6666666666666666,
              "#ed7953"
             ],
             [
              0.7777777777777778,
              "#fb9f3a"
             ],
             [
              0.8888888888888888,
              "#fdca26"
             ],
             [
              1,
              "#f0f921"
             ]
            ],
            "type": "surface"
           }
          ],
          "table": [
           {
            "cells": {
             "fill": {
              "color": "#EBF0F8"
             },
             "line": {
              "color": "white"
             }
            },
            "header": {
             "fill": {
              "color": "#C8D4E3"
             },
             "line": {
              "color": "white"
             }
            },
            "type": "table"
           }
          ]
         },
         "layout": {
          "annotationdefaults": {
           "arrowcolor": "#2a3f5f",
           "arrowhead": 0,
           "arrowwidth": 1
          },
          "coloraxis": {
           "colorbar": {
            "outlinewidth": 0,
            "ticks": ""
           }
          },
          "colorscale": {
           "diverging": [
            [
             0,
             "#8e0152"
            ],
            [
             0.1,
             "#c51b7d"
            ],
            [
             0.2,
             "#de77ae"
            ],
            [
             0.3,
             "#f1b6da"
            ],
            [
             0.4,
             "#fde0ef"
            ],
            [
             0.5,
             "#f7f7f7"
            ],
            [
             0.6,
             "#e6f5d0"
            ],
            [
             0.7,
             "#b8e186"
            ],
            [
             0.8,
             "#7fbc41"
            ],
            [
             0.9,
             "#4d9221"
            ],
            [
             1,
             "#276419"
            ]
           ],
           "sequential": [
            [
             0,
             "#0d0887"
            ],
            [
             0.1111111111111111,
             "#46039f"
            ],
            [
             0.2222222222222222,
             "#7201a8"
            ],
            [
             0.3333333333333333,
             "#9c179e"
            ],
            [
             0.4444444444444444,
             "#bd3786"
            ],
            [
             0.5555555555555556,
             "#d8576b"
            ],
            [
             0.6666666666666666,
             "#ed7953"
            ],
            [
             0.7777777777777778,
             "#fb9f3a"
            ],
            [
             0.8888888888888888,
             "#fdca26"
            ],
            [
             1,
             "#f0f921"
            ]
           ],
           "sequentialminus": [
            [
             0,
             "#0d0887"
            ],
            [
             0.1111111111111111,
             "#46039f"
            ],
            [
             0.2222222222222222,
             "#7201a8"
            ],
            [
             0.3333333333333333,
             "#9c179e"
            ],
            [
             0.4444444444444444,
             "#bd3786"
            ],
            [
             0.5555555555555556,
             "#d8576b"
            ],
            [
             0.6666666666666666,
             "#ed7953"
            ],
            [
             0.7777777777777778,
             "#fb9f3a"
            ],
            [
             0.8888888888888888,
             "#fdca26"
            ],
            [
             1,
             "#f0f921"
            ]
           ]
          },
          "colorway": [
           "#636efa",
           "#EF553B",
           "#00cc96",
           "#ab63fa",
           "#FFA15A",
           "#19d3f3",
           "#FF6692",
           "#B6E880",
           "#FF97FF",
           "#FECB52"
          ],
          "font": {
           "color": "#2a3f5f"
          },
          "geo": {
           "bgcolor": "white",
           "lakecolor": "white",
           "landcolor": "#E5ECF6",
           "showlakes": true,
           "showland": true,
           "subunitcolor": "white"
          },
          "hoverlabel": {
           "align": "left"
          },
          "hovermode": "closest",
          "mapbox": {
           "style": "light"
          },
          "paper_bgcolor": "white",
          "plot_bgcolor": "#E5ECF6",
          "polar": {
           "angularaxis": {
            "gridcolor": "white",
            "linecolor": "white",
            "ticks": ""
           },
           "bgcolor": "#E5ECF6",
           "radialaxis": {
            "gridcolor": "white",
            "linecolor": "white",
            "ticks": ""
           }
          },
          "scene": {
           "xaxis": {
            "backgroundcolor": "#E5ECF6",
            "gridcolor": "white",
            "gridwidth": 2,
            "linecolor": "white",
            "showbackground": true,
            "ticks": "",
            "zerolinecolor": "white"
           },
           "yaxis": {
            "backgroundcolor": "#E5ECF6",
            "gridcolor": "white",
            "gridwidth": 2,
            "linecolor": "white",
            "showbackground": true,
            "ticks": "",
            "zerolinecolor": "white"
           },
           "zaxis": {
            "backgroundcolor": "#E5ECF6",
            "gridcolor": "white",
            "gridwidth": 2,
            "linecolor": "white",
            "showbackground": true,
            "ticks": "",
            "zerolinecolor": "white"
           }
          },
          "shapedefaults": {
           "line": {
            "color": "#2a3f5f"
           }
          },
          "ternary": {
           "aaxis": {
            "gridcolor": "white",
            "linecolor": "white",
            "ticks": ""
           },
           "baxis": {
            "gridcolor": "white",
            "linecolor": "white",
            "ticks": ""
           },
           "bgcolor": "#E5ECF6",
           "caxis": {
            "gridcolor": "white",
            "linecolor": "white",
            "ticks": ""
           }
          },
          "title": {
           "x": 0.05
          },
          "xaxis": {
           "automargin": true,
           "gridcolor": "white",
           "linecolor": "white",
           "ticks": "",
           "title": {
            "standoff": 15
           },
           "zerolinecolor": "white",
           "zerolinewidth": 2
          },
          "yaxis": {
           "automargin": true,
           "gridcolor": "white",
           "linecolor": "white",
           "ticks": "",
           "title": {
            "standoff": 15
           },
           "zerolinecolor": "white",
           "zerolinewidth": 2
          }
         }
        },
        "title": {
         "text": "xA PL MIDs"
        },
        "xaxis": {
         "anchor": "y",
         "domain": [
          0,
          1
         ],
         "title": {
          "text": "Assist and XA Difference"
         }
        },
        "yaxis": {
         "anchor": "x",
         "domain": [
          0,
          1
         ],
         "title": {
          "text": "xA"
         }
        }
       }
      },
      "text/html": [
       "<div>\n",
       "        \n",
       "        \n",
       "            <div id=\"add5dde9-2b6f-46f0-8f3d-60d757662130\" class=\"plotly-graph-div\" style=\"height:525px; width:100%;\"></div>\n",
       "            <script type=\"text/javascript\">\n",
       "                require([\"plotly\"], function(Plotly) {\n",
       "                    window.PLOTLYENV=window.PLOTLYENV || {};\n",
       "                    \n",
       "                if (document.getElementById(\"add5dde9-2b6f-46f0-8f3d-60d757662130\")) {\n",
       "                    Plotly.newPlot(\n",
       "                        'add5dde9-2b6f-46f0-8f3d-60d757662130',\n",
       "                        [{\"hovertemplate\": \"<b>%{hovertext}</b><br><br>player_name=Kevin De Bruyne<br>Assist and XA Difference=%{x}<br>xA=%{y}<br>assists=%{marker.size}<extra></extra>\", \"hovertext\": [\"Kevin De Bruyne\"], \"legendgroup\": \"Kevin De Bruyne\", \"marker\": {\"color\": \"#636efa\", \"size\": [20], \"sizemode\": \"area\", \"sizeref\": 0.05, \"symbol\": \"circle\"}, \"mode\": \"markers\", \"name\": \"Kevin De Bruyne\", \"showlegend\": true, \"type\": \"scatter\", \"x\": [-0.6207069344818592], \"xaxis\": \"x\", \"y\": [20.62070693448186], \"yaxis\": \"y\"}, {\"hovertemplate\": \"<b>%{hovertext}</b><br><br>player_name=Bruno Fernandes<br>Assist and XA Difference=%{x}<br>xA=%{y}<br>assists=%{marker.size}<extra></extra>\", \"hovertext\": [\"Bruno Fernandes\"], \"legendgroup\": \"Bruno Fernandes\", \"marker\": {\"color\": \"#EF553B\", \"size\": [7], \"sizemode\": \"area\", \"sizeref\": 0.05, \"symbol\": \"circle\"}, \"mode\": \"markers\", \"name\": \"Bruno Fernandes\", \"showlegend\": true, \"type\": \"scatter\", \"x\": [4.244999725371599], \"xaxis\": \"x\", \"y\": [2.755000274628401], \"yaxis\": \"y\"}, {\"hovertemplate\": \"<b>%{hovertext}</b><br><br>player_name=Jonjo Shelvey<br>Assist and XA Difference=%{x}<br>xA=%{y}<br>assists=%{marker.size}<extra></extra>\", \"hovertext\": [\"Jonjo Shelvey\"], \"legendgroup\": \"Jonjo Shelvey\", \"marker\": {\"color\": \"#00cc96\", \"size\": [2], \"sizemode\": \"area\", \"sizeref\": 0.05, \"symbol\": \"circle\"}, \"mode\": \"markers\", \"name\": \"Jonjo Shelvey\", \"showlegend\": true, \"type\": \"scatter\", \"x\": [-2.1416122782975444], \"xaxis\": \"x\", \"y\": [4.141612278297544], \"yaxis\": \"y\"}, {\"hovertemplate\": \"<b>%{hovertext}</b><br><br>player_name=James Maddison<br>Assist and XA Difference=%{x}<br>xA=%{y}<br>assists=%{marker.size}<extra></extra>\", \"hovertext\": [\"James Maddison\"], \"legendgroup\": \"James Maddison\", \"marker\": {\"color\": \"#ab63fa\", \"size\": [3], \"sizemode\": \"area\", \"sizeref\": 0.05, \"symbol\": \"circle\"}, \"mode\": \"markers\", \"name\": \"James Maddison\", \"showlegend\": true, \"type\": \"scatter\", \"x\": [-2.7685162406414747], \"xaxis\": \"x\", \"y\": [5.768516240641475], \"yaxis\": \"y\"}, {\"hovertemplate\": \"<b>%{hovertext}</b><br><br>player_name=Todd Cantwell<br>Assist and XA Difference=%{x}<br>xA=%{y}<br>assists=%{marker.size}<extra></extra>\", \"hovertext\": [\"Todd Cantwell\"], \"legendgroup\": \"Todd Cantwell\", \"marker\": {\"color\": \"#FFA15A\", \"size\": [2], \"sizemode\": \"area\", \"sizeref\": 0.05, \"symbol\": \"circle\"}, \"mode\": \"markers\", \"name\": \"Todd Cantwell\", \"showlegend\": true, \"type\": \"scatter\", \"x\": [-0.3185307234525685], \"xaxis\": \"x\", \"y\": [2.3185307234525685], \"yaxis\": \"y\"}, {\"hovertemplate\": \"<b>%{hovertext}</b><br><br>player_name=David Silva<br>Assist and XA Difference=%{x}<br>xA=%{y}<br>assists=%{marker.size}<extra></extra>\", \"hovertext\": [\"David Silva\"], \"legendgroup\": \"David Silva\", \"marker\": {\"color\": \"#19d3f3\", \"size\": [10], \"sizemode\": \"area\", \"sizeref\": 0.05, \"symbol\": \"circle\"}, \"mode\": \"markers\", \"name\": \"David Silva\", \"showlegend\": true, \"type\": \"scatter\", \"x\": [2.3490124605596066], \"xaxis\": \"x\", \"y\": [7.6509875394403934], \"yaxis\": \"y\"}, {\"hovertemplate\": \"<b>%{hovertext}</b><br><br>player_name=Andriy Yarmolenko<br>Assist and XA Difference=%{x}<br>xA=%{y}<br>assists=%{marker.size}<extra></extra>\", \"hovertext\": [\"Andriy Yarmolenko\"], \"legendgroup\": \"Andriy Yarmolenko\", \"marker\": {\"color\": \"#FF6692\", \"size\": [1], \"sizemode\": \"area\", \"sizeref\": 0.05, \"symbol\": \"circle\"}, \"mode\": \"markers\", \"name\": \"Andriy Yarmolenko\", \"showlegend\": true, \"type\": \"scatter\", \"x\": [-2.426018500700593], \"xaxis\": \"x\", \"y\": [3.426018500700593], \"yaxis\": \"y\"}, {\"hovertemplate\": \"<b>%{hovertext}</b><br><br>player_name=Stuart Armstrong<br>Assist and XA Difference=%{x}<br>xA=%{y}<br>assists=%{marker.size}<extra></extra>\", \"hovertext\": [\"Stuart Armstrong\"], \"legendgroup\": \"Stuart Armstrong\", \"marker\": {\"color\": \"#B6E880\", \"size\": [3], \"sizemode\": \"area\", \"sizeref\": 0.05, \"symbol\": \"circle\"}, \"mode\": \"markers\", \"name\": \"Stuart Armstrong\", \"showlegend\": true, \"type\": \"scatter\", \"x\": [0.9903473956510429], \"xaxis\": \"x\", \"y\": [2.009652604348957], \"yaxis\": \"y\"}, {\"hovertemplate\": \"<b>%{hovertext}</b><br><br>player_name=John Lundstram<br>Assist and XA Difference=%{x}<br>xA=%{y}<br>assists=%{marker.size}<extra></extra>\", \"hovertext\": [\"John Lundstram\"], \"legendgroup\": \"John Lundstram\", \"marker\": {\"color\": \"#FF97FF\", \"size\": [3], \"sizemode\": \"area\", \"sizeref\": 0.05, \"symbol\": \"circle\"}, \"mode\": \"markers\", \"name\": \"John Lundstram\", \"showlegend\": true, \"type\": \"scatter\", \"x\": [-0.8296403661370282], \"xaxis\": \"x\", \"y\": [3.829640366137028], \"yaxis\": \"y\"}, {\"hovertemplate\": \"<b>%{hovertext}</b><br><br>player_name=John Fleck<br>Assist and XA Difference=%{x}<br>xA=%{y}<br>assists=%{marker.size}<extra></extra>\", \"hovertext\": [\"John Fleck\"], \"legendgroup\": \"John Fleck\", \"marker\": {\"color\": \"#FECB52\", \"size\": [2], \"sizemode\": \"area\", \"sizeref\": 0.05, \"symbol\": \"circle\"}, \"mode\": \"markers\", \"name\": \"John Fleck\", \"showlegend\": true, \"type\": \"scatter\", \"x\": [-1.4293289501219988], \"xaxis\": \"x\", \"y\": [3.429328950121999], \"yaxis\": \"y\"}, {\"hovertemplate\": \"<b>%{hovertext}</b><br><br>player_name=Mark Noble<br>Assist and XA Difference=%{x}<br>xA=%{y}<br>assists=%{marker.size}<extra></extra>\", \"hovertext\": [\"Mark Noble\"], \"legendgroup\": \"Mark Noble\", \"marker\": {\"color\": \"#636efa\", \"size\": [3], \"sizemode\": \"area\", \"sizeref\": 0.05, \"symbol\": \"circle\"}, \"mode\": \"markers\", \"name\": \"Mark Noble\", \"showlegend\": true, \"type\": \"scatter\", \"x\": [-0.18147218879312277], \"xaxis\": \"x\", \"y\": [3.1814721887931228], \"yaxis\": \"y\"}, {\"hovertemplate\": \"<b>%{hovertext}</b><br><br>player_name=Jordan Henderson<br>Assist and XA Difference=%{x}<br>xA=%{y}<br>assists=%{marker.size}<extra></extra>\", \"hovertext\": [\"Jordan Henderson\"], \"legendgroup\": \"Jordan Henderson\", \"marker\": {\"color\": \"#EF553B\", \"size\": [5], \"sizemode\": \"area\", \"sizeref\": 0.05, \"symbol\": \"circle\"}, \"mode\": \"markers\", \"name\": \"Jordan Henderson\", \"showlegend\": true, \"type\": \"scatter\", \"x\": [0.8919379599392414], \"xaxis\": \"x\", \"y\": [4.108062040060759], \"yaxis\": \"y\"}, {\"hovertemplate\": \"<b>%{hovertext}</b><br><br>player_name=Georginio Wijnaldum<br>Assist and XA Difference=%{x}<br>xA=%{y}<br>assists=%{marker.size}<extra></extra>\", \"hovertext\": [\"Georginio Wijnaldum\"], \"legendgroup\": \"Georginio Wijnaldum\", \"marker\": {\"color\": \"#00cc96\", \"size\": [0], \"sizemode\": \"area\", \"sizeref\": 0.05, \"symbol\": \"circle\"}, \"mode\": \"markers\", \"name\": \"Georginio Wijnaldum\", \"showlegend\": true, \"type\": \"scatter\", \"x\": [-0.8085457179695368], \"xaxis\": \"x\", \"y\": [0.8085457179695368], \"yaxis\": \"y\"}, {\"hovertemplate\": \"<b>%{hovertext}</b><br><br>player_name=Jorginho<br>Assist and XA Difference=%{x}<br>xA=%{y}<br>assists=%{marker.size}<extra></extra>\", \"hovertext\": [\"Jorginho\"], \"legendgroup\": \"Jorginho\", \"marker\": {\"color\": \"#ab63fa\", \"size\": [2], \"sizemode\": \"area\", \"sizeref\": 0.05, \"symbol\": \"circle\"}, \"mode\": \"markers\", \"name\": \"Jorginho\", \"showlegend\": true, \"type\": \"scatter\", \"x\": [-0.9165160683915019], \"xaxis\": \"x\", \"y\": [2.916516068391502], \"yaxis\": \"y\"}, {\"hovertemplate\": \"<b>%{hovertext}</b><br><br>player_name=Abdoulaye Doucour\\u00e9<br>Assist and XA Difference=%{x}<br>xA=%{y}<br>assists=%{marker.size}<extra></extra>\", \"hovertext\": [\"Abdoulaye Doucour\\u00e9\"], \"legendgroup\": \"Abdoulaye Doucour\\u00e9\", \"marker\": {\"color\": \"#FFA15A\", \"size\": [2], \"sizemode\": \"area\", \"sizeref\": 0.05, \"symbol\": \"circle\"}, \"mode\": \"markers\", \"name\": \"Abdoulaye Doucour\\u00e9\", \"showlegend\": true, \"type\": \"scatter\", \"x\": [-2.084617623127997], \"xaxis\": \"x\", \"y\": [4.084617623127997], \"yaxis\": \"y\"}, {\"hovertemplate\": \"<b>%{hovertext}</b><br><br>player_name=Dan Gosling<br>Assist and XA Difference=%{x}<br>xA=%{y}<br>assists=%{marker.size}<extra></extra>\", \"hovertext\": [\"Dan Gosling\"], \"legendgroup\": \"Dan Gosling\", \"marker\": {\"color\": \"#19d3f3\", \"size\": [1], \"sizemode\": \"area\", \"sizeref\": 0.05, \"symbol\": \"circle\"}, \"mode\": \"markers\", \"name\": \"Dan Gosling\", \"showlegend\": true, \"type\": \"scatter\", \"x\": [-0.3691747784614563], \"xaxis\": \"x\", \"y\": [1.3691747784614563], \"yaxis\": \"y\"}, {\"hovertemplate\": \"<b>%{hovertext}</b><br><br>player_name=N&#039;Golo Kant\\u00e9<br>Assist and XA Difference=%{x}<br>xA=%{y}<br>assists=%{marker.size}<extra></extra>\", \"hovertext\": [\"N&#039;Golo Kant\\u00e9\"], \"legendgroup\": \"N&#039;Golo Kant\\u00e9\", \"marker\": {\"color\": \"#FF6692\", \"size\": [0], \"sizemode\": \"area\", \"sizeref\": 0.05, \"symbol\": \"circle\"}, \"mode\": \"markers\", \"name\": \"N&#039;Golo Kant\\u00e9\", \"showlegend\": true, \"type\": \"scatter\", \"x\": [-1.5202719774097204], \"xaxis\": \"x\", \"y\": [1.5202719774097204], \"yaxis\": \"y\"}, {\"hovertemplate\": \"<b>%{hovertext}</b><br><br>player_name=Luka Milivojevic<br>Assist and XA Difference=%{x}<br>xA=%{y}<br>assists=%{marker.size}<extra></extra>\", \"hovertext\": [\"Luka Milivojevic\"], \"legendgroup\": \"Luka Milivojevic\", \"marker\": {\"color\": \"#B6E880\", \"size\": [1], \"sizemode\": \"area\", \"sizeref\": 0.05, \"symbol\": \"circle\"}, \"mode\": \"markers\", \"name\": \"Luka Milivojevic\", \"showlegend\": true, \"type\": \"scatter\", \"x\": [-0.7364521408453584], \"xaxis\": \"x\", \"y\": [1.7364521408453584], \"yaxis\": \"y\"}, {\"hovertemplate\": \"<b>%{hovertext}</b><br><br>player_name=Scott McTominay<br>Assist and XA Difference=%{x}<br>xA=%{y}<br>assists=%{marker.size}<extra></extra>\", \"hovertext\": [\"Scott McTominay\"], \"legendgroup\": \"Scott McTominay\", \"marker\": {\"color\": \"#FF97FF\", \"size\": [1], \"sizemode\": \"area\", \"sizeref\": 0.05, \"symbol\": \"circle\"}, \"mode\": \"markers\", \"name\": \"Scott McTominay\", \"showlegend\": true, \"type\": \"scatter\", \"x\": [-0.43121399730443954], \"xaxis\": \"x\", \"y\": [1.4312139973044395], \"yaxis\": \"y\"}, {\"hovertemplate\": \"<b>%{hovertext}</b><br><br>player_name=Youri Tielemans<br>Assist and XA Difference=%{x}<br>xA=%{y}<br>assists=%{marker.size}<extra></extra>\", \"hovertext\": [\"Youri Tielemans\"], \"legendgroup\": \"Youri Tielemans\", \"marker\": {\"color\": \"#FECB52\", \"size\": [6], \"sizemode\": \"area\", \"sizeref\": 0.05, \"symbol\": \"circle\"}, \"mode\": \"markers\", \"name\": \"Youri Tielemans\", \"showlegend\": true, \"type\": \"scatter\", \"x\": [0.8139003217220315], \"xaxis\": \"x\", \"y\": [5.1860996782779685], \"yaxis\": \"y\"}, {\"hovertemplate\": \"<b>%{hovertext}</b><br><br>player_name=Douglas Luiz<br>Assist and XA Difference=%{x}<br>xA=%{y}<br>assists=%{marker.size}<extra></extra>\", \"hovertext\": [\"Douglas Luiz\"], \"legendgroup\": \"Douglas Luiz\", \"marker\": {\"color\": \"#636efa\", \"size\": [2], \"sizemode\": \"area\", \"sizeref\": 0.05, \"symbol\": \"circle\"}, \"mode\": \"markers\", \"name\": \"Douglas Luiz\", \"showlegend\": true, \"type\": \"scatter\", \"x\": [-0.0041146669536833436], \"xaxis\": \"x\", \"y\": [2.0041146669536833], \"yaxis\": \"y\"}, {\"hovertemplate\": \"<b>%{hovertext}</b><br><br>player_name=Bernard<br>Assist and XA Difference=%{x}<br>xA=%{y}<br>assists=%{marker.size}<extra></extra>\", \"hovertext\": [\"Bernard\"], \"legendgroup\": \"Bernard\", \"marker\": {\"color\": \"#EF553B\", \"size\": [2], \"sizemode\": \"area\", \"sizeref\": 0.05, \"symbol\": \"circle\"}, \"mode\": \"markers\", \"name\": \"Bernard\", \"showlegend\": true, \"type\": \"scatter\", \"x\": [-0.3037222437560563], \"xaxis\": \"x\", \"y\": [2.3037222437560563], \"yaxis\": \"y\"}, {\"hovertemplate\": \"<b>%{hovertext}</b><br><br>player_name=Conor Hourihane<br>Assist and XA Difference=%{x}<br>xA=%{y}<br>assists=%{marker.size}<extra></extra>\", \"hovertext\": [\"Conor Hourihane\"], \"legendgroup\": \"Conor Hourihane\", \"marker\": {\"color\": \"#00cc96\", \"size\": [5], \"sizemode\": \"area\", \"sizeref\": 0.05, \"symbol\": \"circle\"}, \"mode\": \"markers\", \"name\": \"Conor Hourihane\", \"showlegend\": true, \"type\": \"scatter\", \"x\": [-0.7314409166574478], \"xaxis\": \"x\", \"y\": [5.731440916657448], \"yaxis\": \"y\"}, {\"hovertemplate\": \"<b>%{hovertext}</b><br><br>player_name=John McGinn<br>Assist and XA Difference=%{x}<br>xA=%{y}<br>assists=%{marker.size}<extra></extra>\", \"hovertext\": [\"John McGinn\"], \"legendgroup\": \"John McGinn\", \"marker\": {\"color\": \"#ab63fa\", \"size\": [3], \"sizemode\": \"area\", \"sizeref\": 0.05, \"symbol\": \"circle\"}, \"mode\": \"markers\", \"name\": \"John McGinn\", \"showlegend\": true, \"type\": \"scatter\", \"x\": [0.3822408877313137], \"xaxis\": \"x\", \"y\": [2.6177591122686863], \"yaxis\": \"y\"}, {\"hovertemplate\": \"<b>%{hovertext}</b><br><br>player_name=Gabriel Martinelli<br>Assist and XA Difference=%{x}<br>xA=%{y}<br>assists=%{marker.size}<extra></extra>\", \"hovertext\": [\"Gabriel Martinelli\"], \"legendgroup\": \"Gabriel Martinelli\", \"marker\": {\"color\": \"#FFA15A\", \"size\": [0], \"sizemode\": \"area\", \"sizeref\": 0.05, \"symbol\": \"circle\"}, \"mode\": \"markers\", \"name\": \"Gabriel Martinelli\", \"showlegend\": true, \"type\": \"scatter\", \"x\": [-0.11354188434779645], \"xaxis\": \"x\", \"y\": [0.11354188434779645], \"yaxis\": \"y\"}, {\"hovertemplate\": \"<b>%{hovertext}</b><br><br>player_name=Tomas Soucek<br>Assist and XA Difference=%{x}<br>xA=%{y}<br>assists=%{marker.size}<extra></extra>\", \"hovertext\": [\"Tomas Soucek\"], \"legendgroup\": \"Tomas Soucek\", \"marker\": {\"color\": \"#19d3f3\", \"size\": [0], \"sizemode\": \"area\", \"sizeref\": 0.05, \"symbol\": \"circle\"}, \"mode\": \"markers\", \"name\": \"Tomas Soucek\", \"showlegend\": true, \"type\": \"scatter\", \"x\": [-0.3432552432641387], \"xaxis\": \"x\", \"y\": [0.3432552432641387], \"yaxis\": \"y\"}, {\"hovertemplate\": \"<b>%{hovertext}</b><br><br>player_name=Ilkay G\\u00fcndogan<br>Assist and XA Difference=%{x}<br>xA=%{y}<br>assists=%{marker.size}<extra></extra>\", \"hovertext\": [\"Ilkay G\\u00fcndogan\"], \"legendgroup\": \"Ilkay G\\u00fcndogan\", \"marker\": {\"color\": \"#FF6692\", \"size\": [1], \"sizemode\": \"area\", \"sizeref\": 0.05, \"symbol\": \"circle\"}, \"mode\": \"markers\", \"name\": \"Ilkay G\\u00fcndogan\", \"showlegend\": true, \"type\": \"scatter\", \"x\": [-1.9191963784396648], \"xaxis\": \"x\", \"y\": [2.919196378439665], \"yaxis\": \"y\"}, {\"hovertemplate\": \"<b>%{hovertext}</b><br><br>player_name=Theo Walcott<br>Assist and XA Difference=%{x}<br>xA=%{y}<br>assists=%{marker.size}<extra></extra>\", \"hovertext\": [\"Theo Walcott\"], \"legendgroup\": \"Theo Walcott\", \"marker\": {\"color\": \"#B6E880\", \"size\": [3], \"sizemode\": \"area\", \"sizeref\": 0.05, \"symbol\": \"circle\"}, \"mode\": \"markers\", \"name\": \"Theo Walcott\", \"showlegend\": true, \"type\": \"scatter\", \"x\": [-0.9733672887086868], \"xaxis\": \"x\", \"y\": [3.973367288708687], \"yaxis\": \"y\"}, {\"hovertemplate\": \"<b>%{hovertext}</b><br><br>player_name=Ashley Westwood<br>Assist and XA Difference=%{x}<br>xA=%{y}<br>assists=%{marker.size}<extra></extra>\", \"hovertext\": [\"Ashley Westwood\"], \"legendgroup\": \"Ashley Westwood\", \"marker\": {\"color\": \"#FF97FF\", \"size\": [6], \"sizemode\": \"area\", \"sizeref\": 0.05, \"symbol\": \"circle\"}, \"mode\": \"markers\", \"name\": \"Ashley Westwood\", \"showlegend\": true, \"type\": \"scatter\", \"x\": [-1.0769018754363069], \"xaxis\": \"x\", \"y\": [7.076901875436307], \"yaxis\": \"y\"}, {\"hovertemplate\": \"<b>%{hovertext}</b><br><br>player_name=Gylfi Sigurdsson<br>Assist and XA Difference=%{x}<br>xA=%{y}<br>assists=%{marker.size}<extra></extra>\", \"hovertext\": [\"Gylfi Sigurdsson\"], \"legendgroup\": \"Gylfi Sigurdsson\", \"marker\": {\"color\": \"#FECB52\", \"size\": [3], \"sizemode\": \"area\", \"sizeref\": 0.05, \"symbol\": \"circle\"}, \"mode\": \"markers\", \"name\": \"Gylfi Sigurdsson\", \"showlegend\": true, \"type\": \"scatter\", \"x\": [-1.0116059454157948], \"xaxis\": \"x\", \"y\": [4.011605945415795], \"yaxis\": \"y\"}, {\"hovertemplate\": \"<b>%{hovertext}</b><br><br>player_name=Demarai Gray<br>Assist and XA Difference=%{x}<br>xA=%{y}<br>assists=%{marker.size}<extra></extra>\", \"hovertext\": [\"Demarai Gray\"], \"legendgroup\": \"Demarai Gray\", \"marker\": {\"color\": \"#636efa\", \"size\": [3], \"sizemode\": \"area\", \"sizeref\": 0.05, \"symbol\": \"circle\"}, \"mode\": \"markers\", \"name\": \"Demarai Gray\", \"showlegend\": true, \"type\": \"scatter\", \"x\": [0.7660441175103192], \"xaxis\": \"x\", \"y\": [2.233955882489681], \"yaxis\": \"y\"}, {\"hovertemplate\": \"<b>%{hovertext}</b><br><br>player_name=Jeff Hendrick<br>Assist and XA Difference=%{x}<br>xA=%{y}<br>assists=%{marker.size}<extra></extra>\", \"hovertext\": [\"Jeff Hendrick\"], \"legendgroup\": \"Jeff Hendrick\", \"marker\": {\"color\": \"#EF553B\", \"size\": [2], \"sizemode\": \"area\", \"sizeref\": 0.05, \"symbol\": \"circle\"}, \"mode\": \"markers\", \"name\": \"Jeff Hendrick\", \"showlegend\": true, \"type\": \"scatter\", \"x\": [0.6212511463090775], \"xaxis\": \"x\", \"y\": [1.3787488536909225], \"yaxis\": \"y\"}, {\"hovertemplate\": \"<b>%{hovertext}</b><br><br>player_name=Jonny<br>Assist and XA Difference=%{x}<br>xA=%{y}<br>assists=%{marker.size}<extra></extra>\", \"hovertext\": [\"Jonny\"], \"legendgroup\": \"Jonny\", \"marker\": {\"color\": \"#00cc96\", \"size\": [2], \"sizemode\": \"area\", \"sizeref\": 0.05, \"symbol\": \"circle\"}, \"mode\": \"markers\", \"name\": \"Jonny\", \"showlegend\": true, \"type\": \"scatter\", \"x\": [0.43318797647953033], \"xaxis\": \"x\", \"y\": [1.5668120235204697], \"yaxis\": \"y\"}, {\"hovertemplate\": \"<b>%{hovertext}</b><br><br>player_name=Pablo Fornals<br>Assist and XA Difference=%{x}<br>xA=%{y}<br>assists=%{marker.size}<extra></extra>\", \"hovertext\": [\"Pablo Fornals\"], \"legendgroup\": \"Pablo Fornals\", \"marker\": {\"color\": \"#ab63fa\", \"size\": [5], \"sizemode\": \"area\", \"sizeref\": 0.05, \"symbol\": \"circle\"}, \"mode\": \"markers\", \"name\": \"Pablo Fornals\", \"showlegend\": true, \"type\": \"scatter\", \"x\": [2.700946873053908], \"xaxis\": \"x\", \"y\": [2.299053126946092], \"yaxis\": \"y\"}, {\"hovertemplate\": \"<b>%{hovertext}</b><br><br>player_name=Fabinho<br>Assist and XA Difference=%{x}<br>xA=%{y}<br>assists=%{marker.size}<extra></extra>\", \"hovertext\": [\"Fabinho\"], \"legendgroup\": \"Fabinho\", \"marker\": {\"color\": \"#FFA15A\", \"size\": [3], \"sizemode\": \"area\", \"sizeref\": 0.05, \"symbol\": \"circle\"}, \"mode\": \"markers\", \"name\": \"Fabinho\", \"showlegend\": true, \"type\": \"scatter\", \"x\": [1.3248598827049136], \"xaxis\": \"x\", \"y\": [1.6751401172950864], \"yaxis\": \"y\"}, {\"hovertemplate\": \"<b>%{hovertext}</b><br><br>player_name=Naby Keita<br>Assist and XA Difference=%{x}<br>xA=%{y}<br>assists=%{marker.size}<extra></extra>\", \"hovertext\": [\"Naby Keita\"], \"legendgroup\": \"Naby Keita\", \"marker\": {\"color\": \"#19d3f3\", \"size\": [3], \"sizemode\": \"area\", \"sizeref\": 0.05, \"symbol\": \"circle\"}, \"mode\": \"markers\", \"name\": \"Naby Keita\", \"showlegend\": true, \"type\": \"scatter\", \"x\": [-0.2155438680201769], \"xaxis\": \"x\", \"y\": [3.215543868020177], \"yaxis\": \"y\"}, {\"hovertemplate\": \"<b>%{hovertext}</b><br><br>player_name=Wilfred Ndidi<br>Assist and XA Difference=%{x}<br>xA=%{y}<br>assists=%{marker.size}<extra></extra>\", \"hovertext\": [\"Wilfred Ndidi\"], \"legendgroup\": \"Wilfred Ndidi\", \"marker\": {\"color\": \"#FF6692\", \"size\": [1], \"sizemode\": \"area\", \"sizeref\": 0.05, \"symbol\": \"circle\"}, \"mode\": \"markers\", \"name\": \"Wilfred Ndidi\", \"showlegend\": true, \"type\": \"scatter\", \"x\": [0.40833439212292433], \"xaxis\": \"x\", \"y\": [0.5916656078770757], \"yaxis\": \"y\"}, {\"hovertemplate\": \"<b>%{hovertext}</b><br><br>player_name=Tanguy NDombele Alvaro<br>Assist and XA Difference=%{x}<br>xA=%{y}<br>assists=%{marker.size}<extra></extra>\", \"hovertext\": [\"Tanguy NDombele Alvaro\"], \"legendgroup\": \"Tanguy NDombele Alvaro\", \"marker\": {\"color\": \"#B6E880\", \"size\": [2], \"sizemode\": \"area\", \"sizeref\": 0.05, \"symbol\": \"circle\"}, \"mode\": \"markers\", \"name\": \"Tanguy NDombele Alvaro\", \"showlegend\": true, \"type\": \"scatter\", \"x\": [1.2024954911321402], \"xaxis\": \"x\", \"y\": [0.7975045088678598], \"yaxis\": \"y\"}, {\"hovertemplate\": \"<b>%{hovertext}</b><br><br>player_name=Dwight McNeil<br>Assist and XA Difference=%{x}<br>xA=%{y}<br>assists=%{marker.size}<extra></extra>\", \"hovertext\": [\"Dwight McNeil\"], \"legendgroup\": \"Dwight McNeil\", \"marker\": {\"color\": \"#FF97FF\", \"size\": [6], \"sizemode\": \"area\", \"sizeref\": 0.05, \"symbol\": \"circle\"}, \"mode\": \"markers\", \"name\": \"Dwight McNeil\", \"showlegend\": true, \"type\": \"scatter\", \"x\": [-1.5624299999326476], \"xaxis\": \"x\", \"y\": [7.562429999932648], \"yaxis\": \"y\"}, {\"hovertemplate\": \"<b>%{hovertext}</b><br><br>player_name=R\\u00faben Neves<br>Assist and XA Difference=%{x}<br>xA=%{y}<br>assists=%{marker.size}<extra></extra>\", \"hovertext\": [\"R\\u00faben Neves\"], \"legendgroup\": \"R\\u00faben Neves\", \"marker\": {\"color\": \"#FECB52\", \"size\": [2], \"sizemode\": \"area\", \"sizeref\": 0.05, \"symbol\": \"circle\"}, \"mode\": \"markers\", \"name\": \"R\\u00faben Neves\", \"showlegend\": true, \"type\": \"scatter\", \"x\": [-0.6060938835144043], \"xaxis\": \"x\", \"y\": [2.6060938835144043], \"yaxis\": \"y\"}, {\"hovertemplate\": \"<b>%{hovertext}</b><br><br>player_name=George Baldock<br>Assist and XA Difference=%{x}<br>xA=%{y}<br>assists=%{marker.size}<extra></extra>\", \"hovertext\": [\"George Baldock\"], \"legendgroup\": \"George Baldock\", \"marker\": {\"color\": \"#636efa\", \"size\": [3], \"sizemode\": \"area\", \"sizeref\": 0.05, \"symbol\": \"circle\"}, \"mode\": \"markers\", \"name\": \"George Baldock\", \"showlegend\": true, \"type\": \"scatter\", \"x\": [1.3746910402551291], \"xaxis\": \"x\", \"y\": [1.6253089597448709], \"yaxis\": \"y\"}, {\"hovertemplate\": \"<b>%{hovertext}</b><br><br>player_name=Enda Stevens<br>Assist and XA Difference=%{x}<br>xA=%{y}<br>assists=%{marker.size}<extra></extra>\", \"hovertext\": [\"Enda Stevens\"], \"legendgroup\": \"Enda Stevens\", \"marker\": {\"color\": \"#EF553B\", \"size\": [4], \"sizemode\": \"area\", \"sizeref\": 0.05, \"symbol\": \"circle\"}, \"mode\": \"markers\", \"name\": \"Enda Stevens\", \"showlegend\": true, \"type\": \"scatter\", \"x\": [-1.4148625014349818], \"xaxis\": \"x\", \"y\": [5.414862501434982], \"yaxis\": \"y\"}, {\"hovertemplate\": \"<b>%{hovertext}</b><br><br>player_name=Matthew Longstaff<br>Assist and XA Difference=%{x}<br>xA=%{y}<br>assists=%{marker.size}<extra></extra>\", \"hovertext\": [\"Matthew Longstaff\"], \"legendgroup\": \"Matthew Longstaff\", \"marker\": {\"color\": \"#00cc96\", \"size\": [0], \"sizemode\": \"area\", \"sizeref\": 0.05, \"symbol\": \"circle\"}, \"mode\": \"markers\", \"name\": \"Matthew Longstaff\", \"showlegend\": true, \"type\": \"scatter\", \"x\": [-0.18956130929291248], \"xaxis\": \"x\", \"y\": [0.18956130929291248], \"yaxis\": \"y\"}, {\"hovertemplate\": \"<b>%{hovertext}</b><br><br>player_name=Mario Vrancic<br>Assist and XA Difference=%{x}<br>xA=%{y}<br>assists=%{marker.size}<extra></extra>\", \"hovertext\": [\"Mario Vrancic\"], \"legendgroup\": \"Mario Vrancic\", \"marker\": {\"color\": \"#ab63fa\", \"size\": [0], \"sizemode\": \"area\", \"sizeref\": 0.05, \"symbol\": \"circle\"}, \"mode\": \"markers\", \"name\": \"Mario Vrancic\", \"showlegend\": true, \"type\": \"scatter\", \"x\": [-1.0300541585311294], \"xaxis\": \"x\", \"y\": [1.0300541585311294], \"yaxis\": \"y\"}, {\"hovertemplate\": \"<b>%{hovertext}</b><br><br>player_name=Granit Xhaka<br>Assist and XA Difference=%{x}<br>xA=%{y}<br>assists=%{marker.size}<extra></extra>\", \"hovertext\": [\"Granit Xhaka\"], \"legendgroup\": \"Granit Xhaka\", \"marker\": {\"color\": \"#FFA15A\", \"size\": [2], \"sizemode\": \"area\", \"sizeref\": 0.05, \"symbol\": \"circle\"}, \"mode\": \"markers\", \"name\": \"Granit Xhaka\", \"showlegend\": true, \"type\": \"scatter\", \"x\": [1.0278033670037985], \"xaxis\": \"x\", \"y\": [0.9721966329962016], \"yaxis\": \"y\"}, {\"hovertemplate\": \"<b>%{hovertext}</b><br><br>player_name=Adam Lallana<br>Assist and XA Difference=%{x}<br>xA=%{y}<br>assists=%{marker.size}<extra></extra>\", \"hovertext\": [\"Adam Lallana\"], \"legendgroup\": \"Adam Lallana\", \"marker\": {\"color\": \"#19d3f3\", \"size\": [1], \"sizemode\": \"area\", \"sizeref\": 0.05, \"symbol\": \"circle\"}, \"mode\": \"markers\", \"name\": \"Adam Lallana\", \"showlegend\": true, \"type\": \"scatter\", \"x\": [0.3463284447789192], \"xaxis\": \"x\", \"y\": [0.6536715552210808], \"yaxis\": \"y\"}, {\"hovertemplate\": \"<b>%{hovertext}</b><br><br>player_name=Mesut \\u00d6zil<br>Assist and XA Difference=%{x}<br>xA=%{y}<br>assists=%{marker.size}<extra></extra>\", \"hovertext\": [\"Mesut \\u00d6zil\"], \"legendgroup\": \"Mesut \\u00d6zil\", \"marker\": {\"color\": \"#FF6692\", \"size\": [2], \"sizemode\": \"area\", \"sizeref\": 0.05, \"symbol\": \"circle\"}, \"mode\": \"markers\", \"name\": \"Mesut \\u00d6zil\", \"showlegend\": true, \"type\": \"scatter\", \"x\": [-0.28740838542580605], \"xaxis\": \"x\", \"y\": [2.287408385425806], \"yaxis\": \"y\"}, {\"hovertemplate\": \"<b>%{hovertext}</b><br><br>player_name=Jesse Lingard<br>Assist and XA Difference=%{x}<br>xA=%{y}<br>assists=%{marker.size}<extra></extra>\", \"hovertext\": [\"Jesse Lingard\"], \"legendgroup\": \"Jesse Lingard\", \"marker\": {\"color\": \"#B6E880\", \"size\": [0], \"sizemode\": \"area\", \"sizeref\": 0.05, \"symbol\": \"circle\"}, \"mode\": \"markers\", \"name\": \"Jesse Lingard\", \"showlegend\": true, \"type\": \"scatter\", \"x\": [-1.1104203211143613], \"xaxis\": \"x\", \"y\": [1.1104203211143613], \"yaxis\": \"y\"}, {\"hovertemplate\": \"<b>%{hovertext}</b><br><br>player_name=Ross Barkley<br>Assist and XA Difference=%{x}<br>xA=%{y}<br>assists=%{marker.size}<extra></extra>\", \"hovertext\": [\"Ross Barkley\"], \"legendgroup\": \"Ross Barkley\", \"marker\": {\"color\": \"#FF97FF\", \"size\": [4], \"sizemode\": \"area\", \"sizeref\": 0.05, \"symbol\": \"circle\"}, \"mode\": \"markers\", \"name\": \"Ross Barkley\", \"showlegend\": true, \"type\": \"scatter\", \"x\": [1.1397564429789782], \"xaxis\": \"x\", \"y\": [2.860243557021022], \"yaxis\": \"y\"}, {\"hovertemplate\": \"<b>%{hovertext}</b><br><br>player_name=Tom Cleverley<br>Assist and XA Difference=%{x}<br>xA=%{y}<br>assists=%{marker.size}<extra></extra>\", \"hovertext\": [\"Tom Cleverley\"], \"legendgroup\": \"Tom Cleverley\", \"marker\": {\"color\": \"#FECB52\", \"size\": [0], \"sizemode\": \"area\", \"sizeref\": 0.05, \"symbol\": \"circle\"}, \"mode\": \"markers\", \"name\": \"Tom Cleverley\", \"showlegend\": true, \"type\": \"scatter\", \"x\": [-0.7182993106544018], \"xaxis\": \"x\", \"y\": [0.7182993106544018], \"yaxis\": \"y\"}, {\"hovertemplate\": \"<b>%{hovertext}</b><br><br>player_name=Andros Townsend<br>Assist and XA Difference=%{x}<br>xA=%{y}<br>assists=%{marker.size}<extra></extra>\", \"hovertext\": [\"Andros Townsend\"], \"legendgroup\": \"Andros Townsend\", \"marker\": {\"color\": \"#636efa\", \"size\": [1], \"sizemode\": \"area\", \"sizeref\": 0.05, \"symbol\": \"circle\"}, \"mode\": \"markers\", \"name\": \"Andros Townsend\", \"showlegend\": true, \"type\": \"scatter\", \"x\": [-0.7137907668948174], \"xaxis\": \"x\", \"y\": [1.7137907668948174], \"yaxis\": \"y\"}, {\"hovertemplate\": \"<b>%{hovertext}</b><br><br>player_name=Robbie Brady<br>Assist and XA Difference=%{x}<br>xA=%{y}<br>assists=%{marker.size}<extra></extra>\", \"hovertext\": [\"Robbie Brady\"], \"legendgroup\": \"Robbie Brady\", \"marker\": {\"color\": \"#EF553B\", \"size\": [2], \"sizemode\": \"area\", \"sizeref\": 0.05, \"symbol\": \"circle\"}, \"mode\": \"markers\", \"name\": \"Robbie Brady\", \"showlegend\": true, \"type\": \"scatter\", \"x\": [1.6824502609670162], \"xaxis\": \"x\", \"y\": [0.3175497390329838], \"yaxis\": \"y\"}, {\"hovertemplate\": \"<b>%{hovertext}</b><br><br>player_name=Xherdan Shaqiri<br>Assist and XA Difference=%{x}<br>xA=%{y}<br>assists=%{marker.size}<extra></extra>\", \"hovertext\": [\"Xherdan Shaqiri\"], \"legendgroup\": \"Xherdan Shaqiri\", \"marker\": {\"color\": \"#00cc96\", \"size\": [0], \"sizemode\": \"area\", \"sizeref\": 0.05, \"symbol\": \"circle\"}, \"mode\": \"markers\", \"name\": \"Xherdan Shaqiri\", \"showlegend\": true, \"type\": \"scatter\", \"x\": [-0.1784982606768608], \"xaxis\": \"x\", \"y\": [0.1784982606768608], \"yaxis\": \"y\"}, {\"hovertemplate\": \"<b>%{hovertext}</b><br><br>player_name=Andreas Pereira<br>Assist and XA Difference=%{x}<br>xA=%{y}<br>assists=%{marker.size}<extra></extra>\", \"hovertext\": [\"Andreas Pereira\"], \"legendgroup\": \"Andreas Pereira\", \"marker\": {\"color\": \"#ab63fa\", \"size\": [3], \"sizemode\": \"area\", \"sizeref\": 0.05, \"symbol\": \"circle\"}, \"mode\": \"markers\", \"name\": \"Andreas Pereira\", \"showlegend\": true, \"type\": \"scatter\", \"x\": [-0.7079232446849351], \"xaxis\": \"x\", \"y\": [3.707923244684935], \"yaxis\": \"y\"}, {\"hovertemplate\": \"<b>%{hovertext}</b><br><br>player_name=Tom Davies<br>Assist and XA Difference=%{x}<br>xA=%{y}<br>assists=%{marker.size}<extra></extra>\", \"hovertext\": [\"Tom Davies\"], \"legendgroup\": \"Tom Davies\", \"marker\": {\"color\": \"#FFA15A\", \"size\": [0], \"sizemode\": \"area\", \"sizeref\": 0.05, \"symbol\": \"circle\"}, \"mode\": \"markers\", \"name\": \"Tom Davies\", \"showlegend\": true, \"type\": \"scatter\", \"x\": [-0.5344789810478687], \"xaxis\": \"x\", \"y\": [0.5344789810478687], \"yaxis\": \"y\"}, {\"hovertemplate\": \"<b>%{hovertext}</b><br><br>player_name=Felipe Anderson<br>Assist and XA Difference=%{x}<br>xA=%{y}<br>assists=%{marker.size}<extra></extra>\", \"hovertext\": [\"Felipe Anderson\"], \"legendgroup\": \"Felipe Anderson\", \"marker\": {\"color\": \"#19d3f3\", \"size\": [4], \"sizemode\": \"area\", \"sizeref\": 0.05, \"symbol\": \"circle\"}, \"mode\": \"markers\", \"name\": \"Felipe Anderson\", \"showlegend\": true, \"type\": \"scatter\", \"x\": [1.3525222204625602], \"xaxis\": \"x\", \"y\": [2.64747777953744], \"yaxis\": \"y\"}, {\"hovertemplate\": \"<b>%{hovertext}</b><br><br>player_name=Lucas Torreira<br>Assist and XA Difference=%{x}<br>xA=%{y}<br>assists=%{marker.size}<extra></extra>\", \"hovertext\": [\"Lucas Torreira\"], \"legendgroup\": \"Lucas Torreira\", \"marker\": {\"color\": \"#FF6692\", \"size\": [1], \"sizemode\": \"area\", \"sizeref\": 0.05, \"symbol\": \"circle\"}, \"mode\": \"markers\", \"name\": \"Lucas Torreira\", \"showlegend\": true, \"type\": \"scatter\", \"x\": [0.17419202718883753], \"xaxis\": \"x\", \"y\": [0.8258079728111625], \"yaxis\": \"y\"}, {\"hovertemplate\": \"<b>%{hovertext}</b><br><br>player_name=Dennis Praet<br>Assist and XA Difference=%{x}<br>xA=%{y}<br>assists=%{marker.size}<extra></extra>\", \"hovertext\": [\"Dennis Praet\"], \"legendgroup\": \"Dennis Praet\", \"marker\": {\"color\": \"#B6E880\", \"size\": [2], \"sizemode\": \"area\", \"sizeref\": 0.05, \"symbol\": \"circle\"}, \"mode\": \"markers\", \"name\": \"Dennis Praet\", \"showlegend\": true, \"type\": \"scatter\", \"x\": [0.5071192793548107], \"xaxis\": \"x\", \"y\": [1.4928807206451893], \"yaxis\": \"y\"}, {\"hovertemplate\": \"<b>%{hovertext}</b><br><br>player_name=Johann Berg Gudmundsson<br>Assist and XA Difference=%{x}<br>xA=%{y}<br>assists=%{marker.size}<extra></extra>\", \"hovertext\": [\"Johann Berg Gudmundsson\"], \"legendgroup\": \"Johann Berg Gudmundsson\", \"marker\": {\"color\": \"#FF97FF\", \"size\": [1], \"sizemode\": \"area\", \"sizeref\": 0.05, \"symbol\": \"circle\"}, \"mode\": \"markers\", \"name\": \"Johann Berg Gudmundsson\", \"showlegend\": true, \"type\": \"scatter\", \"x\": [0.08192575722932816], \"xaxis\": \"x\", \"y\": [0.9180742427706718], \"yaxis\": \"y\"}, {\"hovertemplate\": \"<b>%{hovertext}</b><br><br>player_name=Paul Pogba<br>Assist and XA Difference=%{x}<br>xA=%{y}<br>assists=%{marker.size}<extra></extra>\", \"hovertext\": [\"Paul Pogba\"], \"legendgroup\": \"Paul Pogba\", \"marker\": {\"color\": \"#FECB52\", \"size\": [3], \"sizemode\": \"area\", \"sizeref\": 0.05, \"symbol\": \"circle\"}, \"mode\": \"markers\", \"name\": \"Paul Pogba\", \"showlegend\": true, \"type\": \"scatter\", \"x\": [-0.0561917126178737], \"xaxis\": \"x\", \"y\": [3.0561917126178737], \"yaxis\": \"y\"}, {\"hovertemplate\": \"<b>%{hovertext}</b><br><br>player_name=Jarrod Bowen<br>Assist and XA Difference=%{x}<br>xA=%{y}<br>assists=%{marker.size}<extra></extra>\", \"hovertext\": [\"Jarrod Bowen\"], \"legendgroup\": \"Jarrod Bowen\", \"marker\": {\"color\": \"#636efa\", \"size\": [4], \"sizemode\": \"area\", \"sizeref\": 0.05, \"symbol\": \"circle\"}, \"mode\": \"markers\", \"name\": \"Jarrod Bowen\", \"showlegend\": true, \"type\": \"scatter\", \"x\": [1.3876019865274434], \"xaxis\": \"x\", \"y\": [2.6123980134725566], \"yaxis\": \"y\"}, {\"hovertemplate\": \"<b>%{hovertext}</b><br><br>player_name=Jefferson Lerma<br>Assist and XA Difference=%{x}<br>xA=%{y}<br>assists=%{marker.size}<extra></extra>\", \"hovertext\": [\"Jefferson Lerma\"], \"legendgroup\": \"Jefferson Lerma\", \"marker\": {\"color\": \"#EF553B\", \"size\": [2], \"sizemode\": \"area\", \"sizeref\": 0.05, \"symbol\": \"circle\"}, \"mode\": \"markers\", \"name\": \"Jefferson Lerma\", \"showlegend\": true, \"type\": \"scatter\", \"x\": [0.4686969192698598], \"xaxis\": \"x\", \"y\": [1.5313030807301402], \"yaxis\": \"y\"}, {\"hovertemplate\": \"<b>%{hovertext}</b><br><br>player_name=Emiliano Buend\\u00eda<br>Assist and XA Difference=%{x}<br>xA=%{y}<br>assists=%{marker.size}<extra></extra>\", \"hovertext\": [\"Emiliano Buend\\u00eda\"], \"legendgroup\": \"Emiliano Buend\\u00eda\", \"marker\": {\"color\": \"#00cc96\", \"size\": [7], \"sizemode\": \"area\", \"sizeref\": 0.05, \"symbol\": \"circle\"}, \"mode\": \"markers\", \"name\": \"Emiliano Buend\\u00eda\", \"showlegend\": true, \"type\": \"scatter\", \"x\": [-0.19096221216023057], \"xaxis\": \"x\", \"y\": [7.190962212160231], \"yaxis\": \"y\"}, {\"hovertemplate\": \"<b>%{hovertext}</b><br><br>player_name=Mateo Kovacic<br>Assist and XA Difference=%{x}<br>xA=%{y}<br>assists=%{marker.size}<extra></extra>\", \"hovertext\": [\"Mateo Kovacic\"], \"legendgroup\": \"Mateo Kovacic\", \"marker\": {\"color\": \"#ab63fa\", \"size\": [3], \"sizemode\": \"area\", \"sizeref\": 0.05, \"symbol\": \"circle\"}, \"mode\": \"markers\", \"name\": \"Mateo Kovacic\", \"showlegend\": true, \"type\": \"scatter\", \"x\": [1.1515468042343855], \"xaxis\": \"x\", \"y\": [1.8484531957656145], \"yaxis\": \"y\"}, {\"hovertemplate\": \"<b>%{hovertext}</b><br><br>player_name=Jo\\u00e3o Moutinho<br>Assist and XA Difference=%{x}<br>xA=%{y}<br>assists=%{marker.size}<extra></extra>\", \"hovertext\": [\"Jo\\u00e3o Moutinho\"], \"legendgroup\": \"Jo\\u00e3o Moutinho\", \"marker\": {\"color\": \"#FFA15A\", \"size\": [6], \"sizemode\": \"area\", \"sizeref\": 0.05, \"symbol\": \"circle\"}, \"mode\": \"markers\", \"name\": \"Jo\\u00e3o Moutinho\", \"showlegend\": true, \"type\": \"scatter\", \"x\": [-0.7750435490161172], \"xaxis\": \"x\", \"y\": [6.775043549016117], \"yaxis\": \"y\"}, {\"hovertemplate\": \"<b>%{hovertext}</b><br><br>player_name=Yves Bissouma<br>Assist and XA Difference=%{x}<br>xA=%{y}<br>assists=%{marker.size}<extra></extra>\", \"hovertext\": [\"Yves Bissouma\"], \"legendgroup\": \"Yves Bissouma\", \"marker\": {\"color\": \"#19d3f3\", \"size\": [0], \"sizemode\": \"area\", \"sizeref\": 0.05, \"symbol\": \"circle\"}, \"mode\": \"markers\", \"name\": \"Yves Bissouma\", \"showlegend\": true, \"type\": \"scatter\", \"x\": [-0.13574092276394367], \"xaxis\": \"x\", \"y\": [0.13574092276394367], \"yaxis\": \"y\"}, {\"hovertemplate\": \"<b>%{hovertext}</b><br><br>player_name=Philip Billing<br>Assist and XA Difference=%{x}<br>xA=%{y}<br>assists=%{marker.size}<extra></extra>\", \"hovertext\": [\"Philip Billing\"], \"legendgroup\": \"Philip Billing\", \"marker\": {\"color\": \"#FF6692\", \"size\": [1], \"sizemode\": \"area\", \"sizeref\": 0.05, \"symbol\": \"circle\"}, \"mode\": \"markers\", \"name\": \"Philip Billing\", \"showlegend\": true, \"type\": \"scatter\", \"x\": [-0.4344308190047741], \"xaxis\": \"x\", \"y\": [1.434430819004774], \"yaxis\": \"y\"}, {\"hovertemplate\": \"<b>%{hovertext}</b><br><br>player_name=Davy Pr\\u00f6pper<br>Assist and XA Difference=%{x}<br>xA=%{y}<br>assists=%{marker.size}<extra></extra>\", \"hovertext\": [\"Davy Pr\\u00f6pper\"], \"legendgroup\": \"Davy Pr\\u00f6pper\", \"marker\": {\"color\": \"#B6E880\", \"size\": [2], \"sizemode\": \"area\", \"sizeref\": 0.05, \"symbol\": \"circle\"}, \"mode\": \"markers\", \"name\": \"Davy Pr\\u00f6pper\", \"showlegend\": true, \"type\": \"scatter\", \"x\": [-0.9777765087783337], \"xaxis\": \"x\", \"y\": [2.9777765087783337], \"yaxis\": \"y\"}, {\"hovertemplate\": \"<b>%{hovertext}</b><br><br>player_name=Will Hughes<br>Assist and XA Difference=%{x}<br>xA=%{y}<br>assists=%{marker.size}<extra></extra>\", \"hovertext\": [\"Will Hughes\"], \"legendgroup\": \"Will Hughes\", \"marker\": {\"color\": \"#FF97FF\", \"size\": [1], \"sizemode\": \"area\", \"sizeref\": 0.05, \"symbol\": \"circle\"}, \"mode\": \"markers\", \"name\": \"Will Hughes\", \"showlegend\": true, \"type\": \"scatter\", \"x\": [-1.1773148719221358], \"xaxis\": \"x\", \"y\": [2.177314871922136], \"yaxis\": \"y\"}, {\"hovertemplate\": \"<b>%{hovertext}</b><br><br>player_name=Hamza Choudhury<br>Assist and XA Difference=%{x}<br>xA=%{y}<br>assists=%{marker.size}<extra></extra>\", \"hovertext\": [\"Hamza Choudhury\"], \"legendgroup\": \"Hamza Choudhury\", \"marker\": {\"color\": \"#FECB52\", \"size\": [1], \"sizemode\": \"area\", \"sizeref\": 0.05, \"symbol\": \"circle\"}, \"mode\": \"markers\", \"name\": \"Hamza Choudhury\", \"showlegend\": true, \"type\": \"scatter\", \"x\": [0.8871623575687408], \"xaxis\": \"x\", \"y\": [0.11283764243125916], \"yaxis\": \"y\"}, {\"hovertemplate\": \"<b>%{hovertext}</b><br><br>player_name=Joe Willock<br>Assist and XA Difference=%{x}<br>xA=%{y}<br>assists=%{marker.size}<extra></extra>\", \"hovertext\": [\"Joe Willock\"], \"legendgroup\": \"Joe Willock\", \"marker\": {\"color\": \"#636efa\", \"size\": [1], \"sizemode\": \"area\", \"sizeref\": 0.05, \"symbol\": \"circle\"}, \"mode\": \"markers\", \"name\": \"Joe Willock\", \"showlegend\": true, \"type\": \"scatter\", \"x\": [-0.046809496358036995], \"xaxis\": \"x\", \"y\": [1.046809496358037], \"yaxis\": \"y\"}, {\"hovertemplate\": \"<b>%{hovertext}</b><br><br>player_name=Curtis Jones<br>Assist and XA Difference=%{x}<br>xA=%{y}<br>assists=%{marker.size}<extra></extra>\", \"hovertext\": [\"Curtis Jones\"], \"legendgroup\": \"Curtis Jones\", \"marker\": {\"color\": \"#EF553B\", \"size\": [0], \"sizemode\": \"area\", \"sizeref\": 0.05, \"symbol\": \"circle\"}, \"mode\": \"markers\", \"name\": \"Curtis Jones\", \"showlegend\": true, \"type\": \"scatter\", \"x\": [0.0], \"xaxis\": \"x\", \"y\": [0.0], \"yaxis\": \"y\"}, {\"hovertemplate\": \"<b>%{hovertext}</b><br><br>player_name=David Brooks<br>Assist and XA Difference=%{x}<br>xA=%{y}<br>assists=%{marker.size}<extra></extra>\", \"hovertext\": [\"David Brooks\"], \"legendgroup\": \"David Brooks\", \"marker\": {\"color\": \"#00cc96\", \"size\": [0], \"sizemode\": \"area\", \"sizeref\": 0.05, \"symbol\": \"circle\"}, \"mode\": \"markers\", \"name\": \"David Brooks\", \"showlegend\": true, \"type\": \"scatter\", \"x\": [-0.5346464300528169], \"xaxis\": \"x\", \"y\": [0.5346464300528169], \"yaxis\": \"y\"}, {\"hovertemplate\": \"<b>%{hovertext}</b><br><br>player_name=Sean Longstaff<br>Assist and XA Difference=%{x}<br>xA=%{y}<br>assists=%{marker.size}<extra></extra>\", \"hovertext\": [\"Sean Longstaff\"], \"legendgroup\": \"Sean Longstaff\", \"marker\": {\"color\": \"#ab63fa\", \"size\": [1], \"sizemode\": \"area\", \"sizeref\": 0.05, \"symbol\": \"circle\"}, \"mode\": \"markers\", \"name\": \"Sean Longstaff\", \"showlegend\": true, \"type\": \"scatter\", \"x\": [0.06634076498448838], \"xaxis\": \"x\", \"y\": [0.9336592350155116], \"yaxis\": \"y\"}, {\"hovertemplate\": \"<b>%{hovertext}</b><br><br>player_name=Kenny McLean<br>Assist and XA Difference=%{x}<br>xA=%{y}<br>assists=%{marker.size}<extra></extra>\", \"hovertext\": [\"Kenny McLean\"], \"legendgroup\": \"Kenny McLean\", \"marker\": {\"color\": \"#FFA15A\", \"size\": [1], \"sizemode\": \"area\", \"sizeref\": 0.05, \"symbol\": \"circle\"}, \"mode\": \"markers\", \"name\": \"Kenny McLean\", \"showlegend\": true, \"type\": \"scatter\", \"x\": [-1.622597435489297], \"xaxis\": \"x\", \"y\": [2.622597435489297], \"yaxis\": \"y\"}, {\"hovertemplate\": \"<b>%{hovertext}</b><br><br>player_name=Onel Hern\\u00e1ndez<br>Assist and XA Difference=%{x}<br>xA=%{y}<br>assists=%{marker.size}<extra></extra>\", \"hovertext\": [\"Onel Hern\\u00e1ndez\"], \"legendgroup\": \"Onel Hern\\u00e1ndez\", \"marker\": {\"color\": \"#19d3f3\", \"size\": [2], \"sizemode\": \"area\", \"sizeref\": 0.05, \"symbol\": \"circle\"}, \"mode\": \"markers\", \"name\": \"Onel Hern\\u00e1ndez\", \"showlegend\": true, \"type\": \"scatter\", \"x\": [1.0837680827826262], \"xaxis\": \"x\", \"y\": [0.9162319172173738], \"yaxis\": \"y\"}, {\"hovertemplate\": \"<b>%{hovertext}</b><br><br>player_name=Oliver Norwood<br>Assist and XA Difference=%{x}<br>xA=%{y}<br>assists=%{marker.size}<extra></extra>\", \"hovertext\": [\"Oliver Norwood\"], \"legendgroup\": \"Oliver Norwood\", \"marker\": {\"color\": \"#FF6692\", \"size\": [1], \"sizemode\": \"area\", \"sizeref\": 0.05, \"symbol\": \"circle\"}, \"mode\": \"markers\", \"name\": \"Oliver Norwood\", \"showlegend\": true, \"type\": \"scatter\", \"x\": [-2.8799224253743887], \"xaxis\": \"x\", \"y\": [3.8799224253743887], \"yaxis\": \"y\"}, {\"hovertemplate\": \"<b>%{hovertext}</b><br><br>player_name=Sander Berge<br>Assist and XA Difference=%{x}<br>xA=%{y}<br>assists=%{marker.size}<extra></extra>\", \"hovertext\": [\"Sander Berge\"], \"legendgroup\": \"Sander Berge\", \"marker\": {\"color\": \"#B6E880\", \"size\": [1], \"sizemode\": \"area\", \"sizeref\": 0.05, \"symbol\": \"circle\"}, \"mode\": \"markers\", \"name\": \"Sander Berge\", \"showlegend\": true, \"type\": \"scatter\", \"x\": [0.2856125012040138], \"xaxis\": \"x\", \"y\": [0.7143874987959862], \"yaxis\": \"y\"}, {\"hovertemplate\": \"<b>%{hovertext}</b><br><br>player_name=Yoshinori Muto<br>Assist and XA Difference=%{x}<br>xA=%{y}<br>assists=%{marker.size}<extra></extra>\", \"hovertext\": [\"Yoshinori Muto\"], \"legendgroup\": \"Yoshinori Muto\", \"marker\": {\"color\": \"#FF97FF\", \"size\": [0], \"sizemode\": \"area\", \"sizeref\": 0.05, \"symbol\": \"circle\"}, \"mode\": \"markers\", \"name\": \"Yoshinori Muto\", \"showlegend\": true, \"type\": \"scatter\", \"x\": [-0.014181027188897131], \"xaxis\": \"x\", \"y\": [0.014181027188897131], \"yaxis\": \"y\"}, {\"hovertemplate\": \"<b>%{hovertext}</b><br><br>player_name=Lukas Rupp<br>Assist and XA Difference=%{x}<br>xA=%{y}<br>assists=%{marker.size}<extra></extra>\", \"hovertext\": [\"Lukas Rupp\"], \"legendgroup\": \"Lukas Rupp\", \"marker\": {\"color\": \"#FECB52\", \"size\": [0], \"sizemode\": \"area\", \"sizeref\": 0.05, \"symbol\": \"circle\"}, \"mode\": \"markers\", \"name\": \"Lukas Rupp\", \"showlegend\": true, \"type\": \"scatter\", \"x\": [-0.7755274809896946], \"xaxis\": \"x\", \"y\": [0.7755274809896946], \"yaxis\": \"y\"}, {\"hovertemplate\": \"<b>%{hovertext}</b><br><br>player_name=Henrikh Mkhitaryan<br>Assist and XA Difference=%{x}<br>xA=%{y}<br>assists=%{marker.size}<extra></extra>\", \"hovertext\": [\"Henrikh Mkhitaryan\"], \"legendgroup\": \"Henrikh Mkhitaryan\", \"marker\": {\"color\": \"#636efa\", \"size\": [0], \"sizemode\": \"area\", \"sizeref\": 0.05, \"symbol\": \"circle\"}, \"mode\": \"markers\", \"name\": \"Henrikh Mkhitaryan\", \"showlegend\": true, \"type\": \"scatter\", \"x\": [-0.2743019759654999], \"xaxis\": \"x\", \"y\": [0.2743019759654999], \"yaxis\": \"y\"}, {\"hovertemplate\": \"<b>%{hovertext}</b><br><br>player_name=Andrew Surman<br>Assist and XA Difference=%{x}<br>xA=%{y}<br>assists=%{marker.size}<extra></extra>\", \"hovertext\": [\"Andrew Surman\"], \"legendgroup\": \"Andrew Surman\", \"marker\": {\"color\": \"#EF553B\", \"size\": [0], \"sizemode\": \"area\", \"sizeref\": 0.05, \"symbol\": \"circle\"}, \"mode\": \"markers\", \"name\": \"Andrew Surman\", \"showlegend\": true, \"type\": \"scatter\", \"x\": [-0.04897062107920647], \"xaxis\": \"x\", \"y\": [0.04897062107920647], \"yaxis\": \"y\"}, {\"hovertemplate\": \"<b>%{hovertext}</b><br><br>player_name=Morgan Schneiderlin<br>Assist and XA Difference=%{x}<br>xA=%{y}<br>assists=%{marker.size}<extra></extra>\", \"hovertext\": [\"Morgan Schneiderlin\"], \"legendgroup\": \"Morgan Schneiderlin\", \"marker\": {\"color\": \"#00cc96\", \"size\": [0], \"sizemode\": \"area\", \"sizeref\": 0.05, \"symbol\": \"circle\"}, \"mode\": \"markers\", \"name\": \"Morgan Schneiderlin\", \"showlegend\": true, \"type\": \"scatter\", \"x\": [-0.1284838654100895], \"xaxis\": \"x\", \"y\": [0.1284838654100895], \"yaxis\": \"y\"}, {\"hovertemplate\": \"<b>%{hovertext}</b><br><br>player_name=Juan Mata<br>Assist and XA Difference=%{x}<br>xA=%{y}<br>assists=%{marker.size}<extra></extra>\", \"hovertext\": [\"Juan Mata\"], \"legendgroup\": \"Juan Mata\", \"marker\": {\"color\": \"#ab63fa\", \"size\": [2], \"sizemode\": \"area\", \"sizeref\": 0.05, \"symbol\": \"circle\"}, \"mode\": \"markers\", \"name\": \"Juan Mata\", \"showlegend\": true, \"type\": \"scatter\", \"x\": [-0.10493126511573792], \"xaxis\": \"x\", \"y\": [2.104931265115738], \"yaxis\": \"y\"}, {\"hovertemplate\": \"<b>%{hovertext}</b><br><br>player_name=Etienne Capoue<br>Assist and XA Difference=%{x}<br>xA=%{y}<br>assists=%{marker.size}<extra></extra>\", \"hovertext\": [\"Etienne Capoue\"], \"legendgroup\": \"Etienne Capoue\", \"marker\": {\"color\": \"#FFA15A\", \"size\": [3], \"sizemode\": \"area\", \"sizeref\": 0.05, \"symbol\": \"circle\"}, \"mode\": \"markers\", \"name\": \"Etienne Capoue\", \"showlegend\": true, \"type\": \"scatter\", \"x\": [0.45675294473767325], \"xaxis\": \"x\", \"y\": [2.5432470552623268], \"yaxis\": \"y\"}, {\"hovertemplate\": \"<b>%{hovertext}</b><br><br>player_name=James McCarthy<br>Assist and XA Difference=%{x}<br>xA=%{y}<br>assists=%{marker.size}<extra></extra>\", \"hovertext\": [\"James McCarthy\"], \"legendgroup\": \"James McCarthy\", \"marker\": {\"color\": \"#19d3f3\", \"size\": [0], \"sizemode\": \"area\", \"sizeref\": 0.05, \"symbol\": \"circle\"}, \"mode\": \"markers\", \"name\": \"James McCarthy\", \"showlegend\": true, \"type\": \"scatter\", \"x\": [-1.398389745503664], \"xaxis\": \"x\", \"y\": [1.398389745503664], \"yaxis\": \"y\"}, {\"hovertemplate\": \"<b>%{hovertext}</b><br><br>player_name=Aaron Lennon<br>Assist and XA Difference=%{x}<br>xA=%{y}<br>assists=%{marker.size}<extra></extra>\", \"hovertext\": [\"Aaron Lennon\"], \"legendgroup\": \"Aaron Lennon\", \"marker\": {\"color\": \"#FF6692\", \"size\": [0], \"sizemode\": \"area\", \"sizeref\": 0.05, \"symbol\": \"circle\"}, \"mode\": \"markers\", \"name\": \"Aaron Lennon\", \"showlegend\": true, \"type\": \"scatter\", \"x\": [-0.15801358222961426], \"xaxis\": \"x\", \"y\": [0.15801358222961426], \"yaxis\": \"y\"}, {\"hovertemplate\": \"<b>%{hovertext}</b><br><br>player_name=James McArthur<br>Assist and XA Difference=%{x}<br>xA=%{y}<br>assists=%{marker.size}<extra></extra>\", \"hovertext\": [\"James McArthur\"], \"legendgroup\": \"James McArthur\", \"marker\": {\"color\": \"#B6E880\", \"size\": [3], \"sizemode\": \"area\", \"sizeref\": 0.05, \"symbol\": \"circle\"}, \"mode\": \"markers\", \"name\": \"James McArthur\", \"showlegend\": true, \"type\": \"scatter\", \"x\": [0.003935344517231432], \"xaxis\": \"x\", \"y\": [2.9960646554827686], \"yaxis\": \"y\"}, {\"hovertemplate\": \"<b>%{hovertext}</b><br><br>player_name=Carlos S\\u00e1nchez<br>Assist and XA Difference=%{x}<br>xA=%{y}<br>assists=%{marker.size}<extra></extra>\", \"hovertext\": [\"Carlos S\\u00e1nchez\"], \"legendgroup\": \"Carlos S\\u00e1nchez\", \"marker\": {\"color\": \"#FF97FF\", \"size\": [0], \"sizemode\": \"area\", \"sizeref\": 0.05, \"symbol\": \"circle\"}, \"mode\": \"markers\", \"name\": \"Carlos S\\u00e1nchez\", \"showlegend\": true, \"type\": \"scatter\", \"x\": [0.0], \"xaxis\": \"x\", \"y\": [0.0], \"yaxis\": \"y\"}, {\"hovertemplate\": \"<b>%{hovertext}</b><br><br>player_name=Nemanja Matic<br>Assist and XA Difference=%{x}<br>xA=%{y}<br>assists=%{marker.size}<extra></extra>\", \"hovertext\": [\"Nemanja Matic\"], \"legendgroup\": \"Nemanja Matic\", \"marker\": {\"color\": \"#FECB52\", \"size\": [2], \"sizemode\": \"area\", \"sizeref\": 0.05, \"symbol\": \"circle\"}, \"mode\": \"markers\", \"name\": \"Nemanja Matic\", \"showlegend\": true, \"type\": \"scatter\", \"x\": [1.1053492464125156], \"xaxis\": \"x\", \"y\": [0.8946507535874844], \"yaxis\": \"y\"}, {\"hovertemplate\": \"<b>%{hovertext}</b><br><br>player_name=Jack Cork<br>Assist and XA Difference=%{x}<br>xA=%{y}<br>assists=%{marker.size}<extra></extra>\", \"hovertext\": [\"Jack Cork\"], \"legendgroup\": \"Jack Cork\", \"marker\": {\"color\": \"#636efa\", \"size\": [0], \"sizemode\": \"area\", \"sizeref\": 0.05, \"symbol\": \"circle\"}, \"mode\": \"markers\", \"name\": \"Jack Cork\", \"showlegend\": true, \"type\": \"scatter\", \"x\": [-1.1728481724858284], \"xaxis\": \"x\", \"y\": [1.1728481724858284], \"yaxis\": \"y\"}, {\"hovertemplate\": \"<b>%{hovertext}</b><br><br>player_name=Ki Sung-yueng<br>Assist and XA Difference=%{x}<br>xA=%{y}<br>assists=%{marker.size}<extra></extra>\", \"hovertext\": [\"Ki Sung-yueng\"], \"legendgroup\": \"Ki Sung-yueng\", \"marker\": {\"color\": \"#EF553B\", \"size\": [0], \"sizemode\": \"area\", \"sizeref\": 0.05, \"symbol\": \"circle\"}, \"mode\": \"markers\", \"name\": \"Ki Sung-yueng\", \"showlegend\": true, \"type\": \"scatter\", \"x\": [-0.055116582661867135], \"xaxis\": \"x\", \"y\": [0.055116582661867135], \"yaxis\": \"y\"}, {\"hovertemplate\": \"<b>%{hovertext}</b><br><br>player_name=Daniel Drinkwater<br>Assist and XA Difference=%{x}<br>xA=%{y}<br>assists=%{marker.size}<extra></extra>\", \"hovertext\": [\"Daniel Drinkwater\"], \"legendgroup\": \"Daniel Drinkwater\", \"marker\": {\"color\": \"#00cc96\", \"size\": [0], \"sizemode\": \"area\", \"sizeref\": 0.05, \"symbol\": \"circle\"}, \"mode\": \"markers\", \"name\": \"Daniel Drinkwater\", \"showlegend\": true, \"type\": \"scatter\", \"x\": [-0.040286142379045486], \"xaxis\": \"x\", \"y\": [0.040286142379045486], \"yaxis\": \"y\"}, {\"hovertemplate\": \"<b>%{hovertext}</b><br><br>player_name=Marc Albrighton<br>Assist and XA Difference=%{x}<br>xA=%{y}<br>assists=%{marker.size}<extra></extra>\", \"hovertext\": [\"Marc Albrighton\"], \"legendgroup\": \"Marc Albrighton\", \"marker\": {\"color\": \"#ab63fa\", \"size\": [3], \"sizemode\": \"area\", \"sizeref\": 0.05, \"symbol\": \"circle\"}, \"mode\": \"markers\", \"name\": \"Marc Albrighton\", \"showlegend\": true, \"type\": \"scatter\", \"x\": [0.7096625305712223], \"xaxis\": \"x\", \"y\": [2.2903374694287777], \"yaxis\": \"y\"}, {\"hovertemplate\": \"<b>%{hovertext}</b><br><br>player_name=Oriol Romeu<br>Assist and XA Difference=%{x}<br>xA=%{y}<br>assists=%{marker.size}<extra></extra>\", \"hovertext\": [\"Oriol Romeu\"], \"legendgroup\": \"Oriol Romeu\", \"marker\": {\"color\": \"#FFA15A\", \"size\": [0], \"sizemode\": \"area\", \"sizeref\": 0.05, \"symbol\": \"circle\"}, \"mode\": \"markers\", \"name\": \"Oriol Romeu\", \"showlegend\": true, \"type\": \"scatter\", \"x\": [-1.7172301672399044], \"xaxis\": \"x\", \"y\": [1.7172301672399044], \"yaxis\": \"y\"}, {\"hovertemplate\": \"<b>%{hovertext}</b><br><br>player_name=Fabian Delph<br>Assist and XA Difference=%{x}<br>xA=%{y}<br>assists=%{marker.size}<extra></extra>\", \"hovertext\": [\"Fabian Delph\"], \"legendgroup\": \"Fabian Delph\", \"marker\": {\"color\": \"#19d3f3\", \"size\": [0], \"sizemode\": \"area\", \"sizeref\": 0.05, \"symbol\": \"circle\"}, \"mode\": \"markers\", \"name\": \"Fabian Delph\", \"showlegend\": true, \"type\": \"scatter\", \"x\": [-0.4789176750928164], \"xaxis\": \"x\", \"y\": [0.4789176750928164], \"yaxis\": \"y\"}, {\"hovertemplate\": \"<b>%{hovertext}</b><br><br>player_name=Muhamed Besic<br>Assist and XA Difference=%{x}<br>xA=%{y}<br>assists=%{marker.size}<extra></extra>\", \"hovertext\": [\"Muhamed Besic\"], \"legendgroup\": \"Muhamed Besic\", \"marker\": {\"color\": \"#FF6692\", \"size\": [0], \"sizemode\": \"area\", \"sizeref\": 0.05, \"symbol\": \"circle\"}, \"mode\": \"markers\", \"name\": \"Muhamed Besic\", \"showlegend\": true, \"type\": \"scatter\", \"x\": [-0.0868392065167427], \"xaxis\": \"x\", \"y\": [0.0868392065167427], \"yaxis\": \"y\"}, {\"hovertemplate\": \"<b>%{hovertext}</b><br><br>player_name=Nabil Bentaleb<br>Assist and XA Difference=%{x}<br>xA=%{y}<br>assists=%{marker.size}<extra></extra>\", \"hovertext\": [\"Nabil Bentaleb\"], \"legendgroup\": \"Nabil Bentaleb\", \"marker\": {\"color\": \"#B6E880\", \"size\": [0], \"sizemode\": \"area\", \"sizeref\": 0.05, \"symbol\": \"circle\"}, \"mode\": \"markers\", \"name\": \"Nabil Bentaleb\", \"showlegend\": true, \"type\": \"scatter\", \"x\": [-0.19530144333839414], \"xaxis\": \"x\", \"y\": [0.19530144333839414], \"yaxis\": \"y\"}, {\"hovertemplate\": \"<b>%{hovertext}</b><br><br>player_name=Harry Winks<br>Assist and XA Difference=%{x}<br>xA=%{y}<br>assists=%{marker.size}<extra></extra>\", \"hovertext\": [\"Harry Winks\"], \"legendgroup\": \"Harry Winks\", \"marker\": {\"color\": \"#FF97FF\", \"size\": [0], \"sizemode\": \"area\", \"sizeref\": 0.05, \"symbol\": \"circle\"}, \"mode\": \"markers\", \"name\": \"Harry Winks\", \"showlegend\": true, \"type\": \"scatter\", \"x\": [-0.8992681000381708], \"xaxis\": \"x\", \"y\": [0.8992681000381708], \"yaxis\": \"y\"}, {\"hovertemplate\": \"<b>%{hovertext}</b><br><br>player_name=Jack Wilshere<br>Assist and XA Difference=%{x}<br>xA=%{y}<br>assists=%{marker.size}<extra></extra>\", \"hovertext\": [\"Jack Wilshere\"], \"legendgroup\": \"Jack Wilshere\", \"marker\": {\"color\": \"#FECB52\", \"size\": [0], \"sizemode\": \"area\", \"sizeref\": 0.05, \"symbol\": \"circle\"}, \"mode\": \"markers\", \"name\": \"Jack Wilshere\", \"showlegend\": true, \"type\": \"scatter\", \"x\": [0.0], \"xaxis\": \"x\", \"y\": [0.0], \"yaxis\": \"y\"}, {\"hovertemplate\": \"<b>%{hovertext}</b><br><br>player_name=Moritz Leitner<br>Assist and XA Difference=%{x}<br>xA=%{y}<br>assists=%{marker.size}<extra></extra>\", \"hovertext\": [\"Moritz Leitner\"], \"legendgroup\": \"Moritz Leitner\", \"marker\": {\"color\": \"#636efa\", \"size\": [0], \"sizemode\": \"area\", \"sizeref\": 0.05, \"symbol\": \"circle\"}, \"mode\": \"markers\", \"name\": \"Moritz Leitner\", \"showlegend\": true, \"type\": \"scatter\", \"x\": [-0.3639685455709696], \"xaxis\": \"x\", \"y\": [0.3639685455709696], \"yaxis\": \"y\"}, {\"hovertemplate\": \"<b>%{hovertext}</b><br><br>player_name=Nathaniel Chalobah<br>Assist and XA Difference=%{x}<br>xA=%{y}<br>assists=%{marker.size}<extra></extra>\", \"hovertext\": [\"Nathaniel Chalobah\"], \"legendgroup\": \"Nathaniel Chalobah\", \"marker\": {\"color\": \"#EF553B\", \"size\": [1], \"sizemode\": \"area\", \"sizeref\": 0.05, \"symbol\": \"circle\"}, \"mode\": \"markers\", \"name\": \"Nathaniel Chalobah\", \"showlegend\": true, \"type\": \"scatter\", \"x\": [-0.6161380037665367], \"xaxis\": \"x\", \"y\": [1.6161380037665367], \"yaxis\": \"y\"}, {\"hovertemplate\": \"<b>%{hovertext}</b><br><br>player_name=Sofiane Boufal<br>Assist and XA Difference=%{x}<br>xA=%{y}<br>assists=%{marker.size}<extra></extra>\", \"hovertext\": [\"Sofiane Boufal\"], \"legendgroup\": \"Sofiane Boufal\", \"marker\": {\"color\": \"#00cc96\", \"size\": [2], \"sizemode\": \"area\", \"sizeref\": 0.05, \"symbol\": \"circle\"}, \"mode\": \"markers\", \"name\": \"Sofiane Boufal\", \"showlegend\": true, \"type\": \"scatter\", \"x\": [-0.6982589848339562], \"xaxis\": \"x\", \"y\": [2.698258984833956], \"yaxis\": \"y\"}, {\"hovertemplate\": \"<b>%{hovertext}</b><br><br>player_name=Nampalys Mendy<br>Assist and XA Difference=%{x}<br>xA=%{y}<br>assists=%{marker.size}<extra></extra>\", \"hovertext\": [\"Nampalys Mendy\"], \"legendgroup\": \"Nampalys Mendy\", \"marker\": {\"color\": \"#ab63fa\", \"size\": [0], \"sizemode\": \"area\", \"sizeref\": 0.05, \"symbol\": \"circle\"}, \"mode\": \"markers\", \"name\": \"Nampalys Mendy\", \"showlegend\": true, \"type\": \"scatter\", \"x\": [-0.08900724817067385], \"xaxis\": \"x\", \"y\": [0.08900724817067385], \"yaxis\": \"y\"}, {\"hovertemplate\": \"<b>%{hovertext}</b><br><br>player_name=Lewis Cook<br>Assist and XA Difference=%{x}<br>xA=%{y}<br>assists=%{marker.size}<extra></extra>\", \"hovertext\": [\"Lewis Cook\"], \"legendgroup\": \"Lewis Cook\", \"marker\": {\"color\": \"#FFA15A\", \"size\": [0], \"sizemode\": \"area\", \"sizeref\": 0.05, \"symbol\": \"circle\"}, \"mode\": \"markers\", \"name\": \"Lewis Cook\", \"showlegend\": true, \"type\": \"scatter\", \"x\": [-0.5486514251679182], \"xaxis\": \"x\", \"y\": [0.5486514251679182], \"yaxis\": \"y\"}, {\"hovertemplate\": \"<b>%{hovertext}</b><br><br>player_name=Christian Atsu<br>Assist and XA Difference=%{x}<br>xA=%{y}<br>assists=%{marker.size}<extra></extra>\", \"hovertext\": [\"Christian Atsu\"], \"legendgroup\": \"Christian Atsu\", \"marker\": {\"color\": \"#19d3f3\", \"size\": [3], \"sizemode\": \"area\", \"sizeref\": 0.05, \"symbol\": \"circle\"}, \"mode\": \"markers\", \"name\": \"Christian Atsu\", \"showlegend\": true, \"type\": \"scatter\", \"x\": [2.287698006257415], \"xaxis\": \"x\", \"y\": [0.7123019937425852], \"yaxis\": \"y\"}, {\"hovertemplate\": \"<b>%{hovertext}</b><br><br>player_name=Andr\\u00e9 Gomes<br>Assist and XA Difference=%{x}<br>xA=%{y}<br>assists=%{marker.size}<extra></extra>\", \"hovertext\": [\"Andr\\u00e9 Gomes\"], \"legendgroup\": \"Andr\\u00e9 Gomes\", \"marker\": {\"color\": \"#FF6692\", \"size\": [1], \"sizemode\": \"area\", \"sizeref\": 0.05, \"symbol\": \"circle\"}, \"mode\": \"markers\", \"name\": \"Andr\\u00e9 Gomes\", \"showlegend\": true, \"type\": \"scatter\", \"x\": [-0.10450759343802929], \"xaxis\": \"x\", \"y\": [1.1045075934380293], \"yaxis\": \"y\"}, {\"hovertemplate\": \"<b>%{hovertext}</b><br><br>player_name=Dani Ceballos<br>Assist and XA Difference=%{x}<br>xA=%{y}<br>assists=%{marker.size}<extra></extra>\", \"hovertext\": [\"Dani Ceballos\"], \"legendgroup\": \"Dani Ceballos\", \"marker\": {\"color\": \"#B6E880\", \"size\": [2], \"sizemode\": \"area\", \"sizeref\": 0.05, \"symbol\": \"circle\"}, \"mode\": \"markers\", \"name\": \"Dani Ceballos\", \"showlegend\": true, \"type\": \"scatter\", \"x\": [0.4238563310354948], \"xaxis\": \"x\", \"y\": [1.5761436689645052], \"yaxis\": \"y\"}, {\"hovertemplate\": \"<b>%{hovertext}</b><br><br>player_name=Dimitri Foulquier<br>Assist and XA Difference=%{x}<br>xA=%{y}<br>assists=%{marker.size}<extra></extra>\", \"hovertext\": [\"Dimitri Foulquier\"], \"legendgroup\": \"Dimitri Foulquier\", \"marker\": {\"color\": \"#FF97FF\", \"size\": [0], \"sizemode\": \"area\", \"sizeref\": 0.05, \"symbol\": \"circle\"}, \"mode\": \"markers\", \"name\": \"Dimitri Foulquier\", \"showlegend\": true, \"type\": \"scatter\", \"x\": [0.0], \"xaxis\": \"x\", \"y\": [0.0], \"yaxis\": \"y\"}, {\"hovertemplate\": \"<b>%{hovertext}</b><br><br>player_name=Jean-Philippe Gbamin<br>Assist and XA Difference=%{x}<br>xA=%{y}<br>assists=%{marker.size}<extra></extra>\", \"hovertext\": [\"Jean-Philippe Gbamin\"], \"legendgroup\": \"Jean-Philippe Gbamin\", \"marker\": {\"color\": \"#FECB52\", \"size\": [0], \"sizemode\": \"area\", \"sizeref\": 0.05, \"symbol\": \"circle\"}, \"mode\": \"markers\", \"name\": \"Jean-Philippe Gbamin\", \"showlegend\": true, \"type\": \"scatter\", \"x\": [0.0], \"xaxis\": \"x\", \"y\": [0.0], \"yaxis\": \"y\"}, {\"hovertemplate\": \"<b>%{hovertext}</b><br><br>player_name=Ondrej Duda<br>Assist and XA Difference=%{x}<br>xA=%{y}<br>assists=%{marker.size}<extra></extra>\", \"hovertext\": [\"Ondrej Duda\"], \"legendgroup\": \"Ondrej Duda\", \"marker\": {\"color\": \"#636efa\", \"size\": [0], \"sizemode\": \"area\", \"sizeref\": 0.05, \"symbol\": \"circle\"}, \"mode\": \"markers\", \"name\": \"Ondrej Duda\", \"showlegend\": true, \"type\": \"scatter\", \"x\": [-1.5336673818528652], \"xaxis\": \"x\", \"y\": [1.5336673818528652], \"yaxis\": \"y\"}, {\"hovertemplate\": \"<b>%{hovertext}</b><br><br>player_name=Giovani Lo Celso<br>Assist and XA Difference=%{x}<br>xA=%{y}<br>assists=%{marker.size}<extra></extra>\", \"hovertext\": [\"Giovani Lo Celso\"], \"legendgroup\": \"Giovani Lo Celso\", \"marker\": {\"color\": \"#EF553B\", \"size\": [2], \"sizemode\": \"area\", \"sizeref\": 0.05, \"symbol\": \"circle\"}, \"mode\": \"markers\", \"name\": \"Giovani Lo Celso\", \"showlegend\": true, \"type\": \"scatter\", \"x\": [0.2927081659436226], \"xaxis\": \"x\", \"y\": [1.7072918340563774], \"yaxis\": \"y\"}, {\"hovertemplate\": \"<b>%{hovertext}</b><br><br>player_name=Matteo Guendouzi<br>Assist and XA Difference=%{x}<br>xA=%{y}<br>assists=%{marker.size}<extra></extra>\", \"hovertext\": [\"Matteo Guendouzi\"], \"legendgroup\": \"Matteo Guendouzi\", \"marker\": {\"color\": \"#00cc96\", \"size\": [1], \"sizemode\": \"area\", \"sizeref\": 0.05, \"symbol\": \"circle\"}, \"mode\": \"markers\", \"name\": \"Matteo Guendouzi\", \"showlegend\": true, \"type\": \"scatter\", \"x\": [-0.06330328434705712], \"xaxis\": \"x\", \"y\": [1.0633032843470571], \"yaxis\": \"y\"}, {\"hovertemplate\": \"<b>%{hovertext}</b><br><br>player_name=Dale Stephens<br>Assist and XA Difference=%{x}<br>xA=%{y}<br>assists=%{marker.size}<extra></extra>\", \"hovertext\": [\"Dale Stephens\"], \"legendgroup\": \"Dale Stephens\", \"marker\": {\"color\": \"#ab63fa\", \"size\": [1], \"sizemode\": \"area\", \"sizeref\": 0.05, \"symbol\": \"circle\"}, \"mode\": \"markers\", \"name\": \"Dale Stephens\", \"showlegend\": true, \"type\": \"scatter\", \"x\": [-0.24719187803566456], \"xaxis\": \"x\", \"y\": [1.2471918780356646], \"yaxis\": \"y\"}, {\"hovertemplate\": \"<b>%{hovertext}</b><br><br>player_name=Fred<br>Assist and XA Difference=%{x}<br>xA=%{y}<br>assists=%{marker.size}<extra></extra>\", \"hovertext\": [\"Fred\"], \"legendgroup\": \"Fred\", \"marker\": {\"color\": \"#FFA15A\", \"size\": [0], \"sizemode\": \"area\", \"sizeref\": 0.05, \"symbol\": \"circle\"}, \"mode\": \"markers\", \"name\": \"Fred\", \"showlegend\": true, \"type\": \"scatter\", \"x\": [-2.3141325432807207], \"xaxis\": \"x\", \"y\": [2.3141325432807207], \"yaxis\": \"y\"}, {\"hovertemplate\": \"<b>%{hovertext}</b><br><br>player_name=R\\u00faben Vinagre<br>Assist and XA Difference=%{x}<br>xA=%{y}<br>assists=%{marker.size}<extra></extra>\", \"hovertext\": [\"R\\u00faben Vinagre\"], \"legendgroup\": \"R\\u00faben Vinagre\", \"marker\": {\"color\": \"#19d3f3\", \"size\": [0], \"sizemode\": \"area\", \"sizeref\": 0.05, \"symbol\": \"circle\"}, \"mode\": \"markers\", \"name\": \"R\\u00faben Vinagre\", \"showlegend\": true, \"type\": \"scatter\", \"x\": [-0.6194777600467205], \"xaxis\": \"x\", \"y\": [0.6194777600467205], \"yaxis\": \"y\"}, {\"hovertemplate\": \"<b>%{hovertext}</b><br><br>player_name=Morgan Gibbs-White<br>Assist and XA Difference=%{x}<br>xA=%{y}<br>assists=%{marker.size}<extra></extra>\", \"hovertext\": [\"Morgan Gibbs-White\"], \"legendgroup\": \"Morgan Gibbs-White\", \"marker\": {\"color\": \"#FF6692\", \"size\": [0], \"sizemode\": \"area\", \"sizeref\": 0.05, \"symbol\": \"circle\"}, \"mode\": \"markers\", \"name\": \"Morgan Gibbs-White\", \"showlegend\": true, \"type\": \"scatter\", \"x\": [-0.0708760917186737], \"xaxis\": \"x\", \"y\": [0.0708760917186737], \"yaxis\": \"y\"}, {\"hovertemplate\": \"<b>%{hovertext}</b><br><br>player_name=Oliver Skipp<br>Assist and XA Difference=%{x}<br>xA=%{y}<br>assists=%{marker.size}<extra></extra>\", \"hovertext\": [\"Oliver Skipp\"], \"legendgroup\": \"Oliver Skipp\", \"marker\": {\"color\": \"#B6E880\", \"size\": [0], \"sizemode\": \"area\", \"sizeref\": 0.05, \"symbol\": \"circle\"}, \"mode\": \"markers\", \"name\": \"Oliver Skipp\", \"showlegend\": true, \"type\": \"scatter\", \"x\": [0.0], \"xaxis\": \"x\", \"y\": [0.0], \"yaxis\": \"y\"}, {\"hovertemplate\": \"<b>%{hovertext}</b><br><br>player_name=Emile Smith-Rowe<br>Assist and XA Difference=%{x}<br>xA=%{y}<br>assists=%{marker.size}<extra></extra>\", \"hovertext\": [\"Emile Smith-Rowe\"], \"legendgroup\": \"Emile Smith-Rowe\", \"marker\": {\"color\": \"#FF97FF\", \"size\": [0], \"sizemode\": \"area\", \"sizeref\": 0.05, \"symbol\": \"circle\"}, \"mode\": \"markers\", \"name\": \"Emile Smith-Rowe\", \"showlegend\": true, \"type\": \"scatter\", \"x\": [0.0], \"xaxis\": \"x\", \"y\": [0.0], \"yaxis\": \"y\"}, {\"hovertemplate\": \"<b>%{hovertext}</b><br><br>player_name=Tom Trybull<br>Assist and XA Difference=%{x}<br>xA=%{y}<br>assists=%{marker.size}<extra></extra>\", \"hovertext\": [\"Tom Trybull\"], \"legendgroup\": \"Tom Trybull\", \"marker\": {\"color\": \"#FECB52\", \"size\": [0], \"sizemode\": \"area\", \"sizeref\": 0.05, \"symbol\": \"circle\"}, \"mode\": \"markers\", \"name\": \"Tom Trybull\", \"showlegend\": true, \"type\": \"scatter\", \"x\": [-0.1500192228704691], \"xaxis\": \"x\", \"y\": [0.1500192228704691], \"yaxis\": \"y\"}, {\"hovertemplate\": \"<b>%{hovertext}</b><br><br>player_name=Marco Stiepermann<br>Assist and XA Difference=%{x}<br>xA=%{y}<br>assists=%{marker.size}<extra></extra>\", \"hovertext\": [\"Marco Stiepermann\"], \"legendgroup\": \"Marco Stiepermann\", \"marker\": {\"color\": \"#636efa\", \"size\": [0], \"sizemode\": \"area\", \"sizeref\": 0.05, \"symbol\": \"circle\"}, \"mode\": \"markers\", \"name\": \"Marco Stiepermann\", \"showlegend\": true, \"type\": \"scatter\", \"x\": [-0.9374048952013254], \"xaxis\": \"x\", \"y\": [0.9374048952013254], \"yaxis\": \"y\"}, {\"hovertemplate\": \"<b>%{hovertext}</b><br><br>player_name=Luke Freeman<br>Assist and XA Difference=%{x}<br>xA=%{y}<br>assists=%{marker.size}<extra></extra>\", \"hovertext\": [\"Luke Freeman\"], \"legendgroup\": \"Luke Freeman\", \"marker\": {\"color\": \"#EF553B\", \"size\": [0], \"sizemode\": \"area\", \"sizeref\": 0.05, \"symbol\": \"circle\"}, \"mode\": \"markers\", \"name\": \"Luke Freeman\", \"showlegend\": true, \"type\": \"scatter\", \"x\": [-0.18556103855371475], \"xaxis\": \"x\", \"y\": [0.18556103855371475], \"yaxis\": \"y\"}, {\"hovertemplate\": \"<b>%{hovertext}</b><br><br>player_name=Ben Osborn<br>Assist and XA Difference=%{x}<br>xA=%{y}<br>assists=%{marker.size}<extra></extra>\", \"hovertext\": [\"Ben Osborn\"], \"legendgroup\": \"Ben Osborn\", \"marker\": {\"color\": \"#00cc96\", \"size\": [0], \"sizemode\": \"area\", \"sizeref\": 0.05, \"symbol\": \"circle\"}, \"mode\": \"markers\", \"name\": \"Ben Osborn\", \"showlegend\": true, \"type\": \"scatter\", \"x\": [-0.8878793343901634], \"xaxis\": \"x\", \"y\": [0.8878793343901634], \"yaxis\": \"y\"}, {\"hovertemplate\": \"<b>%{hovertext}</b><br><br>player_name=Henri Lansbury<br>Assist and XA Difference=%{x}<br>xA=%{y}<br>assists=%{marker.size}<extra></extra>\", \"hovertext\": [\"Henri Lansbury\"], \"legendgroup\": \"Henri Lansbury\", \"marker\": {\"color\": \"#ab63fa\", \"size\": [0], \"sizemode\": \"area\", \"sizeref\": 0.05, \"symbol\": \"circle\"}, \"mode\": \"markers\", \"name\": \"Henri Lansbury\", \"showlegend\": true, \"type\": \"scatter\", \"x\": [-0.06579376012086867], \"xaxis\": \"x\", \"y\": [0.06579376012086867], \"yaxis\": \"y\"}, {\"hovertemplate\": \"<b>%{hovertext}</b><br><br>player_name=Billy Gilmour<br>Assist and XA Difference=%{x}<br>xA=%{y}<br>assists=%{marker.size}<extra></extra>\", \"hovertext\": [\"Billy Gilmour\"], \"legendgroup\": \"Billy Gilmour\", \"marker\": {\"color\": \"#FFA15A\", \"size\": [0], \"sizemode\": \"area\", \"sizeref\": 0.05, \"symbol\": \"circle\"}, \"mode\": \"markers\", \"name\": \"Billy Gilmour\", \"showlegend\": true, \"type\": \"scatter\", \"x\": [-0.18802570179104805], \"xaxis\": \"x\", \"y\": [0.18802570179104805], \"yaxis\": \"y\"}, {\"hovertemplate\": \"<b>%{hovertext}</b><br><br>player_name=Marvelous Nakamba<br>Assist and XA Difference=%{x}<br>xA=%{y}<br>assists=%{marker.size}<extra></extra>\", \"hovertext\": [\"Marvelous Nakamba\"], \"legendgroup\": \"Marvelous Nakamba\", \"marker\": {\"color\": \"#19d3f3\", \"size\": [0], \"sizemode\": \"area\", \"sizeref\": 0.05, \"symbol\": \"circle\"}, \"mode\": \"markers\", \"name\": \"Marvelous Nakamba\", \"showlegend\": true, \"type\": \"scatter\", \"x\": [-0.5477455304935575], \"xaxis\": \"x\", \"y\": [0.5477455304935575], \"yaxis\": \"y\"}, {\"hovertemplate\": \"<b>%{hovertext}</b><br><br>player_name=Arnaut Danjuma Groeneveld<br>Assist and XA Difference=%{x}<br>xA=%{y}<br>assists=%{marker.size}<extra></extra>\", \"hovertext\": [\"Arnaut Danjuma Groeneveld\"], \"legendgroup\": \"Arnaut Danjuma Groeneveld\", \"marker\": {\"color\": \"#FF6692\", \"size\": [0], \"sizemode\": \"area\", \"sizeref\": 0.05, \"symbol\": \"circle\"}, \"mode\": \"markers\", \"name\": \"Arnaut Danjuma Groeneveld\", \"showlegend\": true, \"type\": \"scatter\", \"x\": [-0.16391022875905034], \"xaxis\": \"x\", \"y\": [0.16391022875905034], \"yaxis\": \"y\"}, {\"hovertemplate\": \"<b>%{hovertext}</b><br><br>player_name=Anthony Gordon<br>Assist and XA Difference=%{x}<br>xA=%{y}<br>assists=%{marker.size}<extra></extra>\", \"hovertext\": [\"Anthony Gordon\"], \"legendgroup\": \"Anthony Gordon\", \"marker\": {\"color\": \"#B6E880\", \"size\": [1], \"sizemode\": \"area\", \"sizeref\": 0.05, \"symbol\": \"circle\"}, \"mode\": \"markers\", \"name\": \"Anthony Gordon\", \"showlegend\": true, \"type\": \"scatter\", \"x\": [0.6600502505898476], \"xaxis\": \"x\", \"y\": [0.33994974941015244], \"yaxis\": \"y\"}, {\"hovertemplate\": \"<b>%{hovertext}</b><br><br>player_name=William Smallbone<br>Assist and XA Difference=%{x}<br>xA=%{y}<br>assists=%{marker.size}<extra></extra>\", \"hovertext\": [\"William Smallbone\"], \"legendgroup\": \"William Smallbone\", \"marker\": {\"color\": \"#FF97FF\", \"size\": [2], \"sizemode\": \"area\", \"sizeref\": 0.05, \"symbol\": \"circle\"}, \"mode\": \"markers\", \"name\": \"William Smallbone\", \"showlegend\": true, \"type\": \"scatter\", \"x\": [1.8278290145099163], \"xaxis\": \"x\", \"y\": [0.1721709854900837], \"yaxis\": \"y\"}, {\"hovertemplate\": \"<b>%{hovertext}</b><br><br>player_name=Josh Brownhill<br>Assist and XA Difference=%{x}<br>xA=%{y}<br>assists=%{marker.size}<extra></extra>\", \"hovertext\": [\"Josh Brownhill\"], \"legendgroup\": \"Josh Brownhill\", \"marker\": {\"color\": \"#FECB52\", \"size\": [0], \"sizemode\": \"area\", \"sizeref\": 0.05, \"symbol\": \"circle\"}, \"mode\": \"markers\", \"name\": \"Josh Brownhill\", \"showlegend\": true, \"type\": \"scatter\", \"x\": [-0.12225658446550368], \"xaxis\": \"x\", \"y\": [0.12225658446550368], \"yaxis\": \"y\"}, {\"hovertemplate\": \"<b>%{hovertext}</b><br><br>player_name=Luke Thomas<br>Assist and XA Difference=%{x}<br>xA=%{y}<br>assists=%{marker.size}<extra></extra>\", \"hovertext\": [\"Luke Thomas\"], \"legendgroup\": \"Luke Thomas\", \"marker\": {\"color\": \"#636efa\", \"size\": [1], \"sizemode\": \"area\", \"sizeref\": 0.05, \"symbol\": \"circle\"}, \"mode\": \"markers\", \"name\": \"Luke Thomas\", \"showlegend\": true, \"type\": \"scatter\", \"x\": [0.37001819908618927], \"xaxis\": \"x\", \"y\": [0.6299818009138107], \"yaxis\": \"y\"}],\n",
       "                        {\"legend\": {\"itemsizing\": \"constant\", \"title\": {\"text\": \"player_name\"}, \"tracegroupgap\": 0}, \"template\": {\"data\": {\"bar\": [{\"error_x\": {\"color\": \"#2a3f5f\"}, \"error_y\": {\"color\": \"#2a3f5f\"}, \"marker\": {\"line\": {\"color\": \"#E5ECF6\", \"width\": 0.5}}, \"type\": \"bar\"}], \"barpolar\": [{\"marker\": {\"line\": {\"color\": \"#E5ECF6\", \"width\": 0.5}}, \"type\": \"barpolar\"}], \"carpet\": [{\"aaxis\": {\"endlinecolor\": \"#2a3f5f\", \"gridcolor\": \"white\", \"linecolor\": \"white\", \"minorgridcolor\": \"white\", \"startlinecolor\": \"#2a3f5f\"}, \"baxis\": {\"endlinecolor\": \"#2a3f5f\", \"gridcolor\": \"white\", \"linecolor\": \"white\", \"minorgridcolor\": \"white\", \"startlinecolor\": \"#2a3f5f\"}, \"type\": \"carpet\"}], \"choropleth\": [{\"colorbar\": {\"outlinewidth\": 0, \"ticks\": \"\"}, \"type\": \"choropleth\"}], \"contour\": [{\"colorbar\": {\"outlinewidth\": 0, \"ticks\": \"\"}, \"colorscale\": [[0.0, \"#0d0887\"], [0.1111111111111111, \"#46039f\"], [0.2222222222222222, \"#7201a8\"], [0.3333333333333333, \"#9c179e\"], [0.4444444444444444, \"#bd3786\"], [0.5555555555555556, \"#d8576b\"], [0.6666666666666666, \"#ed7953\"], [0.7777777777777778, \"#fb9f3a\"], [0.8888888888888888, \"#fdca26\"], [1.0, \"#f0f921\"]], \"type\": \"contour\"}], \"contourcarpet\": [{\"colorbar\": {\"outlinewidth\": 0, \"ticks\": \"\"}, \"type\": \"contourcarpet\"}], \"heatmap\": [{\"colorbar\": {\"outlinewidth\": 0, \"ticks\": \"\"}, \"colorscale\": [[0.0, \"#0d0887\"], [0.1111111111111111, \"#46039f\"], [0.2222222222222222, \"#7201a8\"], [0.3333333333333333, \"#9c179e\"], [0.4444444444444444, \"#bd3786\"], [0.5555555555555556, \"#d8576b\"], [0.6666666666666666, \"#ed7953\"], [0.7777777777777778, \"#fb9f3a\"], [0.8888888888888888, \"#fdca26\"], [1.0, \"#f0f921\"]], \"type\": \"heatmap\"}], \"heatmapgl\": [{\"colorbar\": {\"outlinewidth\": 0, \"ticks\": \"\"}, \"colorscale\": [[0.0, \"#0d0887\"], [0.1111111111111111, \"#46039f\"], [0.2222222222222222, \"#7201a8\"], [0.3333333333333333, \"#9c179e\"], [0.4444444444444444, \"#bd3786\"], [0.5555555555555556, \"#d8576b\"], [0.6666666666666666, \"#ed7953\"], [0.7777777777777778, \"#fb9f3a\"], [0.8888888888888888, \"#fdca26\"], [1.0, \"#f0f921\"]], \"type\": \"heatmapgl\"}], \"histogram\": [{\"marker\": {\"colorbar\": {\"outlinewidth\": 0, \"ticks\": \"\"}}, \"type\": \"histogram\"}], \"histogram2d\": [{\"colorbar\": {\"outlinewidth\": 0, \"ticks\": \"\"}, \"colorscale\": [[0.0, \"#0d0887\"], [0.1111111111111111, \"#46039f\"], [0.2222222222222222, \"#7201a8\"], [0.3333333333333333, \"#9c179e\"], [0.4444444444444444, \"#bd3786\"], [0.5555555555555556, \"#d8576b\"], [0.6666666666666666, \"#ed7953\"], [0.7777777777777778, \"#fb9f3a\"], [0.8888888888888888, \"#fdca26\"], [1.0, \"#f0f921\"]], \"type\": \"histogram2d\"}], \"histogram2dcontour\": [{\"colorbar\": {\"outlinewidth\": 0, \"ticks\": \"\"}, \"colorscale\": [[0.0, \"#0d0887\"], [0.1111111111111111, \"#46039f\"], [0.2222222222222222, \"#7201a8\"], [0.3333333333333333, \"#9c179e\"], [0.4444444444444444, \"#bd3786\"], [0.5555555555555556, \"#d8576b\"], [0.6666666666666666, \"#ed7953\"], [0.7777777777777778, \"#fb9f3a\"], [0.8888888888888888, \"#fdca26\"], [1.0, \"#f0f921\"]], \"type\": \"histogram2dcontour\"}], \"mesh3d\": [{\"colorbar\": {\"outlinewidth\": 0, \"ticks\": \"\"}, \"type\": \"mesh3d\"}], \"parcoords\": [{\"line\": {\"colorbar\": {\"outlinewidth\": 0, \"ticks\": \"\"}}, \"type\": \"parcoords\"}], \"pie\": [{\"automargin\": true, \"type\": \"pie\"}], \"scatter\": [{\"marker\": {\"colorbar\": {\"outlinewidth\": 0, \"ticks\": \"\"}}, \"type\": \"scatter\"}], \"scatter3d\": [{\"line\": {\"colorbar\": {\"outlinewidth\": 0, \"ticks\": \"\"}}, \"marker\": {\"colorbar\": {\"outlinewidth\": 0, \"ticks\": \"\"}}, \"type\": \"scatter3d\"}], \"scattercarpet\": [{\"marker\": {\"colorbar\": {\"outlinewidth\": 0, \"ticks\": \"\"}}, \"type\": \"scattercarpet\"}], \"scattergeo\": [{\"marker\": {\"colorbar\": {\"outlinewidth\": 0, \"ticks\": \"\"}}, \"type\": \"scattergeo\"}], \"scattergl\": [{\"marker\": {\"colorbar\": {\"outlinewidth\": 0, \"ticks\": \"\"}}, \"type\": \"scattergl\"}], \"scattermapbox\": [{\"marker\": {\"colorbar\": {\"outlinewidth\": 0, \"ticks\": \"\"}}, \"type\": \"scattermapbox\"}], \"scatterpolar\": [{\"marker\": {\"colorbar\": {\"outlinewidth\": 0, \"ticks\": \"\"}}, \"type\": \"scatterpolar\"}], \"scatterpolargl\": [{\"marker\": {\"colorbar\": {\"outlinewidth\": 0, \"ticks\": \"\"}}, \"type\": \"scatterpolargl\"}], \"scatterternary\": [{\"marker\": {\"colorbar\": {\"outlinewidth\": 0, \"ticks\": \"\"}}, \"type\": \"scatterternary\"}], \"surface\": [{\"colorbar\": {\"outlinewidth\": 0, \"ticks\": \"\"}, \"colorscale\": [[0.0, \"#0d0887\"], [0.1111111111111111, \"#46039f\"], [0.2222222222222222, \"#7201a8\"], [0.3333333333333333, \"#9c179e\"], [0.4444444444444444, \"#bd3786\"], [0.5555555555555556, \"#d8576b\"], [0.6666666666666666, \"#ed7953\"], [0.7777777777777778, \"#fb9f3a\"], [0.8888888888888888, \"#fdca26\"], [1.0, \"#f0f921\"]], \"type\": \"surface\"}], \"table\": [{\"cells\": {\"fill\": {\"color\": \"#EBF0F8\"}, \"line\": {\"color\": \"white\"}}, \"header\": {\"fill\": {\"color\": \"#C8D4E3\"}, \"line\": {\"color\": \"white\"}}, \"type\": \"table\"}]}, \"layout\": {\"annotationdefaults\": {\"arrowcolor\": \"#2a3f5f\", \"arrowhead\": 0, \"arrowwidth\": 1}, \"coloraxis\": {\"colorbar\": {\"outlinewidth\": 0, \"ticks\": \"\"}}, \"colorscale\": {\"diverging\": [[0, \"#8e0152\"], [0.1, \"#c51b7d\"], [0.2, \"#de77ae\"], [0.3, \"#f1b6da\"], [0.4, \"#fde0ef\"], [0.5, \"#f7f7f7\"], [0.6, \"#e6f5d0\"], [0.7, \"#b8e186\"], [0.8, \"#7fbc41\"], [0.9, \"#4d9221\"], [1, \"#276419\"]], \"sequential\": [[0.0, \"#0d0887\"], [0.1111111111111111, \"#46039f\"], [0.2222222222222222, \"#7201a8\"], [0.3333333333333333, \"#9c179e\"], [0.4444444444444444, \"#bd3786\"], [0.5555555555555556, \"#d8576b\"], [0.6666666666666666, \"#ed7953\"], [0.7777777777777778, \"#fb9f3a\"], [0.8888888888888888, \"#fdca26\"], [1.0, \"#f0f921\"]], \"sequentialminus\": [[0.0, \"#0d0887\"], [0.1111111111111111, \"#46039f\"], [0.2222222222222222, \"#7201a8\"], [0.3333333333333333, \"#9c179e\"], [0.4444444444444444, \"#bd3786\"], [0.5555555555555556, \"#d8576b\"], [0.6666666666666666, \"#ed7953\"], [0.7777777777777778, \"#fb9f3a\"], [0.8888888888888888, \"#fdca26\"], [1.0, \"#f0f921\"]]}, \"colorway\": [\"#636efa\", \"#EF553B\", \"#00cc96\", \"#ab63fa\", \"#FFA15A\", \"#19d3f3\", \"#FF6692\", \"#B6E880\", \"#FF97FF\", \"#FECB52\"], \"font\": {\"color\": \"#2a3f5f\"}, \"geo\": {\"bgcolor\": \"white\", \"lakecolor\": \"white\", \"landcolor\": \"#E5ECF6\", \"showlakes\": true, \"showland\": true, \"subunitcolor\": \"white\"}, \"hoverlabel\": {\"align\": \"left\"}, \"hovermode\": \"closest\", \"mapbox\": {\"style\": \"light\"}, \"paper_bgcolor\": \"white\", \"plot_bgcolor\": \"#E5ECF6\", \"polar\": {\"angularaxis\": {\"gridcolor\": \"white\", \"linecolor\": \"white\", \"ticks\": \"\"}, \"bgcolor\": \"#E5ECF6\", \"radialaxis\": {\"gridcolor\": \"white\", \"linecolor\": \"white\", \"ticks\": \"\"}}, \"scene\": {\"xaxis\": {\"backgroundcolor\": \"#E5ECF6\", \"gridcolor\": \"white\", \"gridwidth\": 2, \"linecolor\": \"white\", \"showbackground\": true, \"ticks\": \"\", \"zerolinecolor\": \"white\"}, \"yaxis\": {\"backgroundcolor\": \"#E5ECF6\", \"gridcolor\": \"white\", \"gridwidth\": 2, \"linecolor\": \"white\", \"showbackground\": true, \"ticks\": \"\", \"zerolinecolor\": \"white\"}, \"zaxis\": {\"backgroundcolor\": \"#E5ECF6\", \"gridcolor\": \"white\", \"gridwidth\": 2, \"linecolor\": \"white\", \"showbackground\": true, \"ticks\": \"\", \"zerolinecolor\": \"white\"}}, \"shapedefaults\": {\"line\": {\"color\": \"#2a3f5f\"}}, \"ternary\": {\"aaxis\": {\"gridcolor\": \"white\", \"linecolor\": \"white\", \"ticks\": \"\"}, \"baxis\": {\"gridcolor\": \"white\", \"linecolor\": \"white\", \"ticks\": \"\"}, \"bgcolor\": \"#E5ECF6\", \"caxis\": {\"gridcolor\": \"white\", \"linecolor\": \"white\", \"ticks\": \"\"}}, \"title\": {\"x\": 0.05}, \"xaxis\": {\"automargin\": true, \"gridcolor\": \"white\", \"linecolor\": \"white\", \"ticks\": \"\", \"title\": {\"standoff\": 15}, \"zerolinecolor\": \"white\", \"zerolinewidth\": 2}, \"yaxis\": {\"automargin\": true, \"gridcolor\": \"white\", \"linecolor\": \"white\", \"ticks\": \"\", \"title\": {\"standoff\": 15}, \"zerolinecolor\": \"white\", \"zerolinewidth\": 2}}}, \"title\": {\"text\": \"xA PL MIDs\"}, \"xaxis\": {\"anchor\": \"y\", \"domain\": [0.0, 1.0], \"title\": {\"text\": \"Assist and XA Difference\"}}, \"yaxis\": {\"anchor\": \"x\", \"domain\": [0.0, 1.0], \"title\": {\"text\": \"xA\"}}},\n",
       "                        {\"responsive\": true}\n",
       "                    ).then(function(){\n",
       "                            \n",
       "var gd = document.getElementById('add5dde9-2b6f-46f0-8f3d-60d757662130');\n",
       "var x = new MutationObserver(function (mutations, observer) {{\n",
       "        var display = window.getComputedStyle(gd).display;\n",
       "        if (!display || display === 'none') {{\n",
       "            console.log([gd, 'removed!']);\n",
       "            Plotly.purge(gd);\n",
       "            observer.disconnect();\n",
       "        }}\n",
       "}});\n",
       "\n",
       "// Listen for the removal of the full notebook cells\n",
       "var notebookContainer = gd.closest('#notebook-container');\n",
       "if (notebookContainer) {{\n",
       "    x.observe(notebookContainer, {childList: true});\n",
       "}}\n",
       "\n",
       "// Listen for the clearing of the current output cell\n",
       "var outputEl = gd.closest('.output');\n",
       "if (outputEl) {{\n",
       "    x.observe(outputEl, {childList: true});\n",
       "}}\n",
       "\n",
       "                        })\n",
       "                };\n",
       "                });\n",
       "            </script>\n",
       "        </div>"
      ]
     },
     "metadata": {},
     "output_type": "display_data"
    }
   ],
   "source": [
    "# Similarly, for midfielders, we can look at xA\n",
    "midStats['Assist and XA Difference'] = midStats['assists'] - midStats['xA']\n",
    "fig = px.scatter(midStats, x=\"Assist and XA Difference\", y=\"xA\", color=\"player_name\", size = 'assists', hover_name=\"player_name\",\n",
    "                title = 'xA PL MIDs')\n",
    "fig.show()"
   ]
  },
  {
   "cell_type": "code",
   "execution_count": 83,
   "metadata": {},
   "outputs": [
    {
     "data": {
      "application/vnd.plotly.v1+json": {
       "config": {
        "plotlyServerURL": "https://plot.ly"
       },
       "data": [
        {
         "hovertemplate": "<b>%{hovertext}</b><br><br>player_name=Kevin De Bruyne<br>Goal and XG Difference=%{x}<br>xG=%{y}<br>goals=%{marker.size}<extra></extra>",
         "hovertext": [
          "Kevin De Bruyne"
         ],
         "legendgroup": "Kevin De Bruyne",
         "marker": {
          "color": "#636efa",
          "size": [
           14
          ],
          "sizemode": "area",
          "sizeref": 0.035,
          "symbol": "circle"
         },
         "mode": "markers",
         "name": "Kevin De Bruyne",
         "showlegend": true,
         "type": "scatter",
         "x": [
          5.8935721646994335
         ],
         "xaxis": "x",
         "y": [
          8.106427835300567
         ],
         "yaxis": "y"
        },
        {
         "hovertemplate": "<b>%{hovertext}</b><br><br>player_name=Bruno Fernandes<br>Goal and XG Difference=%{x}<br>xG=%{y}<br>goals=%{marker.size}<extra></extra>",
         "hovertext": [
          "Bruno Fernandes"
         ],
         "legendgroup": "Bruno Fernandes",
         "marker": {
          "color": "#EF553B",
          "size": [
           8
          ],
          "sizemode": "area",
          "sizeref": 0.035,
          "symbol": "circle"
         },
         "mode": "markers",
         "name": "Bruno Fernandes",
         "showlegend": true,
         "type": "scatter",
         "x": [
          2.0139194950461388
         ],
         "xaxis": "x",
         "y": [
          5.986080504953861
         ],
         "yaxis": "y"
        },
        {
         "hovertemplate": "<b>%{hovertext}</b><br><br>player_name=Jonjo Shelvey<br>Goal and XG Difference=%{x}<br>xG=%{y}<br>goals=%{marker.size}<extra></extra>",
         "hovertext": [
          "Jonjo Shelvey"
         ],
         "legendgroup": "Jonjo Shelvey",
         "marker": {
          "color": "#00cc96",
          "size": [
           6
          ],
          "sizemode": "area",
          "sizeref": 0.035,
          "symbol": "circle"
         },
         "mode": "markers",
         "name": "Jonjo Shelvey",
         "showlegend": true,
         "type": "scatter",
         "x": [
          3.7577862199395895
         ],
         "xaxis": "x",
         "y": [
          2.2422137800604105
         ],
         "yaxis": "y"
        },
        {
         "hovertemplate": "<b>%{hovertext}</b><br><br>player_name=James Maddison<br>Goal and XG Difference=%{x}<br>xG=%{y}<br>goals=%{marker.size}<extra></extra>",
         "hovertext": [
          "James Maddison"
         ],
         "legendgroup": "James Maddison",
         "marker": {
          "color": "#ab63fa",
          "size": [
           6
          ],
          "sizemode": "area",
          "sizeref": 0.035,
          "symbol": "circle"
         },
         "mode": "markers",
         "name": "James Maddison",
         "showlegend": true,
         "type": "scatter",
         "x": [
          0.9782250840216875
         ],
         "xaxis": "x",
         "y": [
          5.0217749159783125
         ],
         "yaxis": "y"
        },
        {
         "hovertemplate": "<b>%{hovertext}</b><br><br>player_name=Todd Cantwell<br>Goal and XG Difference=%{x}<br>xG=%{y}<br>goals=%{marker.size}<extra></extra>",
         "hovertext": [
          "Todd Cantwell"
         ],
         "legendgroup": "Todd Cantwell",
         "marker": {
          "color": "#FFA15A",
          "size": [
           6
          ],
          "sizemode": "area",
          "sizeref": 0.035,
          "symbol": "circle"
         },
         "mode": "markers",
         "name": "Todd Cantwell",
         "showlegend": true,
         "type": "scatter",
         "x": [
          0.32495102006942034
         ],
         "xaxis": "x",
         "y": [
          5.67504897993058
         ],
         "yaxis": "y"
        },
        {
         "hovertemplate": "<b>%{hovertext}</b><br><br>player_name=David Silva<br>Goal and XG Difference=%{x}<br>xG=%{y}<br>goals=%{marker.size}<extra></extra>",
         "hovertext": [
          "David Silva"
         ],
         "legendgroup": "David Silva",
         "marker": {
          "color": "#19d3f3",
          "size": [
           5
          ],
          "sizemode": "area",
          "sizeref": 0.035,
          "symbol": "circle"
         },
         "mode": "markers",
         "name": "David Silva",
         "showlegend": true,
         "type": "scatter",
         "x": [
          -1.93236867710948
         ],
         "xaxis": "x",
         "y": [
          6.93236867710948
         ],
         "yaxis": "y"
        },
        {
         "hovertemplate": "<b>%{hovertext}</b><br><br>player_name=Andriy Yarmolenko<br>Goal and XG Difference=%{x}<br>xG=%{y}<br>goals=%{marker.size}<extra></extra>",
         "hovertext": [
          "Andriy Yarmolenko"
         ],
         "legendgroup": "Andriy Yarmolenko",
         "marker": {
          "color": "#FF6692",
          "size": [
           5
          ],
          "sizemode": "area",
          "sizeref": 0.035,
          "symbol": "circle"
         },
         "mode": "markers",
         "name": "Andriy Yarmolenko",
         "showlegend": true,
         "type": "scatter",
         "x": [
          2.3744050227105618
         ],
         "xaxis": "x",
         "y": [
          2.6255949772894382
         ],
         "yaxis": "y"
        },
        {
         "hovertemplate": "<b>%{hovertext}</b><br><br>player_name=Stuart Armstrong<br>Goal and XG Difference=%{x}<br>xG=%{y}<br>goals=%{marker.size}<extra></extra>",
         "hovertext": [
          "Stuart Armstrong"
         ],
         "legendgroup": "Stuart Armstrong",
         "marker": {
          "color": "#B6E880",
          "size": [
           5
          ],
          "sizemode": "area",
          "sizeref": 0.035,
          "symbol": "circle"
         },
         "mode": "markers",
         "name": "Stuart Armstrong",
         "showlegend": true,
         "type": "scatter",
         "x": [
          1.8855591099709272
         ],
         "xaxis": "x",
         "y": [
          3.1144408900290728
         ],
         "yaxis": "y"
        },
        {
         "hovertemplate": "<b>%{hovertext}</b><br><br>player_name=John Lundstram<br>Goal and XG Difference=%{x}<br>xG=%{y}<br>goals=%{marker.size}<extra></extra>",
         "hovertext": [
          "John Lundstram"
         ],
         "legendgroup": "John Lundstram",
         "marker": {
          "color": "#FF97FF",
          "size": [
           5
          ],
          "sizemode": "area",
          "sizeref": 0.035,
          "symbol": "circle"
         },
         "mode": "markers",
         "name": "John Lundstram",
         "showlegend": true,
         "type": "scatter",
         "x": [
          -0.921482932753861
         ],
         "xaxis": "x",
         "y": [
          5.921482932753861
         ],
         "yaxis": "y"
        },
        {
         "hovertemplate": "<b>%{hovertext}</b><br><br>player_name=John Fleck<br>Goal and XG Difference=%{x}<br>xG=%{y}<br>goals=%{marker.size}<extra></extra>",
         "hovertext": [
          "John Fleck"
         ],
         "legendgroup": "John Fleck",
         "marker": {
          "color": "#FECB52",
          "size": [
           5
          ],
          "sizemode": "area",
          "sizeref": 0.035,
          "symbol": "circle"
         },
         "mode": "markers",
         "name": "John Fleck",
         "showlegend": true,
         "type": "scatter",
         "x": [
          1.7518981257453565
         ],
         "xaxis": "x",
         "y": [
          3.2481018742546435
         ],
         "yaxis": "y"
        },
        {
         "hovertemplate": "<b>%{hovertext}</b><br><br>player_name=Mark Noble<br>Goal and XG Difference=%{x}<br>xG=%{y}<br>goals=%{marker.size}<extra></extra>",
         "hovertext": [
          "Mark Noble"
         ],
         "legendgroup": "Mark Noble",
         "marker": {
          "color": "#636efa",
          "size": [
           4
          ],
          "sizemode": "area",
          "sizeref": 0.035,
          "symbol": "circle"
         },
         "mode": "markers",
         "name": "Mark Noble",
         "showlegend": true,
         "type": "scatter",
         "x": [
          1.226173979230225
         ],
         "xaxis": "x",
         "y": [
          2.773826020769775
         ],
         "yaxis": "y"
        },
        {
         "hovertemplate": "<b>%{hovertext}</b><br><br>player_name=Jordan Henderson<br>Goal and XG Difference=%{x}<br>xG=%{y}<br>goals=%{marker.size}<extra></extra>",
         "hovertext": [
          "Jordan Henderson"
         ],
         "legendgroup": "Jordan Henderson",
         "marker": {
          "color": "#EF553B",
          "size": [
           4
          ],
          "sizemode": "area",
          "sizeref": 0.035,
          "symbol": "circle"
         },
         "mode": "markers",
         "name": "Jordan Henderson",
         "showlegend": true,
         "type": "scatter",
         "x": [
          2.8153111841529608
         ],
         "xaxis": "x",
         "y": [
          1.1846888158470392
         ],
         "yaxis": "y"
        },
        {
         "hovertemplate": "<b>%{hovertext}</b><br><br>player_name=Georginio Wijnaldum<br>Goal and XG Difference=%{x}<br>xG=%{y}<br>goals=%{marker.size}<extra></extra>",
         "hovertext": [
          "Georginio Wijnaldum"
         ],
         "legendgroup": "Georginio Wijnaldum",
         "marker": {
          "color": "#00cc96",
          "size": [
           4
          ],
          "sizemode": "area",
          "sizeref": 0.035,
          "symbol": "circle"
         },
         "mode": "markers",
         "name": "Georginio Wijnaldum",
         "showlegend": true,
         "type": "scatter",
         "x": [
          1.3489184286445384
         ],
         "xaxis": "x",
         "y": [
          2.6510815713554616
         ],
         "yaxis": "y"
        },
        {
         "hovertemplate": "<b>%{hovertext}</b><br><br>player_name=Jorginho<br>Goal and XG Difference=%{x}<br>xG=%{y}<br>goals=%{marker.size}<extra></extra>",
         "hovertext": [
          "Jorginho"
         ],
         "legendgroup": "Jorginho",
         "marker": {
          "color": "#ab63fa",
          "size": [
           4
          ],
          "sizemode": "area",
          "sizeref": 0.035,
          "symbol": "circle"
         },
         "mode": "markers",
         "name": "Jorginho",
         "showlegend": true,
         "type": "scatter",
         "x": [
          0.902995876967907
         ],
         "xaxis": "x",
         "y": [
          3.097004123032093
         ],
         "yaxis": "y"
        },
        {
         "hovertemplate": "<b>%{hovertext}</b><br><br>player_name=Abdoulaye Doucouré<br>Goal and XG Difference=%{x}<br>xG=%{y}<br>goals=%{marker.size}<extra></extra>",
         "hovertext": [
          "Abdoulaye Doucouré"
         ],
         "legendgroup": "Abdoulaye Doucouré",
         "marker": {
          "color": "#FFA15A",
          "size": [
           4
          ],
          "sizemode": "area",
          "sizeref": 0.035,
          "symbol": "circle"
         },
         "mode": "markers",
         "name": "Abdoulaye Doucouré",
         "showlegend": true,
         "type": "scatter",
         "x": [
          -1.2809096165001383
         ],
         "xaxis": "x",
         "y": [
          5.280909616500138
         ],
         "yaxis": "y"
        },
        {
         "hovertemplate": "<b>%{hovertext}</b><br><br>player_name=Dan Gosling<br>Goal and XG Difference=%{x}<br>xG=%{y}<br>goals=%{marker.size}<extra></extra>",
         "hovertext": [
          "Dan Gosling"
         ],
         "legendgroup": "Dan Gosling",
         "marker": {
          "color": "#19d3f3",
          "size": [
           3
          ],
          "sizemode": "area",
          "sizeref": 0.035,
          "symbol": "circle"
         },
         "mode": "markers",
         "name": "Dan Gosling",
         "showlegend": true,
         "type": "scatter",
         "x": [
          0.07013613916933537
         ],
         "xaxis": "x",
         "y": [
          2.9298638608306646
         ],
         "yaxis": "y"
        },
        {
         "hovertemplate": "<b>%{hovertext}</b><br><br>player_name=N&#039;Golo Kanté<br>Goal and XG Difference=%{x}<br>xG=%{y}<br>goals=%{marker.size}<extra></extra>",
         "hovertext": [
          "N&#039;Golo Kanté"
         ],
         "legendgroup": "N&#039;Golo Kanté",
         "marker": {
          "color": "#FF6692",
          "size": [
           3
          ],
          "sizemode": "area",
          "sizeref": 0.035,
          "symbol": "circle"
         },
         "mode": "markers",
         "name": "N&#039;Golo Kanté",
         "showlegend": true,
         "type": "scatter",
         "x": [
          1.45608704444021
         ],
         "xaxis": "x",
         "y": [
          1.54391295555979
         ],
         "yaxis": "y"
        },
        {
         "hovertemplate": "<b>%{hovertext}</b><br><br>player_name=Luka Milivojevic<br>Goal and XG Difference=%{x}<br>xG=%{y}<br>goals=%{marker.size}<extra></extra>",
         "hovertext": [
          "Luka Milivojevic"
         ],
         "legendgroup": "Luka Milivojevic",
         "marker": {
          "color": "#B6E880",
          "size": [
           3
          ],
          "sizemode": "area",
          "sizeref": 0.035,
          "symbol": "circle"
         },
         "mode": "markers",
         "name": "Luka Milivojevic",
         "showlegend": true,
         "type": "scatter",
         "x": [
          0.5042843306437135
         ],
         "xaxis": "x",
         "y": [
          2.4957156693562865
         ],
         "yaxis": "y"
        },
        {
         "hovertemplate": "<b>%{hovertext}</b><br><br>player_name=Scott McTominay<br>Goal and XG Difference=%{x}<br>xG=%{y}<br>goals=%{marker.size}<extra></extra>",
         "hovertext": [
          "Scott McTominay"
         ],
         "legendgroup": "Scott McTominay",
         "marker": {
          "color": "#FF97FF",
          "size": [
           3
          ],
          "sizemode": "area",
          "sizeref": 0.035,
          "symbol": "circle"
         },
         "mode": "markers",
         "name": "Scott McTominay",
         "showlegend": true,
         "type": "scatter",
         "x": [
          0.9780171308666472
         ],
         "xaxis": "x",
         "y": [
          2.021982869133353
         ],
         "yaxis": "y"
        },
        {
         "hovertemplate": "<b>%{hovertext}</b><br><br>player_name=Youri Tielemans<br>Goal and XG Difference=%{x}<br>xG=%{y}<br>goals=%{marker.size}<extra></extra>",
         "hovertext": [
          "Youri Tielemans"
         ],
         "legendgroup": "Youri Tielemans",
         "marker": {
          "color": "#FECB52",
          "size": [
           3
          ],
          "sizemode": "area",
          "sizeref": 0.035,
          "symbol": "circle"
         },
         "mode": "markers",
         "name": "Youri Tielemans",
         "showlegend": true,
         "type": "scatter",
         "x": [
          0.20761901326477528
         ],
         "xaxis": "x",
         "y": [
          2.7923809867352247
         ],
         "yaxis": "y"
        },
        {
         "hovertemplate": "<b>%{hovertext}</b><br><br>player_name=Douglas Luiz<br>Goal and XG Difference=%{x}<br>xG=%{y}<br>goals=%{marker.size}<extra></extra>",
         "hovertext": [
          "Douglas Luiz"
         ],
         "legendgroup": "Douglas Luiz",
         "marker": {
          "color": "#636efa",
          "size": [
           3
          ],
          "sizemode": "area",
          "sizeref": 0.035,
          "symbol": "circle"
         },
         "mode": "markers",
         "name": "Douglas Luiz",
         "showlegend": true,
         "type": "scatter",
         "x": [
          0.7222045622766022
         ],
         "xaxis": "x",
         "y": [
          2.2777954377233978
         ],
         "yaxis": "y"
        },
        {
         "hovertemplate": "<b>%{hovertext}</b><br><br>player_name=Bernard<br>Goal and XG Difference=%{x}<br>xG=%{y}<br>goals=%{marker.size}<extra></extra>",
         "hovertext": [
          "Bernard"
         ],
         "legendgroup": "Bernard",
         "marker": {
          "color": "#EF553B",
          "size": [
           3
          ],
          "sizemode": "area",
          "sizeref": 0.035,
          "symbol": "circle"
         },
         "mode": "markers",
         "name": "Bernard",
         "showlegend": true,
         "type": "scatter",
         "x": [
          1.3024345375597477
         ],
         "xaxis": "x",
         "y": [
          1.6975654624402523
         ],
         "yaxis": "y"
        },
        {
         "hovertemplate": "<b>%{hovertext}</b><br><br>player_name=Conor Hourihane<br>Goal and XG Difference=%{x}<br>xG=%{y}<br>goals=%{marker.size}<extra></extra>",
         "hovertext": [
          "Conor Hourihane"
         ],
         "legendgroup": "Conor Hourihane",
         "marker": {
          "color": "#00cc96",
          "size": [
           3
          ],
          "sizemode": "area",
          "sizeref": 0.035,
          "symbol": "circle"
         },
         "mode": "markers",
         "name": "Conor Hourihane",
         "showlegend": true,
         "type": "scatter",
         "x": [
          1.371660677716136
         ],
         "xaxis": "x",
         "y": [
          1.628339322283864
         ],
         "yaxis": "y"
        },
        {
         "hovertemplate": "<b>%{hovertext}</b><br><br>player_name=John McGinn<br>Goal and XG Difference=%{x}<br>xG=%{y}<br>goals=%{marker.size}<extra></extra>",
         "hovertext": [
          "John McGinn"
         ],
         "legendgroup": "John McGinn",
         "marker": {
          "color": "#ab63fa",
          "size": [
           3
          ],
          "sizemode": "area",
          "sizeref": 0.035,
          "symbol": "circle"
         },
         "mode": "markers",
         "name": "John McGinn",
         "showlegend": true,
         "type": "scatter",
         "x": [
          -0.9825730072334413
         ],
         "xaxis": "x",
         "y": [
          3.9825730072334413
         ],
         "yaxis": "y"
        },
        {
         "hovertemplate": "<b>%{hovertext}</b><br><br>player_name=Gabriel Martinelli<br>Goal and XG Difference=%{x}<br>xG=%{y}<br>goals=%{marker.size}<extra></extra>",
         "hovertext": [
          "Gabriel Martinelli"
         ],
         "legendgroup": "Gabriel Martinelli",
         "marker": {
          "color": "#FFA15A",
          "size": [
           3
          ],
          "sizemode": "area",
          "sizeref": 0.035,
          "symbol": "circle"
         },
         "mode": "markers",
         "name": "Gabriel Martinelli",
         "showlegend": true,
         "type": "scatter",
         "x": [
          0.7575165443122387
         ],
         "xaxis": "x",
         "y": [
          2.2424834556877613
         ],
         "yaxis": "y"
        },
        {
         "hovertemplate": "<b>%{hovertext}</b><br><br>player_name=Tomas Soucek<br>Goal and XG Difference=%{x}<br>xG=%{y}<br>goals=%{marker.size}<extra></extra>",
         "hovertext": [
          "Tomas Soucek"
         ],
         "legendgroup": "Tomas Soucek",
         "marker": {
          "color": "#19d3f3",
          "size": [
           3
          ],
          "sizemode": "area",
          "sizeref": 0.035,
          "symbol": "circle"
         },
         "mode": "markers",
         "name": "Tomas Soucek",
         "showlegend": true,
         "type": "scatter",
         "x": [
          0.5816259756684303
         ],
         "xaxis": "x",
         "y": [
          2.4183740243315697
         ],
         "yaxis": "y"
        },
        {
         "hovertemplate": "<b>%{hovertext}</b><br><br>player_name=Ilkay Gündogan<br>Goal and XG Difference=%{x}<br>xG=%{y}<br>goals=%{marker.size}<extra></extra>",
         "hovertext": [
          "Ilkay Gündogan"
         ],
         "legendgroup": "Ilkay Gündogan",
         "marker": {
          "color": "#FF6692",
          "size": [
           2
          ],
          "sizemode": "area",
          "sizeref": 0.035,
          "symbol": "circle"
         },
         "mode": "markers",
         "name": "Ilkay Gündogan",
         "showlegend": true,
         "type": "scatter",
         "x": [
          -2.3467030934989443
         ],
         "xaxis": "x",
         "y": [
          4.346703093498944
         ],
         "yaxis": "y"
        },
        {
         "hovertemplate": "<b>%{hovertext}</b><br><br>player_name=Theo Walcott<br>Goal and XG Difference=%{x}<br>xG=%{y}<br>goals=%{marker.size}<extra></extra>",
         "hovertext": [
          "Theo Walcott"
         ],
         "legendgroup": "Theo Walcott",
         "marker": {
          "color": "#B6E880",
          "size": [
           2
          ],
          "sizemode": "area",
          "sizeref": 0.035,
          "symbol": "circle"
         },
         "mode": "markers",
         "name": "Theo Walcott",
         "showlegend": true,
         "type": "scatter",
         "x": [
          -1.4808373413980007
         ],
         "xaxis": "x",
         "y": [
          3.4808373413980007
         ],
         "yaxis": "y"
        },
        {
         "hovertemplate": "<b>%{hovertext}</b><br><br>player_name=Ashley Westwood<br>Goal and XG Difference=%{x}<br>xG=%{y}<br>goals=%{marker.size}<extra></extra>",
         "hovertext": [
          "Ashley Westwood"
         ],
         "legendgroup": "Ashley Westwood",
         "marker": {
          "color": "#FF97FF",
          "size": [
           2
          ],
          "sizemode": "area",
          "sizeref": 0.035,
          "symbol": "circle"
         },
         "mode": "markers",
         "name": "Ashley Westwood",
         "showlegend": true,
         "type": "scatter",
         "x": [
          0.8248374247923491
         ],
         "xaxis": "x",
         "y": [
          1.1751625752076509
         ],
         "yaxis": "y"
        },
        {
         "hovertemplate": "<b>%{hovertext}</b><br><br>player_name=Gylfi Sigurdsson<br>Goal and XG Difference=%{x}<br>xG=%{y}<br>goals=%{marker.size}<extra></extra>",
         "hovertext": [
          "Gylfi Sigurdsson"
         ],
         "legendgroup": "Gylfi Sigurdsson",
         "marker": {
          "color": "#FECB52",
          "size": [
           2
          ],
          "sizemode": "area",
          "sizeref": 0.035,
          "symbol": "circle"
         },
         "mode": "markers",
         "name": "Gylfi Sigurdsson",
         "showlegend": true,
         "type": "scatter",
         "x": [
          -2.0193677539937207
         ],
         "xaxis": "x",
         "y": [
          4.019367753993721
         ],
         "yaxis": "y"
        },
        {
         "hovertemplate": "<b>%{hovertext}</b><br><br>player_name=Demarai Gray<br>Goal and XG Difference=%{x}<br>xG=%{y}<br>goals=%{marker.size}<extra></extra>",
         "hovertext": [
          "Demarai Gray"
         ],
         "legendgroup": "Demarai Gray",
         "marker": {
          "color": "#636efa",
          "size": [
           2
          ],
          "sizemode": "area",
          "sizeref": 0.035,
          "symbol": "circle"
         },
         "mode": "markers",
         "name": "Demarai Gray",
         "showlegend": true,
         "type": "scatter",
         "x": [
          -0.767196649685502
         ],
         "xaxis": "x",
         "y": [
          2.767196649685502
         ],
         "yaxis": "y"
        },
        {
         "hovertemplate": "<b>%{hovertext}</b><br><br>player_name=Jeff Hendrick<br>Goal and XG Difference=%{x}<br>xG=%{y}<br>goals=%{marker.size}<extra></extra>",
         "hovertext": [
          "Jeff Hendrick"
         ],
         "legendgroup": "Jeff Hendrick",
         "marker": {
          "color": "#EF553B",
          "size": [
           2
          ],
          "sizemode": "area",
          "sizeref": 0.035,
          "symbol": "circle"
         },
         "mode": "markers",
         "name": "Jeff Hendrick",
         "showlegend": true,
         "type": "scatter",
         "x": [
          -0.10208363458514169
         ],
         "xaxis": "x",
         "y": [
          2.1020836345851417
         ],
         "yaxis": "y"
        },
        {
         "hovertemplate": "<b>%{hovertext}</b><br><br>player_name=Jonny<br>Goal and XG Difference=%{x}<br>xG=%{y}<br>goals=%{marker.size}<extra></extra>",
         "hovertext": [
          "Jonny"
         ],
         "legendgroup": "Jonny",
         "marker": {
          "color": "#00cc96",
          "size": [
           2
          ],
          "sizemode": "area",
          "sizeref": 0.035,
          "symbol": "circle"
         },
         "mode": "markers",
         "name": "Jonny",
         "showlegend": true,
         "type": "scatter",
         "x": [
          0.3859572820365431
         ],
         "xaxis": "x",
         "y": [
          1.6140427179634569
         ],
         "yaxis": "y"
        },
        {
         "hovertemplate": "<b>%{hovertext}</b><br><br>player_name=Pablo Fornals<br>Goal and XG Difference=%{x}<br>xG=%{y}<br>goals=%{marker.size}<extra></extra>",
         "hovertext": [
          "Pablo Fornals"
         ],
         "legendgroup": "Pablo Fornals",
         "marker": {
          "color": "#ab63fa",
          "size": [
           2
          ],
          "sizemode": "area",
          "sizeref": 0.035,
          "symbol": "circle"
         },
         "mode": "markers",
         "name": "Pablo Fornals",
         "showlegend": true,
         "type": "scatter",
         "x": [
          -0.6434274353086948
         ],
         "xaxis": "x",
         "y": [
          2.643427435308695
         ],
         "yaxis": "y"
        },
        {
         "hovertemplate": "<b>%{hovertext}</b><br><br>player_name=Fabinho<br>Goal and XG Difference=%{x}<br>xG=%{y}<br>goals=%{marker.size}<extra></extra>",
         "hovertext": [
          "Fabinho"
         ],
         "legendgroup": "Fabinho",
         "marker": {
          "color": "#FFA15A",
          "size": [
           2
          ],
          "sizemode": "area",
          "sizeref": 0.035,
          "symbol": "circle"
         },
         "mode": "markers",
         "name": "Fabinho",
         "showlegend": true,
         "type": "scatter",
         "x": [
          1.691898474469781
         ],
         "xaxis": "x",
         "y": [
          0.3081015255302191
         ],
         "yaxis": "y"
        },
        {
         "hovertemplate": "<b>%{hovertext}</b><br><br>player_name=Naby Keita<br>Goal and XG Difference=%{x}<br>xG=%{y}<br>goals=%{marker.size}<extra></extra>",
         "hovertext": [
          "Naby Keita"
         ],
         "legendgroup": "Naby Keita",
         "marker": {
          "color": "#19d3f3",
          "size": [
           2
          ],
          "sizemode": "area",
          "sizeref": 0.035,
          "symbol": "circle"
         },
         "mode": "markers",
         "name": "Naby Keita",
         "showlegend": true,
         "type": "scatter",
         "x": [
          0.27662608958780766
         ],
         "xaxis": "x",
         "y": [
          1.7233739104121923
         ],
         "yaxis": "y"
        },
        {
         "hovertemplate": "<b>%{hovertext}</b><br><br>player_name=Wilfred Ndidi<br>Goal and XG Difference=%{x}<br>xG=%{y}<br>goals=%{marker.size}<extra></extra>",
         "hovertext": [
          "Wilfred Ndidi"
         ],
         "legendgroup": "Wilfred Ndidi",
         "marker": {
          "color": "#FF6692",
          "size": [
           2
          ],
          "sizemode": "area",
          "sizeref": 0.035,
          "symbol": "circle"
         },
         "mode": "markers",
         "name": "Wilfred Ndidi",
         "showlegend": true,
         "type": "scatter",
         "x": [
          0.27272842545062304
         ],
         "xaxis": "x",
         "y": [
          1.727271574549377
         ],
         "yaxis": "y"
        },
        {
         "hovertemplate": "<b>%{hovertext}</b><br><br>player_name=Tanguy NDombele Alvaro<br>Goal and XG Difference=%{x}<br>xG=%{y}<br>goals=%{marker.size}<extra></extra>",
         "hovertext": [
          "Tanguy NDombele Alvaro"
         ],
         "legendgroup": "Tanguy NDombele Alvaro",
         "marker": {
          "color": "#B6E880",
          "size": [
           2
          ],
          "sizemode": "area",
          "sizeref": 0.035,
          "symbol": "circle"
         },
         "mode": "markers",
         "name": "Tanguy NDombele Alvaro",
         "showlegend": true,
         "type": "scatter",
         "x": [
          1.647045012563467
         ],
         "xaxis": "x",
         "y": [
          0.352954987436533
         ],
         "yaxis": "y"
        },
        {
         "hovertemplate": "<b>%{hovertext}</b><br><br>player_name=Dwight McNeil<br>Goal and XG Difference=%{x}<br>xG=%{y}<br>goals=%{marker.size}<extra></extra>",
         "hovertext": [
          "Dwight McNeil"
         ],
         "legendgroup": "Dwight McNeil",
         "marker": {
          "color": "#FF97FF",
          "size": [
           2
          ],
          "sizemode": "area",
          "sizeref": 0.035,
          "symbol": "circle"
         },
         "mode": "markers",
         "name": "Dwight McNeil",
         "showlegend": true,
         "type": "scatter",
         "x": [
          0.06106645427644275
         ],
         "xaxis": "x",
         "y": [
          1.9389335457235573
         ],
         "yaxis": "y"
        },
        {
         "hovertemplate": "<b>%{hovertext}</b><br><br>player_name=Rúben Neves<br>Goal and XG Difference=%{x}<br>xG=%{y}<br>goals=%{marker.size}<extra></extra>",
         "hovertext": [
          "Rúben Neves"
         ],
         "legendgroup": "Rúben Neves",
         "marker": {
          "color": "#FECB52",
          "size": [
           2
          ],
          "sizemode": "area",
          "sizeref": 0.035,
          "symbol": "circle"
         },
         "mode": "markers",
         "name": "Rúben Neves",
         "showlegend": true,
         "type": "scatter",
         "x": [
          0.361916309222579
         ],
         "xaxis": "x",
         "y": [
          1.638083690777421
         ],
         "yaxis": "y"
        },
        {
         "hovertemplate": "<b>%{hovertext}</b><br><br>player_name=George Baldock<br>Goal and XG Difference=%{x}<br>xG=%{y}<br>goals=%{marker.size}<extra></extra>",
         "hovertext": [
          "George Baldock"
         ],
         "legendgroup": "George Baldock",
         "marker": {
          "color": "#636efa",
          "size": [
           2
          ],
          "sizemode": "area",
          "sizeref": 0.035,
          "symbol": "circle"
         },
         "mode": "markers",
         "name": "George Baldock",
         "showlegend": true,
         "type": "scatter",
         "x": [
          1.2369942124933004
         ],
         "xaxis": "x",
         "y": [
          0.7630057875066996
         ],
         "yaxis": "y"
        },
        {
         "hovertemplate": "<b>%{hovertext}</b><br><br>player_name=Enda Stevens<br>Goal and XG Difference=%{x}<br>xG=%{y}<br>goals=%{marker.size}<extra></extra>",
         "hovertext": [
          "Enda Stevens"
         ],
         "legendgroup": "Enda Stevens",
         "marker": {
          "color": "#EF553B",
          "size": [
           2
          ],
          "sizemode": "area",
          "sizeref": 0.035,
          "symbol": "circle"
         },
         "mode": "markers",
         "name": "Enda Stevens",
         "showlegend": true,
         "type": "scatter",
         "x": [
          0.47874312847852685
         ],
         "xaxis": "x",
         "y": [
          1.5212568715214732
         ],
         "yaxis": "y"
        },
        {
         "hovertemplate": "<b>%{hovertext}</b><br><br>player_name=Matthew Longstaff<br>Goal and XG Difference=%{x}<br>xG=%{y}<br>goals=%{marker.size}<extra></extra>",
         "hovertext": [
          "Matthew Longstaff"
         ],
         "legendgroup": "Matthew Longstaff",
         "marker": {
          "color": "#00cc96",
          "size": [
           2
          ],
          "sizemode": "area",
          "sizeref": 0.035,
          "symbol": "circle"
         },
         "mode": "markers",
         "name": "Matthew Longstaff",
         "showlegend": true,
         "type": "scatter",
         "x": [
          1.3034817911684513
         ],
         "xaxis": "x",
         "y": [
          0.6965182088315487
         ],
         "yaxis": "y"
        },
        {
         "hovertemplate": "<b>%{hovertext}</b><br><br>player_name=Mario Vrancic<br>Goal and XG Difference=%{x}<br>xG=%{y}<br>goals=%{marker.size}<extra></extra>",
         "hovertext": [
          "Mario Vrancic"
         ],
         "legendgroup": "Mario Vrancic",
         "marker": {
          "color": "#ab63fa",
          "size": [
           1
          ],
          "sizemode": "area",
          "sizeref": 0.035,
          "symbol": "circle"
         },
         "mode": "markers",
         "name": "Mario Vrancic",
         "showlegend": true,
         "type": "scatter",
         "x": [
          -0.09788380190730095
         ],
         "xaxis": "x",
         "y": [
          1.097883801907301
         ],
         "yaxis": "y"
        },
        {
         "hovertemplate": "<b>%{hovertext}</b><br><br>player_name=Granit Xhaka<br>Goal and XG Difference=%{x}<br>xG=%{y}<br>goals=%{marker.size}<extra></extra>",
         "hovertext": [
          "Granit Xhaka"
         ],
         "legendgroup": "Granit Xhaka",
         "marker": {
          "color": "#FFA15A",
          "size": [
           1
          ],
          "sizemode": "area",
          "sizeref": 0.035,
          "symbol": "circle"
         },
         "mode": "markers",
         "name": "Granit Xhaka",
         "showlegend": true,
         "type": "scatter",
         "x": [
          0.4287700904533267
         ],
         "xaxis": "x",
         "y": [
          0.5712299095466733
         ],
         "yaxis": "y"
        },
        {
         "hovertemplate": "<b>%{hovertext}</b><br><br>player_name=Adam Lallana<br>Goal and XG Difference=%{x}<br>xG=%{y}<br>goals=%{marker.size}<extra></extra>",
         "hovertext": [
          "Adam Lallana"
         ],
         "legendgroup": "Adam Lallana",
         "marker": {
          "color": "#19d3f3",
          "size": [
           1
          ],
          "sizemode": "area",
          "sizeref": 0.035,
          "symbol": "circle"
         },
         "mode": "markers",
         "name": "Adam Lallana",
         "showlegend": true,
         "type": "scatter",
         "x": [
          0.19131497666239738
         ],
         "xaxis": "x",
         "y": [
          0.8086850233376026
         ],
         "yaxis": "y"
        },
        {
         "hovertemplate": "<b>%{hovertext}</b><br><br>player_name=Mesut Özil<br>Goal and XG Difference=%{x}<br>xG=%{y}<br>goals=%{marker.size}<extra></extra>",
         "hovertext": [
          "Mesut Özil"
         ],
         "legendgroup": "Mesut Özil",
         "marker": {
          "color": "#FF6692",
          "size": [
           1
          ],
          "sizemode": "area",
          "sizeref": 0.035,
          "symbol": "circle"
         },
         "mode": "markers",
         "name": "Mesut Özil",
         "showlegend": true,
         "type": "scatter",
         "x": [
          -0.7082734499126673
         ],
         "xaxis": "x",
         "y": [
          1.7082734499126673
         ],
         "yaxis": "y"
        },
        {
         "hovertemplate": "<b>%{hovertext}</b><br><br>player_name=Jesse Lingard<br>Goal and XG Difference=%{x}<br>xG=%{y}<br>goals=%{marker.size}<extra></extra>",
         "hovertext": [
          "Jesse Lingard"
         ],
         "legendgroup": "Jesse Lingard",
         "marker": {
          "color": "#B6E880",
          "size": [
           1
          ],
          "sizemode": "area",
          "sizeref": 0.035,
          "symbol": "circle"
         },
         "mode": "markers",
         "name": "Jesse Lingard",
         "showlegend": true,
         "type": "scatter",
         "x": [
          -1.3275695517659187
         ],
         "xaxis": "x",
         "y": [
          2.3275695517659187
         ],
         "yaxis": "y"
        },
        {
         "hovertemplate": "<b>%{hovertext}</b><br><br>player_name=Ross Barkley<br>Goal and XG Difference=%{x}<br>xG=%{y}<br>goals=%{marker.size}<extra></extra>",
         "hovertext": [
          "Ross Barkley"
         ],
         "legendgroup": "Ross Barkley",
         "marker": {
          "color": "#FF97FF",
          "size": [
           1
          ],
          "sizemode": "area",
          "sizeref": 0.035,
          "symbol": "circle"
         },
         "mode": "markers",
         "name": "Ross Barkley",
         "showlegend": true,
         "type": "scatter",
         "x": [
          -1.8449643328785896
         ],
         "xaxis": "x",
         "y": [
          2.8449643328785896
         ],
         "yaxis": "y"
        },
        {
         "hovertemplate": "<b>%{hovertext}</b><br><br>player_name=Tom Cleverley<br>Goal and XG Difference=%{x}<br>xG=%{y}<br>goals=%{marker.size}<extra></extra>",
         "hovertext": [
          "Tom Cleverley"
         ],
         "legendgroup": "Tom Cleverley",
         "marker": {
          "color": "#FECB52",
          "size": [
           1
          ],
          "sizemode": "area",
          "sizeref": 0.035,
          "symbol": "circle"
         },
         "mode": "markers",
         "name": "Tom Cleverley",
         "showlegend": true,
         "type": "scatter",
         "x": [
          -0.7800701409578323
         ],
         "xaxis": "x",
         "y": [
          1.7800701409578323
         ],
         "yaxis": "y"
        },
        {
         "hovertemplate": "<b>%{hovertext}</b><br><br>player_name=Andros Townsend<br>Goal and XG Difference=%{x}<br>xG=%{y}<br>goals=%{marker.size}<extra></extra>",
         "hovertext": [
          "Andros Townsend"
         ],
         "legendgroup": "Andros Townsend",
         "marker": {
          "color": "#636efa",
          "size": [
           1
          ],
          "sizemode": "area",
          "sizeref": 0.035,
          "symbol": "circle"
         },
         "mode": "markers",
         "name": "Andros Townsend",
         "showlegend": true,
         "type": "scatter",
         "x": [
          0.6043378543108702
         ],
         "xaxis": "x",
         "y": [
          0.3956621456891298
         ],
         "yaxis": "y"
        },
        {
         "hovertemplate": "<b>%{hovertext}</b><br><br>player_name=Robbie Brady<br>Goal and XG Difference=%{x}<br>xG=%{y}<br>goals=%{marker.size}<extra></extra>",
         "hovertext": [
          "Robbie Brady"
         ],
         "legendgroup": "Robbie Brady",
         "marker": {
          "color": "#EF553B",
          "size": [
           1
          ],
          "sizemode": "area",
          "sizeref": 0.035,
          "symbol": "circle"
         },
         "mode": "markers",
         "name": "Robbie Brady",
         "showlegend": true,
         "type": "scatter",
         "x": [
          0.003499802201986424
         ],
         "xaxis": "x",
         "y": [
          0.9965001977980136
         ],
         "yaxis": "y"
        },
        {
         "hovertemplate": "<b>%{hovertext}</b><br><br>player_name=Xherdan Shaqiri<br>Goal and XG Difference=%{x}<br>xG=%{y}<br>goals=%{marker.size}<extra></extra>",
         "hovertext": [
          "Xherdan Shaqiri"
         ],
         "legendgroup": "Xherdan Shaqiri",
         "marker": {
          "color": "#00cc96",
          "size": [
           1
          ],
          "sizemode": "area",
          "sizeref": 0.035,
          "symbol": "circle"
         },
         "mode": "markers",
         "name": "Xherdan Shaqiri",
         "showlegend": true,
         "type": "scatter",
         "x": [
          0.4591592624783516
         ],
         "xaxis": "x",
         "y": [
          0.5408407375216484
         ],
         "yaxis": "y"
        },
        {
         "hovertemplate": "<b>%{hovertext}</b><br><br>player_name=Andreas Pereira<br>Goal and XG Difference=%{x}<br>xG=%{y}<br>goals=%{marker.size}<extra></extra>",
         "hovertext": [
          "Andreas Pereira"
         ],
         "legendgroup": "Andreas Pereira",
         "marker": {
          "color": "#ab63fa",
          "size": [
           1
          ],
          "sizemode": "area",
          "sizeref": 0.035,
          "symbol": "circle"
         },
         "mode": "markers",
         "name": "Andreas Pereira",
         "showlegend": true,
         "type": "scatter",
         "x": [
          -1.2855918873101477
         ],
         "xaxis": "x",
         "y": [
          2.2855918873101477
         ],
         "yaxis": "y"
        },
        {
         "hovertemplate": "<b>%{hovertext}</b><br><br>player_name=Tom Davies<br>Goal and XG Difference=%{x}<br>xG=%{y}<br>goals=%{marker.size}<extra></extra>",
         "hovertext": [
          "Tom Davies"
         ],
         "legendgroup": "Tom Davies",
         "marker": {
          "color": "#FFA15A",
          "size": [
           1
          ],
          "sizemode": "area",
          "sizeref": 0.035,
          "symbol": "circle"
         },
         "mode": "markers",
         "name": "Tom Davies",
         "showlegend": true,
         "type": "scatter",
         "x": [
          -0.6402476858347654
         ],
         "xaxis": "x",
         "y": [
          1.6402476858347654
         ],
         "yaxis": "y"
        },
        {
         "hovertemplate": "<b>%{hovertext}</b><br><br>player_name=Felipe Anderson<br>Goal and XG Difference=%{x}<br>xG=%{y}<br>goals=%{marker.size}<extra></extra>",
         "hovertext": [
          "Felipe Anderson"
         ],
         "legendgroup": "Felipe Anderson",
         "marker": {
          "color": "#19d3f3",
          "size": [
           1
          ],
          "sizemode": "area",
          "sizeref": 0.035,
          "symbol": "circle"
         },
         "mode": "markers",
         "name": "Felipe Anderson",
         "showlegend": true,
         "type": "scatter",
         "x": [
          -1.6348467022180562
         ],
         "xaxis": "x",
         "y": [
          2.634846702218056
         ],
         "yaxis": "y"
        },
        {
         "hovertemplate": "<b>%{hovertext}</b><br><br>player_name=Lucas Torreira<br>Goal and XG Difference=%{x}<br>xG=%{y}<br>goals=%{marker.size}<extra></extra>",
         "hovertext": [
          "Lucas Torreira"
         ],
         "legendgroup": "Lucas Torreira",
         "marker": {
          "color": "#FF6692",
          "size": [
           1
          ],
          "sizemode": "area",
          "sizeref": 0.035,
          "symbol": "circle"
         },
         "mode": "markers",
         "name": "Lucas Torreira",
         "showlegend": true,
         "type": "scatter",
         "x": [
          -0.4572487138211727
         ],
         "xaxis": "x",
         "y": [
          1.4572487138211727
         ],
         "yaxis": "y"
        },
        {
         "hovertemplate": "<b>%{hovertext}</b><br><br>player_name=Dennis Praet<br>Goal and XG Difference=%{x}<br>xG=%{y}<br>goals=%{marker.size}<extra></extra>",
         "hovertext": [
          "Dennis Praet"
         ],
         "legendgroup": "Dennis Praet",
         "marker": {
          "color": "#B6E880",
          "size": [
           1
          ],
          "sizemode": "area",
          "sizeref": 0.035,
          "symbol": "circle"
         },
         "mode": "markers",
         "name": "Dennis Praet",
         "showlegend": true,
         "type": "scatter",
         "x": [
          -0.20771589037030935
         ],
         "xaxis": "x",
         "y": [
          1.2077158903703094
         ],
         "yaxis": "y"
        },
        {
         "hovertemplate": "<b>%{hovertext}</b><br><br>player_name=Johann Berg Gudmundsson<br>Goal and XG Difference=%{x}<br>xG=%{y}<br>goals=%{marker.size}<extra></extra>",
         "hovertext": [
          "Johann Berg Gudmundsson"
         ],
         "legendgroup": "Johann Berg Gudmundsson",
         "marker": {
          "color": "#FF97FF",
          "size": [
           1
          ],
          "sizemode": "area",
          "sizeref": 0.035,
          "symbol": "circle"
         },
         "mode": "markers",
         "name": "Johann Berg Gudmundsson",
         "showlegend": true,
         "type": "scatter",
         "x": [
          0.27646173536777496
         ],
         "xaxis": "x",
         "y": [
          0.723538264632225
         ],
         "yaxis": "y"
        },
        {
         "hovertemplate": "<b>%{hovertext}</b><br><br>player_name=Paul Pogba<br>Goal and XG Difference=%{x}<br>xG=%{y}<br>goals=%{marker.size}<extra></extra>",
         "hovertext": [
          "Paul Pogba"
         ],
         "legendgroup": "Paul Pogba",
         "marker": {
          "color": "#FECB52",
          "size": [
           1
          ],
          "sizemode": "area",
          "sizeref": 0.035,
          "symbol": "circle"
         },
         "mode": "markers",
         "name": "Paul Pogba",
         "showlegend": true,
         "type": "scatter",
         "x": [
          -1.1508691580966115
         ],
         "xaxis": "x",
         "y": [
          2.1508691580966115
         ],
         "yaxis": "y"
        },
        {
         "hovertemplate": "<b>%{hovertext}</b><br><br>player_name=Jarrod Bowen<br>Goal and XG Difference=%{x}<br>xG=%{y}<br>goals=%{marker.size}<extra></extra>",
         "hovertext": [
          "Jarrod Bowen"
         ],
         "legendgroup": "Jarrod Bowen",
         "marker": {
          "color": "#636efa",
          "size": [
           1
          ],
          "sizemode": "area",
          "sizeref": 0.035,
          "symbol": "circle"
         },
         "mode": "markers",
         "name": "Jarrod Bowen",
         "showlegend": true,
         "type": "scatter",
         "x": [
          -1.3164738304913044
         ],
         "xaxis": "x",
         "y": [
          2.3164738304913044
         ],
         "yaxis": "y"
        },
        {
         "hovertemplate": "<b>%{hovertext}</b><br><br>player_name=Jefferson Lerma<br>Goal and XG Difference=%{x}<br>xG=%{y}<br>goals=%{marker.size}<extra></extra>",
         "hovertext": [
          "Jefferson Lerma"
         ],
         "legendgroup": "Jefferson Lerma",
         "marker": {
          "color": "#EF553B",
          "size": [
           1
          ],
          "sizemode": "area",
          "sizeref": 0.035,
          "symbol": "circle"
         },
         "mode": "markers",
         "name": "Jefferson Lerma",
         "showlegend": true,
         "type": "scatter",
         "x": [
          0.1846688585355878
         ],
         "xaxis": "x",
         "y": [
          0.8153311414644122
         ],
         "yaxis": "y"
        },
        {
         "hovertemplate": "<b>%{hovertext}</b><br><br>player_name=Emiliano Buendía<br>Goal and XG Difference=%{x}<br>xG=%{y}<br>goals=%{marker.size}<extra></extra>",
         "hovertext": [
          "Emiliano Buendía"
         ],
         "legendgroup": "Emiliano Buendía",
         "marker": {
          "color": "#00cc96",
          "size": [
           1
          ],
          "sizemode": "area",
          "sizeref": 0.035,
          "symbol": "circle"
         },
         "mode": "markers",
         "name": "Emiliano Buendía",
         "showlegend": true,
         "type": "scatter",
         "x": [
          -1.1698683053255081
         ],
         "xaxis": "x",
         "y": [
          2.169868305325508
         ],
         "yaxis": "y"
        },
        {
         "hovertemplate": "<b>%{hovertext}</b><br><br>player_name=Mateo Kovacic<br>Goal and XG Difference=%{x}<br>xG=%{y}<br>goals=%{marker.size}<extra></extra>",
         "hovertext": [
          "Mateo Kovacic"
         ],
         "legendgroup": "Mateo Kovacic",
         "marker": {
          "color": "#ab63fa",
          "size": [
           1
          ],
          "sizemode": "area",
          "sizeref": 0.035,
          "symbol": "circle"
         },
         "mode": "markers",
         "name": "Mateo Kovacic",
         "showlegend": true,
         "type": "scatter",
         "x": [
          0.02734013646841038
         ],
         "xaxis": "x",
         "y": [
          0.9726598635315896
         ],
         "yaxis": "y"
        },
        {
         "hovertemplate": "<b>%{hovertext}</b><br><br>player_name=João Moutinho<br>Goal and XG Difference=%{x}<br>xG=%{y}<br>goals=%{marker.size}<extra></extra>",
         "hovertext": [
          "João Moutinho"
         ],
         "legendgroup": "João Moutinho",
         "marker": {
          "color": "#FFA15A",
          "size": [
           1
          ],
          "sizemode": "area",
          "sizeref": 0.035,
          "symbol": "circle"
         },
         "mode": "markers",
         "name": "João Moutinho",
         "showlegend": true,
         "type": "scatter",
         "x": [
          0.31223247293382883
         ],
         "xaxis": "x",
         "y": [
          0.6877675270661712
         ],
         "yaxis": "y"
        },
        {
         "hovertemplate": "<b>%{hovertext}</b><br><br>player_name=Yves Bissouma<br>Goal and XG Difference=%{x}<br>xG=%{y}<br>goals=%{marker.size}<extra></extra>",
         "hovertext": [
          "Yves Bissouma"
         ],
         "legendgroup": "Yves Bissouma",
         "marker": {
          "color": "#19d3f3",
          "size": [
           1
          ],
          "sizemode": "area",
          "sizeref": 0.035,
          "symbol": "circle"
         },
         "mode": "markers",
         "name": "Yves Bissouma",
         "showlegend": true,
         "type": "scatter",
         "x": [
          0.5945754759013653
         ],
         "xaxis": "x",
         "y": [
          0.4054245240986347
         ],
         "yaxis": "y"
        },
        {
         "hovertemplate": "<b>%{hovertext}</b><br><br>player_name=Philip Billing<br>Goal and XG Difference=%{x}<br>xG=%{y}<br>goals=%{marker.size}<extra></extra>",
         "hovertext": [
          "Philip Billing"
         ],
         "legendgroup": "Philip Billing",
         "marker": {
          "color": "#FF6692",
          "size": [
           1
          ],
          "sizemode": "area",
          "sizeref": 0.035,
          "symbol": "circle"
         },
         "mode": "markers",
         "name": "Philip Billing",
         "showlegend": true,
         "type": "scatter",
         "x": [
          -1.2746950732544065
         ],
         "xaxis": "x",
         "y": [
          2.2746950732544065
         ],
         "yaxis": "y"
        },
        {
         "hovertemplate": "<b>%{hovertext}</b><br><br>player_name=Davy Pröpper<br>Goal and XG Difference=%{x}<br>xG=%{y}<br>goals=%{marker.size}<extra></extra>",
         "hovertext": [
          "Davy Pröpper"
         ],
         "legendgroup": "Davy Pröpper",
         "marker": {
          "color": "#B6E880",
          "size": [
           1
          ],
          "sizemode": "area",
          "sizeref": 0.035,
          "symbol": "circle"
         },
         "mode": "markers",
         "name": "Davy Pröpper",
         "showlegend": true,
         "type": "scatter",
         "x": [
          -0.8662200346589088
         ],
         "xaxis": "x",
         "y": [
          1.8662200346589088
         ],
         "yaxis": "y"
        },
        {
         "hovertemplate": "<b>%{hovertext}</b><br><br>player_name=Will Hughes<br>Goal and XG Difference=%{x}<br>xG=%{y}<br>goals=%{marker.size}<extra></extra>",
         "hovertext": [
          "Will Hughes"
         ],
         "legendgroup": "Will Hughes",
         "marker": {
          "color": "#FF97FF",
          "size": [
           1
          ],
          "sizemode": "area",
          "sizeref": 0.035,
          "symbol": "circle"
         },
         "mode": "markers",
         "name": "Will Hughes",
         "showlegend": true,
         "type": "scatter",
         "x": [
          -1.3883110266178846
         ],
         "xaxis": "x",
         "y": [
          2.3883110266178846
         ],
         "yaxis": "y"
        },
        {
         "hovertemplate": "<b>%{hovertext}</b><br><br>player_name=Hamza Choudhury<br>Goal and XG Difference=%{x}<br>xG=%{y}<br>goals=%{marker.size}<extra></extra>",
         "hovertext": [
          "Hamza Choudhury"
         ],
         "legendgroup": "Hamza Choudhury",
         "marker": {
          "color": "#FECB52",
          "size": [
           1
          ],
          "sizemode": "area",
          "sizeref": 0.035,
          "symbol": "circle"
         },
         "mode": "markers",
         "name": "Hamza Choudhury",
         "showlegend": true,
         "type": "scatter",
         "x": [
          0.6633467208594084
         ],
         "xaxis": "x",
         "y": [
          0.3366532791405916
         ],
         "yaxis": "y"
        },
        {
         "hovertemplate": "<b>%{hovertext}</b><br><br>player_name=Joe Willock<br>Goal and XG Difference=%{x}<br>xG=%{y}<br>goals=%{marker.size}<extra></extra>",
         "hovertext": [
          "Joe Willock"
         ],
         "legendgroup": "Joe Willock",
         "marker": {
          "color": "#636efa",
          "size": [
           1
          ],
          "sizemode": "area",
          "sizeref": 0.035,
          "symbol": "circle"
         },
         "mode": "markers",
         "name": "Joe Willock",
         "showlegend": true,
         "type": "scatter",
         "x": [
          -1.3209964223206043
         ],
         "xaxis": "x",
         "y": [
          2.3209964223206043
         ],
         "yaxis": "y"
        },
        {
         "hovertemplate": "<b>%{hovertext}</b><br><br>player_name=Curtis Jones<br>Goal and XG Difference=%{x}<br>xG=%{y}<br>goals=%{marker.size}<extra></extra>",
         "hovertext": [
          "Curtis Jones"
         ],
         "legendgroup": "Curtis Jones",
         "marker": {
          "color": "#EF553B",
          "size": [
           1
          ],
          "sizemode": "area",
          "sizeref": 0.035,
          "symbol": "circle"
         },
         "mode": "markers",
         "name": "Curtis Jones",
         "showlegend": true,
         "type": "scatter",
         "x": [
          0.18528365343809128
         ],
         "xaxis": "x",
         "y": [
          0.8147163465619087
         ],
         "yaxis": "y"
        },
        {
         "hovertemplate": "<b>%{hovertext}</b><br><br>player_name=David Brooks<br>Goal and XG Difference=%{x}<br>xG=%{y}<br>goals=%{marker.size}<extra></extra>",
         "hovertext": [
          "David Brooks"
         ],
         "legendgroup": "David Brooks",
         "marker": {
          "color": "#00cc96",
          "size": [
           1
          ],
          "sizemode": "area",
          "sizeref": 0.035,
          "symbol": "circle"
         },
         "mode": "markers",
         "name": "David Brooks",
         "showlegend": true,
         "type": "scatter",
         "x": [
          0.5673886835575104
         ],
         "xaxis": "x",
         "y": [
          0.4326113164424896
         ],
         "yaxis": "y"
        },
        {
         "hovertemplate": "<b>%{hovertext}</b><br><br>player_name=Sean Longstaff<br>Goal and XG Difference=%{x}<br>xG=%{y}<br>goals=%{marker.size}<extra></extra>",
         "hovertext": [
          "Sean Longstaff"
         ],
         "legendgroup": "Sean Longstaff",
         "marker": {
          "color": "#ab63fa",
          "size": [
           1
          ],
          "sizemode": "area",
          "sizeref": 0.035,
          "symbol": "circle"
         },
         "mode": "markers",
         "name": "Sean Longstaff",
         "showlegend": true,
         "type": "scatter",
         "x": [
          -0.17761623114347458
         ],
         "xaxis": "x",
         "y": [
          1.1776162311434746
         ],
         "yaxis": "y"
        },
        {
         "hovertemplate": "<b>%{hovertext}</b><br><br>player_name=Kenny McLean<br>Goal and XG Difference=%{x}<br>xG=%{y}<br>goals=%{marker.size}<extra></extra>",
         "hovertext": [
          "Kenny McLean"
         ],
         "legendgroup": "Kenny McLean",
         "marker": {
          "color": "#FFA15A",
          "size": [
           1
          ],
          "sizemode": "area",
          "sizeref": 0.035,
          "symbol": "circle"
         },
         "mode": "markers",
         "name": "Kenny McLean",
         "showlegend": true,
         "type": "scatter",
         "x": [
          -0.21369741205126047
         ],
         "xaxis": "x",
         "y": [
          1.2136974120512605
         ],
         "yaxis": "y"
        },
        {
         "hovertemplate": "<b>%{hovertext}</b><br><br>player_name=Onel Hernández<br>Goal and XG Difference=%{x}<br>xG=%{y}<br>goals=%{marker.size}<extra></extra>",
         "hovertext": [
          "Onel Hernández"
         ],
         "legendgroup": "Onel Hernández",
         "marker": {
          "color": "#19d3f3",
          "size": [
           1
          ],
          "sizemode": "area",
          "sizeref": 0.035,
          "symbol": "circle"
         },
         "mode": "markers",
         "name": "Onel Hernández",
         "showlegend": true,
         "type": "scatter",
         "x": [
          -0.912150758318603
         ],
         "xaxis": "x",
         "y": [
          1.912150758318603
         ],
         "yaxis": "y"
        },
        {
         "hovertemplate": "<b>%{hovertext}</b><br><br>player_name=Oliver Norwood<br>Goal and XG Difference=%{x}<br>xG=%{y}<br>goals=%{marker.size}<extra></extra>",
         "hovertext": [
          "Oliver Norwood"
         ],
         "legendgroup": "Oliver Norwood",
         "marker": {
          "color": "#FF6692",
          "size": [
           1
          ],
          "sizemode": "area",
          "sizeref": 0.035,
          "symbol": "circle"
         },
         "mode": "markers",
         "name": "Oliver Norwood",
         "showlegend": true,
         "type": "scatter",
         "x": [
          -0.3383013252168894
         ],
         "xaxis": "x",
         "y": [
          1.3383013252168894
         ],
         "yaxis": "y"
        },
        {
         "hovertemplate": "<b>%{hovertext}</b><br><br>player_name=Sander Berge<br>Goal and XG Difference=%{x}<br>xG=%{y}<br>goals=%{marker.size}<extra></extra>",
         "hovertext": [
          "Sander Berge"
         ],
         "legendgroup": "Sander Berge",
         "marker": {
          "color": "#B6E880",
          "size": [
           1
          ],
          "sizemode": "area",
          "sizeref": 0.035,
          "symbol": "circle"
         },
         "mode": "markers",
         "name": "Sander Berge",
         "showlegend": true,
         "type": "scatter",
         "x": [
          0.39924660325050354
         ],
         "xaxis": "x",
         "y": [
          0.6007533967494965
         ],
         "yaxis": "y"
        }
       ],
       "layout": {
        "legend": {
         "itemsizing": "constant",
         "title": {
          "text": "player_name"
         },
         "tracegroupgap": 0
        },
        "template": {
         "data": {
          "bar": [
           {
            "error_x": {
             "color": "#2a3f5f"
            },
            "error_y": {
             "color": "#2a3f5f"
            },
            "marker": {
             "line": {
              "color": "#E5ECF6",
              "width": 0.5
             }
            },
            "type": "bar"
           }
          ],
          "barpolar": [
           {
            "marker": {
             "line": {
              "color": "#E5ECF6",
              "width": 0.5
             }
            },
            "type": "barpolar"
           }
          ],
          "carpet": [
           {
            "aaxis": {
             "endlinecolor": "#2a3f5f",
             "gridcolor": "white",
             "linecolor": "white",
             "minorgridcolor": "white",
             "startlinecolor": "#2a3f5f"
            },
            "baxis": {
             "endlinecolor": "#2a3f5f",
             "gridcolor": "white",
             "linecolor": "white",
             "minorgridcolor": "white",
             "startlinecolor": "#2a3f5f"
            },
            "type": "carpet"
           }
          ],
          "choropleth": [
           {
            "colorbar": {
             "outlinewidth": 0,
             "ticks": ""
            },
            "type": "choropleth"
           }
          ],
          "contour": [
           {
            "colorbar": {
             "outlinewidth": 0,
             "ticks": ""
            },
            "colorscale": [
             [
              0,
              "#0d0887"
             ],
             [
              0.1111111111111111,
              "#46039f"
             ],
             [
              0.2222222222222222,
              "#7201a8"
             ],
             [
              0.3333333333333333,
              "#9c179e"
             ],
             [
              0.4444444444444444,
              "#bd3786"
             ],
             [
              0.5555555555555556,
              "#d8576b"
             ],
             [
              0.6666666666666666,
              "#ed7953"
             ],
             [
              0.7777777777777778,
              "#fb9f3a"
             ],
             [
              0.8888888888888888,
              "#fdca26"
             ],
             [
              1,
              "#f0f921"
             ]
            ],
            "type": "contour"
           }
          ],
          "contourcarpet": [
           {
            "colorbar": {
             "outlinewidth": 0,
             "ticks": ""
            },
            "type": "contourcarpet"
           }
          ],
          "heatmap": [
           {
            "colorbar": {
             "outlinewidth": 0,
             "ticks": ""
            },
            "colorscale": [
             [
              0,
              "#0d0887"
             ],
             [
              0.1111111111111111,
              "#46039f"
             ],
             [
              0.2222222222222222,
              "#7201a8"
             ],
             [
              0.3333333333333333,
              "#9c179e"
             ],
             [
              0.4444444444444444,
              "#bd3786"
             ],
             [
              0.5555555555555556,
              "#d8576b"
             ],
             [
              0.6666666666666666,
              "#ed7953"
             ],
             [
              0.7777777777777778,
              "#fb9f3a"
             ],
             [
              0.8888888888888888,
              "#fdca26"
             ],
             [
              1,
              "#f0f921"
             ]
            ],
            "type": "heatmap"
           }
          ],
          "heatmapgl": [
           {
            "colorbar": {
             "outlinewidth": 0,
             "ticks": ""
            },
            "colorscale": [
             [
              0,
              "#0d0887"
             ],
             [
              0.1111111111111111,
              "#46039f"
             ],
             [
              0.2222222222222222,
              "#7201a8"
             ],
             [
              0.3333333333333333,
              "#9c179e"
             ],
             [
              0.4444444444444444,
              "#bd3786"
             ],
             [
              0.5555555555555556,
              "#d8576b"
             ],
             [
              0.6666666666666666,
              "#ed7953"
             ],
             [
              0.7777777777777778,
              "#fb9f3a"
             ],
             [
              0.8888888888888888,
              "#fdca26"
             ],
             [
              1,
              "#f0f921"
             ]
            ],
            "type": "heatmapgl"
           }
          ],
          "histogram": [
           {
            "marker": {
             "colorbar": {
              "outlinewidth": 0,
              "ticks": ""
             }
            },
            "type": "histogram"
           }
          ],
          "histogram2d": [
           {
            "colorbar": {
             "outlinewidth": 0,
             "ticks": ""
            },
            "colorscale": [
             [
              0,
              "#0d0887"
             ],
             [
              0.1111111111111111,
              "#46039f"
             ],
             [
              0.2222222222222222,
              "#7201a8"
             ],
             [
              0.3333333333333333,
              "#9c179e"
             ],
             [
              0.4444444444444444,
              "#bd3786"
             ],
             [
              0.5555555555555556,
              "#d8576b"
             ],
             [
              0.6666666666666666,
              "#ed7953"
             ],
             [
              0.7777777777777778,
              "#fb9f3a"
             ],
             [
              0.8888888888888888,
              "#fdca26"
             ],
             [
              1,
              "#f0f921"
             ]
            ],
            "type": "histogram2d"
           }
          ],
          "histogram2dcontour": [
           {
            "colorbar": {
             "outlinewidth": 0,
             "ticks": ""
            },
            "colorscale": [
             [
              0,
              "#0d0887"
             ],
             [
              0.1111111111111111,
              "#46039f"
             ],
             [
              0.2222222222222222,
              "#7201a8"
             ],
             [
              0.3333333333333333,
              "#9c179e"
             ],
             [
              0.4444444444444444,
              "#bd3786"
             ],
             [
              0.5555555555555556,
              "#d8576b"
             ],
             [
              0.6666666666666666,
              "#ed7953"
             ],
             [
              0.7777777777777778,
              "#fb9f3a"
             ],
             [
              0.8888888888888888,
              "#fdca26"
             ],
             [
              1,
              "#f0f921"
             ]
            ],
            "type": "histogram2dcontour"
           }
          ],
          "mesh3d": [
           {
            "colorbar": {
             "outlinewidth": 0,
             "ticks": ""
            },
            "type": "mesh3d"
           }
          ],
          "parcoords": [
           {
            "line": {
             "colorbar": {
              "outlinewidth": 0,
              "ticks": ""
             }
            },
            "type": "parcoords"
           }
          ],
          "pie": [
           {
            "automargin": true,
            "type": "pie"
           }
          ],
          "scatter": [
           {
            "marker": {
             "colorbar": {
              "outlinewidth": 0,
              "ticks": ""
             }
            },
            "type": "scatter"
           }
          ],
          "scatter3d": [
           {
            "line": {
             "colorbar": {
              "outlinewidth": 0,
              "ticks": ""
             }
            },
            "marker": {
             "colorbar": {
              "outlinewidth": 0,
              "ticks": ""
             }
            },
            "type": "scatter3d"
           }
          ],
          "scattercarpet": [
           {
            "marker": {
             "colorbar": {
              "outlinewidth": 0,
              "ticks": ""
             }
            },
            "type": "scattercarpet"
           }
          ],
          "scattergeo": [
           {
            "marker": {
             "colorbar": {
              "outlinewidth": 0,
              "ticks": ""
             }
            },
            "type": "scattergeo"
           }
          ],
          "scattergl": [
           {
            "marker": {
             "colorbar": {
              "outlinewidth": 0,
              "ticks": ""
             }
            },
            "type": "scattergl"
           }
          ],
          "scattermapbox": [
           {
            "marker": {
             "colorbar": {
              "outlinewidth": 0,
              "ticks": ""
             }
            },
            "type": "scattermapbox"
           }
          ],
          "scatterpolar": [
           {
            "marker": {
             "colorbar": {
              "outlinewidth": 0,
              "ticks": ""
             }
            },
            "type": "scatterpolar"
           }
          ],
          "scatterpolargl": [
           {
            "marker": {
             "colorbar": {
              "outlinewidth": 0,
              "ticks": ""
             }
            },
            "type": "scatterpolargl"
           }
          ],
          "scatterternary": [
           {
            "marker": {
             "colorbar": {
              "outlinewidth": 0,
              "ticks": ""
             }
            },
            "type": "scatterternary"
           }
          ],
          "surface": [
           {
            "colorbar": {
             "outlinewidth": 0,
             "ticks": ""
            },
            "colorscale": [
             [
              0,
              "#0d0887"
             ],
             [
              0.1111111111111111,
              "#46039f"
             ],
             [
              0.2222222222222222,
              "#7201a8"
             ],
             [
              0.3333333333333333,
              "#9c179e"
             ],
             [
              0.4444444444444444,
              "#bd3786"
             ],
             [
              0.5555555555555556,
              "#d8576b"
             ],
             [
              0.6666666666666666,
              "#ed7953"
             ],
             [
              0.7777777777777778,
              "#fb9f3a"
             ],
             [
              0.8888888888888888,
              "#fdca26"
             ],
             [
              1,
              "#f0f921"
             ]
            ],
            "type": "surface"
           }
          ],
          "table": [
           {
            "cells": {
             "fill": {
              "color": "#EBF0F8"
             },
             "line": {
              "color": "white"
             }
            },
            "header": {
             "fill": {
              "color": "#C8D4E3"
             },
             "line": {
              "color": "white"
             }
            },
            "type": "table"
           }
          ]
         },
         "layout": {
          "annotationdefaults": {
           "arrowcolor": "#2a3f5f",
           "arrowhead": 0,
           "arrowwidth": 1
          },
          "coloraxis": {
           "colorbar": {
            "outlinewidth": 0,
            "ticks": ""
           }
          },
          "colorscale": {
           "diverging": [
            [
             0,
             "#8e0152"
            ],
            [
             0.1,
             "#c51b7d"
            ],
            [
             0.2,
             "#de77ae"
            ],
            [
             0.3,
             "#f1b6da"
            ],
            [
             0.4,
             "#fde0ef"
            ],
            [
             0.5,
             "#f7f7f7"
            ],
            [
             0.6,
             "#e6f5d0"
            ],
            [
             0.7,
             "#b8e186"
            ],
            [
             0.8,
             "#7fbc41"
            ],
            [
             0.9,
             "#4d9221"
            ],
            [
             1,
             "#276419"
            ]
           ],
           "sequential": [
            [
             0,
             "#0d0887"
            ],
            [
             0.1111111111111111,
             "#46039f"
            ],
            [
             0.2222222222222222,
             "#7201a8"
            ],
            [
             0.3333333333333333,
             "#9c179e"
            ],
            [
             0.4444444444444444,
             "#bd3786"
            ],
            [
             0.5555555555555556,
             "#d8576b"
            ],
            [
             0.6666666666666666,
             "#ed7953"
            ],
            [
             0.7777777777777778,
             "#fb9f3a"
            ],
            [
             0.8888888888888888,
             "#fdca26"
            ],
            [
             1,
             "#f0f921"
            ]
           ],
           "sequentialminus": [
            [
             0,
             "#0d0887"
            ],
            [
             0.1111111111111111,
             "#46039f"
            ],
            [
             0.2222222222222222,
             "#7201a8"
            ],
            [
             0.3333333333333333,
             "#9c179e"
            ],
            [
             0.4444444444444444,
             "#bd3786"
            ],
            [
             0.5555555555555556,
             "#d8576b"
            ],
            [
             0.6666666666666666,
             "#ed7953"
            ],
            [
             0.7777777777777778,
             "#fb9f3a"
            ],
            [
             0.8888888888888888,
             "#fdca26"
            ],
            [
             1,
             "#f0f921"
            ]
           ]
          },
          "colorway": [
           "#636efa",
           "#EF553B",
           "#00cc96",
           "#ab63fa",
           "#FFA15A",
           "#19d3f3",
           "#FF6692",
           "#B6E880",
           "#FF97FF",
           "#FECB52"
          ],
          "font": {
           "color": "#2a3f5f"
          },
          "geo": {
           "bgcolor": "white",
           "lakecolor": "white",
           "landcolor": "#E5ECF6",
           "showlakes": true,
           "showland": true,
           "subunitcolor": "white"
          },
          "hoverlabel": {
           "align": "left"
          },
          "hovermode": "closest",
          "mapbox": {
           "style": "light"
          },
          "paper_bgcolor": "white",
          "plot_bgcolor": "#E5ECF6",
          "polar": {
           "angularaxis": {
            "gridcolor": "white",
            "linecolor": "white",
            "ticks": ""
           },
           "bgcolor": "#E5ECF6",
           "radialaxis": {
            "gridcolor": "white",
            "linecolor": "white",
            "ticks": ""
           }
          },
          "scene": {
           "xaxis": {
            "backgroundcolor": "#E5ECF6",
            "gridcolor": "white",
            "gridwidth": 2,
            "linecolor": "white",
            "showbackground": true,
            "ticks": "",
            "zerolinecolor": "white"
           },
           "yaxis": {
            "backgroundcolor": "#E5ECF6",
            "gridcolor": "white",
            "gridwidth": 2,
            "linecolor": "white",
            "showbackground": true,
            "ticks": "",
            "zerolinecolor": "white"
           },
           "zaxis": {
            "backgroundcolor": "#E5ECF6",
            "gridcolor": "white",
            "gridwidth": 2,
            "linecolor": "white",
            "showbackground": true,
            "ticks": "",
            "zerolinecolor": "white"
           }
          },
          "shapedefaults": {
           "line": {
            "color": "#2a3f5f"
           }
          },
          "ternary": {
           "aaxis": {
            "gridcolor": "white",
            "linecolor": "white",
            "ticks": ""
           },
           "baxis": {
            "gridcolor": "white",
            "linecolor": "white",
            "ticks": ""
           },
           "bgcolor": "#E5ECF6",
           "caxis": {
            "gridcolor": "white",
            "linecolor": "white",
            "ticks": ""
           }
          },
          "title": {
           "x": 0.05
          },
          "xaxis": {
           "automargin": true,
           "gridcolor": "white",
           "linecolor": "white",
           "ticks": "",
           "title": {
            "standoff": 15
           },
           "zerolinecolor": "white",
           "zerolinewidth": 2
          },
          "yaxis": {
           "automargin": true,
           "gridcolor": "white",
           "linecolor": "white",
           "ticks": "",
           "title": {
            "standoff": 15
           },
           "zerolinecolor": "white",
           "zerolinewidth": 2
          }
         }
        },
        "title": {
         "text": "xG vs Goals PL MIDs"
        },
        "xaxis": {
         "anchor": "y",
         "domain": [
          0,
          1
         ],
         "title": {
          "text": "Goal and XG Difference"
         }
        },
        "yaxis": {
         "anchor": "x",
         "domain": [
          0,
          1
         ],
         "title": {
          "text": "xG"
         }
        }
       }
      },
      "text/html": [
       "<div>\n",
       "        \n",
       "        \n",
       "            <div id=\"f8b4414d-572d-4b3a-b941-8a4847683343\" class=\"plotly-graph-div\" style=\"height:525px; width:100%;\"></div>\n",
       "            <script type=\"text/javascript\">\n",
       "                require([\"plotly\"], function(Plotly) {\n",
       "                    window.PLOTLYENV=window.PLOTLYENV || {};\n",
       "                    \n",
       "                if (document.getElementById(\"f8b4414d-572d-4b3a-b941-8a4847683343\")) {\n",
       "                    Plotly.newPlot(\n",
       "                        'f8b4414d-572d-4b3a-b941-8a4847683343',\n",
       "                        [{\"hovertemplate\": \"<b>%{hovertext}</b><br><br>player_name=Kevin De Bruyne<br>Goal and XG Difference=%{x}<br>xG=%{y}<br>goals=%{marker.size}<extra></extra>\", \"hovertext\": [\"Kevin De Bruyne\"], \"legendgroup\": \"Kevin De Bruyne\", \"marker\": {\"color\": \"#636efa\", \"size\": [14], \"sizemode\": \"area\", \"sizeref\": 0.035, \"symbol\": \"circle\"}, \"mode\": \"markers\", \"name\": \"Kevin De Bruyne\", \"showlegend\": true, \"type\": \"scatter\", \"x\": [5.8935721646994335], \"xaxis\": \"x\", \"y\": [8.106427835300567], \"yaxis\": \"y\"}, {\"hovertemplate\": \"<b>%{hovertext}</b><br><br>player_name=Bruno Fernandes<br>Goal and XG Difference=%{x}<br>xG=%{y}<br>goals=%{marker.size}<extra></extra>\", \"hovertext\": [\"Bruno Fernandes\"], \"legendgroup\": \"Bruno Fernandes\", \"marker\": {\"color\": \"#EF553B\", \"size\": [8], \"sizemode\": \"area\", \"sizeref\": 0.035, \"symbol\": \"circle\"}, \"mode\": \"markers\", \"name\": \"Bruno Fernandes\", \"showlegend\": true, \"type\": \"scatter\", \"x\": [2.0139194950461388], \"xaxis\": \"x\", \"y\": [5.986080504953861], \"yaxis\": \"y\"}, {\"hovertemplate\": \"<b>%{hovertext}</b><br><br>player_name=Jonjo Shelvey<br>Goal and XG Difference=%{x}<br>xG=%{y}<br>goals=%{marker.size}<extra></extra>\", \"hovertext\": [\"Jonjo Shelvey\"], \"legendgroup\": \"Jonjo Shelvey\", \"marker\": {\"color\": \"#00cc96\", \"size\": [6], \"sizemode\": \"area\", \"sizeref\": 0.035, \"symbol\": \"circle\"}, \"mode\": \"markers\", \"name\": \"Jonjo Shelvey\", \"showlegend\": true, \"type\": \"scatter\", \"x\": [3.7577862199395895], \"xaxis\": \"x\", \"y\": [2.2422137800604105], \"yaxis\": \"y\"}, {\"hovertemplate\": \"<b>%{hovertext}</b><br><br>player_name=James Maddison<br>Goal and XG Difference=%{x}<br>xG=%{y}<br>goals=%{marker.size}<extra></extra>\", \"hovertext\": [\"James Maddison\"], \"legendgroup\": \"James Maddison\", \"marker\": {\"color\": \"#ab63fa\", \"size\": [6], \"sizemode\": \"area\", \"sizeref\": 0.035, \"symbol\": \"circle\"}, \"mode\": \"markers\", \"name\": \"James Maddison\", \"showlegend\": true, \"type\": \"scatter\", \"x\": [0.9782250840216875], \"xaxis\": \"x\", \"y\": [5.0217749159783125], \"yaxis\": \"y\"}, {\"hovertemplate\": \"<b>%{hovertext}</b><br><br>player_name=Todd Cantwell<br>Goal and XG Difference=%{x}<br>xG=%{y}<br>goals=%{marker.size}<extra></extra>\", \"hovertext\": [\"Todd Cantwell\"], \"legendgroup\": \"Todd Cantwell\", \"marker\": {\"color\": \"#FFA15A\", \"size\": [6], \"sizemode\": \"area\", \"sizeref\": 0.035, \"symbol\": \"circle\"}, \"mode\": \"markers\", \"name\": \"Todd Cantwell\", \"showlegend\": true, \"type\": \"scatter\", \"x\": [0.32495102006942034], \"xaxis\": \"x\", \"y\": [5.67504897993058], \"yaxis\": \"y\"}, {\"hovertemplate\": \"<b>%{hovertext}</b><br><br>player_name=David Silva<br>Goal and XG Difference=%{x}<br>xG=%{y}<br>goals=%{marker.size}<extra></extra>\", \"hovertext\": [\"David Silva\"], \"legendgroup\": \"David Silva\", \"marker\": {\"color\": \"#19d3f3\", \"size\": [5], \"sizemode\": \"area\", \"sizeref\": 0.035, \"symbol\": \"circle\"}, \"mode\": \"markers\", \"name\": \"David Silva\", \"showlegend\": true, \"type\": \"scatter\", \"x\": [-1.93236867710948], \"xaxis\": \"x\", \"y\": [6.93236867710948], \"yaxis\": \"y\"}, {\"hovertemplate\": \"<b>%{hovertext}</b><br><br>player_name=Andriy Yarmolenko<br>Goal and XG Difference=%{x}<br>xG=%{y}<br>goals=%{marker.size}<extra></extra>\", \"hovertext\": [\"Andriy Yarmolenko\"], \"legendgroup\": \"Andriy Yarmolenko\", \"marker\": {\"color\": \"#FF6692\", \"size\": [5], \"sizemode\": \"area\", \"sizeref\": 0.035, \"symbol\": \"circle\"}, \"mode\": \"markers\", \"name\": \"Andriy Yarmolenko\", \"showlegend\": true, \"type\": \"scatter\", \"x\": [2.3744050227105618], \"xaxis\": \"x\", \"y\": [2.6255949772894382], \"yaxis\": \"y\"}, {\"hovertemplate\": \"<b>%{hovertext}</b><br><br>player_name=Stuart Armstrong<br>Goal and XG Difference=%{x}<br>xG=%{y}<br>goals=%{marker.size}<extra></extra>\", \"hovertext\": [\"Stuart Armstrong\"], \"legendgroup\": \"Stuart Armstrong\", \"marker\": {\"color\": \"#B6E880\", \"size\": [5], \"sizemode\": \"area\", \"sizeref\": 0.035, \"symbol\": \"circle\"}, \"mode\": \"markers\", \"name\": \"Stuart Armstrong\", \"showlegend\": true, \"type\": \"scatter\", \"x\": [1.8855591099709272], \"xaxis\": \"x\", \"y\": [3.1144408900290728], \"yaxis\": \"y\"}, {\"hovertemplate\": \"<b>%{hovertext}</b><br><br>player_name=John Lundstram<br>Goal and XG Difference=%{x}<br>xG=%{y}<br>goals=%{marker.size}<extra></extra>\", \"hovertext\": [\"John Lundstram\"], \"legendgroup\": \"John Lundstram\", \"marker\": {\"color\": \"#FF97FF\", \"size\": [5], \"sizemode\": \"area\", \"sizeref\": 0.035, \"symbol\": \"circle\"}, \"mode\": \"markers\", \"name\": \"John Lundstram\", \"showlegend\": true, \"type\": \"scatter\", \"x\": [-0.921482932753861], \"xaxis\": \"x\", \"y\": [5.921482932753861], \"yaxis\": \"y\"}, {\"hovertemplate\": \"<b>%{hovertext}</b><br><br>player_name=John Fleck<br>Goal and XG Difference=%{x}<br>xG=%{y}<br>goals=%{marker.size}<extra></extra>\", \"hovertext\": [\"John Fleck\"], \"legendgroup\": \"John Fleck\", \"marker\": {\"color\": \"#FECB52\", \"size\": [5], \"sizemode\": \"area\", \"sizeref\": 0.035, \"symbol\": \"circle\"}, \"mode\": \"markers\", \"name\": \"John Fleck\", \"showlegend\": true, \"type\": \"scatter\", \"x\": [1.7518981257453565], \"xaxis\": \"x\", \"y\": [3.2481018742546435], \"yaxis\": \"y\"}, {\"hovertemplate\": \"<b>%{hovertext}</b><br><br>player_name=Mark Noble<br>Goal and XG Difference=%{x}<br>xG=%{y}<br>goals=%{marker.size}<extra></extra>\", \"hovertext\": [\"Mark Noble\"], \"legendgroup\": \"Mark Noble\", \"marker\": {\"color\": \"#636efa\", \"size\": [4], \"sizemode\": \"area\", \"sizeref\": 0.035, \"symbol\": \"circle\"}, \"mode\": \"markers\", \"name\": \"Mark Noble\", \"showlegend\": true, \"type\": \"scatter\", \"x\": [1.226173979230225], \"xaxis\": \"x\", \"y\": [2.773826020769775], \"yaxis\": \"y\"}, {\"hovertemplate\": \"<b>%{hovertext}</b><br><br>player_name=Jordan Henderson<br>Goal and XG Difference=%{x}<br>xG=%{y}<br>goals=%{marker.size}<extra></extra>\", \"hovertext\": [\"Jordan Henderson\"], \"legendgroup\": \"Jordan Henderson\", \"marker\": {\"color\": \"#EF553B\", \"size\": [4], \"sizemode\": \"area\", \"sizeref\": 0.035, \"symbol\": \"circle\"}, \"mode\": \"markers\", \"name\": \"Jordan Henderson\", \"showlegend\": true, \"type\": \"scatter\", \"x\": [2.8153111841529608], \"xaxis\": \"x\", \"y\": [1.1846888158470392], \"yaxis\": \"y\"}, {\"hovertemplate\": \"<b>%{hovertext}</b><br><br>player_name=Georginio Wijnaldum<br>Goal and XG Difference=%{x}<br>xG=%{y}<br>goals=%{marker.size}<extra></extra>\", \"hovertext\": [\"Georginio Wijnaldum\"], \"legendgroup\": \"Georginio Wijnaldum\", \"marker\": {\"color\": \"#00cc96\", \"size\": [4], \"sizemode\": \"area\", \"sizeref\": 0.035, \"symbol\": \"circle\"}, \"mode\": \"markers\", \"name\": \"Georginio Wijnaldum\", \"showlegend\": true, \"type\": \"scatter\", \"x\": [1.3489184286445384], \"xaxis\": \"x\", \"y\": [2.6510815713554616], \"yaxis\": \"y\"}, {\"hovertemplate\": \"<b>%{hovertext}</b><br><br>player_name=Jorginho<br>Goal and XG Difference=%{x}<br>xG=%{y}<br>goals=%{marker.size}<extra></extra>\", \"hovertext\": [\"Jorginho\"], \"legendgroup\": \"Jorginho\", \"marker\": {\"color\": \"#ab63fa\", \"size\": [4], \"sizemode\": \"area\", \"sizeref\": 0.035, \"symbol\": \"circle\"}, \"mode\": \"markers\", \"name\": \"Jorginho\", \"showlegend\": true, \"type\": \"scatter\", \"x\": [0.902995876967907], \"xaxis\": \"x\", \"y\": [3.097004123032093], \"yaxis\": \"y\"}, {\"hovertemplate\": \"<b>%{hovertext}</b><br><br>player_name=Abdoulaye Doucour\\u00e9<br>Goal and XG Difference=%{x}<br>xG=%{y}<br>goals=%{marker.size}<extra></extra>\", \"hovertext\": [\"Abdoulaye Doucour\\u00e9\"], \"legendgroup\": \"Abdoulaye Doucour\\u00e9\", \"marker\": {\"color\": \"#FFA15A\", \"size\": [4], \"sizemode\": \"area\", \"sizeref\": 0.035, \"symbol\": \"circle\"}, \"mode\": \"markers\", \"name\": \"Abdoulaye Doucour\\u00e9\", \"showlegend\": true, \"type\": \"scatter\", \"x\": [-1.2809096165001383], \"xaxis\": \"x\", \"y\": [5.280909616500138], \"yaxis\": \"y\"}, {\"hovertemplate\": \"<b>%{hovertext}</b><br><br>player_name=Dan Gosling<br>Goal and XG Difference=%{x}<br>xG=%{y}<br>goals=%{marker.size}<extra></extra>\", \"hovertext\": [\"Dan Gosling\"], \"legendgroup\": \"Dan Gosling\", \"marker\": {\"color\": \"#19d3f3\", \"size\": [3], \"sizemode\": \"area\", \"sizeref\": 0.035, \"symbol\": \"circle\"}, \"mode\": \"markers\", \"name\": \"Dan Gosling\", \"showlegend\": true, \"type\": \"scatter\", \"x\": [0.07013613916933537], \"xaxis\": \"x\", \"y\": [2.9298638608306646], \"yaxis\": \"y\"}, {\"hovertemplate\": \"<b>%{hovertext}</b><br><br>player_name=N&#039;Golo Kant\\u00e9<br>Goal and XG Difference=%{x}<br>xG=%{y}<br>goals=%{marker.size}<extra></extra>\", \"hovertext\": [\"N&#039;Golo Kant\\u00e9\"], \"legendgroup\": \"N&#039;Golo Kant\\u00e9\", \"marker\": {\"color\": \"#FF6692\", \"size\": [3], \"sizemode\": \"area\", \"sizeref\": 0.035, \"symbol\": \"circle\"}, \"mode\": \"markers\", \"name\": \"N&#039;Golo Kant\\u00e9\", \"showlegend\": true, \"type\": \"scatter\", \"x\": [1.45608704444021], \"xaxis\": \"x\", \"y\": [1.54391295555979], \"yaxis\": \"y\"}, {\"hovertemplate\": \"<b>%{hovertext}</b><br><br>player_name=Luka Milivojevic<br>Goal and XG Difference=%{x}<br>xG=%{y}<br>goals=%{marker.size}<extra></extra>\", \"hovertext\": [\"Luka Milivojevic\"], \"legendgroup\": \"Luka Milivojevic\", \"marker\": {\"color\": \"#B6E880\", \"size\": [3], \"sizemode\": \"area\", \"sizeref\": 0.035, \"symbol\": \"circle\"}, \"mode\": \"markers\", \"name\": \"Luka Milivojevic\", \"showlegend\": true, \"type\": \"scatter\", \"x\": [0.5042843306437135], \"xaxis\": \"x\", \"y\": [2.4957156693562865], \"yaxis\": \"y\"}, {\"hovertemplate\": \"<b>%{hovertext}</b><br><br>player_name=Scott McTominay<br>Goal and XG Difference=%{x}<br>xG=%{y}<br>goals=%{marker.size}<extra></extra>\", \"hovertext\": [\"Scott McTominay\"], \"legendgroup\": \"Scott McTominay\", \"marker\": {\"color\": \"#FF97FF\", \"size\": [3], \"sizemode\": \"area\", \"sizeref\": 0.035, \"symbol\": \"circle\"}, \"mode\": \"markers\", \"name\": \"Scott McTominay\", \"showlegend\": true, \"type\": \"scatter\", \"x\": [0.9780171308666472], \"xaxis\": \"x\", \"y\": [2.021982869133353], \"yaxis\": \"y\"}, {\"hovertemplate\": \"<b>%{hovertext}</b><br><br>player_name=Youri Tielemans<br>Goal and XG Difference=%{x}<br>xG=%{y}<br>goals=%{marker.size}<extra></extra>\", \"hovertext\": [\"Youri Tielemans\"], \"legendgroup\": \"Youri Tielemans\", \"marker\": {\"color\": \"#FECB52\", \"size\": [3], \"sizemode\": \"area\", \"sizeref\": 0.035, \"symbol\": \"circle\"}, \"mode\": \"markers\", \"name\": \"Youri Tielemans\", \"showlegend\": true, \"type\": \"scatter\", \"x\": [0.20761901326477528], \"xaxis\": \"x\", \"y\": [2.7923809867352247], \"yaxis\": \"y\"}, {\"hovertemplate\": \"<b>%{hovertext}</b><br><br>player_name=Douglas Luiz<br>Goal and XG Difference=%{x}<br>xG=%{y}<br>goals=%{marker.size}<extra></extra>\", \"hovertext\": [\"Douglas Luiz\"], \"legendgroup\": \"Douglas Luiz\", \"marker\": {\"color\": \"#636efa\", \"size\": [3], \"sizemode\": \"area\", \"sizeref\": 0.035, \"symbol\": \"circle\"}, \"mode\": \"markers\", \"name\": \"Douglas Luiz\", \"showlegend\": true, \"type\": \"scatter\", \"x\": [0.7222045622766022], \"xaxis\": \"x\", \"y\": [2.2777954377233978], \"yaxis\": \"y\"}, {\"hovertemplate\": \"<b>%{hovertext}</b><br><br>player_name=Bernard<br>Goal and XG Difference=%{x}<br>xG=%{y}<br>goals=%{marker.size}<extra></extra>\", \"hovertext\": [\"Bernard\"], \"legendgroup\": \"Bernard\", \"marker\": {\"color\": \"#EF553B\", \"size\": [3], \"sizemode\": \"area\", \"sizeref\": 0.035, \"symbol\": \"circle\"}, \"mode\": \"markers\", \"name\": \"Bernard\", \"showlegend\": true, \"type\": \"scatter\", \"x\": [1.3024345375597477], \"xaxis\": \"x\", \"y\": [1.6975654624402523], \"yaxis\": \"y\"}, {\"hovertemplate\": \"<b>%{hovertext}</b><br><br>player_name=Conor Hourihane<br>Goal and XG Difference=%{x}<br>xG=%{y}<br>goals=%{marker.size}<extra></extra>\", \"hovertext\": [\"Conor Hourihane\"], \"legendgroup\": \"Conor Hourihane\", \"marker\": {\"color\": \"#00cc96\", \"size\": [3], \"sizemode\": \"area\", \"sizeref\": 0.035, \"symbol\": \"circle\"}, \"mode\": \"markers\", \"name\": \"Conor Hourihane\", \"showlegend\": true, \"type\": \"scatter\", \"x\": [1.371660677716136], \"xaxis\": \"x\", \"y\": [1.628339322283864], \"yaxis\": \"y\"}, {\"hovertemplate\": \"<b>%{hovertext}</b><br><br>player_name=John McGinn<br>Goal and XG Difference=%{x}<br>xG=%{y}<br>goals=%{marker.size}<extra></extra>\", \"hovertext\": [\"John McGinn\"], \"legendgroup\": \"John McGinn\", \"marker\": {\"color\": \"#ab63fa\", \"size\": [3], \"sizemode\": \"area\", \"sizeref\": 0.035, \"symbol\": \"circle\"}, \"mode\": \"markers\", \"name\": \"John McGinn\", \"showlegend\": true, \"type\": \"scatter\", \"x\": [-0.9825730072334413], \"xaxis\": \"x\", \"y\": [3.9825730072334413], \"yaxis\": \"y\"}, {\"hovertemplate\": \"<b>%{hovertext}</b><br><br>player_name=Gabriel Martinelli<br>Goal and XG Difference=%{x}<br>xG=%{y}<br>goals=%{marker.size}<extra></extra>\", \"hovertext\": [\"Gabriel Martinelli\"], \"legendgroup\": \"Gabriel Martinelli\", \"marker\": {\"color\": \"#FFA15A\", \"size\": [3], \"sizemode\": \"area\", \"sizeref\": 0.035, \"symbol\": \"circle\"}, \"mode\": \"markers\", \"name\": \"Gabriel Martinelli\", \"showlegend\": true, \"type\": \"scatter\", \"x\": [0.7575165443122387], \"xaxis\": \"x\", \"y\": [2.2424834556877613], \"yaxis\": \"y\"}, {\"hovertemplate\": \"<b>%{hovertext}</b><br><br>player_name=Tomas Soucek<br>Goal and XG Difference=%{x}<br>xG=%{y}<br>goals=%{marker.size}<extra></extra>\", \"hovertext\": [\"Tomas Soucek\"], \"legendgroup\": \"Tomas Soucek\", \"marker\": {\"color\": \"#19d3f3\", \"size\": [3], \"sizemode\": \"area\", \"sizeref\": 0.035, \"symbol\": \"circle\"}, \"mode\": \"markers\", \"name\": \"Tomas Soucek\", \"showlegend\": true, \"type\": \"scatter\", \"x\": [0.5816259756684303], \"xaxis\": \"x\", \"y\": [2.4183740243315697], \"yaxis\": \"y\"}, {\"hovertemplate\": \"<b>%{hovertext}</b><br><br>player_name=Ilkay G\\u00fcndogan<br>Goal and XG Difference=%{x}<br>xG=%{y}<br>goals=%{marker.size}<extra></extra>\", \"hovertext\": [\"Ilkay G\\u00fcndogan\"], \"legendgroup\": \"Ilkay G\\u00fcndogan\", \"marker\": {\"color\": \"#FF6692\", \"size\": [2], \"sizemode\": \"area\", \"sizeref\": 0.035, \"symbol\": \"circle\"}, \"mode\": \"markers\", \"name\": \"Ilkay G\\u00fcndogan\", \"showlegend\": true, \"type\": \"scatter\", \"x\": [-2.3467030934989443], \"xaxis\": \"x\", \"y\": [4.346703093498944], \"yaxis\": \"y\"}, {\"hovertemplate\": \"<b>%{hovertext}</b><br><br>player_name=Theo Walcott<br>Goal and XG Difference=%{x}<br>xG=%{y}<br>goals=%{marker.size}<extra></extra>\", \"hovertext\": [\"Theo Walcott\"], \"legendgroup\": \"Theo Walcott\", \"marker\": {\"color\": \"#B6E880\", \"size\": [2], \"sizemode\": \"area\", \"sizeref\": 0.035, \"symbol\": \"circle\"}, \"mode\": \"markers\", \"name\": \"Theo Walcott\", \"showlegend\": true, \"type\": \"scatter\", \"x\": [-1.4808373413980007], \"xaxis\": \"x\", \"y\": [3.4808373413980007], \"yaxis\": \"y\"}, {\"hovertemplate\": \"<b>%{hovertext}</b><br><br>player_name=Ashley Westwood<br>Goal and XG Difference=%{x}<br>xG=%{y}<br>goals=%{marker.size}<extra></extra>\", \"hovertext\": [\"Ashley Westwood\"], \"legendgroup\": \"Ashley Westwood\", \"marker\": {\"color\": \"#FF97FF\", \"size\": [2], \"sizemode\": \"area\", \"sizeref\": 0.035, \"symbol\": \"circle\"}, \"mode\": \"markers\", \"name\": \"Ashley Westwood\", \"showlegend\": true, \"type\": \"scatter\", \"x\": [0.8248374247923491], \"xaxis\": \"x\", \"y\": [1.1751625752076509], \"yaxis\": \"y\"}, {\"hovertemplate\": \"<b>%{hovertext}</b><br><br>player_name=Gylfi Sigurdsson<br>Goal and XG Difference=%{x}<br>xG=%{y}<br>goals=%{marker.size}<extra></extra>\", \"hovertext\": [\"Gylfi Sigurdsson\"], \"legendgroup\": \"Gylfi Sigurdsson\", \"marker\": {\"color\": \"#FECB52\", \"size\": [2], \"sizemode\": \"area\", \"sizeref\": 0.035, \"symbol\": \"circle\"}, \"mode\": \"markers\", \"name\": \"Gylfi Sigurdsson\", \"showlegend\": true, \"type\": \"scatter\", \"x\": [-2.0193677539937207], \"xaxis\": \"x\", \"y\": [4.019367753993721], \"yaxis\": \"y\"}, {\"hovertemplate\": \"<b>%{hovertext}</b><br><br>player_name=Demarai Gray<br>Goal and XG Difference=%{x}<br>xG=%{y}<br>goals=%{marker.size}<extra></extra>\", \"hovertext\": [\"Demarai Gray\"], \"legendgroup\": \"Demarai Gray\", \"marker\": {\"color\": \"#636efa\", \"size\": [2], \"sizemode\": \"area\", \"sizeref\": 0.035, \"symbol\": \"circle\"}, \"mode\": \"markers\", \"name\": \"Demarai Gray\", \"showlegend\": true, \"type\": \"scatter\", \"x\": [-0.767196649685502], \"xaxis\": \"x\", \"y\": [2.767196649685502], \"yaxis\": \"y\"}, {\"hovertemplate\": \"<b>%{hovertext}</b><br><br>player_name=Jeff Hendrick<br>Goal and XG Difference=%{x}<br>xG=%{y}<br>goals=%{marker.size}<extra></extra>\", \"hovertext\": [\"Jeff Hendrick\"], \"legendgroup\": \"Jeff Hendrick\", \"marker\": {\"color\": \"#EF553B\", \"size\": [2], \"sizemode\": \"area\", \"sizeref\": 0.035, \"symbol\": \"circle\"}, \"mode\": \"markers\", \"name\": \"Jeff Hendrick\", \"showlegend\": true, \"type\": \"scatter\", \"x\": [-0.10208363458514169], \"xaxis\": \"x\", \"y\": [2.1020836345851417], \"yaxis\": \"y\"}, {\"hovertemplate\": \"<b>%{hovertext}</b><br><br>player_name=Jonny<br>Goal and XG Difference=%{x}<br>xG=%{y}<br>goals=%{marker.size}<extra></extra>\", \"hovertext\": [\"Jonny\"], \"legendgroup\": \"Jonny\", \"marker\": {\"color\": \"#00cc96\", \"size\": [2], \"sizemode\": \"area\", \"sizeref\": 0.035, \"symbol\": \"circle\"}, \"mode\": \"markers\", \"name\": \"Jonny\", \"showlegend\": true, \"type\": \"scatter\", \"x\": [0.3859572820365431], \"xaxis\": \"x\", \"y\": [1.6140427179634569], \"yaxis\": \"y\"}, {\"hovertemplate\": \"<b>%{hovertext}</b><br><br>player_name=Pablo Fornals<br>Goal and XG Difference=%{x}<br>xG=%{y}<br>goals=%{marker.size}<extra></extra>\", \"hovertext\": [\"Pablo Fornals\"], \"legendgroup\": \"Pablo Fornals\", \"marker\": {\"color\": \"#ab63fa\", \"size\": [2], \"sizemode\": \"area\", \"sizeref\": 0.035, \"symbol\": \"circle\"}, \"mode\": \"markers\", \"name\": \"Pablo Fornals\", \"showlegend\": true, \"type\": \"scatter\", \"x\": [-0.6434274353086948], \"xaxis\": \"x\", \"y\": [2.643427435308695], \"yaxis\": \"y\"}, {\"hovertemplate\": \"<b>%{hovertext}</b><br><br>player_name=Fabinho<br>Goal and XG Difference=%{x}<br>xG=%{y}<br>goals=%{marker.size}<extra></extra>\", \"hovertext\": [\"Fabinho\"], \"legendgroup\": \"Fabinho\", \"marker\": {\"color\": \"#FFA15A\", \"size\": [2], \"sizemode\": \"area\", \"sizeref\": 0.035, \"symbol\": \"circle\"}, \"mode\": \"markers\", \"name\": \"Fabinho\", \"showlegend\": true, \"type\": \"scatter\", \"x\": [1.691898474469781], \"xaxis\": \"x\", \"y\": [0.3081015255302191], \"yaxis\": \"y\"}, {\"hovertemplate\": \"<b>%{hovertext}</b><br><br>player_name=Naby Keita<br>Goal and XG Difference=%{x}<br>xG=%{y}<br>goals=%{marker.size}<extra></extra>\", \"hovertext\": [\"Naby Keita\"], \"legendgroup\": \"Naby Keita\", \"marker\": {\"color\": \"#19d3f3\", \"size\": [2], \"sizemode\": \"area\", \"sizeref\": 0.035, \"symbol\": \"circle\"}, \"mode\": \"markers\", \"name\": \"Naby Keita\", \"showlegend\": true, \"type\": \"scatter\", \"x\": [0.27662608958780766], \"xaxis\": \"x\", \"y\": [1.7233739104121923], \"yaxis\": \"y\"}, {\"hovertemplate\": \"<b>%{hovertext}</b><br><br>player_name=Wilfred Ndidi<br>Goal and XG Difference=%{x}<br>xG=%{y}<br>goals=%{marker.size}<extra></extra>\", \"hovertext\": [\"Wilfred Ndidi\"], \"legendgroup\": \"Wilfred Ndidi\", \"marker\": {\"color\": \"#FF6692\", \"size\": [2], \"sizemode\": \"area\", \"sizeref\": 0.035, \"symbol\": \"circle\"}, \"mode\": \"markers\", \"name\": \"Wilfred Ndidi\", \"showlegend\": true, \"type\": \"scatter\", \"x\": [0.27272842545062304], \"xaxis\": \"x\", \"y\": [1.727271574549377], \"yaxis\": \"y\"}, {\"hovertemplate\": \"<b>%{hovertext}</b><br><br>player_name=Tanguy NDombele Alvaro<br>Goal and XG Difference=%{x}<br>xG=%{y}<br>goals=%{marker.size}<extra></extra>\", \"hovertext\": [\"Tanguy NDombele Alvaro\"], \"legendgroup\": \"Tanguy NDombele Alvaro\", \"marker\": {\"color\": \"#B6E880\", \"size\": [2], \"sizemode\": \"area\", \"sizeref\": 0.035, \"symbol\": \"circle\"}, \"mode\": \"markers\", \"name\": \"Tanguy NDombele Alvaro\", \"showlegend\": true, \"type\": \"scatter\", \"x\": [1.647045012563467], \"xaxis\": \"x\", \"y\": [0.352954987436533], \"yaxis\": \"y\"}, {\"hovertemplate\": \"<b>%{hovertext}</b><br><br>player_name=Dwight McNeil<br>Goal and XG Difference=%{x}<br>xG=%{y}<br>goals=%{marker.size}<extra></extra>\", \"hovertext\": [\"Dwight McNeil\"], \"legendgroup\": \"Dwight McNeil\", \"marker\": {\"color\": \"#FF97FF\", \"size\": [2], \"sizemode\": \"area\", \"sizeref\": 0.035, \"symbol\": \"circle\"}, \"mode\": \"markers\", \"name\": \"Dwight McNeil\", \"showlegend\": true, \"type\": \"scatter\", \"x\": [0.06106645427644275], \"xaxis\": \"x\", \"y\": [1.9389335457235573], \"yaxis\": \"y\"}, {\"hovertemplate\": \"<b>%{hovertext}</b><br><br>player_name=R\\u00faben Neves<br>Goal and XG Difference=%{x}<br>xG=%{y}<br>goals=%{marker.size}<extra></extra>\", \"hovertext\": [\"R\\u00faben Neves\"], \"legendgroup\": \"R\\u00faben Neves\", \"marker\": {\"color\": \"#FECB52\", \"size\": [2], \"sizemode\": \"area\", \"sizeref\": 0.035, \"symbol\": \"circle\"}, \"mode\": \"markers\", \"name\": \"R\\u00faben Neves\", \"showlegend\": true, \"type\": \"scatter\", \"x\": [0.361916309222579], \"xaxis\": \"x\", \"y\": [1.638083690777421], \"yaxis\": \"y\"}, {\"hovertemplate\": \"<b>%{hovertext}</b><br><br>player_name=George Baldock<br>Goal and XG Difference=%{x}<br>xG=%{y}<br>goals=%{marker.size}<extra></extra>\", \"hovertext\": [\"George Baldock\"], \"legendgroup\": \"George Baldock\", \"marker\": {\"color\": \"#636efa\", \"size\": [2], \"sizemode\": \"area\", \"sizeref\": 0.035, \"symbol\": \"circle\"}, \"mode\": \"markers\", \"name\": \"George Baldock\", \"showlegend\": true, \"type\": \"scatter\", \"x\": [1.2369942124933004], \"xaxis\": \"x\", \"y\": [0.7630057875066996], \"yaxis\": \"y\"}, {\"hovertemplate\": \"<b>%{hovertext}</b><br><br>player_name=Enda Stevens<br>Goal and XG Difference=%{x}<br>xG=%{y}<br>goals=%{marker.size}<extra></extra>\", \"hovertext\": [\"Enda Stevens\"], \"legendgroup\": \"Enda Stevens\", \"marker\": {\"color\": \"#EF553B\", \"size\": [2], \"sizemode\": \"area\", \"sizeref\": 0.035, \"symbol\": \"circle\"}, \"mode\": \"markers\", \"name\": \"Enda Stevens\", \"showlegend\": true, \"type\": \"scatter\", \"x\": [0.47874312847852685], \"xaxis\": \"x\", \"y\": [1.5212568715214732], \"yaxis\": \"y\"}, {\"hovertemplate\": \"<b>%{hovertext}</b><br><br>player_name=Matthew Longstaff<br>Goal and XG Difference=%{x}<br>xG=%{y}<br>goals=%{marker.size}<extra></extra>\", \"hovertext\": [\"Matthew Longstaff\"], \"legendgroup\": \"Matthew Longstaff\", \"marker\": {\"color\": \"#00cc96\", \"size\": [2], \"sizemode\": \"area\", \"sizeref\": 0.035, \"symbol\": \"circle\"}, \"mode\": \"markers\", \"name\": \"Matthew Longstaff\", \"showlegend\": true, \"type\": \"scatter\", \"x\": [1.3034817911684513], \"xaxis\": \"x\", \"y\": [0.6965182088315487], \"yaxis\": \"y\"}, {\"hovertemplate\": \"<b>%{hovertext}</b><br><br>player_name=Mario Vrancic<br>Goal and XG Difference=%{x}<br>xG=%{y}<br>goals=%{marker.size}<extra></extra>\", \"hovertext\": [\"Mario Vrancic\"], \"legendgroup\": \"Mario Vrancic\", \"marker\": {\"color\": \"#ab63fa\", \"size\": [1], \"sizemode\": \"area\", \"sizeref\": 0.035, \"symbol\": \"circle\"}, \"mode\": \"markers\", \"name\": \"Mario Vrancic\", \"showlegend\": true, \"type\": \"scatter\", \"x\": [-0.09788380190730095], \"xaxis\": \"x\", \"y\": [1.097883801907301], \"yaxis\": \"y\"}, {\"hovertemplate\": \"<b>%{hovertext}</b><br><br>player_name=Granit Xhaka<br>Goal and XG Difference=%{x}<br>xG=%{y}<br>goals=%{marker.size}<extra></extra>\", \"hovertext\": [\"Granit Xhaka\"], \"legendgroup\": \"Granit Xhaka\", \"marker\": {\"color\": \"#FFA15A\", \"size\": [1], \"sizemode\": \"area\", \"sizeref\": 0.035, \"symbol\": \"circle\"}, \"mode\": \"markers\", \"name\": \"Granit Xhaka\", \"showlegend\": true, \"type\": \"scatter\", \"x\": [0.4287700904533267], \"xaxis\": \"x\", \"y\": [0.5712299095466733], \"yaxis\": \"y\"}, {\"hovertemplate\": \"<b>%{hovertext}</b><br><br>player_name=Adam Lallana<br>Goal and XG Difference=%{x}<br>xG=%{y}<br>goals=%{marker.size}<extra></extra>\", \"hovertext\": [\"Adam Lallana\"], \"legendgroup\": \"Adam Lallana\", \"marker\": {\"color\": \"#19d3f3\", \"size\": [1], \"sizemode\": \"area\", \"sizeref\": 0.035, \"symbol\": \"circle\"}, \"mode\": \"markers\", \"name\": \"Adam Lallana\", \"showlegend\": true, \"type\": \"scatter\", \"x\": [0.19131497666239738], \"xaxis\": \"x\", \"y\": [0.8086850233376026], \"yaxis\": \"y\"}, {\"hovertemplate\": \"<b>%{hovertext}</b><br><br>player_name=Mesut \\u00d6zil<br>Goal and XG Difference=%{x}<br>xG=%{y}<br>goals=%{marker.size}<extra></extra>\", \"hovertext\": [\"Mesut \\u00d6zil\"], \"legendgroup\": \"Mesut \\u00d6zil\", \"marker\": {\"color\": \"#FF6692\", \"size\": [1], \"sizemode\": \"area\", \"sizeref\": 0.035, \"symbol\": \"circle\"}, \"mode\": \"markers\", \"name\": \"Mesut \\u00d6zil\", \"showlegend\": true, \"type\": \"scatter\", \"x\": [-0.7082734499126673], \"xaxis\": \"x\", \"y\": [1.7082734499126673], \"yaxis\": \"y\"}, {\"hovertemplate\": \"<b>%{hovertext}</b><br><br>player_name=Jesse Lingard<br>Goal and XG Difference=%{x}<br>xG=%{y}<br>goals=%{marker.size}<extra></extra>\", \"hovertext\": [\"Jesse Lingard\"], \"legendgroup\": \"Jesse Lingard\", \"marker\": {\"color\": \"#B6E880\", \"size\": [1], \"sizemode\": \"area\", \"sizeref\": 0.035, \"symbol\": \"circle\"}, \"mode\": \"markers\", \"name\": \"Jesse Lingard\", \"showlegend\": true, \"type\": \"scatter\", \"x\": [-1.3275695517659187], \"xaxis\": \"x\", \"y\": [2.3275695517659187], \"yaxis\": \"y\"}, {\"hovertemplate\": \"<b>%{hovertext}</b><br><br>player_name=Ross Barkley<br>Goal and XG Difference=%{x}<br>xG=%{y}<br>goals=%{marker.size}<extra></extra>\", \"hovertext\": [\"Ross Barkley\"], \"legendgroup\": \"Ross Barkley\", \"marker\": {\"color\": \"#FF97FF\", \"size\": [1], \"sizemode\": \"area\", \"sizeref\": 0.035, \"symbol\": \"circle\"}, \"mode\": \"markers\", \"name\": \"Ross Barkley\", \"showlegend\": true, \"type\": \"scatter\", \"x\": [-1.8449643328785896], \"xaxis\": \"x\", \"y\": [2.8449643328785896], \"yaxis\": \"y\"}, {\"hovertemplate\": \"<b>%{hovertext}</b><br><br>player_name=Tom Cleverley<br>Goal and XG Difference=%{x}<br>xG=%{y}<br>goals=%{marker.size}<extra></extra>\", \"hovertext\": [\"Tom Cleverley\"], \"legendgroup\": \"Tom Cleverley\", \"marker\": {\"color\": \"#FECB52\", \"size\": [1], \"sizemode\": \"area\", \"sizeref\": 0.035, \"symbol\": \"circle\"}, \"mode\": \"markers\", \"name\": \"Tom Cleverley\", \"showlegend\": true, \"type\": \"scatter\", \"x\": [-0.7800701409578323], \"xaxis\": \"x\", \"y\": [1.7800701409578323], \"yaxis\": \"y\"}, {\"hovertemplate\": \"<b>%{hovertext}</b><br><br>player_name=Andros Townsend<br>Goal and XG Difference=%{x}<br>xG=%{y}<br>goals=%{marker.size}<extra></extra>\", \"hovertext\": [\"Andros Townsend\"], \"legendgroup\": \"Andros Townsend\", \"marker\": {\"color\": \"#636efa\", \"size\": [1], \"sizemode\": \"area\", \"sizeref\": 0.035, \"symbol\": \"circle\"}, \"mode\": \"markers\", \"name\": \"Andros Townsend\", \"showlegend\": true, \"type\": \"scatter\", \"x\": [0.6043378543108702], \"xaxis\": \"x\", \"y\": [0.3956621456891298], \"yaxis\": \"y\"}, {\"hovertemplate\": \"<b>%{hovertext}</b><br><br>player_name=Robbie Brady<br>Goal and XG Difference=%{x}<br>xG=%{y}<br>goals=%{marker.size}<extra></extra>\", \"hovertext\": [\"Robbie Brady\"], \"legendgroup\": \"Robbie Brady\", \"marker\": {\"color\": \"#EF553B\", \"size\": [1], \"sizemode\": \"area\", \"sizeref\": 0.035, \"symbol\": \"circle\"}, \"mode\": \"markers\", \"name\": \"Robbie Brady\", \"showlegend\": true, \"type\": \"scatter\", \"x\": [0.003499802201986424], \"xaxis\": \"x\", \"y\": [0.9965001977980136], \"yaxis\": \"y\"}, {\"hovertemplate\": \"<b>%{hovertext}</b><br><br>player_name=Xherdan Shaqiri<br>Goal and XG Difference=%{x}<br>xG=%{y}<br>goals=%{marker.size}<extra></extra>\", \"hovertext\": [\"Xherdan Shaqiri\"], \"legendgroup\": \"Xherdan Shaqiri\", \"marker\": {\"color\": \"#00cc96\", \"size\": [1], \"sizemode\": \"area\", \"sizeref\": 0.035, \"symbol\": \"circle\"}, \"mode\": \"markers\", \"name\": \"Xherdan Shaqiri\", \"showlegend\": true, \"type\": \"scatter\", \"x\": [0.4591592624783516], \"xaxis\": \"x\", \"y\": [0.5408407375216484], \"yaxis\": \"y\"}, {\"hovertemplate\": \"<b>%{hovertext}</b><br><br>player_name=Andreas Pereira<br>Goal and XG Difference=%{x}<br>xG=%{y}<br>goals=%{marker.size}<extra></extra>\", \"hovertext\": [\"Andreas Pereira\"], \"legendgroup\": \"Andreas Pereira\", \"marker\": {\"color\": \"#ab63fa\", \"size\": [1], \"sizemode\": \"area\", \"sizeref\": 0.035, \"symbol\": \"circle\"}, \"mode\": \"markers\", \"name\": \"Andreas Pereira\", \"showlegend\": true, \"type\": \"scatter\", \"x\": [-1.2855918873101477], \"xaxis\": \"x\", \"y\": [2.2855918873101477], \"yaxis\": \"y\"}, {\"hovertemplate\": \"<b>%{hovertext}</b><br><br>player_name=Tom Davies<br>Goal and XG Difference=%{x}<br>xG=%{y}<br>goals=%{marker.size}<extra></extra>\", \"hovertext\": [\"Tom Davies\"], \"legendgroup\": \"Tom Davies\", \"marker\": {\"color\": \"#FFA15A\", \"size\": [1], \"sizemode\": \"area\", \"sizeref\": 0.035, \"symbol\": \"circle\"}, \"mode\": \"markers\", \"name\": \"Tom Davies\", \"showlegend\": true, \"type\": \"scatter\", \"x\": [-0.6402476858347654], \"xaxis\": \"x\", \"y\": [1.6402476858347654], \"yaxis\": \"y\"}, {\"hovertemplate\": \"<b>%{hovertext}</b><br><br>player_name=Felipe Anderson<br>Goal and XG Difference=%{x}<br>xG=%{y}<br>goals=%{marker.size}<extra></extra>\", \"hovertext\": [\"Felipe Anderson\"], \"legendgroup\": \"Felipe Anderson\", \"marker\": {\"color\": \"#19d3f3\", \"size\": [1], \"sizemode\": \"area\", \"sizeref\": 0.035, \"symbol\": \"circle\"}, \"mode\": \"markers\", \"name\": \"Felipe Anderson\", \"showlegend\": true, \"type\": \"scatter\", \"x\": [-1.6348467022180562], \"xaxis\": \"x\", \"y\": [2.634846702218056], \"yaxis\": \"y\"}, {\"hovertemplate\": \"<b>%{hovertext}</b><br><br>player_name=Lucas Torreira<br>Goal and XG Difference=%{x}<br>xG=%{y}<br>goals=%{marker.size}<extra></extra>\", \"hovertext\": [\"Lucas Torreira\"], \"legendgroup\": \"Lucas Torreira\", \"marker\": {\"color\": \"#FF6692\", \"size\": [1], \"sizemode\": \"area\", \"sizeref\": 0.035, \"symbol\": \"circle\"}, \"mode\": \"markers\", \"name\": \"Lucas Torreira\", \"showlegend\": true, \"type\": \"scatter\", \"x\": [-0.4572487138211727], \"xaxis\": \"x\", \"y\": [1.4572487138211727], \"yaxis\": \"y\"}, {\"hovertemplate\": \"<b>%{hovertext}</b><br><br>player_name=Dennis Praet<br>Goal and XG Difference=%{x}<br>xG=%{y}<br>goals=%{marker.size}<extra></extra>\", \"hovertext\": [\"Dennis Praet\"], \"legendgroup\": \"Dennis Praet\", \"marker\": {\"color\": \"#B6E880\", \"size\": [1], \"sizemode\": \"area\", \"sizeref\": 0.035, \"symbol\": \"circle\"}, \"mode\": \"markers\", \"name\": \"Dennis Praet\", \"showlegend\": true, \"type\": \"scatter\", \"x\": [-0.20771589037030935], \"xaxis\": \"x\", \"y\": [1.2077158903703094], \"yaxis\": \"y\"}, {\"hovertemplate\": \"<b>%{hovertext}</b><br><br>player_name=Johann Berg Gudmundsson<br>Goal and XG Difference=%{x}<br>xG=%{y}<br>goals=%{marker.size}<extra></extra>\", \"hovertext\": [\"Johann Berg Gudmundsson\"], \"legendgroup\": \"Johann Berg Gudmundsson\", \"marker\": {\"color\": \"#FF97FF\", \"size\": [1], \"sizemode\": \"area\", \"sizeref\": 0.035, \"symbol\": \"circle\"}, \"mode\": \"markers\", \"name\": \"Johann Berg Gudmundsson\", \"showlegend\": true, \"type\": \"scatter\", \"x\": [0.27646173536777496], \"xaxis\": \"x\", \"y\": [0.723538264632225], \"yaxis\": \"y\"}, {\"hovertemplate\": \"<b>%{hovertext}</b><br><br>player_name=Paul Pogba<br>Goal and XG Difference=%{x}<br>xG=%{y}<br>goals=%{marker.size}<extra></extra>\", \"hovertext\": [\"Paul Pogba\"], \"legendgroup\": \"Paul Pogba\", \"marker\": {\"color\": \"#FECB52\", \"size\": [1], \"sizemode\": \"area\", \"sizeref\": 0.035, \"symbol\": \"circle\"}, \"mode\": \"markers\", \"name\": \"Paul Pogba\", \"showlegend\": true, \"type\": \"scatter\", \"x\": [-1.1508691580966115], \"xaxis\": \"x\", \"y\": [2.1508691580966115], \"yaxis\": \"y\"}, {\"hovertemplate\": \"<b>%{hovertext}</b><br><br>player_name=Jarrod Bowen<br>Goal and XG Difference=%{x}<br>xG=%{y}<br>goals=%{marker.size}<extra></extra>\", \"hovertext\": [\"Jarrod Bowen\"], \"legendgroup\": \"Jarrod Bowen\", \"marker\": {\"color\": \"#636efa\", \"size\": [1], \"sizemode\": \"area\", \"sizeref\": 0.035, \"symbol\": \"circle\"}, \"mode\": \"markers\", \"name\": \"Jarrod Bowen\", \"showlegend\": true, \"type\": \"scatter\", \"x\": [-1.3164738304913044], \"xaxis\": \"x\", \"y\": [2.3164738304913044], \"yaxis\": \"y\"}, {\"hovertemplate\": \"<b>%{hovertext}</b><br><br>player_name=Jefferson Lerma<br>Goal and XG Difference=%{x}<br>xG=%{y}<br>goals=%{marker.size}<extra></extra>\", \"hovertext\": [\"Jefferson Lerma\"], \"legendgroup\": \"Jefferson Lerma\", \"marker\": {\"color\": \"#EF553B\", \"size\": [1], \"sizemode\": \"area\", \"sizeref\": 0.035, \"symbol\": \"circle\"}, \"mode\": \"markers\", \"name\": \"Jefferson Lerma\", \"showlegend\": true, \"type\": \"scatter\", \"x\": [0.1846688585355878], \"xaxis\": \"x\", \"y\": [0.8153311414644122], \"yaxis\": \"y\"}, {\"hovertemplate\": \"<b>%{hovertext}</b><br><br>player_name=Emiliano Buend\\u00eda<br>Goal and XG Difference=%{x}<br>xG=%{y}<br>goals=%{marker.size}<extra></extra>\", \"hovertext\": [\"Emiliano Buend\\u00eda\"], \"legendgroup\": \"Emiliano Buend\\u00eda\", \"marker\": {\"color\": \"#00cc96\", \"size\": [1], \"sizemode\": \"area\", \"sizeref\": 0.035, \"symbol\": \"circle\"}, \"mode\": \"markers\", \"name\": \"Emiliano Buend\\u00eda\", \"showlegend\": true, \"type\": \"scatter\", \"x\": [-1.1698683053255081], \"xaxis\": \"x\", \"y\": [2.169868305325508], \"yaxis\": \"y\"}, {\"hovertemplate\": \"<b>%{hovertext}</b><br><br>player_name=Mateo Kovacic<br>Goal and XG Difference=%{x}<br>xG=%{y}<br>goals=%{marker.size}<extra></extra>\", \"hovertext\": [\"Mateo Kovacic\"], \"legendgroup\": \"Mateo Kovacic\", \"marker\": {\"color\": \"#ab63fa\", \"size\": [1], \"sizemode\": \"area\", \"sizeref\": 0.035, \"symbol\": \"circle\"}, \"mode\": \"markers\", \"name\": \"Mateo Kovacic\", \"showlegend\": true, \"type\": \"scatter\", \"x\": [0.02734013646841038], \"xaxis\": \"x\", \"y\": [0.9726598635315896], \"yaxis\": \"y\"}, {\"hovertemplate\": \"<b>%{hovertext}</b><br><br>player_name=Jo\\u00e3o Moutinho<br>Goal and XG Difference=%{x}<br>xG=%{y}<br>goals=%{marker.size}<extra></extra>\", \"hovertext\": [\"Jo\\u00e3o Moutinho\"], \"legendgroup\": \"Jo\\u00e3o Moutinho\", \"marker\": {\"color\": \"#FFA15A\", \"size\": [1], \"sizemode\": \"area\", \"sizeref\": 0.035, \"symbol\": \"circle\"}, \"mode\": \"markers\", \"name\": \"Jo\\u00e3o Moutinho\", \"showlegend\": true, \"type\": \"scatter\", \"x\": [0.31223247293382883], \"xaxis\": \"x\", \"y\": [0.6877675270661712], \"yaxis\": \"y\"}, {\"hovertemplate\": \"<b>%{hovertext}</b><br><br>player_name=Yves Bissouma<br>Goal and XG Difference=%{x}<br>xG=%{y}<br>goals=%{marker.size}<extra></extra>\", \"hovertext\": [\"Yves Bissouma\"], \"legendgroup\": \"Yves Bissouma\", \"marker\": {\"color\": \"#19d3f3\", \"size\": [1], \"sizemode\": \"area\", \"sizeref\": 0.035, \"symbol\": \"circle\"}, \"mode\": \"markers\", \"name\": \"Yves Bissouma\", \"showlegend\": true, \"type\": \"scatter\", \"x\": [0.5945754759013653], \"xaxis\": \"x\", \"y\": [0.4054245240986347], \"yaxis\": \"y\"}, {\"hovertemplate\": \"<b>%{hovertext}</b><br><br>player_name=Philip Billing<br>Goal and XG Difference=%{x}<br>xG=%{y}<br>goals=%{marker.size}<extra></extra>\", \"hovertext\": [\"Philip Billing\"], \"legendgroup\": \"Philip Billing\", \"marker\": {\"color\": \"#FF6692\", \"size\": [1], \"sizemode\": \"area\", \"sizeref\": 0.035, \"symbol\": \"circle\"}, \"mode\": \"markers\", \"name\": \"Philip Billing\", \"showlegend\": true, \"type\": \"scatter\", \"x\": [-1.2746950732544065], \"xaxis\": \"x\", \"y\": [2.2746950732544065], \"yaxis\": \"y\"}, {\"hovertemplate\": \"<b>%{hovertext}</b><br><br>player_name=Davy Pr\\u00f6pper<br>Goal and XG Difference=%{x}<br>xG=%{y}<br>goals=%{marker.size}<extra></extra>\", \"hovertext\": [\"Davy Pr\\u00f6pper\"], \"legendgroup\": \"Davy Pr\\u00f6pper\", \"marker\": {\"color\": \"#B6E880\", \"size\": [1], \"sizemode\": \"area\", \"sizeref\": 0.035, \"symbol\": \"circle\"}, \"mode\": \"markers\", \"name\": \"Davy Pr\\u00f6pper\", \"showlegend\": true, \"type\": \"scatter\", \"x\": [-0.8662200346589088], \"xaxis\": \"x\", \"y\": [1.8662200346589088], \"yaxis\": \"y\"}, {\"hovertemplate\": \"<b>%{hovertext}</b><br><br>player_name=Will Hughes<br>Goal and XG Difference=%{x}<br>xG=%{y}<br>goals=%{marker.size}<extra></extra>\", \"hovertext\": [\"Will Hughes\"], \"legendgroup\": \"Will Hughes\", \"marker\": {\"color\": \"#FF97FF\", \"size\": [1], \"sizemode\": \"area\", \"sizeref\": 0.035, \"symbol\": \"circle\"}, \"mode\": \"markers\", \"name\": \"Will Hughes\", \"showlegend\": true, \"type\": \"scatter\", \"x\": [-1.3883110266178846], \"xaxis\": \"x\", \"y\": [2.3883110266178846], \"yaxis\": \"y\"}, {\"hovertemplate\": \"<b>%{hovertext}</b><br><br>player_name=Hamza Choudhury<br>Goal and XG Difference=%{x}<br>xG=%{y}<br>goals=%{marker.size}<extra></extra>\", \"hovertext\": [\"Hamza Choudhury\"], \"legendgroup\": \"Hamza Choudhury\", \"marker\": {\"color\": \"#FECB52\", \"size\": [1], \"sizemode\": \"area\", \"sizeref\": 0.035, \"symbol\": \"circle\"}, \"mode\": \"markers\", \"name\": \"Hamza Choudhury\", \"showlegend\": true, \"type\": \"scatter\", \"x\": [0.6633467208594084], \"xaxis\": \"x\", \"y\": [0.3366532791405916], \"yaxis\": \"y\"}, {\"hovertemplate\": \"<b>%{hovertext}</b><br><br>player_name=Joe Willock<br>Goal and XG Difference=%{x}<br>xG=%{y}<br>goals=%{marker.size}<extra></extra>\", \"hovertext\": [\"Joe Willock\"], \"legendgroup\": \"Joe Willock\", \"marker\": {\"color\": \"#636efa\", \"size\": [1], \"sizemode\": \"area\", \"sizeref\": 0.035, \"symbol\": \"circle\"}, \"mode\": \"markers\", \"name\": \"Joe Willock\", \"showlegend\": true, \"type\": \"scatter\", \"x\": [-1.3209964223206043], \"xaxis\": \"x\", \"y\": [2.3209964223206043], \"yaxis\": \"y\"}, {\"hovertemplate\": \"<b>%{hovertext}</b><br><br>player_name=Curtis Jones<br>Goal and XG Difference=%{x}<br>xG=%{y}<br>goals=%{marker.size}<extra></extra>\", \"hovertext\": [\"Curtis Jones\"], \"legendgroup\": \"Curtis Jones\", \"marker\": {\"color\": \"#EF553B\", \"size\": [1], \"sizemode\": \"area\", \"sizeref\": 0.035, \"symbol\": \"circle\"}, \"mode\": \"markers\", \"name\": \"Curtis Jones\", \"showlegend\": true, \"type\": \"scatter\", \"x\": [0.18528365343809128], \"xaxis\": \"x\", \"y\": [0.8147163465619087], \"yaxis\": \"y\"}, {\"hovertemplate\": \"<b>%{hovertext}</b><br><br>player_name=David Brooks<br>Goal and XG Difference=%{x}<br>xG=%{y}<br>goals=%{marker.size}<extra></extra>\", \"hovertext\": [\"David Brooks\"], \"legendgroup\": \"David Brooks\", \"marker\": {\"color\": \"#00cc96\", \"size\": [1], \"sizemode\": \"area\", \"sizeref\": 0.035, \"symbol\": \"circle\"}, \"mode\": \"markers\", \"name\": \"David Brooks\", \"showlegend\": true, \"type\": \"scatter\", \"x\": [0.5673886835575104], \"xaxis\": \"x\", \"y\": [0.4326113164424896], \"yaxis\": \"y\"}, {\"hovertemplate\": \"<b>%{hovertext}</b><br><br>player_name=Sean Longstaff<br>Goal and XG Difference=%{x}<br>xG=%{y}<br>goals=%{marker.size}<extra></extra>\", \"hovertext\": [\"Sean Longstaff\"], \"legendgroup\": \"Sean Longstaff\", \"marker\": {\"color\": \"#ab63fa\", \"size\": [1], \"sizemode\": \"area\", \"sizeref\": 0.035, \"symbol\": \"circle\"}, \"mode\": \"markers\", \"name\": \"Sean Longstaff\", \"showlegend\": true, \"type\": \"scatter\", \"x\": [-0.17761623114347458], \"xaxis\": \"x\", \"y\": [1.1776162311434746], \"yaxis\": \"y\"}, {\"hovertemplate\": \"<b>%{hovertext}</b><br><br>player_name=Kenny McLean<br>Goal and XG Difference=%{x}<br>xG=%{y}<br>goals=%{marker.size}<extra></extra>\", \"hovertext\": [\"Kenny McLean\"], \"legendgroup\": \"Kenny McLean\", \"marker\": {\"color\": \"#FFA15A\", \"size\": [1], \"sizemode\": \"area\", \"sizeref\": 0.035, \"symbol\": \"circle\"}, \"mode\": \"markers\", \"name\": \"Kenny McLean\", \"showlegend\": true, \"type\": \"scatter\", \"x\": [-0.21369741205126047], \"xaxis\": \"x\", \"y\": [1.2136974120512605], \"yaxis\": \"y\"}, {\"hovertemplate\": \"<b>%{hovertext}</b><br><br>player_name=Onel Hern\\u00e1ndez<br>Goal and XG Difference=%{x}<br>xG=%{y}<br>goals=%{marker.size}<extra></extra>\", \"hovertext\": [\"Onel Hern\\u00e1ndez\"], \"legendgroup\": \"Onel Hern\\u00e1ndez\", \"marker\": {\"color\": \"#19d3f3\", \"size\": [1], \"sizemode\": \"area\", \"sizeref\": 0.035, \"symbol\": \"circle\"}, \"mode\": \"markers\", \"name\": \"Onel Hern\\u00e1ndez\", \"showlegend\": true, \"type\": \"scatter\", \"x\": [-0.912150758318603], \"xaxis\": \"x\", \"y\": [1.912150758318603], \"yaxis\": \"y\"}, {\"hovertemplate\": \"<b>%{hovertext}</b><br><br>player_name=Oliver Norwood<br>Goal and XG Difference=%{x}<br>xG=%{y}<br>goals=%{marker.size}<extra></extra>\", \"hovertext\": [\"Oliver Norwood\"], \"legendgroup\": \"Oliver Norwood\", \"marker\": {\"color\": \"#FF6692\", \"size\": [1], \"sizemode\": \"area\", \"sizeref\": 0.035, \"symbol\": \"circle\"}, \"mode\": \"markers\", \"name\": \"Oliver Norwood\", \"showlegend\": true, \"type\": \"scatter\", \"x\": [-0.3383013252168894], \"xaxis\": \"x\", \"y\": [1.3383013252168894], \"yaxis\": \"y\"}, {\"hovertemplate\": \"<b>%{hovertext}</b><br><br>player_name=Sander Berge<br>Goal and XG Difference=%{x}<br>xG=%{y}<br>goals=%{marker.size}<extra></extra>\", \"hovertext\": [\"Sander Berge\"], \"legendgroup\": \"Sander Berge\", \"marker\": {\"color\": \"#B6E880\", \"size\": [1], \"sizemode\": \"area\", \"sizeref\": 0.035, \"symbol\": \"circle\"}, \"mode\": \"markers\", \"name\": \"Sander Berge\", \"showlegend\": true, \"type\": \"scatter\", \"x\": [0.39924660325050354], \"xaxis\": \"x\", \"y\": [0.6007533967494965], \"yaxis\": \"y\"}],\n",
       "                        {\"legend\": {\"itemsizing\": \"constant\", \"title\": {\"text\": \"player_name\"}, \"tracegroupgap\": 0}, \"template\": {\"data\": {\"bar\": [{\"error_x\": {\"color\": \"#2a3f5f\"}, \"error_y\": {\"color\": \"#2a3f5f\"}, \"marker\": {\"line\": {\"color\": \"#E5ECF6\", \"width\": 0.5}}, \"type\": \"bar\"}], \"barpolar\": [{\"marker\": {\"line\": {\"color\": \"#E5ECF6\", \"width\": 0.5}}, \"type\": \"barpolar\"}], \"carpet\": [{\"aaxis\": {\"endlinecolor\": \"#2a3f5f\", \"gridcolor\": \"white\", \"linecolor\": \"white\", \"minorgridcolor\": \"white\", \"startlinecolor\": \"#2a3f5f\"}, \"baxis\": {\"endlinecolor\": \"#2a3f5f\", \"gridcolor\": \"white\", \"linecolor\": \"white\", \"minorgridcolor\": \"white\", \"startlinecolor\": \"#2a3f5f\"}, \"type\": \"carpet\"}], \"choropleth\": [{\"colorbar\": {\"outlinewidth\": 0, \"ticks\": \"\"}, \"type\": \"choropleth\"}], \"contour\": [{\"colorbar\": {\"outlinewidth\": 0, \"ticks\": \"\"}, \"colorscale\": [[0.0, \"#0d0887\"], [0.1111111111111111, \"#46039f\"], [0.2222222222222222, \"#7201a8\"], [0.3333333333333333, \"#9c179e\"], [0.4444444444444444, \"#bd3786\"], [0.5555555555555556, \"#d8576b\"], [0.6666666666666666, \"#ed7953\"], [0.7777777777777778, \"#fb9f3a\"], [0.8888888888888888, \"#fdca26\"], [1.0, \"#f0f921\"]], \"type\": \"contour\"}], \"contourcarpet\": [{\"colorbar\": {\"outlinewidth\": 0, \"ticks\": \"\"}, \"type\": \"contourcarpet\"}], \"heatmap\": [{\"colorbar\": {\"outlinewidth\": 0, \"ticks\": \"\"}, \"colorscale\": [[0.0, \"#0d0887\"], [0.1111111111111111, \"#46039f\"], [0.2222222222222222, \"#7201a8\"], [0.3333333333333333, \"#9c179e\"], [0.4444444444444444, \"#bd3786\"], [0.5555555555555556, \"#d8576b\"], [0.6666666666666666, \"#ed7953\"], [0.7777777777777778, \"#fb9f3a\"], [0.8888888888888888, \"#fdca26\"], [1.0, \"#f0f921\"]], \"type\": \"heatmap\"}], \"heatmapgl\": [{\"colorbar\": {\"outlinewidth\": 0, \"ticks\": \"\"}, \"colorscale\": [[0.0, \"#0d0887\"], [0.1111111111111111, \"#46039f\"], [0.2222222222222222, \"#7201a8\"], [0.3333333333333333, \"#9c179e\"], [0.4444444444444444, \"#bd3786\"], [0.5555555555555556, \"#d8576b\"], [0.6666666666666666, \"#ed7953\"], [0.7777777777777778, \"#fb9f3a\"], [0.8888888888888888, \"#fdca26\"], [1.0, \"#f0f921\"]], \"type\": \"heatmapgl\"}], \"histogram\": [{\"marker\": {\"colorbar\": {\"outlinewidth\": 0, \"ticks\": \"\"}}, \"type\": \"histogram\"}], \"histogram2d\": [{\"colorbar\": {\"outlinewidth\": 0, \"ticks\": \"\"}, \"colorscale\": [[0.0, \"#0d0887\"], [0.1111111111111111, \"#46039f\"], [0.2222222222222222, \"#7201a8\"], [0.3333333333333333, \"#9c179e\"], [0.4444444444444444, \"#bd3786\"], [0.5555555555555556, \"#d8576b\"], [0.6666666666666666, \"#ed7953\"], [0.7777777777777778, \"#fb9f3a\"], [0.8888888888888888, \"#fdca26\"], [1.0, \"#f0f921\"]], \"type\": \"histogram2d\"}], \"histogram2dcontour\": [{\"colorbar\": {\"outlinewidth\": 0, \"ticks\": \"\"}, \"colorscale\": [[0.0, \"#0d0887\"], [0.1111111111111111, \"#46039f\"], [0.2222222222222222, \"#7201a8\"], [0.3333333333333333, \"#9c179e\"], [0.4444444444444444, \"#bd3786\"], [0.5555555555555556, \"#d8576b\"], [0.6666666666666666, \"#ed7953\"], [0.7777777777777778, \"#fb9f3a\"], [0.8888888888888888, \"#fdca26\"], [1.0, \"#f0f921\"]], \"type\": \"histogram2dcontour\"}], \"mesh3d\": [{\"colorbar\": {\"outlinewidth\": 0, \"ticks\": \"\"}, \"type\": \"mesh3d\"}], \"parcoords\": [{\"line\": {\"colorbar\": {\"outlinewidth\": 0, \"ticks\": \"\"}}, \"type\": \"parcoords\"}], \"pie\": [{\"automargin\": true, \"type\": \"pie\"}], \"scatter\": [{\"marker\": {\"colorbar\": {\"outlinewidth\": 0, \"ticks\": \"\"}}, \"type\": \"scatter\"}], \"scatter3d\": [{\"line\": {\"colorbar\": {\"outlinewidth\": 0, \"ticks\": \"\"}}, \"marker\": {\"colorbar\": {\"outlinewidth\": 0, \"ticks\": \"\"}}, \"type\": \"scatter3d\"}], \"scattercarpet\": [{\"marker\": {\"colorbar\": {\"outlinewidth\": 0, \"ticks\": \"\"}}, \"type\": \"scattercarpet\"}], \"scattergeo\": [{\"marker\": {\"colorbar\": {\"outlinewidth\": 0, \"ticks\": \"\"}}, \"type\": \"scattergeo\"}], \"scattergl\": [{\"marker\": {\"colorbar\": {\"outlinewidth\": 0, \"ticks\": \"\"}}, \"type\": \"scattergl\"}], \"scattermapbox\": [{\"marker\": {\"colorbar\": {\"outlinewidth\": 0, \"ticks\": \"\"}}, \"type\": \"scattermapbox\"}], \"scatterpolar\": [{\"marker\": {\"colorbar\": {\"outlinewidth\": 0, \"ticks\": \"\"}}, \"type\": \"scatterpolar\"}], \"scatterpolargl\": [{\"marker\": {\"colorbar\": {\"outlinewidth\": 0, \"ticks\": \"\"}}, \"type\": \"scatterpolargl\"}], \"scatterternary\": [{\"marker\": {\"colorbar\": {\"outlinewidth\": 0, \"ticks\": \"\"}}, \"type\": \"scatterternary\"}], \"surface\": [{\"colorbar\": {\"outlinewidth\": 0, \"ticks\": \"\"}, \"colorscale\": [[0.0, \"#0d0887\"], [0.1111111111111111, \"#46039f\"], [0.2222222222222222, \"#7201a8\"], [0.3333333333333333, \"#9c179e\"], [0.4444444444444444, \"#bd3786\"], [0.5555555555555556, \"#d8576b\"], [0.6666666666666666, \"#ed7953\"], [0.7777777777777778, \"#fb9f3a\"], [0.8888888888888888, \"#fdca26\"], [1.0, \"#f0f921\"]], \"type\": \"surface\"}], \"table\": [{\"cells\": {\"fill\": {\"color\": \"#EBF0F8\"}, \"line\": {\"color\": \"white\"}}, \"header\": {\"fill\": {\"color\": \"#C8D4E3\"}, \"line\": {\"color\": \"white\"}}, \"type\": \"table\"}]}, \"layout\": {\"annotationdefaults\": {\"arrowcolor\": \"#2a3f5f\", \"arrowhead\": 0, \"arrowwidth\": 1}, \"coloraxis\": {\"colorbar\": {\"outlinewidth\": 0, \"ticks\": \"\"}}, \"colorscale\": {\"diverging\": [[0, \"#8e0152\"], [0.1, \"#c51b7d\"], [0.2, \"#de77ae\"], [0.3, \"#f1b6da\"], [0.4, \"#fde0ef\"], [0.5, \"#f7f7f7\"], [0.6, \"#e6f5d0\"], [0.7, \"#b8e186\"], [0.8, \"#7fbc41\"], [0.9, \"#4d9221\"], [1, \"#276419\"]], \"sequential\": [[0.0, \"#0d0887\"], [0.1111111111111111, \"#46039f\"], [0.2222222222222222, \"#7201a8\"], [0.3333333333333333, \"#9c179e\"], [0.4444444444444444, \"#bd3786\"], [0.5555555555555556, \"#d8576b\"], [0.6666666666666666, \"#ed7953\"], [0.7777777777777778, \"#fb9f3a\"], [0.8888888888888888, \"#fdca26\"], [1.0, \"#f0f921\"]], \"sequentialminus\": [[0.0, \"#0d0887\"], [0.1111111111111111, \"#46039f\"], [0.2222222222222222, \"#7201a8\"], [0.3333333333333333, \"#9c179e\"], [0.4444444444444444, \"#bd3786\"], [0.5555555555555556, \"#d8576b\"], [0.6666666666666666, \"#ed7953\"], [0.7777777777777778, \"#fb9f3a\"], [0.8888888888888888, \"#fdca26\"], [1.0, \"#f0f921\"]]}, \"colorway\": [\"#636efa\", \"#EF553B\", \"#00cc96\", \"#ab63fa\", \"#FFA15A\", \"#19d3f3\", \"#FF6692\", \"#B6E880\", \"#FF97FF\", \"#FECB52\"], \"font\": {\"color\": \"#2a3f5f\"}, \"geo\": {\"bgcolor\": \"white\", \"lakecolor\": \"white\", \"landcolor\": \"#E5ECF6\", \"showlakes\": true, \"showland\": true, \"subunitcolor\": \"white\"}, \"hoverlabel\": {\"align\": \"left\"}, \"hovermode\": \"closest\", \"mapbox\": {\"style\": \"light\"}, \"paper_bgcolor\": \"white\", \"plot_bgcolor\": \"#E5ECF6\", \"polar\": {\"angularaxis\": {\"gridcolor\": \"white\", \"linecolor\": \"white\", \"ticks\": \"\"}, \"bgcolor\": \"#E5ECF6\", \"radialaxis\": {\"gridcolor\": \"white\", \"linecolor\": \"white\", \"ticks\": \"\"}}, \"scene\": {\"xaxis\": {\"backgroundcolor\": \"#E5ECF6\", \"gridcolor\": \"white\", \"gridwidth\": 2, \"linecolor\": \"white\", \"showbackground\": true, \"ticks\": \"\", \"zerolinecolor\": \"white\"}, \"yaxis\": {\"backgroundcolor\": \"#E5ECF6\", \"gridcolor\": \"white\", \"gridwidth\": 2, \"linecolor\": \"white\", \"showbackground\": true, \"ticks\": \"\", \"zerolinecolor\": \"white\"}, \"zaxis\": {\"backgroundcolor\": \"#E5ECF6\", \"gridcolor\": \"white\", \"gridwidth\": 2, \"linecolor\": \"white\", \"showbackground\": true, \"ticks\": \"\", \"zerolinecolor\": \"white\"}}, \"shapedefaults\": {\"line\": {\"color\": \"#2a3f5f\"}}, \"ternary\": {\"aaxis\": {\"gridcolor\": \"white\", \"linecolor\": \"white\", \"ticks\": \"\"}, \"baxis\": {\"gridcolor\": \"white\", \"linecolor\": \"white\", \"ticks\": \"\"}, \"bgcolor\": \"#E5ECF6\", \"caxis\": {\"gridcolor\": \"white\", \"linecolor\": \"white\", \"ticks\": \"\"}}, \"title\": {\"x\": 0.05}, \"xaxis\": {\"automargin\": true, \"gridcolor\": \"white\", \"linecolor\": \"white\", \"ticks\": \"\", \"title\": {\"standoff\": 15}, \"zerolinecolor\": \"white\", \"zerolinewidth\": 2}, \"yaxis\": {\"automargin\": true, \"gridcolor\": \"white\", \"linecolor\": \"white\", \"ticks\": \"\", \"title\": {\"standoff\": 15}, \"zerolinecolor\": \"white\", \"zerolinewidth\": 2}}}, \"title\": {\"text\": \"xG vs Goals PL MIDs\"}, \"xaxis\": {\"anchor\": \"y\", \"domain\": [0.0, 1.0], \"title\": {\"text\": \"Goal and XG Difference\"}}, \"yaxis\": {\"anchor\": \"x\", \"domain\": [0.0, 1.0], \"title\": {\"text\": \"xG\"}}},\n",
       "                        {\"responsive\": true}\n",
       "                    ).then(function(){\n",
       "                            \n",
       "var gd = document.getElementById('f8b4414d-572d-4b3a-b941-8a4847683343');\n",
       "var x = new MutationObserver(function (mutations, observer) {{\n",
       "        var display = window.getComputedStyle(gd).display;\n",
       "        if (!display || display === 'none') {{\n",
       "            console.log([gd, 'removed!']);\n",
       "            Plotly.purge(gd);\n",
       "            observer.disconnect();\n",
       "        }}\n",
       "}});\n",
       "\n",
       "// Listen for the removal of the full notebook cells\n",
       "var notebookContainer = gd.closest('#notebook-container');\n",
       "if (notebookContainer) {{\n",
       "    x.observe(notebookContainer, {childList: true});\n",
       "}}\n",
       "\n",
       "// Listen for the clearing of the current output cell\n",
       "var outputEl = gd.closest('.output');\n",
       "if (outputEl) {{\n",
       "    x.observe(outputEl, {childList: true});\n",
       "}}\n",
       "\n",
       "                        })\n",
       "                };\n",
       "                });\n",
       "            </script>\n",
       "        </div>"
      ]
     },
     "metadata": {},
     "output_type": "display_data"
    }
   ],
   "source": [
    "midStats['Goal and XG Difference'] = midStats['goals'] - midStats['xG']\n",
    "fig = px.scatter(midStats[midStats['goals']>=1], x=\"Goal and XG Difference\", y=\"xG\", color=\"player_name\", size = 'goals', hover_name=\"player_name\",\n",
    "                title = 'xG vs Goals PL MIDs')\n",
    "fig.show()"
   ]
  },
  {
   "cell_type": "markdown",
   "metadata": {},
   "source": [
    "We notice that Kevin De Bruyne did obscenely well last season, and is an almost essential pick. \n",
    "\n",
    "To get a better idea of who else to select, we look at the database without KDB."
   ]
  },
  {
   "cell_type": "code",
   "execution_count": 84,
   "metadata": {},
   "outputs": [
    {
     "data": {
      "application/vnd.plotly.v1+json": {
       "config": {
        "plotlyServerURL": "https://plot.ly"
       },
       "data": [
        {
         "hovertemplate": "<b>%{hovertext}</b><br><br>player_name=Bruno Fernandes<br>Assist and XA Difference=%{x}<br>xA=%{y}<br>assists=%{marker.size}<extra></extra>",
         "hovertext": [
          "Bruno Fernandes"
         ],
         "legendgroup": "Bruno Fernandes",
         "marker": {
          "color": "#636efa",
          "size": [
           7
          ],
          "sizemode": "area",
          "sizeref": 0.025,
          "symbol": "circle"
         },
         "mode": "markers",
         "name": "Bruno Fernandes",
         "showlegend": true,
         "type": "scatter",
         "x": [
          4.244999725371599
         ],
         "xaxis": "x",
         "y": [
          2.755000274628401
         ],
         "yaxis": "y"
        },
        {
         "hovertemplate": "<b>%{hovertext}</b><br><br>player_name=Jonjo Shelvey<br>Assist and XA Difference=%{x}<br>xA=%{y}<br>assists=%{marker.size}<extra></extra>",
         "hovertext": [
          "Jonjo Shelvey"
         ],
         "legendgroup": "Jonjo Shelvey",
         "marker": {
          "color": "#EF553B",
          "size": [
           2
          ],
          "sizemode": "area",
          "sizeref": 0.025,
          "symbol": "circle"
         },
         "mode": "markers",
         "name": "Jonjo Shelvey",
         "showlegend": true,
         "type": "scatter",
         "x": [
          -2.1416122782975444
         ],
         "xaxis": "x",
         "y": [
          4.141612278297544
         ],
         "yaxis": "y"
        },
        {
         "hovertemplate": "<b>%{hovertext}</b><br><br>player_name=James Maddison<br>Assist and XA Difference=%{x}<br>xA=%{y}<br>assists=%{marker.size}<extra></extra>",
         "hovertext": [
          "James Maddison"
         ],
         "legendgroup": "James Maddison",
         "marker": {
          "color": "#00cc96",
          "size": [
           3
          ],
          "sizemode": "area",
          "sizeref": 0.025,
          "symbol": "circle"
         },
         "mode": "markers",
         "name": "James Maddison",
         "showlegend": true,
         "type": "scatter",
         "x": [
          -2.7685162406414747
         ],
         "xaxis": "x",
         "y": [
          5.768516240641475
         ],
         "yaxis": "y"
        },
        {
         "hovertemplate": "<b>%{hovertext}</b><br><br>player_name=Todd Cantwell<br>Assist and XA Difference=%{x}<br>xA=%{y}<br>assists=%{marker.size}<extra></extra>",
         "hovertext": [
          "Todd Cantwell"
         ],
         "legendgroup": "Todd Cantwell",
         "marker": {
          "color": "#ab63fa",
          "size": [
           2
          ],
          "sizemode": "area",
          "sizeref": 0.025,
          "symbol": "circle"
         },
         "mode": "markers",
         "name": "Todd Cantwell",
         "showlegend": true,
         "type": "scatter",
         "x": [
          -0.3185307234525685
         ],
         "xaxis": "x",
         "y": [
          2.3185307234525685
         ],
         "yaxis": "y"
        },
        {
         "hovertemplate": "<b>%{hovertext}</b><br><br>player_name=David Silva<br>Assist and XA Difference=%{x}<br>xA=%{y}<br>assists=%{marker.size}<extra></extra>",
         "hovertext": [
          "David Silva"
         ],
         "legendgroup": "David Silva",
         "marker": {
          "color": "#FFA15A",
          "size": [
           10
          ],
          "sizemode": "area",
          "sizeref": 0.025,
          "symbol": "circle"
         },
         "mode": "markers",
         "name": "David Silva",
         "showlegend": true,
         "type": "scatter",
         "x": [
          2.3490124605596066
         ],
         "xaxis": "x",
         "y": [
          7.6509875394403934
         ],
         "yaxis": "y"
        },
        {
         "hovertemplate": "<b>%{hovertext}</b><br><br>player_name=Andriy Yarmolenko<br>Assist and XA Difference=%{x}<br>xA=%{y}<br>assists=%{marker.size}<extra></extra>",
         "hovertext": [
          "Andriy Yarmolenko"
         ],
         "legendgroup": "Andriy Yarmolenko",
         "marker": {
          "color": "#19d3f3",
          "size": [
           1
          ],
          "sizemode": "area",
          "sizeref": 0.025,
          "symbol": "circle"
         },
         "mode": "markers",
         "name": "Andriy Yarmolenko",
         "showlegend": true,
         "type": "scatter",
         "x": [
          -2.426018500700593
         ],
         "xaxis": "x",
         "y": [
          3.426018500700593
         ],
         "yaxis": "y"
        },
        {
         "hovertemplate": "<b>%{hovertext}</b><br><br>player_name=Stuart Armstrong<br>Assist and XA Difference=%{x}<br>xA=%{y}<br>assists=%{marker.size}<extra></extra>",
         "hovertext": [
          "Stuart Armstrong"
         ],
         "legendgroup": "Stuart Armstrong",
         "marker": {
          "color": "#FF6692",
          "size": [
           3
          ],
          "sizemode": "area",
          "sizeref": 0.025,
          "symbol": "circle"
         },
         "mode": "markers",
         "name": "Stuart Armstrong",
         "showlegend": true,
         "type": "scatter",
         "x": [
          0.9903473956510429
         ],
         "xaxis": "x",
         "y": [
          2.009652604348957
         ],
         "yaxis": "y"
        },
        {
         "hovertemplate": "<b>%{hovertext}</b><br><br>player_name=John Lundstram<br>Assist and XA Difference=%{x}<br>xA=%{y}<br>assists=%{marker.size}<extra></extra>",
         "hovertext": [
          "John Lundstram"
         ],
         "legendgroup": "John Lundstram",
         "marker": {
          "color": "#B6E880",
          "size": [
           3
          ],
          "sizemode": "area",
          "sizeref": 0.025,
          "symbol": "circle"
         },
         "mode": "markers",
         "name": "John Lundstram",
         "showlegend": true,
         "type": "scatter",
         "x": [
          -0.8296403661370282
         ],
         "xaxis": "x",
         "y": [
          3.829640366137028
         ],
         "yaxis": "y"
        },
        {
         "hovertemplate": "<b>%{hovertext}</b><br><br>player_name=John Fleck<br>Assist and XA Difference=%{x}<br>xA=%{y}<br>assists=%{marker.size}<extra></extra>",
         "hovertext": [
          "John Fleck"
         ],
         "legendgroup": "John Fleck",
         "marker": {
          "color": "#FF97FF",
          "size": [
           2
          ],
          "sizemode": "area",
          "sizeref": 0.025,
          "symbol": "circle"
         },
         "mode": "markers",
         "name": "John Fleck",
         "showlegend": true,
         "type": "scatter",
         "x": [
          -1.4293289501219988
         ],
         "xaxis": "x",
         "y": [
          3.429328950121999
         ],
         "yaxis": "y"
        },
        {
         "hovertemplate": "<b>%{hovertext}</b><br><br>player_name=Mark Noble<br>Assist and XA Difference=%{x}<br>xA=%{y}<br>assists=%{marker.size}<extra></extra>",
         "hovertext": [
          "Mark Noble"
         ],
         "legendgroup": "Mark Noble",
         "marker": {
          "color": "#FECB52",
          "size": [
           3
          ],
          "sizemode": "area",
          "sizeref": 0.025,
          "symbol": "circle"
         },
         "mode": "markers",
         "name": "Mark Noble",
         "showlegend": true,
         "type": "scatter",
         "x": [
          -0.18147218879312277
         ],
         "xaxis": "x",
         "y": [
          3.1814721887931228
         ],
         "yaxis": "y"
        },
        {
         "hovertemplate": "<b>%{hovertext}</b><br><br>player_name=Jordan Henderson<br>Assist and XA Difference=%{x}<br>xA=%{y}<br>assists=%{marker.size}<extra></extra>",
         "hovertext": [
          "Jordan Henderson"
         ],
         "legendgroup": "Jordan Henderson",
         "marker": {
          "color": "#636efa",
          "size": [
           5
          ],
          "sizemode": "area",
          "sizeref": 0.025,
          "symbol": "circle"
         },
         "mode": "markers",
         "name": "Jordan Henderson",
         "showlegend": true,
         "type": "scatter",
         "x": [
          0.8919379599392414
         ],
         "xaxis": "x",
         "y": [
          4.108062040060759
         ],
         "yaxis": "y"
        },
        {
         "hovertemplate": "<b>%{hovertext}</b><br><br>player_name=Georginio Wijnaldum<br>Assist and XA Difference=%{x}<br>xA=%{y}<br>assists=%{marker.size}<extra></extra>",
         "hovertext": [
          "Georginio Wijnaldum"
         ],
         "legendgroup": "Georginio Wijnaldum",
         "marker": {
          "color": "#EF553B",
          "size": [
           0
          ],
          "sizemode": "area",
          "sizeref": 0.025,
          "symbol": "circle"
         },
         "mode": "markers",
         "name": "Georginio Wijnaldum",
         "showlegend": true,
         "type": "scatter",
         "x": [
          -0.8085457179695368
         ],
         "xaxis": "x",
         "y": [
          0.8085457179695368
         ],
         "yaxis": "y"
        },
        {
         "hovertemplate": "<b>%{hovertext}</b><br><br>player_name=Jorginho<br>Assist and XA Difference=%{x}<br>xA=%{y}<br>assists=%{marker.size}<extra></extra>",
         "hovertext": [
          "Jorginho"
         ],
         "legendgroup": "Jorginho",
         "marker": {
          "color": "#00cc96",
          "size": [
           2
          ],
          "sizemode": "area",
          "sizeref": 0.025,
          "symbol": "circle"
         },
         "mode": "markers",
         "name": "Jorginho",
         "showlegend": true,
         "type": "scatter",
         "x": [
          -0.9165160683915019
         ],
         "xaxis": "x",
         "y": [
          2.916516068391502
         ],
         "yaxis": "y"
        },
        {
         "hovertemplate": "<b>%{hovertext}</b><br><br>player_name=Abdoulaye Doucouré<br>Assist and XA Difference=%{x}<br>xA=%{y}<br>assists=%{marker.size}<extra></extra>",
         "hovertext": [
          "Abdoulaye Doucouré"
         ],
         "legendgroup": "Abdoulaye Doucouré",
         "marker": {
          "color": "#ab63fa",
          "size": [
           2
          ],
          "sizemode": "area",
          "sizeref": 0.025,
          "symbol": "circle"
         },
         "mode": "markers",
         "name": "Abdoulaye Doucouré",
         "showlegend": true,
         "type": "scatter",
         "x": [
          -2.084617623127997
         ],
         "xaxis": "x",
         "y": [
          4.084617623127997
         ],
         "yaxis": "y"
        },
        {
         "hovertemplate": "<b>%{hovertext}</b><br><br>player_name=Dan Gosling<br>Assist and XA Difference=%{x}<br>xA=%{y}<br>assists=%{marker.size}<extra></extra>",
         "hovertext": [
          "Dan Gosling"
         ],
         "legendgroup": "Dan Gosling",
         "marker": {
          "color": "#FFA15A",
          "size": [
           1
          ],
          "sizemode": "area",
          "sizeref": 0.025,
          "symbol": "circle"
         },
         "mode": "markers",
         "name": "Dan Gosling",
         "showlegend": true,
         "type": "scatter",
         "x": [
          -0.3691747784614563
         ],
         "xaxis": "x",
         "y": [
          1.3691747784614563
         ],
         "yaxis": "y"
        },
        {
         "hovertemplate": "<b>%{hovertext}</b><br><br>player_name=N&#039;Golo Kanté<br>Assist and XA Difference=%{x}<br>xA=%{y}<br>assists=%{marker.size}<extra></extra>",
         "hovertext": [
          "N&#039;Golo Kanté"
         ],
         "legendgroup": "N&#039;Golo Kanté",
         "marker": {
          "color": "#19d3f3",
          "size": [
           0
          ],
          "sizemode": "area",
          "sizeref": 0.025,
          "symbol": "circle"
         },
         "mode": "markers",
         "name": "N&#039;Golo Kanté",
         "showlegend": true,
         "type": "scatter",
         "x": [
          -1.5202719774097204
         ],
         "xaxis": "x",
         "y": [
          1.5202719774097204
         ],
         "yaxis": "y"
        },
        {
         "hovertemplate": "<b>%{hovertext}</b><br><br>player_name=Luka Milivojevic<br>Assist and XA Difference=%{x}<br>xA=%{y}<br>assists=%{marker.size}<extra></extra>",
         "hovertext": [
          "Luka Milivojevic"
         ],
         "legendgroup": "Luka Milivojevic",
         "marker": {
          "color": "#FF6692",
          "size": [
           1
          ],
          "sizemode": "area",
          "sizeref": 0.025,
          "symbol": "circle"
         },
         "mode": "markers",
         "name": "Luka Milivojevic",
         "showlegend": true,
         "type": "scatter",
         "x": [
          -0.7364521408453584
         ],
         "xaxis": "x",
         "y": [
          1.7364521408453584
         ],
         "yaxis": "y"
        },
        {
         "hovertemplate": "<b>%{hovertext}</b><br><br>player_name=Scott McTominay<br>Assist and XA Difference=%{x}<br>xA=%{y}<br>assists=%{marker.size}<extra></extra>",
         "hovertext": [
          "Scott McTominay"
         ],
         "legendgroup": "Scott McTominay",
         "marker": {
          "color": "#B6E880",
          "size": [
           1
          ],
          "sizemode": "area",
          "sizeref": 0.025,
          "symbol": "circle"
         },
         "mode": "markers",
         "name": "Scott McTominay",
         "showlegend": true,
         "type": "scatter",
         "x": [
          -0.43121399730443954
         ],
         "xaxis": "x",
         "y": [
          1.4312139973044395
         ],
         "yaxis": "y"
        },
        {
         "hovertemplate": "<b>%{hovertext}</b><br><br>player_name=Youri Tielemans<br>Assist and XA Difference=%{x}<br>xA=%{y}<br>assists=%{marker.size}<extra></extra>",
         "hovertext": [
          "Youri Tielemans"
         ],
         "legendgroup": "Youri Tielemans",
         "marker": {
          "color": "#FF97FF",
          "size": [
           6
          ],
          "sizemode": "area",
          "sizeref": 0.025,
          "symbol": "circle"
         },
         "mode": "markers",
         "name": "Youri Tielemans",
         "showlegend": true,
         "type": "scatter",
         "x": [
          0.8139003217220315
         ],
         "xaxis": "x",
         "y": [
          5.1860996782779685
         ],
         "yaxis": "y"
        },
        {
         "hovertemplate": "<b>%{hovertext}</b><br><br>player_name=Douglas Luiz<br>Assist and XA Difference=%{x}<br>xA=%{y}<br>assists=%{marker.size}<extra></extra>",
         "hovertext": [
          "Douglas Luiz"
         ],
         "legendgroup": "Douglas Luiz",
         "marker": {
          "color": "#FECB52",
          "size": [
           2
          ],
          "sizemode": "area",
          "sizeref": 0.025,
          "symbol": "circle"
         },
         "mode": "markers",
         "name": "Douglas Luiz",
         "showlegend": true,
         "type": "scatter",
         "x": [
          -0.0041146669536833436
         ],
         "xaxis": "x",
         "y": [
          2.0041146669536833
         ],
         "yaxis": "y"
        },
        {
         "hovertemplate": "<b>%{hovertext}</b><br><br>player_name=Bernard<br>Assist and XA Difference=%{x}<br>xA=%{y}<br>assists=%{marker.size}<extra></extra>",
         "hovertext": [
          "Bernard"
         ],
         "legendgroup": "Bernard",
         "marker": {
          "color": "#636efa",
          "size": [
           2
          ],
          "sizemode": "area",
          "sizeref": 0.025,
          "symbol": "circle"
         },
         "mode": "markers",
         "name": "Bernard",
         "showlegend": true,
         "type": "scatter",
         "x": [
          -0.3037222437560563
         ],
         "xaxis": "x",
         "y": [
          2.3037222437560563
         ],
         "yaxis": "y"
        },
        {
         "hovertemplate": "<b>%{hovertext}</b><br><br>player_name=Conor Hourihane<br>Assist and XA Difference=%{x}<br>xA=%{y}<br>assists=%{marker.size}<extra></extra>",
         "hovertext": [
          "Conor Hourihane"
         ],
         "legendgroup": "Conor Hourihane",
         "marker": {
          "color": "#EF553B",
          "size": [
           5
          ],
          "sizemode": "area",
          "sizeref": 0.025,
          "symbol": "circle"
         },
         "mode": "markers",
         "name": "Conor Hourihane",
         "showlegend": true,
         "type": "scatter",
         "x": [
          -0.7314409166574478
         ],
         "xaxis": "x",
         "y": [
          5.731440916657448
         ],
         "yaxis": "y"
        },
        {
         "hovertemplate": "<b>%{hovertext}</b><br><br>player_name=John McGinn<br>Assist and XA Difference=%{x}<br>xA=%{y}<br>assists=%{marker.size}<extra></extra>",
         "hovertext": [
          "John McGinn"
         ],
         "legendgroup": "John McGinn",
         "marker": {
          "color": "#00cc96",
          "size": [
           3
          ],
          "sizemode": "area",
          "sizeref": 0.025,
          "symbol": "circle"
         },
         "mode": "markers",
         "name": "John McGinn",
         "showlegend": true,
         "type": "scatter",
         "x": [
          0.3822408877313137
         ],
         "xaxis": "x",
         "y": [
          2.6177591122686863
         ],
         "yaxis": "y"
        },
        {
         "hovertemplate": "<b>%{hovertext}</b><br><br>player_name=Gabriel Martinelli<br>Assist and XA Difference=%{x}<br>xA=%{y}<br>assists=%{marker.size}<extra></extra>",
         "hovertext": [
          "Gabriel Martinelli"
         ],
         "legendgroup": "Gabriel Martinelli",
         "marker": {
          "color": "#ab63fa",
          "size": [
           0
          ],
          "sizemode": "area",
          "sizeref": 0.025,
          "symbol": "circle"
         },
         "mode": "markers",
         "name": "Gabriel Martinelli",
         "showlegend": true,
         "type": "scatter",
         "x": [
          -0.11354188434779645
         ],
         "xaxis": "x",
         "y": [
          0.11354188434779645
         ],
         "yaxis": "y"
        },
        {
         "hovertemplate": "<b>%{hovertext}</b><br><br>player_name=Tomas Soucek<br>Assist and XA Difference=%{x}<br>xA=%{y}<br>assists=%{marker.size}<extra></extra>",
         "hovertext": [
          "Tomas Soucek"
         ],
         "legendgroup": "Tomas Soucek",
         "marker": {
          "color": "#FFA15A",
          "size": [
           0
          ],
          "sizemode": "area",
          "sizeref": 0.025,
          "symbol": "circle"
         },
         "mode": "markers",
         "name": "Tomas Soucek",
         "showlegend": true,
         "type": "scatter",
         "x": [
          -0.3432552432641387
         ],
         "xaxis": "x",
         "y": [
          0.3432552432641387
         ],
         "yaxis": "y"
        },
        {
         "hovertemplate": "<b>%{hovertext}</b><br><br>player_name=Ilkay Gündogan<br>Assist and XA Difference=%{x}<br>xA=%{y}<br>assists=%{marker.size}<extra></extra>",
         "hovertext": [
          "Ilkay Gündogan"
         ],
         "legendgroup": "Ilkay Gündogan",
         "marker": {
          "color": "#19d3f3",
          "size": [
           1
          ],
          "sizemode": "area",
          "sizeref": 0.025,
          "symbol": "circle"
         },
         "mode": "markers",
         "name": "Ilkay Gündogan",
         "showlegend": true,
         "type": "scatter",
         "x": [
          -1.9191963784396648
         ],
         "xaxis": "x",
         "y": [
          2.919196378439665
         ],
         "yaxis": "y"
        },
        {
         "hovertemplate": "<b>%{hovertext}</b><br><br>player_name=Theo Walcott<br>Assist and XA Difference=%{x}<br>xA=%{y}<br>assists=%{marker.size}<extra></extra>",
         "hovertext": [
          "Theo Walcott"
         ],
         "legendgroup": "Theo Walcott",
         "marker": {
          "color": "#FF6692",
          "size": [
           3
          ],
          "sizemode": "area",
          "sizeref": 0.025,
          "symbol": "circle"
         },
         "mode": "markers",
         "name": "Theo Walcott",
         "showlegend": true,
         "type": "scatter",
         "x": [
          -0.9733672887086868
         ],
         "xaxis": "x",
         "y": [
          3.973367288708687
         ],
         "yaxis": "y"
        },
        {
         "hovertemplate": "<b>%{hovertext}</b><br><br>player_name=Ashley Westwood<br>Assist and XA Difference=%{x}<br>xA=%{y}<br>assists=%{marker.size}<extra></extra>",
         "hovertext": [
          "Ashley Westwood"
         ],
         "legendgroup": "Ashley Westwood",
         "marker": {
          "color": "#B6E880",
          "size": [
           6
          ],
          "sizemode": "area",
          "sizeref": 0.025,
          "symbol": "circle"
         },
         "mode": "markers",
         "name": "Ashley Westwood",
         "showlegend": true,
         "type": "scatter",
         "x": [
          -1.0769018754363069
         ],
         "xaxis": "x",
         "y": [
          7.076901875436307
         ],
         "yaxis": "y"
        },
        {
         "hovertemplate": "<b>%{hovertext}</b><br><br>player_name=Gylfi Sigurdsson<br>Assist and XA Difference=%{x}<br>xA=%{y}<br>assists=%{marker.size}<extra></extra>",
         "hovertext": [
          "Gylfi Sigurdsson"
         ],
         "legendgroup": "Gylfi Sigurdsson",
         "marker": {
          "color": "#FF97FF",
          "size": [
           3
          ],
          "sizemode": "area",
          "sizeref": 0.025,
          "symbol": "circle"
         },
         "mode": "markers",
         "name": "Gylfi Sigurdsson",
         "showlegend": true,
         "type": "scatter",
         "x": [
          -1.0116059454157948
         ],
         "xaxis": "x",
         "y": [
          4.011605945415795
         ],
         "yaxis": "y"
        },
        {
         "hovertemplate": "<b>%{hovertext}</b><br><br>player_name=Demarai Gray<br>Assist and XA Difference=%{x}<br>xA=%{y}<br>assists=%{marker.size}<extra></extra>",
         "hovertext": [
          "Demarai Gray"
         ],
         "legendgroup": "Demarai Gray",
         "marker": {
          "color": "#FECB52",
          "size": [
           3
          ],
          "sizemode": "area",
          "sizeref": 0.025,
          "symbol": "circle"
         },
         "mode": "markers",
         "name": "Demarai Gray",
         "showlegend": true,
         "type": "scatter",
         "x": [
          0.7660441175103192
         ],
         "xaxis": "x",
         "y": [
          2.233955882489681
         ],
         "yaxis": "y"
        },
        {
         "hovertemplate": "<b>%{hovertext}</b><br><br>player_name=Jeff Hendrick<br>Assist and XA Difference=%{x}<br>xA=%{y}<br>assists=%{marker.size}<extra></extra>",
         "hovertext": [
          "Jeff Hendrick"
         ],
         "legendgroup": "Jeff Hendrick",
         "marker": {
          "color": "#636efa",
          "size": [
           2
          ],
          "sizemode": "area",
          "sizeref": 0.025,
          "symbol": "circle"
         },
         "mode": "markers",
         "name": "Jeff Hendrick",
         "showlegend": true,
         "type": "scatter",
         "x": [
          0.6212511463090775
         ],
         "xaxis": "x",
         "y": [
          1.3787488536909225
         ],
         "yaxis": "y"
        },
        {
         "hovertemplate": "<b>%{hovertext}</b><br><br>player_name=Jonny<br>Assist and XA Difference=%{x}<br>xA=%{y}<br>assists=%{marker.size}<extra></extra>",
         "hovertext": [
          "Jonny"
         ],
         "legendgroup": "Jonny",
         "marker": {
          "color": "#EF553B",
          "size": [
           2
          ],
          "sizemode": "area",
          "sizeref": 0.025,
          "symbol": "circle"
         },
         "mode": "markers",
         "name": "Jonny",
         "showlegend": true,
         "type": "scatter",
         "x": [
          0.43318797647953033
         ],
         "xaxis": "x",
         "y": [
          1.5668120235204697
         ],
         "yaxis": "y"
        },
        {
         "hovertemplate": "<b>%{hovertext}</b><br><br>player_name=Pablo Fornals<br>Assist and XA Difference=%{x}<br>xA=%{y}<br>assists=%{marker.size}<extra></extra>",
         "hovertext": [
          "Pablo Fornals"
         ],
         "legendgroup": "Pablo Fornals",
         "marker": {
          "color": "#00cc96",
          "size": [
           5
          ],
          "sizemode": "area",
          "sizeref": 0.025,
          "symbol": "circle"
         },
         "mode": "markers",
         "name": "Pablo Fornals",
         "showlegend": true,
         "type": "scatter",
         "x": [
          2.700946873053908
         ],
         "xaxis": "x",
         "y": [
          2.299053126946092
         ],
         "yaxis": "y"
        },
        {
         "hovertemplate": "<b>%{hovertext}</b><br><br>player_name=Fabinho<br>Assist and XA Difference=%{x}<br>xA=%{y}<br>assists=%{marker.size}<extra></extra>",
         "hovertext": [
          "Fabinho"
         ],
         "legendgroup": "Fabinho",
         "marker": {
          "color": "#ab63fa",
          "size": [
           3
          ],
          "sizemode": "area",
          "sizeref": 0.025,
          "symbol": "circle"
         },
         "mode": "markers",
         "name": "Fabinho",
         "showlegend": true,
         "type": "scatter",
         "x": [
          1.3248598827049136
         ],
         "xaxis": "x",
         "y": [
          1.6751401172950864
         ],
         "yaxis": "y"
        },
        {
         "hovertemplate": "<b>%{hovertext}</b><br><br>player_name=Naby Keita<br>Assist and XA Difference=%{x}<br>xA=%{y}<br>assists=%{marker.size}<extra></extra>",
         "hovertext": [
          "Naby Keita"
         ],
         "legendgroup": "Naby Keita",
         "marker": {
          "color": "#FFA15A",
          "size": [
           3
          ],
          "sizemode": "area",
          "sizeref": 0.025,
          "symbol": "circle"
         },
         "mode": "markers",
         "name": "Naby Keita",
         "showlegend": true,
         "type": "scatter",
         "x": [
          -0.2155438680201769
         ],
         "xaxis": "x",
         "y": [
          3.215543868020177
         ],
         "yaxis": "y"
        },
        {
         "hovertemplate": "<b>%{hovertext}</b><br><br>player_name=Wilfred Ndidi<br>Assist and XA Difference=%{x}<br>xA=%{y}<br>assists=%{marker.size}<extra></extra>",
         "hovertext": [
          "Wilfred Ndidi"
         ],
         "legendgroup": "Wilfred Ndidi",
         "marker": {
          "color": "#19d3f3",
          "size": [
           1
          ],
          "sizemode": "area",
          "sizeref": 0.025,
          "symbol": "circle"
         },
         "mode": "markers",
         "name": "Wilfred Ndidi",
         "showlegend": true,
         "type": "scatter",
         "x": [
          0.40833439212292433
         ],
         "xaxis": "x",
         "y": [
          0.5916656078770757
         ],
         "yaxis": "y"
        },
        {
         "hovertemplate": "<b>%{hovertext}</b><br><br>player_name=Tanguy NDombele Alvaro<br>Assist and XA Difference=%{x}<br>xA=%{y}<br>assists=%{marker.size}<extra></extra>",
         "hovertext": [
          "Tanguy NDombele Alvaro"
         ],
         "legendgroup": "Tanguy NDombele Alvaro",
         "marker": {
          "color": "#FF6692",
          "size": [
           2
          ],
          "sizemode": "area",
          "sizeref": 0.025,
          "symbol": "circle"
         },
         "mode": "markers",
         "name": "Tanguy NDombele Alvaro",
         "showlegend": true,
         "type": "scatter",
         "x": [
          1.2024954911321402
         ],
         "xaxis": "x",
         "y": [
          0.7975045088678598
         ],
         "yaxis": "y"
        },
        {
         "hovertemplate": "<b>%{hovertext}</b><br><br>player_name=Dwight McNeil<br>Assist and XA Difference=%{x}<br>xA=%{y}<br>assists=%{marker.size}<extra></extra>",
         "hovertext": [
          "Dwight McNeil"
         ],
         "legendgroup": "Dwight McNeil",
         "marker": {
          "color": "#B6E880",
          "size": [
           6
          ],
          "sizemode": "area",
          "sizeref": 0.025,
          "symbol": "circle"
         },
         "mode": "markers",
         "name": "Dwight McNeil",
         "showlegend": true,
         "type": "scatter",
         "x": [
          -1.5624299999326476
         ],
         "xaxis": "x",
         "y": [
          7.562429999932648
         ],
         "yaxis": "y"
        },
        {
         "hovertemplate": "<b>%{hovertext}</b><br><br>player_name=Rúben Neves<br>Assist and XA Difference=%{x}<br>xA=%{y}<br>assists=%{marker.size}<extra></extra>",
         "hovertext": [
          "Rúben Neves"
         ],
         "legendgroup": "Rúben Neves",
         "marker": {
          "color": "#FF97FF",
          "size": [
           2
          ],
          "sizemode": "area",
          "sizeref": 0.025,
          "symbol": "circle"
         },
         "mode": "markers",
         "name": "Rúben Neves",
         "showlegend": true,
         "type": "scatter",
         "x": [
          -0.6060938835144043
         ],
         "xaxis": "x",
         "y": [
          2.6060938835144043
         ],
         "yaxis": "y"
        },
        {
         "hovertemplate": "<b>%{hovertext}</b><br><br>player_name=George Baldock<br>Assist and XA Difference=%{x}<br>xA=%{y}<br>assists=%{marker.size}<extra></extra>",
         "hovertext": [
          "George Baldock"
         ],
         "legendgroup": "George Baldock",
         "marker": {
          "color": "#FECB52",
          "size": [
           3
          ],
          "sizemode": "area",
          "sizeref": 0.025,
          "symbol": "circle"
         },
         "mode": "markers",
         "name": "George Baldock",
         "showlegend": true,
         "type": "scatter",
         "x": [
          1.3746910402551291
         ],
         "xaxis": "x",
         "y": [
          1.6253089597448709
         ],
         "yaxis": "y"
        },
        {
         "hovertemplate": "<b>%{hovertext}</b><br><br>player_name=Enda Stevens<br>Assist and XA Difference=%{x}<br>xA=%{y}<br>assists=%{marker.size}<extra></extra>",
         "hovertext": [
          "Enda Stevens"
         ],
         "legendgroup": "Enda Stevens",
         "marker": {
          "color": "#636efa",
          "size": [
           4
          ],
          "sizemode": "area",
          "sizeref": 0.025,
          "symbol": "circle"
         },
         "mode": "markers",
         "name": "Enda Stevens",
         "showlegend": true,
         "type": "scatter",
         "x": [
          -1.4148625014349818
         ],
         "xaxis": "x",
         "y": [
          5.414862501434982
         ],
         "yaxis": "y"
        },
        {
         "hovertemplate": "<b>%{hovertext}</b><br><br>player_name=Matthew Longstaff<br>Assist and XA Difference=%{x}<br>xA=%{y}<br>assists=%{marker.size}<extra></extra>",
         "hovertext": [
          "Matthew Longstaff"
         ],
         "legendgroup": "Matthew Longstaff",
         "marker": {
          "color": "#EF553B",
          "size": [
           0
          ],
          "sizemode": "area",
          "sizeref": 0.025,
          "symbol": "circle"
         },
         "mode": "markers",
         "name": "Matthew Longstaff",
         "showlegend": true,
         "type": "scatter",
         "x": [
          -0.18956130929291248
         ],
         "xaxis": "x",
         "y": [
          0.18956130929291248
         ],
         "yaxis": "y"
        },
        {
         "hovertemplate": "<b>%{hovertext}</b><br><br>player_name=Mario Vrancic<br>Assist and XA Difference=%{x}<br>xA=%{y}<br>assists=%{marker.size}<extra></extra>",
         "hovertext": [
          "Mario Vrancic"
         ],
         "legendgroup": "Mario Vrancic",
         "marker": {
          "color": "#00cc96",
          "size": [
           0
          ],
          "sizemode": "area",
          "sizeref": 0.025,
          "symbol": "circle"
         },
         "mode": "markers",
         "name": "Mario Vrancic",
         "showlegend": true,
         "type": "scatter",
         "x": [
          -1.0300541585311294
         ],
         "xaxis": "x",
         "y": [
          1.0300541585311294
         ],
         "yaxis": "y"
        },
        {
         "hovertemplate": "<b>%{hovertext}</b><br><br>player_name=Granit Xhaka<br>Assist and XA Difference=%{x}<br>xA=%{y}<br>assists=%{marker.size}<extra></extra>",
         "hovertext": [
          "Granit Xhaka"
         ],
         "legendgroup": "Granit Xhaka",
         "marker": {
          "color": "#ab63fa",
          "size": [
           2
          ],
          "sizemode": "area",
          "sizeref": 0.025,
          "symbol": "circle"
         },
         "mode": "markers",
         "name": "Granit Xhaka",
         "showlegend": true,
         "type": "scatter",
         "x": [
          1.0278033670037985
         ],
         "xaxis": "x",
         "y": [
          0.9721966329962016
         ],
         "yaxis": "y"
        },
        {
         "hovertemplate": "<b>%{hovertext}</b><br><br>player_name=Adam Lallana<br>Assist and XA Difference=%{x}<br>xA=%{y}<br>assists=%{marker.size}<extra></extra>",
         "hovertext": [
          "Adam Lallana"
         ],
         "legendgroup": "Adam Lallana",
         "marker": {
          "color": "#FFA15A",
          "size": [
           1
          ],
          "sizemode": "area",
          "sizeref": 0.025,
          "symbol": "circle"
         },
         "mode": "markers",
         "name": "Adam Lallana",
         "showlegend": true,
         "type": "scatter",
         "x": [
          0.3463284447789192
         ],
         "xaxis": "x",
         "y": [
          0.6536715552210808
         ],
         "yaxis": "y"
        },
        {
         "hovertemplate": "<b>%{hovertext}</b><br><br>player_name=Mesut Özil<br>Assist and XA Difference=%{x}<br>xA=%{y}<br>assists=%{marker.size}<extra></extra>",
         "hovertext": [
          "Mesut Özil"
         ],
         "legendgroup": "Mesut Özil",
         "marker": {
          "color": "#19d3f3",
          "size": [
           2
          ],
          "sizemode": "area",
          "sizeref": 0.025,
          "symbol": "circle"
         },
         "mode": "markers",
         "name": "Mesut Özil",
         "showlegend": true,
         "type": "scatter",
         "x": [
          -0.28740838542580605
         ],
         "xaxis": "x",
         "y": [
          2.287408385425806
         ],
         "yaxis": "y"
        },
        {
         "hovertemplate": "<b>%{hovertext}</b><br><br>player_name=Jesse Lingard<br>Assist and XA Difference=%{x}<br>xA=%{y}<br>assists=%{marker.size}<extra></extra>",
         "hovertext": [
          "Jesse Lingard"
         ],
         "legendgroup": "Jesse Lingard",
         "marker": {
          "color": "#FF6692",
          "size": [
           0
          ],
          "sizemode": "area",
          "sizeref": 0.025,
          "symbol": "circle"
         },
         "mode": "markers",
         "name": "Jesse Lingard",
         "showlegend": true,
         "type": "scatter",
         "x": [
          -1.1104203211143613
         ],
         "xaxis": "x",
         "y": [
          1.1104203211143613
         ],
         "yaxis": "y"
        },
        {
         "hovertemplate": "<b>%{hovertext}</b><br><br>player_name=Ross Barkley<br>Assist and XA Difference=%{x}<br>xA=%{y}<br>assists=%{marker.size}<extra></extra>",
         "hovertext": [
          "Ross Barkley"
         ],
         "legendgroup": "Ross Barkley",
         "marker": {
          "color": "#B6E880",
          "size": [
           4
          ],
          "sizemode": "area",
          "sizeref": 0.025,
          "symbol": "circle"
         },
         "mode": "markers",
         "name": "Ross Barkley",
         "showlegend": true,
         "type": "scatter",
         "x": [
          1.1397564429789782
         ],
         "xaxis": "x",
         "y": [
          2.860243557021022
         ],
         "yaxis": "y"
        },
        {
         "hovertemplate": "<b>%{hovertext}</b><br><br>player_name=Tom Cleverley<br>Assist and XA Difference=%{x}<br>xA=%{y}<br>assists=%{marker.size}<extra></extra>",
         "hovertext": [
          "Tom Cleverley"
         ],
         "legendgroup": "Tom Cleverley",
         "marker": {
          "color": "#FF97FF",
          "size": [
           0
          ],
          "sizemode": "area",
          "sizeref": 0.025,
          "symbol": "circle"
         },
         "mode": "markers",
         "name": "Tom Cleverley",
         "showlegend": true,
         "type": "scatter",
         "x": [
          -0.7182993106544018
         ],
         "xaxis": "x",
         "y": [
          0.7182993106544018
         ],
         "yaxis": "y"
        },
        {
         "hovertemplate": "<b>%{hovertext}</b><br><br>player_name=Andros Townsend<br>Assist and XA Difference=%{x}<br>xA=%{y}<br>assists=%{marker.size}<extra></extra>",
         "hovertext": [
          "Andros Townsend"
         ],
         "legendgroup": "Andros Townsend",
         "marker": {
          "color": "#FECB52",
          "size": [
           1
          ],
          "sizemode": "area",
          "sizeref": 0.025,
          "symbol": "circle"
         },
         "mode": "markers",
         "name": "Andros Townsend",
         "showlegend": true,
         "type": "scatter",
         "x": [
          -0.7137907668948174
         ],
         "xaxis": "x",
         "y": [
          1.7137907668948174
         ],
         "yaxis": "y"
        },
        {
         "hovertemplate": "<b>%{hovertext}</b><br><br>player_name=Robbie Brady<br>Assist and XA Difference=%{x}<br>xA=%{y}<br>assists=%{marker.size}<extra></extra>",
         "hovertext": [
          "Robbie Brady"
         ],
         "legendgroup": "Robbie Brady",
         "marker": {
          "color": "#636efa",
          "size": [
           2
          ],
          "sizemode": "area",
          "sizeref": 0.025,
          "symbol": "circle"
         },
         "mode": "markers",
         "name": "Robbie Brady",
         "showlegend": true,
         "type": "scatter",
         "x": [
          1.6824502609670162
         ],
         "xaxis": "x",
         "y": [
          0.3175497390329838
         ],
         "yaxis": "y"
        },
        {
         "hovertemplate": "<b>%{hovertext}</b><br><br>player_name=Xherdan Shaqiri<br>Assist and XA Difference=%{x}<br>xA=%{y}<br>assists=%{marker.size}<extra></extra>",
         "hovertext": [
          "Xherdan Shaqiri"
         ],
         "legendgroup": "Xherdan Shaqiri",
         "marker": {
          "color": "#EF553B",
          "size": [
           0
          ],
          "sizemode": "area",
          "sizeref": 0.025,
          "symbol": "circle"
         },
         "mode": "markers",
         "name": "Xherdan Shaqiri",
         "showlegend": true,
         "type": "scatter",
         "x": [
          -0.1784982606768608
         ],
         "xaxis": "x",
         "y": [
          0.1784982606768608
         ],
         "yaxis": "y"
        },
        {
         "hovertemplate": "<b>%{hovertext}</b><br><br>player_name=Andreas Pereira<br>Assist and XA Difference=%{x}<br>xA=%{y}<br>assists=%{marker.size}<extra></extra>",
         "hovertext": [
          "Andreas Pereira"
         ],
         "legendgroup": "Andreas Pereira",
         "marker": {
          "color": "#00cc96",
          "size": [
           3
          ],
          "sizemode": "area",
          "sizeref": 0.025,
          "symbol": "circle"
         },
         "mode": "markers",
         "name": "Andreas Pereira",
         "showlegend": true,
         "type": "scatter",
         "x": [
          -0.7079232446849351
         ],
         "xaxis": "x",
         "y": [
          3.707923244684935
         ],
         "yaxis": "y"
        },
        {
         "hovertemplate": "<b>%{hovertext}</b><br><br>player_name=Tom Davies<br>Assist and XA Difference=%{x}<br>xA=%{y}<br>assists=%{marker.size}<extra></extra>",
         "hovertext": [
          "Tom Davies"
         ],
         "legendgroup": "Tom Davies",
         "marker": {
          "color": "#ab63fa",
          "size": [
           0
          ],
          "sizemode": "area",
          "sizeref": 0.025,
          "symbol": "circle"
         },
         "mode": "markers",
         "name": "Tom Davies",
         "showlegend": true,
         "type": "scatter",
         "x": [
          -0.5344789810478687
         ],
         "xaxis": "x",
         "y": [
          0.5344789810478687
         ],
         "yaxis": "y"
        },
        {
         "hovertemplate": "<b>%{hovertext}</b><br><br>player_name=Felipe Anderson<br>Assist and XA Difference=%{x}<br>xA=%{y}<br>assists=%{marker.size}<extra></extra>",
         "hovertext": [
          "Felipe Anderson"
         ],
         "legendgroup": "Felipe Anderson",
         "marker": {
          "color": "#FFA15A",
          "size": [
           4
          ],
          "sizemode": "area",
          "sizeref": 0.025,
          "symbol": "circle"
         },
         "mode": "markers",
         "name": "Felipe Anderson",
         "showlegend": true,
         "type": "scatter",
         "x": [
          1.3525222204625602
         ],
         "xaxis": "x",
         "y": [
          2.64747777953744
         ],
         "yaxis": "y"
        },
        {
         "hovertemplate": "<b>%{hovertext}</b><br><br>player_name=Lucas Torreira<br>Assist and XA Difference=%{x}<br>xA=%{y}<br>assists=%{marker.size}<extra></extra>",
         "hovertext": [
          "Lucas Torreira"
         ],
         "legendgroup": "Lucas Torreira",
         "marker": {
          "color": "#19d3f3",
          "size": [
           1
          ],
          "sizemode": "area",
          "sizeref": 0.025,
          "symbol": "circle"
         },
         "mode": "markers",
         "name": "Lucas Torreira",
         "showlegend": true,
         "type": "scatter",
         "x": [
          0.17419202718883753
         ],
         "xaxis": "x",
         "y": [
          0.8258079728111625
         ],
         "yaxis": "y"
        },
        {
         "hovertemplate": "<b>%{hovertext}</b><br><br>player_name=Dennis Praet<br>Assist and XA Difference=%{x}<br>xA=%{y}<br>assists=%{marker.size}<extra></extra>",
         "hovertext": [
          "Dennis Praet"
         ],
         "legendgroup": "Dennis Praet",
         "marker": {
          "color": "#FF6692",
          "size": [
           2
          ],
          "sizemode": "area",
          "sizeref": 0.025,
          "symbol": "circle"
         },
         "mode": "markers",
         "name": "Dennis Praet",
         "showlegend": true,
         "type": "scatter",
         "x": [
          0.5071192793548107
         ],
         "xaxis": "x",
         "y": [
          1.4928807206451893
         ],
         "yaxis": "y"
        },
        {
         "hovertemplate": "<b>%{hovertext}</b><br><br>player_name=Johann Berg Gudmundsson<br>Assist and XA Difference=%{x}<br>xA=%{y}<br>assists=%{marker.size}<extra></extra>",
         "hovertext": [
          "Johann Berg Gudmundsson"
         ],
         "legendgroup": "Johann Berg Gudmundsson",
         "marker": {
          "color": "#B6E880",
          "size": [
           1
          ],
          "sizemode": "area",
          "sizeref": 0.025,
          "symbol": "circle"
         },
         "mode": "markers",
         "name": "Johann Berg Gudmundsson",
         "showlegend": true,
         "type": "scatter",
         "x": [
          0.08192575722932816
         ],
         "xaxis": "x",
         "y": [
          0.9180742427706718
         ],
         "yaxis": "y"
        },
        {
         "hovertemplate": "<b>%{hovertext}</b><br><br>player_name=Paul Pogba<br>Assist and XA Difference=%{x}<br>xA=%{y}<br>assists=%{marker.size}<extra></extra>",
         "hovertext": [
          "Paul Pogba"
         ],
         "legendgroup": "Paul Pogba",
         "marker": {
          "color": "#FF97FF",
          "size": [
           3
          ],
          "sizemode": "area",
          "sizeref": 0.025,
          "symbol": "circle"
         },
         "mode": "markers",
         "name": "Paul Pogba",
         "showlegend": true,
         "type": "scatter",
         "x": [
          -0.0561917126178737
         ],
         "xaxis": "x",
         "y": [
          3.0561917126178737
         ],
         "yaxis": "y"
        },
        {
         "hovertemplate": "<b>%{hovertext}</b><br><br>player_name=Jarrod Bowen<br>Assist and XA Difference=%{x}<br>xA=%{y}<br>assists=%{marker.size}<extra></extra>",
         "hovertext": [
          "Jarrod Bowen"
         ],
         "legendgroup": "Jarrod Bowen",
         "marker": {
          "color": "#FECB52",
          "size": [
           4
          ],
          "sizemode": "area",
          "sizeref": 0.025,
          "symbol": "circle"
         },
         "mode": "markers",
         "name": "Jarrod Bowen",
         "showlegend": true,
         "type": "scatter",
         "x": [
          1.3876019865274434
         ],
         "xaxis": "x",
         "y": [
          2.6123980134725566
         ],
         "yaxis": "y"
        },
        {
         "hovertemplate": "<b>%{hovertext}</b><br><br>player_name=Jefferson Lerma<br>Assist and XA Difference=%{x}<br>xA=%{y}<br>assists=%{marker.size}<extra></extra>",
         "hovertext": [
          "Jefferson Lerma"
         ],
         "legendgroup": "Jefferson Lerma",
         "marker": {
          "color": "#636efa",
          "size": [
           2
          ],
          "sizemode": "area",
          "sizeref": 0.025,
          "symbol": "circle"
         },
         "mode": "markers",
         "name": "Jefferson Lerma",
         "showlegend": true,
         "type": "scatter",
         "x": [
          0.4686969192698598
         ],
         "xaxis": "x",
         "y": [
          1.5313030807301402
         ],
         "yaxis": "y"
        },
        {
         "hovertemplate": "<b>%{hovertext}</b><br><br>player_name=Emiliano Buendía<br>Assist and XA Difference=%{x}<br>xA=%{y}<br>assists=%{marker.size}<extra></extra>",
         "hovertext": [
          "Emiliano Buendía"
         ],
         "legendgroup": "Emiliano Buendía",
         "marker": {
          "color": "#EF553B",
          "size": [
           7
          ],
          "sizemode": "area",
          "sizeref": 0.025,
          "symbol": "circle"
         },
         "mode": "markers",
         "name": "Emiliano Buendía",
         "showlegend": true,
         "type": "scatter",
         "x": [
          -0.19096221216023057
         ],
         "xaxis": "x",
         "y": [
          7.190962212160231
         ],
         "yaxis": "y"
        },
        {
         "hovertemplate": "<b>%{hovertext}</b><br><br>player_name=Mateo Kovacic<br>Assist and XA Difference=%{x}<br>xA=%{y}<br>assists=%{marker.size}<extra></extra>",
         "hovertext": [
          "Mateo Kovacic"
         ],
         "legendgroup": "Mateo Kovacic",
         "marker": {
          "color": "#00cc96",
          "size": [
           3
          ],
          "sizemode": "area",
          "sizeref": 0.025,
          "symbol": "circle"
         },
         "mode": "markers",
         "name": "Mateo Kovacic",
         "showlegend": true,
         "type": "scatter",
         "x": [
          1.1515468042343855
         ],
         "xaxis": "x",
         "y": [
          1.8484531957656145
         ],
         "yaxis": "y"
        },
        {
         "hovertemplate": "<b>%{hovertext}</b><br><br>player_name=João Moutinho<br>Assist and XA Difference=%{x}<br>xA=%{y}<br>assists=%{marker.size}<extra></extra>",
         "hovertext": [
          "João Moutinho"
         ],
         "legendgroup": "João Moutinho",
         "marker": {
          "color": "#ab63fa",
          "size": [
           6
          ],
          "sizemode": "area",
          "sizeref": 0.025,
          "symbol": "circle"
         },
         "mode": "markers",
         "name": "João Moutinho",
         "showlegend": true,
         "type": "scatter",
         "x": [
          -0.7750435490161172
         ],
         "xaxis": "x",
         "y": [
          6.775043549016117
         ],
         "yaxis": "y"
        },
        {
         "hovertemplate": "<b>%{hovertext}</b><br><br>player_name=Yves Bissouma<br>Assist and XA Difference=%{x}<br>xA=%{y}<br>assists=%{marker.size}<extra></extra>",
         "hovertext": [
          "Yves Bissouma"
         ],
         "legendgroup": "Yves Bissouma",
         "marker": {
          "color": "#FFA15A",
          "size": [
           0
          ],
          "sizemode": "area",
          "sizeref": 0.025,
          "symbol": "circle"
         },
         "mode": "markers",
         "name": "Yves Bissouma",
         "showlegend": true,
         "type": "scatter",
         "x": [
          -0.13574092276394367
         ],
         "xaxis": "x",
         "y": [
          0.13574092276394367
         ],
         "yaxis": "y"
        },
        {
         "hovertemplate": "<b>%{hovertext}</b><br><br>player_name=Philip Billing<br>Assist and XA Difference=%{x}<br>xA=%{y}<br>assists=%{marker.size}<extra></extra>",
         "hovertext": [
          "Philip Billing"
         ],
         "legendgroup": "Philip Billing",
         "marker": {
          "color": "#19d3f3",
          "size": [
           1
          ],
          "sizemode": "area",
          "sizeref": 0.025,
          "symbol": "circle"
         },
         "mode": "markers",
         "name": "Philip Billing",
         "showlegend": true,
         "type": "scatter",
         "x": [
          -0.4344308190047741
         ],
         "xaxis": "x",
         "y": [
          1.434430819004774
         ],
         "yaxis": "y"
        },
        {
         "hovertemplate": "<b>%{hovertext}</b><br><br>player_name=Davy Pröpper<br>Assist and XA Difference=%{x}<br>xA=%{y}<br>assists=%{marker.size}<extra></extra>",
         "hovertext": [
          "Davy Pröpper"
         ],
         "legendgroup": "Davy Pröpper",
         "marker": {
          "color": "#FF6692",
          "size": [
           2
          ],
          "sizemode": "area",
          "sizeref": 0.025,
          "symbol": "circle"
         },
         "mode": "markers",
         "name": "Davy Pröpper",
         "showlegend": true,
         "type": "scatter",
         "x": [
          -0.9777765087783337
         ],
         "xaxis": "x",
         "y": [
          2.9777765087783337
         ],
         "yaxis": "y"
        },
        {
         "hovertemplate": "<b>%{hovertext}</b><br><br>player_name=Will Hughes<br>Assist and XA Difference=%{x}<br>xA=%{y}<br>assists=%{marker.size}<extra></extra>",
         "hovertext": [
          "Will Hughes"
         ],
         "legendgroup": "Will Hughes",
         "marker": {
          "color": "#B6E880",
          "size": [
           1
          ],
          "sizemode": "area",
          "sizeref": 0.025,
          "symbol": "circle"
         },
         "mode": "markers",
         "name": "Will Hughes",
         "showlegend": true,
         "type": "scatter",
         "x": [
          -1.1773148719221358
         ],
         "xaxis": "x",
         "y": [
          2.177314871922136
         ],
         "yaxis": "y"
        },
        {
         "hovertemplate": "<b>%{hovertext}</b><br><br>player_name=Hamza Choudhury<br>Assist and XA Difference=%{x}<br>xA=%{y}<br>assists=%{marker.size}<extra></extra>",
         "hovertext": [
          "Hamza Choudhury"
         ],
         "legendgroup": "Hamza Choudhury",
         "marker": {
          "color": "#FF97FF",
          "size": [
           1
          ],
          "sizemode": "area",
          "sizeref": 0.025,
          "symbol": "circle"
         },
         "mode": "markers",
         "name": "Hamza Choudhury",
         "showlegend": true,
         "type": "scatter",
         "x": [
          0.8871623575687408
         ],
         "xaxis": "x",
         "y": [
          0.11283764243125916
         ],
         "yaxis": "y"
        },
        {
         "hovertemplate": "<b>%{hovertext}</b><br><br>player_name=Joe Willock<br>Assist and XA Difference=%{x}<br>xA=%{y}<br>assists=%{marker.size}<extra></extra>",
         "hovertext": [
          "Joe Willock"
         ],
         "legendgroup": "Joe Willock",
         "marker": {
          "color": "#FECB52",
          "size": [
           1
          ],
          "sizemode": "area",
          "sizeref": 0.025,
          "symbol": "circle"
         },
         "mode": "markers",
         "name": "Joe Willock",
         "showlegend": true,
         "type": "scatter",
         "x": [
          -0.046809496358036995
         ],
         "xaxis": "x",
         "y": [
          1.046809496358037
         ],
         "yaxis": "y"
        },
        {
         "hovertemplate": "<b>%{hovertext}</b><br><br>player_name=Curtis Jones<br>Assist and XA Difference=%{x}<br>xA=%{y}<br>assists=%{marker.size}<extra></extra>",
         "hovertext": [
          "Curtis Jones"
         ],
         "legendgroup": "Curtis Jones",
         "marker": {
          "color": "#636efa",
          "size": [
           0
          ],
          "sizemode": "area",
          "sizeref": 0.025,
          "symbol": "circle"
         },
         "mode": "markers",
         "name": "Curtis Jones",
         "showlegend": true,
         "type": "scatter",
         "x": [
          0
         ],
         "xaxis": "x",
         "y": [
          0
         ],
         "yaxis": "y"
        },
        {
         "hovertemplate": "<b>%{hovertext}</b><br><br>player_name=David Brooks<br>Assist and XA Difference=%{x}<br>xA=%{y}<br>assists=%{marker.size}<extra></extra>",
         "hovertext": [
          "David Brooks"
         ],
         "legendgroup": "David Brooks",
         "marker": {
          "color": "#EF553B",
          "size": [
           0
          ],
          "sizemode": "area",
          "sizeref": 0.025,
          "symbol": "circle"
         },
         "mode": "markers",
         "name": "David Brooks",
         "showlegend": true,
         "type": "scatter",
         "x": [
          -0.5346464300528169
         ],
         "xaxis": "x",
         "y": [
          0.5346464300528169
         ],
         "yaxis": "y"
        },
        {
         "hovertemplate": "<b>%{hovertext}</b><br><br>player_name=Sean Longstaff<br>Assist and XA Difference=%{x}<br>xA=%{y}<br>assists=%{marker.size}<extra></extra>",
         "hovertext": [
          "Sean Longstaff"
         ],
         "legendgroup": "Sean Longstaff",
         "marker": {
          "color": "#00cc96",
          "size": [
           1
          ],
          "sizemode": "area",
          "sizeref": 0.025,
          "symbol": "circle"
         },
         "mode": "markers",
         "name": "Sean Longstaff",
         "showlegend": true,
         "type": "scatter",
         "x": [
          0.06634076498448838
         ],
         "xaxis": "x",
         "y": [
          0.9336592350155116
         ],
         "yaxis": "y"
        },
        {
         "hovertemplate": "<b>%{hovertext}</b><br><br>player_name=Kenny McLean<br>Assist and XA Difference=%{x}<br>xA=%{y}<br>assists=%{marker.size}<extra></extra>",
         "hovertext": [
          "Kenny McLean"
         ],
         "legendgroup": "Kenny McLean",
         "marker": {
          "color": "#ab63fa",
          "size": [
           1
          ],
          "sizemode": "area",
          "sizeref": 0.025,
          "symbol": "circle"
         },
         "mode": "markers",
         "name": "Kenny McLean",
         "showlegend": true,
         "type": "scatter",
         "x": [
          -1.622597435489297
         ],
         "xaxis": "x",
         "y": [
          2.622597435489297
         ],
         "yaxis": "y"
        },
        {
         "hovertemplate": "<b>%{hovertext}</b><br><br>player_name=Onel Hernández<br>Assist and XA Difference=%{x}<br>xA=%{y}<br>assists=%{marker.size}<extra></extra>",
         "hovertext": [
          "Onel Hernández"
         ],
         "legendgroup": "Onel Hernández",
         "marker": {
          "color": "#FFA15A",
          "size": [
           2
          ],
          "sizemode": "area",
          "sizeref": 0.025,
          "symbol": "circle"
         },
         "mode": "markers",
         "name": "Onel Hernández",
         "showlegend": true,
         "type": "scatter",
         "x": [
          1.0837680827826262
         ],
         "xaxis": "x",
         "y": [
          0.9162319172173738
         ],
         "yaxis": "y"
        },
        {
         "hovertemplate": "<b>%{hovertext}</b><br><br>player_name=Oliver Norwood<br>Assist and XA Difference=%{x}<br>xA=%{y}<br>assists=%{marker.size}<extra></extra>",
         "hovertext": [
          "Oliver Norwood"
         ],
         "legendgroup": "Oliver Norwood",
         "marker": {
          "color": "#19d3f3",
          "size": [
           1
          ],
          "sizemode": "area",
          "sizeref": 0.025,
          "symbol": "circle"
         },
         "mode": "markers",
         "name": "Oliver Norwood",
         "showlegend": true,
         "type": "scatter",
         "x": [
          -2.8799224253743887
         ],
         "xaxis": "x",
         "y": [
          3.8799224253743887
         ],
         "yaxis": "y"
        },
        {
         "hovertemplate": "<b>%{hovertext}</b><br><br>player_name=Sander Berge<br>Assist and XA Difference=%{x}<br>xA=%{y}<br>assists=%{marker.size}<extra></extra>",
         "hovertext": [
          "Sander Berge"
         ],
         "legendgroup": "Sander Berge",
         "marker": {
          "color": "#FF6692",
          "size": [
           1
          ],
          "sizemode": "area",
          "sizeref": 0.025,
          "symbol": "circle"
         },
         "mode": "markers",
         "name": "Sander Berge",
         "showlegend": true,
         "type": "scatter",
         "x": [
          0.2856125012040138
         ],
         "xaxis": "x",
         "y": [
          0.7143874987959862
         ],
         "yaxis": "y"
        },
        {
         "hovertemplate": "<b>%{hovertext}</b><br><br>player_name=Yoshinori Muto<br>Assist and XA Difference=%{x}<br>xA=%{y}<br>assists=%{marker.size}<extra></extra>",
         "hovertext": [
          "Yoshinori Muto"
         ],
         "legendgroup": "Yoshinori Muto",
         "marker": {
          "color": "#B6E880",
          "size": [
           0
          ],
          "sizemode": "area",
          "sizeref": 0.025,
          "symbol": "circle"
         },
         "mode": "markers",
         "name": "Yoshinori Muto",
         "showlegend": true,
         "type": "scatter",
         "x": [
          -0.014181027188897131
         ],
         "xaxis": "x",
         "y": [
          0.014181027188897131
         ],
         "yaxis": "y"
        },
        {
         "hovertemplate": "<b>%{hovertext}</b><br><br>player_name=Lukas Rupp<br>Assist and XA Difference=%{x}<br>xA=%{y}<br>assists=%{marker.size}<extra></extra>",
         "hovertext": [
          "Lukas Rupp"
         ],
         "legendgroup": "Lukas Rupp",
         "marker": {
          "color": "#FF97FF",
          "size": [
           0
          ],
          "sizemode": "area",
          "sizeref": 0.025,
          "symbol": "circle"
         },
         "mode": "markers",
         "name": "Lukas Rupp",
         "showlegend": true,
         "type": "scatter",
         "x": [
          -0.7755274809896946
         ],
         "xaxis": "x",
         "y": [
          0.7755274809896946
         ],
         "yaxis": "y"
        },
        {
         "hovertemplate": "<b>%{hovertext}</b><br><br>player_name=Henrikh Mkhitaryan<br>Assist and XA Difference=%{x}<br>xA=%{y}<br>assists=%{marker.size}<extra></extra>",
         "hovertext": [
          "Henrikh Mkhitaryan"
         ],
         "legendgroup": "Henrikh Mkhitaryan",
         "marker": {
          "color": "#FECB52",
          "size": [
           0
          ],
          "sizemode": "area",
          "sizeref": 0.025,
          "symbol": "circle"
         },
         "mode": "markers",
         "name": "Henrikh Mkhitaryan",
         "showlegend": true,
         "type": "scatter",
         "x": [
          -0.2743019759654999
         ],
         "xaxis": "x",
         "y": [
          0.2743019759654999
         ],
         "yaxis": "y"
        },
        {
         "hovertemplate": "<b>%{hovertext}</b><br><br>player_name=Andrew Surman<br>Assist and XA Difference=%{x}<br>xA=%{y}<br>assists=%{marker.size}<extra></extra>",
         "hovertext": [
          "Andrew Surman"
         ],
         "legendgroup": "Andrew Surman",
         "marker": {
          "color": "#636efa",
          "size": [
           0
          ],
          "sizemode": "area",
          "sizeref": 0.025,
          "symbol": "circle"
         },
         "mode": "markers",
         "name": "Andrew Surman",
         "showlegend": true,
         "type": "scatter",
         "x": [
          -0.04897062107920647
         ],
         "xaxis": "x",
         "y": [
          0.04897062107920647
         ],
         "yaxis": "y"
        },
        {
         "hovertemplate": "<b>%{hovertext}</b><br><br>player_name=Morgan Schneiderlin<br>Assist and XA Difference=%{x}<br>xA=%{y}<br>assists=%{marker.size}<extra></extra>",
         "hovertext": [
          "Morgan Schneiderlin"
         ],
         "legendgroup": "Morgan Schneiderlin",
         "marker": {
          "color": "#EF553B",
          "size": [
           0
          ],
          "sizemode": "area",
          "sizeref": 0.025,
          "symbol": "circle"
         },
         "mode": "markers",
         "name": "Morgan Schneiderlin",
         "showlegend": true,
         "type": "scatter",
         "x": [
          -0.1284838654100895
         ],
         "xaxis": "x",
         "y": [
          0.1284838654100895
         ],
         "yaxis": "y"
        },
        {
         "hovertemplate": "<b>%{hovertext}</b><br><br>player_name=Juan Mata<br>Assist and XA Difference=%{x}<br>xA=%{y}<br>assists=%{marker.size}<extra></extra>",
         "hovertext": [
          "Juan Mata"
         ],
         "legendgroup": "Juan Mata",
         "marker": {
          "color": "#00cc96",
          "size": [
           2
          ],
          "sizemode": "area",
          "sizeref": 0.025,
          "symbol": "circle"
         },
         "mode": "markers",
         "name": "Juan Mata",
         "showlegend": true,
         "type": "scatter",
         "x": [
          -0.10493126511573792
         ],
         "xaxis": "x",
         "y": [
          2.104931265115738
         ],
         "yaxis": "y"
        },
        {
         "hovertemplate": "<b>%{hovertext}</b><br><br>player_name=Etienne Capoue<br>Assist and XA Difference=%{x}<br>xA=%{y}<br>assists=%{marker.size}<extra></extra>",
         "hovertext": [
          "Etienne Capoue"
         ],
         "legendgroup": "Etienne Capoue",
         "marker": {
          "color": "#ab63fa",
          "size": [
           3
          ],
          "sizemode": "area",
          "sizeref": 0.025,
          "symbol": "circle"
         },
         "mode": "markers",
         "name": "Etienne Capoue",
         "showlegend": true,
         "type": "scatter",
         "x": [
          0.45675294473767325
         ],
         "xaxis": "x",
         "y": [
          2.5432470552623268
         ],
         "yaxis": "y"
        },
        {
         "hovertemplate": "<b>%{hovertext}</b><br><br>player_name=James McCarthy<br>Assist and XA Difference=%{x}<br>xA=%{y}<br>assists=%{marker.size}<extra></extra>",
         "hovertext": [
          "James McCarthy"
         ],
         "legendgroup": "James McCarthy",
         "marker": {
          "color": "#FFA15A",
          "size": [
           0
          ],
          "sizemode": "area",
          "sizeref": 0.025,
          "symbol": "circle"
         },
         "mode": "markers",
         "name": "James McCarthy",
         "showlegend": true,
         "type": "scatter",
         "x": [
          -1.398389745503664
         ],
         "xaxis": "x",
         "y": [
          1.398389745503664
         ],
         "yaxis": "y"
        },
        {
         "hovertemplate": "<b>%{hovertext}</b><br><br>player_name=Aaron Lennon<br>Assist and XA Difference=%{x}<br>xA=%{y}<br>assists=%{marker.size}<extra></extra>",
         "hovertext": [
          "Aaron Lennon"
         ],
         "legendgroup": "Aaron Lennon",
         "marker": {
          "color": "#19d3f3",
          "size": [
           0
          ],
          "sizemode": "area",
          "sizeref": 0.025,
          "symbol": "circle"
         },
         "mode": "markers",
         "name": "Aaron Lennon",
         "showlegend": true,
         "type": "scatter",
         "x": [
          -0.15801358222961426
         ],
         "xaxis": "x",
         "y": [
          0.15801358222961426
         ],
         "yaxis": "y"
        },
        {
         "hovertemplate": "<b>%{hovertext}</b><br><br>player_name=James McArthur<br>Assist and XA Difference=%{x}<br>xA=%{y}<br>assists=%{marker.size}<extra></extra>",
         "hovertext": [
          "James McArthur"
         ],
         "legendgroup": "James McArthur",
         "marker": {
          "color": "#FF6692",
          "size": [
           3
          ],
          "sizemode": "area",
          "sizeref": 0.025,
          "symbol": "circle"
         },
         "mode": "markers",
         "name": "James McArthur",
         "showlegend": true,
         "type": "scatter",
         "x": [
          0.003935344517231432
         ],
         "xaxis": "x",
         "y": [
          2.9960646554827686
         ],
         "yaxis": "y"
        },
        {
         "hovertemplate": "<b>%{hovertext}</b><br><br>player_name=Carlos Sánchez<br>Assist and XA Difference=%{x}<br>xA=%{y}<br>assists=%{marker.size}<extra></extra>",
         "hovertext": [
          "Carlos Sánchez"
         ],
         "legendgroup": "Carlos Sánchez",
         "marker": {
          "color": "#B6E880",
          "size": [
           0
          ],
          "sizemode": "area",
          "sizeref": 0.025,
          "symbol": "circle"
         },
         "mode": "markers",
         "name": "Carlos Sánchez",
         "showlegend": true,
         "type": "scatter",
         "x": [
          0
         ],
         "xaxis": "x",
         "y": [
          0
         ],
         "yaxis": "y"
        },
        {
         "hovertemplate": "<b>%{hovertext}</b><br><br>player_name=Nemanja Matic<br>Assist and XA Difference=%{x}<br>xA=%{y}<br>assists=%{marker.size}<extra></extra>",
         "hovertext": [
          "Nemanja Matic"
         ],
         "legendgroup": "Nemanja Matic",
         "marker": {
          "color": "#FF97FF",
          "size": [
           2
          ],
          "sizemode": "area",
          "sizeref": 0.025,
          "symbol": "circle"
         },
         "mode": "markers",
         "name": "Nemanja Matic",
         "showlegend": true,
         "type": "scatter",
         "x": [
          1.1053492464125156
         ],
         "xaxis": "x",
         "y": [
          0.8946507535874844
         ],
         "yaxis": "y"
        },
        {
         "hovertemplate": "<b>%{hovertext}</b><br><br>player_name=Jack Cork<br>Assist and XA Difference=%{x}<br>xA=%{y}<br>assists=%{marker.size}<extra></extra>",
         "hovertext": [
          "Jack Cork"
         ],
         "legendgroup": "Jack Cork",
         "marker": {
          "color": "#FECB52",
          "size": [
           0
          ],
          "sizemode": "area",
          "sizeref": 0.025,
          "symbol": "circle"
         },
         "mode": "markers",
         "name": "Jack Cork",
         "showlegend": true,
         "type": "scatter",
         "x": [
          -1.1728481724858284
         ],
         "xaxis": "x",
         "y": [
          1.1728481724858284
         ],
         "yaxis": "y"
        },
        {
         "hovertemplate": "<b>%{hovertext}</b><br><br>player_name=Ki Sung-yueng<br>Assist and XA Difference=%{x}<br>xA=%{y}<br>assists=%{marker.size}<extra></extra>",
         "hovertext": [
          "Ki Sung-yueng"
         ],
         "legendgroup": "Ki Sung-yueng",
         "marker": {
          "color": "#636efa",
          "size": [
           0
          ],
          "sizemode": "area",
          "sizeref": 0.025,
          "symbol": "circle"
         },
         "mode": "markers",
         "name": "Ki Sung-yueng",
         "showlegend": true,
         "type": "scatter",
         "x": [
          -0.055116582661867135
         ],
         "xaxis": "x",
         "y": [
          0.055116582661867135
         ],
         "yaxis": "y"
        },
        {
         "hovertemplate": "<b>%{hovertext}</b><br><br>player_name=Daniel Drinkwater<br>Assist and XA Difference=%{x}<br>xA=%{y}<br>assists=%{marker.size}<extra></extra>",
         "hovertext": [
          "Daniel Drinkwater"
         ],
         "legendgroup": "Daniel Drinkwater",
         "marker": {
          "color": "#EF553B",
          "size": [
           0
          ],
          "sizemode": "area",
          "sizeref": 0.025,
          "symbol": "circle"
         },
         "mode": "markers",
         "name": "Daniel Drinkwater",
         "showlegend": true,
         "type": "scatter",
         "x": [
          -0.040286142379045486
         ],
         "xaxis": "x",
         "y": [
          0.040286142379045486
         ],
         "yaxis": "y"
        },
        {
         "hovertemplate": "<b>%{hovertext}</b><br><br>player_name=Marc Albrighton<br>Assist and XA Difference=%{x}<br>xA=%{y}<br>assists=%{marker.size}<extra></extra>",
         "hovertext": [
          "Marc Albrighton"
         ],
         "legendgroup": "Marc Albrighton",
         "marker": {
          "color": "#00cc96",
          "size": [
           3
          ],
          "sizemode": "area",
          "sizeref": 0.025,
          "symbol": "circle"
         },
         "mode": "markers",
         "name": "Marc Albrighton",
         "showlegend": true,
         "type": "scatter",
         "x": [
          0.7096625305712223
         ],
         "xaxis": "x",
         "y": [
          2.2903374694287777
         ],
         "yaxis": "y"
        },
        {
         "hovertemplate": "<b>%{hovertext}</b><br><br>player_name=Oriol Romeu<br>Assist and XA Difference=%{x}<br>xA=%{y}<br>assists=%{marker.size}<extra></extra>",
         "hovertext": [
          "Oriol Romeu"
         ],
         "legendgroup": "Oriol Romeu",
         "marker": {
          "color": "#ab63fa",
          "size": [
           0
          ],
          "sizemode": "area",
          "sizeref": 0.025,
          "symbol": "circle"
         },
         "mode": "markers",
         "name": "Oriol Romeu",
         "showlegend": true,
         "type": "scatter",
         "x": [
          -1.7172301672399044
         ],
         "xaxis": "x",
         "y": [
          1.7172301672399044
         ],
         "yaxis": "y"
        },
        {
         "hovertemplate": "<b>%{hovertext}</b><br><br>player_name=Fabian Delph<br>Assist and XA Difference=%{x}<br>xA=%{y}<br>assists=%{marker.size}<extra></extra>",
         "hovertext": [
          "Fabian Delph"
         ],
         "legendgroup": "Fabian Delph",
         "marker": {
          "color": "#FFA15A",
          "size": [
           0
          ],
          "sizemode": "area",
          "sizeref": 0.025,
          "symbol": "circle"
         },
         "mode": "markers",
         "name": "Fabian Delph",
         "showlegend": true,
         "type": "scatter",
         "x": [
          -0.4789176750928164
         ],
         "xaxis": "x",
         "y": [
          0.4789176750928164
         ],
         "yaxis": "y"
        },
        {
         "hovertemplate": "<b>%{hovertext}</b><br><br>player_name=Muhamed Besic<br>Assist and XA Difference=%{x}<br>xA=%{y}<br>assists=%{marker.size}<extra></extra>",
         "hovertext": [
          "Muhamed Besic"
         ],
         "legendgroup": "Muhamed Besic",
         "marker": {
          "color": "#19d3f3",
          "size": [
           0
          ],
          "sizemode": "area",
          "sizeref": 0.025,
          "symbol": "circle"
         },
         "mode": "markers",
         "name": "Muhamed Besic",
         "showlegend": true,
         "type": "scatter",
         "x": [
          -0.0868392065167427
         ],
         "xaxis": "x",
         "y": [
          0.0868392065167427
         ],
         "yaxis": "y"
        },
        {
         "hovertemplate": "<b>%{hovertext}</b><br><br>player_name=Nabil Bentaleb<br>Assist and XA Difference=%{x}<br>xA=%{y}<br>assists=%{marker.size}<extra></extra>",
         "hovertext": [
          "Nabil Bentaleb"
         ],
         "legendgroup": "Nabil Bentaleb",
         "marker": {
          "color": "#FF6692",
          "size": [
           0
          ],
          "sizemode": "area",
          "sizeref": 0.025,
          "symbol": "circle"
         },
         "mode": "markers",
         "name": "Nabil Bentaleb",
         "showlegend": true,
         "type": "scatter",
         "x": [
          -0.19530144333839414
         ],
         "xaxis": "x",
         "y": [
          0.19530144333839414
         ],
         "yaxis": "y"
        },
        {
         "hovertemplate": "<b>%{hovertext}</b><br><br>player_name=Harry Winks<br>Assist and XA Difference=%{x}<br>xA=%{y}<br>assists=%{marker.size}<extra></extra>",
         "hovertext": [
          "Harry Winks"
         ],
         "legendgroup": "Harry Winks",
         "marker": {
          "color": "#B6E880",
          "size": [
           0
          ],
          "sizemode": "area",
          "sizeref": 0.025,
          "symbol": "circle"
         },
         "mode": "markers",
         "name": "Harry Winks",
         "showlegend": true,
         "type": "scatter",
         "x": [
          -0.8992681000381708
         ],
         "xaxis": "x",
         "y": [
          0.8992681000381708
         ],
         "yaxis": "y"
        },
        {
         "hovertemplate": "<b>%{hovertext}</b><br><br>player_name=Jack Wilshere<br>Assist and XA Difference=%{x}<br>xA=%{y}<br>assists=%{marker.size}<extra></extra>",
         "hovertext": [
          "Jack Wilshere"
         ],
         "legendgroup": "Jack Wilshere",
         "marker": {
          "color": "#FF97FF",
          "size": [
           0
          ],
          "sizemode": "area",
          "sizeref": 0.025,
          "symbol": "circle"
         },
         "mode": "markers",
         "name": "Jack Wilshere",
         "showlegend": true,
         "type": "scatter",
         "x": [
          0
         ],
         "xaxis": "x",
         "y": [
          0
         ],
         "yaxis": "y"
        },
        {
         "hovertemplate": "<b>%{hovertext}</b><br><br>player_name=Moritz Leitner<br>Assist and XA Difference=%{x}<br>xA=%{y}<br>assists=%{marker.size}<extra></extra>",
         "hovertext": [
          "Moritz Leitner"
         ],
         "legendgroup": "Moritz Leitner",
         "marker": {
          "color": "#FECB52",
          "size": [
           0
          ],
          "sizemode": "area",
          "sizeref": 0.025,
          "symbol": "circle"
         },
         "mode": "markers",
         "name": "Moritz Leitner",
         "showlegend": true,
         "type": "scatter",
         "x": [
          -0.3639685455709696
         ],
         "xaxis": "x",
         "y": [
          0.3639685455709696
         ],
         "yaxis": "y"
        },
        {
         "hovertemplate": "<b>%{hovertext}</b><br><br>player_name=Nathaniel Chalobah<br>Assist and XA Difference=%{x}<br>xA=%{y}<br>assists=%{marker.size}<extra></extra>",
         "hovertext": [
          "Nathaniel Chalobah"
         ],
         "legendgroup": "Nathaniel Chalobah",
         "marker": {
          "color": "#636efa",
          "size": [
           1
          ],
          "sizemode": "area",
          "sizeref": 0.025,
          "symbol": "circle"
         },
         "mode": "markers",
         "name": "Nathaniel Chalobah",
         "showlegend": true,
         "type": "scatter",
         "x": [
          -0.6161380037665367
         ],
         "xaxis": "x",
         "y": [
          1.6161380037665367
         ],
         "yaxis": "y"
        },
        {
         "hovertemplate": "<b>%{hovertext}</b><br><br>player_name=Sofiane Boufal<br>Assist and XA Difference=%{x}<br>xA=%{y}<br>assists=%{marker.size}<extra></extra>",
         "hovertext": [
          "Sofiane Boufal"
         ],
         "legendgroup": "Sofiane Boufal",
         "marker": {
          "color": "#EF553B",
          "size": [
           2
          ],
          "sizemode": "area",
          "sizeref": 0.025,
          "symbol": "circle"
         },
         "mode": "markers",
         "name": "Sofiane Boufal",
         "showlegend": true,
         "type": "scatter",
         "x": [
          -0.6982589848339562
         ],
         "xaxis": "x",
         "y": [
          2.698258984833956
         ],
         "yaxis": "y"
        },
        {
         "hovertemplate": "<b>%{hovertext}</b><br><br>player_name=Nampalys Mendy<br>Assist and XA Difference=%{x}<br>xA=%{y}<br>assists=%{marker.size}<extra></extra>",
         "hovertext": [
          "Nampalys Mendy"
         ],
         "legendgroup": "Nampalys Mendy",
         "marker": {
          "color": "#00cc96",
          "size": [
           0
          ],
          "sizemode": "area",
          "sizeref": 0.025,
          "symbol": "circle"
         },
         "mode": "markers",
         "name": "Nampalys Mendy",
         "showlegend": true,
         "type": "scatter",
         "x": [
          -0.08900724817067385
         ],
         "xaxis": "x",
         "y": [
          0.08900724817067385
         ],
         "yaxis": "y"
        },
        {
         "hovertemplate": "<b>%{hovertext}</b><br><br>player_name=Lewis Cook<br>Assist and XA Difference=%{x}<br>xA=%{y}<br>assists=%{marker.size}<extra></extra>",
         "hovertext": [
          "Lewis Cook"
         ],
         "legendgroup": "Lewis Cook",
         "marker": {
          "color": "#ab63fa",
          "size": [
           0
          ],
          "sizemode": "area",
          "sizeref": 0.025,
          "symbol": "circle"
         },
         "mode": "markers",
         "name": "Lewis Cook",
         "showlegend": true,
         "type": "scatter",
         "x": [
          -0.5486514251679182
         ],
         "xaxis": "x",
         "y": [
          0.5486514251679182
         ],
         "yaxis": "y"
        },
        {
         "hovertemplate": "<b>%{hovertext}</b><br><br>player_name=Christian Atsu<br>Assist and XA Difference=%{x}<br>xA=%{y}<br>assists=%{marker.size}<extra></extra>",
         "hovertext": [
          "Christian Atsu"
         ],
         "legendgroup": "Christian Atsu",
         "marker": {
          "color": "#FFA15A",
          "size": [
           3
          ],
          "sizemode": "area",
          "sizeref": 0.025,
          "symbol": "circle"
         },
         "mode": "markers",
         "name": "Christian Atsu",
         "showlegend": true,
         "type": "scatter",
         "x": [
          2.287698006257415
         ],
         "xaxis": "x",
         "y": [
          0.7123019937425852
         ],
         "yaxis": "y"
        },
        {
         "hovertemplate": "<b>%{hovertext}</b><br><br>player_name=André Gomes<br>Assist and XA Difference=%{x}<br>xA=%{y}<br>assists=%{marker.size}<extra></extra>",
         "hovertext": [
          "André Gomes"
         ],
         "legendgroup": "André Gomes",
         "marker": {
          "color": "#19d3f3",
          "size": [
           1
          ],
          "sizemode": "area",
          "sizeref": 0.025,
          "symbol": "circle"
         },
         "mode": "markers",
         "name": "André Gomes",
         "showlegend": true,
         "type": "scatter",
         "x": [
          -0.10450759343802929
         ],
         "xaxis": "x",
         "y": [
          1.1045075934380293
         ],
         "yaxis": "y"
        },
        {
         "hovertemplate": "<b>%{hovertext}</b><br><br>player_name=Dani Ceballos<br>Assist and XA Difference=%{x}<br>xA=%{y}<br>assists=%{marker.size}<extra></extra>",
         "hovertext": [
          "Dani Ceballos"
         ],
         "legendgroup": "Dani Ceballos",
         "marker": {
          "color": "#FF6692",
          "size": [
           2
          ],
          "sizemode": "area",
          "sizeref": 0.025,
          "symbol": "circle"
         },
         "mode": "markers",
         "name": "Dani Ceballos",
         "showlegend": true,
         "type": "scatter",
         "x": [
          0.4238563310354948
         ],
         "xaxis": "x",
         "y": [
          1.5761436689645052
         ],
         "yaxis": "y"
        },
        {
         "hovertemplate": "<b>%{hovertext}</b><br><br>player_name=Dimitri Foulquier<br>Assist and XA Difference=%{x}<br>xA=%{y}<br>assists=%{marker.size}<extra></extra>",
         "hovertext": [
          "Dimitri Foulquier"
         ],
         "legendgroup": "Dimitri Foulquier",
         "marker": {
          "color": "#B6E880",
          "size": [
           0
          ],
          "sizemode": "area",
          "sizeref": 0.025,
          "symbol": "circle"
         },
         "mode": "markers",
         "name": "Dimitri Foulquier",
         "showlegend": true,
         "type": "scatter",
         "x": [
          0
         ],
         "xaxis": "x",
         "y": [
          0
         ],
         "yaxis": "y"
        },
        {
         "hovertemplate": "<b>%{hovertext}</b><br><br>player_name=Jean-Philippe Gbamin<br>Assist and XA Difference=%{x}<br>xA=%{y}<br>assists=%{marker.size}<extra></extra>",
         "hovertext": [
          "Jean-Philippe Gbamin"
         ],
         "legendgroup": "Jean-Philippe Gbamin",
         "marker": {
          "color": "#FF97FF",
          "size": [
           0
          ],
          "sizemode": "area",
          "sizeref": 0.025,
          "symbol": "circle"
         },
         "mode": "markers",
         "name": "Jean-Philippe Gbamin",
         "showlegend": true,
         "type": "scatter",
         "x": [
          0
         ],
         "xaxis": "x",
         "y": [
          0
         ],
         "yaxis": "y"
        },
        {
         "hovertemplate": "<b>%{hovertext}</b><br><br>player_name=Ondrej Duda<br>Assist and XA Difference=%{x}<br>xA=%{y}<br>assists=%{marker.size}<extra></extra>",
         "hovertext": [
          "Ondrej Duda"
         ],
         "legendgroup": "Ondrej Duda",
         "marker": {
          "color": "#FECB52",
          "size": [
           0
          ],
          "sizemode": "area",
          "sizeref": 0.025,
          "symbol": "circle"
         },
         "mode": "markers",
         "name": "Ondrej Duda",
         "showlegend": true,
         "type": "scatter",
         "x": [
          -1.5336673818528652
         ],
         "xaxis": "x",
         "y": [
          1.5336673818528652
         ],
         "yaxis": "y"
        },
        {
         "hovertemplate": "<b>%{hovertext}</b><br><br>player_name=Giovani Lo Celso<br>Assist and XA Difference=%{x}<br>xA=%{y}<br>assists=%{marker.size}<extra></extra>",
         "hovertext": [
          "Giovani Lo Celso"
         ],
         "legendgroup": "Giovani Lo Celso",
         "marker": {
          "color": "#636efa",
          "size": [
           2
          ],
          "sizemode": "area",
          "sizeref": 0.025,
          "symbol": "circle"
         },
         "mode": "markers",
         "name": "Giovani Lo Celso",
         "showlegend": true,
         "type": "scatter",
         "x": [
          0.2927081659436226
         ],
         "xaxis": "x",
         "y": [
          1.7072918340563774
         ],
         "yaxis": "y"
        },
        {
         "hovertemplate": "<b>%{hovertext}</b><br><br>player_name=Matteo Guendouzi<br>Assist and XA Difference=%{x}<br>xA=%{y}<br>assists=%{marker.size}<extra></extra>",
         "hovertext": [
          "Matteo Guendouzi"
         ],
         "legendgroup": "Matteo Guendouzi",
         "marker": {
          "color": "#EF553B",
          "size": [
           1
          ],
          "sizemode": "area",
          "sizeref": 0.025,
          "symbol": "circle"
         },
         "mode": "markers",
         "name": "Matteo Guendouzi",
         "showlegend": true,
         "type": "scatter",
         "x": [
          -0.06330328434705712
         ],
         "xaxis": "x",
         "y": [
          1.0633032843470571
         ],
         "yaxis": "y"
        },
        {
         "hovertemplate": "<b>%{hovertext}</b><br><br>player_name=Dale Stephens<br>Assist and XA Difference=%{x}<br>xA=%{y}<br>assists=%{marker.size}<extra></extra>",
         "hovertext": [
          "Dale Stephens"
         ],
         "legendgroup": "Dale Stephens",
         "marker": {
          "color": "#00cc96",
          "size": [
           1
          ],
          "sizemode": "area",
          "sizeref": 0.025,
          "symbol": "circle"
         },
         "mode": "markers",
         "name": "Dale Stephens",
         "showlegend": true,
         "type": "scatter",
         "x": [
          -0.24719187803566456
         ],
         "xaxis": "x",
         "y": [
          1.2471918780356646
         ],
         "yaxis": "y"
        },
        {
         "hovertemplate": "<b>%{hovertext}</b><br><br>player_name=Fred<br>Assist and XA Difference=%{x}<br>xA=%{y}<br>assists=%{marker.size}<extra></extra>",
         "hovertext": [
          "Fred"
         ],
         "legendgroup": "Fred",
         "marker": {
          "color": "#ab63fa",
          "size": [
           0
          ],
          "sizemode": "area",
          "sizeref": 0.025,
          "symbol": "circle"
         },
         "mode": "markers",
         "name": "Fred",
         "showlegend": true,
         "type": "scatter",
         "x": [
          -2.3141325432807207
         ],
         "xaxis": "x",
         "y": [
          2.3141325432807207
         ],
         "yaxis": "y"
        },
        {
         "hovertemplate": "<b>%{hovertext}</b><br><br>player_name=Rúben Vinagre<br>Assist and XA Difference=%{x}<br>xA=%{y}<br>assists=%{marker.size}<extra></extra>",
         "hovertext": [
          "Rúben Vinagre"
         ],
         "legendgroup": "Rúben Vinagre",
         "marker": {
          "color": "#FFA15A",
          "size": [
           0
          ],
          "sizemode": "area",
          "sizeref": 0.025,
          "symbol": "circle"
         },
         "mode": "markers",
         "name": "Rúben Vinagre",
         "showlegend": true,
         "type": "scatter",
         "x": [
          -0.6194777600467205
         ],
         "xaxis": "x",
         "y": [
          0.6194777600467205
         ],
         "yaxis": "y"
        },
        {
         "hovertemplate": "<b>%{hovertext}</b><br><br>player_name=Morgan Gibbs-White<br>Assist and XA Difference=%{x}<br>xA=%{y}<br>assists=%{marker.size}<extra></extra>",
         "hovertext": [
          "Morgan Gibbs-White"
         ],
         "legendgroup": "Morgan Gibbs-White",
         "marker": {
          "color": "#19d3f3",
          "size": [
           0
          ],
          "sizemode": "area",
          "sizeref": 0.025,
          "symbol": "circle"
         },
         "mode": "markers",
         "name": "Morgan Gibbs-White",
         "showlegend": true,
         "type": "scatter",
         "x": [
          -0.0708760917186737
         ],
         "xaxis": "x",
         "y": [
          0.0708760917186737
         ],
         "yaxis": "y"
        },
        {
         "hovertemplate": "<b>%{hovertext}</b><br><br>player_name=Oliver Skipp<br>Assist and XA Difference=%{x}<br>xA=%{y}<br>assists=%{marker.size}<extra></extra>",
         "hovertext": [
          "Oliver Skipp"
         ],
         "legendgroup": "Oliver Skipp",
         "marker": {
          "color": "#FF6692",
          "size": [
           0
          ],
          "sizemode": "area",
          "sizeref": 0.025,
          "symbol": "circle"
         },
         "mode": "markers",
         "name": "Oliver Skipp",
         "showlegend": true,
         "type": "scatter",
         "x": [
          0
         ],
         "xaxis": "x",
         "y": [
          0
         ],
         "yaxis": "y"
        },
        {
         "hovertemplate": "<b>%{hovertext}</b><br><br>player_name=Emile Smith-Rowe<br>Assist and XA Difference=%{x}<br>xA=%{y}<br>assists=%{marker.size}<extra></extra>",
         "hovertext": [
          "Emile Smith-Rowe"
         ],
         "legendgroup": "Emile Smith-Rowe",
         "marker": {
          "color": "#B6E880",
          "size": [
           0
          ],
          "sizemode": "area",
          "sizeref": 0.025,
          "symbol": "circle"
         },
         "mode": "markers",
         "name": "Emile Smith-Rowe",
         "showlegend": true,
         "type": "scatter",
         "x": [
          0
         ],
         "xaxis": "x",
         "y": [
          0
         ],
         "yaxis": "y"
        },
        {
         "hovertemplate": "<b>%{hovertext}</b><br><br>player_name=Tom Trybull<br>Assist and XA Difference=%{x}<br>xA=%{y}<br>assists=%{marker.size}<extra></extra>",
         "hovertext": [
          "Tom Trybull"
         ],
         "legendgroup": "Tom Trybull",
         "marker": {
          "color": "#FF97FF",
          "size": [
           0
          ],
          "sizemode": "area",
          "sizeref": 0.025,
          "symbol": "circle"
         },
         "mode": "markers",
         "name": "Tom Trybull",
         "showlegend": true,
         "type": "scatter",
         "x": [
          -0.1500192228704691
         ],
         "xaxis": "x",
         "y": [
          0.1500192228704691
         ],
         "yaxis": "y"
        },
        {
         "hovertemplate": "<b>%{hovertext}</b><br><br>player_name=Marco Stiepermann<br>Assist and XA Difference=%{x}<br>xA=%{y}<br>assists=%{marker.size}<extra></extra>",
         "hovertext": [
          "Marco Stiepermann"
         ],
         "legendgroup": "Marco Stiepermann",
         "marker": {
          "color": "#FECB52",
          "size": [
           0
          ],
          "sizemode": "area",
          "sizeref": 0.025,
          "symbol": "circle"
         },
         "mode": "markers",
         "name": "Marco Stiepermann",
         "showlegend": true,
         "type": "scatter",
         "x": [
          -0.9374048952013254
         ],
         "xaxis": "x",
         "y": [
          0.9374048952013254
         ],
         "yaxis": "y"
        },
        {
         "hovertemplate": "<b>%{hovertext}</b><br><br>player_name=Luke Freeman<br>Assist and XA Difference=%{x}<br>xA=%{y}<br>assists=%{marker.size}<extra></extra>",
         "hovertext": [
          "Luke Freeman"
         ],
         "legendgroup": "Luke Freeman",
         "marker": {
          "color": "#636efa",
          "size": [
           0
          ],
          "sizemode": "area",
          "sizeref": 0.025,
          "symbol": "circle"
         },
         "mode": "markers",
         "name": "Luke Freeman",
         "showlegend": true,
         "type": "scatter",
         "x": [
          -0.18556103855371475
         ],
         "xaxis": "x",
         "y": [
          0.18556103855371475
         ],
         "yaxis": "y"
        },
        {
         "hovertemplate": "<b>%{hovertext}</b><br><br>player_name=Ben Osborn<br>Assist and XA Difference=%{x}<br>xA=%{y}<br>assists=%{marker.size}<extra></extra>",
         "hovertext": [
          "Ben Osborn"
         ],
         "legendgroup": "Ben Osborn",
         "marker": {
          "color": "#EF553B",
          "size": [
           0
          ],
          "sizemode": "area",
          "sizeref": 0.025,
          "symbol": "circle"
         },
         "mode": "markers",
         "name": "Ben Osborn",
         "showlegend": true,
         "type": "scatter",
         "x": [
          -0.8878793343901634
         ],
         "xaxis": "x",
         "y": [
          0.8878793343901634
         ],
         "yaxis": "y"
        },
        {
         "hovertemplate": "<b>%{hovertext}</b><br><br>player_name=Henri Lansbury<br>Assist and XA Difference=%{x}<br>xA=%{y}<br>assists=%{marker.size}<extra></extra>",
         "hovertext": [
          "Henri Lansbury"
         ],
         "legendgroup": "Henri Lansbury",
         "marker": {
          "color": "#00cc96",
          "size": [
           0
          ],
          "sizemode": "area",
          "sizeref": 0.025,
          "symbol": "circle"
         },
         "mode": "markers",
         "name": "Henri Lansbury",
         "showlegend": true,
         "type": "scatter",
         "x": [
          -0.06579376012086867
         ],
         "xaxis": "x",
         "y": [
          0.06579376012086867
         ],
         "yaxis": "y"
        },
        {
         "hovertemplate": "<b>%{hovertext}</b><br><br>player_name=Billy Gilmour<br>Assist and XA Difference=%{x}<br>xA=%{y}<br>assists=%{marker.size}<extra></extra>",
         "hovertext": [
          "Billy Gilmour"
         ],
         "legendgroup": "Billy Gilmour",
         "marker": {
          "color": "#ab63fa",
          "size": [
           0
          ],
          "sizemode": "area",
          "sizeref": 0.025,
          "symbol": "circle"
         },
         "mode": "markers",
         "name": "Billy Gilmour",
         "showlegend": true,
         "type": "scatter",
         "x": [
          -0.18802570179104805
         ],
         "xaxis": "x",
         "y": [
          0.18802570179104805
         ],
         "yaxis": "y"
        },
        {
         "hovertemplate": "<b>%{hovertext}</b><br><br>player_name=Marvelous Nakamba<br>Assist and XA Difference=%{x}<br>xA=%{y}<br>assists=%{marker.size}<extra></extra>",
         "hovertext": [
          "Marvelous Nakamba"
         ],
         "legendgroup": "Marvelous Nakamba",
         "marker": {
          "color": "#FFA15A",
          "size": [
           0
          ],
          "sizemode": "area",
          "sizeref": 0.025,
          "symbol": "circle"
         },
         "mode": "markers",
         "name": "Marvelous Nakamba",
         "showlegend": true,
         "type": "scatter",
         "x": [
          -0.5477455304935575
         ],
         "xaxis": "x",
         "y": [
          0.5477455304935575
         ],
         "yaxis": "y"
        },
        {
         "hovertemplate": "<b>%{hovertext}</b><br><br>player_name=Arnaut Danjuma Groeneveld<br>Assist and XA Difference=%{x}<br>xA=%{y}<br>assists=%{marker.size}<extra></extra>",
         "hovertext": [
          "Arnaut Danjuma Groeneveld"
         ],
         "legendgroup": "Arnaut Danjuma Groeneveld",
         "marker": {
          "color": "#19d3f3",
          "size": [
           0
          ],
          "sizemode": "area",
          "sizeref": 0.025,
          "symbol": "circle"
         },
         "mode": "markers",
         "name": "Arnaut Danjuma Groeneveld",
         "showlegend": true,
         "type": "scatter",
         "x": [
          -0.16391022875905034
         ],
         "xaxis": "x",
         "y": [
          0.16391022875905034
         ],
         "yaxis": "y"
        },
        {
         "hovertemplate": "<b>%{hovertext}</b><br><br>player_name=Anthony Gordon<br>Assist and XA Difference=%{x}<br>xA=%{y}<br>assists=%{marker.size}<extra></extra>",
         "hovertext": [
          "Anthony Gordon"
         ],
         "legendgroup": "Anthony Gordon",
         "marker": {
          "color": "#FF6692",
          "size": [
           1
          ],
          "sizemode": "area",
          "sizeref": 0.025,
          "symbol": "circle"
         },
         "mode": "markers",
         "name": "Anthony Gordon",
         "showlegend": true,
         "type": "scatter",
         "x": [
          0.6600502505898476
         ],
         "xaxis": "x",
         "y": [
          0.33994974941015244
         ],
         "yaxis": "y"
        },
        {
         "hovertemplate": "<b>%{hovertext}</b><br><br>player_name=William Smallbone<br>Assist and XA Difference=%{x}<br>xA=%{y}<br>assists=%{marker.size}<extra></extra>",
         "hovertext": [
          "William Smallbone"
         ],
         "legendgroup": "William Smallbone",
         "marker": {
          "color": "#B6E880",
          "size": [
           2
          ],
          "sizemode": "area",
          "sizeref": 0.025,
          "symbol": "circle"
         },
         "mode": "markers",
         "name": "William Smallbone",
         "showlegend": true,
         "type": "scatter",
         "x": [
          1.8278290145099163
         ],
         "xaxis": "x",
         "y": [
          0.1721709854900837
         ],
         "yaxis": "y"
        },
        {
         "hovertemplate": "<b>%{hovertext}</b><br><br>player_name=Josh Brownhill<br>Assist and XA Difference=%{x}<br>xA=%{y}<br>assists=%{marker.size}<extra></extra>",
         "hovertext": [
          "Josh Brownhill"
         ],
         "legendgroup": "Josh Brownhill",
         "marker": {
          "color": "#FF97FF",
          "size": [
           0
          ],
          "sizemode": "area",
          "sizeref": 0.025,
          "symbol": "circle"
         },
         "mode": "markers",
         "name": "Josh Brownhill",
         "showlegend": true,
         "type": "scatter",
         "x": [
          -0.12225658446550368
         ],
         "xaxis": "x",
         "y": [
          0.12225658446550368
         ],
         "yaxis": "y"
        },
        {
         "hovertemplate": "<b>%{hovertext}</b><br><br>player_name=Luke Thomas<br>Assist and XA Difference=%{x}<br>xA=%{y}<br>assists=%{marker.size}<extra></extra>",
         "hovertext": [
          "Luke Thomas"
         ],
         "legendgroup": "Luke Thomas",
         "marker": {
          "color": "#FECB52",
          "size": [
           1
          ],
          "sizemode": "area",
          "sizeref": 0.025,
          "symbol": "circle"
         },
         "mode": "markers",
         "name": "Luke Thomas",
         "showlegend": true,
         "type": "scatter",
         "x": [
          0.37001819908618927
         ],
         "xaxis": "x",
         "y": [
          0.6299818009138107
         ],
         "yaxis": "y"
        }
       ],
       "layout": {
        "legend": {
         "itemsizing": "constant",
         "title": {
          "text": "player_name"
         },
         "tracegroupgap": 0
        },
        "template": {
         "data": {
          "bar": [
           {
            "error_x": {
             "color": "#2a3f5f"
            },
            "error_y": {
             "color": "#2a3f5f"
            },
            "marker": {
             "line": {
              "color": "#E5ECF6",
              "width": 0.5
             }
            },
            "type": "bar"
           }
          ],
          "barpolar": [
           {
            "marker": {
             "line": {
              "color": "#E5ECF6",
              "width": 0.5
             }
            },
            "type": "barpolar"
           }
          ],
          "carpet": [
           {
            "aaxis": {
             "endlinecolor": "#2a3f5f",
             "gridcolor": "white",
             "linecolor": "white",
             "minorgridcolor": "white",
             "startlinecolor": "#2a3f5f"
            },
            "baxis": {
             "endlinecolor": "#2a3f5f",
             "gridcolor": "white",
             "linecolor": "white",
             "minorgridcolor": "white",
             "startlinecolor": "#2a3f5f"
            },
            "type": "carpet"
           }
          ],
          "choropleth": [
           {
            "colorbar": {
             "outlinewidth": 0,
             "ticks": ""
            },
            "type": "choropleth"
           }
          ],
          "contour": [
           {
            "colorbar": {
             "outlinewidth": 0,
             "ticks": ""
            },
            "colorscale": [
             [
              0,
              "#0d0887"
             ],
             [
              0.1111111111111111,
              "#46039f"
             ],
             [
              0.2222222222222222,
              "#7201a8"
             ],
             [
              0.3333333333333333,
              "#9c179e"
             ],
             [
              0.4444444444444444,
              "#bd3786"
             ],
             [
              0.5555555555555556,
              "#d8576b"
             ],
             [
              0.6666666666666666,
              "#ed7953"
             ],
             [
              0.7777777777777778,
              "#fb9f3a"
             ],
             [
              0.8888888888888888,
              "#fdca26"
             ],
             [
              1,
              "#f0f921"
             ]
            ],
            "type": "contour"
           }
          ],
          "contourcarpet": [
           {
            "colorbar": {
             "outlinewidth": 0,
             "ticks": ""
            },
            "type": "contourcarpet"
           }
          ],
          "heatmap": [
           {
            "colorbar": {
             "outlinewidth": 0,
             "ticks": ""
            },
            "colorscale": [
             [
              0,
              "#0d0887"
             ],
             [
              0.1111111111111111,
              "#46039f"
             ],
             [
              0.2222222222222222,
              "#7201a8"
             ],
             [
              0.3333333333333333,
              "#9c179e"
             ],
             [
              0.4444444444444444,
              "#bd3786"
             ],
             [
              0.5555555555555556,
              "#d8576b"
             ],
             [
              0.6666666666666666,
              "#ed7953"
             ],
             [
              0.7777777777777778,
              "#fb9f3a"
             ],
             [
              0.8888888888888888,
              "#fdca26"
             ],
             [
              1,
              "#f0f921"
             ]
            ],
            "type": "heatmap"
           }
          ],
          "heatmapgl": [
           {
            "colorbar": {
             "outlinewidth": 0,
             "ticks": ""
            },
            "colorscale": [
             [
              0,
              "#0d0887"
             ],
             [
              0.1111111111111111,
              "#46039f"
             ],
             [
              0.2222222222222222,
              "#7201a8"
             ],
             [
              0.3333333333333333,
              "#9c179e"
             ],
             [
              0.4444444444444444,
              "#bd3786"
             ],
             [
              0.5555555555555556,
              "#d8576b"
             ],
             [
              0.6666666666666666,
              "#ed7953"
             ],
             [
              0.7777777777777778,
              "#fb9f3a"
             ],
             [
              0.8888888888888888,
              "#fdca26"
             ],
             [
              1,
              "#f0f921"
             ]
            ],
            "type": "heatmapgl"
           }
          ],
          "histogram": [
           {
            "marker": {
             "colorbar": {
              "outlinewidth": 0,
              "ticks": ""
             }
            },
            "type": "histogram"
           }
          ],
          "histogram2d": [
           {
            "colorbar": {
             "outlinewidth": 0,
             "ticks": ""
            },
            "colorscale": [
             [
              0,
              "#0d0887"
             ],
             [
              0.1111111111111111,
              "#46039f"
             ],
             [
              0.2222222222222222,
              "#7201a8"
             ],
             [
              0.3333333333333333,
              "#9c179e"
             ],
             [
              0.4444444444444444,
              "#bd3786"
             ],
             [
              0.5555555555555556,
              "#d8576b"
             ],
             [
              0.6666666666666666,
              "#ed7953"
             ],
             [
              0.7777777777777778,
              "#fb9f3a"
             ],
             [
              0.8888888888888888,
              "#fdca26"
             ],
             [
              1,
              "#f0f921"
             ]
            ],
            "type": "histogram2d"
           }
          ],
          "histogram2dcontour": [
           {
            "colorbar": {
             "outlinewidth": 0,
             "ticks": ""
            },
            "colorscale": [
             [
              0,
              "#0d0887"
             ],
             [
              0.1111111111111111,
              "#46039f"
             ],
             [
              0.2222222222222222,
              "#7201a8"
             ],
             [
              0.3333333333333333,
              "#9c179e"
             ],
             [
              0.4444444444444444,
              "#bd3786"
             ],
             [
              0.5555555555555556,
              "#d8576b"
             ],
             [
              0.6666666666666666,
              "#ed7953"
             ],
             [
              0.7777777777777778,
              "#fb9f3a"
             ],
             [
              0.8888888888888888,
              "#fdca26"
             ],
             [
              1,
              "#f0f921"
             ]
            ],
            "type": "histogram2dcontour"
           }
          ],
          "mesh3d": [
           {
            "colorbar": {
             "outlinewidth": 0,
             "ticks": ""
            },
            "type": "mesh3d"
           }
          ],
          "parcoords": [
           {
            "line": {
             "colorbar": {
              "outlinewidth": 0,
              "ticks": ""
             }
            },
            "type": "parcoords"
           }
          ],
          "pie": [
           {
            "automargin": true,
            "type": "pie"
           }
          ],
          "scatter": [
           {
            "marker": {
             "colorbar": {
              "outlinewidth": 0,
              "ticks": ""
             }
            },
            "type": "scatter"
           }
          ],
          "scatter3d": [
           {
            "line": {
             "colorbar": {
              "outlinewidth": 0,
              "ticks": ""
             }
            },
            "marker": {
             "colorbar": {
              "outlinewidth": 0,
              "ticks": ""
             }
            },
            "type": "scatter3d"
           }
          ],
          "scattercarpet": [
           {
            "marker": {
             "colorbar": {
              "outlinewidth": 0,
              "ticks": ""
             }
            },
            "type": "scattercarpet"
           }
          ],
          "scattergeo": [
           {
            "marker": {
             "colorbar": {
              "outlinewidth": 0,
              "ticks": ""
             }
            },
            "type": "scattergeo"
           }
          ],
          "scattergl": [
           {
            "marker": {
             "colorbar": {
              "outlinewidth": 0,
              "ticks": ""
             }
            },
            "type": "scattergl"
           }
          ],
          "scattermapbox": [
           {
            "marker": {
             "colorbar": {
              "outlinewidth": 0,
              "ticks": ""
             }
            },
            "type": "scattermapbox"
           }
          ],
          "scatterpolar": [
           {
            "marker": {
             "colorbar": {
              "outlinewidth": 0,
              "ticks": ""
             }
            },
            "type": "scatterpolar"
           }
          ],
          "scatterpolargl": [
           {
            "marker": {
             "colorbar": {
              "outlinewidth": 0,
              "ticks": ""
             }
            },
            "type": "scatterpolargl"
           }
          ],
          "scatterternary": [
           {
            "marker": {
             "colorbar": {
              "outlinewidth": 0,
              "ticks": ""
             }
            },
            "type": "scatterternary"
           }
          ],
          "surface": [
           {
            "colorbar": {
             "outlinewidth": 0,
             "ticks": ""
            },
            "colorscale": [
             [
              0,
              "#0d0887"
             ],
             [
              0.1111111111111111,
              "#46039f"
             ],
             [
              0.2222222222222222,
              "#7201a8"
             ],
             [
              0.3333333333333333,
              "#9c179e"
             ],
             [
              0.4444444444444444,
              "#bd3786"
             ],
             [
              0.5555555555555556,
              "#d8576b"
             ],
             [
              0.6666666666666666,
              "#ed7953"
             ],
             [
              0.7777777777777778,
              "#fb9f3a"
             ],
             [
              0.8888888888888888,
              "#fdca26"
             ],
             [
              1,
              "#f0f921"
             ]
            ],
            "type": "surface"
           }
          ],
          "table": [
           {
            "cells": {
             "fill": {
              "color": "#EBF0F8"
             },
             "line": {
              "color": "white"
             }
            },
            "header": {
             "fill": {
              "color": "#C8D4E3"
             },
             "line": {
              "color": "white"
             }
            },
            "type": "table"
           }
          ]
         },
         "layout": {
          "annotationdefaults": {
           "arrowcolor": "#2a3f5f",
           "arrowhead": 0,
           "arrowwidth": 1
          },
          "coloraxis": {
           "colorbar": {
            "outlinewidth": 0,
            "ticks": ""
           }
          },
          "colorscale": {
           "diverging": [
            [
             0,
             "#8e0152"
            ],
            [
             0.1,
             "#c51b7d"
            ],
            [
             0.2,
             "#de77ae"
            ],
            [
             0.3,
             "#f1b6da"
            ],
            [
             0.4,
             "#fde0ef"
            ],
            [
             0.5,
             "#f7f7f7"
            ],
            [
             0.6,
             "#e6f5d0"
            ],
            [
             0.7,
             "#b8e186"
            ],
            [
             0.8,
             "#7fbc41"
            ],
            [
             0.9,
             "#4d9221"
            ],
            [
             1,
             "#276419"
            ]
           ],
           "sequential": [
            [
             0,
             "#0d0887"
            ],
            [
             0.1111111111111111,
             "#46039f"
            ],
            [
             0.2222222222222222,
             "#7201a8"
            ],
            [
             0.3333333333333333,
             "#9c179e"
            ],
            [
             0.4444444444444444,
             "#bd3786"
            ],
            [
             0.5555555555555556,
             "#d8576b"
            ],
            [
             0.6666666666666666,
             "#ed7953"
            ],
            [
             0.7777777777777778,
             "#fb9f3a"
            ],
            [
             0.8888888888888888,
             "#fdca26"
            ],
            [
             1,
             "#f0f921"
            ]
           ],
           "sequentialminus": [
            [
             0,
             "#0d0887"
            ],
            [
             0.1111111111111111,
             "#46039f"
            ],
            [
             0.2222222222222222,
             "#7201a8"
            ],
            [
             0.3333333333333333,
             "#9c179e"
            ],
            [
             0.4444444444444444,
             "#bd3786"
            ],
            [
             0.5555555555555556,
             "#d8576b"
            ],
            [
             0.6666666666666666,
             "#ed7953"
            ],
            [
             0.7777777777777778,
             "#fb9f3a"
            ],
            [
             0.8888888888888888,
             "#fdca26"
            ],
            [
             1,
             "#f0f921"
            ]
           ]
          },
          "colorway": [
           "#636efa",
           "#EF553B",
           "#00cc96",
           "#ab63fa",
           "#FFA15A",
           "#19d3f3",
           "#FF6692",
           "#B6E880",
           "#FF97FF",
           "#FECB52"
          ],
          "font": {
           "color": "#2a3f5f"
          },
          "geo": {
           "bgcolor": "white",
           "lakecolor": "white",
           "landcolor": "#E5ECF6",
           "showlakes": true,
           "showland": true,
           "subunitcolor": "white"
          },
          "hoverlabel": {
           "align": "left"
          },
          "hovermode": "closest",
          "mapbox": {
           "style": "light"
          },
          "paper_bgcolor": "white",
          "plot_bgcolor": "#E5ECF6",
          "polar": {
           "angularaxis": {
            "gridcolor": "white",
            "linecolor": "white",
            "ticks": ""
           },
           "bgcolor": "#E5ECF6",
           "radialaxis": {
            "gridcolor": "white",
            "linecolor": "white",
            "ticks": ""
           }
          },
          "scene": {
           "xaxis": {
            "backgroundcolor": "#E5ECF6",
            "gridcolor": "white",
            "gridwidth": 2,
            "linecolor": "white",
            "showbackground": true,
            "ticks": "",
            "zerolinecolor": "white"
           },
           "yaxis": {
            "backgroundcolor": "#E5ECF6",
            "gridcolor": "white",
            "gridwidth": 2,
            "linecolor": "white",
            "showbackground": true,
            "ticks": "",
            "zerolinecolor": "white"
           },
           "zaxis": {
            "backgroundcolor": "#E5ECF6",
            "gridcolor": "white",
            "gridwidth": 2,
            "linecolor": "white",
            "showbackground": true,
            "ticks": "",
            "zerolinecolor": "white"
           }
          },
          "shapedefaults": {
           "line": {
            "color": "#2a3f5f"
           }
          },
          "ternary": {
           "aaxis": {
            "gridcolor": "white",
            "linecolor": "white",
            "ticks": ""
           },
           "baxis": {
            "gridcolor": "white",
            "linecolor": "white",
            "ticks": ""
           },
           "bgcolor": "#E5ECF6",
           "caxis": {
            "gridcolor": "white",
            "linecolor": "white",
            "ticks": ""
           }
          },
          "title": {
           "x": 0.05
          },
          "xaxis": {
           "automargin": true,
           "gridcolor": "white",
           "linecolor": "white",
           "ticks": "",
           "title": {
            "standoff": 15
           },
           "zerolinecolor": "white",
           "zerolinewidth": 2
          },
          "yaxis": {
           "automargin": true,
           "gridcolor": "white",
           "linecolor": "white",
           "ticks": "",
           "title": {
            "standoff": 15
           },
           "zerolinecolor": "white",
           "zerolinewidth": 2
          }
         }
        },
        "title": {
         "text": "xA PL MIDs"
        },
        "xaxis": {
         "anchor": "y",
         "domain": [
          0,
          1
         ],
         "title": {
          "text": "Assist and XA Difference"
         }
        },
        "yaxis": {
         "anchor": "x",
         "domain": [
          0,
          1
         ],
         "title": {
          "text": "xA"
         }
        }
       }
      },
      "text/html": [
       "<div>\n",
       "        \n",
       "        \n",
       "            <div id=\"6268dcfd-c42a-4409-9629-4bbef18c3a56\" class=\"plotly-graph-div\" style=\"height:525px; width:100%;\"></div>\n",
       "            <script type=\"text/javascript\">\n",
       "                require([\"plotly\"], function(Plotly) {\n",
       "                    window.PLOTLYENV=window.PLOTLYENV || {};\n",
       "                    \n",
       "                if (document.getElementById(\"6268dcfd-c42a-4409-9629-4bbef18c3a56\")) {\n",
       "                    Plotly.newPlot(\n",
       "                        '6268dcfd-c42a-4409-9629-4bbef18c3a56',\n",
       "                        [{\"hovertemplate\": \"<b>%{hovertext}</b><br><br>player_name=Bruno Fernandes<br>Assist and XA Difference=%{x}<br>xA=%{y}<br>assists=%{marker.size}<extra></extra>\", \"hovertext\": [\"Bruno Fernandes\"], \"legendgroup\": \"Bruno Fernandes\", \"marker\": {\"color\": \"#636efa\", \"size\": [7], \"sizemode\": \"area\", \"sizeref\": 0.025, \"symbol\": \"circle\"}, \"mode\": \"markers\", \"name\": \"Bruno Fernandes\", \"showlegend\": true, \"type\": \"scatter\", \"x\": [4.244999725371599], \"xaxis\": \"x\", \"y\": [2.755000274628401], \"yaxis\": \"y\"}, {\"hovertemplate\": \"<b>%{hovertext}</b><br><br>player_name=Jonjo Shelvey<br>Assist and XA Difference=%{x}<br>xA=%{y}<br>assists=%{marker.size}<extra></extra>\", \"hovertext\": [\"Jonjo Shelvey\"], \"legendgroup\": \"Jonjo Shelvey\", \"marker\": {\"color\": \"#EF553B\", \"size\": [2], \"sizemode\": \"area\", \"sizeref\": 0.025, \"symbol\": \"circle\"}, \"mode\": \"markers\", \"name\": \"Jonjo Shelvey\", \"showlegend\": true, \"type\": \"scatter\", \"x\": [-2.1416122782975444], \"xaxis\": \"x\", \"y\": [4.141612278297544], \"yaxis\": \"y\"}, {\"hovertemplate\": \"<b>%{hovertext}</b><br><br>player_name=James Maddison<br>Assist and XA Difference=%{x}<br>xA=%{y}<br>assists=%{marker.size}<extra></extra>\", \"hovertext\": [\"James Maddison\"], \"legendgroup\": \"James Maddison\", \"marker\": {\"color\": \"#00cc96\", \"size\": [3], \"sizemode\": \"area\", \"sizeref\": 0.025, \"symbol\": \"circle\"}, \"mode\": \"markers\", \"name\": \"James Maddison\", \"showlegend\": true, \"type\": \"scatter\", \"x\": [-2.7685162406414747], \"xaxis\": \"x\", \"y\": [5.768516240641475], \"yaxis\": \"y\"}, {\"hovertemplate\": \"<b>%{hovertext}</b><br><br>player_name=Todd Cantwell<br>Assist and XA Difference=%{x}<br>xA=%{y}<br>assists=%{marker.size}<extra></extra>\", \"hovertext\": [\"Todd Cantwell\"], \"legendgroup\": \"Todd Cantwell\", \"marker\": {\"color\": \"#ab63fa\", \"size\": [2], \"sizemode\": \"area\", \"sizeref\": 0.025, \"symbol\": \"circle\"}, \"mode\": \"markers\", \"name\": \"Todd Cantwell\", \"showlegend\": true, \"type\": \"scatter\", \"x\": [-0.3185307234525685], \"xaxis\": \"x\", \"y\": [2.3185307234525685], \"yaxis\": \"y\"}, {\"hovertemplate\": \"<b>%{hovertext}</b><br><br>player_name=David Silva<br>Assist and XA Difference=%{x}<br>xA=%{y}<br>assists=%{marker.size}<extra></extra>\", \"hovertext\": [\"David Silva\"], \"legendgroup\": \"David Silva\", \"marker\": {\"color\": \"#FFA15A\", \"size\": [10], \"sizemode\": \"area\", \"sizeref\": 0.025, \"symbol\": \"circle\"}, \"mode\": \"markers\", \"name\": \"David Silva\", \"showlegend\": true, \"type\": \"scatter\", \"x\": [2.3490124605596066], \"xaxis\": \"x\", \"y\": [7.6509875394403934], \"yaxis\": \"y\"}, {\"hovertemplate\": \"<b>%{hovertext}</b><br><br>player_name=Andriy Yarmolenko<br>Assist and XA Difference=%{x}<br>xA=%{y}<br>assists=%{marker.size}<extra></extra>\", \"hovertext\": [\"Andriy Yarmolenko\"], \"legendgroup\": \"Andriy Yarmolenko\", \"marker\": {\"color\": \"#19d3f3\", \"size\": [1], \"sizemode\": \"area\", \"sizeref\": 0.025, \"symbol\": \"circle\"}, \"mode\": \"markers\", \"name\": \"Andriy Yarmolenko\", \"showlegend\": true, \"type\": \"scatter\", \"x\": [-2.426018500700593], \"xaxis\": \"x\", \"y\": [3.426018500700593], \"yaxis\": \"y\"}, {\"hovertemplate\": \"<b>%{hovertext}</b><br><br>player_name=Stuart Armstrong<br>Assist and XA Difference=%{x}<br>xA=%{y}<br>assists=%{marker.size}<extra></extra>\", \"hovertext\": [\"Stuart Armstrong\"], \"legendgroup\": \"Stuart Armstrong\", \"marker\": {\"color\": \"#FF6692\", \"size\": [3], \"sizemode\": \"area\", \"sizeref\": 0.025, \"symbol\": \"circle\"}, \"mode\": \"markers\", \"name\": \"Stuart Armstrong\", \"showlegend\": true, \"type\": \"scatter\", \"x\": [0.9903473956510429], \"xaxis\": \"x\", \"y\": [2.009652604348957], \"yaxis\": \"y\"}, {\"hovertemplate\": \"<b>%{hovertext}</b><br><br>player_name=John Lundstram<br>Assist and XA Difference=%{x}<br>xA=%{y}<br>assists=%{marker.size}<extra></extra>\", \"hovertext\": [\"John Lundstram\"], \"legendgroup\": \"John Lundstram\", \"marker\": {\"color\": \"#B6E880\", \"size\": [3], \"sizemode\": \"area\", \"sizeref\": 0.025, \"symbol\": \"circle\"}, \"mode\": \"markers\", \"name\": \"John Lundstram\", \"showlegend\": true, \"type\": \"scatter\", \"x\": [-0.8296403661370282], \"xaxis\": \"x\", \"y\": [3.829640366137028], \"yaxis\": \"y\"}, {\"hovertemplate\": \"<b>%{hovertext}</b><br><br>player_name=John Fleck<br>Assist and XA Difference=%{x}<br>xA=%{y}<br>assists=%{marker.size}<extra></extra>\", \"hovertext\": [\"John Fleck\"], \"legendgroup\": \"John Fleck\", \"marker\": {\"color\": \"#FF97FF\", \"size\": [2], \"sizemode\": \"area\", \"sizeref\": 0.025, \"symbol\": \"circle\"}, \"mode\": \"markers\", \"name\": \"John Fleck\", \"showlegend\": true, \"type\": \"scatter\", \"x\": [-1.4293289501219988], \"xaxis\": \"x\", \"y\": [3.429328950121999], \"yaxis\": \"y\"}, {\"hovertemplate\": \"<b>%{hovertext}</b><br><br>player_name=Mark Noble<br>Assist and XA Difference=%{x}<br>xA=%{y}<br>assists=%{marker.size}<extra></extra>\", \"hovertext\": [\"Mark Noble\"], \"legendgroup\": \"Mark Noble\", \"marker\": {\"color\": \"#FECB52\", \"size\": [3], \"sizemode\": \"area\", \"sizeref\": 0.025, \"symbol\": \"circle\"}, \"mode\": \"markers\", \"name\": \"Mark Noble\", \"showlegend\": true, \"type\": \"scatter\", \"x\": [-0.18147218879312277], \"xaxis\": \"x\", \"y\": [3.1814721887931228], \"yaxis\": \"y\"}, {\"hovertemplate\": \"<b>%{hovertext}</b><br><br>player_name=Jordan Henderson<br>Assist and XA Difference=%{x}<br>xA=%{y}<br>assists=%{marker.size}<extra></extra>\", \"hovertext\": [\"Jordan Henderson\"], \"legendgroup\": \"Jordan Henderson\", \"marker\": {\"color\": \"#636efa\", \"size\": [5], \"sizemode\": \"area\", \"sizeref\": 0.025, \"symbol\": \"circle\"}, \"mode\": \"markers\", \"name\": \"Jordan Henderson\", \"showlegend\": true, \"type\": \"scatter\", \"x\": [0.8919379599392414], \"xaxis\": \"x\", \"y\": [4.108062040060759], \"yaxis\": \"y\"}, {\"hovertemplate\": \"<b>%{hovertext}</b><br><br>player_name=Georginio Wijnaldum<br>Assist and XA Difference=%{x}<br>xA=%{y}<br>assists=%{marker.size}<extra></extra>\", \"hovertext\": [\"Georginio Wijnaldum\"], \"legendgroup\": \"Georginio Wijnaldum\", \"marker\": {\"color\": \"#EF553B\", \"size\": [0], \"sizemode\": \"area\", \"sizeref\": 0.025, \"symbol\": \"circle\"}, \"mode\": \"markers\", \"name\": \"Georginio Wijnaldum\", \"showlegend\": true, \"type\": \"scatter\", \"x\": [-0.8085457179695368], \"xaxis\": \"x\", \"y\": [0.8085457179695368], \"yaxis\": \"y\"}, {\"hovertemplate\": \"<b>%{hovertext}</b><br><br>player_name=Jorginho<br>Assist and XA Difference=%{x}<br>xA=%{y}<br>assists=%{marker.size}<extra></extra>\", \"hovertext\": [\"Jorginho\"], \"legendgroup\": \"Jorginho\", \"marker\": {\"color\": \"#00cc96\", \"size\": [2], \"sizemode\": \"area\", \"sizeref\": 0.025, \"symbol\": \"circle\"}, \"mode\": \"markers\", \"name\": \"Jorginho\", \"showlegend\": true, \"type\": \"scatter\", \"x\": [-0.9165160683915019], \"xaxis\": \"x\", \"y\": [2.916516068391502], \"yaxis\": \"y\"}, {\"hovertemplate\": \"<b>%{hovertext}</b><br><br>player_name=Abdoulaye Doucour\\u00e9<br>Assist and XA Difference=%{x}<br>xA=%{y}<br>assists=%{marker.size}<extra></extra>\", \"hovertext\": [\"Abdoulaye Doucour\\u00e9\"], \"legendgroup\": \"Abdoulaye Doucour\\u00e9\", \"marker\": {\"color\": \"#ab63fa\", \"size\": [2], \"sizemode\": \"area\", \"sizeref\": 0.025, \"symbol\": \"circle\"}, \"mode\": \"markers\", \"name\": \"Abdoulaye Doucour\\u00e9\", \"showlegend\": true, \"type\": \"scatter\", \"x\": [-2.084617623127997], \"xaxis\": \"x\", \"y\": [4.084617623127997], \"yaxis\": \"y\"}, {\"hovertemplate\": \"<b>%{hovertext}</b><br><br>player_name=Dan Gosling<br>Assist and XA Difference=%{x}<br>xA=%{y}<br>assists=%{marker.size}<extra></extra>\", \"hovertext\": [\"Dan Gosling\"], \"legendgroup\": \"Dan Gosling\", \"marker\": {\"color\": \"#FFA15A\", \"size\": [1], \"sizemode\": \"area\", \"sizeref\": 0.025, \"symbol\": \"circle\"}, \"mode\": \"markers\", \"name\": \"Dan Gosling\", \"showlegend\": true, \"type\": \"scatter\", \"x\": [-0.3691747784614563], \"xaxis\": \"x\", \"y\": [1.3691747784614563], \"yaxis\": \"y\"}, {\"hovertemplate\": \"<b>%{hovertext}</b><br><br>player_name=N&#039;Golo Kant\\u00e9<br>Assist and XA Difference=%{x}<br>xA=%{y}<br>assists=%{marker.size}<extra></extra>\", \"hovertext\": [\"N&#039;Golo Kant\\u00e9\"], \"legendgroup\": \"N&#039;Golo Kant\\u00e9\", \"marker\": {\"color\": \"#19d3f3\", \"size\": [0], \"sizemode\": \"area\", \"sizeref\": 0.025, \"symbol\": \"circle\"}, \"mode\": \"markers\", \"name\": \"N&#039;Golo Kant\\u00e9\", \"showlegend\": true, \"type\": \"scatter\", \"x\": [-1.5202719774097204], \"xaxis\": \"x\", \"y\": [1.5202719774097204], \"yaxis\": \"y\"}, {\"hovertemplate\": \"<b>%{hovertext}</b><br><br>player_name=Luka Milivojevic<br>Assist and XA Difference=%{x}<br>xA=%{y}<br>assists=%{marker.size}<extra></extra>\", \"hovertext\": [\"Luka Milivojevic\"], \"legendgroup\": \"Luka Milivojevic\", \"marker\": {\"color\": \"#FF6692\", \"size\": [1], \"sizemode\": \"area\", \"sizeref\": 0.025, \"symbol\": \"circle\"}, \"mode\": \"markers\", \"name\": \"Luka Milivojevic\", \"showlegend\": true, \"type\": \"scatter\", \"x\": [-0.7364521408453584], \"xaxis\": \"x\", \"y\": [1.7364521408453584], \"yaxis\": \"y\"}, {\"hovertemplate\": \"<b>%{hovertext}</b><br><br>player_name=Scott McTominay<br>Assist and XA Difference=%{x}<br>xA=%{y}<br>assists=%{marker.size}<extra></extra>\", \"hovertext\": [\"Scott McTominay\"], \"legendgroup\": \"Scott McTominay\", \"marker\": {\"color\": \"#B6E880\", \"size\": [1], \"sizemode\": \"area\", \"sizeref\": 0.025, \"symbol\": \"circle\"}, \"mode\": \"markers\", \"name\": \"Scott McTominay\", \"showlegend\": true, \"type\": \"scatter\", \"x\": [-0.43121399730443954], \"xaxis\": \"x\", \"y\": [1.4312139973044395], \"yaxis\": \"y\"}, {\"hovertemplate\": \"<b>%{hovertext}</b><br><br>player_name=Youri Tielemans<br>Assist and XA Difference=%{x}<br>xA=%{y}<br>assists=%{marker.size}<extra></extra>\", \"hovertext\": [\"Youri Tielemans\"], \"legendgroup\": \"Youri Tielemans\", \"marker\": {\"color\": \"#FF97FF\", \"size\": [6], \"sizemode\": \"area\", \"sizeref\": 0.025, \"symbol\": \"circle\"}, \"mode\": \"markers\", \"name\": \"Youri Tielemans\", \"showlegend\": true, \"type\": \"scatter\", \"x\": [0.8139003217220315], \"xaxis\": \"x\", \"y\": [5.1860996782779685], \"yaxis\": \"y\"}, {\"hovertemplate\": \"<b>%{hovertext}</b><br><br>player_name=Douglas Luiz<br>Assist and XA Difference=%{x}<br>xA=%{y}<br>assists=%{marker.size}<extra></extra>\", \"hovertext\": [\"Douglas Luiz\"], \"legendgroup\": \"Douglas Luiz\", \"marker\": {\"color\": \"#FECB52\", \"size\": [2], \"sizemode\": \"area\", \"sizeref\": 0.025, \"symbol\": \"circle\"}, \"mode\": \"markers\", \"name\": \"Douglas Luiz\", \"showlegend\": true, \"type\": \"scatter\", \"x\": [-0.0041146669536833436], \"xaxis\": \"x\", \"y\": [2.0041146669536833], \"yaxis\": \"y\"}, {\"hovertemplate\": \"<b>%{hovertext}</b><br><br>player_name=Bernard<br>Assist and XA Difference=%{x}<br>xA=%{y}<br>assists=%{marker.size}<extra></extra>\", \"hovertext\": [\"Bernard\"], \"legendgroup\": \"Bernard\", \"marker\": {\"color\": \"#636efa\", \"size\": [2], \"sizemode\": \"area\", \"sizeref\": 0.025, \"symbol\": \"circle\"}, \"mode\": \"markers\", \"name\": \"Bernard\", \"showlegend\": true, \"type\": \"scatter\", \"x\": [-0.3037222437560563], \"xaxis\": \"x\", \"y\": [2.3037222437560563], \"yaxis\": \"y\"}, {\"hovertemplate\": \"<b>%{hovertext}</b><br><br>player_name=Conor Hourihane<br>Assist and XA Difference=%{x}<br>xA=%{y}<br>assists=%{marker.size}<extra></extra>\", \"hovertext\": [\"Conor Hourihane\"], \"legendgroup\": \"Conor Hourihane\", \"marker\": {\"color\": \"#EF553B\", \"size\": [5], \"sizemode\": \"area\", \"sizeref\": 0.025, \"symbol\": \"circle\"}, \"mode\": \"markers\", \"name\": \"Conor Hourihane\", \"showlegend\": true, \"type\": \"scatter\", \"x\": [-0.7314409166574478], \"xaxis\": \"x\", \"y\": [5.731440916657448], \"yaxis\": \"y\"}, {\"hovertemplate\": \"<b>%{hovertext}</b><br><br>player_name=John McGinn<br>Assist and XA Difference=%{x}<br>xA=%{y}<br>assists=%{marker.size}<extra></extra>\", \"hovertext\": [\"John McGinn\"], \"legendgroup\": \"John McGinn\", \"marker\": {\"color\": \"#00cc96\", \"size\": [3], \"sizemode\": \"area\", \"sizeref\": 0.025, \"symbol\": \"circle\"}, \"mode\": \"markers\", \"name\": \"John McGinn\", \"showlegend\": true, \"type\": \"scatter\", \"x\": [0.3822408877313137], \"xaxis\": \"x\", \"y\": [2.6177591122686863], \"yaxis\": \"y\"}, {\"hovertemplate\": \"<b>%{hovertext}</b><br><br>player_name=Gabriel Martinelli<br>Assist and XA Difference=%{x}<br>xA=%{y}<br>assists=%{marker.size}<extra></extra>\", \"hovertext\": [\"Gabriel Martinelli\"], \"legendgroup\": \"Gabriel Martinelli\", \"marker\": {\"color\": \"#ab63fa\", \"size\": [0], \"sizemode\": \"area\", \"sizeref\": 0.025, \"symbol\": \"circle\"}, \"mode\": \"markers\", \"name\": \"Gabriel Martinelli\", \"showlegend\": true, \"type\": \"scatter\", \"x\": [-0.11354188434779645], \"xaxis\": \"x\", \"y\": [0.11354188434779645], \"yaxis\": \"y\"}, {\"hovertemplate\": \"<b>%{hovertext}</b><br><br>player_name=Tomas Soucek<br>Assist and XA Difference=%{x}<br>xA=%{y}<br>assists=%{marker.size}<extra></extra>\", \"hovertext\": [\"Tomas Soucek\"], \"legendgroup\": \"Tomas Soucek\", \"marker\": {\"color\": \"#FFA15A\", \"size\": [0], \"sizemode\": \"area\", \"sizeref\": 0.025, \"symbol\": \"circle\"}, \"mode\": \"markers\", \"name\": \"Tomas Soucek\", \"showlegend\": true, \"type\": \"scatter\", \"x\": [-0.3432552432641387], \"xaxis\": \"x\", \"y\": [0.3432552432641387], \"yaxis\": \"y\"}, {\"hovertemplate\": \"<b>%{hovertext}</b><br><br>player_name=Ilkay G\\u00fcndogan<br>Assist and XA Difference=%{x}<br>xA=%{y}<br>assists=%{marker.size}<extra></extra>\", \"hovertext\": [\"Ilkay G\\u00fcndogan\"], \"legendgroup\": \"Ilkay G\\u00fcndogan\", \"marker\": {\"color\": \"#19d3f3\", \"size\": [1], \"sizemode\": \"area\", \"sizeref\": 0.025, \"symbol\": \"circle\"}, \"mode\": \"markers\", \"name\": \"Ilkay G\\u00fcndogan\", \"showlegend\": true, \"type\": \"scatter\", \"x\": [-1.9191963784396648], \"xaxis\": \"x\", \"y\": [2.919196378439665], \"yaxis\": \"y\"}, {\"hovertemplate\": \"<b>%{hovertext}</b><br><br>player_name=Theo Walcott<br>Assist and XA Difference=%{x}<br>xA=%{y}<br>assists=%{marker.size}<extra></extra>\", \"hovertext\": [\"Theo Walcott\"], \"legendgroup\": \"Theo Walcott\", \"marker\": {\"color\": \"#FF6692\", \"size\": [3], \"sizemode\": \"area\", \"sizeref\": 0.025, \"symbol\": \"circle\"}, \"mode\": \"markers\", \"name\": \"Theo Walcott\", \"showlegend\": true, \"type\": \"scatter\", \"x\": [-0.9733672887086868], \"xaxis\": \"x\", \"y\": [3.973367288708687], \"yaxis\": \"y\"}, {\"hovertemplate\": \"<b>%{hovertext}</b><br><br>player_name=Ashley Westwood<br>Assist and XA Difference=%{x}<br>xA=%{y}<br>assists=%{marker.size}<extra></extra>\", \"hovertext\": [\"Ashley Westwood\"], \"legendgroup\": \"Ashley Westwood\", \"marker\": {\"color\": \"#B6E880\", \"size\": [6], \"sizemode\": \"area\", \"sizeref\": 0.025, \"symbol\": \"circle\"}, \"mode\": \"markers\", \"name\": \"Ashley Westwood\", \"showlegend\": true, \"type\": \"scatter\", \"x\": [-1.0769018754363069], \"xaxis\": \"x\", \"y\": [7.076901875436307], \"yaxis\": \"y\"}, {\"hovertemplate\": \"<b>%{hovertext}</b><br><br>player_name=Gylfi Sigurdsson<br>Assist and XA Difference=%{x}<br>xA=%{y}<br>assists=%{marker.size}<extra></extra>\", \"hovertext\": [\"Gylfi Sigurdsson\"], \"legendgroup\": \"Gylfi Sigurdsson\", \"marker\": {\"color\": \"#FF97FF\", \"size\": [3], \"sizemode\": \"area\", \"sizeref\": 0.025, \"symbol\": \"circle\"}, \"mode\": \"markers\", \"name\": \"Gylfi Sigurdsson\", \"showlegend\": true, \"type\": \"scatter\", \"x\": [-1.0116059454157948], \"xaxis\": \"x\", \"y\": [4.011605945415795], \"yaxis\": \"y\"}, {\"hovertemplate\": \"<b>%{hovertext}</b><br><br>player_name=Demarai Gray<br>Assist and XA Difference=%{x}<br>xA=%{y}<br>assists=%{marker.size}<extra></extra>\", \"hovertext\": [\"Demarai Gray\"], \"legendgroup\": \"Demarai Gray\", \"marker\": {\"color\": \"#FECB52\", \"size\": [3], \"sizemode\": \"area\", \"sizeref\": 0.025, \"symbol\": \"circle\"}, \"mode\": \"markers\", \"name\": \"Demarai Gray\", \"showlegend\": true, \"type\": \"scatter\", \"x\": [0.7660441175103192], \"xaxis\": \"x\", \"y\": [2.233955882489681], \"yaxis\": \"y\"}, {\"hovertemplate\": \"<b>%{hovertext}</b><br><br>player_name=Jeff Hendrick<br>Assist and XA Difference=%{x}<br>xA=%{y}<br>assists=%{marker.size}<extra></extra>\", \"hovertext\": [\"Jeff Hendrick\"], \"legendgroup\": \"Jeff Hendrick\", \"marker\": {\"color\": \"#636efa\", \"size\": [2], \"sizemode\": \"area\", \"sizeref\": 0.025, \"symbol\": \"circle\"}, \"mode\": \"markers\", \"name\": \"Jeff Hendrick\", \"showlegend\": true, \"type\": \"scatter\", \"x\": [0.6212511463090775], \"xaxis\": \"x\", \"y\": [1.3787488536909225], \"yaxis\": \"y\"}, {\"hovertemplate\": \"<b>%{hovertext}</b><br><br>player_name=Jonny<br>Assist and XA Difference=%{x}<br>xA=%{y}<br>assists=%{marker.size}<extra></extra>\", \"hovertext\": [\"Jonny\"], \"legendgroup\": \"Jonny\", \"marker\": {\"color\": \"#EF553B\", \"size\": [2], \"sizemode\": \"area\", \"sizeref\": 0.025, \"symbol\": \"circle\"}, \"mode\": \"markers\", \"name\": \"Jonny\", \"showlegend\": true, \"type\": \"scatter\", \"x\": [0.43318797647953033], \"xaxis\": \"x\", \"y\": [1.5668120235204697], \"yaxis\": \"y\"}, {\"hovertemplate\": \"<b>%{hovertext}</b><br><br>player_name=Pablo Fornals<br>Assist and XA Difference=%{x}<br>xA=%{y}<br>assists=%{marker.size}<extra></extra>\", \"hovertext\": [\"Pablo Fornals\"], \"legendgroup\": \"Pablo Fornals\", \"marker\": {\"color\": \"#00cc96\", \"size\": [5], \"sizemode\": \"area\", \"sizeref\": 0.025, \"symbol\": \"circle\"}, \"mode\": \"markers\", \"name\": \"Pablo Fornals\", \"showlegend\": true, \"type\": \"scatter\", \"x\": [2.700946873053908], \"xaxis\": \"x\", \"y\": [2.299053126946092], \"yaxis\": \"y\"}, {\"hovertemplate\": \"<b>%{hovertext}</b><br><br>player_name=Fabinho<br>Assist and XA Difference=%{x}<br>xA=%{y}<br>assists=%{marker.size}<extra></extra>\", \"hovertext\": [\"Fabinho\"], \"legendgroup\": \"Fabinho\", \"marker\": {\"color\": \"#ab63fa\", \"size\": [3], \"sizemode\": \"area\", \"sizeref\": 0.025, \"symbol\": \"circle\"}, \"mode\": \"markers\", \"name\": \"Fabinho\", \"showlegend\": true, \"type\": \"scatter\", \"x\": [1.3248598827049136], \"xaxis\": \"x\", \"y\": [1.6751401172950864], \"yaxis\": \"y\"}, {\"hovertemplate\": \"<b>%{hovertext}</b><br><br>player_name=Naby Keita<br>Assist and XA Difference=%{x}<br>xA=%{y}<br>assists=%{marker.size}<extra></extra>\", \"hovertext\": [\"Naby Keita\"], \"legendgroup\": \"Naby Keita\", \"marker\": {\"color\": \"#FFA15A\", \"size\": [3], \"sizemode\": \"area\", \"sizeref\": 0.025, \"symbol\": \"circle\"}, \"mode\": \"markers\", \"name\": \"Naby Keita\", \"showlegend\": true, \"type\": \"scatter\", \"x\": [-0.2155438680201769], \"xaxis\": \"x\", \"y\": [3.215543868020177], \"yaxis\": \"y\"}, {\"hovertemplate\": \"<b>%{hovertext}</b><br><br>player_name=Wilfred Ndidi<br>Assist and XA Difference=%{x}<br>xA=%{y}<br>assists=%{marker.size}<extra></extra>\", \"hovertext\": [\"Wilfred Ndidi\"], \"legendgroup\": \"Wilfred Ndidi\", \"marker\": {\"color\": \"#19d3f3\", \"size\": [1], \"sizemode\": \"area\", \"sizeref\": 0.025, \"symbol\": \"circle\"}, \"mode\": \"markers\", \"name\": \"Wilfred Ndidi\", \"showlegend\": true, \"type\": \"scatter\", \"x\": [0.40833439212292433], \"xaxis\": \"x\", \"y\": [0.5916656078770757], \"yaxis\": \"y\"}, {\"hovertemplate\": \"<b>%{hovertext}</b><br><br>player_name=Tanguy NDombele Alvaro<br>Assist and XA Difference=%{x}<br>xA=%{y}<br>assists=%{marker.size}<extra></extra>\", \"hovertext\": [\"Tanguy NDombele Alvaro\"], \"legendgroup\": \"Tanguy NDombele Alvaro\", \"marker\": {\"color\": \"#FF6692\", \"size\": [2], \"sizemode\": \"area\", \"sizeref\": 0.025, \"symbol\": \"circle\"}, \"mode\": \"markers\", \"name\": \"Tanguy NDombele Alvaro\", \"showlegend\": true, \"type\": \"scatter\", \"x\": [1.2024954911321402], \"xaxis\": \"x\", \"y\": [0.7975045088678598], \"yaxis\": \"y\"}, {\"hovertemplate\": \"<b>%{hovertext}</b><br><br>player_name=Dwight McNeil<br>Assist and XA Difference=%{x}<br>xA=%{y}<br>assists=%{marker.size}<extra></extra>\", \"hovertext\": [\"Dwight McNeil\"], \"legendgroup\": \"Dwight McNeil\", \"marker\": {\"color\": \"#B6E880\", \"size\": [6], \"sizemode\": \"area\", \"sizeref\": 0.025, \"symbol\": \"circle\"}, \"mode\": \"markers\", \"name\": \"Dwight McNeil\", \"showlegend\": true, \"type\": \"scatter\", \"x\": [-1.5624299999326476], \"xaxis\": \"x\", \"y\": [7.562429999932648], \"yaxis\": \"y\"}, {\"hovertemplate\": \"<b>%{hovertext}</b><br><br>player_name=R\\u00faben Neves<br>Assist and XA Difference=%{x}<br>xA=%{y}<br>assists=%{marker.size}<extra></extra>\", \"hovertext\": [\"R\\u00faben Neves\"], \"legendgroup\": \"R\\u00faben Neves\", \"marker\": {\"color\": \"#FF97FF\", \"size\": [2], \"sizemode\": \"area\", \"sizeref\": 0.025, \"symbol\": \"circle\"}, \"mode\": \"markers\", \"name\": \"R\\u00faben Neves\", \"showlegend\": true, \"type\": \"scatter\", \"x\": [-0.6060938835144043], \"xaxis\": \"x\", \"y\": [2.6060938835144043], \"yaxis\": \"y\"}, {\"hovertemplate\": \"<b>%{hovertext}</b><br><br>player_name=George Baldock<br>Assist and XA Difference=%{x}<br>xA=%{y}<br>assists=%{marker.size}<extra></extra>\", \"hovertext\": [\"George Baldock\"], \"legendgroup\": \"George Baldock\", \"marker\": {\"color\": \"#FECB52\", \"size\": [3], \"sizemode\": \"area\", \"sizeref\": 0.025, \"symbol\": \"circle\"}, \"mode\": \"markers\", \"name\": \"George Baldock\", \"showlegend\": true, \"type\": \"scatter\", \"x\": [1.3746910402551291], \"xaxis\": \"x\", \"y\": [1.6253089597448709], \"yaxis\": \"y\"}, {\"hovertemplate\": \"<b>%{hovertext}</b><br><br>player_name=Enda Stevens<br>Assist and XA Difference=%{x}<br>xA=%{y}<br>assists=%{marker.size}<extra></extra>\", \"hovertext\": [\"Enda Stevens\"], \"legendgroup\": \"Enda Stevens\", \"marker\": {\"color\": \"#636efa\", \"size\": [4], \"sizemode\": \"area\", \"sizeref\": 0.025, \"symbol\": \"circle\"}, \"mode\": \"markers\", \"name\": \"Enda Stevens\", \"showlegend\": true, \"type\": \"scatter\", \"x\": [-1.4148625014349818], \"xaxis\": \"x\", \"y\": [5.414862501434982], \"yaxis\": \"y\"}, {\"hovertemplate\": \"<b>%{hovertext}</b><br><br>player_name=Matthew Longstaff<br>Assist and XA Difference=%{x}<br>xA=%{y}<br>assists=%{marker.size}<extra></extra>\", \"hovertext\": [\"Matthew Longstaff\"], \"legendgroup\": \"Matthew Longstaff\", \"marker\": {\"color\": \"#EF553B\", \"size\": [0], \"sizemode\": \"area\", \"sizeref\": 0.025, \"symbol\": \"circle\"}, \"mode\": \"markers\", \"name\": \"Matthew Longstaff\", \"showlegend\": true, \"type\": \"scatter\", \"x\": [-0.18956130929291248], \"xaxis\": \"x\", \"y\": [0.18956130929291248], \"yaxis\": \"y\"}, {\"hovertemplate\": \"<b>%{hovertext}</b><br><br>player_name=Mario Vrancic<br>Assist and XA Difference=%{x}<br>xA=%{y}<br>assists=%{marker.size}<extra></extra>\", \"hovertext\": [\"Mario Vrancic\"], \"legendgroup\": \"Mario Vrancic\", \"marker\": {\"color\": \"#00cc96\", \"size\": [0], \"sizemode\": \"area\", \"sizeref\": 0.025, \"symbol\": \"circle\"}, \"mode\": \"markers\", \"name\": \"Mario Vrancic\", \"showlegend\": true, \"type\": \"scatter\", \"x\": [-1.0300541585311294], \"xaxis\": \"x\", \"y\": [1.0300541585311294], \"yaxis\": \"y\"}, {\"hovertemplate\": \"<b>%{hovertext}</b><br><br>player_name=Granit Xhaka<br>Assist and XA Difference=%{x}<br>xA=%{y}<br>assists=%{marker.size}<extra></extra>\", \"hovertext\": [\"Granit Xhaka\"], \"legendgroup\": \"Granit Xhaka\", \"marker\": {\"color\": \"#ab63fa\", \"size\": [2], \"sizemode\": \"area\", \"sizeref\": 0.025, \"symbol\": \"circle\"}, \"mode\": \"markers\", \"name\": \"Granit Xhaka\", \"showlegend\": true, \"type\": \"scatter\", \"x\": [1.0278033670037985], \"xaxis\": \"x\", \"y\": [0.9721966329962016], \"yaxis\": \"y\"}, {\"hovertemplate\": \"<b>%{hovertext}</b><br><br>player_name=Adam Lallana<br>Assist and XA Difference=%{x}<br>xA=%{y}<br>assists=%{marker.size}<extra></extra>\", \"hovertext\": [\"Adam Lallana\"], \"legendgroup\": \"Adam Lallana\", \"marker\": {\"color\": \"#FFA15A\", \"size\": [1], \"sizemode\": \"area\", \"sizeref\": 0.025, \"symbol\": \"circle\"}, \"mode\": \"markers\", \"name\": \"Adam Lallana\", \"showlegend\": true, \"type\": \"scatter\", \"x\": [0.3463284447789192], \"xaxis\": \"x\", \"y\": [0.6536715552210808], \"yaxis\": \"y\"}, {\"hovertemplate\": \"<b>%{hovertext}</b><br><br>player_name=Mesut \\u00d6zil<br>Assist and XA Difference=%{x}<br>xA=%{y}<br>assists=%{marker.size}<extra></extra>\", \"hovertext\": [\"Mesut \\u00d6zil\"], \"legendgroup\": \"Mesut \\u00d6zil\", \"marker\": {\"color\": \"#19d3f3\", \"size\": [2], \"sizemode\": \"area\", \"sizeref\": 0.025, \"symbol\": \"circle\"}, \"mode\": \"markers\", \"name\": \"Mesut \\u00d6zil\", \"showlegend\": true, \"type\": \"scatter\", \"x\": [-0.28740838542580605], \"xaxis\": \"x\", \"y\": [2.287408385425806], \"yaxis\": \"y\"}, {\"hovertemplate\": \"<b>%{hovertext}</b><br><br>player_name=Jesse Lingard<br>Assist and XA Difference=%{x}<br>xA=%{y}<br>assists=%{marker.size}<extra></extra>\", \"hovertext\": [\"Jesse Lingard\"], \"legendgroup\": \"Jesse Lingard\", \"marker\": {\"color\": \"#FF6692\", \"size\": [0], \"sizemode\": \"area\", \"sizeref\": 0.025, \"symbol\": \"circle\"}, \"mode\": \"markers\", \"name\": \"Jesse Lingard\", \"showlegend\": true, \"type\": \"scatter\", \"x\": [-1.1104203211143613], \"xaxis\": \"x\", \"y\": [1.1104203211143613], \"yaxis\": \"y\"}, {\"hovertemplate\": \"<b>%{hovertext}</b><br><br>player_name=Ross Barkley<br>Assist and XA Difference=%{x}<br>xA=%{y}<br>assists=%{marker.size}<extra></extra>\", \"hovertext\": [\"Ross Barkley\"], \"legendgroup\": \"Ross Barkley\", \"marker\": {\"color\": \"#B6E880\", \"size\": [4], \"sizemode\": \"area\", \"sizeref\": 0.025, \"symbol\": \"circle\"}, \"mode\": \"markers\", \"name\": \"Ross Barkley\", \"showlegend\": true, \"type\": \"scatter\", \"x\": [1.1397564429789782], \"xaxis\": \"x\", \"y\": [2.860243557021022], \"yaxis\": \"y\"}, {\"hovertemplate\": \"<b>%{hovertext}</b><br><br>player_name=Tom Cleverley<br>Assist and XA Difference=%{x}<br>xA=%{y}<br>assists=%{marker.size}<extra></extra>\", \"hovertext\": [\"Tom Cleverley\"], \"legendgroup\": \"Tom Cleverley\", \"marker\": {\"color\": \"#FF97FF\", \"size\": [0], \"sizemode\": \"area\", \"sizeref\": 0.025, \"symbol\": \"circle\"}, \"mode\": \"markers\", \"name\": \"Tom Cleverley\", \"showlegend\": true, \"type\": \"scatter\", \"x\": [-0.7182993106544018], \"xaxis\": \"x\", \"y\": [0.7182993106544018], \"yaxis\": \"y\"}, {\"hovertemplate\": \"<b>%{hovertext}</b><br><br>player_name=Andros Townsend<br>Assist and XA Difference=%{x}<br>xA=%{y}<br>assists=%{marker.size}<extra></extra>\", \"hovertext\": [\"Andros Townsend\"], \"legendgroup\": \"Andros Townsend\", \"marker\": {\"color\": \"#FECB52\", \"size\": [1], \"sizemode\": \"area\", \"sizeref\": 0.025, \"symbol\": \"circle\"}, \"mode\": \"markers\", \"name\": \"Andros Townsend\", \"showlegend\": true, \"type\": \"scatter\", \"x\": [-0.7137907668948174], \"xaxis\": \"x\", \"y\": [1.7137907668948174], \"yaxis\": \"y\"}, {\"hovertemplate\": \"<b>%{hovertext}</b><br><br>player_name=Robbie Brady<br>Assist and XA Difference=%{x}<br>xA=%{y}<br>assists=%{marker.size}<extra></extra>\", \"hovertext\": [\"Robbie Brady\"], \"legendgroup\": \"Robbie Brady\", \"marker\": {\"color\": \"#636efa\", \"size\": [2], \"sizemode\": \"area\", \"sizeref\": 0.025, \"symbol\": \"circle\"}, \"mode\": \"markers\", \"name\": \"Robbie Brady\", \"showlegend\": true, \"type\": \"scatter\", \"x\": [1.6824502609670162], \"xaxis\": \"x\", \"y\": [0.3175497390329838], \"yaxis\": \"y\"}, {\"hovertemplate\": \"<b>%{hovertext}</b><br><br>player_name=Xherdan Shaqiri<br>Assist and XA Difference=%{x}<br>xA=%{y}<br>assists=%{marker.size}<extra></extra>\", \"hovertext\": [\"Xherdan Shaqiri\"], \"legendgroup\": \"Xherdan Shaqiri\", \"marker\": {\"color\": \"#EF553B\", \"size\": [0], \"sizemode\": \"area\", \"sizeref\": 0.025, \"symbol\": \"circle\"}, \"mode\": \"markers\", \"name\": \"Xherdan Shaqiri\", \"showlegend\": true, \"type\": \"scatter\", \"x\": [-0.1784982606768608], \"xaxis\": \"x\", \"y\": [0.1784982606768608], \"yaxis\": \"y\"}, {\"hovertemplate\": \"<b>%{hovertext}</b><br><br>player_name=Andreas Pereira<br>Assist and XA Difference=%{x}<br>xA=%{y}<br>assists=%{marker.size}<extra></extra>\", \"hovertext\": [\"Andreas Pereira\"], \"legendgroup\": \"Andreas Pereira\", \"marker\": {\"color\": \"#00cc96\", \"size\": [3], \"sizemode\": \"area\", \"sizeref\": 0.025, \"symbol\": \"circle\"}, \"mode\": \"markers\", \"name\": \"Andreas Pereira\", \"showlegend\": true, \"type\": \"scatter\", \"x\": [-0.7079232446849351], \"xaxis\": \"x\", \"y\": [3.707923244684935], \"yaxis\": \"y\"}, {\"hovertemplate\": \"<b>%{hovertext}</b><br><br>player_name=Tom Davies<br>Assist and XA Difference=%{x}<br>xA=%{y}<br>assists=%{marker.size}<extra></extra>\", \"hovertext\": [\"Tom Davies\"], \"legendgroup\": \"Tom Davies\", \"marker\": {\"color\": \"#ab63fa\", \"size\": [0], \"sizemode\": \"area\", \"sizeref\": 0.025, \"symbol\": \"circle\"}, \"mode\": \"markers\", \"name\": \"Tom Davies\", \"showlegend\": true, \"type\": \"scatter\", \"x\": [-0.5344789810478687], \"xaxis\": \"x\", \"y\": [0.5344789810478687], \"yaxis\": \"y\"}, {\"hovertemplate\": \"<b>%{hovertext}</b><br><br>player_name=Felipe Anderson<br>Assist and XA Difference=%{x}<br>xA=%{y}<br>assists=%{marker.size}<extra></extra>\", \"hovertext\": [\"Felipe Anderson\"], \"legendgroup\": \"Felipe Anderson\", \"marker\": {\"color\": \"#FFA15A\", \"size\": [4], \"sizemode\": \"area\", \"sizeref\": 0.025, \"symbol\": \"circle\"}, \"mode\": \"markers\", \"name\": \"Felipe Anderson\", \"showlegend\": true, \"type\": \"scatter\", \"x\": [1.3525222204625602], \"xaxis\": \"x\", \"y\": [2.64747777953744], \"yaxis\": \"y\"}, {\"hovertemplate\": \"<b>%{hovertext}</b><br><br>player_name=Lucas Torreira<br>Assist and XA Difference=%{x}<br>xA=%{y}<br>assists=%{marker.size}<extra></extra>\", \"hovertext\": [\"Lucas Torreira\"], \"legendgroup\": \"Lucas Torreira\", \"marker\": {\"color\": \"#19d3f3\", \"size\": [1], \"sizemode\": \"area\", \"sizeref\": 0.025, \"symbol\": \"circle\"}, \"mode\": \"markers\", \"name\": \"Lucas Torreira\", \"showlegend\": true, \"type\": \"scatter\", \"x\": [0.17419202718883753], \"xaxis\": \"x\", \"y\": [0.8258079728111625], \"yaxis\": \"y\"}, {\"hovertemplate\": \"<b>%{hovertext}</b><br><br>player_name=Dennis Praet<br>Assist and XA Difference=%{x}<br>xA=%{y}<br>assists=%{marker.size}<extra></extra>\", \"hovertext\": [\"Dennis Praet\"], \"legendgroup\": \"Dennis Praet\", \"marker\": {\"color\": \"#FF6692\", \"size\": [2], \"sizemode\": \"area\", \"sizeref\": 0.025, \"symbol\": \"circle\"}, \"mode\": \"markers\", \"name\": \"Dennis Praet\", \"showlegend\": true, \"type\": \"scatter\", \"x\": [0.5071192793548107], \"xaxis\": \"x\", \"y\": [1.4928807206451893], \"yaxis\": \"y\"}, {\"hovertemplate\": \"<b>%{hovertext}</b><br><br>player_name=Johann Berg Gudmundsson<br>Assist and XA Difference=%{x}<br>xA=%{y}<br>assists=%{marker.size}<extra></extra>\", \"hovertext\": [\"Johann Berg Gudmundsson\"], \"legendgroup\": \"Johann Berg Gudmundsson\", \"marker\": {\"color\": \"#B6E880\", \"size\": [1], \"sizemode\": \"area\", \"sizeref\": 0.025, \"symbol\": \"circle\"}, \"mode\": \"markers\", \"name\": \"Johann Berg Gudmundsson\", \"showlegend\": true, \"type\": \"scatter\", \"x\": [0.08192575722932816], \"xaxis\": \"x\", \"y\": [0.9180742427706718], \"yaxis\": \"y\"}, {\"hovertemplate\": \"<b>%{hovertext}</b><br><br>player_name=Paul Pogba<br>Assist and XA Difference=%{x}<br>xA=%{y}<br>assists=%{marker.size}<extra></extra>\", \"hovertext\": [\"Paul Pogba\"], \"legendgroup\": \"Paul Pogba\", \"marker\": {\"color\": \"#FF97FF\", \"size\": [3], \"sizemode\": \"area\", \"sizeref\": 0.025, \"symbol\": \"circle\"}, \"mode\": \"markers\", \"name\": \"Paul Pogba\", \"showlegend\": true, \"type\": \"scatter\", \"x\": [-0.0561917126178737], \"xaxis\": \"x\", \"y\": [3.0561917126178737], \"yaxis\": \"y\"}, {\"hovertemplate\": \"<b>%{hovertext}</b><br><br>player_name=Jarrod Bowen<br>Assist and XA Difference=%{x}<br>xA=%{y}<br>assists=%{marker.size}<extra></extra>\", \"hovertext\": [\"Jarrod Bowen\"], \"legendgroup\": \"Jarrod Bowen\", \"marker\": {\"color\": \"#FECB52\", \"size\": [4], \"sizemode\": \"area\", \"sizeref\": 0.025, \"symbol\": \"circle\"}, \"mode\": \"markers\", \"name\": \"Jarrod Bowen\", \"showlegend\": true, \"type\": \"scatter\", \"x\": [1.3876019865274434], \"xaxis\": \"x\", \"y\": [2.6123980134725566], \"yaxis\": \"y\"}, {\"hovertemplate\": \"<b>%{hovertext}</b><br><br>player_name=Jefferson Lerma<br>Assist and XA Difference=%{x}<br>xA=%{y}<br>assists=%{marker.size}<extra></extra>\", \"hovertext\": [\"Jefferson Lerma\"], \"legendgroup\": \"Jefferson Lerma\", \"marker\": {\"color\": \"#636efa\", \"size\": [2], \"sizemode\": \"area\", \"sizeref\": 0.025, \"symbol\": \"circle\"}, \"mode\": \"markers\", \"name\": \"Jefferson Lerma\", \"showlegend\": true, \"type\": \"scatter\", \"x\": [0.4686969192698598], \"xaxis\": \"x\", \"y\": [1.5313030807301402], \"yaxis\": \"y\"}, {\"hovertemplate\": \"<b>%{hovertext}</b><br><br>player_name=Emiliano Buend\\u00eda<br>Assist and XA Difference=%{x}<br>xA=%{y}<br>assists=%{marker.size}<extra></extra>\", \"hovertext\": [\"Emiliano Buend\\u00eda\"], \"legendgroup\": \"Emiliano Buend\\u00eda\", \"marker\": {\"color\": \"#EF553B\", \"size\": [7], \"sizemode\": \"area\", \"sizeref\": 0.025, \"symbol\": \"circle\"}, \"mode\": \"markers\", \"name\": \"Emiliano Buend\\u00eda\", \"showlegend\": true, \"type\": \"scatter\", \"x\": [-0.19096221216023057], \"xaxis\": \"x\", \"y\": [7.190962212160231], \"yaxis\": \"y\"}, {\"hovertemplate\": \"<b>%{hovertext}</b><br><br>player_name=Mateo Kovacic<br>Assist and XA Difference=%{x}<br>xA=%{y}<br>assists=%{marker.size}<extra></extra>\", \"hovertext\": [\"Mateo Kovacic\"], \"legendgroup\": \"Mateo Kovacic\", \"marker\": {\"color\": \"#00cc96\", \"size\": [3], \"sizemode\": \"area\", \"sizeref\": 0.025, \"symbol\": \"circle\"}, \"mode\": \"markers\", \"name\": \"Mateo Kovacic\", \"showlegend\": true, \"type\": \"scatter\", \"x\": [1.1515468042343855], \"xaxis\": \"x\", \"y\": [1.8484531957656145], \"yaxis\": \"y\"}, {\"hovertemplate\": \"<b>%{hovertext}</b><br><br>player_name=Jo\\u00e3o Moutinho<br>Assist and XA Difference=%{x}<br>xA=%{y}<br>assists=%{marker.size}<extra></extra>\", \"hovertext\": [\"Jo\\u00e3o Moutinho\"], \"legendgroup\": \"Jo\\u00e3o Moutinho\", \"marker\": {\"color\": \"#ab63fa\", \"size\": [6], \"sizemode\": \"area\", \"sizeref\": 0.025, \"symbol\": \"circle\"}, \"mode\": \"markers\", \"name\": \"Jo\\u00e3o Moutinho\", \"showlegend\": true, \"type\": \"scatter\", \"x\": [-0.7750435490161172], \"xaxis\": \"x\", \"y\": [6.775043549016117], \"yaxis\": \"y\"}, {\"hovertemplate\": \"<b>%{hovertext}</b><br><br>player_name=Yves Bissouma<br>Assist and XA Difference=%{x}<br>xA=%{y}<br>assists=%{marker.size}<extra></extra>\", \"hovertext\": [\"Yves Bissouma\"], \"legendgroup\": \"Yves Bissouma\", \"marker\": {\"color\": \"#FFA15A\", \"size\": [0], \"sizemode\": \"area\", \"sizeref\": 0.025, \"symbol\": \"circle\"}, \"mode\": \"markers\", \"name\": \"Yves Bissouma\", \"showlegend\": true, \"type\": \"scatter\", \"x\": [-0.13574092276394367], \"xaxis\": \"x\", \"y\": [0.13574092276394367], \"yaxis\": \"y\"}, {\"hovertemplate\": \"<b>%{hovertext}</b><br><br>player_name=Philip Billing<br>Assist and XA Difference=%{x}<br>xA=%{y}<br>assists=%{marker.size}<extra></extra>\", \"hovertext\": [\"Philip Billing\"], \"legendgroup\": \"Philip Billing\", \"marker\": {\"color\": \"#19d3f3\", \"size\": [1], \"sizemode\": \"area\", \"sizeref\": 0.025, \"symbol\": \"circle\"}, \"mode\": \"markers\", \"name\": \"Philip Billing\", \"showlegend\": true, \"type\": \"scatter\", \"x\": [-0.4344308190047741], \"xaxis\": \"x\", \"y\": [1.434430819004774], \"yaxis\": \"y\"}, {\"hovertemplate\": \"<b>%{hovertext}</b><br><br>player_name=Davy Pr\\u00f6pper<br>Assist and XA Difference=%{x}<br>xA=%{y}<br>assists=%{marker.size}<extra></extra>\", \"hovertext\": [\"Davy Pr\\u00f6pper\"], \"legendgroup\": \"Davy Pr\\u00f6pper\", \"marker\": {\"color\": \"#FF6692\", \"size\": [2], \"sizemode\": \"area\", \"sizeref\": 0.025, \"symbol\": \"circle\"}, \"mode\": \"markers\", \"name\": \"Davy Pr\\u00f6pper\", \"showlegend\": true, \"type\": \"scatter\", \"x\": [-0.9777765087783337], \"xaxis\": \"x\", \"y\": [2.9777765087783337], \"yaxis\": \"y\"}, {\"hovertemplate\": \"<b>%{hovertext}</b><br><br>player_name=Will Hughes<br>Assist and XA Difference=%{x}<br>xA=%{y}<br>assists=%{marker.size}<extra></extra>\", \"hovertext\": [\"Will Hughes\"], \"legendgroup\": \"Will Hughes\", \"marker\": {\"color\": \"#B6E880\", \"size\": [1], \"sizemode\": \"area\", \"sizeref\": 0.025, \"symbol\": \"circle\"}, \"mode\": \"markers\", \"name\": \"Will Hughes\", \"showlegend\": true, \"type\": \"scatter\", \"x\": [-1.1773148719221358], \"xaxis\": \"x\", \"y\": [2.177314871922136], \"yaxis\": \"y\"}, {\"hovertemplate\": \"<b>%{hovertext}</b><br><br>player_name=Hamza Choudhury<br>Assist and XA Difference=%{x}<br>xA=%{y}<br>assists=%{marker.size}<extra></extra>\", \"hovertext\": [\"Hamza Choudhury\"], \"legendgroup\": \"Hamza Choudhury\", \"marker\": {\"color\": \"#FF97FF\", \"size\": [1], \"sizemode\": \"area\", \"sizeref\": 0.025, \"symbol\": \"circle\"}, \"mode\": \"markers\", \"name\": \"Hamza Choudhury\", \"showlegend\": true, \"type\": \"scatter\", \"x\": [0.8871623575687408], \"xaxis\": \"x\", \"y\": [0.11283764243125916], \"yaxis\": \"y\"}, {\"hovertemplate\": \"<b>%{hovertext}</b><br><br>player_name=Joe Willock<br>Assist and XA Difference=%{x}<br>xA=%{y}<br>assists=%{marker.size}<extra></extra>\", \"hovertext\": [\"Joe Willock\"], \"legendgroup\": \"Joe Willock\", \"marker\": {\"color\": \"#FECB52\", \"size\": [1], \"sizemode\": \"area\", \"sizeref\": 0.025, \"symbol\": \"circle\"}, \"mode\": \"markers\", \"name\": \"Joe Willock\", \"showlegend\": true, \"type\": \"scatter\", \"x\": [-0.046809496358036995], \"xaxis\": \"x\", \"y\": [1.046809496358037], \"yaxis\": \"y\"}, {\"hovertemplate\": \"<b>%{hovertext}</b><br><br>player_name=Curtis Jones<br>Assist and XA Difference=%{x}<br>xA=%{y}<br>assists=%{marker.size}<extra></extra>\", \"hovertext\": [\"Curtis Jones\"], \"legendgroup\": \"Curtis Jones\", \"marker\": {\"color\": \"#636efa\", \"size\": [0], \"sizemode\": \"area\", \"sizeref\": 0.025, \"symbol\": \"circle\"}, \"mode\": \"markers\", \"name\": \"Curtis Jones\", \"showlegend\": true, \"type\": \"scatter\", \"x\": [0.0], \"xaxis\": \"x\", \"y\": [0.0], \"yaxis\": \"y\"}, {\"hovertemplate\": \"<b>%{hovertext}</b><br><br>player_name=David Brooks<br>Assist and XA Difference=%{x}<br>xA=%{y}<br>assists=%{marker.size}<extra></extra>\", \"hovertext\": [\"David Brooks\"], \"legendgroup\": \"David Brooks\", \"marker\": {\"color\": \"#EF553B\", \"size\": [0], \"sizemode\": \"area\", \"sizeref\": 0.025, \"symbol\": \"circle\"}, \"mode\": \"markers\", \"name\": \"David Brooks\", \"showlegend\": true, \"type\": \"scatter\", \"x\": [-0.5346464300528169], \"xaxis\": \"x\", \"y\": [0.5346464300528169], \"yaxis\": \"y\"}, {\"hovertemplate\": \"<b>%{hovertext}</b><br><br>player_name=Sean Longstaff<br>Assist and XA Difference=%{x}<br>xA=%{y}<br>assists=%{marker.size}<extra></extra>\", \"hovertext\": [\"Sean Longstaff\"], \"legendgroup\": \"Sean Longstaff\", \"marker\": {\"color\": \"#00cc96\", \"size\": [1], \"sizemode\": \"area\", \"sizeref\": 0.025, \"symbol\": \"circle\"}, \"mode\": \"markers\", \"name\": \"Sean Longstaff\", \"showlegend\": true, \"type\": \"scatter\", \"x\": [0.06634076498448838], \"xaxis\": \"x\", \"y\": [0.9336592350155116], \"yaxis\": \"y\"}, {\"hovertemplate\": \"<b>%{hovertext}</b><br><br>player_name=Kenny McLean<br>Assist and XA Difference=%{x}<br>xA=%{y}<br>assists=%{marker.size}<extra></extra>\", \"hovertext\": [\"Kenny McLean\"], \"legendgroup\": \"Kenny McLean\", \"marker\": {\"color\": \"#ab63fa\", \"size\": [1], \"sizemode\": \"area\", \"sizeref\": 0.025, \"symbol\": \"circle\"}, \"mode\": \"markers\", \"name\": \"Kenny McLean\", \"showlegend\": true, \"type\": \"scatter\", \"x\": [-1.622597435489297], \"xaxis\": \"x\", \"y\": [2.622597435489297], \"yaxis\": \"y\"}, {\"hovertemplate\": \"<b>%{hovertext}</b><br><br>player_name=Onel Hern\\u00e1ndez<br>Assist and XA Difference=%{x}<br>xA=%{y}<br>assists=%{marker.size}<extra></extra>\", \"hovertext\": [\"Onel Hern\\u00e1ndez\"], \"legendgroup\": \"Onel Hern\\u00e1ndez\", \"marker\": {\"color\": \"#FFA15A\", \"size\": [2], \"sizemode\": \"area\", \"sizeref\": 0.025, \"symbol\": \"circle\"}, \"mode\": \"markers\", \"name\": \"Onel Hern\\u00e1ndez\", \"showlegend\": true, \"type\": \"scatter\", \"x\": [1.0837680827826262], \"xaxis\": \"x\", \"y\": [0.9162319172173738], \"yaxis\": \"y\"}, {\"hovertemplate\": \"<b>%{hovertext}</b><br><br>player_name=Oliver Norwood<br>Assist and XA Difference=%{x}<br>xA=%{y}<br>assists=%{marker.size}<extra></extra>\", \"hovertext\": [\"Oliver Norwood\"], \"legendgroup\": \"Oliver Norwood\", \"marker\": {\"color\": \"#19d3f3\", \"size\": [1], \"sizemode\": \"area\", \"sizeref\": 0.025, \"symbol\": \"circle\"}, \"mode\": \"markers\", \"name\": \"Oliver Norwood\", \"showlegend\": true, \"type\": \"scatter\", \"x\": [-2.8799224253743887], \"xaxis\": \"x\", \"y\": [3.8799224253743887], \"yaxis\": \"y\"}, {\"hovertemplate\": \"<b>%{hovertext}</b><br><br>player_name=Sander Berge<br>Assist and XA Difference=%{x}<br>xA=%{y}<br>assists=%{marker.size}<extra></extra>\", \"hovertext\": [\"Sander Berge\"], \"legendgroup\": \"Sander Berge\", \"marker\": {\"color\": \"#FF6692\", \"size\": [1], \"sizemode\": \"area\", \"sizeref\": 0.025, \"symbol\": \"circle\"}, \"mode\": \"markers\", \"name\": \"Sander Berge\", \"showlegend\": true, \"type\": \"scatter\", \"x\": [0.2856125012040138], \"xaxis\": \"x\", \"y\": [0.7143874987959862], \"yaxis\": \"y\"}, {\"hovertemplate\": \"<b>%{hovertext}</b><br><br>player_name=Yoshinori Muto<br>Assist and XA Difference=%{x}<br>xA=%{y}<br>assists=%{marker.size}<extra></extra>\", \"hovertext\": [\"Yoshinori Muto\"], \"legendgroup\": \"Yoshinori Muto\", \"marker\": {\"color\": \"#B6E880\", \"size\": [0], \"sizemode\": \"area\", \"sizeref\": 0.025, \"symbol\": \"circle\"}, \"mode\": \"markers\", \"name\": \"Yoshinori Muto\", \"showlegend\": true, \"type\": \"scatter\", \"x\": [-0.014181027188897131], \"xaxis\": \"x\", \"y\": [0.014181027188897131], \"yaxis\": \"y\"}, {\"hovertemplate\": \"<b>%{hovertext}</b><br><br>player_name=Lukas Rupp<br>Assist and XA Difference=%{x}<br>xA=%{y}<br>assists=%{marker.size}<extra></extra>\", \"hovertext\": [\"Lukas Rupp\"], \"legendgroup\": \"Lukas Rupp\", \"marker\": {\"color\": \"#FF97FF\", \"size\": [0], \"sizemode\": \"area\", \"sizeref\": 0.025, \"symbol\": \"circle\"}, \"mode\": \"markers\", \"name\": \"Lukas Rupp\", \"showlegend\": true, \"type\": \"scatter\", \"x\": [-0.7755274809896946], \"xaxis\": \"x\", \"y\": [0.7755274809896946], \"yaxis\": \"y\"}, {\"hovertemplate\": \"<b>%{hovertext}</b><br><br>player_name=Henrikh Mkhitaryan<br>Assist and XA Difference=%{x}<br>xA=%{y}<br>assists=%{marker.size}<extra></extra>\", \"hovertext\": [\"Henrikh Mkhitaryan\"], \"legendgroup\": \"Henrikh Mkhitaryan\", \"marker\": {\"color\": \"#FECB52\", \"size\": [0], \"sizemode\": \"area\", \"sizeref\": 0.025, \"symbol\": \"circle\"}, \"mode\": \"markers\", \"name\": \"Henrikh Mkhitaryan\", \"showlegend\": true, \"type\": \"scatter\", \"x\": [-0.2743019759654999], \"xaxis\": \"x\", \"y\": [0.2743019759654999], \"yaxis\": \"y\"}, {\"hovertemplate\": \"<b>%{hovertext}</b><br><br>player_name=Andrew Surman<br>Assist and XA Difference=%{x}<br>xA=%{y}<br>assists=%{marker.size}<extra></extra>\", \"hovertext\": [\"Andrew Surman\"], \"legendgroup\": \"Andrew Surman\", \"marker\": {\"color\": \"#636efa\", \"size\": [0], \"sizemode\": \"area\", \"sizeref\": 0.025, \"symbol\": \"circle\"}, \"mode\": \"markers\", \"name\": \"Andrew Surman\", \"showlegend\": true, \"type\": \"scatter\", \"x\": [-0.04897062107920647], \"xaxis\": \"x\", \"y\": [0.04897062107920647], \"yaxis\": \"y\"}, {\"hovertemplate\": \"<b>%{hovertext}</b><br><br>player_name=Morgan Schneiderlin<br>Assist and XA Difference=%{x}<br>xA=%{y}<br>assists=%{marker.size}<extra></extra>\", \"hovertext\": [\"Morgan Schneiderlin\"], \"legendgroup\": \"Morgan Schneiderlin\", \"marker\": {\"color\": \"#EF553B\", \"size\": [0], \"sizemode\": \"area\", \"sizeref\": 0.025, \"symbol\": \"circle\"}, \"mode\": \"markers\", \"name\": \"Morgan Schneiderlin\", \"showlegend\": true, \"type\": \"scatter\", \"x\": [-0.1284838654100895], \"xaxis\": \"x\", \"y\": [0.1284838654100895], \"yaxis\": \"y\"}, {\"hovertemplate\": \"<b>%{hovertext}</b><br><br>player_name=Juan Mata<br>Assist and XA Difference=%{x}<br>xA=%{y}<br>assists=%{marker.size}<extra></extra>\", \"hovertext\": [\"Juan Mata\"], \"legendgroup\": \"Juan Mata\", \"marker\": {\"color\": \"#00cc96\", \"size\": [2], \"sizemode\": \"area\", \"sizeref\": 0.025, \"symbol\": \"circle\"}, \"mode\": \"markers\", \"name\": \"Juan Mata\", \"showlegend\": true, \"type\": \"scatter\", \"x\": [-0.10493126511573792], \"xaxis\": \"x\", \"y\": [2.104931265115738], \"yaxis\": \"y\"}, {\"hovertemplate\": \"<b>%{hovertext}</b><br><br>player_name=Etienne Capoue<br>Assist and XA Difference=%{x}<br>xA=%{y}<br>assists=%{marker.size}<extra></extra>\", \"hovertext\": [\"Etienne Capoue\"], \"legendgroup\": \"Etienne Capoue\", \"marker\": {\"color\": \"#ab63fa\", \"size\": [3], \"sizemode\": \"area\", \"sizeref\": 0.025, \"symbol\": \"circle\"}, \"mode\": \"markers\", \"name\": \"Etienne Capoue\", \"showlegend\": true, \"type\": \"scatter\", \"x\": [0.45675294473767325], \"xaxis\": \"x\", \"y\": [2.5432470552623268], \"yaxis\": \"y\"}, {\"hovertemplate\": \"<b>%{hovertext}</b><br><br>player_name=James McCarthy<br>Assist and XA Difference=%{x}<br>xA=%{y}<br>assists=%{marker.size}<extra></extra>\", \"hovertext\": [\"James McCarthy\"], \"legendgroup\": \"James McCarthy\", \"marker\": {\"color\": \"#FFA15A\", \"size\": [0], \"sizemode\": \"area\", \"sizeref\": 0.025, \"symbol\": \"circle\"}, \"mode\": \"markers\", \"name\": \"James McCarthy\", \"showlegend\": true, \"type\": \"scatter\", \"x\": [-1.398389745503664], \"xaxis\": \"x\", \"y\": [1.398389745503664], \"yaxis\": \"y\"}, {\"hovertemplate\": \"<b>%{hovertext}</b><br><br>player_name=Aaron Lennon<br>Assist and XA Difference=%{x}<br>xA=%{y}<br>assists=%{marker.size}<extra></extra>\", \"hovertext\": [\"Aaron Lennon\"], \"legendgroup\": \"Aaron Lennon\", \"marker\": {\"color\": \"#19d3f3\", \"size\": [0], \"sizemode\": \"area\", \"sizeref\": 0.025, \"symbol\": \"circle\"}, \"mode\": \"markers\", \"name\": \"Aaron Lennon\", \"showlegend\": true, \"type\": \"scatter\", \"x\": [-0.15801358222961426], \"xaxis\": \"x\", \"y\": [0.15801358222961426], \"yaxis\": \"y\"}, {\"hovertemplate\": \"<b>%{hovertext}</b><br><br>player_name=James McArthur<br>Assist and XA Difference=%{x}<br>xA=%{y}<br>assists=%{marker.size}<extra></extra>\", \"hovertext\": [\"James McArthur\"], \"legendgroup\": \"James McArthur\", \"marker\": {\"color\": \"#FF6692\", \"size\": [3], \"sizemode\": \"area\", \"sizeref\": 0.025, \"symbol\": \"circle\"}, \"mode\": \"markers\", \"name\": \"James McArthur\", \"showlegend\": true, \"type\": \"scatter\", \"x\": [0.003935344517231432], \"xaxis\": \"x\", \"y\": [2.9960646554827686], \"yaxis\": \"y\"}, {\"hovertemplate\": \"<b>%{hovertext}</b><br><br>player_name=Carlos S\\u00e1nchez<br>Assist and XA Difference=%{x}<br>xA=%{y}<br>assists=%{marker.size}<extra></extra>\", \"hovertext\": [\"Carlos S\\u00e1nchez\"], \"legendgroup\": \"Carlos S\\u00e1nchez\", \"marker\": {\"color\": \"#B6E880\", \"size\": [0], \"sizemode\": \"area\", \"sizeref\": 0.025, \"symbol\": \"circle\"}, \"mode\": \"markers\", \"name\": \"Carlos S\\u00e1nchez\", \"showlegend\": true, \"type\": \"scatter\", \"x\": [0.0], \"xaxis\": \"x\", \"y\": [0.0], \"yaxis\": \"y\"}, {\"hovertemplate\": \"<b>%{hovertext}</b><br><br>player_name=Nemanja Matic<br>Assist and XA Difference=%{x}<br>xA=%{y}<br>assists=%{marker.size}<extra></extra>\", \"hovertext\": [\"Nemanja Matic\"], \"legendgroup\": \"Nemanja Matic\", \"marker\": {\"color\": \"#FF97FF\", \"size\": [2], \"sizemode\": \"area\", \"sizeref\": 0.025, \"symbol\": \"circle\"}, \"mode\": \"markers\", \"name\": \"Nemanja Matic\", \"showlegend\": true, \"type\": \"scatter\", \"x\": [1.1053492464125156], \"xaxis\": \"x\", \"y\": [0.8946507535874844], \"yaxis\": \"y\"}, {\"hovertemplate\": \"<b>%{hovertext}</b><br><br>player_name=Jack Cork<br>Assist and XA Difference=%{x}<br>xA=%{y}<br>assists=%{marker.size}<extra></extra>\", \"hovertext\": [\"Jack Cork\"], \"legendgroup\": \"Jack Cork\", \"marker\": {\"color\": \"#FECB52\", \"size\": [0], \"sizemode\": \"area\", \"sizeref\": 0.025, \"symbol\": \"circle\"}, \"mode\": \"markers\", \"name\": \"Jack Cork\", \"showlegend\": true, \"type\": \"scatter\", \"x\": [-1.1728481724858284], \"xaxis\": \"x\", \"y\": [1.1728481724858284], \"yaxis\": \"y\"}, {\"hovertemplate\": \"<b>%{hovertext}</b><br><br>player_name=Ki Sung-yueng<br>Assist and XA Difference=%{x}<br>xA=%{y}<br>assists=%{marker.size}<extra></extra>\", \"hovertext\": [\"Ki Sung-yueng\"], \"legendgroup\": \"Ki Sung-yueng\", \"marker\": {\"color\": \"#636efa\", \"size\": [0], \"sizemode\": \"area\", \"sizeref\": 0.025, \"symbol\": \"circle\"}, \"mode\": \"markers\", \"name\": \"Ki Sung-yueng\", \"showlegend\": true, \"type\": \"scatter\", \"x\": [-0.055116582661867135], \"xaxis\": \"x\", \"y\": [0.055116582661867135], \"yaxis\": \"y\"}, {\"hovertemplate\": \"<b>%{hovertext}</b><br><br>player_name=Daniel Drinkwater<br>Assist and XA Difference=%{x}<br>xA=%{y}<br>assists=%{marker.size}<extra></extra>\", \"hovertext\": [\"Daniel Drinkwater\"], \"legendgroup\": \"Daniel Drinkwater\", \"marker\": {\"color\": \"#EF553B\", \"size\": [0], \"sizemode\": \"area\", \"sizeref\": 0.025, \"symbol\": \"circle\"}, \"mode\": \"markers\", \"name\": \"Daniel Drinkwater\", \"showlegend\": true, \"type\": \"scatter\", \"x\": [-0.040286142379045486], \"xaxis\": \"x\", \"y\": [0.040286142379045486], \"yaxis\": \"y\"}, {\"hovertemplate\": \"<b>%{hovertext}</b><br><br>player_name=Marc Albrighton<br>Assist and XA Difference=%{x}<br>xA=%{y}<br>assists=%{marker.size}<extra></extra>\", \"hovertext\": [\"Marc Albrighton\"], \"legendgroup\": \"Marc Albrighton\", \"marker\": {\"color\": \"#00cc96\", \"size\": [3], \"sizemode\": \"area\", \"sizeref\": 0.025, \"symbol\": \"circle\"}, \"mode\": \"markers\", \"name\": \"Marc Albrighton\", \"showlegend\": true, \"type\": \"scatter\", \"x\": [0.7096625305712223], \"xaxis\": \"x\", \"y\": [2.2903374694287777], \"yaxis\": \"y\"}, {\"hovertemplate\": \"<b>%{hovertext}</b><br><br>player_name=Oriol Romeu<br>Assist and XA Difference=%{x}<br>xA=%{y}<br>assists=%{marker.size}<extra></extra>\", \"hovertext\": [\"Oriol Romeu\"], \"legendgroup\": \"Oriol Romeu\", \"marker\": {\"color\": \"#ab63fa\", \"size\": [0], \"sizemode\": \"area\", \"sizeref\": 0.025, \"symbol\": \"circle\"}, \"mode\": \"markers\", \"name\": \"Oriol Romeu\", \"showlegend\": true, \"type\": \"scatter\", \"x\": [-1.7172301672399044], \"xaxis\": \"x\", \"y\": [1.7172301672399044], \"yaxis\": \"y\"}, {\"hovertemplate\": \"<b>%{hovertext}</b><br><br>player_name=Fabian Delph<br>Assist and XA Difference=%{x}<br>xA=%{y}<br>assists=%{marker.size}<extra></extra>\", \"hovertext\": [\"Fabian Delph\"], \"legendgroup\": \"Fabian Delph\", \"marker\": {\"color\": \"#FFA15A\", \"size\": [0], \"sizemode\": \"area\", \"sizeref\": 0.025, \"symbol\": \"circle\"}, \"mode\": \"markers\", \"name\": \"Fabian Delph\", \"showlegend\": true, \"type\": \"scatter\", \"x\": [-0.4789176750928164], \"xaxis\": \"x\", \"y\": [0.4789176750928164], \"yaxis\": \"y\"}, {\"hovertemplate\": \"<b>%{hovertext}</b><br><br>player_name=Muhamed Besic<br>Assist and XA Difference=%{x}<br>xA=%{y}<br>assists=%{marker.size}<extra></extra>\", \"hovertext\": [\"Muhamed Besic\"], \"legendgroup\": \"Muhamed Besic\", \"marker\": {\"color\": \"#19d3f3\", \"size\": [0], \"sizemode\": \"area\", \"sizeref\": 0.025, \"symbol\": \"circle\"}, \"mode\": \"markers\", \"name\": \"Muhamed Besic\", \"showlegend\": true, \"type\": \"scatter\", \"x\": [-0.0868392065167427], \"xaxis\": \"x\", \"y\": [0.0868392065167427], \"yaxis\": \"y\"}, {\"hovertemplate\": \"<b>%{hovertext}</b><br><br>player_name=Nabil Bentaleb<br>Assist and XA Difference=%{x}<br>xA=%{y}<br>assists=%{marker.size}<extra></extra>\", \"hovertext\": [\"Nabil Bentaleb\"], \"legendgroup\": \"Nabil Bentaleb\", \"marker\": {\"color\": \"#FF6692\", \"size\": [0], \"sizemode\": \"area\", \"sizeref\": 0.025, \"symbol\": \"circle\"}, \"mode\": \"markers\", \"name\": \"Nabil Bentaleb\", \"showlegend\": true, \"type\": \"scatter\", \"x\": [-0.19530144333839414], \"xaxis\": \"x\", \"y\": [0.19530144333839414], \"yaxis\": \"y\"}, {\"hovertemplate\": \"<b>%{hovertext}</b><br><br>player_name=Harry Winks<br>Assist and XA Difference=%{x}<br>xA=%{y}<br>assists=%{marker.size}<extra></extra>\", \"hovertext\": [\"Harry Winks\"], \"legendgroup\": \"Harry Winks\", \"marker\": {\"color\": \"#B6E880\", \"size\": [0], \"sizemode\": \"area\", \"sizeref\": 0.025, \"symbol\": \"circle\"}, \"mode\": \"markers\", \"name\": \"Harry Winks\", \"showlegend\": true, \"type\": \"scatter\", \"x\": [-0.8992681000381708], \"xaxis\": \"x\", \"y\": [0.8992681000381708], \"yaxis\": \"y\"}, {\"hovertemplate\": \"<b>%{hovertext}</b><br><br>player_name=Jack Wilshere<br>Assist and XA Difference=%{x}<br>xA=%{y}<br>assists=%{marker.size}<extra></extra>\", \"hovertext\": [\"Jack Wilshere\"], \"legendgroup\": \"Jack Wilshere\", \"marker\": {\"color\": \"#FF97FF\", \"size\": [0], \"sizemode\": \"area\", \"sizeref\": 0.025, \"symbol\": \"circle\"}, \"mode\": \"markers\", \"name\": \"Jack Wilshere\", \"showlegend\": true, \"type\": \"scatter\", \"x\": [0.0], \"xaxis\": \"x\", \"y\": [0.0], \"yaxis\": \"y\"}, {\"hovertemplate\": \"<b>%{hovertext}</b><br><br>player_name=Moritz Leitner<br>Assist and XA Difference=%{x}<br>xA=%{y}<br>assists=%{marker.size}<extra></extra>\", \"hovertext\": [\"Moritz Leitner\"], \"legendgroup\": \"Moritz Leitner\", \"marker\": {\"color\": \"#FECB52\", \"size\": [0], \"sizemode\": \"area\", \"sizeref\": 0.025, \"symbol\": \"circle\"}, \"mode\": \"markers\", \"name\": \"Moritz Leitner\", \"showlegend\": true, \"type\": \"scatter\", \"x\": [-0.3639685455709696], \"xaxis\": \"x\", \"y\": [0.3639685455709696], \"yaxis\": \"y\"}, {\"hovertemplate\": \"<b>%{hovertext}</b><br><br>player_name=Nathaniel Chalobah<br>Assist and XA Difference=%{x}<br>xA=%{y}<br>assists=%{marker.size}<extra></extra>\", \"hovertext\": [\"Nathaniel Chalobah\"], \"legendgroup\": \"Nathaniel Chalobah\", \"marker\": {\"color\": \"#636efa\", \"size\": [1], \"sizemode\": \"area\", \"sizeref\": 0.025, \"symbol\": \"circle\"}, \"mode\": \"markers\", \"name\": \"Nathaniel Chalobah\", \"showlegend\": true, \"type\": \"scatter\", \"x\": [-0.6161380037665367], \"xaxis\": \"x\", \"y\": [1.6161380037665367], \"yaxis\": \"y\"}, {\"hovertemplate\": \"<b>%{hovertext}</b><br><br>player_name=Sofiane Boufal<br>Assist and XA Difference=%{x}<br>xA=%{y}<br>assists=%{marker.size}<extra></extra>\", \"hovertext\": [\"Sofiane Boufal\"], \"legendgroup\": \"Sofiane Boufal\", \"marker\": {\"color\": \"#EF553B\", \"size\": [2], \"sizemode\": \"area\", \"sizeref\": 0.025, \"symbol\": \"circle\"}, \"mode\": \"markers\", \"name\": \"Sofiane Boufal\", \"showlegend\": true, \"type\": \"scatter\", \"x\": [-0.6982589848339562], \"xaxis\": \"x\", \"y\": [2.698258984833956], \"yaxis\": \"y\"}, {\"hovertemplate\": \"<b>%{hovertext}</b><br><br>player_name=Nampalys Mendy<br>Assist and XA Difference=%{x}<br>xA=%{y}<br>assists=%{marker.size}<extra></extra>\", \"hovertext\": [\"Nampalys Mendy\"], \"legendgroup\": \"Nampalys Mendy\", \"marker\": {\"color\": \"#00cc96\", \"size\": [0], \"sizemode\": \"area\", \"sizeref\": 0.025, \"symbol\": \"circle\"}, \"mode\": \"markers\", \"name\": \"Nampalys Mendy\", \"showlegend\": true, \"type\": \"scatter\", \"x\": [-0.08900724817067385], \"xaxis\": \"x\", \"y\": [0.08900724817067385], \"yaxis\": \"y\"}, {\"hovertemplate\": \"<b>%{hovertext}</b><br><br>player_name=Lewis Cook<br>Assist and XA Difference=%{x}<br>xA=%{y}<br>assists=%{marker.size}<extra></extra>\", \"hovertext\": [\"Lewis Cook\"], \"legendgroup\": \"Lewis Cook\", \"marker\": {\"color\": \"#ab63fa\", \"size\": [0], \"sizemode\": \"area\", \"sizeref\": 0.025, \"symbol\": \"circle\"}, \"mode\": \"markers\", \"name\": \"Lewis Cook\", \"showlegend\": true, \"type\": \"scatter\", \"x\": [-0.5486514251679182], \"xaxis\": \"x\", \"y\": [0.5486514251679182], \"yaxis\": \"y\"}, {\"hovertemplate\": \"<b>%{hovertext}</b><br><br>player_name=Christian Atsu<br>Assist and XA Difference=%{x}<br>xA=%{y}<br>assists=%{marker.size}<extra></extra>\", \"hovertext\": [\"Christian Atsu\"], \"legendgroup\": \"Christian Atsu\", \"marker\": {\"color\": \"#FFA15A\", \"size\": [3], \"sizemode\": \"area\", \"sizeref\": 0.025, \"symbol\": \"circle\"}, \"mode\": \"markers\", \"name\": \"Christian Atsu\", \"showlegend\": true, \"type\": \"scatter\", \"x\": [2.287698006257415], \"xaxis\": \"x\", \"y\": [0.7123019937425852], \"yaxis\": \"y\"}, {\"hovertemplate\": \"<b>%{hovertext}</b><br><br>player_name=Andr\\u00e9 Gomes<br>Assist and XA Difference=%{x}<br>xA=%{y}<br>assists=%{marker.size}<extra></extra>\", \"hovertext\": [\"Andr\\u00e9 Gomes\"], \"legendgroup\": \"Andr\\u00e9 Gomes\", \"marker\": {\"color\": \"#19d3f3\", \"size\": [1], \"sizemode\": \"area\", \"sizeref\": 0.025, \"symbol\": \"circle\"}, \"mode\": \"markers\", \"name\": \"Andr\\u00e9 Gomes\", \"showlegend\": true, \"type\": \"scatter\", \"x\": [-0.10450759343802929], \"xaxis\": \"x\", \"y\": [1.1045075934380293], \"yaxis\": \"y\"}, {\"hovertemplate\": \"<b>%{hovertext}</b><br><br>player_name=Dani Ceballos<br>Assist and XA Difference=%{x}<br>xA=%{y}<br>assists=%{marker.size}<extra></extra>\", \"hovertext\": [\"Dani Ceballos\"], \"legendgroup\": \"Dani Ceballos\", \"marker\": {\"color\": \"#FF6692\", \"size\": [2], \"sizemode\": \"area\", \"sizeref\": 0.025, \"symbol\": \"circle\"}, \"mode\": \"markers\", \"name\": \"Dani Ceballos\", \"showlegend\": true, \"type\": \"scatter\", \"x\": [0.4238563310354948], \"xaxis\": \"x\", \"y\": [1.5761436689645052], \"yaxis\": \"y\"}, {\"hovertemplate\": \"<b>%{hovertext}</b><br><br>player_name=Dimitri Foulquier<br>Assist and XA Difference=%{x}<br>xA=%{y}<br>assists=%{marker.size}<extra></extra>\", \"hovertext\": [\"Dimitri Foulquier\"], \"legendgroup\": \"Dimitri Foulquier\", \"marker\": {\"color\": \"#B6E880\", \"size\": [0], \"sizemode\": \"area\", \"sizeref\": 0.025, \"symbol\": \"circle\"}, \"mode\": \"markers\", \"name\": \"Dimitri Foulquier\", \"showlegend\": true, \"type\": \"scatter\", \"x\": [0.0], \"xaxis\": \"x\", \"y\": [0.0], \"yaxis\": \"y\"}, {\"hovertemplate\": \"<b>%{hovertext}</b><br><br>player_name=Jean-Philippe Gbamin<br>Assist and XA Difference=%{x}<br>xA=%{y}<br>assists=%{marker.size}<extra></extra>\", \"hovertext\": [\"Jean-Philippe Gbamin\"], \"legendgroup\": \"Jean-Philippe Gbamin\", \"marker\": {\"color\": \"#FF97FF\", \"size\": [0], \"sizemode\": \"area\", \"sizeref\": 0.025, \"symbol\": \"circle\"}, \"mode\": \"markers\", \"name\": \"Jean-Philippe Gbamin\", \"showlegend\": true, \"type\": \"scatter\", \"x\": [0.0], \"xaxis\": \"x\", \"y\": [0.0], \"yaxis\": \"y\"}, {\"hovertemplate\": \"<b>%{hovertext}</b><br><br>player_name=Ondrej Duda<br>Assist and XA Difference=%{x}<br>xA=%{y}<br>assists=%{marker.size}<extra></extra>\", \"hovertext\": [\"Ondrej Duda\"], \"legendgroup\": \"Ondrej Duda\", \"marker\": {\"color\": \"#FECB52\", \"size\": [0], \"sizemode\": \"area\", \"sizeref\": 0.025, \"symbol\": \"circle\"}, \"mode\": \"markers\", \"name\": \"Ondrej Duda\", \"showlegend\": true, \"type\": \"scatter\", \"x\": [-1.5336673818528652], \"xaxis\": \"x\", \"y\": [1.5336673818528652], \"yaxis\": \"y\"}, {\"hovertemplate\": \"<b>%{hovertext}</b><br><br>player_name=Giovani Lo Celso<br>Assist and XA Difference=%{x}<br>xA=%{y}<br>assists=%{marker.size}<extra></extra>\", \"hovertext\": [\"Giovani Lo Celso\"], \"legendgroup\": \"Giovani Lo Celso\", \"marker\": {\"color\": \"#636efa\", \"size\": [2], \"sizemode\": \"area\", \"sizeref\": 0.025, \"symbol\": \"circle\"}, \"mode\": \"markers\", \"name\": \"Giovani Lo Celso\", \"showlegend\": true, \"type\": \"scatter\", \"x\": [0.2927081659436226], \"xaxis\": \"x\", \"y\": [1.7072918340563774], \"yaxis\": \"y\"}, {\"hovertemplate\": \"<b>%{hovertext}</b><br><br>player_name=Matteo Guendouzi<br>Assist and XA Difference=%{x}<br>xA=%{y}<br>assists=%{marker.size}<extra></extra>\", \"hovertext\": [\"Matteo Guendouzi\"], \"legendgroup\": \"Matteo Guendouzi\", \"marker\": {\"color\": \"#EF553B\", \"size\": [1], \"sizemode\": \"area\", \"sizeref\": 0.025, \"symbol\": \"circle\"}, \"mode\": \"markers\", \"name\": \"Matteo Guendouzi\", \"showlegend\": true, \"type\": \"scatter\", \"x\": [-0.06330328434705712], \"xaxis\": \"x\", \"y\": [1.0633032843470571], \"yaxis\": \"y\"}, {\"hovertemplate\": \"<b>%{hovertext}</b><br><br>player_name=Dale Stephens<br>Assist and XA Difference=%{x}<br>xA=%{y}<br>assists=%{marker.size}<extra></extra>\", \"hovertext\": [\"Dale Stephens\"], \"legendgroup\": \"Dale Stephens\", \"marker\": {\"color\": \"#00cc96\", \"size\": [1], \"sizemode\": \"area\", \"sizeref\": 0.025, \"symbol\": \"circle\"}, \"mode\": \"markers\", \"name\": \"Dale Stephens\", \"showlegend\": true, \"type\": \"scatter\", \"x\": [-0.24719187803566456], \"xaxis\": \"x\", \"y\": [1.2471918780356646], \"yaxis\": \"y\"}, {\"hovertemplate\": \"<b>%{hovertext}</b><br><br>player_name=Fred<br>Assist and XA Difference=%{x}<br>xA=%{y}<br>assists=%{marker.size}<extra></extra>\", \"hovertext\": [\"Fred\"], \"legendgroup\": \"Fred\", \"marker\": {\"color\": \"#ab63fa\", \"size\": [0], \"sizemode\": \"area\", \"sizeref\": 0.025, \"symbol\": \"circle\"}, \"mode\": \"markers\", \"name\": \"Fred\", \"showlegend\": true, \"type\": \"scatter\", \"x\": [-2.3141325432807207], \"xaxis\": \"x\", \"y\": [2.3141325432807207], \"yaxis\": \"y\"}, {\"hovertemplate\": \"<b>%{hovertext}</b><br><br>player_name=R\\u00faben Vinagre<br>Assist and XA Difference=%{x}<br>xA=%{y}<br>assists=%{marker.size}<extra></extra>\", \"hovertext\": [\"R\\u00faben Vinagre\"], \"legendgroup\": \"R\\u00faben Vinagre\", \"marker\": {\"color\": \"#FFA15A\", \"size\": [0], \"sizemode\": \"area\", \"sizeref\": 0.025, \"symbol\": \"circle\"}, \"mode\": \"markers\", \"name\": \"R\\u00faben Vinagre\", \"showlegend\": true, \"type\": \"scatter\", \"x\": [-0.6194777600467205], \"xaxis\": \"x\", \"y\": [0.6194777600467205], \"yaxis\": \"y\"}, {\"hovertemplate\": \"<b>%{hovertext}</b><br><br>player_name=Morgan Gibbs-White<br>Assist and XA Difference=%{x}<br>xA=%{y}<br>assists=%{marker.size}<extra></extra>\", \"hovertext\": [\"Morgan Gibbs-White\"], \"legendgroup\": \"Morgan Gibbs-White\", \"marker\": {\"color\": \"#19d3f3\", \"size\": [0], \"sizemode\": \"area\", \"sizeref\": 0.025, \"symbol\": \"circle\"}, \"mode\": \"markers\", \"name\": \"Morgan Gibbs-White\", \"showlegend\": true, \"type\": \"scatter\", \"x\": [-0.0708760917186737], \"xaxis\": \"x\", \"y\": [0.0708760917186737], \"yaxis\": \"y\"}, {\"hovertemplate\": \"<b>%{hovertext}</b><br><br>player_name=Oliver Skipp<br>Assist and XA Difference=%{x}<br>xA=%{y}<br>assists=%{marker.size}<extra></extra>\", \"hovertext\": [\"Oliver Skipp\"], \"legendgroup\": \"Oliver Skipp\", \"marker\": {\"color\": \"#FF6692\", \"size\": [0], \"sizemode\": \"area\", \"sizeref\": 0.025, \"symbol\": \"circle\"}, \"mode\": \"markers\", \"name\": \"Oliver Skipp\", \"showlegend\": true, \"type\": \"scatter\", \"x\": [0.0], \"xaxis\": \"x\", \"y\": [0.0], \"yaxis\": \"y\"}, {\"hovertemplate\": \"<b>%{hovertext}</b><br><br>player_name=Emile Smith-Rowe<br>Assist and XA Difference=%{x}<br>xA=%{y}<br>assists=%{marker.size}<extra></extra>\", \"hovertext\": [\"Emile Smith-Rowe\"], \"legendgroup\": \"Emile Smith-Rowe\", \"marker\": {\"color\": \"#B6E880\", \"size\": [0], \"sizemode\": \"area\", \"sizeref\": 0.025, \"symbol\": \"circle\"}, \"mode\": \"markers\", \"name\": \"Emile Smith-Rowe\", \"showlegend\": true, \"type\": \"scatter\", \"x\": [0.0], \"xaxis\": \"x\", \"y\": [0.0], \"yaxis\": \"y\"}, {\"hovertemplate\": \"<b>%{hovertext}</b><br><br>player_name=Tom Trybull<br>Assist and XA Difference=%{x}<br>xA=%{y}<br>assists=%{marker.size}<extra></extra>\", \"hovertext\": [\"Tom Trybull\"], \"legendgroup\": \"Tom Trybull\", \"marker\": {\"color\": \"#FF97FF\", \"size\": [0], \"sizemode\": \"area\", \"sizeref\": 0.025, \"symbol\": \"circle\"}, \"mode\": \"markers\", \"name\": \"Tom Trybull\", \"showlegend\": true, \"type\": \"scatter\", \"x\": [-0.1500192228704691], \"xaxis\": \"x\", \"y\": [0.1500192228704691], \"yaxis\": \"y\"}, {\"hovertemplate\": \"<b>%{hovertext}</b><br><br>player_name=Marco Stiepermann<br>Assist and XA Difference=%{x}<br>xA=%{y}<br>assists=%{marker.size}<extra></extra>\", \"hovertext\": [\"Marco Stiepermann\"], \"legendgroup\": \"Marco Stiepermann\", \"marker\": {\"color\": \"#FECB52\", \"size\": [0], \"sizemode\": \"area\", \"sizeref\": 0.025, \"symbol\": \"circle\"}, \"mode\": \"markers\", \"name\": \"Marco Stiepermann\", \"showlegend\": true, \"type\": \"scatter\", \"x\": [-0.9374048952013254], \"xaxis\": \"x\", \"y\": [0.9374048952013254], \"yaxis\": \"y\"}, {\"hovertemplate\": \"<b>%{hovertext}</b><br><br>player_name=Luke Freeman<br>Assist and XA Difference=%{x}<br>xA=%{y}<br>assists=%{marker.size}<extra></extra>\", \"hovertext\": [\"Luke Freeman\"], \"legendgroup\": \"Luke Freeman\", \"marker\": {\"color\": \"#636efa\", \"size\": [0], \"sizemode\": \"area\", \"sizeref\": 0.025, \"symbol\": \"circle\"}, \"mode\": \"markers\", \"name\": \"Luke Freeman\", \"showlegend\": true, \"type\": \"scatter\", \"x\": [-0.18556103855371475], \"xaxis\": \"x\", \"y\": [0.18556103855371475], \"yaxis\": \"y\"}, {\"hovertemplate\": \"<b>%{hovertext}</b><br><br>player_name=Ben Osborn<br>Assist and XA Difference=%{x}<br>xA=%{y}<br>assists=%{marker.size}<extra></extra>\", \"hovertext\": [\"Ben Osborn\"], \"legendgroup\": \"Ben Osborn\", \"marker\": {\"color\": \"#EF553B\", \"size\": [0], \"sizemode\": \"area\", \"sizeref\": 0.025, \"symbol\": \"circle\"}, \"mode\": \"markers\", \"name\": \"Ben Osborn\", \"showlegend\": true, \"type\": \"scatter\", \"x\": [-0.8878793343901634], \"xaxis\": \"x\", \"y\": [0.8878793343901634], \"yaxis\": \"y\"}, {\"hovertemplate\": \"<b>%{hovertext}</b><br><br>player_name=Henri Lansbury<br>Assist and XA Difference=%{x}<br>xA=%{y}<br>assists=%{marker.size}<extra></extra>\", \"hovertext\": [\"Henri Lansbury\"], \"legendgroup\": \"Henri Lansbury\", \"marker\": {\"color\": \"#00cc96\", \"size\": [0], \"sizemode\": \"area\", \"sizeref\": 0.025, \"symbol\": \"circle\"}, \"mode\": \"markers\", \"name\": \"Henri Lansbury\", \"showlegend\": true, \"type\": \"scatter\", \"x\": [-0.06579376012086867], \"xaxis\": \"x\", \"y\": [0.06579376012086867], \"yaxis\": \"y\"}, {\"hovertemplate\": \"<b>%{hovertext}</b><br><br>player_name=Billy Gilmour<br>Assist and XA Difference=%{x}<br>xA=%{y}<br>assists=%{marker.size}<extra></extra>\", \"hovertext\": [\"Billy Gilmour\"], \"legendgroup\": \"Billy Gilmour\", \"marker\": {\"color\": \"#ab63fa\", \"size\": [0], \"sizemode\": \"area\", \"sizeref\": 0.025, \"symbol\": \"circle\"}, \"mode\": \"markers\", \"name\": \"Billy Gilmour\", \"showlegend\": true, \"type\": \"scatter\", \"x\": [-0.18802570179104805], \"xaxis\": \"x\", \"y\": [0.18802570179104805], \"yaxis\": \"y\"}, {\"hovertemplate\": \"<b>%{hovertext}</b><br><br>player_name=Marvelous Nakamba<br>Assist and XA Difference=%{x}<br>xA=%{y}<br>assists=%{marker.size}<extra></extra>\", \"hovertext\": [\"Marvelous Nakamba\"], \"legendgroup\": \"Marvelous Nakamba\", \"marker\": {\"color\": \"#FFA15A\", \"size\": [0], \"sizemode\": \"area\", \"sizeref\": 0.025, \"symbol\": \"circle\"}, \"mode\": \"markers\", \"name\": \"Marvelous Nakamba\", \"showlegend\": true, \"type\": \"scatter\", \"x\": [-0.5477455304935575], \"xaxis\": \"x\", \"y\": [0.5477455304935575], \"yaxis\": \"y\"}, {\"hovertemplate\": \"<b>%{hovertext}</b><br><br>player_name=Arnaut Danjuma Groeneveld<br>Assist and XA Difference=%{x}<br>xA=%{y}<br>assists=%{marker.size}<extra></extra>\", \"hovertext\": [\"Arnaut Danjuma Groeneveld\"], \"legendgroup\": \"Arnaut Danjuma Groeneveld\", \"marker\": {\"color\": \"#19d3f3\", \"size\": [0], \"sizemode\": \"area\", \"sizeref\": 0.025, \"symbol\": \"circle\"}, \"mode\": \"markers\", \"name\": \"Arnaut Danjuma Groeneveld\", \"showlegend\": true, \"type\": \"scatter\", \"x\": [-0.16391022875905034], \"xaxis\": \"x\", \"y\": [0.16391022875905034], \"yaxis\": \"y\"}, {\"hovertemplate\": \"<b>%{hovertext}</b><br><br>player_name=Anthony Gordon<br>Assist and XA Difference=%{x}<br>xA=%{y}<br>assists=%{marker.size}<extra></extra>\", \"hovertext\": [\"Anthony Gordon\"], \"legendgroup\": \"Anthony Gordon\", \"marker\": {\"color\": \"#FF6692\", \"size\": [1], \"sizemode\": \"area\", \"sizeref\": 0.025, \"symbol\": \"circle\"}, \"mode\": \"markers\", \"name\": \"Anthony Gordon\", \"showlegend\": true, \"type\": \"scatter\", \"x\": [0.6600502505898476], \"xaxis\": \"x\", \"y\": [0.33994974941015244], \"yaxis\": \"y\"}, {\"hovertemplate\": \"<b>%{hovertext}</b><br><br>player_name=William Smallbone<br>Assist and XA Difference=%{x}<br>xA=%{y}<br>assists=%{marker.size}<extra></extra>\", \"hovertext\": [\"William Smallbone\"], \"legendgroup\": \"William Smallbone\", \"marker\": {\"color\": \"#B6E880\", \"size\": [2], \"sizemode\": \"area\", \"sizeref\": 0.025, \"symbol\": \"circle\"}, \"mode\": \"markers\", \"name\": \"William Smallbone\", \"showlegend\": true, \"type\": \"scatter\", \"x\": [1.8278290145099163], \"xaxis\": \"x\", \"y\": [0.1721709854900837], \"yaxis\": \"y\"}, {\"hovertemplate\": \"<b>%{hovertext}</b><br><br>player_name=Josh Brownhill<br>Assist and XA Difference=%{x}<br>xA=%{y}<br>assists=%{marker.size}<extra></extra>\", \"hovertext\": [\"Josh Brownhill\"], \"legendgroup\": \"Josh Brownhill\", \"marker\": {\"color\": \"#FF97FF\", \"size\": [0], \"sizemode\": \"area\", \"sizeref\": 0.025, \"symbol\": \"circle\"}, \"mode\": \"markers\", \"name\": \"Josh Brownhill\", \"showlegend\": true, \"type\": \"scatter\", \"x\": [-0.12225658446550368], \"xaxis\": \"x\", \"y\": [0.12225658446550368], \"yaxis\": \"y\"}, {\"hovertemplate\": \"<b>%{hovertext}</b><br><br>player_name=Luke Thomas<br>Assist and XA Difference=%{x}<br>xA=%{y}<br>assists=%{marker.size}<extra></extra>\", \"hovertext\": [\"Luke Thomas\"], \"legendgroup\": \"Luke Thomas\", \"marker\": {\"color\": \"#FECB52\", \"size\": [1], \"sizemode\": \"area\", \"sizeref\": 0.025, \"symbol\": \"circle\"}, \"mode\": \"markers\", \"name\": \"Luke Thomas\", \"showlegend\": true, \"type\": \"scatter\", \"x\": [0.37001819908618927], \"xaxis\": \"x\", \"y\": [0.6299818009138107], \"yaxis\": \"y\"}],\n",
       "                        {\"legend\": {\"itemsizing\": \"constant\", \"title\": {\"text\": \"player_name\"}, \"tracegroupgap\": 0}, \"template\": {\"data\": {\"bar\": [{\"error_x\": {\"color\": \"#2a3f5f\"}, \"error_y\": {\"color\": \"#2a3f5f\"}, \"marker\": {\"line\": {\"color\": \"#E5ECF6\", \"width\": 0.5}}, \"type\": \"bar\"}], \"barpolar\": [{\"marker\": {\"line\": {\"color\": \"#E5ECF6\", \"width\": 0.5}}, \"type\": \"barpolar\"}], \"carpet\": [{\"aaxis\": {\"endlinecolor\": \"#2a3f5f\", \"gridcolor\": \"white\", \"linecolor\": \"white\", \"minorgridcolor\": \"white\", \"startlinecolor\": \"#2a3f5f\"}, \"baxis\": {\"endlinecolor\": \"#2a3f5f\", \"gridcolor\": \"white\", \"linecolor\": \"white\", \"minorgridcolor\": \"white\", \"startlinecolor\": \"#2a3f5f\"}, \"type\": \"carpet\"}], \"choropleth\": [{\"colorbar\": {\"outlinewidth\": 0, \"ticks\": \"\"}, \"type\": \"choropleth\"}], \"contour\": [{\"colorbar\": {\"outlinewidth\": 0, \"ticks\": \"\"}, \"colorscale\": [[0.0, \"#0d0887\"], [0.1111111111111111, \"#46039f\"], [0.2222222222222222, \"#7201a8\"], [0.3333333333333333, \"#9c179e\"], [0.4444444444444444, \"#bd3786\"], [0.5555555555555556, \"#d8576b\"], [0.6666666666666666, \"#ed7953\"], [0.7777777777777778, \"#fb9f3a\"], [0.8888888888888888, \"#fdca26\"], [1.0, \"#f0f921\"]], \"type\": \"contour\"}], \"contourcarpet\": [{\"colorbar\": {\"outlinewidth\": 0, \"ticks\": \"\"}, \"type\": \"contourcarpet\"}], \"heatmap\": [{\"colorbar\": {\"outlinewidth\": 0, \"ticks\": \"\"}, \"colorscale\": [[0.0, \"#0d0887\"], [0.1111111111111111, \"#46039f\"], [0.2222222222222222, \"#7201a8\"], [0.3333333333333333, \"#9c179e\"], [0.4444444444444444, \"#bd3786\"], [0.5555555555555556, \"#d8576b\"], [0.6666666666666666, \"#ed7953\"], [0.7777777777777778, \"#fb9f3a\"], [0.8888888888888888, \"#fdca26\"], [1.0, \"#f0f921\"]], \"type\": \"heatmap\"}], \"heatmapgl\": [{\"colorbar\": {\"outlinewidth\": 0, \"ticks\": \"\"}, \"colorscale\": [[0.0, \"#0d0887\"], [0.1111111111111111, \"#46039f\"], [0.2222222222222222, \"#7201a8\"], [0.3333333333333333, \"#9c179e\"], [0.4444444444444444, \"#bd3786\"], [0.5555555555555556, \"#d8576b\"], [0.6666666666666666, \"#ed7953\"], [0.7777777777777778, \"#fb9f3a\"], [0.8888888888888888, \"#fdca26\"], [1.0, \"#f0f921\"]], \"type\": \"heatmapgl\"}], \"histogram\": [{\"marker\": {\"colorbar\": {\"outlinewidth\": 0, \"ticks\": \"\"}}, \"type\": \"histogram\"}], \"histogram2d\": [{\"colorbar\": {\"outlinewidth\": 0, \"ticks\": \"\"}, \"colorscale\": [[0.0, \"#0d0887\"], [0.1111111111111111, \"#46039f\"], [0.2222222222222222, \"#7201a8\"], [0.3333333333333333, \"#9c179e\"], [0.4444444444444444, \"#bd3786\"], [0.5555555555555556, \"#d8576b\"], [0.6666666666666666, \"#ed7953\"], [0.7777777777777778, \"#fb9f3a\"], [0.8888888888888888, \"#fdca26\"], [1.0, \"#f0f921\"]], \"type\": \"histogram2d\"}], \"histogram2dcontour\": [{\"colorbar\": {\"outlinewidth\": 0, \"ticks\": \"\"}, \"colorscale\": [[0.0, \"#0d0887\"], [0.1111111111111111, \"#46039f\"], [0.2222222222222222, \"#7201a8\"], [0.3333333333333333, \"#9c179e\"], [0.4444444444444444, \"#bd3786\"], [0.5555555555555556, \"#d8576b\"], [0.6666666666666666, \"#ed7953\"], [0.7777777777777778, \"#fb9f3a\"], [0.8888888888888888, \"#fdca26\"], [1.0, \"#f0f921\"]], \"type\": \"histogram2dcontour\"}], \"mesh3d\": [{\"colorbar\": {\"outlinewidth\": 0, \"ticks\": \"\"}, \"type\": \"mesh3d\"}], \"parcoords\": [{\"line\": {\"colorbar\": {\"outlinewidth\": 0, \"ticks\": \"\"}}, \"type\": \"parcoords\"}], \"pie\": [{\"automargin\": true, \"type\": \"pie\"}], \"scatter\": [{\"marker\": {\"colorbar\": {\"outlinewidth\": 0, \"ticks\": \"\"}}, \"type\": \"scatter\"}], \"scatter3d\": [{\"line\": {\"colorbar\": {\"outlinewidth\": 0, \"ticks\": \"\"}}, \"marker\": {\"colorbar\": {\"outlinewidth\": 0, \"ticks\": \"\"}}, \"type\": \"scatter3d\"}], \"scattercarpet\": [{\"marker\": {\"colorbar\": {\"outlinewidth\": 0, \"ticks\": \"\"}}, \"type\": \"scattercarpet\"}], \"scattergeo\": [{\"marker\": {\"colorbar\": {\"outlinewidth\": 0, \"ticks\": \"\"}}, \"type\": \"scattergeo\"}], \"scattergl\": [{\"marker\": {\"colorbar\": {\"outlinewidth\": 0, \"ticks\": \"\"}}, \"type\": \"scattergl\"}], \"scattermapbox\": [{\"marker\": {\"colorbar\": {\"outlinewidth\": 0, \"ticks\": \"\"}}, \"type\": \"scattermapbox\"}], \"scatterpolar\": [{\"marker\": {\"colorbar\": {\"outlinewidth\": 0, \"ticks\": \"\"}}, \"type\": \"scatterpolar\"}], \"scatterpolargl\": [{\"marker\": {\"colorbar\": {\"outlinewidth\": 0, \"ticks\": \"\"}}, \"type\": \"scatterpolargl\"}], \"scatterternary\": [{\"marker\": {\"colorbar\": {\"outlinewidth\": 0, \"ticks\": \"\"}}, \"type\": \"scatterternary\"}], \"surface\": [{\"colorbar\": {\"outlinewidth\": 0, \"ticks\": \"\"}, \"colorscale\": [[0.0, \"#0d0887\"], [0.1111111111111111, \"#46039f\"], [0.2222222222222222, \"#7201a8\"], [0.3333333333333333, \"#9c179e\"], [0.4444444444444444, \"#bd3786\"], [0.5555555555555556, \"#d8576b\"], [0.6666666666666666, \"#ed7953\"], [0.7777777777777778, \"#fb9f3a\"], [0.8888888888888888, \"#fdca26\"], [1.0, \"#f0f921\"]], \"type\": \"surface\"}], \"table\": [{\"cells\": {\"fill\": {\"color\": \"#EBF0F8\"}, \"line\": {\"color\": \"white\"}}, \"header\": {\"fill\": {\"color\": \"#C8D4E3\"}, \"line\": {\"color\": \"white\"}}, \"type\": \"table\"}]}, \"layout\": {\"annotationdefaults\": {\"arrowcolor\": \"#2a3f5f\", \"arrowhead\": 0, \"arrowwidth\": 1}, \"coloraxis\": {\"colorbar\": {\"outlinewidth\": 0, \"ticks\": \"\"}}, \"colorscale\": {\"diverging\": [[0, \"#8e0152\"], [0.1, \"#c51b7d\"], [0.2, \"#de77ae\"], [0.3, \"#f1b6da\"], [0.4, \"#fde0ef\"], [0.5, \"#f7f7f7\"], [0.6, \"#e6f5d0\"], [0.7, \"#b8e186\"], [0.8, \"#7fbc41\"], [0.9, \"#4d9221\"], [1, \"#276419\"]], \"sequential\": [[0.0, \"#0d0887\"], [0.1111111111111111, \"#46039f\"], [0.2222222222222222, \"#7201a8\"], [0.3333333333333333, \"#9c179e\"], [0.4444444444444444, \"#bd3786\"], [0.5555555555555556, \"#d8576b\"], [0.6666666666666666, \"#ed7953\"], [0.7777777777777778, \"#fb9f3a\"], [0.8888888888888888, \"#fdca26\"], [1.0, \"#f0f921\"]], \"sequentialminus\": [[0.0, \"#0d0887\"], [0.1111111111111111, \"#46039f\"], [0.2222222222222222, \"#7201a8\"], [0.3333333333333333, \"#9c179e\"], [0.4444444444444444, \"#bd3786\"], [0.5555555555555556, \"#d8576b\"], [0.6666666666666666, \"#ed7953\"], [0.7777777777777778, \"#fb9f3a\"], [0.8888888888888888, \"#fdca26\"], [1.0, \"#f0f921\"]]}, \"colorway\": [\"#636efa\", \"#EF553B\", \"#00cc96\", \"#ab63fa\", \"#FFA15A\", \"#19d3f3\", \"#FF6692\", \"#B6E880\", \"#FF97FF\", \"#FECB52\"], \"font\": {\"color\": \"#2a3f5f\"}, \"geo\": {\"bgcolor\": \"white\", \"lakecolor\": \"white\", \"landcolor\": \"#E5ECF6\", \"showlakes\": true, \"showland\": true, \"subunitcolor\": \"white\"}, \"hoverlabel\": {\"align\": \"left\"}, \"hovermode\": \"closest\", \"mapbox\": {\"style\": \"light\"}, \"paper_bgcolor\": \"white\", \"plot_bgcolor\": \"#E5ECF6\", \"polar\": {\"angularaxis\": {\"gridcolor\": \"white\", \"linecolor\": \"white\", \"ticks\": \"\"}, \"bgcolor\": \"#E5ECF6\", \"radialaxis\": {\"gridcolor\": \"white\", \"linecolor\": \"white\", \"ticks\": \"\"}}, \"scene\": {\"xaxis\": {\"backgroundcolor\": \"#E5ECF6\", \"gridcolor\": \"white\", \"gridwidth\": 2, \"linecolor\": \"white\", \"showbackground\": true, \"ticks\": \"\", \"zerolinecolor\": \"white\"}, \"yaxis\": {\"backgroundcolor\": \"#E5ECF6\", \"gridcolor\": \"white\", \"gridwidth\": 2, \"linecolor\": \"white\", \"showbackground\": true, \"ticks\": \"\", \"zerolinecolor\": \"white\"}, \"zaxis\": {\"backgroundcolor\": \"#E5ECF6\", \"gridcolor\": \"white\", \"gridwidth\": 2, \"linecolor\": \"white\", \"showbackground\": true, \"ticks\": \"\", \"zerolinecolor\": \"white\"}}, \"shapedefaults\": {\"line\": {\"color\": \"#2a3f5f\"}}, \"ternary\": {\"aaxis\": {\"gridcolor\": \"white\", \"linecolor\": \"white\", \"ticks\": \"\"}, \"baxis\": {\"gridcolor\": \"white\", \"linecolor\": \"white\", \"ticks\": \"\"}, \"bgcolor\": \"#E5ECF6\", \"caxis\": {\"gridcolor\": \"white\", \"linecolor\": \"white\", \"ticks\": \"\"}}, \"title\": {\"x\": 0.05}, \"xaxis\": {\"automargin\": true, \"gridcolor\": \"white\", \"linecolor\": \"white\", \"ticks\": \"\", \"title\": {\"standoff\": 15}, \"zerolinecolor\": \"white\", \"zerolinewidth\": 2}, \"yaxis\": {\"automargin\": true, \"gridcolor\": \"white\", \"linecolor\": \"white\", \"ticks\": \"\", \"title\": {\"standoff\": 15}, \"zerolinecolor\": \"white\", \"zerolinewidth\": 2}}}, \"title\": {\"text\": \"xA PL MIDs\"}, \"xaxis\": {\"anchor\": \"y\", \"domain\": [0.0, 1.0], \"title\": {\"text\": \"Assist and XA Difference\"}}, \"yaxis\": {\"anchor\": \"x\", \"domain\": [0.0, 1.0], \"title\": {\"text\": \"xA\"}}},\n",
       "                        {\"responsive\": true}\n",
       "                    ).then(function(){\n",
       "                            \n",
       "var gd = document.getElementById('6268dcfd-c42a-4409-9629-4bbef18c3a56');\n",
       "var x = new MutationObserver(function (mutations, observer) {{\n",
       "        var display = window.getComputedStyle(gd).display;\n",
       "        if (!display || display === 'none') {{\n",
       "            console.log([gd, 'removed!']);\n",
       "            Plotly.purge(gd);\n",
       "            observer.disconnect();\n",
       "        }}\n",
       "}});\n",
       "\n",
       "// Listen for the removal of the full notebook cells\n",
       "var notebookContainer = gd.closest('#notebook-container');\n",
       "if (notebookContainer) {{\n",
       "    x.observe(notebookContainer, {childList: true});\n",
       "}}\n",
       "\n",
       "// Listen for the clearing of the current output cell\n",
       "var outputEl = gd.closest('.output');\n",
       "if (outputEl) {{\n",
       "    x.observe(outputEl, {childList: true});\n",
       "}}\n",
       "\n",
       "                        })\n",
       "                };\n",
       "                });\n",
       "            </script>\n",
       "        </div>"
      ]
     },
     "metadata": {},
     "output_type": "display_data"
    }
   ],
   "source": [
    "midStats2 = midStats[midStats['player_name'] != 'Kevin De Bruyne']\n",
    "\n",
    "midStats2['Assist and XA Difference'] = midStats2['assists'] - midStats2['xA']\n",
    "fig = px.scatter(midStats2, x=\"Assist and XA Difference\", y=\"xA\", color=\"player_name\", size = 'assists', hover_name=\"player_name\",\n",
    "                title = 'xA PL MIDs')\n",
    "fig.show()"
   ]
  },
  {
   "cell_type": "code",
   "execution_count": 85,
   "metadata": {},
   "outputs": [
    {
     "data": {
      "application/vnd.plotly.v1+json": {
       "config": {
        "plotlyServerURL": "https://plot.ly"
       },
       "data": [
        {
         "hovertemplate": "<b>%{hovertext}</b><br><br>player_name=Bruno Fernandes<br>Goal and XG Difference=%{x}<br>xG=%{y}<br>goals=%{marker.size}<extra></extra>",
         "hovertext": [
          "Bruno Fernandes"
         ],
         "legendgroup": "Bruno Fernandes",
         "marker": {
          "color": "#636efa",
          "size": [
           8
          ],
          "sizemode": "area",
          "sizeref": 0.02,
          "symbol": "circle"
         },
         "mode": "markers",
         "name": "Bruno Fernandes",
         "showlegend": true,
         "type": "scatter",
         "x": [
          2.0139194950461388
         ],
         "xaxis": "x",
         "y": [
          5.986080504953861
         ],
         "yaxis": "y"
        },
        {
         "hovertemplate": "<b>%{hovertext}</b><br><br>player_name=Jonjo Shelvey<br>Goal and XG Difference=%{x}<br>xG=%{y}<br>goals=%{marker.size}<extra></extra>",
         "hovertext": [
          "Jonjo Shelvey"
         ],
         "legendgroup": "Jonjo Shelvey",
         "marker": {
          "color": "#EF553B",
          "size": [
           6
          ],
          "sizemode": "area",
          "sizeref": 0.02,
          "symbol": "circle"
         },
         "mode": "markers",
         "name": "Jonjo Shelvey",
         "showlegend": true,
         "type": "scatter",
         "x": [
          3.7577862199395895
         ],
         "xaxis": "x",
         "y": [
          2.2422137800604105
         ],
         "yaxis": "y"
        },
        {
         "hovertemplate": "<b>%{hovertext}</b><br><br>player_name=James Maddison<br>Goal and XG Difference=%{x}<br>xG=%{y}<br>goals=%{marker.size}<extra></extra>",
         "hovertext": [
          "James Maddison"
         ],
         "legendgroup": "James Maddison",
         "marker": {
          "color": "#00cc96",
          "size": [
           6
          ],
          "sizemode": "area",
          "sizeref": 0.02,
          "symbol": "circle"
         },
         "mode": "markers",
         "name": "James Maddison",
         "showlegend": true,
         "type": "scatter",
         "x": [
          0.9782250840216875
         ],
         "xaxis": "x",
         "y": [
          5.0217749159783125
         ],
         "yaxis": "y"
        },
        {
         "hovertemplate": "<b>%{hovertext}</b><br><br>player_name=Todd Cantwell<br>Goal and XG Difference=%{x}<br>xG=%{y}<br>goals=%{marker.size}<extra></extra>",
         "hovertext": [
          "Todd Cantwell"
         ],
         "legendgroup": "Todd Cantwell",
         "marker": {
          "color": "#ab63fa",
          "size": [
           6
          ],
          "sizemode": "area",
          "sizeref": 0.02,
          "symbol": "circle"
         },
         "mode": "markers",
         "name": "Todd Cantwell",
         "showlegend": true,
         "type": "scatter",
         "x": [
          0.32495102006942034
         ],
         "xaxis": "x",
         "y": [
          5.67504897993058
         ],
         "yaxis": "y"
        },
        {
         "hovertemplate": "<b>%{hovertext}</b><br><br>player_name=David Silva<br>Goal and XG Difference=%{x}<br>xG=%{y}<br>goals=%{marker.size}<extra></extra>",
         "hovertext": [
          "David Silva"
         ],
         "legendgroup": "David Silva",
         "marker": {
          "color": "#FFA15A",
          "size": [
           5
          ],
          "sizemode": "area",
          "sizeref": 0.02,
          "symbol": "circle"
         },
         "mode": "markers",
         "name": "David Silva",
         "showlegend": true,
         "type": "scatter",
         "x": [
          -1.93236867710948
         ],
         "xaxis": "x",
         "y": [
          6.93236867710948
         ],
         "yaxis": "y"
        },
        {
         "hovertemplate": "<b>%{hovertext}</b><br><br>player_name=Andriy Yarmolenko<br>Goal and XG Difference=%{x}<br>xG=%{y}<br>goals=%{marker.size}<extra></extra>",
         "hovertext": [
          "Andriy Yarmolenko"
         ],
         "legendgroup": "Andriy Yarmolenko",
         "marker": {
          "color": "#19d3f3",
          "size": [
           5
          ],
          "sizemode": "area",
          "sizeref": 0.02,
          "symbol": "circle"
         },
         "mode": "markers",
         "name": "Andriy Yarmolenko",
         "showlegend": true,
         "type": "scatter",
         "x": [
          2.3744050227105618
         ],
         "xaxis": "x",
         "y": [
          2.6255949772894382
         ],
         "yaxis": "y"
        },
        {
         "hovertemplate": "<b>%{hovertext}</b><br><br>player_name=Stuart Armstrong<br>Goal and XG Difference=%{x}<br>xG=%{y}<br>goals=%{marker.size}<extra></extra>",
         "hovertext": [
          "Stuart Armstrong"
         ],
         "legendgroup": "Stuart Armstrong",
         "marker": {
          "color": "#FF6692",
          "size": [
           5
          ],
          "sizemode": "area",
          "sizeref": 0.02,
          "symbol": "circle"
         },
         "mode": "markers",
         "name": "Stuart Armstrong",
         "showlegend": true,
         "type": "scatter",
         "x": [
          1.8855591099709272
         ],
         "xaxis": "x",
         "y": [
          3.1144408900290728
         ],
         "yaxis": "y"
        },
        {
         "hovertemplate": "<b>%{hovertext}</b><br><br>player_name=John Lundstram<br>Goal and XG Difference=%{x}<br>xG=%{y}<br>goals=%{marker.size}<extra></extra>",
         "hovertext": [
          "John Lundstram"
         ],
         "legendgroup": "John Lundstram",
         "marker": {
          "color": "#B6E880",
          "size": [
           5
          ],
          "sizemode": "area",
          "sizeref": 0.02,
          "symbol": "circle"
         },
         "mode": "markers",
         "name": "John Lundstram",
         "showlegend": true,
         "type": "scatter",
         "x": [
          -0.921482932753861
         ],
         "xaxis": "x",
         "y": [
          5.921482932753861
         ],
         "yaxis": "y"
        },
        {
         "hovertemplate": "<b>%{hovertext}</b><br><br>player_name=John Fleck<br>Goal and XG Difference=%{x}<br>xG=%{y}<br>goals=%{marker.size}<extra></extra>",
         "hovertext": [
          "John Fleck"
         ],
         "legendgroup": "John Fleck",
         "marker": {
          "color": "#FF97FF",
          "size": [
           5
          ],
          "sizemode": "area",
          "sizeref": 0.02,
          "symbol": "circle"
         },
         "mode": "markers",
         "name": "John Fleck",
         "showlegend": true,
         "type": "scatter",
         "x": [
          1.7518981257453565
         ],
         "xaxis": "x",
         "y": [
          3.2481018742546435
         ],
         "yaxis": "y"
        },
        {
         "hovertemplate": "<b>%{hovertext}</b><br><br>player_name=Mark Noble<br>Goal and XG Difference=%{x}<br>xG=%{y}<br>goals=%{marker.size}<extra></extra>",
         "hovertext": [
          "Mark Noble"
         ],
         "legendgroup": "Mark Noble",
         "marker": {
          "color": "#FECB52",
          "size": [
           4
          ],
          "sizemode": "area",
          "sizeref": 0.02,
          "symbol": "circle"
         },
         "mode": "markers",
         "name": "Mark Noble",
         "showlegend": true,
         "type": "scatter",
         "x": [
          1.226173979230225
         ],
         "xaxis": "x",
         "y": [
          2.773826020769775
         ],
         "yaxis": "y"
        },
        {
         "hovertemplate": "<b>%{hovertext}</b><br><br>player_name=Jordan Henderson<br>Goal and XG Difference=%{x}<br>xG=%{y}<br>goals=%{marker.size}<extra></extra>",
         "hovertext": [
          "Jordan Henderson"
         ],
         "legendgroup": "Jordan Henderson",
         "marker": {
          "color": "#636efa",
          "size": [
           4
          ],
          "sizemode": "area",
          "sizeref": 0.02,
          "symbol": "circle"
         },
         "mode": "markers",
         "name": "Jordan Henderson",
         "showlegend": true,
         "type": "scatter",
         "x": [
          2.8153111841529608
         ],
         "xaxis": "x",
         "y": [
          1.1846888158470392
         ],
         "yaxis": "y"
        },
        {
         "hovertemplate": "<b>%{hovertext}</b><br><br>player_name=Georginio Wijnaldum<br>Goal and XG Difference=%{x}<br>xG=%{y}<br>goals=%{marker.size}<extra></extra>",
         "hovertext": [
          "Georginio Wijnaldum"
         ],
         "legendgroup": "Georginio Wijnaldum",
         "marker": {
          "color": "#EF553B",
          "size": [
           4
          ],
          "sizemode": "area",
          "sizeref": 0.02,
          "symbol": "circle"
         },
         "mode": "markers",
         "name": "Georginio Wijnaldum",
         "showlegend": true,
         "type": "scatter",
         "x": [
          1.3489184286445384
         ],
         "xaxis": "x",
         "y": [
          2.6510815713554616
         ],
         "yaxis": "y"
        },
        {
         "hovertemplate": "<b>%{hovertext}</b><br><br>player_name=Jorginho<br>Goal and XG Difference=%{x}<br>xG=%{y}<br>goals=%{marker.size}<extra></extra>",
         "hovertext": [
          "Jorginho"
         ],
         "legendgroup": "Jorginho",
         "marker": {
          "color": "#00cc96",
          "size": [
           4
          ],
          "sizemode": "area",
          "sizeref": 0.02,
          "symbol": "circle"
         },
         "mode": "markers",
         "name": "Jorginho",
         "showlegend": true,
         "type": "scatter",
         "x": [
          0.902995876967907
         ],
         "xaxis": "x",
         "y": [
          3.097004123032093
         ],
         "yaxis": "y"
        },
        {
         "hovertemplate": "<b>%{hovertext}</b><br><br>player_name=Abdoulaye Doucouré<br>Goal and XG Difference=%{x}<br>xG=%{y}<br>goals=%{marker.size}<extra></extra>",
         "hovertext": [
          "Abdoulaye Doucouré"
         ],
         "legendgroup": "Abdoulaye Doucouré",
         "marker": {
          "color": "#ab63fa",
          "size": [
           4
          ],
          "sizemode": "area",
          "sizeref": 0.02,
          "symbol": "circle"
         },
         "mode": "markers",
         "name": "Abdoulaye Doucouré",
         "showlegend": true,
         "type": "scatter",
         "x": [
          -1.2809096165001383
         ],
         "xaxis": "x",
         "y": [
          5.280909616500138
         ],
         "yaxis": "y"
        },
        {
         "hovertemplate": "<b>%{hovertext}</b><br><br>player_name=Dan Gosling<br>Goal and XG Difference=%{x}<br>xG=%{y}<br>goals=%{marker.size}<extra></extra>",
         "hovertext": [
          "Dan Gosling"
         ],
         "legendgroup": "Dan Gosling",
         "marker": {
          "color": "#FFA15A",
          "size": [
           3
          ],
          "sizemode": "area",
          "sizeref": 0.02,
          "symbol": "circle"
         },
         "mode": "markers",
         "name": "Dan Gosling",
         "showlegend": true,
         "type": "scatter",
         "x": [
          0.07013613916933537
         ],
         "xaxis": "x",
         "y": [
          2.9298638608306646
         ],
         "yaxis": "y"
        },
        {
         "hovertemplate": "<b>%{hovertext}</b><br><br>player_name=N&#039;Golo Kanté<br>Goal and XG Difference=%{x}<br>xG=%{y}<br>goals=%{marker.size}<extra></extra>",
         "hovertext": [
          "N&#039;Golo Kanté"
         ],
         "legendgroup": "N&#039;Golo Kanté",
         "marker": {
          "color": "#19d3f3",
          "size": [
           3
          ],
          "sizemode": "area",
          "sizeref": 0.02,
          "symbol": "circle"
         },
         "mode": "markers",
         "name": "N&#039;Golo Kanté",
         "showlegend": true,
         "type": "scatter",
         "x": [
          1.45608704444021
         ],
         "xaxis": "x",
         "y": [
          1.54391295555979
         ],
         "yaxis": "y"
        },
        {
         "hovertemplate": "<b>%{hovertext}</b><br><br>player_name=Luka Milivojevic<br>Goal and XG Difference=%{x}<br>xG=%{y}<br>goals=%{marker.size}<extra></extra>",
         "hovertext": [
          "Luka Milivojevic"
         ],
         "legendgroup": "Luka Milivojevic",
         "marker": {
          "color": "#FF6692",
          "size": [
           3
          ],
          "sizemode": "area",
          "sizeref": 0.02,
          "symbol": "circle"
         },
         "mode": "markers",
         "name": "Luka Milivojevic",
         "showlegend": true,
         "type": "scatter",
         "x": [
          0.5042843306437135
         ],
         "xaxis": "x",
         "y": [
          2.4957156693562865
         ],
         "yaxis": "y"
        },
        {
         "hovertemplate": "<b>%{hovertext}</b><br><br>player_name=Scott McTominay<br>Goal and XG Difference=%{x}<br>xG=%{y}<br>goals=%{marker.size}<extra></extra>",
         "hovertext": [
          "Scott McTominay"
         ],
         "legendgroup": "Scott McTominay",
         "marker": {
          "color": "#B6E880",
          "size": [
           3
          ],
          "sizemode": "area",
          "sizeref": 0.02,
          "symbol": "circle"
         },
         "mode": "markers",
         "name": "Scott McTominay",
         "showlegend": true,
         "type": "scatter",
         "x": [
          0.9780171308666472
         ],
         "xaxis": "x",
         "y": [
          2.021982869133353
         ],
         "yaxis": "y"
        },
        {
         "hovertemplate": "<b>%{hovertext}</b><br><br>player_name=Youri Tielemans<br>Goal and XG Difference=%{x}<br>xG=%{y}<br>goals=%{marker.size}<extra></extra>",
         "hovertext": [
          "Youri Tielemans"
         ],
         "legendgroup": "Youri Tielemans",
         "marker": {
          "color": "#FF97FF",
          "size": [
           3
          ],
          "sizemode": "area",
          "sizeref": 0.02,
          "symbol": "circle"
         },
         "mode": "markers",
         "name": "Youri Tielemans",
         "showlegend": true,
         "type": "scatter",
         "x": [
          0.20761901326477528
         ],
         "xaxis": "x",
         "y": [
          2.7923809867352247
         ],
         "yaxis": "y"
        },
        {
         "hovertemplate": "<b>%{hovertext}</b><br><br>player_name=Douglas Luiz<br>Goal and XG Difference=%{x}<br>xG=%{y}<br>goals=%{marker.size}<extra></extra>",
         "hovertext": [
          "Douglas Luiz"
         ],
         "legendgroup": "Douglas Luiz",
         "marker": {
          "color": "#FECB52",
          "size": [
           3
          ],
          "sizemode": "area",
          "sizeref": 0.02,
          "symbol": "circle"
         },
         "mode": "markers",
         "name": "Douglas Luiz",
         "showlegend": true,
         "type": "scatter",
         "x": [
          0.7222045622766022
         ],
         "xaxis": "x",
         "y": [
          2.2777954377233978
         ],
         "yaxis": "y"
        },
        {
         "hovertemplate": "<b>%{hovertext}</b><br><br>player_name=Bernard<br>Goal and XG Difference=%{x}<br>xG=%{y}<br>goals=%{marker.size}<extra></extra>",
         "hovertext": [
          "Bernard"
         ],
         "legendgroup": "Bernard",
         "marker": {
          "color": "#636efa",
          "size": [
           3
          ],
          "sizemode": "area",
          "sizeref": 0.02,
          "symbol": "circle"
         },
         "mode": "markers",
         "name": "Bernard",
         "showlegend": true,
         "type": "scatter",
         "x": [
          1.3024345375597477
         ],
         "xaxis": "x",
         "y": [
          1.6975654624402523
         ],
         "yaxis": "y"
        },
        {
         "hovertemplate": "<b>%{hovertext}</b><br><br>player_name=Conor Hourihane<br>Goal and XG Difference=%{x}<br>xG=%{y}<br>goals=%{marker.size}<extra></extra>",
         "hovertext": [
          "Conor Hourihane"
         ],
         "legendgroup": "Conor Hourihane",
         "marker": {
          "color": "#EF553B",
          "size": [
           3
          ],
          "sizemode": "area",
          "sizeref": 0.02,
          "symbol": "circle"
         },
         "mode": "markers",
         "name": "Conor Hourihane",
         "showlegend": true,
         "type": "scatter",
         "x": [
          1.371660677716136
         ],
         "xaxis": "x",
         "y": [
          1.628339322283864
         ],
         "yaxis": "y"
        },
        {
         "hovertemplate": "<b>%{hovertext}</b><br><br>player_name=John McGinn<br>Goal and XG Difference=%{x}<br>xG=%{y}<br>goals=%{marker.size}<extra></extra>",
         "hovertext": [
          "John McGinn"
         ],
         "legendgroup": "John McGinn",
         "marker": {
          "color": "#00cc96",
          "size": [
           3
          ],
          "sizemode": "area",
          "sizeref": 0.02,
          "symbol": "circle"
         },
         "mode": "markers",
         "name": "John McGinn",
         "showlegend": true,
         "type": "scatter",
         "x": [
          -0.9825730072334413
         ],
         "xaxis": "x",
         "y": [
          3.9825730072334413
         ],
         "yaxis": "y"
        },
        {
         "hovertemplate": "<b>%{hovertext}</b><br><br>player_name=Gabriel Martinelli<br>Goal and XG Difference=%{x}<br>xG=%{y}<br>goals=%{marker.size}<extra></extra>",
         "hovertext": [
          "Gabriel Martinelli"
         ],
         "legendgroup": "Gabriel Martinelli",
         "marker": {
          "color": "#ab63fa",
          "size": [
           3
          ],
          "sizemode": "area",
          "sizeref": 0.02,
          "symbol": "circle"
         },
         "mode": "markers",
         "name": "Gabriel Martinelli",
         "showlegend": true,
         "type": "scatter",
         "x": [
          0.7575165443122387
         ],
         "xaxis": "x",
         "y": [
          2.2424834556877613
         ],
         "yaxis": "y"
        },
        {
         "hovertemplate": "<b>%{hovertext}</b><br><br>player_name=Tomas Soucek<br>Goal and XG Difference=%{x}<br>xG=%{y}<br>goals=%{marker.size}<extra></extra>",
         "hovertext": [
          "Tomas Soucek"
         ],
         "legendgroup": "Tomas Soucek",
         "marker": {
          "color": "#FFA15A",
          "size": [
           3
          ],
          "sizemode": "area",
          "sizeref": 0.02,
          "symbol": "circle"
         },
         "mode": "markers",
         "name": "Tomas Soucek",
         "showlegend": true,
         "type": "scatter",
         "x": [
          0.5816259756684303
         ],
         "xaxis": "x",
         "y": [
          2.4183740243315697
         ],
         "yaxis": "y"
        },
        {
         "hovertemplate": "<b>%{hovertext}</b><br><br>player_name=Ilkay Gündogan<br>Goal and XG Difference=%{x}<br>xG=%{y}<br>goals=%{marker.size}<extra></extra>",
         "hovertext": [
          "Ilkay Gündogan"
         ],
         "legendgroup": "Ilkay Gündogan",
         "marker": {
          "color": "#19d3f3",
          "size": [
           2
          ],
          "sizemode": "area",
          "sizeref": 0.02,
          "symbol": "circle"
         },
         "mode": "markers",
         "name": "Ilkay Gündogan",
         "showlegend": true,
         "type": "scatter",
         "x": [
          -2.3467030934989443
         ],
         "xaxis": "x",
         "y": [
          4.346703093498944
         ],
         "yaxis": "y"
        },
        {
         "hovertemplate": "<b>%{hovertext}</b><br><br>player_name=Theo Walcott<br>Goal and XG Difference=%{x}<br>xG=%{y}<br>goals=%{marker.size}<extra></extra>",
         "hovertext": [
          "Theo Walcott"
         ],
         "legendgroup": "Theo Walcott",
         "marker": {
          "color": "#FF6692",
          "size": [
           2
          ],
          "sizemode": "area",
          "sizeref": 0.02,
          "symbol": "circle"
         },
         "mode": "markers",
         "name": "Theo Walcott",
         "showlegend": true,
         "type": "scatter",
         "x": [
          -1.4808373413980007
         ],
         "xaxis": "x",
         "y": [
          3.4808373413980007
         ],
         "yaxis": "y"
        },
        {
         "hovertemplate": "<b>%{hovertext}</b><br><br>player_name=Ashley Westwood<br>Goal and XG Difference=%{x}<br>xG=%{y}<br>goals=%{marker.size}<extra></extra>",
         "hovertext": [
          "Ashley Westwood"
         ],
         "legendgroup": "Ashley Westwood",
         "marker": {
          "color": "#B6E880",
          "size": [
           2
          ],
          "sizemode": "area",
          "sizeref": 0.02,
          "symbol": "circle"
         },
         "mode": "markers",
         "name": "Ashley Westwood",
         "showlegend": true,
         "type": "scatter",
         "x": [
          0.8248374247923491
         ],
         "xaxis": "x",
         "y": [
          1.1751625752076509
         ],
         "yaxis": "y"
        },
        {
         "hovertemplate": "<b>%{hovertext}</b><br><br>player_name=Gylfi Sigurdsson<br>Goal and XG Difference=%{x}<br>xG=%{y}<br>goals=%{marker.size}<extra></extra>",
         "hovertext": [
          "Gylfi Sigurdsson"
         ],
         "legendgroup": "Gylfi Sigurdsson",
         "marker": {
          "color": "#FF97FF",
          "size": [
           2
          ],
          "sizemode": "area",
          "sizeref": 0.02,
          "symbol": "circle"
         },
         "mode": "markers",
         "name": "Gylfi Sigurdsson",
         "showlegend": true,
         "type": "scatter",
         "x": [
          -2.0193677539937207
         ],
         "xaxis": "x",
         "y": [
          4.019367753993721
         ],
         "yaxis": "y"
        },
        {
         "hovertemplate": "<b>%{hovertext}</b><br><br>player_name=Demarai Gray<br>Goal and XG Difference=%{x}<br>xG=%{y}<br>goals=%{marker.size}<extra></extra>",
         "hovertext": [
          "Demarai Gray"
         ],
         "legendgroup": "Demarai Gray",
         "marker": {
          "color": "#FECB52",
          "size": [
           2
          ],
          "sizemode": "area",
          "sizeref": 0.02,
          "symbol": "circle"
         },
         "mode": "markers",
         "name": "Demarai Gray",
         "showlegend": true,
         "type": "scatter",
         "x": [
          -0.767196649685502
         ],
         "xaxis": "x",
         "y": [
          2.767196649685502
         ],
         "yaxis": "y"
        },
        {
         "hovertemplate": "<b>%{hovertext}</b><br><br>player_name=Jeff Hendrick<br>Goal and XG Difference=%{x}<br>xG=%{y}<br>goals=%{marker.size}<extra></extra>",
         "hovertext": [
          "Jeff Hendrick"
         ],
         "legendgroup": "Jeff Hendrick",
         "marker": {
          "color": "#636efa",
          "size": [
           2
          ],
          "sizemode": "area",
          "sizeref": 0.02,
          "symbol": "circle"
         },
         "mode": "markers",
         "name": "Jeff Hendrick",
         "showlegend": true,
         "type": "scatter",
         "x": [
          -0.10208363458514169
         ],
         "xaxis": "x",
         "y": [
          2.1020836345851417
         ],
         "yaxis": "y"
        },
        {
         "hovertemplate": "<b>%{hovertext}</b><br><br>player_name=Jonny<br>Goal and XG Difference=%{x}<br>xG=%{y}<br>goals=%{marker.size}<extra></extra>",
         "hovertext": [
          "Jonny"
         ],
         "legendgroup": "Jonny",
         "marker": {
          "color": "#EF553B",
          "size": [
           2
          ],
          "sizemode": "area",
          "sizeref": 0.02,
          "symbol": "circle"
         },
         "mode": "markers",
         "name": "Jonny",
         "showlegend": true,
         "type": "scatter",
         "x": [
          0.3859572820365431
         ],
         "xaxis": "x",
         "y": [
          1.6140427179634569
         ],
         "yaxis": "y"
        },
        {
         "hovertemplate": "<b>%{hovertext}</b><br><br>player_name=Pablo Fornals<br>Goal and XG Difference=%{x}<br>xG=%{y}<br>goals=%{marker.size}<extra></extra>",
         "hovertext": [
          "Pablo Fornals"
         ],
         "legendgroup": "Pablo Fornals",
         "marker": {
          "color": "#00cc96",
          "size": [
           2
          ],
          "sizemode": "area",
          "sizeref": 0.02,
          "symbol": "circle"
         },
         "mode": "markers",
         "name": "Pablo Fornals",
         "showlegend": true,
         "type": "scatter",
         "x": [
          -0.6434274353086948
         ],
         "xaxis": "x",
         "y": [
          2.643427435308695
         ],
         "yaxis": "y"
        },
        {
         "hovertemplate": "<b>%{hovertext}</b><br><br>player_name=Fabinho<br>Goal and XG Difference=%{x}<br>xG=%{y}<br>goals=%{marker.size}<extra></extra>",
         "hovertext": [
          "Fabinho"
         ],
         "legendgroup": "Fabinho",
         "marker": {
          "color": "#ab63fa",
          "size": [
           2
          ],
          "sizemode": "area",
          "sizeref": 0.02,
          "symbol": "circle"
         },
         "mode": "markers",
         "name": "Fabinho",
         "showlegend": true,
         "type": "scatter",
         "x": [
          1.691898474469781
         ],
         "xaxis": "x",
         "y": [
          0.3081015255302191
         ],
         "yaxis": "y"
        },
        {
         "hovertemplate": "<b>%{hovertext}</b><br><br>player_name=Naby Keita<br>Goal and XG Difference=%{x}<br>xG=%{y}<br>goals=%{marker.size}<extra></extra>",
         "hovertext": [
          "Naby Keita"
         ],
         "legendgroup": "Naby Keita",
         "marker": {
          "color": "#FFA15A",
          "size": [
           2
          ],
          "sizemode": "area",
          "sizeref": 0.02,
          "symbol": "circle"
         },
         "mode": "markers",
         "name": "Naby Keita",
         "showlegend": true,
         "type": "scatter",
         "x": [
          0.27662608958780766
         ],
         "xaxis": "x",
         "y": [
          1.7233739104121923
         ],
         "yaxis": "y"
        },
        {
         "hovertemplate": "<b>%{hovertext}</b><br><br>player_name=Wilfred Ndidi<br>Goal and XG Difference=%{x}<br>xG=%{y}<br>goals=%{marker.size}<extra></extra>",
         "hovertext": [
          "Wilfred Ndidi"
         ],
         "legendgroup": "Wilfred Ndidi",
         "marker": {
          "color": "#19d3f3",
          "size": [
           2
          ],
          "sizemode": "area",
          "sizeref": 0.02,
          "symbol": "circle"
         },
         "mode": "markers",
         "name": "Wilfred Ndidi",
         "showlegend": true,
         "type": "scatter",
         "x": [
          0.27272842545062304
         ],
         "xaxis": "x",
         "y": [
          1.727271574549377
         ],
         "yaxis": "y"
        },
        {
         "hovertemplate": "<b>%{hovertext}</b><br><br>player_name=Tanguy NDombele Alvaro<br>Goal and XG Difference=%{x}<br>xG=%{y}<br>goals=%{marker.size}<extra></extra>",
         "hovertext": [
          "Tanguy NDombele Alvaro"
         ],
         "legendgroup": "Tanguy NDombele Alvaro",
         "marker": {
          "color": "#FF6692",
          "size": [
           2
          ],
          "sizemode": "area",
          "sizeref": 0.02,
          "symbol": "circle"
         },
         "mode": "markers",
         "name": "Tanguy NDombele Alvaro",
         "showlegend": true,
         "type": "scatter",
         "x": [
          1.647045012563467
         ],
         "xaxis": "x",
         "y": [
          0.352954987436533
         ],
         "yaxis": "y"
        },
        {
         "hovertemplate": "<b>%{hovertext}</b><br><br>player_name=Dwight McNeil<br>Goal and XG Difference=%{x}<br>xG=%{y}<br>goals=%{marker.size}<extra></extra>",
         "hovertext": [
          "Dwight McNeil"
         ],
         "legendgroup": "Dwight McNeil",
         "marker": {
          "color": "#B6E880",
          "size": [
           2
          ],
          "sizemode": "area",
          "sizeref": 0.02,
          "symbol": "circle"
         },
         "mode": "markers",
         "name": "Dwight McNeil",
         "showlegend": true,
         "type": "scatter",
         "x": [
          0.06106645427644275
         ],
         "xaxis": "x",
         "y": [
          1.9389335457235573
         ],
         "yaxis": "y"
        },
        {
         "hovertemplate": "<b>%{hovertext}</b><br><br>player_name=Rúben Neves<br>Goal and XG Difference=%{x}<br>xG=%{y}<br>goals=%{marker.size}<extra></extra>",
         "hovertext": [
          "Rúben Neves"
         ],
         "legendgroup": "Rúben Neves",
         "marker": {
          "color": "#FF97FF",
          "size": [
           2
          ],
          "sizemode": "area",
          "sizeref": 0.02,
          "symbol": "circle"
         },
         "mode": "markers",
         "name": "Rúben Neves",
         "showlegend": true,
         "type": "scatter",
         "x": [
          0.361916309222579
         ],
         "xaxis": "x",
         "y": [
          1.638083690777421
         ],
         "yaxis": "y"
        },
        {
         "hovertemplate": "<b>%{hovertext}</b><br><br>player_name=George Baldock<br>Goal and XG Difference=%{x}<br>xG=%{y}<br>goals=%{marker.size}<extra></extra>",
         "hovertext": [
          "George Baldock"
         ],
         "legendgroup": "George Baldock",
         "marker": {
          "color": "#FECB52",
          "size": [
           2
          ],
          "sizemode": "area",
          "sizeref": 0.02,
          "symbol": "circle"
         },
         "mode": "markers",
         "name": "George Baldock",
         "showlegend": true,
         "type": "scatter",
         "x": [
          1.2369942124933004
         ],
         "xaxis": "x",
         "y": [
          0.7630057875066996
         ],
         "yaxis": "y"
        },
        {
         "hovertemplate": "<b>%{hovertext}</b><br><br>player_name=Enda Stevens<br>Goal and XG Difference=%{x}<br>xG=%{y}<br>goals=%{marker.size}<extra></extra>",
         "hovertext": [
          "Enda Stevens"
         ],
         "legendgroup": "Enda Stevens",
         "marker": {
          "color": "#636efa",
          "size": [
           2
          ],
          "sizemode": "area",
          "sizeref": 0.02,
          "symbol": "circle"
         },
         "mode": "markers",
         "name": "Enda Stevens",
         "showlegend": true,
         "type": "scatter",
         "x": [
          0.47874312847852685
         ],
         "xaxis": "x",
         "y": [
          1.5212568715214732
         ],
         "yaxis": "y"
        },
        {
         "hovertemplate": "<b>%{hovertext}</b><br><br>player_name=Matthew Longstaff<br>Goal and XG Difference=%{x}<br>xG=%{y}<br>goals=%{marker.size}<extra></extra>",
         "hovertext": [
          "Matthew Longstaff"
         ],
         "legendgroup": "Matthew Longstaff",
         "marker": {
          "color": "#EF553B",
          "size": [
           2
          ],
          "sizemode": "area",
          "sizeref": 0.02,
          "symbol": "circle"
         },
         "mode": "markers",
         "name": "Matthew Longstaff",
         "showlegend": true,
         "type": "scatter",
         "x": [
          1.3034817911684513
         ],
         "xaxis": "x",
         "y": [
          0.6965182088315487
         ],
         "yaxis": "y"
        },
        {
         "hovertemplate": "<b>%{hovertext}</b><br><br>player_name=Mario Vrancic<br>Goal and XG Difference=%{x}<br>xG=%{y}<br>goals=%{marker.size}<extra></extra>",
         "hovertext": [
          "Mario Vrancic"
         ],
         "legendgroup": "Mario Vrancic",
         "marker": {
          "color": "#00cc96",
          "size": [
           1
          ],
          "sizemode": "area",
          "sizeref": 0.02,
          "symbol": "circle"
         },
         "mode": "markers",
         "name": "Mario Vrancic",
         "showlegend": true,
         "type": "scatter",
         "x": [
          -0.09788380190730095
         ],
         "xaxis": "x",
         "y": [
          1.097883801907301
         ],
         "yaxis": "y"
        },
        {
         "hovertemplate": "<b>%{hovertext}</b><br><br>player_name=Granit Xhaka<br>Goal and XG Difference=%{x}<br>xG=%{y}<br>goals=%{marker.size}<extra></extra>",
         "hovertext": [
          "Granit Xhaka"
         ],
         "legendgroup": "Granit Xhaka",
         "marker": {
          "color": "#ab63fa",
          "size": [
           1
          ],
          "sizemode": "area",
          "sizeref": 0.02,
          "symbol": "circle"
         },
         "mode": "markers",
         "name": "Granit Xhaka",
         "showlegend": true,
         "type": "scatter",
         "x": [
          0.4287700904533267
         ],
         "xaxis": "x",
         "y": [
          0.5712299095466733
         ],
         "yaxis": "y"
        },
        {
         "hovertemplate": "<b>%{hovertext}</b><br><br>player_name=Adam Lallana<br>Goal and XG Difference=%{x}<br>xG=%{y}<br>goals=%{marker.size}<extra></extra>",
         "hovertext": [
          "Adam Lallana"
         ],
         "legendgroup": "Adam Lallana",
         "marker": {
          "color": "#FFA15A",
          "size": [
           1
          ],
          "sizemode": "area",
          "sizeref": 0.02,
          "symbol": "circle"
         },
         "mode": "markers",
         "name": "Adam Lallana",
         "showlegend": true,
         "type": "scatter",
         "x": [
          0.19131497666239738
         ],
         "xaxis": "x",
         "y": [
          0.8086850233376026
         ],
         "yaxis": "y"
        },
        {
         "hovertemplate": "<b>%{hovertext}</b><br><br>player_name=Mesut Özil<br>Goal and XG Difference=%{x}<br>xG=%{y}<br>goals=%{marker.size}<extra></extra>",
         "hovertext": [
          "Mesut Özil"
         ],
         "legendgroup": "Mesut Özil",
         "marker": {
          "color": "#19d3f3",
          "size": [
           1
          ],
          "sizemode": "area",
          "sizeref": 0.02,
          "symbol": "circle"
         },
         "mode": "markers",
         "name": "Mesut Özil",
         "showlegend": true,
         "type": "scatter",
         "x": [
          -0.7082734499126673
         ],
         "xaxis": "x",
         "y": [
          1.7082734499126673
         ],
         "yaxis": "y"
        },
        {
         "hovertemplate": "<b>%{hovertext}</b><br><br>player_name=Jesse Lingard<br>Goal and XG Difference=%{x}<br>xG=%{y}<br>goals=%{marker.size}<extra></extra>",
         "hovertext": [
          "Jesse Lingard"
         ],
         "legendgroup": "Jesse Lingard",
         "marker": {
          "color": "#FF6692",
          "size": [
           1
          ],
          "sizemode": "area",
          "sizeref": 0.02,
          "symbol": "circle"
         },
         "mode": "markers",
         "name": "Jesse Lingard",
         "showlegend": true,
         "type": "scatter",
         "x": [
          -1.3275695517659187
         ],
         "xaxis": "x",
         "y": [
          2.3275695517659187
         ],
         "yaxis": "y"
        },
        {
         "hovertemplate": "<b>%{hovertext}</b><br><br>player_name=Ross Barkley<br>Goal and XG Difference=%{x}<br>xG=%{y}<br>goals=%{marker.size}<extra></extra>",
         "hovertext": [
          "Ross Barkley"
         ],
         "legendgroup": "Ross Barkley",
         "marker": {
          "color": "#B6E880",
          "size": [
           1
          ],
          "sizemode": "area",
          "sizeref": 0.02,
          "symbol": "circle"
         },
         "mode": "markers",
         "name": "Ross Barkley",
         "showlegend": true,
         "type": "scatter",
         "x": [
          -1.8449643328785896
         ],
         "xaxis": "x",
         "y": [
          2.8449643328785896
         ],
         "yaxis": "y"
        },
        {
         "hovertemplate": "<b>%{hovertext}</b><br><br>player_name=Tom Cleverley<br>Goal and XG Difference=%{x}<br>xG=%{y}<br>goals=%{marker.size}<extra></extra>",
         "hovertext": [
          "Tom Cleverley"
         ],
         "legendgroup": "Tom Cleverley",
         "marker": {
          "color": "#FF97FF",
          "size": [
           1
          ],
          "sizemode": "area",
          "sizeref": 0.02,
          "symbol": "circle"
         },
         "mode": "markers",
         "name": "Tom Cleverley",
         "showlegend": true,
         "type": "scatter",
         "x": [
          -0.7800701409578323
         ],
         "xaxis": "x",
         "y": [
          1.7800701409578323
         ],
         "yaxis": "y"
        },
        {
         "hovertemplate": "<b>%{hovertext}</b><br><br>player_name=Andros Townsend<br>Goal and XG Difference=%{x}<br>xG=%{y}<br>goals=%{marker.size}<extra></extra>",
         "hovertext": [
          "Andros Townsend"
         ],
         "legendgroup": "Andros Townsend",
         "marker": {
          "color": "#FECB52",
          "size": [
           1
          ],
          "sizemode": "area",
          "sizeref": 0.02,
          "symbol": "circle"
         },
         "mode": "markers",
         "name": "Andros Townsend",
         "showlegend": true,
         "type": "scatter",
         "x": [
          0.6043378543108702
         ],
         "xaxis": "x",
         "y": [
          0.3956621456891298
         ],
         "yaxis": "y"
        },
        {
         "hovertemplate": "<b>%{hovertext}</b><br><br>player_name=Robbie Brady<br>Goal and XG Difference=%{x}<br>xG=%{y}<br>goals=%{marker.size}<extra></extra>",
         "hovertext": [
          "Robbie Brady"
         ],
         "legendgroup": "Robbie Brady",
         "marker": {
          "color": "#636efa",
          "size": [
           1
          ],
          "sizemode": "area",
          "sizeref": 0.02,
          "symbol": "circle"
         },
         "mode": "markers",
         "name": "Robbie Brady",
         "showlegend": true,
         "type": "scatter",
         "x": [
          0.003499802201986424
         ],
         "xaxis": "x",
         "y": [
          0.9965001977980136
         ],
         "yaxis": "y"
        },
        {
         "hovertemplate": "<b>%{hovertext}</b><br><br>player_name=Xherdan Shaqiri<br>Goal and XG Difference=%{x}<br>xG=%{y}<br>goals=%{marker.size}<extra></extra>",
         "hovertext": [
          "Xherdan Shaqiri"
         ],
         "legendgroup": "Xherdan Shaqiri",
         "marker": {
          "color": "#EF553B",
          "size": [
           1
          ],
          "sizemode": "area",
          "sizeref": 0.02,
          "symbol": "circle"
         },
         "mode": "markers",
         "name": "Xherdan Shaqiri",
         "showlegend": true,
         "type": "scatter",
         "x": [
          0.4591592624783516
         ],
         "xaxis": "x",
         "y": [
          0.5408407375216484
         ],
         "yaxis": "y"
        },
        {
         "hovertemplate": "<b>%{hovertext}</b><br><br>player_name=Andreas Pereira<br>Goal and XG Difference=%{x}<br>xG=%{y}<br>goals=%{marker.size}<extra></extra>",
         "hovertext": [
          "Andreas Pereira"
         ],
         "legendgroup": "Andreas Pereira",
         "marker": {
          "color": "#00cc96",
          "size": [
           1
          ],
          "sizemode": "area",
          "sizeref": 0.02,
          "symbol": "circle"
         },
         "mode": "markers",
         "name": "Andreas Pereira",
         "showlegend": true,
         "type": "scatter",
         "x": [
          -1.2855918873101477
         ],
         "xaxis": "x",
         "y": [
          2.2855918873101477
         ],
         "yaxis": "y"
        },
        {
         "hovertemplate": "<b>%{hovertext}</b><br><br>player_name=Tom Davies<br>Goal and XG Difference=%{x}<br>xG=%{y}<br>goals=%{marker.size}<extra></extra>",
         "hovertext": [
          "Tom Davies"
         ],
         "legendgroup": "Tom Davies",
         "marker": {
          "color": "#ab63fa",
          "size": [
           1
          ],
          "sizemode": "area",
          "sizeref": 0.02,
          "symbol": "circle"
         },
         "mode": "markers",
         "name": "Tom Davies",
         "showlegend": true,
         "type": "scatter",
         "x": [
          -0.6402476858347654
         ],
         "xaxis": "x",
         "y": [
          1.6402476858347654
         ],
         "yaxis": "y"
        },
        {
         "hovertemplate": "<b>%{hovertext}</b><br><br>player_name=Felipe Anderson<br>Goal and XG Difference=%{x}<br>xG=%{y}<br>goals=%{marker.size}<extra></extra>",
         "hovertext": [
          "Felipe Anderson"
         ],
         "legendgroup": "Felipe Anderson",
         "marker": {
          "color": "#FFA15A",
          "size": [
           1
          ],
          "sizemode": "area",
          "sizeref": 0.02,
          "symbol": "circle"
         },
         "mode": "markers",
         "name": "Felipe Anderson",
         "showlegend": true,
         "type": "scatter",
         "x": [
          -1.6348467022180562
         ],
         "xaxis": "x",
         "y": [
          2.634846702218056
         ],
         "yaxis": "y"
        },
        {
         "hovertemplate": "<b>%{hovertext}</b><br><br>player_name=Lucas Torreira<br>Goal and XG Difference=%{x}<br>xG=%{y}<br>goals=%{marker.size}<extra></extra>",
         "hovertext": [
          "Lucas Torreira"
         ],
         "legendgroup": "Lucas Torreira",
         "marker": {
          "color": "#19d3f3",
          "size": [
           1
          ],
          "sizemode": "area",
          "sizeref": 0.02,
          "symbol": "circle"
         },
         "mode": "markers",
         "name": "Lucas Torreira",
         "showlegend": true,
         "type": "scatter",
         "x": [
          -0.4572487138211727
         ],
         "xaxis": "x",
         "y": [
          1.4572487138211727
         ],
         "yaxis": "y"
        },
        {
         "hovertemplate": "<b>%{hovertext}</b><br><br>player_name=Dennis Praet<br>Goal and XG Difference=%{x}<br>xG=%{y}<br>goals=%{marker.size}<extra></extra>",
         "hovertext": [
          "Dennis Praet"
         ],
         "legendgroup": "Dennis Praet",
         "marker": {
          "color": "#FF6692",
          "size": [
           1
          ],
          "sizemode": "area",
          "sizeref": 0.02,
          "symbol": "circle"
         },
         "mode": "markers",
         "name": "Dennis Praet",
         "showlegend": true,
         "type": "scatter",
         "x": [
          -0.20771589037030935
         ],
         "xaxis": "x",
         "y": [
          1.2077158903703094
         ],
         "yaxis": "y"
        },
        {
         "hovertemplate": "<b>%{hovertext}</b><br><br>player_name=Johann Berg Gudmundsson<br>Goal and XG Difference=%{x}<br>xG=%{y}<br>goals=%{marker.size}<extra></extra>",
         "hovertext": [
          "Johann Berg Gudmundsson"
         ],
         "legendgroup": "Johann Berg Gudmundsson",
         "marker": {
          "color": "#B6E880",
          "size": [
           1
          ],
          "sizemode": "area",
          "sizeref": 0.02,
          "symbol": "circle"
         },
         "mode": "markers",
         "name": "Johann Berg Gudmundsson",
         "showlegend": true,
         "type": "scatter",
         "x": [
          0.27646173536777496
         ],
         "xaxis": "x",
         "y": [
          0.723538264632225
         ],
         "yaxis": "y"
        },
        {
         "hovertemplate": "<b>%{hovertext}</b><br><br>player_name=Paul Pogba<br>Goal and XG Difference=%{x}<br>xG=%{y}<br>goals=%{marker.size}<extra></extra>",
         "hovertext": [
          "Paul Pogba"
         ],
         "legendgroup": "Paul Pogba",
         "marker": {
          "color": "#FF97FF",
          "size": [
           1
          ],
          "sizemode": "area",
          "sizeref": 0.02,
          "symbol": "circle"
         },
         "mode": "markers",
         "name": "Paul Pogba",
         "showlegend": true,
         "type": "scatter",
         "x": [
          -1.1508691580966115
         ],
         "xaxis": "x",
         "y": [
          2.1508691580966115
         ],
         "yaxis": "y"
        },
        {
         "hovertemplate": "<b>%{hovertext}</b><br><br>player_name=Jarrod Bowen<br>Goal and XG Difference=%{x}<br>xG=%{y}<br>goals=%{marker.size}<extra></extra>",
         "hovertext": [
          "Jarrod Bowen"
         ],
         "legendgroup": "Jarrod Bowen",
         "marker": {
          "color": "#FECB52",
          "size": [
           1
          ],
          "sizemode": "area",
          "sizeref": 0.02,
          "symbol": "circle"
         },
         "mode": "markers",
         "name": "Jarrod Bowen",
         "showlegend": true,
         "type": "scatter",
         "x": [
          -1.3164738304913044
         ],
         "xaxis": "x",
         "y": [
          2.3164738304913044
         ],
         "yaxis": "y"
        },
        {
         "hovertemplate": "<b>%{hovertext}</b><br><br>player_name=Jefferson Lerma<br>Goal and XG Difference=%{x}<br>xG=%{y}<br>goals=%{marker.size}<extra></extra>",
         "hovertext": [
          "Jefferson Lerma"
         ],
         "legendgroup": "Jefferson Lerma",
         "marker": {
          "color": "#636efa",
          "size": [
           1
          ],
          "sizemode": "area",
          "sizeref": 0.02,
          "symbol": "circle"
         },
         "mode": "markers",
         "name": "Jefferson Lerma",
         "showlegend": true,
         "type": "scatter",
         "x": [
          0.1846688585355878
         ],
         "xaxis": "x",
         "y": [
          0.8153311414644122
         ],
         "yaxis": "y"
        },
        {
         "hovertemplate": "<b>%{hovertext}</b><br><br>player_name=Emiliano Buendía<br>Goal and XG Difference=%{x}<br>xG=%{y}<br>goals=%{marker.size}<extra></extra>",
         "hovertext": [
          "Emiliano Buendía"
         ],
         "legendgroup": "Emiliano Buendía",
         "marker": {
          "color": "#EF553B",
          "size": [
           1
          ],
          "sizemode": "area",
          "sizeref": 0.02,
          "symbol": "circle"
         },
         "mode": "markers",
         "name": "Emiliano Buendía",
         "showlegend": true,
         "type": "scatter",
         "x": [
          -1.1698683053255081
         ],
         "xaxis": "x",
         "y": [
          2.169868305325508
         ],
         "yaxis": "y"
        },
        {
         "hovertemplate": "<b>%{hovertext}</b><br><br>player_name=Mateo Kovacic<br>Goal and XG Difference=%{x}<br>xG=%{y}<br>goals=%{marker.size}<extra></extra>",
         "hovertext": [
          "Mateo Kovacic"
         ],
         "legendgroup": "Mateo Kovacic",
         "marker": {
          "color": "#00cc96",
          "size": [
           1
          ],
          "sizemode": "area",
          "sizeref": 0.02,
          "symbol": "circle"
         },
         "mode": "markers",
         "name": "Mateo Kovacic",
         "showlegend": true,
         "type": "scatter",
         "x": [
          0.02734013646841038
         ],
         "xaxis": "x",
         "y": [
          0.9726598635315896
         ],
         "yaxis": "y"
        },
        {
         "hovertemplate": "<b>%{hovertext}</b><br><br>player_name=João Moutinho<br>Goal and XG Difference=%{x}<br>xG=%{y}<br>goals=%{marker.size}<extra></extra>",
         "hovertext": [
          "João Moutinho"
         ],
         "legendgroup": "João Moutinho",
         "marker": {
          "color": "#ab63fa",
          "size": [
           1
          ],
          "sizemode": "area",
          "sizeref": 0.02,
          "symbol": "circle"
         },
         "mode": "markers",
         "name": "João Moutinho",
         "showlegend": true,
         "type": "scatter",
         "x": [
          0.31223247293382883
         ],
         "xaxis": "x",
         "y": [
          0.6877675270661712
         ],
         "yaxis": "y"
        },
        {
         "hovertemplate": "<b>%{hovertext}</b><br><br>player_name=Yves Bissouma<br>Goal and XG Difference=%{x}<br>xG=%{y}<br>goals=%{marker.size}<extra></extra>",
         "hovertext": [
          "Yves Bissouma"
         ],
         "legendgroup": "Yves Bissouma",
         "marker": {
          "color": "#FFA15A",
          "size": [
           1
          ],
          "sizemode": "area",
          "sizeref": 0.02,
          "symbol": "circle"
         },
         "mode": "markers",
         "name": "Yves Bissouma",
         "showlegend": true,
         "type": "scatter",
         "x": [
          0.5945754759013653
         ],
         "xaxis": "x",
         "y": [
          0.4054245240986347
         ],
         "yaxis": "y"
        },
        {
         "hovertemplate": "<b>%{hovertext}</b><br><br>player_name=Philip Billing<br>Goal and XG Difference=%{x}<br>xG=%{y}<br>goals=%{marker.size}<extra></extra>",
         "hovertext": [
          "Philip Billing"
         ],
         "legendgroup": "Philip Billing",
         "marker": {
          "color": "#19d3f3",
          "size": [
           1
          ],
          "sizemode": "area",
          "sizeref": 0.02,
          "symbol": "circle"
         },
         "mode": "markers",
         "name": "Philip Billing",
         "showlegend": true,
         "type": "scatter",
         "x": [
          -1.2746950732544065
         ],
         "xaxis": "x",
         "y": [
          2.2746950732544065
         ],
         "yaxis": "y"
        },
        {
         "hovertemplate": "<b>%{hovertext}</b><br><br>player_name=Davy Pröpper<br>Goal and XG Difference=%{x}<br>xG=%{y}<br>goals=%{marker.size}<extra></extra>",
         "hovertext": [
          "Davy Pröpper"
         ],
         "legendgroup": "Davy Pröpper",
         "marker": {
          "color": "#FF6692",
          "size": [
           1
          ],
          "sizemode": "area",
          "sizeref": 0.02,
          "symbol": "circle"
         },
         "mode": "markers",
         "name": "Davy Pröpper",
         "showlegend": true,
         "type": "scatter",
         "x": [
          -0.8662200346589088
         ],
         "xaxis": "x",
         "y": [
          1.8662200346589088
         ],
         "yaxis": "y"
        },
        {
         "hovertemplate": "<b>%{hovertext}</b><br><br>player_name=Will Hughes<br>Goal and XG Difference=%{x}<br>xG=%{y}<br>goals=%{marker.size}<extra></extra>",
         "hovertext": [
          "Will Hughes"
         ],
         "legendgroup": "Will Hughes",
         "marker": {
          "color": "#B6E880",
          "size": [
           1
          ],
          "sizemode": "area",
          "sizeref": 0.02,
          "symbol": "circle"
         },
         "mode": "markers",
         "name": "Will Hughes",
         "showlegend": true,
         "type": "scatter",
         "x": [
          -1.3883110266178846
         ],
         "xaxis": "x",
         "y": [
          2.3883110266178846
         ],
         "yaxis": "y"
        },
        {
         "hovertemplate": "<b>%{hovertext}</b><br><br>player_name=Hamza Choudhury<br>Goal and XG Difference=%{x}<br>xG=%{y}<br>goals=%{marker.size}<extra></extra>",
         "hovertext": [
          "Hamza Choudhury"
         ],
         "legendgroup": "Hamza Choudhury",
         "marker": {
          "color": "#FF97FF",
          "size": [
           1
          ],
          "sizemode": "area",
          "sizeref": 0.02,
          "symbol": "circle"
         },
         "mode": "markers",
         "name": "Hamza Choudhury",
         "showlegend": true,
         "type": "scatter",
         "x": [
          0.6633467208594084
         ],
         "xaxis": "x",
         "y": [
          0.3366532791405916
         ],
         "yaxis": "y"
        },
        {
         "hovertemplate": "<b>%{hovertext}</b><br><br>player_name=Joe Willock<br>Goal and XG Difference=%{x}<br>xG=%{y}<br>goals=%{marker.size}<extra></extra>",
         "hovertext": [
          "Joe Willock"
         ],
         "legendgroup": "Joe Willock",
         "marker": {
          "color": "#FECB52",
          "size": [
           1
          ],
          "sizemode": "area",
          "sizeref": 0.02,
          "symbol": "circle"
         },
         "mode": "markers",
         "name": "Joe Willock",
         "showlegend": true,
         "type": "scatter",
         "x": [
          -1.3209964223206043
         ],
         "xaxis": "x",
         "y": [
          2.3209964223206043
         ],
         "yaxis": "y"
        },
        {
         "hovertemplate": "<b>%{hovertext}</b><br><br>player_name=Curtis Jones<br>Goal and XG Difference=%{x}<br>xG=%{y}<br>goals=%{marker.size}<extra></extra>",
         "hovertext": [
          "Curtis Jones"
         ],
         "legendgroup": "Curtis Jones",
         "marker": {
          "color": "#636efa",
          "size": [
           1
          ],
          "sizemode": "area",
          "sizeref": 0.02,
          "symbol": "circle"
         },
         "mode": "markers",
         "name": "Curtis Jones",
         "showlegend": true,
         "type": "scatter",
         "x": [
          0.18528365343809128
         ],
         "xaxis": "x",
         "y": [
          0.8147163465619087
         ],
         "yaxis": "y"
        },
        {
         "hovertemplate": "<b>%{hovertext}</b><br><br>player_name=David Brooks<br>Goal and XG Difference=%{x}<br>xG=%{y}<br>goals=%{marker.size}<extra></extra>",
         "hovertext": [
          "David Brooks"
         ],
         "legendgroup": "David Brooks",
         "marker": {
          "color": "#EF553B",
          "size": [
           1
          ],
          "sizemode": "area",
          "sizeref": 0.02,
          "symbol": "circle"
         },
         "mode": "markers",
         "name": "David Brooks",
         "showlegend": true,
         "type": "scatter",
         "x": [
          0.5673886835575104
         ],
         "xaxis": "x",
         "y": [
          0.4326113164424896
         ],
         "yaxis": "y"
        },
        {
         "hovertemplate": "<b>%{hovertext}</b><br><br>player_name=Sean Longstaff<br>Goal and XG Difference=%{x}<br>xG=%{y}<br>goals=%{marker.size}<extra></extra>",
         "hovertext": [
          "Sean Longstaff"
         ],
         "legendgroup": "Sean Longstaff",
         "marker": {
          "color": "#00cc96",
          "size": [
           1
          ],
          "sizemode": "area",
          "sizeref": 0.02,
          "symbol": "circle"
         },
         "mode": "markers",
         "name": "Sean Longstaff",
         "showlegend": true,
         "type": "scatter",
         "x": [
          -0.17761623114347458
         ],
         "xaxis": "x",
         "y": [
          1.1776162311434746
         ],
         "yaxis": "y"
        },
        {
         "hovertemplate": "<b>%{hovertext}</b><br><br>player_name=Kenny McLean<br>Goal and XG Difference=%{x}<br>xG=%{y}<br>goals=%{marker.size}<extra></extra>",
         "hovertext": [
          "Kenny McLean"
         ],
         "legendgroup": "Kenny McLean",
         "marker": {
          "color": "#ab63fa",
          "size": [
           1
          ],
          "sizemode": "area",
          "sizeref": 0.02,
          "symbol": "circle"
         },
         "mode": "markers",
         "name": "Kenny McLean",
         "showlegend": true,
         "type": "scatter",
         "x": [
          -0.21369741205126047
         ],
         "xaxis": "x",
         "y": [
          1.2136974120512605
         ],
         "yaxis": "y"
        },
        {
         "hovertemplate": "<b>%{hovertext}</b><br><br>player_name=Onel Hernández<br>Goal and XG Difference=%{x}<br>xG=%{y}<br>goals=%{marker.size}<extra></extra>",
         "hovertext": [
          "Onel Hernández"
         ],
         "legendgroup": "Onel Hernández",
         "marker": {
          "color": "#FFA15A",
          "size": [
           1
          ],
          "sizemode": "area",
          "sizeref": 0.02,
          "symbol": "circle"
         },
         "mode": "markers",
         "name": "Onel Hernández",
         "showlegend": true,
         "type": "scatter",
         "x": [
          -0.912150758318603
         ],
         "xaxis": "x",
         "y": [
          1.912150758318603
         ],
         "yaxis": "y"
        },
        {
         "hovertemplate": "<b>%{hovertext}</b><br><br>player_name=Oliver Norwood<br>Goal and XG Difference=%{x}<br>xG=%{y}<br>goals=%{marker.size}<extra></extra>",
         "hovertext": [
          "Oliver Norwood"
         ],
         "legendgroup": "Oliver Norwood",
         "marker": {
          "color": "#19d3f3",
          "size": [
           1
          ],
          "sizemode": "area",
          "sizeref": 0.02,
          "symbol": "circle"
         },
         "mode": "markers",
         "name": "Oliver Norwood",
         "showlegend": true,
         "type": "scatter",
         "x": [
          -0.3383013252168894
         ],
         "xaxis": "x",
         "y": [
          1.3383013252168894
         ],
         "yaxis": "y"
        },
        {
         "hovertemplate": "<b>%{hovertext}</b><br><br>player_name=Sander Berge<br>Goal and XG Difference=%{x}<br>xG=%{y}<br>goals=%{marker.size}<extra></extra>",
         "hovertext": [
          "Sander Berge"
         ],
         "legendgroup": "Sander Berge",
         "marker": {
          "color": "#FF6692",
          "size": [
           1
          ],
          "sizemode": "area",
          "sizeref": 0.02,
          "symbol": "circle"
         },
         "mode": "markers",
         "name": "Sander Berge",
         "showlegend": true,
         "type": "scatter",
         "x": [
          0.39924660325050354
         ],
         "xaxis": "x",
         "y": [
          0.6007533967494965
         ],
         "yaxis": "y"
        }
       ],
       "layout": {
        "legend": {
         "itemsizing": "constant",
         "title": {
          "text": "player_name"
         },
         "tracegroupgap": 0
        },
        "template": {
         "data": {
          "bar": [
           {
            "error_x": {
             "color": "#2a3f5f"
            },
            "error_y": {
             "color": "#2a3f5f"
            },
            "marker": {
             "line": {
              "color": "#E5ECF6",
              "width": 0.5
             }
            },
            "type": "bar"
           }
          ],
          "barpolar": [
           {
            "marker": {
             "line": {
              "color": "#E5ECF6",
              "width": 0.5
             }
            },
            "type": "barpolar"
           }
          ],
          "carpet": [
           {
            "aaxis": {
             "endlinecolor": "#2a3f5f",
             "gridcolor": "white",
             "linecolor": "white",
             "minorgridcolor": "white",
             "startlinecolor": "#2a3f5f"
            },
            "baxis": {
             "endlinecolor": "#2a3f5f",
             "gridcolor": "white",
             "linecolor": "white",
             "minorgridcolor": "white",
             "startlinecolor": "#2a3f5f"
            },
            "type": "carpet"
           }
          ],
          "choropleth": [
           {
            "colorbar": {
             "outlinewidth": 0,
             "ticks": ""
            },
            "type": "choropleth"
           }
          ],
          "contour": [
           {
            "colorbar": {
             "outlinewidth": 0,
             "ticks": ""
            },
            "colorscale": [
             [
              0,
              "#0d0887"
             ],
             [
              0.1111111111111111,
              "#46039f"
             ],
             [
              0.2222222222222222,
              "#7201a8"
             ],
             [
              0.3333333333333333,
              "#9c179e"
             ],
             [
              0.4444444444444444,
              "#bd3786"
             ],
             [
              0.5555555555555556,
              "#d8576b"
             ],
             [
              0.6666666666666666,
              "#ed7953"
             ],
             [
              0.7777777777777778,
              "#fb9f3a"
             ],
             [
              0.8888888888888888,
              "#fdca26"
             ],
             [
              1,
              "#f0f921"
             ]
            ],
            "type": "contour"
           }
          ],
          "contourcarpet": [
           {
            "colorbar": {
             "outlinewidth": 0,
             "ticks": ""
            },
            "type": "contourcarpet"
           }
          ],
          "heatmap": [
           {
            "colorbar": {
             "outlinewidth": 0,
             "ticks": ""
            },
            "colorscale": [
             [
              0,
              "#0d0887"
             ],
             [
              0.1111111111111111,
              "#46039f"
             ],
             [
              0.2222222222222222,
              "#7201a8"
             ],
             [
              0.3333333333333333,
              "#9c179e"
             ],
             [
              0.4444444444444444,
              "#bd3786"
             ],
             [
              0.5555555555555556,
              "#d8576b"
             ],
             [
              0.6666666666666666,
              "#ed7953"
             ],
             [
              0.7777777777777778,
              "#fb9f3a"
             ],
             [
              0.8888888888888888,
              "#fdca26"
             ],
             [
              1,
              "#f0f921"
             ]
            ],
            "type": "heatmap"
           }
          ],
          "heatmapgl": [
           {
            "colorbar": {
             "outlinewidth": 0,
             "ticks": ""
            },
            "colorscale": [
             [
              0,
              "#0d0887"
             ],
             [
              0.1111111111111111,
              "#46039f"
             ],
             [
              0.2222222222222222,
              "#7201a8"
             ],
             [
              0.3333333333333333,
              "#9c179e"
             ],
             [
              0.4444444444444444,
              "#bd3786"
             ],
             [
              0.5555555555555556,
              "#d8576b"
             ],
             [
              0.6666666666666666,
              "#ed7953"
             ],
             [
              0.7777777777777778,
              "#fb9f3a"
             ],
             [
              0.8888888888888888,
              "#fdca26"
             ],
             [
              1,
              "#f0f921"
             ]
            ],
            "type": "heatmapgl"
           }
          ],
          "histogram": [
           {
            "marker": {
             "colorbar": {
              "outlinewidth": 0,
              "ticks": ""
             }
            },
            "type": "histogram"
           }
          ],
          "histogram2d": [
           {
            "colorbar": {
             "outlinewidth": 0,
             "ticks": ""
            },
            "colorscale": [
             [
              0,
              "#0d0887"
             ],
             [
              0.1111111111111111,
              "#46039f"
             ],
             [
              0.2222222222222222,
              "#7201a8"
             ],
             [
              0.3333333333333333,
              "#9c179e"
             ],
             [
              0.4444444444444444,
              "#bd3786"
             ],
             [
              0.5555555555555556,
              "#d8576b"
             ],
             [
              0.6666666666666666,
              "#ed7953"
             ],
             [
              0.7777777777777778,
              "#fb9f3a"
             ],
             [
              0.8888888888888888,
              "#fdca26"
             ],
             [
              1,
              "#f0f921"
             ]
            ],
            "type": "histogram2d"
           }
          ],
          "histogram2dcontour": [
           {
            "colorbar": {
             "outlinewidth": 0,
             "ticks": ""
            },
            "colorscale": [
             [
              0,
              "#0d0887"
             ],
             [
              0.1111111111111111,
              "#46039f"
             ],
             [
              0.2222222222222222,
              "#7201a8"
             ],
             [
              0.3333333333333333,
              "#9c179e"
             ],
             [
              0.4444444444444444,
              "#bd3786"
             ],
             [
              0.5555555555555556,
              "#d8576b"
             ],
             [
              0.6666666666666666,
              "#ed7953"
             ],
             [
              0.7777777777777778,
              "#fb9f3a"
             ],
             [
              0.8888888888888888,
              "#fdca26"
             ],
             [
              1,
              "#f0f921"
             ]
            ],
            "type": "histogram2dcontour"
           }
          ],
          "mesh3d": [
           {
            "colorbar": {
             "outlinewidth": 0,
             "ticks": ""
            },
            "type": "mesh3d"
           }
          ],
          "parcoords": [
           {
            "line": {
             "colorbar": {
              "outlinewidth": 0,
              "ticks": ""
             }
            },
            "type": "parcoords"
           }
          ],
          "pie": [
           {
            "automargin": true,
            "type": "pie"
           }
          ],
          "scatter": [
           {
            "marker": {
             "colorbar": {
              "outlinewidth": 0,
              "ticks": ""
             }
            },
            "type": "scatter"
           }
          ],
          "scatter3d": [
           {
            "line": {
             "colorbar": {
              "outlinewidth": 0,
              "ticks": ""
             }
            },
            "marker": {
             "colorbar": {
              "outlinewidth": 0,
              "ticks": ""
             }
            },
            "type": "scatter3d"
           }
          ],
          "scattercarpet": [
           {
            "marker": {
             "colorbar": {
              "outlinewidth": 0,
              "ticks": ""
             }
            },
            "type": "scattercarpet"
           }
          ],
          "scattergeo": [
           {
            "marker": {
             "colorbar": {
              "outlinewidth": 0,
              "ticks": ""
             }
            },
            "type": "scattergeo"
           }
          ],
          "scattergl": [
           {
            "marker": {
             "colorbar": {
              "outlinewidth": 0,
              "ticks": ""
             }
            },
            "type": "scattergl"
           }
          ],
          "scattermapbox": [
           {
            "marker": {
             "colorbar": {
              "outlinewidth": 0,
              "ticks": ""
             }
            },
            "type": "scattermapbox"
           }
          ],
          "scatterpolar": [
           {
            "marker": {
             "colorbar": {
              "outlinewidth": 0,
              "ticks": ""
             }
            },
            "type": "scatterpolar"
           }
          ],
          "scatterpolargl": [
           {
            "marker": {
             "colorbar": {
              "outlinewidth": 0,
              "ticks": ""
             }
            },
            "type": "scatterpolargl"
           }
          ],
          "scatterternary": [
           {
            "marker": {
             "colorbar": {
              "outlinewidth": 0,
              "ticks": ""
             }
            },
            "type": "scatterternary"
           }
          ],
          "surface": [
           {
            "colorbar": {
             "outlinewidth": 0,
             "ticks": ""
            },
            "colorscale": [
             [
              0,
              "#0d0887"
             ],
             [
              0.1111111111111111,
              "#46039f"
             ],
             [
              0.2222222222222222,
              "#7201a8"
             ],
             [
              0.3333333333333333,
              "#9c179e"
             ],
             [
              0.4444444444444444,
              "#bd3786"
             ],
             [
              0.5555555555555556,
              "#d8576b"
             ],
             [
              0.6666666666666666,
              "#ed7953"
             ],
             [
              0.7777777777777778,
              "#fb9f3a"
             ],
             [
              0.8888888888888888,
              "#fdca26"
             ],
             [
              1,
              "#f0f921"
             ]
            ],
            "type": "surface"
           }
          ],
          "table": [
           {
            "cells": {
             "fill": {
              "color": "#EBF0F8"
             },
             "line": {
              "color": "white"
             }
            },
            "header": {
             "fill": {
              "color": "#C8D4E3"
             },
             "line": {
              "color": "white"
             }
            },
            "type": "table"
           }
          ]
         },
         "layout": {
          "annotationdefaults": {
           "arrowcolor": "#2a3f5f",
           "arrowhead": 0,
           "arrowwidth": 1
          },
          "coloraxis": {
           "colorbar": {
            "outlinewidth": 0,
            "ticks": ""
           }
          },
          "colorscale": {
           "diverging": [
            [
             0,
             "#8e0152"
            ],
            [
             0.1,
             "#c51b7d"
            ],
            [
             0.2,
             "#de77ae"
            ],
            [
             0.3,
             "#f1b6da"
            ],
            [
             0.4,
             "#fde0ef"
            ],
            [
             0.5,
             "#f7f7f7"
            ],
            [
             0.6,
             "#e6f5d0"
            ],
            [
             0.7,
             "#b8e186"
            ],
            [
             0.8,
             "#7fbc41"
            ],
            [
             0.9,
             "#4d9221"
            ],
            [
             1,
             "#276419"
            ]
           ],
           "sequential": [
            [
             0,
             "#0d0887"
            ],
            [
             0.1111111111111111,
             "#46039f"
            ],
            [
             0.2222222222222222,
             "#7201a8"
            ],
            [
             0.3333333333333333,
             "#9c179e"
            ],
            [
             0.4444444444444444,
             "#bd3786"
            ],
            [
             0.5555555555555556,
             "#d8576b"
            ],
            [
             0.6666666666666666,
             "#ed7953"
            ],
            [
             0.7777777777777778,
             "#fb9f3a"
            ],
            [
             0.8888888888888888,
             "#fdca26"
            ],
            [
             1,
             "#f0f921"
            ]
           ],
           "sequentialminus": [
            [
             0,
             "#0d0887"
            ],
            [
             0.1111111111111111,
             "#46039f"
            ],
            [
             0.2222222222222222,
             "#7201a8"
            ],
            [
             0.3333333333333333,
             "#9c179e"
            ],
            [
             0.4444444444444444,
             "#bd3786"
            ],
            [
             0.5555555555555556,
             "#d8576b"
            ],
            [
             0.6666666666666666,
             "#ed7953"
            ],
            [
             0.7777777777777778,
             "#fb9f3a"
            ],
            [
             0.8888888888888888,
             "#fdca26"
            ],
            [
             1,
             "#f0f921"
            ]
           ]
          },
          "colorway": [
           "#636efa",
           "#EF553B",
           "#00cc96",
           "#ab63fa",
           "#FFA15A",
           "#19d3f3",
           "#FF6692",
           "#B6E880",
           "#FF97FF",
           "#FECB52"
          ],
          "font": {
           "color": "#2a3f5f"
          },
          "geo": {
           "bgcolor": "white",
           "lakecolor": "white",
           "landcolor": "#E5ECF6",
           "showlakes": true,
           "showland": true,
           "subunitcolor": "white"
          },
          "hoverlabel": {
           "align": "left"
          },
          "hovermode": "closest",
          "mapbox": {
           "style": "light"
          },
          "paper_bgcolor": "white",
          "plot_bgcolor": "#E5ECF6",
          "polar": {
           "angularaxis": {
            "gridcolor": "white",
            "linecolor": "white",
            "ticks": ""
           },
           "bgcolor": "#E5ECF6",
           "radialaxis": {
            "gridcolor": "white",
            "linecolor": "white",
            "ticks": ""
           }
          },
          "scene": {
           "xaxis": {
            "backgroundcolor": "#E5ECF6",
            "gridcolor": "white",
            "gridwidth": 2,
            "linecolor": "white",
            "showbackground": true,
            "ticks": "",
            "zerolinecolor": "white"
           },
           "yaxis": {
            "backgroundcolor": "#E5ECF6",
            "gridcolor": "white",
            "gridwidth": 2,
            "linecolor": "white",
            "showbackground": true,
            "ticks": "",
            "zerolinecolor": "white"
           },
           "zaxis": {
            "backgroundcolor": "#E5ECF6",
            "gridcolor": "white",
            "gridwidth": 2,
            "linecolor": "white",
            "showbackground": true,
            "ticks": "",
            "zerolinecolor": "white"
           }
          },
          "shapedefaults": {
           "line": {
            "color": "#2a3f5f"
           }
          },
          "ternary": {
           "aaxis": {
            "gridcolor": "white",
            "linecolor": "white",
            "ticks": ""
           },
           "baxis": {
            "gridcolor": "white",
            "linecolor": "white",
            "ticks": ""
           },
           "bgcolor": "#E5ECF6",
           "caxis": {
            "gridcolor": "white",
            "linecolor": "white",
            "ticks": ""
           }
          },
          "title": {
           "x": 0.05
          },
          "xaxis": {
           "automargin": true,
           "gridcolor": "white",
           "linecolor": "white",
           "ticks": "",
           "title": {
            "standoff": 15
           },
           "zerolinecolor": "white",
           "zerolinewidth": 2
          },
          "yaxis": {
           "automargin": true,
           "gridcolor": "white",
           "linecolor": "white",
           "ticks": "",
           "title": {
            "standoff": 15
           },
           "zerolinecolor": "white",
           "zerolinewidth": 2
          }
         }
        },
        "title": {
         "text": "xG vs Goals PL MIDs"
        },
        "xaxis": {
         "anchor": "y",
         "domain": [
          0,
          1
         ],
         "title": {
          "text": "Goal and XG Difference"
         }
        },
        "yaxis": {
         "anchor": "x",
         "domain": [
          0,
          1
         ],
         "title": {
          "text": "xG"
         }
        }
       }
      },
      "text/html": [
       "<div>\n",
       "        \n",
       "        \n",
       "            <div id=\"ec64ee9f-536d-4827-be12-681e86d9115d\" class=\"plotly-graph-div\" style=\"height:525px; width:100%;\"></div>\n",
       "            <script type=\"text/javascript\">\n",
       "                require([\"plotly\"], function(Plotly) {\n",
       "                    window.PLOTLYENV=window.PLOTLYENV || {};\n",
       "                    \n",
       "                if (document.getElementById(\"ec64ee9f-536d-4827-be12-681e86d9115d\")) {\n",
       "                    Plotly.newPlot(\n",
       "                        'ec64ee9f-536d-4827-be12-681e86d9115d',\n",
       "                        [{\"hovertemplate\": \"<b>%{hovertext}</b><br><br>player_name=Bruno Fernandes<br>Goal and XG Difference=%{x}<br>xG=%{y}<br>goals=%{marker.size}<extra></extra>\", \"hovertext\": [\"Bruno Fernandes\"], \"legendgroup\": \"Bruno Fernandes\", \"marker\": {\"color\": \"#636efa\", \"size\": [8], \"sizemode\": \"area\", \"sizeref\": 0.02, \"symbol\": \"circle\"}, \"mode\": \"markers\", \"name\": \"Bruno Fernandes\", \"showlegend\": true, \"type\": \"scatter\", \"x\": [2.0139194950461388], \"xaxis\": \"x\", \"y\": [5.986080504953861], \"yaxis\": \"y\"}, {\"hovertemplate\": \"<b>%{hovertext}</b><br><br>player_name=Jonjo Shelvey<br>Goal and XG Difference=%{x}<br>xG=%{y}<br>goals=%{marker.size}<extra></extra>\", \"hovertext\": [\"Jonjo Shelvey\"], \"legendgroup\": \"Jonjo Shelvey\", \"marker\": {\"color\": \"#EF553B\", \"size\": [6], \"sizemode\": \"area\", \"sizeref\": 0.02, \"symbol\": \"circle\"}, \"mode\": \"markers\", \"name\": \"Jonjo Shelvey\", \"showlegend\": true, \"type\": \"scatter\", \"x\": [3.7577862199395895], \"xaxis\": \"x\", \"y\": [2.2422137800604105], \"yaxis\": \"y\"}, {\"hovertemplate\": \"<b>%{hovertext}</b><br><br>player_name=James Maddison<br>Goal and XG Difference=%{x}<br>xG=%{y}<br>goals=%{marker.size}<extra></extra>\", \"hovertext\": [\"James Maddison\"], \"legendgroup\": \"James Maddison\", \"marker\": {\"color\": \"#00cc96\", \"size\": [6], \"sizemode\": \"area\", \"sizeref\": 0.02, \"symbol\": \"circle\"}, \"mode\": \"markers\", \"name\": \"James Maddison\", \"showlegend\": true, \"type\": \"scatter\", \"x\": [0.9782250840216875], \"xaxis\": \"x\", \"y\": [5.0217749159783125], \"yaxis\": \"y\"}, {\"hovertemplate\": \"<b>%{hovertext}</b><br><br>player_name=Todd Cantwell<br>Goal and XG Difference=%{x}<br>xG=%{y}<br>goals=%{marker.size}<extra></extra>\", \"hovertext\": [\"Todd Cantwell\"], \"legendgroup\": \"Todd Cantwell\", \"marker\": {\"color\": \"#ab63fa\", \"size\": [6], \"sizemode\": \"area\", \"sizeref\": 0.02, \"symbol\": \"circle\"}, \"mode\": \"markers\", \"name\": \"Todd Cantwell\", \"showlegend\": true, \"type\": \"scatter\", \"x\": [0.32495102006942034], \"xaxis\": \"x\", \"y\": [5.67504897993058], \"yaxis\": \"y\"}, {\"hovertemplate\": \"<b>%{hovertext}</b><br><br>player_name=David Silva<br>Goal and XG Difference=%{x}<br>xG=%{y}<br>goals=%{marker.size}<extra></extra>\", \"hovertext\": [\"David Silva\"], \"legendgroup\": \"David Silva\", \"marker\": {\"color\": \"#FFA15A\", \"size\": [5], \"sizemode\": \"area\", \"sizeref\": 0.02, \"symbol\": \"circle\"}, \"mode\": \"markers\", \"name\": \"David Silva\", \"showlegend\": true, \"type\": \"scatter\", \"x\": [-1.93236867710948], \"xaxis\": \"x\", \"y\": [6.93236867710948], \"yaxis\": \"y\"}, {\"hovertemplate\": \"<b>%{hovertext}</b><br><br>player_name=Andriy Yarmolenko<br>Goal and XG Difference=%{x}<br>xG=%{y}<br>goals=%{marker.size}<extra></extra>\", \"hovertext\": [\"Andriy Yarmolenko\"], \"legendgroup\": \"Andriy Yarmolenko\", \"marker\": {\"color\": \"#19d3f3\", \"size\": [5], \"sizemode\": \"area\", \"sizeref\": 0.02, \"symbol\": \"circle\"}, \"mode\": \"markers\", \"name\": \"Andriy Yarmolenko\", \"showlegend\": true, \"type\": \"scatter\", \"x\": [2.3744050227105618], \"xaxis\": \"x\", \"y\": [2.6255949772894382], \"yaxis\": \"y\"}, {\"hovertemplate\": \"<b>%{hovertext}</b><br><br>player_name=Stuart Armstrong<br>Goal and XG Difference=%{x}<br>xG=%{y}<br>goals=%{marker.size}<extra></extra>\", \"hovertext\": [\"Stuart Armstrong\"], \"legendgroup\": \"Stuart Armstrong\", \"marker\": {\"color\": \"#FF6692\", \"size\": [5], \"sizemode\": \"area\", \"sizeref\": 0.02, \"symbol\": \"circle\"}, \"mode\": \"markers\", \"name\": \"Stuart Armstrong\", \"showlegend\": true, \"type\": \"scatter\", \"x\": [1.8855591099709272], \"xaxis\": \"x\", \"y\": [3.1144408900290728], \"yaxis\": \"y\"}, {\"hovertemplate\": \"<b>%{hovertext}</b><br><br>player_name=John Lundstram<br>Goal and XG Difference=%{x}<br>xG=%{y}<br>goals=%{marker.size}<extra></extra>\", \"hovertext\": [\"John Lundstram\"], \"legendgroup\": \"John Lundstram\", \"marker\": {\"color\": \"#B6E880\", \"size\": [5], \"sizemode\": \"area\", \"sizeref\": 0.02, \"symbol\": \"circle\"}, \"mode\": \"markers\", \"name\": \"John Lundstram\", \"showlegend\": true, \"type\": \"scatter\", \"x\": [-0.921482932753861], \"xaxis\": \"x\", \"y\": [5.921482932753861], \"yaxis\": \"y\"}, {\"hovertemplate\": \"<b>%{hovertext}</b><br><br>player_name=John Fleck<br>Goal and XG Difference=%{x}<br>xG=%{y}<br>goals=%{marker.size}<extra></extra>\", \"hovertext\": [\"John Fleck\"], \"legendgroup\": \"John Fleck\", \"marker\": {\"color\": \"#FF97FF\", \"size\": [5], \"sizemode\": \"area\", \"sizeref\": 0.02, \"symbol\": \"circle\"}, \"mode\": \"markers\", \"name\": \"John Fleck\", \"showlegend\": true, \"type\": \"scatter\", \"x\": [1.7518981257453565], \"xaxis\": \"x\", \"y\": [3.2481018742546435], \"yaxis\": \"y\"}, {\"hovertemplate\": \"<b>%{hovertext}</b><br><br>player_name=Mark Noble<br>Goal and XG Difference=%{x}<br>xG=%{y}<br>goals=%{marker.size}<extra></extra>\", \"hovertext\": [\"Mark Noble\"], \"legendgroup\": \"Mark Noble\", \"marker\": {\"color\": \"#FECB52\", \"size\": [4], \"sizemode\": \"area\", \"sizeref\": 0.02, \"symbol\": \"circle\"}, \"mode\": \"markers\", \"name\": \"Mark Noble\", \"showlegend\": true, \"type\": \"scatter\", \"x\": [1.226173979230225], \"xaxis\": \"x\", \"y\": [2.773826020769775], \"yaxis\": \"y\"}, {\"hovertemplate\": \"<b>%{hovertext}</b><br><br>player_name=Jordan Henderson<br>Goal and XG Difference=%{x}<br>xG=%{y}<br>goals=%{marker.size}<extra></extra>\", \"hovertext\": [\"Jordan Henderson\"], \"legendgroup\": \"Jordan Henderson\", \"marker\": {\"color\": \"#636efa\", \"size\": [4], \"sizemode\": \"area\", \"sizeref\": 0.02, \"symbol\": \"circle\"}, \"mode\": \"markers\", \"name\": \"Jordan Henderson\", \"showlegend\": true, \"type\": \"scatter\", \"x\": [2.8153111841529608], \"xaxis\": \"x\", \"y\": [1.1846888158470392], \"yaxis\": \"y\"}, {\"hovertemplate\": \"<b>%{hovertext}</b><br><br>player_name=Georginio Wijnaldum<br>Goal and XG Difference=%{x}<br>xG=%{y}<br>goals=%{marker.size}<extra></extra>\", \"hovertext\": [\"Georginio Wijnaldum\"], \"legendgroup\": \"Georginio Wijnaldum\", \"marker\": {\"color\": \"#EF553B\", \"size\": [4], \"sizemode\": \"area\", \"sizeref\": 0.02, \"symbol\": \"circle\"}, \"mode\": \"markers\", \"name\": \"Georginio Wijnaldum\", \"showlegend\": true, \"type\": \"scatter\", \"x\": [1.3489184286445384], \"xaxis\": \"x\", \"y\": [2.6510815713554616], \"yaxis\": \"y\"}, {\"hovertemplate\": \"<b>%{hovertext}</b><br><br>player_name=Jorginho<br>Goal and XG Difference=%{x}<br>xG=%{y}<br>goals=%{marker.size}<extra></extra>\", \"hovertext\": [\"Jorginho\"], \"legendgroup\": \"Jorginho\", \"marker\": {\"color\": \"#00cc96\", \"size\": [4], \"sizemode\": \"area\", \"sizeref\": 0.02, \"symbol\": \"circle\"}, \"mode\": \"markers\", \"name\": \"Jorginho\", \"showlegend\": true, \"type\": \"scatter\", \"x\": [0.902995876967907], \"xaxis\": \"x\", \"y\": [3.097004123032093], \"yaxis\": \"y\"}, {\"hovertemplate\": \"<b>%{hovertext}</b><br><br>player_name=Abdoulaye Doucour\\u00e9<br>Goal and XG Difference=%{x}<br>xG=%{y}<br>goals=%{marker.size}<extra></extra>\", \"hovertext\": [\"Abdoulaye Doucour\\u00e9\"], \"legendgroup\": \"Abdoulaye Doucour\\u00e9\", \"marker\": {\"color\": \"#ab63fa\", \"size\": [4], \"sizemode\": \"area\", \"sizeref\": 0.02, \"symbol\": \"circle\"}, \"mode\": \"markers\", \"name\": \"Abdoulaye Doucour\\u00e9\", \"showlegend\": true, \"type\": \"scatter\", \"x\": [-1.2809096165001383], \"xaxis\": \"x\", \"y\": [5.280909616500138], \"yaxis\": \"y\"}, {\"hovertemplate\": \"<b>%{hovertext}</b><br><br>player_name=Dan Gosling<br>Goal and XG Difference=%{x}<br>xG=%{y}<br>goals=%{marker.size}<extra></extra>\", \"hovertext\": [\"Dan Gosling\"], \"legendgroup\": \"Dan Gosling\", \"marker\": {\"color\": \"#FFA15A\", \"size\": [3], \"sizemode\": \"area\", \"sizeref\": 0.02, \"symbol\": \"circle\"}, \"mode\": \"markers\", \"name\": \"Dan Gosling\", \"showlegend\": true, \"type\": \"scatter\", \"x\": [0.07013613916933537], \"xaxis\": \"x\", \"y\": [2.9298638608306646], \"yaxis\": \"y\"}, {\"hovertemplate\": \"<b>%{hovertext}</b><br><br>player_name=N&#039;Golo Kant\\u00e9<br>Goal and XG Difference=%{x}<br>xG=%{y}<br>goals=%{marker.size}<extra></extra>\", \"hovertext\": [\"N&#039;Golo Kant\\u00e9\"], \"legendgroup\": \"N&#039;Golo Kant\\u00e9\", \"marker\": {\"color\": \"#19d3f3\", \"size\": [3], \"sizemode\": \"area\", \"sizeref\": 0.02, \"symbol\": \"circle\"}, \"mode\": \"markers\", \"name\": \"N&#039;Golo Kant\\u00e9\", \"showlegend\": true, \"type\": \"scatter\", \"x\": [1.45608704444021], \"xaxis\": \"x\", \"y\": [1.54391295555979], \"yaxis\": \"y\"}, {\"hovertemplate\": \"<b>%{hovertext}</b><br><br>player_name=Luka Milivojevic<br>Goal and XG Difference=%{x}<br>xG=%{y}<br>goals=%{marker.size}<extra></extra>\", \"hovertext\": [\"Luka Milivojevic\"], \"legendgroup\": \"Luka Milivojevic\", \"marker\": {\"color\": \"#FF6692\", \"size\": [3], \"sizemode\": \"area\", \"sizeref\": 0.02, \"symbol\": \"circle\"}, \"mode\": \"markers\", \"name\": \"Luka Milivojevic\", \"showlegend\": true, \"type\": \"scatter\", \"x\": [0.5042843306437135], \"xaxis\": \"x\", \"y\": [2.4957156693562865], \"yaxis\": \"y\"}, {\"hovertemplate\": \"<b>%{hovertext}</b><br><br>player_name=Scott McTominay<br>Goal and XG Difference=%{x}<br>xG=%{y}<br>goals=%{marker.size}<extra></extra>\", \"hovertext\": [\"Scott McTominay\"], \"legendgroup\": \"Scott McTominay\", \"marker\": {\"color\": \"#B6E880\", \"size\": [3], \"sizemode\": \"area\", \"sizeref\": 0.02, \"symbol\": \"circle\"}, \"mode\": \"markers\", \"name\": \"Scott McTominay\", \"showlegend\": true, \"type\": \"scatter\", \"x\": [0.9780171308666472], \"xaxis\": \"x\", \"y\": [2.021982869133353], \"yaxis\": \"y\"}, {\"hovertemplate\": \"<b>%{hovertext}</b><br><br>player_name=Youri Tielemans<br>Goal and XG Difference=%{x}<br>xG=%{y}<br>goals=%{marker.size}<extra></extra>\", \"hovertext\": [\"Youri Tielemans\"], \"legendgroup\": \"Youri Tielemans\", \"marker\": {\"color\": \"#FF97FF\", \"size\": [3], \"sizemode\": \"area\", \"sizeref\": 0.02, \"symbol\": \"circle\"}, \"mode\": \"markers\", \"name\": \"Youri Tielemans\", \"showlegend\": true, \"type\": \"scatter\", \"x\": [0.20761901326477528], \"xaxis\": \"x\", \"y\": [2.7923809867352247], \"yaxis\": \"y\"}, {\"hovertemplate\": \"<b>%{hovertext}</b><br><br>player_name=Douglas Luiz<br>Goal and XG Difference=%{x}<br>xG=%{y}<br>goals=%{marker.size}<extra></extra>\", \"hovertext\": [\"Douglas Luiz\"], \"legendgroup\": \"Douglas Luiz\", \"marker\": {\"color\": \"#FECB52\", \"size\": [3], \"sizemode\": \"area\", \"sizeref\": 0.02, \"symbol\": \"circle\"}, \"mode\": \"markers\", \"name\": \"Douglas Luiz\", \"showlegend\": true, \"type\": \"scatter\", \"x\": [0.7222045622766022], \"xaxis\": \"x\", \"y\": [2.2777954377233978], \"yaxis\": \"y\"}, {\"hovertemplate\": \"<b>%{hovertext}</b><br><br>player_name=Bernard<br>Goal and XG Difference=%{x}<br>xG=%{y}<br>goals=%{marker.size}<extra></extra>\", \"hovertext\": [\"Bernard\"], \"legendgroup\": \"Bernard\", \"marker\": {\"color\": \"#636efa\", \"size\": [3], \"sizemode\": \"area\", \"sizeref\": 0.02, \"symbol\": \"circle\"}, \"mode\": \"markers\", \"name\": \"Bernard\", \"showlegend\": true, \"type\": \"scatter\", \"x\": [1.3024345375597477], \"xaxis\": \"x\", \"y\": [1.6975654624402523], \"yaxis\": \"y\"}, {\"hovertemplate\": \"<b>%{hovertext}</b><br><br>player_name=Conor Hourihane<br>Goal and XG Difference=%{x}<br>xG=%{y}<br>goals=%{marker.size}<extra></extra>\", \"hovertext\": [\"Conor Hourihane\"], \"legendgroup\": \"Conor Hourihane\", \"marker\": {\"color\": \"#EF553B\", \"size\": [3], \"sizemode\": \"area\", \"sizeref\": 0.02, \"symbol\": \"circle\"}, \"mode\": \"markers\", \"name\": \"Conor Hourihane\", \"showlegend\": true, \"type\": \"scatter\", \"x\": [1.371660677716136], \"xaxis\": \"x\", \"y\": [1.628339322283864], \"yaxis\": \"y\"}, {\"hovertemplate\": \"<b>%{hovertext}</b><br><br>player_name=John McGinn<br>Goal and XG Difference=%{x}<br>xG=%{y}<br>goals=%{marker.size}<extra></extra>\", \"hovertext\": [\"John McGinn\"], \"legendgroup\": \"John McGinn\", \"marker\": {\"color\": \"#00cc96\", \"size\": [3], \"sizemode\": \"area\", \"sizeref\": 0.02, \"symbol\": \"circle\"}, \"mode\": \"markers\", \"name\": \"John McGinn\", \"showlegend\": true, \"type\": \"scatter\", \"x\": [-0.9825730072334413], \"xaxis\": \"x\", \"y\": [3.9825730072334413], \"yaxis\": \"y\"}, {\"hovertemplate\": \"<b>%{hovertext}</b><br><br>player_name=Gabriel Martinelli<br>Goal and XG Difference=%{x}<br>xG=%{y}<br>goals=%{marker.size}<extra></extra>\", \"hovertext\": [\"Gabriel Martinelli\"], \"legendgroup\": \"Gabriel Martinelli\", \"marker\": {\"color\": \"#ab63fa\", \"size\": [3], \"sizemode\": \"area\", \"sizeref\": 0.02, \"symbol\": \"circle\"}, \"mode\": \"markers\", \"name\": \"Gabriel Martinelli\", \"showlegend\": true, \"type\": \"scatter\", \"x\": [0.7575165443122387], \"xaxis\": \"x\", \"y\": [2.2424834556877613], \"yaxis\": \"y\"}, {\"hovertemplate\": \"<b>%{hovertext}</b><br><br>player_name=Tomas Soucek<br>Goal and XG Difference=%{x}<br>xG=%{y}<br>goals=%{marker.size}<extra></extra>\", \"hovertext\": [\"Tomas Soucek\"], \"legendgroup\": \"Tomas Soucek\", \"marker\": {\"color\": \"#FFA15A\", \"size\": [3], \"sizemode\": \"area\", \"sizeref\": 0.02, \"symbol\": \"circle\"}, \"mode\": \"markers\", \"name\": \"Tomas Soucek\", \"showlegend\": true, \"type\": \"scatter\", \"x\": [0.5816259756684303], \"xaxis\": \"x\", \"y\": [2.4183740243315697], \"yaxis\": \"y\"}, {\"hovertemplate\": \"<b>%{hovertext}</b><br><br>player_name=Ilkay G\\u00fcndogan<br>Goal and XG Difference=%{x}<br>xG=%{y}<br>goals=%{marker.size}<extra></extra>\", \"hovertext\": [\"Ilkay G\\u00fcndogan\"], \"legendgroup\": \"Ilkay G\\u00fcndogan\", \"marker\": {\"color\": \"#19d3f3\", \"size\": [2], \"sizemode\": \"area\", \"sizeref\": 0.02, \"symbol\": \"circle\"}, \"mode\": \"markers\", \"name\": \"Ilkay G\\u00fcndogan\", \"showlegend\": true, \"type\": \"scatter\", \"x\": [-2.3467030934989443], \"xaxis\": \"x\", \"y\": [4.346703093498944], \"yaxis\": \"y\"}, {\"hovertemplate\": \"<b>%{hovertext}</b><br><br>player_name=Theo Walcott<br>Goal and XG Difference=%{x}<br>xG=%{y}<br>goals=%{marker.size}<extra></extra>\", \"hovertext\": [\"Theo Walcott\"], \"legendgroup\": \"Theo Walcott\", \"marker\": {\"color\": \"#FF6692\", \"size\": [2], \"sizemode\": \"area\", \"sizeref\": 0.02, \"symbol\": \"circle\"}, \"mode\": \"markers\", \"name\": \"Theo Walcott\", \"showlegend\": true, \"type\": \"scatter\", \"x\": [-1.4808373413980007], \"xaxis\": \"x\", \"y\": [3.4808373413980007], \"yaxis\": \"y\"}, {\"hovertemplate\": \"<b>%{hovertext}</b><br><br>player_name=Ashley Westwood<br>Goal and XG Difference=%{x}<br>xG=%{y}<br>goals=%{marker.size}<extra></extra>\", \"hovertext\": [\"Ashley Westwood\"], \"legendgroup\": \"Ashley Westwood\", \"marker\": {\"color\": \"#B6E880\", \"size\": [2], \"sizemode\": \"area\", \"sizeref\": 0.02, \"symbol\": \"circle\"}, \"mode\": \"markers\", \"name\": \"Ashley Westwood\", \"showlegend\": true, \"type\": \"scatter\", \"x\": [0.8248374247923491], \"xaxis\": \"x\", \"y\": [1.1751625752076509], \"yaxis\": \"y\"}, {\"hovertemplate\": \"<b>%{hovertext}</b><br><br>player_name=Gylfi Sigurdsson<br>Goal and XG Difference=%{x}<br>xG=%{y}<br>goals=%{marker.size}<extra></extra>\", \"hovertext\": [\"Gylfi Sigurdsson\"], \"legendgroup\": \"Gylfi Sigurdsson\", \"marker\": {\"color\": \"#FF97FF\", \"size\": [2], \"sizemode\": \"area\", \"sizeref\": 0.02, \"symbol\": \"circle\"}, \"mode\": \"markers\", \"name\": \"Gylfi Sigurdsson\", \"showlegend\": true, \"type\": \"scatter\", \"x\": [-2.0193677539937207], \"xaxis\": \"x\", \"y\": [4.019367753993721], \"yaxis\": \"y\"}, {\"hovertemplate\": \"<b>%{hovertext}</b><br><br>player_name=Demarai Gray<br>Goal and XG Difference=%{x}<br>xG=%{y}<br>goals=%{marker.size}<extra></extra>\", \"hovertext\": [\"Demarai Gray\"], \"legendgroup\": \"Demarai Gray\", \"marker\": {\"color\": \"#FECB52\", \"size\": [2], \"sizemode\": \"area\", \"sizeref\": 0.02, \"symbol\": \"circle\"}, \"mode\": \"markers\", \"name\": \"Demarai Gray\", \"showlegend\": true, \"type\": \"scatter\", \"x\": [-0.767196649685502], \"xaxis\": \"x\", \"y\": [2.767196649685502], \"yaxis\": \"y\"}, {\"hovertemplate\": \"<b>%{hovertext}</b><br><br>player_name=Jeff Hendrick<br>Goal and XG Difference=%{x}<br>xG=%{y}<br>goals=%{marker.size}<extra></extra>\", \"hovertext\": [\"Jeff Hendrick\"], \"legendgroup\": \"Jeff Hendrick\", \"marker\": {\"color\": \"#636efa\", \"size\": [2], \"sizemode\": \"area\", \"sizeref\": 0.02, \"symbol\": \"circle\"}, \"mode\": \"markers\", \"name\": \"Jeff Hendrick\", \"showlegend\": true, \"type\": \"scatter\", \"x\": [-0.10208363458514169], \"xaxis\": \"x\", \"y\": [2.1020836345851417], \"yaxis\": \"y\"}, {\"hovertemplate\": \"<b>%{hovertext}</b><br><br>player_name=Jonny<br>Goal and XG Difference=%{x}<br>xG=%{y}<br>goals=%{marker.size}<extra></extra>\", \"hovertext\": [\"Jonny\"], \"legendgroup\": \"Jonny\", \"marker\": {\"color\": \"#EF553B\", \"size\": [2], \"sizemode\": \"area\", \"sizeref\": 0.02, \"symbol\": \"circle\"}, \"mode\": \"markers\", \"name\": \"Jonny\", \"showlegend\": true, \"type\": \"scatter\", \"x\": [0.3859572820365431], \"xaxis\": \"x\", \"y\": [1.6140427179634569], \"yaxis\": \"y\"}, {\"hovertemplate\": \"<b>%{hovertext}</b><br><br>player_name=Pablo Fornals<br>Goal and XG Difference=%{x}<br>xG=%{y}<br>goals=%{marker.size}<extra></extra>\", \"hovertext\": [\"Pablo Fornals\"], \"legendgroup\": \"Pablo Fornals\", \"marker\": {\"color\": \"#00cc96\", \"size\": [2], \"sizemode\": \"area\", \"sizeref\": 0.02, \"symbol\": \"circle\"}, \"mode\": \"markers\", \"name\": \"Pablo Fornals\", \"showlegend\": true, \"type\": \"scatter\", \"x\": [-0.6434274353086948], \"xaxis\": \"x\", \"y\": [2.643427435308695], \"yaxis\": \"y\"}, {\"hovertemplate\": \"<b>%{hovertext}</b><br><br>player_name=Fabinho<br>Goal and XG Difference=%{x}<br>xG=%{y}<br>goals=%{marker.size}<extra></extra>\", \"hovertext\": [\"Fabinho\"], \"legendgroup\": \"Fabinho\", \"marker\": {\"color\": \"#ab63fa\", \"size\": [2], \"sizemode\": \"area\", \"sizeref\": 0.02, \"symbol\": \"circle\"}, \"mode\": \"markers\", \"name\": \"Fabinho\", \"showlegend\": true, \"type\": \"scatter\", \"x\": [1.691898474469781], \"xaxis\": \"x\", \"y\": [0.3081015255302191], \"yaxis\": \"y\"}, {\"hovertemplate\": \"<b>%{hovertext}</b><br><br>player_name=Naby Keita<br>Goal and XG Difference=%{x}<br>xG=%{y}<br>goals=%{marker.size}<extra></extra>\", \"hovertext\": [\"Naby Keita\"], \"legendgroup\": \"Naby Keita\", \"marker\": {\"color\": \"#FFA15A\", \"size\": [2], \"sizemode\": \"area\", \"sizeref\": 0.02, \"symbol\": \"circle\"}, \"mode\": \"markers\", \"name\": \"Naby Keita\", \"showlegend\": true, \"type\": \"scatter\", \"x\": [0.27662608958780766], \"xaxis\": \"x\", \"y\": [1.7233739104121923], \"yaxis\": \"y\"}, {\"hovertemplate\": \"<b>%{hovertext}</b><br><br>player_name=Wilfred Ndidi<br>Goal and XG Difference=%{x}<br>xG=%{y}<br>goals=%{marker.size}<extra></extra>\", \"hovertext\": [\"Wilfred Ndidi\"], \"legendgroup\": \"Wilfred Ndidi\", \"marker\": {\"color\": \"#19d3f3\", \"size\": [2], \"sizemode\": \"area\", \"sizeref\": 0.02, \"symbol\": \"circle\"}, \"mode\": \"markers\", \"name\": \"Wilfred Ndidi\", \"showlegend\": true, \"type\": \"scatter\", \"x\": [0.27272842545062304], \"xaxis\": \"x\", \"y\": [1.727271574549377], \"yaxis\": \"y\"}, {\"hovertemplate\": \"<b>%{hovertext}</b><br><br>player_name=Tanguy NDombele Alvaro<br>Goal and XG Difference=%{x}<br>xG=%{y}<br>goals=%{marker.size}<extra></extra>\", \"hovertext\": [\"Tanguy NDombele Alvaro\"], \"legendgroup\": \"Tanguy NDombele Alvaro\", \"marker\": {\"color\": \"#FF6692\", \"size\": [2], \"sizemode\": \"area\", \"sizeref\": 0.02, \"symbol\": \"circle\"}, \"mode\": \"markers\", \"name\": \"Tanguy NDombele Alvaro\", \"showlegend\": true, \"type\": \"scatter\", \"x\": [1.647045012563467], \"xaxis\": \"x\", \"y\": [0.352954987436533], \"yaxis\": \"y\"}, {\"hovertemplate\": \"<b>%{hovertext}</b><br><br>player_name=Dwight McNeil<br>Goal and XG Difference=%{x}<br>xG=%{y}<br>goals=%{marker.size}<extra></extra>\", \"hovertext\": [\"Dwight McNeil\"], \"legendgroup\": \"Dwight McNeil\", \"marker\": {\"color\": \"#B6E880\", \"size\": [2], \"sizemode\": \"area\", \"sizeref\": 0.02, \"symbol\": \"circle\"}, \"mode\": \"markers\", \"name\": \"Dwight McNeil\", \"showlegend\": true, \"type\": \"scatter\", \"x\": [0.06106645427644275], \"xaxis\": \"x\", \"y\": [1.9389335457235573], \"yaxis\": \"y\"}, {\"hovertemplate\": \"<b>%{hovertext}</b><br><br>player_name=R\\u00faben Neves<br>Goal and XG Difference=%{x}<br>xG=%{y}<br>goals=%{marker.size}<extra></extra>\", \"hovertext\": [\"R\\u00faben Neves\"], \"legendgroup\": \"R\\u00faben Neves\", \"marker\": {\"color\": \"#FF97FF\", \"size\": [2], \"sizemode\": \"area\", \"sizeref\": 0.02, \"symbol\": \"circle\"}, \"mode\": \"markers\", \"name\": \"R\\u00faben Neves\", \"showlegend\": true, \"type\": \"scatter\", \"x\": [0.361916309222579], \"xaxis\": \"x\", \"y\": [1.638083690777421], \"yaxis\": \"y\"}, {\"hovertemplate\": \"<b>%{hovertext}</b><br><br>player_name=George Baldock<br>Goal and XG Difference=%{x}<br>xG=%{y}<br>goals=%{marker.size}<extra></extra>\", \"hovertext\": [\"George Baldock\"], \"legendgroup\": \"George Baldock\", \"marker\": {\"color\": \"#FECB52\", \"size\": [2], \"sizemode\": \"area\", \"sizeref\": 0.02, \"symbol\": \"circle\"}, \"mode\": \"markers\", \"name\": \"George Baldock\", \"showlegend\": true, \"type\": \"scatter\", \"x\": [1.2369942124933004], \"xaxis\": \"x\", \"y\": [0.7630057875066996], \"yaxis\": \"y\"}, {\"hovertemplate\": \"<b>%{hovertext}</b><br><br>player_name=Enda Stevens<br>Goal and XG Difference=%{x}<br>xG=%{y}<br>goals=%{marker.size}<extra></extra>\", \"hovertext\": [\"Enda Stevens\"], \"legendgroup\": \"Enda Stevens\", \"marker\": {\"color\": \"#636efa\", \"size\": [2], \"sizemode\": \"area\", \"sizeref\": 0.02, \"symbol\": \"circle\"}, \"mode\": \"markers\", \"name\": \"Enda Stevens\", \"showlegend\": true, \"type\": \"scatter\", \"x\": [0.47874312847852685], \"xaxis\": \"x\", \"y\": [1.5212568715214732], \"yaxis\": \"y\"}, {\"hovertemplate\": \"<b>%{hovertext}</b><br><br>player_name=Matthew Longstaff<br>Goal and XG Difference=%{x}<br>xG=%{y}<br>goals=%{marker.size}<extra></extra>\", \"hovertext\": [\"Matthew Longstaff\"], \"legendgroup\": \"Matthew Longstaff\", \"marker\": {\"color\": \"#EF553B\", \"size\": [2], \"sizemode\": \"area\", \"sizeref\": 0.02, \"symbol\": \"circle\"}, \"mode\": \"markers\", \"name\": \"Matthew Longstaff\", \"showlegend\": true, \"type\": \"scatter\", \"x\": [1.3034817911684513], \"xaxis\": \"x\", \"y\": [0.6965182088315487], \"yaxis\": \"y\"}, {\"hovertemplate\": \"<b>%{hovertext}</b><br><br>player_name=Mario Vrancic<br>Goal and XG Difference=%{x}<br>xG=%{y}<br>goals=%{marker.size}<extra></extra>\", \"hovertext\": [\"Mario Vrancic\"], \"legendgroup\": \"Mario Vrancic\", \"marker\": {\"color\": \"#00cc96\", \"size\": [1], \"sizemode\": \"area\", \"sizeref\": 0.02, \"symbol\": \"circle\"}, \"mode\": \"markers\", \"name\": \"Mario Vrancic\", \"showlegend\": true, \"type\": \"scatter\", \"x\": [-0.09788380190730095], \"xaxis\": \"x\", \"y\": [1.097883801907301], \"yaxis\": \"y\"}, {\"hovertemplate\": \"<b>%{hovertext}</b><br><br>player_name=Granit Xhaka<br>Goal and XG Difference=%{x}<br>xG=%{y}<br>goals=%{marker.size}<extra></extra>\", \"hovertext\": [\"Granit Xhaka\"], \"legendgroup\": \"Granit Xhaka\", \"marker\": {\"color\": \"#ab63fa\", \"size\": [1], \"sizemode\": \"area\", \"sizeref\": 0.02, \"symbol\": \"circle\"}, \"mode\": \"markers\", \"name\": \"Granit Xhaka\", \"showlegend\": true, \"type\": \"scatter\", \"x\": [0.4287700904533267], \"xaxis\": \"x\", \"y\": [0.5712299095466733], \"yaxis\": \"y\"}, {\"hovertemplate\": \"<b>%{hovertext}</b><br><br>player_name=Adam Lallana<br>Goal and XG Difference=%{x}<br>xG=%{y}<br>goals=%{marker.size}<extra></extra>\", \"hovertext\": [\"Adam Lallana\"], \"legendgroup\": \"Adam Lallana\", \"marker\": {\"color\": \"#FFA15A\", \"size\": [1], \"sizemode\": \"area\", \"sizeref\": 0.02, \"symbol\": \"circle\"}, \"mode\": \"markers\", \"name\": \"Adam Lallana\", \"showlegend\": true, \"type\": \"scatter\", \"x\": [0.19131497666239738], \"xaxis\": \"x\", \"y\": [0.8086850233376026], \"yaxis\": \"y\"}, {\"hovertemplate\": \"<b>%{hovertext}</b><br><br>player_name=Mesut \\u00d6zil<br>Goal and XG Difference=%{x}<br>xG=%{y}<br>goals=%{marker.size}<extra></extra>\", \"hovertext\": [\"Mesut \\u00d6zil\"], \"legendgroup\": \"Mesut \\u00d6zil\", \"marker\": {\"color\": \"#19d3f3\", \"size\": [1], \"sizemode\": \"area\", \"sizeref\": 0.02, \"symbol\": \"circle\"}, \"mode\": \"markers\", \"name\": \"Mesut \\u00d6zil\", \"showlegend\": true, \"type\": \"scatter\", \"x\": [-0.7082734499126673], \"xaxis\": \"x\", \"y\": [1.7082734499126673], \"yaxis\": \"y\"}, {\"hovertemplate\": \"<b>%{hovertext}</b><br><br>player_name=Jesse Lingard<br>Goal and XG Difference=%{x}<br>xG=%{y}<br>goals=%{marker.size}<extra></extra>\", \"hovertext\": [\"Jesse Lingard\"], \"legendgroup\": \"Jesse Lingard\", \"marker\": {\"color\": \"#FF6692\", \"size\": [1], \"sizemode\": \"area\", \"sizeref\": 0.02, \"symbol\": \"circle\"}, \"mode\": \"markers\", \"name\": \"Jesse Lingard\", \"showlegend\": true, \"type\": \"scatter\", \"x\": [-1.3275695517659187], \"xaxis\": \"x\", \"y\": [2.3275695517659187], \"yaxis\": \"y\"}, {\"hovertemplate\": \"<b>%{hovertext}</b><br><br>player_name=Ross Barkley<br>Goal and XG Difference=%{x}<br>xG=%{y}<br>goals=%{marker.size}<extra></extra>\", \"hovertext\": [\"Ross Barkley\"], \"legendgroup\": \"Ross Barkley\", \"marker\": {\"color\": \"#B6E880\", \"size\": [1], \"sizemode\": \"area\", \"sizeref\": 0.02, \"symbol\": \"circle\"}, \"mode\": \"markers\", \"name\": \"Ross Barkley\", \"showlegend\": true, \"type\": \"scatter\", \"x\": [-1.8449643328785896], \"xaxis\": \"x\", \"y\": [2.8449643328785896], \"yaxis\": \"y\"}, {\"hovertemplate\": \"<b>%{hovertext}</b><br><br>player_name=Tom Cleverley<br>Goal and XG Difference=%{x}<br>xG=%{y}<br>goals=%{marker.size}<extra></extra>\", \"hovertext\": [\"Tom Cleverley\"], \"legendgroup\": \"Tom Cleverley\", \"marker\": {\"color\": \"#FF97FF\", \"size\": [1], \"sizemode\": \"area\", \"sizeref\": 0.02, \"symbol\": \"circle\"}, \"mode\": \"markers\", \"name\": \"Tom Cleverley\", \"showlegend\": true, \"type\": \"scatter\", \"x\": [-0.7800701409578323], \"xaxis\": \"x\", \"y\": [1.7800701409578323], \"yaxis\": \"y\"}, {\"hovertemplate\": \"<b>%{hovertext}</b><br><br>player_name=Andros Townsend<br>Goal and XG Difference=%{x}<br>xG=%{y}<br>goals=%{marker.size}<extra></extra>\", \"hovertext\": [\"Andros Townsend\"], \"legendgroup\": \"Andros Townsend\", \"marker\": {\"color\": \"#FECB52\", \"size\": [1], \"sizemode\": \"area\", \"sizeref\": 0.02, \"symbol\": \"circle\"}, \"mode\": \"markers\", \"name\": \"Andros Townsend\", \"showlegend\": true, \"type\": \"scatter\", \"x\": [0.6043378543108702], \"xaxis\": \"x\", \"y\": [0.3956621456891298], \"yaxis\": \"y\"}, {\"hovertemplate\": \"<b>%{hovertext}</b><br><br>player_name=Robbie Brady<br>Goal and XG Difference=%{x}<br>xG=%{y}<br>goals=%{marker.size}<extra></extra>\", \"hovertext\": [\"Robbie Brady\"], \"legendgroup\": \"Robbie Brady\", \"marker\": {\"color\": \"#636efa\", \"size\": [1], \"sizemode\": \"area\", \"sizeref\": 0.02, \"symbol\": \"circle\"}, \"mode\": \"markers\", \"name\": \"Robbie Brady\", \"showlegend\": true, \"type\": \"scatter\", \"x\": [0.003499802201986424], \"xaxis\": \"x\", \"y\": [0.9965001977980136], \"yaxis\": \"y\"}, {\"hovertemplate\": \"<b>%{hovertext}</b><br><br>player_name=Xherdan Shaqiri<br>Goal and XG Difference=%{x}<br>xG=%{y}<br>goals=%{marker.size}<extra></extra>\", \"hovertext\": [\"Xherdan Shaqiri\"], \"legendgroup\": \"Xherdan Shaqiri\", \"marker\": {\"color\": \"#EF553B\", \"size\": [1], \"sizemode\": \"area\", \"sizeref\": 0.02, \"symbol\": \"circle\"}, \"mode\": \"markers\", \"name\": \"Xherdan Shaqiri\", \"showlegend\": true, \"type\": \"scatter\", \"x\": [0.4591592624783516], \"xaxis\": \"x\", \"y\": [0.5408407375216484], \"yaxis\": \"y\"}, {\"hovertemplate\": \"<b>%{hovertext}</b><br><br>player_name=Andreas Pereira<br>Goal and XG Difference=%{x}<br>xG=%{y}<br>goals=%{marker.size}<extra></extra>\", \"hovertext\": [\"Andreas Pereira\"], \"legendgroup\": \"Andreas Pereira\", \"marker\": {\"color\": \"#00cc96\", \"size\": [1], \"sizemode\": \"area\", \"sizeref\": 0.02, \"symbol\": \"circle\"}, \"mode\": \"markers\", \"name\": \"Andreas Pereira\", \"showlegend\": true, \"type\": \"scatter\", \"x\": [-1.2855918873101477], \"xaxis\": \"x\", \"y\": [2.2855918873101477], \"yaxis\": \"y\"}, {\"hovertemplate\": \"<b>%{hovertext}</b><br><br>player_name=Tom Davies<br>Goal and XG Difference=%{x}<br>xG=%{y}<br>goals=%{marker.size}<extra></extra>\", \"hovertext\": [\"Tom Davies\"], \"legendgroup\": \"Tom Davies\", \"marker\": {\"color\": \"#ab63fa\", \"size\": [1], \"sizemode\": \"area\", \"sizeref\": 0.02, \"symbol\": \"circle\"}, \"mode\": \"markers\", \"name\": \"Tom Davies\", \"showlegend\": true, \"type\": \"scatter\", \"x\": [-0.6402476858347654], \"xaxis\": \"x\", \"y\": [1.6402476858347654], \"yaxis\": \"y\"}, {\"hovertemplate\": \"<b>%{hovertext}</b><br><br>player_name=Felipe Anderson<br>Goal and XG Difference=%{x}<br>xG=%{y}<br>goals=%{marker.size}<extra></extra>\", \"hovertext\": [\"Felipe Anderson\"], \"legendgroup\": \"Felipe Anderson\", \"marker\": {\"color\": \"#FFA15A\", \"size\": [1], \"sizemode\": \"area\", \"sizeref\": 0.02, \"symbol\": \"circle\"}, \"mode\": \"markers\", \"name\": \"Felipe Anderson\", \"showlegend\": true, \"type\": \"scatter\", \"x\": [-1.6348467022180562], \"xaxis\": \"x\", \"y\": [2.634846702218056], \"yaxis\": \"y\"}, {\"hovertemplate\": \"<b>%{hovertext}</b><br><br>player_name=Lucas Torreira<br>Goal and XG Difference=%{x}<br>xG=%{y}<br>goals=%{marker.size}<extra></extra>\", \"hovertext\": [\"Lucas Torreira\"], \"legendgroup\": \"Lucas Torreira\", \"marker\": {\"color\": \"#19d3f3\", \"size\": [1], \"sizemode\": \"area\", \"sizeref\": 0.02, \"symbol\": \"circle\"}, \"mode\": \"markers\", \"name\": \"Lucas Torreira\", \"showlegend\": true, \"type\": \"scatter\", \"x\": [-0.4572487138211727], \"xaxis\": \"x\", \"y\": [1.4572487138211727], \"yaxis\": \"y\"}, {\"hovertemplate\": \"<b>%{hovertext}</b><br><br>player_name=Dennis Praet<br>Goal and XG Difference=%{x}<br>xG=%{y}<br>goals=%{marker.size}<extra></extra>\", \"hovertext\": [\"Dennis Praet\"], \"legendgroup\": \"Dennis Praet\", \"marker\": {\"color\": \"#FF6692\", \"size\": [1], \"sizemode\": \"area\", \"sizeref\": 0.02, \"symbol\": \"circle\"}, \"mode\": \"markers\", \"name\": \"Dennis Praet\", \"showlegend\": true, \"type\": \"scatter\", \"x\": [-0.20771589037030935], \"xaxis\": \"x\", \"y\": [1.2077158903703094], \"yaxis\": \"y\"}, {\"hovertemplate\": \"<b>%{hovertext}</b><br><br>player_name=Johann Berg Gudmundsson<br>Goal and XG Difference=%{x}<br>xG=%{y}<br>goals=%{marker.size}<extra></extra>\", \"hovertext\": [\"Johann Berg Gudmundsson\"], \"legendgroup\": \"Johann Berg Gudmundsson\", \"marker\": {\"color\": \"#B6E880\", \"size\": [1], \"sizemode\": \"area\", \"sizeref\": 0.02, \"symbol\": \"circle\"}, \"mode\": \"markers\", \"name\": \"Johann Berg Gudmundsson\", \"showlegend\": true, \"type\": \"scatter\", \"x\": [0.27646173536777496], \"xaxis\": \"x\", \"y\": [0.723538264632225], \"yaxis\": \"y\"}, {\"hovertemplate\": \"<b>%{hovertext}</b><br><br>player_name=Paul Pogba<br>Goal and XG Difference=%{x}<br>xG=%{y}<br>goals=%{marker.size}<extra></extra>\", \"hovertext\": [\"Paul Pogba\"], \"legendgroup\": \"Paul Pogba\", \"marker\": {\"color\": \"#FF97FF\", \"size\": [1], \"sizemode\": \"area\", \"sizeref\": 0.02, \"symbol\": \"circle\"}, \"mode\": \"markers\", \"name\": \"Paul Pogba\", \"showlegend\": true, \"type\": \"scatter\", \"x\": [-1.1508691580966115], \"xaxis\": \"x\", \"y\": [2.1508691580966115], \"yaxis\": \"y\"}, {\"hovertemplate\": \"<b>%{hovertext}</b><br><br>player_name=Jarrod Bowen<br>Goal and XG Difference=%{x}<br>xG=%{y}<br>goals=%{marker.size}<extra></extra>\", \"hovertext\": [\"Jarrod Bowen\"], \"legendgroup\": \"Jarrod Bowen\", \"marker\": {\"color\": \"#FECB52\", \"size\": [1], \"sizemode\": \"area\", \"sizeref\": 0.02, \"symbol\": \"circle\"}, \"mode\": \"markers\", \"name\": \"Jarrod Bowen\", \"showlegend\": true, \"type\": \"scatter\", \"x\": [-1.3164738304913044], \"xaxis\": \"x\", \"y\": [2.3164738304913044], \"yaxis\": \"y\"}, {\"hovertemplate\": \"<b>%{hovertext}</b><br><br>player_name=Jefferson Lerma<br>Goal and XG Difference=%{x}<br>xG=%{y}<br>goals=%{marker.size}<extra></extra>\", \"hovertext\": [\"Jefferson Lerma\"], \"legendgroup\": \"Jefferson Lerma\", \"marker\": {\"color\": \"#636efa\", \"size\": [1], \"sizemode\": \"area\", \"sizeref\": 0.02, \"symbol\": \"circle\"}, \"mode\": \"markers\", \"name\": \"Jefferson Lerma\", \"showlegend\": true, \"type\": \"scatter\", \"x\": [0.1846688585355878], \"xaxis\": \"x\", \"y\": [0.8153311414644122], \"yaxis\": \"y\"}, {\"hovertemplate\": \"<b>%{hovertext}</b><br><br>player_name=Emiliano Buend\\u00eda<br>Goal and XG Difference=%{x}<br>xG=%{y}<br>goals=%{marker.size}<extra></extra>\", \"hovertext\": [\"Emiliano Buend\\u00eda\"], \"legendgroup\": \"Emiliano Buend\\u00eda\", \"marker\": {\"color\": \"#EF553B\", \"size\": [1], \"sizemode\": \"area\", \"sizeref\": 0.02, \"symbol\": \"circle\"}, \"mode\": \"markers\", \"name\": \"Emiliano Buend\\u00eda\", \"showlegend\": true, \"type\": \"scatter\", \"x\": [-1.1698683053255081], \"xaxis\": \"x\", \"y\": [2.169868305325508], \"yaxis\": \"y\"}, {\"hovertemplate\": \"<b>%{hovertext}</b><br><br>player_name=Mateo Kovacic<br>Goal and XG Difference=%{x}<br>xG=%{y}<br>goals=%{marker.size}<extra></extra>\", \"hovertext\": [\"Mateo Kovacic\"], \"legendgroup\": \"Mateo Kovacic\", \"marker\": {\"color\": \"#00cc96\", \"size\": [1], \"sizemode\": \"area\", \"sizeref\": 0.02, \"symbol\": \"circle\"}, \"mode\": \"markers\", \"name\": \"Mateo Kovacic\", \"showlegend\": true, \"type\": \"scatter\", \"x\": [0.02734013646841038], \"xaxis\": \"x\", \"y\": [0.9726598635315896], \"yaxis\": \"y\"}, {\"hovertemplate\": \"<b>%{hovertext}</b><br><br>player_name=Jo\\u00e3o Moutinho<br>Goal and XG Difference=%{x}<br>xG=%{y}<br>goals=%{marker.size}<extra></extra>\", \"hovertext\": [\"Jo\\u00e3o Moutinho\"], \"legendgroup\": \"Jo\\u00e3o Moutinho\", \"marker\": {\"color\": \"#ab63fa\", \"size\": [1], \"sizemode\": \"area\", \"sizeref\": 0.02, \"symbol\": \"circle\"}, \"mode\": \"markers\", \"name\": \"Jo\\u00e3o Moutinho\", \"showlegend\": true, \"type\": \"scatter\", \"x\": [0.31223247293382883], \"xaxis\": \"x\", \"y\": [0.6877675270661712], \"yaxis\": \"y\"}, {\"hovertemplate\": \"<b>%{hovertext}</b><br><br>player_name=Yves Bissouma<br>Goal and XG Difference=%{x}<br>xG=%{y}<br>goals=%{marker.size}<extra></extra>\", \"hovertext\": [\"Yves Bissouma\"], \"legendgroup\": \"Yves Bissouma\", \"marker\": {\"color\": \"#FFA15A\", \"size\": [1], \"sizemode\": \"area\", \"sizeref\": 0.02, \"symbol\": \"circle\"}, \"mode\": \"markers\", \"name\": \"Yves Bissouma\", \"showlegend\": true, \"type\": \"scatter\", \"x\": [0.5945754759013653], \"xaxis\": \"x\", \"y\": [0.4054245240986347], \"yaxis\": \"y\"}, {\"hovertemplate\": \"<b>%{hovertext}</b><br><br>player_name=Philip Billing<br>Goal and XG Difference=%{x}<br>xG=%{y}<br>goals=%{marker.size}<extra></extra>\", \"hovertext\": [\"Philip Billing\"], \"legendgroup\": \"Philip Billing\", \"marker\": {\"color\": \"#19d3f3\", \"size\": [1], \"sizemode\": \"area\", \"sizeref\": 0.02, \"symbol\": \"circle\"}, \"mode\": \"markers\", \"name\": \"Philip Billing\", \"showlegend\": true, \"type\": \"scatter\", \"x\": [-1.2746950732544065], \"xaxis\": \"x\", \"y\": [2.2746950732544065], \"yaxis\": \"y\"}, {\"hovertemplate\": \"<b>%{hovertext}</b><br><br>player_name=Davy Pr\\u00f6pper<br>Goal and XG Difference=%{x}<br>xG=%{y}<br>goals=%{marker.size}<extra></extra>\", \"hovertext\": [\"Davy Pr\\u00f6pper\"], \"legendgroup\": \"Davy Pr\\u00f6pper\", \"marker\": {\"color\": \"#FF6692\", \"size\": [1], \"sizemode\": \"area\", \"sizeref\": 0.02, \"symbol\": \"circle\"}, \"mode\": \"markers\", \"name\": \"Davy Pr\\u00f6pper\", \"showlegend\": true, \"type\": \"scatter\", \"x\": [-0.8662200346589088], \"xaxis\": \"x\", \"y\": [1.8662200346589088], \"yaxis\": \"y\"}, {\"hovertemplate\": \"<b>%{hovertext}</b><br><br>player_name=Will Hughes<br>Goal and XG Difference=%{x}<br>xG=%{y}<br>goals=%{marker.size}<extra></extra>\", \"hovertext\": [\"Will Hughes\"], \"legendgroup\": \"Will Hughes\", \"marker\": {\"color\": \"#B6E880\", \"size\": [1], \"sizemode\": \"area\", \"sizeref\": 0.02, \"symbol\": \"circle\"}, \"mode\": \"markers\", \"name\": \"Will Hughes\", \"showlegend\": true, \"type\": \"scatter\", \"x\": [-1.3883110266178846], \"xaxis\": \"x\", \"y\": [2.3883110266178846], \"yaxis\": \"y\"}, {\"hovertemplate\": \"<b>%{hovertext}</b><br><br>player_name=Hamza Choudhury<br>Goal and XG Difference=%{x}<br>xG=%{y}<br>goals=%{marker.size}<extra></extra>\", \"hovertext\": [\"Hamza Choudhury\"], \"legendgroup\": \"Hamza Choudhury\", \"marker\": {\"color\": \"#FF97FF\", \"size\": [1], \"sizemode\": \"area\", \"sizeref\": 0.02, \"symbol\": \"circle\"}, \"mode\": \"markers\", \"name\": \"Hamza Choudhury\", \"showlegend\": true, \"type\": \"scatter\", \"x\": [0.6633467208594084], \"xaxis\": \"x\", \"y\": [0.3366532791405916], \"yaxis\": \"y\"}, {\"hovertemplate\": \"<b>%{hovertext}</b><br><br>player_name=Joe Willock<br>Goal and XG Difference=%{x}<br>xG=%{y}<br>goals=%{marker.size}<extra></extra>\", \"hovertext\": [\"Joe Willock\"], \"legendgroup\": \"Joe Willock\", \"marker\": {\"color\": \"#FECB52\", \"size\": [1], \"sizemode\": \"area\", \"sizeref\": 0.02, \"symbol\": \"circle\"}, \"mode\": \"markers\", \"name\": \"Joe Willock\", \"showlegend\": true, \"type\": \"scatter\", \"x\": [-1.3209964223206043], \"xaxis\": \"x\", \"y\": [2.3209964223206043], \"yaxis\": \"y\"}, {\"hovertemplate\": \"<b>%{hovertext}</b><br><br>player_name=Curtis Jones<br>Goal and XG Difference=%{x}<br>xG=%{y}<br>goals=%{marker.size}<extra></extra>\", \"hovertext\": [\"Curtis Jones\"], \"legendgroup\": \"Curtis Jones\", \"marker\": {\"color\": \"#636efa\", \"size\": [1], \"sizemode\": \"area\", \"sizeref\": 0.02, \"symbol\": \"circle\"}, \"mode\": \"markers\", \"name\": \"Curtis Jones\", \"showlegend\": true, \"type\": \"scatter\", \"x\": [0.18528365343809128], \"xaxis\": \"x\", \"y\": [0.8147163465619087], \"yaxis\": \"y\"}, {\"hovertemplate\": \"<b>%{hovertext}</b><br><br>player_name=David Brooks<br>Goal and XG Difference=%{x}<br>xG=%{y}<br>goals=%{marker.size}<extra></extra>\", \"hovertext\": [\"David Brooks\"], \"legendgroup\": \"David Brooks\", \"marker\": {\"color\": \"#EF553B\", \"size\": [1], \"sizemode\": \"area\", \"sizeref\": 0.02, \"symbol\": \"circle\"}, \"mode\": \"markers\", \"name\": \"David Brooks\", \"showlegend\": true, \"type\": \"scatter\", \"x\": [0.5673886835575104], \"xaxis\": \"x\", \"y\": [0.4326113164424896], \"yaxis\": \"y\"}, {\"hovertemplate\": \"<b>%{hovertext}</b><br><br>player_name=Sean Longstaff<br>Goal and XG Difference=%{x}<br>xG=%{y}<br>goals=%{marker.size}<extra></extra>\", \"hovertext\": [\"Sean Longstaff\"], \"legendgroup\": \"Sean Longstaff\", \"marker\": {\"color\": \"#00cc96\", \"size\": [1], \"sizemode\": \"area\", \"sizeref\": 0.02, \"symbol\": \"circle\"}, \"mode\": \"markers\", \"name\": \"Sean Longstaff\", \"showlegend\": true, \"type\": \"scatter\", \"x\": [-0.17761623114347458], \"xaxis\": \"x\", \"y\": [1.1776162311434746], \"yaxis\": \"y\"}, {\"hovertemplate\": \"<b>%{hovertext}</b><br><br>player_name=Kenny McLean<br>Goal and XG Difference=%{x}<br>xG=%{y}<br>goals=%{marker.size}<extra></extra>\", \"hovertext\": [\"Kenny McLean\"], \"legendgroup\": \"Kenny McLean\", \"marker\": {\"color\": \"#ab63fa\", \"size\": [1], \"sizemode\": \"area\", \"sizeref\": 0.02, \"symbol\": \"circle\"}, \"mode\": \"markers\", \"name\": \"Kenny McLean\", \"showlegend\": true, \"type\": \"scatter\", \"x\": [-0.21369741205126047], \"xaxis\": \"x\", \"y\": [1.2136974120512605], \"yaxis\": \"y\"}, {\"hovertemplate\": \"<b>%{hovertext}</b><br><br>player_name=Onel Hern\\u00e1ndez<br>Goal and XG Difference=%{x}<br>xG=%{y}<br>goals=%{marker.size}<extra></extra>\", \"hovertext\": [\"Onel Hern\\u00e1ndez\"], \"legendgroup\": \"Onel Hern\\u00e1ndez\", \"marker\": {\"color\": \"#FFA15A\", \"size\": [1], \"sizemode\": \"area\", \"sizeref\": 0.02, \"symbol\": \"circle\"}, \"mode\": \"markers\", \"name\": \"Onel Hern\\u00e1ndez\", \"showlegend\": true, \"type\": \"scatter\", \"x\": [-0.912150758318603], \"xaxis\": \"x\", \"y\": [1.912150758318603], \"yaxis\": \"y\"}, {\"hovertemplate\": \"<b>%{hovertext}</b><br><br>player_name=Oliver Norwood<br>Goal and XG Difference=%{x}<br>xG=%{y}<br>goals=%{marker.size}<extra></extra>\", \"hovertext\": [\"Oliver Norwood\"], \"legendgroup\": \"Oliver Norwood\", \"marker\": {\"color\": \"#19d3f3\", \"size\": [1], \"sizemode\": \"area\", \"sizeref\": 0.02, \"symbol\": \"circle\"}, \"mode\": \"markers\", \"name\": \"Oliver Norwood\", \"showlegend\": true, \"type\": \"scatter\", \"x\": [-0.3383013252168894], \"xaxis\": \"x\", \"y\": [1.3383013252168894], \"yaxis\": \"y\"}, {\"hovertemplate\": \"<b>%{hovertext}</b><br><br>player_name=Sander Berge<br>Goal and XG Difference=%{x}<br>xG=%{y}<br>goals=%{marker.size}<extra></extra>\", \"hovertext\": [\"Sander Berge\"], \"legendgroup\": \"Sander Berge\", \"marker\": {\"color\": \"#FF6692\", \"size\": [1], \"sizemode\": \"area\", \"sizeref\": 0.02, \"symbol\": \"circle\"}, \"mode\": \"markers\", \"name\": \"Sander Berge\", \"showlegend\": true, \"type\": \"scatter\", \"x\": [0.39924660325050354], \"xaxis\": \"x\", \"y\": [0.6007533967494965], \"yaxis\": \"y\"}],\n",
       "                        {\"legend\": {\"itemsizing\": \"constant\", \"title\": {\"text\": \"player_name\"}, \"tracegroupgap\": 0}, \"template\": {\"data\": {\"bar\": [{\"error_x\": {\"color\": \"#2a3f5f\"}, \"error_y\": {\"color\": \"#2a3f5f\"}, \"marker\": {\"line\": {\"color\": \"#E5ECF6\", \"width\": 0.5}}, \"type\": \"bar\"}], \"barpolar\": [{\"marker\": {\"line\": {\"color\": \"#E5ECF6\", \"width\": 0.5}}, \"type\": \"barpolar\"}], \"carpet\": [{\"aaxis\": {\"endlinecolor\": \"#2a3f5f\", \"gridcolor\": \"white\", \"linecolor\": \"white\", \"minorgridcolor\": \"white\", \"startlinecolor\": \"#2a3f5f\"}, \"baxis\": {\"endlinecolor\": \"#2a3f5f\", \"gridcolor\": \"white\", \"linecolor\": \"white\", \"minorgridcolor\": \"white\", \"startlinecolor\": \"#2a3f5f\"}, \"type\": \"carpet\"}], \"choropleth\": [{\"colorbar\": {\"outlinewidth\": 0, \"ticks\": \"\"}, \"type\": \"choropleth\"}], \"contour\": [{\"colorbar\": {\"outlinewidth\": 0, \"ticks\": \"\"}, \"colorscale\": [[0.0, \"#0d0887\"], [0.1111111111111111, \"#46039f\"], [0.2222222222222222, \"#7201a8\"], [0.3333333333333333, \"#9c179e\"], [0.4444444444444444, \"#bd3786\"], [0.5555555555555556, \"#d8576b\"], [0.6666666666666666, \"#ed7953\"], [0.7777777777777778, \"#fb9f3a\"], [0.8888888888888888, \"#fdca26\"], [1.0, \"#f0f921\"]], \"type\": \"contour\"}], \"contourcarpet\": [{\"colorbar\": {\"outlinewidth\": 0, \"ticks\": \"\"}, \"type\": \"contourcarpet\"}], \"heatmap\": [{\"colorbar\": {\"outlinewidth\": 0, \"ticks\": \"\"}, \"colorscale\": [[0.0, \"#0d0887\"], [0.1111111111111111, \"#46039f\"], [0.2222222222222222, \"#7201a8\"], [0.3333333333333333, \"#9c179e\"], [0.4444444444444444, \"#bd3786\"], [0.5555555555555556, \"#d8576b\"], [0.6666666666666666, \"#ed7953\"], [0.7777777777777778, \"#fb9f3a\"], [0.8888888888888888, \"#fdca26\"], [1.0, \"#f0f921\"]], \"type\": \"heatmap\"}], \"heatmapgl\": [{\"colorbar\": {\"outlinewidth\": 0, \"ticks\": \"\"}, \"colorscale\": [[0.0, \"#0d0887\"], [0.1111111111111111, \"#46039f\"], [0.2222222222222222, \"#7201a8\"], [0.3333333333333333, \"#9c179e\"], [0.4444444444444444, \"#bd3786\"], [0.5555555555555556, \"#d8576b\"], [0.6666666666666666, \"#ed7953\"], [0.7777777777777778, \"#fb9f3a\"], [0.8888888888888888, \"#fdca26\"], [1.0, \"#f0f921\"]], \"type\": \"heatmapgl\"}], \"histogram\": [{\"marker\": {\"colorbar\": {\"outlinewidth\": 0, \"ticks\": \"\"}}, \"type\": \"histogram\"}], \"histogram2d\": [{\"colorbar\": {\"outlinewidth\": 0, \"ticks\": \"\"}, \"colorscale\": [[0.0, \"#0d0887\"], [0.1111111111111111, \"#46039f\"], [0.2222222222222222, \"#7201a8\"], [0.3333333333333333, \"#9c179e\"], [0.4444444444444444, \"#bd3786\"], [0.5555555555555556, \"#d8576b\"], [0.6666666666666666, \"#ed7953\"], [0.7777777777777778, \"#fb9f3a\"], [0.8888888888888888, \"#fdca26\"], [1.0, \"#f0f921\"]], \"type\": \"histogram2d\"}], \"histogram2dcontour\": [{\"colorbar\": {\"outlinewidth\": 0, \"ticks\": \"\"}, \"colorscale\": [[0.0, \"#0d0887\"], [0.1111111111111111, \"#46039f\"], [0.2222222222222222, \"#7201a8\"], [0.3333333333333333, \"#9c179e\"], [0.4444444444444444, \"#bd3786\"], [0.5555555555555556, \"#d8576b\"], [0.6666666666666666, \"#ed7953\"], [0.7777777777777778, \"#fb9f3a\"], [0.8888888888888888, \"#fdca26\"], [1.0, \"#f0f921\"]], \"type\": \"histogram2dcontour\"}], \"mesh3d\": [{\"colorbar\": {\"outlinewidth\": 0, \"ticks\": \"\"}, \"type\": \"mesh3d\"}], \"parcoords\": [{\"line\": {\"colorbar\": {\"outlinewidth\": 0, \"ticks\": \"\"}}, \"type\": \"parcoords\"}], \"pie\": [{\"automargin\": true, \"type\": \"pie\"}], \"scatter\": [{\"marker\": {\"colorbar\": {\"outlinewidth\": 0, \"ticks\": \"\"}}, \"type\": \"scatter\"}], \"scatter3d\": [{\"line\": {\"colorbar\": {\"outlinewidth\": 0, \"ticks\": \"\"}}, \"marker\": {\"colorbar\": {\"outlinewidth\": 0, \"ticks\": \"\"}}, \"type\": \"scatter3d\"}], \"scattercarpet\": [{\"marker\": {\"colorbar\": {\"outlinewidth\": 0, \"ticks\": \"\"}}, \"type\": \"scattercarpet\"}], \"scattergeo\": [{\"marker\": {\"colorbar\": {\"outlinewidth\": 0, \"ticks\": \"\"}}, \"type\": \"scattergeo\"}], \"scattergl\": [{\"marker\": {\"colorbar\": {\"outlinewidth\": 0, \"ticks\": \"\"}}, \"type\": \"scattergl\"}], \"scattermapbox\": [{\"marker\": {\"colorbar\": {\"outlinewidth\": 0, \"ticks\": \"\"}}, \"type\": \"scattermapbox\"}], \"scatterpolar\": [{\"marker\": {\"colorbar\": {\"outlinewidth\": 0, \"ticks\": \"\"}}, \"type\": \"scatterpolar\"}], \"scatterpolargl\": [{\"marker\": {\"colorbar\": {\"outlinewidth\": 0, \"ticks\": \"\"}}, \"type\": \"scatterpolargl\"}], \"scatterternary\": [{\"marker\": {\"colorbar\": {\"outlinewidth\": 0, \"ticks\": \"\"}}, \"type\": \"scatterternary\"}], \"surface\": [{\"colorbar\": {\"outlinewidth\": 0, \"ticks\": \"\"}, \"colorscale\": [[0.0, \"#0d0887\"], [0.1111111111111111, \"#46039f\"], [0.2222222222222222, \"#7201a8\"], [0.3333333333333333, \"#9c179e\"], [0.4444444444444444, \"#bd3786\"], [0.5555555555555556, \"#d8576b\"], [0.6666666666666666, \"#ed7953\"], [0.7777777777777778, \"#fb9f3a\"], [0.8888888888888888, \"#fdca26\"], [1.0, \"#f0f921\"]], \"type\": \"surface\"}], \"table\": [{\"cells\": {\"fill\": {\"color\": \"#EBF0F8\"}, \"line\": {\"color\": \"white\"}}, \"header\": {\"fill\": {\"color\": \"#C8D4E3\"}, \"line\": {\"color\": \"white\"}}, \"type\": \"table\"}]}, \"layout\": {\"annotationdefaults\": {\"arrowcolor\": \"#2a3f5f\", \"arrowhead\": 0, \"arrowwidth\": 1}, \"coloraxis\": {\"colorbar\": {\"outlinewidth\": 0, \"ticks\": \"\"}}, \"colorscale\": {\"diverging\": [[0, \"#8e0152\"], [0.1, \"#c51b7d\"], [0.2, \"#de77ae\"], [0.3, \"#f1b6da\"], [0.4, \"#fde0ef\"], [0.5, \"#f7f7f7\"], [0.6, \"#e6f5d0\"], [0.7, \"#b8e186\"], [0.8, \"#7fbc41\"], [0.9, \"#4d9221\"], [1, \"#276419\"]], \"sequential\": [[0.0, \"#0d0887\"], [0.1111111111111111, \"#46039f\"], [0.2222222222222222, \"#7201a8\"], [0.3333333333333333, \"#9c179e\"], [0.4444444444444444, \"#bd3786\"], [0.5555555555555556, \"#d8576b\"], [0.6666666666666666, \"#ed7953\"], [0.7777777777777778, \"#fb9f3a\"], [0.8888888888888888, \"#fdca26\"], [1.0, \"#f0f921\"]], \"sequentialminus\": [[0.0, \"#0d0887\"], [0.1111111111111111, \"#46039f\"], [0.2222222222222222, \"#7201a8\"], [0.3333333333333333, \"#9c179e\"], [0.4444444444444444, \"#bd3786\"], [0.5555555555555556, \"#d8576b\"], [0.6666666666666666, \"#ed7953\"], [0.7777777777777778, \"#fb9f3a\"], [0.8888888888888888, \"#fdca26\"], [1.0, \"#f0f921\"]]}, \"colorway\": [\"#636efa\", \"#EF553B\", \"#00cc96\", \"#ab63fa\", \"#FFA15A\", \"#19d3f3\", \"#FF6692\", \"#B6E880\", \"#FF97FF\", \"#FECB52\"], \"font\": {\"color\": \"#2a3f5f\"}, \"geo\": {\"bgcolor\": \"white\", \"lakecolor\": \"white\", \"landcolor\": \"#E5ECF6\", \"showlakes\": true, \"showland\": true, \"subunitcolor\": \"white\"}, \"hoverlabel\": {\"align\": \"left\"}, \"hovermode\": \"closest\", \"mapbox\": {\"style\": \"light\"}, \"paper_bgcolor\": \"white\", \"plot_bgcolor\": \"#E5ECF6\", \"polar\": {\"angularaxis\": {\"gridcolor\": \"white\", \"linecolor\": \"white\", \"ticks\": \"\"}, \"bgcolor\": \"#E5ECF6\", \"radialaxis\": {\"gridcolor\": \"white\", \"linecolor\": \"white\", \"ticks\": \"\"}}, \"scene\": {\"xaxis\": {\"backgroundcolor\": \"#E5ECF6\", \"gridcolor\": \"white\", \"gridwidth\": 2, \"linecolor\": \"white\", \"showbackground\": true, \"ticks\": \"\", \"zerolinecolor\": \"white\"}, \"yaxis\": {\"backgroundcolor\": \"#E5ECF6\", \"gridcolor\": \"white\", \"gridwidth\": 2, \"linecolor\": \"white\", \"showbackground\": true, \"ticks\": \"\", \"zerolinecolor\": \"white\"}, \"zaxis\": {\"backgroundcolor\": \"#E5ECF6\", \"gridcolor\": \"white\", \"gridwidth\": 2, \"linecolor\": \"white\", \"showbackground\": true, \"ticks\": \"\", \"zerolinecolor\": \"white\"}}, \"shapedefaults\": {\"line\": {\"color\": \"#2a3f5f\"}}, \"ternary\": {\"aaxis\": {\"gridcolor\": \"white\", \"linecolor\": \"white\", \"ticks\": \"\"}, \"baxis\": {\"gridcolor\": \"white\", \"linecolor\": \"white\", \"ticks\": \"\"}, \"bgcolor\": \"#E5ECF6\", \"caxis\": {\"gridcolor\": \"white\", \"linecolor\": \"white\", \"ticks\": \"\"}}, \"title\": {\"x\": 0.05}, \"xaxis\": {\"automargin\": true, \"gridcolor\": \"white\", \"linecolor\": \"white\", \"ticks\": \"\", \"title\": {\"standoff\": 15}, \"zerolinecolor\": \"white\", \"zerolinewidth\": 2}, \"yaxis\": {\"automargin\": true, \"gridcolor\": \"white\", \"linecolor\": \"white\", \"ticks\": \"\", \"title\": {\"standoff\": 15}, \"zerolinecolor\": \"white\", \"zerolinewidth\": 2}}}, \"title\": {\"text\": \"xG vs Goals PL MIDs\"}, \"xaxis\": {\"anchor\": \"y\", \"domain\": [0.0, 1.0], \"title\": {\"text\": \"Goal and XG Difference\"}}, \"yaxis\": {\"anchor\": \"x\", \"domain\": [0.0, 1.0], \"title\": {\"text\": \"xG\"}}},\n",
       "                        {\"responsive\": true}\n",
       "                    ).then(function(){\n",
       "                            \n",
       "var gd = document.getElementById('ec64ee9f-536d-4827-be12-681e86d9115d');\n",
       "var x = new MutationObserver(function (mutations, observer) {{\n",
       "        var display = window.getComputedStyle(gd).display;\n",
       "        if (!display || display === 'none') {{\n",
       "            console.log([gd, 'removed!']);\n",
       "            Plotly.purge(gd);\n",
       "            observer.disconnect();\n",
       "        }}\n",
       "}});\n",
       "\n",
       "// Listen for the removal of the full notebook cells\n",
       "var notebookContainer = gd.closest('#notebook-container');\n",
       "if (notebookContainer) {{\n",
       "    x.observe(notebookContainer, {childList: true});\n",
       "}}\n",
       "\n",
       "// Listen for the clearing of the current output cell\n",
       "var outputEl = gd.closest('.output');\n",
       "if (outputEl) {{\n",
       "    x.observe(outputEl, {childList: true});\n",
       "}}\n",
       "\n",
       "                        })\n",
       "                };\n",
       "                });\n",
       "            </script>\n",
       "        </div>"
      ]
     },
     "metadata": {},
     "output_type": "display_data"
    }
   ],
   "source": [
    "midStats2['Goal and XG Difference'] = midStats2['goals'] - midStats2['xG']\n",
    "fig = px.scatter(midStats2[midStats2['goals']>=1], x=\"Goal and XG Difference\", y=\"xG\", color=\"player_name\", size = 'goals', hover_name=\"player_name\",\n",
    "                title = 'xG vs Goals PL MIDs')\n",
    "fig.show()"
   ]
  },
  {
   "cell_type": "code",
   "execution_count": null,
   "metadata": {},
   "outputs": [],
   "source": []
  }
 ],
 "metadata": {
  "kernelspec": {
   "display_name": "Python 3",
   "language": "python",
   "name": "python3"
  },
  "language_info": {
   "codemirror_mode": {
    "name": "ipython",
    "version": 3
   },
   "file_extension": ".py",
   "mimetype": "text/x-python",
   "name": "python",
   "nbconvert_exporter": "python",
   "pygments_lexer": "ipython3",
   "version": "3.7.3"
  }
 },
 "nbformat": 4,
 "nbformat_minor": 2
}
